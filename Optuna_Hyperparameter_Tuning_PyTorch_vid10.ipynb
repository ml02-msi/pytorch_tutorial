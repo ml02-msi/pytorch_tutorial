{
 "cells": [
  {
   "metadata": {},
   "cell_type": "markdown",
   "source": "# OPTUNA IN MACHINE LEARNING",
   "id": "48d553bc1f3381f6"
  },
  {
   "metadata": {},
   "cell_type": "markdown",
   "source": [
    "#### Terms in Optuna\n",
    "\n",
    "1. Study: A Study in Optuna is an optimization session that encompasses multiple trails. Essential objective is to optimize the objective fnc; i.e. the training and  finding the best hyperparameters are called as study in term's of Optuna's language.\n",
    "2. Trial: A trial is a single iteration of the optimization process where a specific set of hyperparameters is evaluated. Each trial runs the obj func once with a distinct set of hyperparameters.\n",
    "3. Trial Parameters: Specific hyperparameters values chosen during a trial. Each trial will have a unique combination of hyperparameters that are evaluated to see how they impact the objective function. E.g. - Different different learning rates, batch_sizes during each trial.\n",
    "4. Objective Function: The fnc to be optimized(minimized or maximized) during the hyperparameter search. It takes hyperparameters as input and return a value (eg accuracy, loss, etc) that Optuna tries to optimize. E.g. - In a classification tack, the obj fnc could be the cross-entropy loss which Optuna seeks to optimize.\n",
    "5. Sampler: A sampler is the algorithm that suggests which hyperparameters should be evaluated next. Optuna uses the Tree-structured Parzen Estimator(TPE) by default(TPE uses Bayesian Optimization), but can also support other sampling like Random Sampling or even Custom Sampling,"
   ],
   "id": "2e8b682896ddee0d"
  },
  {
   "metadata": {
    "ExecuteTime": {
     "end_time": "2025-07-01T14:55:08.485673Z",
     "start_time": "2025-07-01T14:55:08.482775Z"
    }
   },
   "cell_type": "code",
   "source": "# !uv pip install optuna",
   "id": "ddaf11ac6ab742ec",
   "outputs": [],
   "execution_count": 11
  },
  {
   "metadata": {
    "ExecuteTime": {
     "end_time": "2025-07-02T12:39:26.076688Z",
     "start_time": "2025-07-02T12:39:24.886278Z"
    }
   },
   "cell_type": "code",
   "source": [
    "import optuna\n",
    "from sklearn.datasets import load_diabetes\n",
    "from sklearn.model_selection import train_test_split\n",
    "from sklearn.preprocessing import StandardScaler\n",
    "import pandas as pd\n",
    "\n",
    "url = \"https://raw.githubusercontent.com/jbrownlee/Datasets/master/pima-indians-diabetes.data.csv\"\n",
    "columns = ['Pregnancies', 'Glucose', 'BloodPressure', 'SkinThickness', 'Insulin', 'BMI',\n",
    "           'DiabetesPedigreeFunction', 'Age', 'Outcome']\n",
    "\n",
    "df = pd.read_csv(url, names=columns)\n",
    "df.head()"
   ],
   "id": "c96781a51f2fe5dd",
   "outputs": [
    {
     "data": {
      "text/plain": [
       "   Pregnancies  Glucose  BloodPressure  SkinThickness  Insulin   BMI  \\\n",
       "0            6      148             72             35        0  33.6   \n",
       "1            1       85             66             29        0  26.6   \n",
       "2            8      183             64              0        0  23.3   \n",
       "3            1       89             66             23       94  28.1   \n",
       "4            0      137             40             35      168  43.1   \n",
       "\n",
       "   DiabetesPedigreeFunction  Age  Outcome  \n",
       "0                     0.627   50        1  \n",
       "1                     0.351   31        0  \n",
       "2                     0.672   32        1  \n",
       "3                     0.167   21        0  \n",
       "4                     2.288   33        1  "
      ],
      "text/html": [
       "<div>\n",
       "<style scoped>\n",
       "    .dataframe tbody tr th:only-of-type {\n",
       "        vertical-align: middle;\n",
       "    }\n",
       "\n",
       "    .dataframe tbody tr th {\n",
       "        vertical-align: top;\n",
       "    }\n",
       "\n",
       "    .dataframe thead th {\n",
       "        text-align: right;\n",
       "    }\n",
       "</style>\n",
       "<table border=\"1\" class=\"dataframe\">\n",
       "  <thead>\n",
       "    <tr style=\"text-align: right;\">\n",
       "      <th></th>\n",
       "      <th>Pregnancies</th>\n",
       "      <th>Glucose</th>\n",
       "      <th>BloodPressure</th>\n",
       "      <th>SkinThickness</th>\n",
       "      <th>Insulin</th>\n",
       "      <th>BMI</th>\n",
       "      <th>DiabetesPedigreeFunction</th>\n",
       "      <th>Age</th>\n",
       "      <th>Outcome</th>\n",
       "    </tr>\n",
       "  </thead>\n",
       "  <tbody>\n",
       "    <tr>\n",
       "      <th>0</th>\n",
       "      <td>6</td>\n",
       "      <td>148</td>\n",
       "      <td>72</td>\n",
       "      <td>35</td>\n",
       "      <td>0</td>\n",
       "      <td>33.6</td>\n",
       "      <td>0.627</td>\n",
       "      <td>50</td>\n",
       "      <td>1</td>\n",
       "    </tr>\n",
       "    <tr>\n",
       "      <th>1</th>\n",
       "      <td>1</td>\n",
       "      <td>85</td>\n",
       "      <td>66</td>\n",
       "      <td>29</td>\n",
       "      <td>0</td>\n",
       "      <td>26.6</td>\n",
       "      <td>0.351</td>\n",
       "      <td>31</td>\n",
       "      <td>0</td>\n",
       "    </tr>\n",
       "    <tr>\n",
       "      <th>2</th>\n",
       "      <td>8</td>\n",
       "      <td>183</td>\n",
       "      <td>64</td>\n",
       "      <td>0</td>\n",
       "      <td>0</td>\n",
       "      <td>23.3</td>\n",
       "      <td>0.672</td>\n",
       "      <td>32</td>\n",
       "      <td>1</td>\n",
       "    </tr>\n",
       "    <tr>\n",
       "      <th>3</th>\n",
       "      <td>1</td>\n",
       "      <td>89</td>\n",
       "      <td>66</td>\n",
       "      <td>23</td>\n",
       "      <td>94</td>\n",
       "      <td>28.1</td>\n",
       "      <td>0.167</td>\n",
       "      <td>21</td>\n",
       "      <td>0</td>\n",
       "    </tr>\n",
       "    <tr>\n",
       "      <th>4</th>\n",
       "      <td>0</td>\n",
       "      <td>137</td>\n",
       "      <td>40</td>\n",
       "      <td>35</td>\n",
       "      <td>168</td>\n",
       "      <td>43.1</td>\n",
       "      <td>2.288</td>\n",
       "      <td>33</td>\n",
       "      <td>1</td>\n",
       "    </tr>\n",
       "  </tbody>\n",
       "</table>\n",
       "</div>"
      ]
     },
     "execution_count": 1,
     "metadata": {},
     "output_type": "execute_result"
    }
   ],
   "execution_count": 1
  },
  {
   "metadata": {
    "ExecuteTime": {
     "end_time": "2025-07-02T12:39:26.125458Z",
     "start_time": "2025-07-02T12:39:26.116585Z"
    }
   },
   "cell_type": "code",
   "source": [
    "import numpy as np\n",
    "\n",
    "# Missing Value Imputation\n",
    "cols_with_missing_vals = ['Glucose', 'BloodPressure', 'SkinThickness', 'Insulin', 'BMI']\n",
    "df[cols_with_missing_vals] = df[cols_with_missing_vals].replace(0,np.nan)\n",
    "\n",
    "df.fillna(df.mean(), inplace=True)\n",
    "print(df.isnull().sum())"
   ],
   "id": "c7c105d30ba6dab4",
   "outputs": [
    {
     "name": "stdout",
     "output_type": "stream",
     "text": [
      "Pregnancies                 0\n",
      "Glucose                     0\n",
      "BloodPressure               0\n",
      "SkinThickness               0\n",
      "Insulin                     0\n",
      "BMI                         0\n",
      "DiabetesPedigreeFunction    0\n",
      "Age                         0\n",
      "Outcome                     0\n",
      "dtype: int64\n"
     ]
    }
   ],
   "execution_count": 2
  },
  {
   "metadata": {
    "ExecuteTime": {
     "end_time": "2025-07-02T12:39:27.906256Z",
     "start_time": "2025-07-02T12:39:27.897821Z"
    }
   },
   "cell_type": "code",
   "source": [
    "X = df.drop('Outcome', axis=1)\n",
    "y = df['Outcome']\n",
    "\n",
    "X_train, X_test, y_train, y_test = train_test_split(X,y,test_size=0.3, random_state=42)\n",
    "\n",
    "# Optional Scaling\n",
    "scalar = StandardScaler()\n",
    "X_train = scalar.fit_transform(X_train)\n",
    "X_test = scalar.transform(X_test)\n",
    "\n",
    "print(f'Training set shape: {X_train.shape}')\n",
    "print(f'Test set shape: {X_test.shape}')"
   ],
   "id": "adae445ce3e8d8c7",
   "outputs": [
    {
     "name": "stdout",
     "output_type": "stream",
     "text": [
      "Training set shape: (537, 8)\n",
      "Test set shape: (231, 8)\n"
     ]
    }
   ],
   "execution_count": 3
  },
  {
   "metadata": {
    "ExecuteTime": {
     "end_time": "2025-07-02T12:39:31.853978Z",
     "start_time": "2025-07-02T12:39:31.850955Z"
    }
   },
   "cell_type": "code",
   "source": [
    "# Now we will define an objective function for the workflow of optuna\n",
    "\n",
    "from sklearn.model_selection import cross_val_score\n",
    "from sklearn.ensemble import RandomForestClassifier\n",
    "from sklearn.datasets import make_classification\n",
    "# Define the objective fnc\n",
    "\n",
    "def objective(trial):\n",
    "    # Suggest values of the hyperparameters\n",
    "    n_estimators = trial.suggest_int('n_estimators', 50, 200)\n",
    "    max_depth = trial.suggest_int('max_depth', 3, 20)\n",
    "    # Here the search space will be in the Range [50,200] for n_estimators\n",
    "    # and range of [3,20] for max_depth\n",
    "\n",
    "    # Create the RandomForestClassifier with suggested hyperparameters\n",
    "    model = RandomForestClassifier(\n",
    "        n_estimators=n_estimators,\n",
    "        max_depth=max_depth,\n",
    "        random_state=42\n",
    "    )\n",
    "    # Perform 3-fold cross-validation and calculate accuracy\n",
    "    score = cross_val_score(model, X_train, y_train, cv=3, scoring='accuracy').mean()\n",
    "    return score"
   ],
   "id": "c0dc85254e775973",
   "outputs": [],
   "execution_count": 5
  },
  {
   "metadata": {
    "ExecuteTime": {
     "end_time": "2025-07-02T12:40:04.757660Z",
     "start_time": "2025-07-02T12:39:34.174367Z"
    }
   },
   "cell_type": "code",
   "source": [
    "# Create a study object and optimize the objective function\n",
    "study = optuna.create_study(direction='maximize', sampler=optuna.samplers.TPESampler())\n",
    "# As we are trying to 'Maximize' our accuracy so our direction of the objective function will be to maximize it\n",
    "study.optimize(objective, n_trials=100) # Running 50 trials to find the optimal hyperparameters\n",
    "\n",
    "# Print the best result\n",
    "print(f'Best trial accuracy: {study.best_trial.value}')\n",
    "print(f'Best trial Hyperparameters: {study.best_trial.params}')\n",
    "\n",
    "from sklearn.metrics import accuracy_score\n",
    "\n",
    "# Train a RandomForestClassifier using the best hyperparameters from Optuna\n",
    "best_model = RandomForestClassifier(**study.best_trial.params, random_state=42)\n",
    "\n",
    "best_model.fit(X_train, y_train)\n",
    "\n",
    "y_pred = best_model.predict(X_test)\n",
    "\n",
    "test_accuracy = accuracy_score(y_test, y_pred)\n",
    "\n",
    "print(f'Test accuracy ith best hyperparameters: {test_accuracy:.2f}')"
   ],
   "id": "49d09e4ef0554a00",
   "outputs": [
    {
     "name": "stderr",
     "output_type": "stream",
     "text": [
      "[I 2025-07-02 18:09:34,177] A new study created in memory with name: no-name-ff348ff6-4448-4c70-8572-50bcfebb1d4f\n",
      "[I 2025-07-02 18:09:34,487] Trial 0 finished with value: 0.7783985102420856 and parameters: {'n_estimators': 106, 'max_depth': 18}. Best is trial 0 with value: 0.7783985102420856.\n",
      "[I 2025-07-02 18:09:34,709] Trial 1 finished with value: 0.7690875232774674 and parameters: {'n_estimators': 59, 'max_depth': 13}. Best is trial 0 with value: 0.7783985102420856.\n",
      "[I 2025-07-02 18:09:35,257] Trial 2 finished with value: 0.756052141527002 and parameters: {'n_estimators': 173, 'max_depth': 4}. Best is trial 0 with value: 0.7783985102420856.\n",
      "[I 2025-07-02 18:09:35,666] Trial 3 finished with value: 0.7653631284916201 and parameters: {'n_estimators': 130, 'max_depth': 11}. Best is trial 0 with value: 0.7783985102420856.\n",
      "[I 2025-07-02 18:09:36,264] Trial 4 finished with value: 0.7709497206703911 and parameters: {'n_estimators': 200, 'max_depth': 10}. Best is trial 0 with value: 0.7783985102420856.\n",
      "[I 2025-07-02 18:09:36,613] Trial 5 finished with value: 0.7653631284916201 and parameters: {'n_estimators': 102, 'max_depth': 11}. Best is trial 0 with value: 0.7783985102420856.\n",
      "[I 2025-07-02 18:09:37,068] Trial 6 finished with value: 0.7597765363128491 and parameters: {'n_estimators': 148, 'max_depth': 6}. Best is trial 0 with value: 0.7783985102420856.\n",
      "[I 2025-07-02 18:09:37,541] Trial 7 finished with value: 0.7690875232774674 and parameters: {'n_estimators': 156, 'max_depth': 15}. Best is trial 0 with value: 0.7783985102420856.\n",
      "[I 2025-07-02 18:09:38,147] Trial 8 finished with value: 0.7765363128491621 and parameters: {'n_estimators': 169, 'max_depth': 12}. Best is trial 0 with value: 0.7783985102420856.\n",
      "[I 2025-07-02 18:09:38,474] Trial 9 finished with value: 0.7597765363128491 and parameters: {'n_estimators': 111, 'max_depth': 3}. Best is trial 0 with value: 0.7783985102420856.\n",
      "[I 2025-07-02 18:09:38,730] Trial 10 finished with value: 0.7783985102420857 and parameters: {'n_estimators': 71, 'max_depth': 19}. Best is trial 10 with value: 0.7783985102420857.\n",
      "[I 2025-07-02 18:09:38,986] Trial 11 finished with value: 0.7765363128491621 and parameters: {'n_estimators': 70, 'max_depth': 20}. Best is trial 10 with value: 0.7783985102420857.\n",
      "[I 2025-07-02 18:09:39,286] Trial 12 finished with value: 0.7653631284916201 and parameters: {'n_estimators': 82, 'max_depth': 20}. Best is trial 10 with value: 0.7783985102420857.\n",
      "[I 2025-07-02 18:09:39,624] Trial 13 finished with value: 0.7746741154562384 and parameters: {'n_estimators': 91, 'max_depth': 17}. Best is trial 10 with value: 0.7783985102420857.\n",
      "[I 2025-07-02 18:09:40,029] Trial 14 finished with value: 0.7783985102420856 and parameters: {'n_estimators': 119, 'max_depth': 17}. Best is trial 10 with value: 0.7783985102420857.\n",
      "[I 2025-07-02 18:09:40,184] Trial 15 finished with value: 0.7728119180633147 and parameters: {'n_estimators': 52, 'max_depth': 18}. Best is trial 10 with value: 0.7783985102420857.\n",
      "[I 2025-07-02 18:09:40,427] Trial 16 finished with value: 0.7709497206703911 and parameters: {'n_estimators': 81, 'max_depth': 15}. Best is trial 10 with value: 0.7783985102420857.\n",
      "[I 2025-07-02 18:09:40,844] Trial 17 finished with value: 0.7690875232774674 and parameters: {'n_estimators': 131, 'max_depth': 8}. Best is trial 10 with value: 0.7783985102420857.\n",
      "[I 2025-07-02 18:09:41,211] Trial 18 finished with value: 0.7672253258845437 and parameters: {'n_estimators': 99, 'max_depth': 15}. Best is trial 10 with value: 0.7783985102420857.\n",
      "[I 2025-07-02 18:09:41,441] Trial 19 finished with value: 0.7783985102420857 and parameters: {'n_estimators': 67, 'max_depth': 18}. Best is trial 10 with value: 0.7783985102420857.\n",
      "[I 2025-07-02 18:09:41,697] Trial 20 finished with value: 0.7783985102420857 and parameters: {'n_estimators': 72, 'max_depth': 20}. Best is trial 10 with value: 0.7783985102420857.\n",
      "[I 2025-07-02 18:09:41,991] Trial 21 finished with value: 0.7746741154562384 and parameters: {'n_estimators': 68, 'max_depth': 20}. Best is trial 10 with value: 0.7783985102420857.\n",
      "[I 2025-07-02 18:09:42,152] Trial 22 finished with value: 0.7709497206703911 and parameters: {'n_estimators': 50, 'max_depth': 18}. Best is trial 10 with value: 0.7783985102420857.\n",
      "[I 2025-07-02 18:09:42,419] Trial 23 finished with value: 0.7746741154562384 and parameters: {'n_estimators': 71, 'max_depth': 16}. Best is trial 10 with value: 0.7783985102420857.\n",
      "[I 2025-07-02 18:09:42,709] Trial 24 finished with value: 0.7709497206703911 and parameters: {'n_estimators': 81, 'max_depth': 19}. Best is trial 10 with value: 0.7783985102420857.\n",
      "[I 2025-07-02 18:09:42,937] Trial 25 finished with value: 0.7709497206703911 and parameters: {'n_estimators': 63, 'max_depth': 14}. Best is trial 10 with value: 0.7783985102420857.\n",
      "[I 2025-07-02 18:09:43,278] Trial 26 finished with value: 0.7746741154562384 and parameters: {'n_estimators': 91, 'max_depth': 19}. Best is trial 10 with value: 0.7783985102420857.\n",
      "[I 2025-07-02 18:09:43,574] Trial 27 finished with value: 0.7653631284916201 and parameters: {'n_estimators': 78, 'max_depth': 17}. Best is trial 10 with value: 0.7783985102420857.\n",
      "[I 2025-07-02 18:09:43,921] Trial 28 finished with value: 0.7746741154562384 and parameters: {'n_estimators': 89, 'max_depth': 19}. Best is trial 10 with value: 0.7783985102420857.\n",
      "[I 2025-07-02 18:09:44,263] Trial 29 finished with value: 0.7765363128491621 and parameters: {'n_estimators': 111, 'max_depth': 18}. Best is trial 10 with value: 0.7783985102420857.\n",
      "[I 2025-07-02 18:09:44,440] Trial 30 finished with value: 0.7653631284916201 and parameters: {'n_estimators': 60, 'max_depth': 16}. Best is trial 10 with value: 0.7783985102420857.\n",
      "[I 2025-07-02 18:09:44,617] Trial 31 finished with value: 0.7690875232774674 and parameters: {'n_estimators': 58, 'max_depth': 20}. Best is trial 10 with value: 0.7783985102420857.\n",
      "[I 2025-07-02 18:09:44,945] Trial 32 finished with value: 0.7672253258845437 and parameters: {'n_estimators': 97, 'max_depth': 13}. Best is trial 10 with value: 0.7783985102420857.\n",
      "[I 2025-07-02 18:09:45,181] Trial 33 finished with value: 0.7839851024208566 and parameters: {'n_estimators': 73, 'max_depth': 18}. Best is trial 33 with value: 0.7839851024208566.\n",
      "[I 2025-07-02 18:09:45,407] Trial 34 finished with value: 0.7783985102420857 and parameters: {'n_estimators': 72, 'max_depth': 19}. Best is trial 33 with value: 0.7839851024208566.\n",
      "[I 2025-07-02 18:09:45,595] Trial 35 finished with value: 0.7653631284916201 and parameters: {'n_estimators': 60, 'max_depth': 16}. Best is trial 33 with value: 0.7839851024208566.\n",
      "[I 2025-07-02 18:09:45,845] Trial 36 finished with value: 0.7746741154562384 and parameters: {'n_estimators': 77, 'max_depth': 17}. Best is trial 33 with value: 0.7839851024208566.\n",
      "[I 2025-07-02 18:09:46,524] Trial 37 finished with value: 0.7765363128491619 and parameters: {'n_estimators': 198, 'max_depth': 18}. Best is trial 33 with value: 0.7839851024208566.\n",
      "[I 2025-07-02 18:09:46,833] Trial 38 finished with value: 0.7709497206703911 and parameters: {'n_estimators': 90, 'max_depth': 14}. Best is trial 33 with value: 0.7839851024208566.\n",
      "[I 2025-07-02 18:09:47,370] Trial 39 finished with value: 0.7690875232774674 and parameters: {'n_estimators': 138, 'max_depth': 8}. Best is trial 33 with value: 0.7839851024208566.\n",
      "[I 2025-07-02 18:09:47,587] Trial 40 finished with value: 0.7783985102420857 and parameters: {'n_estimators': 65, 'max_depth': 19}. Best is trial 33 with value: 0.7839851024208566.\n",
      "[I 2025-07-02 18:09:47,850] Trial 41 finished with value: 0.7783985102420857 and parameters: {'n_estimators': 71, 'max_depth': 19}. Best is trial 33 with value: 0.7839851024208566.\n",
      "[I 2025-07-02 18:09:48,129] Trial 42 finished with value: 0.7783985102420857 and parameters: {'n_estimators': 75, 'max_depth': 20}. Best is trial 33 with value: 0.7839851024208566.\n",
      "[I 2025-07-02 18:09:48,338] Trial 43 finished with value: 0.7690875232774674 and parameters: {'n_estimators': 56, 'max_depth': 18}. Best is trial 33 with value: 0.7839851024208566.\n",
      "[I 2025-07-02 18:09:48,677] Trial 44 finished with value: 0.7728119180633147 and parameters: {'n_estimators': 105, 'max_depth': 19}. Best is trial 33 with value: 0.7839851024208566.\n",
      "[I 2025-07-02 18:09:48,876] Trial 45 finished with value: 0.7783985102420857 and parameters: {'n_estimators': 67, 'max_depth': 17}. Best is trial 33 with value: 0.7839851024208566.\n",
      "[I 2025-07-02 18:09:49,149] Trial 46 finished with value: 0.7690875232774674 and parameters: {'n_estimators': 85, 'max_depth': 20}. Best is trial 33 with value: 0.7839851024208566.\n",
      "[I 2025-07-02 18:09:49,414] Trial 47 finished with value: 0.7597765363128492 and parameters: {'n_estimators': 95, 'max_depth': 10}. Best is trial 33 with value: 0.7839851024208566.\n",
      "[I 2025-07-02 18:09:49,639] Trial 48 finished with value: 0.7765363128491621 and parameters: {'n_estimators': 74, 'max_depth': 19}. Best is trial 33 with value: 0.7839851024208566.\n",
      "[I 2025-07-02 18:09:50,043] Trial 49 finished with value: 0.7802607076350093 and parameters: {'n_estimators': 115, 'max_depth': 16}. Best is trial 33 with value: 0.7839851024208566.\n",
      "[I 2025-07-02 18:09:50,825] Trial 50 finished with value: 0.7746741154562384 and parameters: {'n_estimators': 156, 'max_depth': 16}. Best is trial 33 with value: 0.7839851024208566.\n",
      "[I 2025-07-02 18:09:51,207] Trial 51 finished with value: 0.7765363128491621 and parameters: {'n_estimators': 120, 'max_depth': 18}. Best is trial 33 with value: 0.7839851024208566.\n",
      "[I 2025-07-02 18:09:51,865] Trial 52 finished with value: 0.7765363128491619 and parameters: {'n_estimators': 171, 'max_depth': 17}. Best is trial 33 with value: 0.7839851024208566.\n",
      "[I 2025-07-02 18:09:52,137] Trial 53 finished with value: 0.7690875232774674 and parameters: {'n_estimators': 85, 'max_depth': 20}. Best is trial 33 with value: 0.7839851024208566.\n",
      "[I 2025-07-02 18:09:52,309] Trial 54 finished with value: 0.7728119180633147 and parameters: {'n_estimators': 53, 'max_depth': 5}. Best is trial 33 with value: 0.7839851024208566.\n",
      "[I 2025-07-02 18:09:53,050] Trial 55 finished with value: 0.7690875232774674 and parameters: {'n_estimators': 182, 'max_depth': 18}. Best is trial 33 with value: 0.7839851024208566.\n",
      "[I 2025-07-02 18:09:53,269] Trial 56 finished with value: 0.7690875232774674 and parameters: {'n_estimators': 64, 'max_depth': 15}. Best is trial 33 with value: 0.7839851024208566.\n",
      "[I 2025-07-02 18:09:53,606] Trial 57 finished with value: 0.7690875232774674 and parameters: {'n_estimators': 108, 'max_depth': 20}. Best is trial 33 with value: 0.7839851024208566.\n",
      "[I 2025-07-02 18:09:53,861] Trial 58 finished with value: 0.7653631284916201 and parameters: {'n_estimators': 83, 'max_depth': 17}. Best is trial 33 with value: 0.7839851024208566.\n",
      "[I 2025-07-02 18:09:54,347] Trial 59 finished with value: 0.7728119180633147 and parameters: {'n_estimators': 139, 'max_depth': 12}. Best is trial 33 with value: 0.7839851024208566.\n",
      "[I 2025-07-02 18:09:54,633] Trial 60 finished with value: 0.7821229050279331 and parameters: {'n_estimators': 73, 'max_depth': 19}. Best is trial 33 with value: 0.7839851024208566.\n",
      "[I 2025-07-02 18:09:54,898] Trial 61 finished with value: 0.7783985102420857 and parameters: {'n_estimators': 71, 'max_depth': 19}. Best is trial 33 with value: 0.7839851024208566.\n",
      "[I 2025-07-02 18:09:55,150] Trial 62 finished with value: 0.7635009310986964 and parameters: {'n_estimators': 78, 'max_depth': 19}. Best is trial 33 with value: 0.7839851024208566.\n",
      "[I 2025-07-02 18:09:55,320] Trial 63 finished with value: 0.7709497206703911 and parameters: {'n_estimators': 50, 'max_depth': 18}. Best is trial 33 with value: 0.7839851024208566.\n",
      "[I 2025-07-02 18:09:55,528] Trial 64 finished with value: 0.7821229050279331 and parameters: {'n_estimators': 63, 'max_depth': 16}. Best is trial 33 with value: 0.7839851024208566.\n",
      "[I 2025-07-02 18:09:55,740] Trial 65 finished with value: 0.7709497206703911 and parameters: {'n_estimators': 56, 'max_depth': 14}. Best is trial 33 with value: 0.7839851024208566.\n",
      "[I 2025-07-02 18:09:55,968] Trial 66 finished with value: 0.7821229050279331 and parameters: {'n_estimators': 63, 'max_depth': 16}. Best is trial 33 with value: 0.7839851024208566.\n",
      "[I 2025-07-02 18:09:56,201] Trial 67 finished with value: 0.7821229050279331 and parameters: {'n_estimators': 63, 'max_depth': 16}. Best is trial 33 with value: 0.7839851024208566.\n",
      "[I 2025-07-02 18:09:56,400] Trial 68 finished with value: 0.7746741154562384 and parameters: {'n_estimators': 63, 'max_depth': 15}. Best is trial 33 with value: 0.7839851024208566.\n",
      "[I 2025-07-02 18:09:56,580] Trial 69 finished with value: 0.7709497206703911 and parameters: {'n_estimators': 59, 'max_depth': 16}. Best is trial 33 with value: 0.7839851024208566.\n",
      "[I 2025-07-02 18:09:56,784] Trial 70 finished with value: 0.7709497206703911 and parameters: {'n_estimators': 67, 'max_depth': 13}. Best is trial 33 with value: 0.7839851024208566.\n",
      "[I 2025-07-02 18:09:56,976] Trial 71 finished with value: 0.7765363128491621 and parameters: {'n_estimators': 61, 'max_depth': 16}. Best is trial 33 with value: 0.7839851024208566.\n",
      "[I 2025-07-02 18:09:57,183] Trial 72 finished with value: 0.7709497206703911 and parameters: {'n_estimators': 67, 'max_depth': 15}. Best is trial 33 with value: 0.7839851024208566.\n",
      "[I 2025-07-02 18:09:57,347] Trial 73 finished with value: 0.7672253258845437 and parameters: {'n_estimators': 55, 'max_depth': 14}. Best is trial 33 with value: 0.7839851024208566.\n",
      "[I 2025-07-02 18:09:57,621] Trial 74 finished with value: 0.7653631284916201 and parameters: {'n_estimators': 78, 'max_depth': 17}. Best is trial 33 with value: 0.7839851024208566.\n",
      "[I 2025-07-02 18:09:57,868] Trial 75 finished with value: 0.7635009310986964 and parameters: {'n_estimators': 88, 'max_depth': 16}. Best is trial 33 with value: 0.7839851024208566.\n",
      "[I 2025-07-02 18:09:58,221] Trial 76 finished with value: 0.7746741154562384 and parameters: {'n_estimators': 116, 'max_depth': 17}. Best is trial 33 with value: 0.7839851024208566.\n",
      "[I 2025-07-02 18:09:58,510] Trial 77 finished with value: 0.7653631284916201 and parameters: {'n_estimators': 94, 'max_depth': 15}. Best is trial 33 with value: 0.7839851024208566.\n",
      "[I 2025-07-02 18:09:58,735] Trial 78 finished with value: 0.7728119180633147 and parameters: {'n_estimators': 75, 'max_depth': 16}. Best is trial 33 with value: 0.7839851024208566.\n",
      "[I 2025-07-02 18:09:58,977] Trial 79 finished with value: 0.7728119180633147 and parameters: {'n_estimators': 81, 'max_depth': 18}. Best is trial 33 with value: 0.7839851024208566.\n",
      "[I 2025-07-02 18:09:59,186] Trial 80 finished with value: 0.7802607076350094 and parameters: {'n_estimators': 70, 'max_depth': 17}. Best is trial 33 with value: 0.7839851024208566.\n",
      "[I 2025-07-02 18:09:59,422] Trial 81 finished with value: 0.7802607076350094 and parameters: {'n_estimators': 70, 'max_depth': 17}. Best is trial 33 with value: 0.7839851024208566.\n",
      "[I 2025-07-02 18:09:59,682] Trial 82 finished with value: 0.7765363128491621 and parameters: {'n_estimators': 69, 'max_depth': 17}. Best is trial 33 with value: 0.7839851024208566.\n",
      "[I 2025-07-02 18:09:59,917] Trial 83 finished with value: 0.7746741154562384 and parameters: {'n_estimators': 63, 'max_depth': 18}. Best is trial 33 with value: 0.7839851024208566.\n",
      "[I 2025-07-02 18:10:00,132] Trial 84 finished with value: 0.7746741154562384 and parameters: {'n_estimators': 73, 'max_depth': 16}. Best is trial 33 with value: 0.7839851024208566.\n",
      "[I 2025-07-02 18:10:00,300] Trial 85 finished with value: 0.7653631284916201 and parameters: {'n_estimators': 53, 'max_depth': 15}. Best is trial 33 with value: 0.7839851024208566.\n",
      "[I 2025-07-02 18:10:00,506] Trial 86 finished with value: 0.7746741154562384 and parameters: {'n_estimators': 57, 'max_depth': 17}. Best is trial 33 with value: 0.7839851024208566.\n",
      "[I 2025-07-02 18:10:00,768] Trial 87 finished with value: 0.7690875232774674 and parameters: {'n_estimators': 87, 'max_depth': 17}. Best is trial 33 with value: 0.7839851024208566.\n",
      "[I 2025-07-02 18:10:01,064] Trial 88 finished with value: 0.7690875232774674 and parameters: {'n_estimators': 101, 'max_depth': 14}. Best is trial 33 with value: 0.7839851024208566.\n",
      "[I 2025-07-02 18:10:01,270] Trial 89 finished with value: 0.7541899441340782 and parameters: {'n_estimators': 80, 'max_depth': 3}. Best is trial 33 with value: 0.7839851024208566.\n",
      "[I 2025-07-02 18:10:01,477] Trial 90 finished with value: 0.7690875232774674 and parameters: {'n_estimators': 61, 'max_depth': 13}. Best is trial 33 with value: 0.7839851024208566.\n",
      "[I 2025-07-02 18:10:01,728] Trial 91 finished with value: 0.7783985102420857 and parameters: {'n_estimators': 69, 'max_depth': 18}. Best is trial 33 with value: 0.7839851024208566.\n",
      "[I 2025-07-02 18:10:01,955] Trial 92 finished with value: 0.7783985102420857 and parameters: {'n_estimators': 75, 'max_depth': 18}. Best is trial 33 with value: 0.7839851024208566.\n",
      "[I 2025-07-02 18:10:02,154] Trial 93 finished with value: 0.7709497206703911 and parameters: {'n_estimators': 66, 'max_depth': 16}. Best is trial 33 with value: 0.7839851024208566.\n",
      "[I 2025-07-02 18:10:02,412] Trial 94 finished with value: 0.7783985102420857 and parameters: {'n_estimators': 71, 'max_depth': 19}. Best is trial 33 with value: 0.7839851024208566.\n",
      "[I 2025-07-02 18:10:02,782] Trial 95 finished with value: 0.7690875232774674 and parameters: {'n_estimators': 128, 'max_depth': 8}. Best is trial 33 with value: 0.7839851024208566.\n",
      "[I 2025-07-02 18:10:03,045] Trial 96 finished with value: 0.7728119180633147 and parameters: {'n_estimators': 64, 'max_depth': 18}. Best is trial 33 with value: 0.7839851024208566.\n",
      "[I 2025-07-02 18:10:03,411] Trial 97 finished with value: 0.7672253258845437 and parameters: {'n_estimators': 84, 'max_depth': 7}. Best is trial 33 with value: 0.7839851024208566.\n",
      "[I 2025-07-02 18:10:03,728] Trial 98 finished with value: 0.7746741154562384 and parameters: {'n_estimators': 77, 'max_depth': 17}. Best is trial 33 with value: 0.7839851024208566.\n",
      "[I 2025-07-02 18:10:04,581] Trial 99 finished with value: 0.7728119180633147 and parameters: {'n_estimators': 160, 'max_depth': 19}. Best is trial 33 with value: 0.7839851024208566.\n"
     ]
    },
    {
     "name": "stdout",
     "output_type": "stream",
     "text": [
      "Best trial accuracy: 0.7839851024208566\n",
      "Best trial Hyperparameters: {'n_estimators': 73, 'max_depth': 18}\n",
      "Test accuracy ith best hyperparameters: 0.76\n"
     ]
    }
   ],
   "execution_count": 6
  },
  {
   "metadata": {
    "ExecuteTime": {
     "end_time": "2025-07-02T12:32:59.172106Z",
     "start_time": "2025-07-02T12:31:46.896005Z"
    }
   },
   "cell_type": "code",
   "source": [
    "# Now we will use RandomSampler\n",
    "\n",
    "# Create a study object and optimize the objective function\n",
    "study = optuna.create_study(direction='maximize', sampler=optuna.samplers.RandomSampler())\n",
    "# As we are trying to 'Maximize' our accuracy so our direction of the objective function will be to maximize it\n",
    "study.optimize(objective, n_trials=100) # Running 50 trials to find the optimal hyperparameters\n",
    "\n",
    "# Print the best result\n",
    "print(f'Best trial accuracy: {study.best_trial.value}')\n",
    "print(f'Best trial Hyperparameters: {study.best_trial.params}')\n",
    "\n",
    "from sklearn.metrics import accuracy_score\n",
    "\n",
    "# Train a RandomForestClassifier using the best hyperparameters from Optuna\n",
    "best_model = RandomForestClassifier(**study.best_trial.params, random_state=42)\n",
    "\n",
    "best_model.fit(X_train, y_train)\n",
    "\n",
    "y_pred = best_model.predict(X_test)\n",
    "\n",
    "test_accuracy = accuracy_score(y_test, y_pred)\n",
    "\n",
    "print(f'Test accuracy ith best hyperparameters: {test_accuracy:.2f}')"
   ],
   "id": "399d8e68401a5209",
   "outputs": [
    {
     "name": "stderr",
     "output_type": "stream",
     "text": [
      "[I 2025-07-02 18:01:46,900] A new study created in memory with name: no-name-0a892328-555f-46ba-a887-a6036f217a80\n",
      "[I 2025-07-02 18:01:47,366] Trial 0 finished with value: 0.7672253258845437 and parameters: {'n_estimators': 109, 'max_depth': 5}. Best is trial 0 with value: 0.7672253258845437.\n",
      "[I 2025-07-02 18:01:47,665] Trial 1 finished with value: 0.7746741154562384 and parameters: {'n_estimators': 72, 'max_depth': 5}. Best is trial 1 with value: 0.7746741154562384.\n",
      "[I 2025-07-02 18:01:48,205] Trial 2 finished with value: 0.7728119180633147 and parameters: {'n_estimators': 116, 'max_depth': 8}. Best is trial 1 with value: 0.7746741154562384.\n",
      "[I 2025-07-02 18:01:48,474] Trial 3 finished with value: 0.7728119180633147 and parameters: {'n_estimators': 58, 'max_depth': 8}. Best is trial 1 with value: 0.7746741154562384.\n",
      "[I 2025-07-02 18:01:48,933] Trial 4 finished with value: 0.7690875232774674 and parameters: {'n_estimators': 98, 'max_depth': 14}. Best is trial 1 with value: 0.7746741154562384.\n",
      "[I 2025-07-02 18:01:49,611] Trial 5 finished with value: 0.7672253258845437 and parameters: {'n_estimators': 144, 'max_depth': 5}. Best is trial 1 with value: 0.7746741154562384.\n",
      "[I 2025-07-02 18:01:50,077] Trial 6 finished with value: 0.7709497206703911 and parameters: {'n_estimators': 92, 'max_depth': 5}. Best is trial 1 with value: 0.7746741154562384.\n",
      "[I 2025-07-02 18:01:50,846] Trial 7 finished with value: 0.7672253258845437 and parameters: {'n_estimators': 166, 'max_depth': 5}. Best is trial 1 with value: 0.7746741154562384.\n",
      "[I 2025-07-02 18:01:51,216] Trial 8 finished with value: 0.7653631284916201 and parameters: {'n_estimators': 92, 'max_depth': 15}. Best is trial 1 with value: 0.7746741154562384.\n",
      "[I 2025-07-02 18:01:51,841] Trial 9 finished with value: 0.7802607076350093 and parameters: {'n_estimators': 133, 'max_depth': 18}. Best is trial 9 with value: 0.7802607076350093.\n",
      "[I 2025-07-02 18:01:52,318] Trial 10 finished with value: 0.7672253258845437 and parameters: {'n_estimators': 117, 'max_depth': 5}. Best is trial 9 with value: 0.7802607076350093.\n",
      "[I 2025-07-02 18:01:52,898] Trial 11 finished with value: 0.7858472998137803 and parameters: {'n_estimators': 121, 'max_depth': 15}. Best is trial 11 with value: 0.7858472998137803.\n",
      "[I 2025-07-02 18:01:53,452] Trial 12 finished with value: 0.7765363128491621 and parameters: {'n_estimators': 130, 'max_depth': 20}. Best is trial 11 with value: 0.7858472998137803.\n",
      "[I 2025-07-02 18:01:53,943] Trial 13 finished with value: 0.7672253258845437 and parameters: {'n_estimators': 101, 'max_depth': 7}. Best is trial 11 with value: 0.7858472998137803.\n",
      "[I 2025-07-02 18:01:54,365] Trial 14 finished with value: 0.7765363128491621 and parameters: {'n_estimators': 105, 'max_depth': 13}. Best is trial 11 with value: 0.7858472998137803.\n",
      "[I 2025-07-02 18:01:55,331] Trial 15 finished with value: 0.7672253258845437 and parameters: {'n_estimators': 191, 'max_depth': 5}. Best is trial 11 with value: 0.7858472998137803.\n",
      "[I 2025-07-02 18:01:55,683] Trial 16 finished with value: 0.7821229050279331 and parameters: {'n_estimators': 73, 'max_depth': 20}. Best is trial 11 with value: 0.7858472998137803.\n",
      "[I 2025-07-02 18:01:56,188] Trial 17 finished with value: 0.7635009310986964 and parameters: {'n_estimators': 100, 'max_depth': 14}. Best is trial 11 with value: 0.7858472998137803.\n",
      "[I 2025-07-02 18:01:56,932] Trial 18 finished with value: 0.7765363128491619 and parameters: {'n_estimators': 134, 'max_depth': 19}. Best is trial 11 with value: 0.7858472998137803.\n",
      "[I 2025-07-02 18:01:57,834] Trial 19 finished with value: 0.7653631284916201 and parameters: {'n_estimators': 150, 'max_depth': 11}. Best is trial 11 with value: 0.7858472998137803.\n",
      "[I 2025-07-02 18:01:58,252] Trial 20 finished with value: 0.7672253258845437 and parameters: {'n_estimators': 82, 'max_depth': 8}. Best is trial 11 with value: 0.7858472998137803.\n",
      "[I 2025-07-02 18:01:58,955] Trial 21 finished with value: 0.7765363128491619 and parameters: {'n_estimators': 135, 'max_depth': 17}. Best is trial 11 with value: 0.7858472998137803.\n",
      "[I 2025-07-02 18:01:59,756] Trial 22 finished with value: 0.7635009310986964 and parameters: {'n_estimators': 95, 'max_depth': 11}. Best is trial 11 with value: 0.7858472998137803.\n",
      "[I 2025-07-02 18:02:00,425] Trial 23 finished with value: 0.7597765363128491 and parameters: {'n_estimators': 118, 'max_depth': 11}. Best is trial 11 with value: 0.7858472998137803.\n",
      "[I 2025-07-02 18:02:01,437] Trial 24 finished with value: 0.7635009310986964 and parameters: {'n_estimators': 174, 'max_depth': 6}. Best is trial 11 with value: 0.7858472998137803.\n",
      "[I 2025-07-02 18:02:02,495] Trial 25 finished with value: 0.7709497206703911 and parameters: {'n_estimators': 166, 'max_depth': 17}. Best is trial 11 with value: 0.7858472998137803.\n",
      "[I 2025-07-02 18:02:03,099] Trial 26 finished with value: 0.7746741154562384 and parameters: {'n_estimators': 118, 'max_depth': 12}. Best is trial 11 with value: 0.7858472998137803.\n",
      "[I 2025-07-02 18:02:03,986] Trial 27 finished with value: 0.7746741154562384 and parameters: {'n_estimators': 132, 'max_depth': 18}. Best is trial 11 with value: 0.7858472998137803.\n",
      "[I 2025-07-02 18:02:05,080] Trial 28 finished with value: 0.7728119180633147 and parameters: {'n_estimators': 160, 'max_depth': 20}. Best is trial 11 with value: 0.7858472998137803.\n",
      "[I 2025-07-02 18:02:05,967] Trial 29 finished with value: 0.7728119180633147 and parameters: {'n_estimators': 123, 'max_depth': 14}. Best is trial 11 with value: 0.7858472998137803.\n",
      "[I 2025-07-02 18:02:06,374] Trial 30 finished with value: 0.7690875232774674 and parameters: {'n_estimators': 71, 'max_depth': 12}. Best is trial 11 with value: 0.7858472998137803.\n",
      "[I 2025-07-02 18:02:07,401] Trial 31 finished with value: 0.7635009310986964 and parameters: {'n_estimators': 174, 'max_depth': 6}. Best is trial 11 with value: 0.7858472998137803.\n",
      "[I 2025-07-02 18:02:08,149] Trial 32 finished with value: 0.7821229050279329 and parameters: {'n_estimators': 120, 'max_depth': 7}. Best is trial 11 with value: 0.7858472998137803.\n",
      "[I 2025-07-02 18:02:09,212] Trial 33 finished with value: 0.7690875232774674 and parameters: {'n_estimators': 161, 'max_depth': 12}. Best is trial 11 with value: 0.7858472998137803.\n",
      "[I 2025-07-02 18:02:09,480] Trial 34 finished with value: 0.7728119180633147 and parameters: {'n_estimators': 53, 'max_depth': 16}. Best is trial 11 with value: 0.7858472998137803.\n",
      "[I 2025-07-02 18:02:10,976] Trial 35 finished with value: 0.7746741154562384 and parameters: {'n_estimators': 129, 'max_depth': 15}. Best is trial 11 with value: 0.7858472998137803.\n",
      "[I 2025-07-02 18:02:12,339] Trial 36 finished with value: 0.7783985102420856 and parameters: {'n_estimators': 193, 'max_depth': 16}. Best is trial 11 with value: 0.7858472998137803.\n",
      "[I 2025-07-02 18:02:14,259] Trial 37 finished with value: 0.7616387337057727 and parameters: {'n_estimators': 170, 'max_depth': 9}. Best is trial 11 with value: 0.7858472998137803.\n",
      "[I 2025-07-02 18:02:14,724] Trial 38 finished with value: 0.7653631284916201 and parameters: {'n_estimators': 77, 'max_depth': 8}. Best is trial 11 with value: 0.7858472998137803.\n",
      "[I 2025-07-02 18:02:15,854] Trial 39 finished with value: 0.7728119180633147 and parameters: {'n_estimators': 163, 'max_depth': 19}. Best is trial 11 with value: 0.7858472998137803.\n",
      "[I 2025-07-02 18:02:16,382] Trial 40 finished with value: 0.7635009310986964 and parameters: {'n_estimators': 66, 'max_depth': 14}. Best is trial 11 with value: 0.7858472998137803.\n",
      "[I 2025-07-02 18:02:16,724] Trial 41 finished with value: 0.7653631284916201 and parameters: {'n_estimators': 67, 'max_depth': 6}. Best is trial 11 with value: 0.7858472998137803.\n",
      "[I 2025-07-02 18:02:17,053] Trial 42 finished with value: 0.7672253258845437 and parameters: {'n_estimators': 62, 'max_depth': 11}. Best is trial 11 with value: 0.7858472998137803.\n",
      "[I 2025-07-02 18:02:18,286] Trial 43 finished with value: 0.7728119180633147 and parameters: {'n_estimators': 182, 'max_depth': 7}. Best is trial 11 with value: 0.7858472998137803.\n",
      "[I 2025-07-02 18:02:19,861] Trial 44 finished with value: 0.7746741154562384 and parameters: {'n_estimators': 164, 'max_depth': 7}. Best is trial 11 with value: 0.7858472998137803.\n",
      "[I 2025-07-02 18:02:20,831] Trial 45 finished with value: 0.7541899441340782 and parameters: {'n_estimators': 161, 'max_depth': 3}. Best is trial 11 with value: 0.7858472998137803.\n",
      "[I 2025-07-02 18:02:21,118] Trial 46 finished with value: 0.7523277467411545 and parameters: {'n_estimators': 53, 'max_depth': 10}. Best is trial 11 with value: 0.7858472998137803.\n",
      "[I 2025-07-02 18:02:21,641] Trial 47 finished with value: 0.7690875232774674 and parameters: {'n_estimators': 95, 'max_depth': 13}. Best is trial 11 with value: 0.7858472998137803.\n",
      "[I 2025-07-02 18:02:22,492] Trial 48 finished with value: 0.7672253258845437 and parameters: {'n_estimators': 118, 'max_depth': 10}. Best is trial 11 with value: 0.7858472998137803.\n",
      "[I 2025-07-02 18:02:23,662] Trial 49 finished with value: 0.7709497206703911 and parameters: {'n_estimators': 172, 'max_depth': 20}. Best is trial 11 with value: 0.7858472998137803.\n",
      "[I 2025-07-02 18:02:24,149] Trial 50 finished with value: 0.7541899441340782 and parameters: {'n_estimators': 94, 'max_depth': 3}. Best is trial 11 with value: 0.7858472998137803.\n",
      "[I 2025-07-02 18:02:25,471] Trial 51 finished with value: 0.7672253258845437 and parameters: {'n_estimators': 187, 'max_depth': 7}. Best is trial 11 with value: 0.7858472998137803.\n",
      "[I 2025-07-02 18:02:27,067] Trial 52 finished with value: 0.7616387337057727 and parameters: {'n_estimators': 185, 'max_depth': 5}. Best is trial 11 with value: 0.7858472998137803.\n",
      "[I 2025-07-02 18:02:28,429] Trial 53 finished with value: 0.7709497206703911 and parameters: {'n_estimators': 188, 'max_depth': 14}. Best is trial 11 with value: 0.7858472998137803.\n",
      "[I 2025-07-02 18:02:29,007] Trial 54 finished with value: 0.7709497206703911 and parameters: {'n_estimators': 93, 'max_depth': 5}. Best is trial 11 with value: 0.7858472998137803.\n",
      "[I 2025-07-02 18:02:30,848] Trial 55 finished with value: 0.7709497206703911 and parameters: {'n_estimators': 190, 'max_depth': 20}. Best is trial 11 with value: 0.7858472998137803.\n",
      "[I 2025-07-02 18:02:32,175] Trial 56 finished with value: 0.7709497206703911 and parameters: {'n_estimators': 186, 'max_depth': 15}. Best is trial 11 with value: 0.7858472998137803.\n",
      "[I 2025-07-02 18:02:32,591] Trial 57 finished with value: 0.7728119180633147 and parameters: {'n_estimators': 68, 'max_depth': 11}. Best is trial 11 with value: 0.7858472998137803.\n",
      "[I 2025-07-02 18:02:32,912] Trial 58 finished with value: 0.7690875232774674 and parameters: {'n_estimators': 52, 'max_depth': 13}. Best is trial 11 with value: 0.7858472998137803.\n",
      "[I 2025-07-02 18:02:34,259] Trial 59 finished with value: 0.7728119180633147 and parameters: {'n_estimators': 165, 'max_depth': 17}. Best is trial 11 with value: 0.7858472998137803.\n",
      "[I 2025-07-02 18:02:34,685] Trial 60 finished with value: 0.7709497206703911 and parameters: {'n_estimators': 82, 'max_depth': 5}. Best is trial 11 with value: 0.7858472998137803.\n",
      "[I 2025-07-02 18:02:35,487] Trial 61 finished with value: 0.7746741154562384 and parameters: {'n_estimators': 132, 'max_depth': 18}. Best is trial 11 with value: 0.7858472998137803.\n",
      "[I 2025-07-02 18:02:36,188] Trial 62 finished with value: 0.7635009310986964 and parameters: {'n_estimators': 91, 'max_depth': 11}. Best is trial 11 with value: 0.7858472998137803.\n",
      "[I 2025-07-02 18:02:36,753] Trial 63 finished with value: 0.7728119180633147 and parameters: {'n_estimators': 89, 'max_depth': 17}. Best is trial 11 with value: 0.7858472998137803.\n",
      "[I 2025-07-02 18:02:37,044] Trial 64 finished with value: 0.7616387337057727 and parameters: {'n_estimators': 52, 'max_depth': 10}. Best is trial 11 with value: 0.7858472998137803.\n",
      "[I 2025-07-02 18:02:37,795] Trial 65 finished with value: 0.7653631284916201 and parameters: {'n_estimators': 133, 'max_depth': 9}. Best is trial 11 with value: 0.7858472998137803.\n",
      "[I 2025-07-02 18:02:38,230] Trial 66 finished with value: 0.7635009310986964 and parameters: {'n_estimators': 69, 'max_depth': 4}. Best is trial 11 with value: 0.7858472998137803.\n",
      "[I 2025-07-02 18:02:38,848] Trial 67 finished with value: 0.7765363128491621 and parameters: {'n_estimators': 111, 'max_depth': 20}. Best is trial 11 with value: 0.7858472998137803.\n",
      "[I 2025-07-02 18:02:39,967] Trial 68 finished with value: 0.7597765363128491 and parameters: {'n_estimators': 196, 'max_depth': 6}. Best is trial 11 with value: 0.7858472998137803.\n",
      "[I 2025-07-02 18:02:40,939] Trial 69 finished with value: 0.7765363128491621 and parameters: {'n_estimators': 169, 'max_depth': 16}. Best is trial 11 with value: 0.7858472998137803.\n",
      "[I 2025-07-02 18:02:42,087] Trial 70 finished with value: 0.7783985102420856 and parameters: {'n_estimators': 195, 'max_depth': 17}. Best is trial 11 with value: 0.7858472998137803.\n",
      "[I 2025-07-02 18:02:43,132] Trial 71 finished with value: 0.7616387337057727 and parameters: {'n_estimators': 198, 'max_depth': 9}. Best is trial 11 with value: 0.7858472998137803.\n",
      "[I 2025-07-02 18:02:43,548] Trial 72 finished with value: 0.7635009310986964 and parameters: {'n_estimators': 98, 'max_depth': 4}. Best is trial 11 with value: 0.7858472998137803.\n",
      "[I 2025-07-02 18:02:44,317] Trial 73 finished with value: 0.7672253258845437 and parameters: {'n_estimators': 174, 'max_depth': 11}. Best is trial 11 with value: 0.7858472998137803.\n",
      "[I 2025-07-02 18:02:45,225] Trial 74 finished with value: 0.7728119180633147 and parameters: {'n_estimators': 181, 'max_depth': 19}. Best is trial 11 with value: 0.7858472998137803.\n",
      "[I 2025-07-02 18:02:45,541] Trial 75 finished with value: 0.7672253258845437 and parameters: {'n_estimators': 62, 'max_depth': 11}. Best is trial 11 with value: 0.7858472998137803.\n",
      "[I 2025-07-02 18:02:46,364] Trial 76 finished with value: 0.7616387337057727 and parameters: {'n_estimators': 197, 'max_depth': 4}. Best is trial 11 with value: 0.7858472998137803.\n",
      "[I 2025-07-02 18:02:47,147] Trial 77 finished with value: 0.7765363128491619 and parameters: {'n_estimators': 171, 'max_depth': 17}. Best is trial 11 with value: 0.7858472998137803.\n",
      "[I 2025-07-02 18:02:47,902] Trial 78 finished with value: 0.7597765363128491 and parameters: {'n_estimators': 198, 'max_depth': 3}. Best is trial 11 with value: 0.7858472998137803.\n",
      "[I 2025-07-02 18:02:48,306] Trial 79 finished with value: 0.7765363128491621 and parameters: {'n_estimators': 90, 'max_depth': 18}. Best is trial 11 with value: 0.7858472998137803.\n",
      "[I 2025-07-02 18:02:48,827] Trial 80 finished with value: 0.7746741154562384 and parameters: {'n_estimators': 117, 'max_depth': 12}. Best is trial 11 with value: 0.7858472998137803.\n",
      "[I 2025-07-02 18:02:49,144] Trial 81 finished with value: 0.7709497206703911 and parameters: {'n_estimators': 72, 'max_depth': 7}. Best is trial 11 with value: 0.7858472998137803.\n",
      "[I 2025-07-02 18:02:49,353] Trial 82 finished with value: 0.7579143389199254 and parameters: {'n_estimators': 53, 'max_depth': 3}. Best is trial 11 with value: 0.7858472998137803.\n",
      "[I 2025-07-02 18:02:50,012] Trial 83 finished with value: 0.7746741154562383 and parameters: {'n_estimators': 150, 'max_depth': 7}. Best is trial 11 with value: 0.7858472998137803.\n",
      "[I 2025-07-02 18:02:50,923] Trial 84 finished with value: 0.7728119180633147 and parameters: {'n_estimators': 187, 'max_depth': 20}. Best is trial 11 with value: 0.7858472998137803.\n",
      "[I 2025-07-02 18:02:51,745] Trial 85 finished with value: 0.7709497206703911 and parameters: {'n_estimators': 152, 'max_depth': 17}. Best is trial 11 with value: 0.7858472998137803.\n",
      "[I 2025-07-02 18:02:52,336] Trial 86 finished with value: 0.7579143389199254 and parameters: {'n_estimators': 143, 'max_depth': 3}. Best is trial 11 with value: 0.7858472998137803.\n",
      "[I 2025-07-02 18:02:52,883] Trial 87 finished with value: 0.7709497206703911 and parameters: {'n_estimators': 102, 'max_depth': 18}. Best is trial 11 with value: 0.7858472998137803.\n",
      "[I 2025-07-02 18:02:53,152] Trial 88 finished with value: 0.7746741154562384 and parameters: {'n_estimators': 56, 'max_depth': 13}. Best is trial 11 with value: 0.7858472998137803.\n",
      "[I 2025-07-02 18:02:53,805] Trial 89 finished with value: 0.7709497206703911 and parameters: {'n_estimators': 143, 'max_depth': 15}. Best is trial 11 with value: 0.7858472998137803.\n",
      "[I 2025-07-02 18:02:54,156] Trial 90 finished with value: 0.756052141527002 and parameters: {'n_estimators': 92, 'max_depth': 3}. Best is trial 11 with value: 0.7858472998137803.\n",
      "[I 2025-07-02 18:02:54,999] Trial 91 finished with value: 0.7560521415270017 and parameters: {'n_estimators': 199, 'max_depth': 6}. Best is trial 11 with value: 0.7858472998137803.\n",
      "[I 2025-07-02 18:02:55,744] Trial 92 finished with value: 0.7709497206703911 and parameters: {'n_estimators': 163, 'max_depth': 18}. Best is trial 11 with value: 0.7858472998137803.\n",
      "[I 2025-07-02 18:02:56,237] Trial 93 finished with value: 0.7560521415270017 and parameters: {'n_estimators': 127, 'max_depth': 3}. Best is trial 11 with value: 0.7858472998137803.\n",
      "[I 2025-07-02 18:02:56,549] Trial 94 finished with value: 0.7709497206703911 and parameters: {'n_estimators': 69, 'max_depth': 8}. Best is trial 11 with value: 0.7858472998137803.\n",
      "[I 2025-07-02 18:02:57,303] Trial 95 finished with value: 0.7709497206703911 and parameters: {'n_estimators': 164, 'max_depth': 13}. Best is trial 11 with value: 0.7858472998137803.\n",
      "[I 2025-07-02 18:02:57,741] Trial 96 finished with value: 0.7746741154562384 and parameters: {'n_estimators': 103, 'max_depth': 17}. Best is trial 11 with value: 0.7858472998137803.\n",
      "[I 2025-07-02 18:02:58,071] Trial 97 finished with value: 0.7728119180633147 and parameters: {'n_estimators': 116, 'max_depth': 8}. Best is trial 11 with value: 0.7858472998137803.\n",
      "[I 2025-07-02 18:02:58,514] Trial 98 finished with value: 0.7672253258845437 and parameters: {'n_estimators': 148, 'max_depth': 11}. Best is trial 11 with value: 0.7858472998137803.\n",
      "[I 2025-07-02 18:02:59,020] Trial 99 finished with value: 0.7783985102420857 and parameters: {'n_estimators': 171, 'max_depth': 16}. Best is trial 11 with value: 0.7858472998137803.\n"
     ]
    },
    {
     "name": "stdout",
     "output_type": "stream",
     "text": [
      "Best trial accuracy: 0.7858472998137803\n",
      "Best trial Hyperparameters: {'n_estimators': 121, 'max_depth': 15}\n",
      "Test accuracy ith best hyperparameters: 0.76\n"
     ]
    }
   ],
   "execution_count": 14
  },
  {
   "metadata": {
    "ExecuteTime": {
     "end_time": "2025-07-02T12:34:54.064199Z",
     "start_time": "2025-07-02T12:34:47.416339Z"
    }
   },
   "cell_type": "code",
   "source": [
    "# Now we will use Grid Search\n",
    "\n",
    "# We have to explicitly mention our search space first\n",
    "\n",
    "search_space = {\n",
    "    'n_estimators': [50, 100, 150, 200],\n",
    "    'max_depth': [5, 10, 15, 20]\n",
    "}\n",
    "# Create a study object and optimize the objective function\n",
    "study = optuna.create_study(direction='maximize', sampler=optuna.samplers.GridSampler(search_space))\n",
    "# As we are trying to 'Maximize' our accuracy so our direction of the objective function will be to maximize it\n",
    "study.optimize(objective, n_trials=100) # Running 50 trials to find the optimal hyperparameters\n",
    "\n",
    "# Print the best result\n",
    "print(f'Best trial accuracy: {study.best_trial.value}')\n",
    "print(f'Best trial Hyperparameters: {study.best_trial.params}')\n",
    "\n",
    "from sklearn.metrics import accuracy_score\n",
    "\n",
    "# Train a RandomForestClassifier using the best hyperparameters from Optuna\n",
    "best_model = RandomForestClassifier(**study.best_trial.params, random_state=42)\n",
    "\n",
    "best_model.fit(X_train, y_train)\n",
    "\n",
    "y_pred = best_model.predict(X_test)\n",
    "\n",
    "test_accuracy = accuracy_score(y_test, y_pred)\n",
    "\n",
    "print(f'Test accuracy ith best hyperparameters: {test_accuracy:.2f}')"
   ],
   "id": "c1adc73c10ec3a62",
   "outputs": [
    {
     "name": "stderr",
     "output_type": "stream",
     "text": [
      "[I 2025-07-02 18:04:47,419] A new study created in memory with name: no-name-f2b3e42d-d08b-4678-97e2-377437c3e93d\n",
      "[I 2025-07-02 18:04:47,731] Trial 0 finished with value: 0.7690875232774674 and parameters: {'n_estimators': 100, 'max_depth': 5}. Best is trial 0 with value: 0.7690875232774674.\n",
      "[I 2025-07-02 18:04:48,290] Trial 1 finished with value: 0.7672253258845437 and parameters: {'n_estimators': 150, 'max_depth': 10}. Best is trial 0 with value: 0.7690875232774674.\n",
      "[I 2025-07-02 18:04:48,497] Trial 2 finished with value: 0.7728119180633147 and parameters: {'n_estimators': 50, 'max_depth': 15}. Best is trial 2 with value: 0.7728119180633147.\n",
      "[I 2025-07-02 18:04:48,832] Trial 3 finished with value: 0.7653631284916201 and parameters: {'n_estimators': 100, 'max_depth': 15}. Best is trial 2 with value: 0.7728119180633147.\n",
      "[I 2025-07-02 18:04:49,232] Trial 4 finished with value: 0.7690875232774674 and parameters: {'n_estimators': 100, 'max_depth': 20}. Best is trial 2 with value: 0.7728119180633147.\n",
      "[I 2025-07-02 18:04:49,430] Trial 5 finished with value: 0.7579143389199254 and parameters: {'n_estimators': 50, 'max_depth': 10}. Best is trial 2 with value: 0.7728119180633147.\n",
      "[I 2025-07-02 18:04:49,941] Trial 6 finished with value: 0.7653631284916201 and parameters: {'n_estimators': 150, 'max_depth': 5}. Best is trial 2 with value: 0.7728119180633147.\n",
      "[I 2025-07-02 18:04:50,443] Trial 7 finished with value: 0.7728119180633147 and parameters: {'n_estimators': 150, 'max_depth': 20}. Best is trial 2 with value: 0.7728119180633147.\n",
      "[I 2025-07-02 18:04:50,889] Trial 8 finished with value: 0.7728119180633147 and parameters: {'n_estimators': 150, 'max_depth': 15}. Best is trial 2 with value: 0.7728119180633147.\n",
      "[I 2025-07-02 18:04:51,478] Trial 9 finished with value: 0.7709497206703911 and parameters: {'n_estimators': 200, 'max_depth': 10}. Best is trial 2 with value: 0.7728119180633147.\n",
      "[I 2025-07-02 18:04:52,089] Trial 10 finished with value: 0.7728119180633147 and parameters: {'n_estimators': 200, 'max_depth': 20}. Best is trial 2 with value: 0.7728119180633147.\n",
      "[I 2025-07-02 18:04:52,730] Trial 11 finished with value: 0.7728119180633147 and parameters: {'n_estimators': 200, 'max_depth': 15}. Best is trial 2 with value: 0.7728119180633147.\n",
      "[I 2025-07-02 18:04:53,342] Trial 12 finished with value: 0.7690875232774674 and parameters: {'n_estimators': 200, 'max_depth': 5}. Best is trial 2 with value: 0.7728119180633147.\n",
      "[I 2025-07-02 18:04:53,513] Trial 13 finished with value: 0.7746741154562384 and parameters: {'n_estimators': 50, 'max_depth': 5}. Best is trial 13 with value: 0.7746741154562384.\n",
      "[I 2025-07-02 18:04:53,852] Trial 14 finished with value: 0.7616387337057727 and parameters: {'n_estimators': 100, 'max_depth': 10}. Best is trial 13 with value: 0.7746741154562384.\n",
      "[I 2025-07-02 18:04:54,013] Trial 15 finished with value: 0.7709497206703911 and parameters: {'n_estimators': 50, 'max_depth': 20}. Best is trial 13 with value: 0.7746741154562384.\n"
     ]
    },
    {
     "name": "stdout",
     "output_type": "stream",
     "text": [
      "Best trial accuracy: 0.7746741154562384\n",
      "Best trial Hyperparameters: {'n_estimators': 50, 'max_depth': 5}\n",
      "Test accuracy ith best hyperparameters: 0.74\n"
     ]
    }
   ],
   "execution_count": 15
  },
  {
   "metadata": {},
   "cell_type": "markdown",
   "source": "#### Optuna Visualization",
   "id": "6517a1dcc3c29dc8"
  },
  {
   "metadata": {
    "ExecuteTime": {
     "end_time": "2025-07-02T12:40:05.594127Z",
     "start_time": "2025-07-02T12:40:04.773399Z"
    }
   },
   "cell_type": "code",
   "source": "from optuna.visualization import plot_optimization_history, plot_parallel_coordinate, plot_slice, plot_contour, plot_param_importances",
   "id": "2893885ecd4793a5",
   "outputs": [],
   "execution_count": 7
  },
  {
   "metadata": {
    "ExecuteTime": {
     "end_time": "2025-07-02T12:37:58.780155Z",
     "start_time": "2025-07-02T12:37:56.252800Z"
    }
   },
   "cell_type": "code",
   "source": "# !uv pip install matplotlib plotly",
   "id": "7a94ac76c265200e",
   "outputs": [
    {
     "name": "stdout",
     "output_type": "stream",
     "text": [
      "\u001B[2mUsing Python 3.10.12 environment at: PyTorch\u001B[0m\r\n",
      "\u001B[2K\u001B[2mResolved \u001B[1m13 packages\u001B[0m \u001B[2min 183ms\u001B[0m\u001B[0m                                        \u001B[0m\r\n",
      "\u001B[2K\u001B[2mPrepared \u001B[1m2 packages\u001B[0m \u001B[2min 2.16s\u001B[0m\u001B[0m                                             \r\n",
      "\u001B[2K\u001B[2mInstalled \u001B[1m2 packages\u001B[0m \u001B[2min 25ms\u001B[0m\u001B[0m                                \u001B[0m\r\n",
      " \u001B[32m+\u001B[39m \u001B[1mnarwhals\u001B[0m\u001B[2m==1.45.0\u001B[0m\r\n",
      " \u001B[32m+\u001B[39m \u001B[1mplotly\u001B[0m\u001B[2m==6.2.0\u001B[0m\r\n"
     ]
    }
   ],
   "execution_count": 18
  },
  {
   "metadata": {
    "ExecuteTime": {
     "end_time": "2025-07-02T12:40:05.806110Z",
     "start_time": "2025-07-02T12:40:05.613202Z"
    }
   },
   "cell_type": "code",
   "source": [
    "# 1. Optimization history - trial number vs accuracy graph\n",
    "\n",
    "plot_optimization_history(study).show()"
   ],
   "id": "48cd207769b4e115",
   "outputs": [
    {
     "data": {
      "application/vnd.plotly.v1+json": {
       "data": [
        {
         "mode": "markers",
         "name": "Objective Value",
         "x": [
          0,
          1,
          2,
          3,
          4,
          5,
          6,
          7,
          8,
          9,
          10,
          11,
          12,
          13,
          14,
          15,
          16,
          17,
          18,
          19,
          20,
          21,
          22,
          23,
          24,
          25,
          26,
          27,
          28,
          29,
          30,
          31,
          32,
          33,
          34,
          35,
          36,
          37,
          38,
          39,
          40,
          41,
          42,
          43,
          44,
          45,
          46,
          47,
          48,
          49,
          50,
          51,
          52,
          53,
          54,
          55,
          56,
          57,
          58,
          59,
          60,
          61,
          62,
          63,
          64,
          65,
          66,
          67,
          68,
          69,
          70,
          71,
          72,
          73,
          74,
          75,
          76,
          77,
          78,
          79,
          80,
          81,
          82,
          83,
          84,
          85,
          86,
          87,
          88,
          89,
          90,
          91,
          92,
          93,
          94,
          95,
          96,
          97,
          98,
          99
         ],
         "y": [
          0.7783985102420856,
          0.7690875232774674,
          0.756052141527002,
          0.7653631284916201,
          0.7709497206703911,
          0.7653631284916201,
          0.7597765363128491,
          0.7690875232774674,
          0.7765363128491621,
          0.7597765363128491,
          0.7783985102420857,
          0.7765363128491621,
          0.7653631284916201,
          0.7746741154562384,
          0.7783985102420856,
          0.7728119180633147,
          0.7709497206703911,
          0.7690875232774674,
          0.7672253258845437,
          0.7783985102420857,
          0.7783985102420857,
          0.7746741154562384,
          0.7709497206703911,
          0.7746741154562384,
          0.7709497206703911,
          0.7709497206703911,
          0.7746741154562384,
          0.7653631284916201,
          0.7746741154562384,
          0.7765363128491621,
          0.7653631284916201,
          0.7690875232774674,
          0.7672253258845437,
          0.7839851024208566,
          0.7783985102420857,
          0.7653631284916201,
          0.7746741154562384,
          0.7765363128491619,
          0.7709497206703911,
          0.7690875232774674,
          0.7783985102420857,
          0.7783985102420857,
          0.7783985102420857,
          0.7690875232774674,
          0.7728119180633147,
          0.7783985102420857,
          0.7690875232774674,
          0.7597765363128492,
          0.7765363128491621,
          0.7802607076350093,
          0.7746741154562384,
          0.7765363128491621,
          0.7765363128491619,
          0.7690875232774674,
          0.7728119180633147,
          0.7690875232774674,
          0.7690875232774674,
          0.7690875232774674,
          0.7653631284916201,
          0.7728119180633147,
          0.7821229050279331,
          0.7783985102420857,
          0.7635009310986964,
          0.7709497206703911,
          0.7821229050279331,
          0.7709497206703911,
          0.7821229050279331,
          0.7821229050279331,
          0.7746741154562384,
          0.7709497206703911,
          0.7709497206703911,
          0.7765363128491621,
          0.7709497206703911,
          0.7672253258845437,
          0.7653631284916201,
          0.7635009310986964,
          0.7746741154562384,
          0.7653631284916201,
          0.7728119180633147,
          0.7728119180633147,
          0.7802607076350094,
          0.7802607076350094,
          0.7765363128491621,
          0.7746741154562384,
          0.7746741154562384,
          0.7653631284916201,
          0.7746741154562384,
          0.7690875232774674,
          0.7690875232774674,
          0.7541899441340782,
          0.7690875232774674,
          0.7783985102420857,
          0.7783985102420857,
          0.7709497206703911,
          0.7783985102420857,
          0.7690875232774674,
          0.7728119180633147,
          0.7672253258845437,
          0.7746741154562384,
          0.7728119180633147
         ],
         "type": "scatter"
        },
        {
         "mode": "lines",
         "name": "Best Value",
         "x": [
          0,
          1,
          2,
          3,
          4,
          5,
          6,
          7,
          8,
          9,
          10,
          11,
          12,
          13,
          14,
          15,
          16,
          17,
          18,
          19,
          20,
          21,
          22,
          23,
          24,
          25,
          26,
          27,
          28,
          29,
          30,
          31,
          32,
          33,
          34,
          35,
          36,
          37,
          38,
          39,
          40,
          41,
          42,
          43,
          44,
          45,
          46,
          47,
          48,
          49,
          50,
          51,
          52,
          53,
          54,
          55,
          56,
          57,
          58,
          59,
          60,
          61,
          62,
          63,
          64,
          65,
          66,
          67,
          68,
          69,
          70,
          71,
          72,
          73,
          74,
          75,
          76,
          77,
          78,
          79,
          80,
          81,
          82,
          83,
          84,
          85,
          86,
          87,
          88,
          89,
          90,
          91,
          92,
          93,
          94,
          95,
          96,
          97,
          98,
          99
         ],
         "y": [
          0.7783985102420856,
          0.7783985102420856,
          0.7783985102420856,
          0.7783985102420856,
          0.7783985102420856,
          0.7783985102420856,
          0.7783985102420856,
          0.7783985102420856,
          0.7783985102420856,
          0.7783985102420856,
          0.7783985102420857,
          0.7783985102420857,
          0.7783985102420857,
          0.7783985102420857,
          0.7783985102420857,
          0.7783985102420857,
          0.7783985102420857,
          0.7783985102420857,
          0.7783985102420857,
          0.7783985102420857,
          0.7783985102420857,
          0.7783985102420857,
          0.7783985102420857,
          0.7783985102420857,
          0.7783985102420857,
          0.7783985102420857,
          0.7783985102420857,
          0.7783985102420857,
          0.7783985102420857,
          0.7783985102420857,
          0.7783985102420857,
          0.7783985102420857,
          0.7783985102420857,
          0.7839851024208566,
          0.7839851024208566,
          0.7839851024208566,
          0.7839851024208566,
          0.7839851024208566,
          0.7839851024208566,
          0.7839851024208566,
          0.7839851024208566,
          0.7839851024208566,
          0.7839851024208566,
          0.7839851024208566,
          0.7839851024208566,
          0.7839851024208566,
          0.7839851024208566,
          0.7839851024208566,
          0.7839851024208566,
          0.7839851024208566,
          0.7839851024208566,
          0.7839851024208566,
          0.7839851024208566,
          0.7839851024208566,
          0.7839851024208566,
          0.7839851024208566,
          0.7839851024208566,
          0.7839851024208566,
          0.7839851024208566,
          0.7839851024208566,
          0.7839851024208566,
          0.7839851024208566,
          0.7839851024208566,
          0.7839851024208566,
          0.7839851024208566,
          0.7839851024208566,
          0.7839851024208566,
          0.7839851024208566,
          0.7839851024208566,
          0.7839851024208566,
          0.7839851024208566,
          0.7839851024208566,
          0.7839851024208566,
          0.7839851024208566,
          0.7839851024208566,
          0.7839851024208566,
          0.7839851024208566,
          0.7839851024208566,
          0.7839851024208566,
          0.7839851024208566,
          0.7839851024208566,
          0.7839851024208566,
          0.7839851024208566,
          0.7839851024208566,
          0.7839851024208566,
          0.7839851024208566,
          0.7839851024208566,
          0.7839851024208566,
          0.7839851024208566,
          0.7839851024208566,
          0.7839851024208566,
          0.7839851024208566,
          0.7839851024208566,
          0.7839851024208566,
          0.7839851024208566,
          0.7839851024208566,
          0.7839851024208566,
          0.7839851024208566,
          0.7839851024208566,
          0.7839851024208566
         ],
         "type": "scatter"
        },
        {
         "marker": {
          "color": "#cccccc"
         },
         "mode": "markers",
         "name": "Infeasible Trial",
         "showlegend": false,
         "x": [],
         "y": [],
         "type": "scatter"
        }
       ],
       "layout": {
        "title": {
         "text": "Optimization History Plot"
        },
        "xaxis": {
         "title": {
          "text": "Trial"
         }
        },
        "yaxis": {
         "title": {
          "text": "Objective Value"
         }
        },
        "template": {
         "data": {
          "histogram2dcontour": [
           {
            "type": "histogram2dcontour",
            "colorbar": {
             "outlinewidth": 0,
             "ticks": ""
            },
            "colorscale": [
             [
              0.0,
              "#0d0887"
             ],
             [
              0.1111111111111111,
              "#46039f"
             ],
             [
              0.2222222222222222,
              "#7201a8"
             ],
             [
              0.3333333333333333,
              "#9c179e"
             ],
             [
              0.4444444444444444,
              "#bd3786"
             ],
             [
              0.5555555555555556,
              "#d8576b"
             ],
             [
              0.6666666666666666,
              "#ed7953"
             ],
             [
              0.7777777777777778,
              "#fb9f3a"
             ],
             [
              0.8888888888888888,
              "#fdca26"
             ],
             [
              1.0,
              "#f0f921"
             ]
            ]
           }
          ],
          "choropleth": [
           {
            "type": "choropleth",
            "colorbar": {
             "outlinewidth": 0,
             "ticks": ""
            }
           }
          ],
          "histogram2d": [
           {
            "type": "histogram2d",
            "colorbar": {
             "outlinewidth": 0,
             "ticks": ""
            },
            "colorscale": [
             [
              0.0,
              "#0d0887"
             ],
             [
              0.1111111111111111,
              "#46039f"
             ],
             [
              0.2222222222222222,
              "#7201a8"
             ],
             [
              0.3333333333333333,
              "#9c179e"
             ],
             [
              0.4444444444444444,
              "#bd3786"
             ],
             [
              0.5555555555555556,
              "#d8576b"
             ],
             [
              0.6666666666666666,
              "#ed7953"
             ],
             [
              0.7777777777777778,
              "#fb9f3a"
             ],
             [
              0.8888888888888888,
              "#fdca26"
             ],
             [
              1.0,
              "#f0f921"
             ]
            ]
           }
          ],
          "heatmap": [
           {
            "type": "heatmap",
            "colorbar": {
             "outlinewidth": 0,
             "ticks": ""
            },
            "colorscale": [
             [
              0.0,
              "#0d0887"
             ],
             [
              0.1111111111111111,
              "#46039f"
             ],
             [
              0.2222222222222222,
              "#7201a8"
             ],
             [
              0.3333333333333333,
              "#9c179e"
             ],
             [
              0.4444444444444444,
              "#bd3786"
             ],
             [
              0.5555555555555556,
              "#d8576b"
             ],
             [
              0.6666666666666666,
              "#ed7953"
             ],
             [
              0.7777777777777778,
              "#fb9f3a"
             ],
             [
              0.8888888888888888,
              "#fdca26"
             ],
             [
              1.0,
              "#f0f921"
             ]
            ]
           }
          ],
          "contourcarpet": [
           {
            "type": "contourcarpet",
            "colorbar": {
             "outlinewidth": 0,
             "ticks": ""
            }
           }
          ],
          "contour": [
           {
            "type": "contour",
            "colorbar": {
             "outlinewidth": 0,
             "ticks": ""
            },
            "colorscale": [
             [
              0.0,
              "#0d0887"
             ],
             [
              0.1111111111111111,
              "#46039f"
             ],
             [
              0.2222222222222222,
              "#7201a8"
             ],
             [
              0.3333333333333333,
              "#9c179e"
             ],
             [
              0.4444444444444444,
              "#bd3786"
             ],
             [
              0.5555555555555556,
              "#d8576b"
             ],
             [
              0.6666666666666666,
              "#ed7953"
             ],
             [
              0.7777777777777778,
              "#fb9f3a"
             ],
             [
              0.8888888888888888,
              "#fdca26"
             ],
             [
              1.0,
              "#f0f921"
             ]
            ]
           }
          ],
          "surface": [
           {
            "type": "surface",
            "colorbar": {
             "outlinewidth": 0,
             "ticks": ""
            },
            "colorscale": [
             [
              0.0,
              "#0d0887"
             ],
             [
              0.1111111111111111,
              "#46039f"
             ],
             [
              0.2222222222222222,
              "#7201a8"
             ],
             [
              0.3333333333333333,
              "#9c179e"
             ],
             [
              0.4444444444444444,
              "#bd3786"
             ],
             [
              0.5555555555555556,
              "#d8576b"
             ],
             [
              0.6666666666666666,
              "#ed7953"
             ],
             [
              0.7777777777777778,
              "#fb9f3a"
             ],
             [
              0.8888888888888888,
              "#fdca26"
             ],
             [
              1.0,
              "#f0f921"
             ]
            ]
           }
          ],
          "mesh3d": [
           {
            "type": "mesh3d",
            "colorbar": {
             "outlinewidth": 0,
             "ticks": ""
            }
           }
          ],
          "scatter": [
           {
            "fillpattern": {
             "fillmode": "overlay",
             "size": 10,
             "solidity": 0.2
            },
            "type": "scatter"
           }
          ],
          "parcoords": [
           {
            "type": "parcoords",
            "line": {
             "colorbar": {
              "outlinewidth": 0,
              "ticks": ""
             }
            }
           }
          ],
          "scatterpolargl": [
           {
            "type": "scatterpolargl",
            "marker": {
             "colorbar": {
              "outlinewidth": 0,
              "ticks": ""
             }
            }
           }
          ],
          "bar": [
           {
            "error_x": {
             "color": "#2a3f5f"
            },
            "error_y": {
             "color": "#2a3f5f"
            },
            "marker": {
             "line": {
              "color": "#E5ECF6",
              "width": 0.5
             },
             "pattern": {
              "fillmode": "overlay",
              "size": 10,
              "solidity": 0.2
             }
            },
            "type": "bar"
           }
          ],
          "scattergeo": [
           {
            "type": "scattergeo",
            "marker": {
             "colorbar": {
              "outlinewidth": 0,
              "ticks": ""
             }
            }
           }
          ],
          "scatterpolar": [
           {
            "type": "scatterpolar",
            "marker": {
             "colorbar": {
              "outlinewidth": 0,
              "ticks": ""
             }
            }
           }
          ],
          "histogram": [
           {
            "marker": {
             "pattern": {
              "fillmode": "overlay",
              "size": 10,
              "solidity": 0.2
             }
            },
            "type": "histogram"
           }
          ],
          "scattergl": [
           {
            "type": "scattergl",
            "marker": {
             "colorbar": {
              "outlinewidth": 0,
              "ticks": ""
             }
            }
           }
          ],
          "scatter3d": [
           {
            "type": "scatter3d",
            "line": {
             "colorbar": {
              "outlinewidth": 0,
              "ticks": ""
             }
            },
            "marker": {
             "colorbar": {
              "outlinewidth": 0,
              "ticks": ""
             }
            }
           }
          ],
          "scattermap": [
           {
            "type": "scattermap",
            "marker": {
             "colorbar": {
              "outlinewidth": 0,
              "ticks": ""
             }
            }
           }
          ],
          "scattermapbox": [
           {
            "type": "scattermapbox",
            "marker": {
             "colorbar": {
              "outlinewidth": 0,
              "ticks": ""
             }
            }
           }
          ],
          "scatterternary": [
           {
            "type": "scatterternary",
            "marker": {
             "colorbar": {
              "outlinewidth": 0,
              "ticks": ""
             }
            }
           }
          ],
          "scattercarpet": [
           {
            "type": "scattercarpet",
            "marker": {
             "colorbar": {
              "outlinewidth": 0,
              "ticks": ""
             }
            }
           }
          ],
          "carpet": [
           {
            "aaxis": {
             "endlinecolor": "#2a3f5f",
             "gridcolor": "white",
             "linecolor": "white",
             "minorgridcolor": "white",
             "startlinecolor": "#2a3f5f"
            },
            "baxis": {
             "endlinecolor": "#2a3f5f",
             "gridcolor": "white",
             "linecolor": "white",
             "minorgridcolor": "white",
             "startlinecolor": "#2a3f5f"
            },
            "type": "carpet"
           }
          ],
          "table": [
           {
            "cells": {
             "fill": {
              "color": "#EBF0F8"
             },
             "line": {
              "color": "white"
             }
            },
            "header": {
             "fill": {
              "color": "#C8D4E3"
             },
             "line": {
              "color": "white"
             }
            },
            "type": "table"
           }
          ],
          "barpolar": [
           {
            "marker": {
             "line": {
              "color": "#E5ECF6",
              "width": 0.5
             },
             "pattern": {
              "fillmode": "overlay",
              "size": 10,
              "solidity": 0.2
             }
            },
            "type": "barpolar"
           }
          ],
          "pie": [
           {
            "automargin": true,
            "type": "pie"
           }
          ]
         },
         "layout": {
          "autotypenumbers": "strict",
          "colorway": [
           "#636efa",
           "#EF553B",
           "#00cc96",
           "#ab63fa",
           "#FFA15A",
           "#19d3f3",
           "#FF6692",
           "#B6E880",
           "#FF97FF",
           "#FECB52"
          ],
          "font": {
           "color": "#2a3f5f"
          },
          "hovermode": "closest",
          "hoverlabel": {
           "align": "left"
          },
          "paper_bgcolor": "white",
          "plot_bgcolor": "#E5ECF6",
          "polar": {
           "bgcolor": "#E5ECF6",
           "angularaxis": {
            "gridcolor": "white",
            "linecolor": "white",
            "ticks": ""
           },
           "radialaxis": {
            "gridcolor": "white",
            "linecolor": "white",
            "ticks": ""
           }
          },
          "ternary": {
           "bgcolor": "#E5ECF6",
           "aaxis": {
            "gridcolor": "white",
            "linecolor": "white",
            "ticks": ""
           },
           "baxis": {
            "gridcolor": "white",
            "linecolor": "white",
            "ticks": ""
           },
           "caxis": {
            "gridcolor": "white",
            "linecolor": "white",
            "ticks": ""
           }
          },
          "coloraxis": {
           "colorbar": {
            "outlinewidth": 0,
            "ticks": ""
           }
          },
          "colorscale": {
           "sequential": [
            [
             0.0,
             "#0d0887"
            ],
            [
             0.1111111111111111,
             "#46039f"
            ],
            [
             0.2222222222222222,
             "#7201a8"
            ],
            [
             0.3333333333333333,
             "#9c179e"
            ],
            [
             0.4444444444444444,
             "#bd3786"
            ],
            [
             0.5555555555555556,
             "#d8576b"
            ],
            [
             0.6666666666666666,
             "#ed7953"
            ],
            [
             0.7777777777777778,
             "#fb9f3a"
            ],
            [
             0.8888888888888888,
             "#fdca26"
            ],
            [
             1.0,
             "#f0f921"
            ]
           ],
           "sequentialminus": [
            [
             0.0,
             "#0d0887"
            ],
            [
             0.1111111111111111,
             "#46039f"
            ],
            [
             0.2222222222222222,
             "#7201a8"
            ],
            [
             0.3333333333333333,
             "#9c179e"
            ],
            [
             0.4444444444444444,
             "#bd3786"
            ],
            [
             0.5555555555555556,
             "#d8576b"
            ],
            [
             0.6666666666666666,
             "#ed7953"
            ],
            [
             0.7777777777777778,
             "#fb9f3a"
            ],
            [
             0.8888888888888888,
             "#fdca26"
            ],
            [
             1.0,
             "#f0f921"
            ]
           ],
           "diverging": [
            [
             0,
             "#8e0152"
            ],
            [
             0.1,
             "#c51b7d"
            ],
            [
             0.2,
             "#de77ae"
            ],
            [
             0.3,
             "#f1b6da"
            ],
            [
             0.4,
             "#fde0ef"
            ],
            [
             0.5,
             "#f7f7f7"
            ],
            [
             0.6,
             "#e6f5d0"
            ],
            [
             0.7,
             "#b8e186"
            ],
            [
             0.8,
             "#7fbc41"
            ],
            [
             0.9,
             "#4d9221"
            ],
            [
             1,
             "#276419"
            ]
           ]
          },
          "xaxis": {
           "gridcolor": "white",
           "linecolor": "white",
           "ticks": "",
           "title": {
            "standoff": 15
           },
           "zerolinecolor": "white",
           "automargin": true,
           "zerolinewidth": 2
          },
          "yaxis": {
           "gridcolor": "white",
           "linecolor": "white",
           "ticks": "",
           "title": {
            "standoff": 15
           },
           "zerolinecolor": "white",
           "automargin": true,
           "zerolinewidth": 2
          },
          "scene": {
           "xaxis": {
            "backgroundcolor": "#E5ECF6",
            "gridcolor": "white",
            "linecolor": "white",
            "showbackground": true,
            "ticks": "",
            "zerolinecolor": "white",
            "gridwidth": 2
           },
           "yaxis": {
            "backgroundcolor": "#E5ECF6",
            "gridcolor": "white",
            "linecolor": "white",
            "showbackground": true,
            "ticks": "",
            "zerolinecolor": "white",
            "gridwidth": 2
           },
           "zaxis": {
            "backgroundcolor": "#E5ECF6",
            "gridcolor": "white",
            "linecolor": "white",
            "showbackground": true,
            "ticks": "",
            "zerolinecolor": "white",
            "gridwidth": 2
           }
          },
          "shapedefaults": {
           "line": {
            "color": "#2a3f5f"
           }
          },
          "annotationdefaults": {
           "arrowcolor": "#2a3f5f",
           "arrowhead": 0,
           "arrowwidth": 1
          },
          "geo": {
           "bgcolor": "white",
           "landcolor": "#E5ECF6",
           "subunitcolor": "white",
           "showland": true,
           "showlakes": true,
           "lakecolor": "white"
          },
          "title": {
           "x": 0.05
          },
          "mapbox": {
           "style": "light"
          }
         }
        }
       },
       "config": {
        "plotlyServerURL": "https://plot.ly"
       }
      }
     },
     "metadata": {},
     "output_type": "display_data"
    }
   ],
   "execution_count": 8
  },
  {
   "metadata": {
    "ExecuteTime": {
     "end_time": "2025-07-02T12:47:10.759352Z",
     "start_time": "2025-07-02T12:47:10.728160Z"
    }
   },
   "cell_type": "code",
   "source": [
    "# 2. Parallel Coordinate Plot - SHows the hotspots\n",
    "\n",
    "plot_parallel_coordinate(study).show()"
   ],
   "id": "8d20efa4867d4802",
   "outputs": [
    {
     "data": {
      "application/vnd.plotly.v1+json": {
       "data": [
        {
         "dimensions": [
          {
           "label": "Objective Value",
           "range": [
            0.7541899441340782,
            0.7839851024208566
           ],
           "values": [
            0.7783985102420856,
            0.7690875232774674,
            0.756052141527002,
            0.7653631284916201,
            0.7709497206703911,
            0.7653631284916201,
            0.7597765363128491,
            0.7690875232774674,
            0.7765363128491621,
            0.7597765363128491,
            0.7783985102420857,
            0.7765363128491621,
            0.7653631284916201,
            0.7746741154562384,
            0.7783985102420856,
            0.7728119180633147,
            0.7709497206703911,
            0.7690875232774674,
            0.7672253258845437,
            0.7783985102420857,
            0.7783985102420857,
            0.7746741154562384,
            0.7709497206703911,
            0.7746741154562384,
            0.7709497206703911,
            0.7709497206703911,
            0.7746741154562384,
            0.7653631284916201,
            0.7746741154562384,
            0.7765363128491621,
            0.7653631284916201,
            0.7690875232774674,
            0.7672253258845437,
            0.7839851024208566,
            0.7783985102420857,
            0.7653631284916201,
            0.7746741154562384,
            0.7765363128491619,
            0.7709497206703911,
            0.7690875232774674,
            0.7783985102420857,
            0.7783985102420857,
            0.7783985102420857,
            0.7690875232774674,
            0.7728119180633147,
            0.7783985102420857,
            0.7690875232774674,
            0.7597765363128492,
            0.7765363128491621,
            0.7802607076350093,
            0.7746741154562384,
            0.7765363128491621,
            0.7765363128491619,
            0.7690875232774674,
            0.7728119180633147,
            0.7690875232774674,
            0.7690875232774674,
            0.7690875232774674,
            0.7653631284916201,
            0.7728119180633147,
            0.7821229050279331,
            0.7783985102420857,
            0.7635009310986964,
            0.7709497206703911,
            0.7821229050279331,
            0.7709497206703911,
            0.7821229050279331,
            0.7821229050279331,
            0.7746741154562384,
            0.7709497206703911,
            0.7709497206703911,
            0.7765363128491621,
            0.7709497206703911,
            0.7672253258845437,
            0.7653631284916201,
            0.7635009310986964,
            0.7746741154562384,
            0.7653631284916201,
            0.7728119180633147,
            0.7728119180633147,
            0.7802607076350094,
            0.7802607076350094,
            0.7765363128491621,
            0.7746741154562384,
            0.7746741154562384,
            0.7653631284916201,
            0.7746741154562384,
            0.7690875232774674,
            0.7690875232774674,
            0.7541899441340782,
            0.7690875232774674,
            0.7783985102420857,
            0.7783985102420857,
            0.7709497206703911,
            0.7783985102420857,
            0.7690875232774674,
            0.7728119180633147,
            0.7672253258845437,
            0.7746741154562384,
            0.7728119180633147
           ]
          },
          {
           "label": "max_depth",
           "range": [
            3,
            20
           ],
           "values": [
            18,
            13,
            4,
            11,
            10,
            11,
            6,
            15,
            12,
            3,
            19,
            20,
            20,
            17,
            17,
            18,
            15,
            8,
            15,
            18,
            20,
            20,
            18,
            16,
            19,
            14,
            19,
            17,
            19,
            18,
            16,
            20,
            13,
            18,
            19,
            16,
            17,
            18,
            14,
            8,
            19,
            19,
            20,
            18,
            19,
            17,
            20,
            10,
            19,
            16,
            16,
            18,
            17,
            20,
            5,
            18,
            15,
            20,
            17,
            12,
            19,
            19,
            19,
            18,
            16,
            14,
            16,
            16,
            15,
            16,
            13,
            16,
            15,
            14,
            17,
            16,
            17,
            15,
            16,
            18,
            17,
            17,
            17,
            18,
            16,
            15,
            17,
            17,
            14,
            3,
            13,
            18,
            18,
            16,
            19,
            8,
            18,
            7,
            17,
            19
           ]
          },
          {
           "label": "n_estimators",
           "range": [
            50,
            200
           ],
           "values": [
            106,
            59,
            173,
            130,
            200,
            102,
            148,
            156,
            169,
            111,
            71,
            70,
            82,
            91,
            119,
            52,
            81,
            131,
            99,
            67,
            72,
            68,
            50,
            71,
            81,
            63,
            91,
            78,
            89,
            111,
            60,
            58,
            97,
            73,
            72,
            60,
            77,
            198,
            90,
            138,
            65,
            71,
            75,
            56,
            105,
            67,
            85,
            95,
            74,
            115,
            156,
            120,
            171,
            85,
            53,
            182,
            64,
            108,
            83,
            139,
            73,
            71,
            78,
            50,
            63,
            56,
            63,
            63,
            63,
            59,
            67,
            61,
            67,
            55,
            78,
            88,
            116,
            94,
            75,
            81,
            70,
            70,
            69,
            63,
            73,
            53,
            57,
            87,
            101,
            80,
            61,
            69,
            75,
            66,
            71,
            128,
            64,
            84,
            77,
            160
           ]
          }
         ],
         "labelangle": 30,
         "labelside": "bottom",
         "line": {
          "color": [
           0.7783985102420856,
           0.7690875232774674,
           0.756052141527002,
           0.7653631284916201,
           0.7709497206703911,
           0.7653631284916201,
           0.7597765363128491,
           0.7690875232774674,
           0.7765363128491621,
           0.7597765363128491,
           0.7783985102420857,
           0.7765363128491621,
           0.7653631284916201,
           0.7746741154562384,
           0.7783985102420856,
           0.7728119180633147,
           0.7709497206703911,
           0.7690875232774674,
           0.7672253258845437,
           0.7783985102420857,
           0.7783985102420857,
           0.7746741154562384,
           0.7709497206703911,
           0.7746741154562384,
           0.7709497206703911,
           0.7709497206703911,
           0.7746741154562384,
           0.7653631284916201,
           0.7746741154562384,
           0.7765363128491621,
           0.7653631284916201,
           0.7690875232774674,
           0.7672253258845437,
           0.7839851024208566,
           0.7783985102420857,
           0.7653631284916201,
           0.7746741154562384,
           0.7765363128491619,
           0.7709497206703911,
           0.7690875232774674,
           0.7783985102420857,
           0.7783985102420857,
           0.7783985102420857,
           0.7690875232774674,
           0.7728119180633147,
           0.7783985102420857,
           0.7690875232774674,
           0.7597765363128492,
           0.7765363128491621,
           0.7802607076350093,
           0.7746741154562384,
           0.7765363128491621,
           0.7765363128491619,
           0.7690875232774674,
           0.7728119180633147,
           0.7690875232774674,
           0.7690875232774674,
           0.7690875232774674,
           0.7653631284916201,
           0.7728119180633147,
           0.7821229050279331,
           0.7783985102420857,
           0.7635009310986964,
           0.7709497206703911,
           0.7821229050279331,
           0.7709497206703911,
           0.7821229050279331,
           0.7821229050279331,
           0.7746741154562384,
           0.7709497206703911,
           0.7709497206703911,
           0.7765363128491621,
           0.7709497206703911,
           0.7672253258845437,
           0.7653631284916201,
           0.7635009310986964,
           0.7746741154562384,
           0.7653631284916201,
           0.7728119180633147,
           0.7728119180633147,
           0.7802607076350094,
           0.7802607076350094,
           0.7765363128491621,
           0.7746741154562384,
           0.7746741154562384,
           0.7653631284916201,
           0.7746741154562384,
           0.7690875232774674,
           0.7690875232774674,
           0.7541899441340782,
           0.7690875232774674,
           0.7783985102420857,
           0.7783985102420857,
           0.7709497206703911,
           0.7783985102420857,
           0.7690875232774674,
           0.7728119180633147,
           0.7672253258845437,
           0.7746741154562384,
           0.7728119180633147
          ],
          "colorbar": {
           "title": {
            "text": "Objective Value"
           }
          },
          "colorscale": [
           [
            0.0,
            "rgb(247,251,255)"
           ],
           [
            0.125,
            "rgb(222,235,247)"
           ],
           [
            0.25,
            "rgb(198,219,239)"
           ],
           [
            0.375,
            "rgb(158,202,225)"
           ],
           [
            0.5,
            "rgb(107,174,214)"
           ],
           [
            0.625,
            "rgb(66,146,198)"
           ],
           [
            0.75,
            "rgb(33,113,181)"
           ],
           [
            0.875,
            "rgb(8,81,156)"
           ],
           [
            1.0,
            "rgb(8,48,107)"
           ]
          ],
          "reversescale": false,
          "showscale": true
         },
         "type": "parcoords"
        }
       ],
       "layout": {
        "title": {
         "text": "Parallel Coordinate Plot"
        },
        "template": {
         "data": {
          "histogram2dcontour": [
           {
            "type": "histogram2dcontour",
            "colorbar": {
             "outlinewidth": 0,
             "ticks": ""
            },
            "colorscale": [
             [
              0.0,
              "#0d0887"
             ],
             [
              0.1111111111111111,
              "#46039f"
             ],
             [
              0.2222222222222222,
              "#7201a8"
             ],
             [
              0.3333333333333333,
              "#9c179e"
             ],
             [
              0.4444444444444444,
              "#bd3786"
             ],
             [
              0.5555555555555556,
              "#d8576b"
             ],
             [
              0.6666666666666666,
              "#ed7953"
             ],
             [
              0.7777777777777778,
              "#fb9f3a"
             ],
             [
              0.8888888888888888,
              "#fdca26"
             ],
             [
              1.0,
              "#f0f921"
             ]
            ]
           }
          ],
          "choropleth": [
           {
            "type": "choropleth",
            "colorbar": {
             "outlinewidth": 0,
             "ticks": ""
            }
           }
          ],
          "histogram2d": [
           {
            "type": "histogram2d",
            "colorbar": {
             "outlinewidth": 0,
             "ticks": ""
            },
            "colorscale": [
             [
              0.0,
              "#0d0887"
             ],
             [
              0.1111111111111111,
              "#46039f"
             ],
             [
              0.2222222222222222,
              "#7201a8"
             ],
             [
              0.3333333333333333,
              "#9c179e"
             ],
             [
              0.4444444444444444,
              "#bd3786"
             ],
             [
              0.5555555555555556,
              "#d8576b"
             ],
             [
              0.6666666666666666,
              "#ed7953"
             ],
             [
              0.7777777777777778,
              "#fb9f3a"
             ],
             [
              0.8888888888888888,
              "#fdca26"
             ],
             [
              1.0,
              "#f0f921"
             ]
            ]
           }
          ],
          "heatmap": [
           {
            "type": "heatmap",
            "colorbar": {
             "outlinewidth": 0,
             "ticks": ""
            },
            "colorscale": [
             [
              0.0,
              "#0d0887"
             ],
             [
              0.1111111111111111,
              "#46039f"
             ],
             [
              0.2222222222222222,
              "#7201a8"
             ],
             [
              0.3333333333333333,
              "#9c179e"
             ],
             [
              0.4444444444444444,
              "#bd3786"
             ],
             [
              0.5555555555555556,
              "#d8576b"
             ],
             [
              0.6666666666666666,
              "#ed7953"
             ],
             [
              0.7777777777777778,
              "#fb9f3a"
             ],
             [
              0.8888888888888888,
              "#fdca26"
             ],
             [
              1.0,
              "#f0f921"
             ]
            ]
           }
          ],
          "contourcarpet": [
           {
            "type": "contourcarpet",
            "colorbar": {
             "outlinewidth": 0,
             "ticks": ""
            }
           }
          ],
          "contour": [
           {
            "type": "contour",
            "colorbar": {
             "outlinewidth": 0,
             "ticks": ""
            },
            "colorscale": [
             [
              0.0,
              "#0d0887"
             ],
             [
              0.1111111111111111,
              "#46039f"
             ],
             [
              0.2222222222222222,
              "#7201a8"
             ],
             [
              0.3333333333333333,
              "#9c179e"
             ],
             [
              0.4444444444444444,
              "#bd3786"
             ],
             [
              0.5555555555555556,
              "#d8576b"
             ],
             [
              0.6666666666666666,
              "#ed7953"
             ],
             [
              0.7777777777777778,
              "#fb9f3a"
             ],
             [
              0.8888888888888888,
              "#fdca26"
             ],
             [
              1.0,
              "#f0f921"
             ]
            ]
           }
          ],
          "surface": [
           {
            "type": "surface",
            "colorbar": {
             "outlinewidth": 0,
             "ticks": ""
            },
            "colorscale": [
             [
              0.0,
              "#0d0887"
             ],
             [
              0.1111111111111111,
              "#46039f"
             ],
             [
              0.2222222222222222,
              "#7201a8"
             ],
             [
              0.3333333333333333,
              "#9c179e"
             ],
             [
              0.4444444444444444,
              "#bd3786"
             ],
             [
              0.5555555555555556,
              "#d8576b"
             ],
             [
              0.6666666666666666,
              "#ed7953"
             ],
             [
              0.7777777777777778,
              "#fb9f3a"
             ],
             [
              0.8888888888888888,
              "#fdca26"
             ],
             [
              1.0,
              "#f0f921"
             ]
            ]
           }
          ],
          "mesh3d": [
           {
            "type": "mesh3d",
            "colorbar": {
             "outlinewidth": 0,
             "ticks": ""
            }
           }
          ],
          "scatter": [
           {
            "fillpattern": {
             "fillmode": "overlay",
             "size": 10,
             "solidity": 0.2
            },
            "type": "scatter"
           }
          ],
          "parcoords": [
           {
            "type": "parcoords",
            "line": {
             "colorbar": {
              "outlinewidth": 0,
              "ticks": ""
             }
            }
           }
          ],
          "scatterpolargl": [
           {
            "type": "scatterpolargl",
            "marker": {
             "colorbar": {
              "outlinewidth": 0,
              "ticks": ""
             }
            }
           }
          ],
          "bar": [
           {
            "error_x": {
             "color": "#2a3f5f"
            },
            "error_y": {
             "color": "#2a3f5f"
            },
            "marker": {
             "line": {
              "color": "#E5ECF6",
              "width": 0.5
             },
             "pattern": {
              "fillmode": "overlay",
              "size": 10,
              "solidity": 0.2
             }
            },
            "type": "bar"
           }
          ],
          "scattergeo": [
           {
            "type": "scattergeo",
            "marker": {
             "colorbar": {
              "outlinewidth": 0,
              "ticks": ""
             }
            }
           }
          ],
          "scatterpolar": [
           {
            "type": "scatterpolar",
            "marker": {
             "colorbar": {
              "outlinewidth": 0,
              "ticks": ""
             }
            }
           }
          ],
          "histogram": [
           {
            "marker": {
             "pattern": {
              "fillmode": "overlay",
              "size": 10,
              "solidity": 0.2
             }
            },
            "type": "histogram"
           }
          ],
          "scattergl": [
           {
            "type": "scattergl",
            "marker": {
             "colorbar": {
              "outlinewidth": 0,
              "ticks": ""
             }
            }
           }
          ],
          "scatter3d": [
           {
            "type": "scatter3d",
            "line": {
             "colorbar": {
              "outlinewidth": 0,
              "ticks": ""
             }
            },
            "marker": {
             "colorbar": {
              "outlinewidth": 0,
              "ticks": ""
             }
            }
           }
          ],
          "scattermap": [
           {
            "type": "scattermap",
            "marker": {
             "colorbar": {
              "outlinewidth": 0,
              "ticks": ""
             }
            }
           }
          ],
          "scattermapbox": [
           {
            "type": "scattermapbox",
            "marker": {
             "colorbar": {
              "outlinewidth": 0,
              "ticks": ""
             }
            }
           }
          ],
          "scatterternary": [
           {
            "type": "scatterternary",
            "marker": {
             "colorbar": {
              "outlinewidth": 0,
              "ticks": ""
             }
            }
           }
          ],
          "scattercarpet": [
           {
            "type": "scattercarpet",
            "marker": {
             "colorbar": {
              "outlinewidth": 0,
              "ticks": ""
             }
            }
           }
          ],
          "carpet": [
           {
            "aaxis": {
             "endlinecolor": "#2a3f5f",
             "gridcolor": "white",
             "linecolor": "white",
             "minorgridcolor": "white",
             "startlinecolor": "#2a3f5f"
            },
            "baxis": {
             "endlinecolor": "#2a3f5f",
             "gridcolor": "white",
             "linecolor": "white",
             "minorgridcolor": "white",
             "startlinecolor": "#2a3f5f"
            },
            "type": "carpet"
           }
          ],
          "table": [
           {
            "cells": {
             "fill": {
              "color": "#EBF0F8"
             },
             "line": {
              "color": "white"
             }
            },
            "header": {
             "fill": {
              "color": "#C8D4E3"
             },
             "line": {
              "color": "white"
             }
            },
            "type": "table"
           }
          ],
          "barpolar": [
           {
            "marker": {
             "line": {
              "color": "#E5ECF6",
              "width": 0.5
             },
             "pattern": {
              "fillmode": "overlay",
              "size": 10,
              "solidity": 0.2
             }
            },
            "type": "barpolar"
           }
          ],
          "pie": [
           {
            "automargin": true,
            "type": "pie"
           }
          ]
         },
         "layout": {
          "autotypenumbers": "strict",
          "colorway": [
           "#636efa",
           "#EF553B",
           "#00cc96",
           "#ab63fa",
           "#FFA15A",
           "#19d3f3",
           "#FF6692",
           "#B6E880",
           "#FF97FF",
           "#FECB52"
          ],
          "font": {
           "color": "#2a3f5f"
          },
          "hovermode": "closest",
          "hoverlabel": {
           "align": "left"
          },
          "paper_bgcolor": "white",
          "plot_bgcolor": "#E5ECF6",
          "polar": {
           "bgcolor": "#E5ECF6",
           "angularaxis": {
            "gridcolor": "white",
            "linecolor": "white",
            "ticks": ""
           },
           "radialaxis": {
            "gridcolor": "white",
            "linecolor": "white",
            "ticks": ""
           }
          },
          "ternary": {
           "bgcolor": "#E5ECF6",
           "aaxis": {
            "gridcolor": "white",
            "linecolor": "white",
            "ticks": ""
           },
           "baxis": {
            "gridcolor": "white",
            "linecolor": "white",
            "ticks": ""
           },
           "caxis": {
            "gridcolor": "white",
            "linecolor": "white",
            "ticks": ""
           }
          },
          "coloraxis": {
           "colorbar": {
            "outlinewidth": 0,
            "ticks": ""
           }
          },
          "colorscale": {
           "sequential": [
            [
             0.0,
             "#0d0887"
            ],
            [
             0.1111111111111111,
             "#46039f"
            ],
            [
             0.2222222222222222,
             "#7201a8"
            ],
            [
             0.3333333333333333,
             "#9c179e"
            ],
            [
             0.4444444444444444,
             "#bd3786"
            ],
            [
             0.5555555555555556,
             "#d8576b"
            ],
            [
             0.6666666666666666,
             "#ed7953"
            ],
            [
             0.7777777777777778,
             "#fb9f3a"
            ],
            [
             0.8888888888888888,
             "#fdca26"
            ],
            [
             1.0,
             "#f0f921"
            ]
           ],
           "sequentialminus": [
            [
             0.0,
             "#0d0887"
            ],
            [
             0.1111111111111111,
             "#46039f"
            ],
            [
             0.2222222222222222,
             "#7201a8"
            ],
            [
             0.3333333333333333,
             "#9c179e"
            ],
            [
             0.4444444444444444,
             "#bd3786"
            ],
            [
             0.5555555555555556,
             "#d8576b"
            ],
            [
             0.6666666666666666,
             "#ed7953"
            ],
            [
             0.7777777777777778,
             "#fb9f3a"
            ],
            [
             0.8888888888888888,
             "#fdca26"
            ],
            [
             1.0,
             "#f0f921"
            ]
           ],
           "diverging": [
            [
             0,
             "#8e0152"
            ],
            [
             0.1,
             "#c51b7d"
            ],
            [
             0.2,
             "#de77ae"
            ],
            [
             0.3,
             "#f1b6da"
            ],
            [
             0.4,
             "#fde0ef"
            ],
            [
             0.5,
             "#f7f7f7"
            ],
            [
             0.6,
             "#e6f5d0"
            ],
            [
             0.7,
             "#b8e186"
            ],
            [
             0.8,
             "#7fbc41"
            ],
            [
             0.9,
             "#4d9221"
            ],
            [
             1,
             "#276419"
            ]
           ]
          },
          "xaxis": {
           "gridcolor": "white",
           "linecolor": "white",
           "ticks": "",
           "title": {
            "standoff": 15
           },
           "zerolinecolor": "white",
           "automargin": true,
           "zerolinewidth": 2
          },
          "yaxis": {
           "gridcolor": "white",
           "linecolor": "white",
           "ticks": "",
           "title": {
            "standoff": 15
           },
           "zerolinecolor": "white",
           "automargin": true,
           "zerolinewidth": 2
          },
          "scene": {
           "xaxis": {
            "backgroundcolor": "#E5ECF6",
            "gridcolor": "white",
            "linecolor": "white",
            "showbackground": true,
            "ticks": "",
            "zerolinecolor": "white",
            "gridwidth": 2
           },
           "yaxis": {
            "backgroundcolor": "#E5ECF6",
            "gridcolor": "white",
            "linecolor": "white",
            "showbackground": true,
            "ticks": "",
            "zerolinecolor": "white",
            "gridwidth": 2
           },
           "zaxis": {
            "backgroundcolor": "#E5ECF6",
            "gridcolor": "white",
            "linecolor": "white",
            "showbackground": true,
            "ticks": "",
            "zerolinecolor": "white",
            "gridwidth": 2
           }
          },
          "shapedefaults": {
           "line": {
            "color": "#2a3f5f"
           }
          },
          "annotationdefaults": {
           "arrowcolor": "#2a3f5f",
           "arrowhead": 0,
           "arrowwidth": 1
          },
          "geo": {
           "bgcolor": "white",
           "landcolor": "#E5ECF6",
           "subunitcolor": "white",
           "showland": true,
           "showlakes": true,
           "lakecolor": "white"
          },
          "title": {
           "x": 0.05
          },
          "mapbox": {
           "style": "light"
          }
         }
        }
       },
       "config": {
        "plotlyServerURL": "https://plot.ly"
       }
      }
     },
     "metadata": {},
     "output_type": "display_data"
    }
   ],
   "execution_count": 9
  },
  {
   "metadata": {
    "ExecuteTime": {
     "end_time": "2025-07-02T12:58:21.708342Z",
     "start_time": "2025-07-02T12:58:21.643563Z"
    }
   },
   "cell_type": "code",
   "source": [
    "# 3. Slice Plot - Individually plots objective function vs each hyperparameter\n",
    "\n",
    "plot_slice(study).show()"
   ],
   "id": "6c907523e7e31b30",
   "outputs": [
    {
     "data": {
      "application/vnd.plotly.v1+json": {
       "data": [
        {
         "marker": {
          "color": [
           0,
           1,
           2,
           3,
           4,
           5,
           6,
           7,
           8,
           9,
           10,
           11,
           12,
           13,
           14,
           15,
           16,
           17,
           18,
           19,
           20,
           21,
           22,
           23,
           24,
           25,
           26,
           27,
           28,
           29,
           30,
           31,
           32,
           33,
           34,
           35,
           36,
           37,
           38,
           39,
           40,
           41,
           42,
           43,
           44,
           45,
           46,
           47,
           48,
           49,
           50,
           51,
           52,
           53,
           54,
           55,
           56,
           57,
           58,
           59,
           60,
           61,
           62,
           63,
           64,
           65,
           66,
           67,
           68,
           69,
           70,
           71,
           72,
           73,
           74,
           75,
           76,
           77,
           78,
           79,
           80,
           81,
           82,
           83,
           84,
           85,
           86,
           87,
           88,
           89,
           90,
           91,
           92,
           93,
           94,
           95,
           96,
           97,
           98,
           99
          ],
          "colorbar": {
           "title": {
            "text": "Trial"
           },
           "x": 1.0,
           "xpad": 40
          },
          "colorscale": [
           [
            0.0,
            "rgb(247,251,255)"
           ],
           [
            0.125,
            "rgb(222,235,247)"
           ],
           [
            0.25,
            "rgb(198,219,239)"
           ],
           [
            0.375,
            "rgb(158,202,225)"
           ],
           [
            0.5,
            "rgb(107,174,214)"
           ],
           [
            0.625,
            "rgb(66,146,198)"
           ],
           [
            0.75,
            "rgb(33,113,181)"
           ],
           [
            0.875,
            "rgb(8,81,156)"
           ],
           [
            1.0,
            "rgb(8,48,107)"
           ]
          ],
          "line": {
           "color": "Grey",
           "width": 0.5
          },
          "showscale": true
         },
         "mode": "markers",
         "name": "Feasible Trial",
         "showlegend": false,
         "x": [
          18,
          13,
          4,
          11,
          10,
          11,
          6,
          15,
          12,
          3,
          19,
          20,
          20,
          17,
          17,
          18,
          15,
          8,
          15,
          18,
          20,
          20,
          18,
          16,
          19,
          14,
          19,
          17,
          19,
          18,
          16,
          20,
          13,
          18,
          19,
          16,
          17,
          18,
          14,
          8,
          19,
          19,
          20,
          18,
          19,
          17,
          20,
          10,
          19,
          16,
          16,
          18,
          17,
          20,
          5,
          18,
          15,
          20,
          17,
          12,
          19,
          19,
          19,
          18,
          16,
          14,
          16,
          16,
          15,
          16,
          13,
          16,
          15,
          14,
          17,
          16,
          17,
          15,
          16,
          18,
          17,
          17,
          17,
          18,
          16,
          15,
          17,
          17,
          14,
          3,
          13,
          18,
          18,
          16,
          19,
          8,
          18,
          7,
          17,
          19
         ],
         "y": [
          0.7783985102420856,
          0.7690875232774674,
          0.756052141527002,
          0.7653631284916201,
          0.7709497206703911,
          0.7653631284916201,
          0.7597765363128491,
          0.7690875232774674,
          0.7765363128491621,
          0.7597765363128491,
          0.7783985102420857,
          0.7765363128491621,
          0.7653631284916201,
          0.7746741154562384,
          0.7783985102420856,
          0.7728119180633147,
          0.7709497206703911,
          0.7690875232774674,
          0.7672253258845437,
          0.7783985102420857,
          0.7783985102420857,
          0.7746741154562384,
          0.7709497206703911,
          0.7746741154562384,
          0.7709497206703911,
          0.7709497206703911,
          0.7746741154562384,
          0.7653631284916201,
          0.7746741154562384,
          0.7765363128491621,
          0.7653631284916201,
          0.7690875232774674,
          0.7672253258845437,
          0.7839851024208566,
          0.7783985102420857,
          0.7653631284916201,
          0.7746741154562384,
          0.7765363128491619,
          0.7709497206703911,
          0.7690875232774674,
          0.7783985102420857,
          0.7783985102420857,
          0.7783985102420857,
          0.7690875232774674,
          0.7728119180633147,
          0.7783985102420857,
          0.7690875232774674,
          0.7597765363128492,
          0.7765363128491621,
          0.7802607076350093,
          0.7746741154562384,
          0.7765363128491621,
          0.7765363128491619,
          0.7690875232774674,
          0.7728119180633147,
          0.7690875232774674,
          0.7690875232774674,
          0.7690875232774674,
          0.7653631284916201,
          0.7728119180633147,
          0.7821229050279331,
          0.7783985102420857,
          0.7635009310986964,
          0.7709497206703911,
          0.7821229050279331,
          0.7709497206703911,
          0.7821229050279331,
          0.7821229050279331,
          0.7746741154562384,
          0.7709497206703911,
          0.7709497206703911,
          0.7765363128491621,
          0.7709497206703911,
          0.7672253258845437,
          0.7653631284916201,
          0.7635009310986964,
          0.7746741154562384,
          0.7653631284916201,
          0.7728119180633147,
          0.7728119180633147,
          0.7802607076350094,
          0.7802607076350094,
          0.7765363128491621,
          0.7746741154562384,
          0.7746741154562384,
          0.7653631284916201,
          0.7746741154562384,
          0.7690875232774674,
          0.7690875232774674,
          0.7541899441340782,
          0.7690875232774674,
          0.7783985102420857,
          0.7783985102420857,
          0.7709497206703911,
          0.7783985102420857,
          0.7690875232774674,
          0.7728119180633147,
          0.7672253258845437,
          0.7746741154562384,
          0.7728119180633147
         ],
         "type": "scatter",
         "xaxis": "x",
         "yaxis": "y"
        },
        {
         "marker": {
          "color": [
           0,
           1,
           2,
           3,
           4,
           5,
           6,
           7,
           8,
           9,
           10,
           11,
           12,
           13,
           14,
           15,
           16,
           17,
           18,
           19,
           20,
           21,
           22,
           23,
           24,
           25,
           26,
           27,
           28,
           29,
           30,
           31,
           32,
           33,
           34,
           35,
           36,
           37,
           38,
           39,
           40,
           41,
           42,
           43,
           44,
           45,
           46,
           47,
           48,
           49,
           50,
           51,
           52,
           53,
           54,
           55,
           56,
           57,
           58,
           59,
           60,
           61,
           62,
           63,
           64,
           65,
           66,
           67,
           68,
           69,
           70,
           71,
           72,
           73,
           74,
           75,
           76,
           77,
           78,
           79,
           80,
           81,
           82,
           83,
           84,
           85,
           86,
           87,
           88,
           89,
           90,
           91,
           92,
           93,
           94,
           95,
           96,
           97,
           98,
           99
          ],
          "colorbar": {
           "title": {
            "text": "Trial"
           },
           "x": 1.0,
           "xpad": 40
          },
          "colorscale": [
           [
            0.0,
            "rgb(247,251,255)"
           ],
           [
            0.125,
            "rgb(222,235,247)"
           ],
           [
            0.25,
            "rgb(198,219,239)"
           ],
           [
            0.375,
            "rgb(158,202,225)"
           ],
           [
            0.5,
            "rgb(107,174,214)"
           ],
           [
            0.625,
            "rgb(66,146,198)"
           ],
           [
            0.75,
            "rgb(33,113,181)"
           ],
           [
            0.875,
            "rgb(8,81,156)"
           ],
           [
            1.0,
            "rgb(8,48,107)"
           ]
          ],
          "line": {
           "color": "Grey",
           "width": 0.5
          },
          "showscale": false
         },
         "mode": "markers",
         "name": "Feasible Trial",
         "showlegend": false,
         "x": [
          106,
          59,
          173,
          130,
          200,
          102,
          148,
          156,
          169,
          111,
          71,
          70,
          82,
          91,
          119,
          52,
          81,
          131,
          99,
          67,
          72,
          68,
          50,
          71,
          81,
          63,
          91,
          78,
          89,
          111,
          60,
          58,
          97,
          73,
          72,
          60,
          77,
          198,
          90,
          138,
          65,
          71,
          75,
          56,
          105,
          67,
          85,
          95,
          74,
          115,
          156,
          120,
          171,
          85,
          53,
          182,
          64,
          108,
          83,
          139,
          73,
          71,
          78,
          50,
          63,
          56,
          63,
          63,
          63,
          59,
          67,
          61,
          67,
          55,
          78,
          88,
          116,
          94,
          75,
          81,
          70,
          70,
          69,
          63,
          73,
          53,
          57,
          87,
          101,
          80,
          61,
          69,
          75,
          66,
          71,
          128,
          64,
          84,
          77,
          160
         ],
         "y": [
          0.7783985102420856,
          0.7690875232774674,
          0.756052141527002,
          0.7653631284916201,
          0.7709497206703911,
          0.7653631284916201,
          0.7597765363128491,
          0.7690875232774674,
          0.7765363128491621,
          0.7597765363128491,
          0.7783985102420857,
          0.7765363128491621,
          0.7653631284916201,
          0.7746741154562384,
          0.7783985102420856,
          0.7728119180633147,
          0.7709497206703911,
          0.7690875232774674,
          0.7672253258845437,
          0.7783985102420857,
          0.7783985102420857,
          0.7746741154562384,
          0.7709497206703911,
          0.7746741154562384,
          0.7709497206703911,
          0.7709497206703911,
          0.7746741154562384,
          0.7653631284916201,
          0.7746741154562384,
          0.7765363128491621,
          0.7653631284916201,
          0.7690875232774674,
          0.7672253258845437,
          0.7839851024208566,
          0.7783985102420857,
          0.7653631284916201,
          0.7746741154562384,
          0.7765363128491619,
          0.7709497206703911,
          0.7690875232774674,
          0.7783985102420857,
          0.7783985102420857,
          0.7783985102420857,
          0.7690875232774674,
          0.7728119180633147,
          0.7783985102420857,
          0.7690875232774674,
          0.7597765363128492,
          0.7765363128491621,
          0.7802607076350093,
          0.7746741154562384,
          0.7765363128491621,
          0.7765363128491619,
          0.7690875232774674,
          0.7728119180633147,
          0.7690875232774674,
          0.7690875232774674,
          0.7690875232774674,
          0.7653631284916201,
          0.7728119180633147,
          0.7821229050279331,
          0.7783985102420857,
          0.7635009310986964,
          0.7709497206703911,
          0.7821229050279331,
          0.7709497206703911,
          0.7821229050279331,
          0.7821229050279331,
          0.7746741154562384,
          0.7709497206703911,
          0.7709497206703911,
          0.7765363128491621,
          0.7709497206703911,
          0.7672253258845437,
          0.7653631284916201,
          0.7635009310986964,
          0.7746741154562384,
          0.7653631284916201,
          0.7728119180633147,
          0.7728119180633147,
          0.7802607076350094,
          0.7802607076350094,
          0.7765363128491621,
          0.7746741154562384,
          0.7746741154562384,
          0.7653631284916201,
          0.7746741154562384,
          0.7690875232774674,
          0.7690875232774674,
          0.7541899441340782,
          0.7690875232774674,
          0.7783985102420857,
          0.7783985102420857,
          0.7709497206703911,
          0.7783985102420857,
          0.7690875232774674,
          0.7728119180633147,
          0.7672253258845437,
          0.7746741154562384,
          0.7728119180633147
         ],
         "type": "scatter",
         "xaxis": "x2",
         "yaxis": "y2"
        }
       ],
       "layout": {
        "template": {
         "data": {
          "histogram2dcontour": [
           {
            "type": "histogram2dcontour",
            "colorbar": {
             "outlinewidth": 0,
             "ticks": ""
            },
            "colorscale": [
             [
              0.0,
              "#0d0887"
             ],
             [
              0.1111111111111111,
              "#46039f"
             ],
             [
              0.2222222222222222,
              "#7201a8"
             ],
             [
              0.3333333333333333,
              "#9c179e"
             ],
             [
              0.4444444444444444,
              "#bd3786"
             ],
             [
              0.5555555555555556,
              "#d8576b"
             ],
             [
              0.6666666666666666,
              "#ed7953"
             ],
             [
              0.7777777777777778,
              "#fb9f3a"
             ],
             [
              0.8888888888888888,
              "#fdca26"
             ],
             [
              1.0,
              "#f0f921"
             ]
            ]
           }
          ],
          "choropleth": [
           {
            "type": "choropleth",
            "colorbar": {
             "outlinewidth": 0,
             "ticks": ""
            }
           }
          ],
          "histogram2d": [
           {
            "type": "histogram2d",
            "colorbar": {
             "outlinewidth": 0,
             "ticks": ""
            },
            "colorscale": [
             [
              0.0,
              "#0d0887"
             ],
             [
              0.1111111111111111,
              "#46039f"
             ],
             [
              0.2222222222222222,
              "#7201a8"
             ],
             [
              0.3333333333333333,
              "#9c179e"
             ],
             [
              0.4444444444444444,
              "#bd3786"
             ],
             [
              0.5555555555555556,
              "#d8576b"
             ],
             [
              0.6666666666666666,
              "#ed7953"
             ],
             [
              0.7777777777777778,
              "#fb9f3a"
             ],
             [
              0.8888888888888888,
              "#fdca26"
             ],
             [
              1.0,
              "#f0f921"
             ]
            ]
           }
          ],
          "heatmap": [
           {
            "type": "heatmap",
            "colorbar": {
             "outlinewidth": 0,
             "ticks": ""
            },
            "colorscale": [
             [
              0.0,
              "#0d0887"
             ],
             [
              0.1111111111111111,
              "#46039f"
             ],
             [
              0.2222222222222222,
              "#7201a8"
             ],
             [
              0.3333333333333333,
              "#9c179e"
             ],
             [
              0.4444444444444444,
              "#bd3786"
             ],
             [
              0.5555555555555556,
              "#d8576b"
             ],
             [
              0.6666666666666666,
              "#ed7953"
             ],
             [
              0.7777777777777778,
              "#fb9f3a"
             ],
             [
              0.8888888888888888,
              "#fdca26"
             ],
             [
              1.0,
              "#f0f921"
             ]
            ]
           }
          ],
          "contourcarpet": [
           {
            "type": "contourcarpet",
            "colorbar": {
             "outlinewidth": 0,
             "ticks": ""
            }
           }
          ],
          "contour": [
           {
            "type": "contour",
            "colorbar": {
             "outlinewidth": 0,
             "ticks": ""
            },
            "colorscale": [
             [
              0.0,
              "#0d0887"
             ],
             [
              0.1111111111111111,
              "#46039f"
             ],
             [
              0.2222222222222222,
              "#7201a8"
             ],
             [
              0.3333333333333333,
              "#9c179e"
             ],
             [
              0.4444444444444444,
              "#bd3786"
             ],
             [
              0.5555555555555556,
              "#d8576b"
             ],
             [
              0.6666666666666666,
              "#ed7953"
             ],
             [
              0.7777777777777778,
              "#fb9f3a"
             ],
             [
              0.8888888888888888,
              "#fdca26"
             ],
             [
              1.0,
              "#f0f921"
             ]
            ]
           }
          ],
          "surface": [
           {
            "type": "surface",
            "colorbar": {
             "outlinewidth": 0,
             "ticks": ""
            },
            "colorscale": [
             [
              0.0,
              "#0d0887"
             ],
             [
              0.1111111111111111,
              "#46039f"
             ],
             [
              0.2222222222222222,
              "#7201a8"
             ],
             [
              0.3333333333333333,
              "#9c179e"
             ],
             [
              0.4444444444444444,
              "#bd3786"
             ],
             [
              0.5555555555555556,
              "#d8576b"
             ],
             [
              0.6666666666666666,
              "#ed7953"
             ],
             [
              0.7777777777777778,
              "#fb9f3a"
             ],
             [
              0.8888888888888888,
              "#fdca26"
             ],
             [
              1.0,
              "#f0f921"
             ]
            ]
           }
          ],
          "mesh3d": [
           {
            "type": "mesh3d",
            "colorbar": {
             "outlinewidth": 0,
             "ticks": ""
            }
           }
          ],
          "scatter": [
           {
            "fillpattern": {
             "fillmode": "overlay",
             "size": 10,
             "solidity": 0.2
            },
            "type": "scatter"
           }
          ],
          "parcoords": [
           {
            "type": "parcoords",
            "line": {
             "colorbar": {
              "outlinewidth": 0,
              "ticks": ""
             }
            }
           }
          ],
          "scatterpolargl": [
           {
            "type": "scatterpolargl",
            "marker": {
             "colorbar": {
              "outlinewidth": 0,
              "ticks": ""
             }
            }
           }
          ],
          "bar": [
           {
            "error_x": {
             "color": "#2a3f5f"
            },
            "error_y": {
             "color": "#2a3f5f"
            },
            "marker": {
             "line": {
              "color": "#E5ECF6",
              "width": 0.5
             },
             "pattern": {
              "fillmode": "overlay",
              "size": 10,
              "solidity": 0.2
             }
            },
            "type": "bar"
           }
          ],
          "scattergeo": [
           {
            "type": "scattergeo",
            "marker": {
             "colorbar": {
              "outlinewidth": 0,
              "ticks": ""
             }
            }
           }
          ],
          "scatterpolar": [
           {
            "type": "scatterpolar",
            "marker": {
             "colorbar": {
              "outlinewidth": 0,
              "ticks": ""
             }
            }
           }
          ],
          "histogram": [
           {
            "marker": {
             "pattern": {
              "fillmode": "overlay",
              "size": 10,
              "solidity": 0.2
             }
            },
            "type": "histogram"
           }
          ],
          "scattergl": [
           {
            "type": "scattergl",
            "marker": {
             "colorbar": {
              "outlinewidth": 0,
              "ticks": ""
             }
            }
           }
          ],
          "scatter3d": [
           {
            "type": "scatter3d",
            "line": {
             "colorbar": {
              "outlinewidth": 0,
              "ticks": ""
             }
            },
            "marker": {
             "colorbar": {
              "outlinewidth": 0,
              "ticks": ""
             }
            }
           }
          ],
          "scattermap": [
           {
            "type": "scattermap",
            "marker": {
             "colorbar": {
              "outlinewidth": 0,
              "ticks": ""
             }
            }
           }
          ],
          "scattermapbox": [
           {
            "type": "scattermapbox",
            "marker": {
             "colorbar": {
              "outlinewidth": 0,
              "ticks": ""
             }
            }
           }
          ],
          "scatterternary": [
           {
            "type": "scatterternary",
            "marker": {
             "colorbar": {
              "outlinewidth": 0,
              "ticks": ""
             }
            }
           }
          ],
          "scattercarpet": [
           {
            "type": "scattercarpet",
            "marker": {
             "colorbar": {
              "outlinewidth": 0,
              "ticks": ""
             }
            }
           }
          ],
          "carpet": [
           {
            "aaxis": {
             "endlinecolor": "#2a3f5f",
             "gridcolor": "white",
             "linecolor": "white",
             "minorgridcolor": "white",
             "startlinecolor": "#2a3f5f"
            },
            "baxis": {
             "endlinecolor": "#2a3f5f",
             "gridcolor": "white",
             "linecolor": "white",
             "minorgridcolor": "white",
             "startlinecolor": "#2a3f5f"
            },
            "type": "carpet"
           }
          ],
          "table": [
           {
            "cells": {
             "fill": {
              "color": "#EBF0F8"
             },
             "line": {
              "color": "white"
             }
            },
            "header": {
             "fill": {
              "color": "#C8D4E3"
             },
             "line": {
              "color": "white"
             }
            },
            "type": "table"
           }
          ],
          "barpolar": [
           {
            "marker": {
             "line": {
              "color": "#E5ECF6",
              "width": 0.5
             },
             "pattern": {
              "fillmode": "overlay",
              "size": 10,
              "solidity": 0.2
             }
            },
            "type": "barpolar"
           }
          ],
          "pie": [
           {
            "automargin": true,
            "type": "pie"
           }
          ]
         },
         "layout": {
          "autotypenumbers": "strict",
          "colorway": [
           "#636efa",
           "#EF553B",
           "#00cc96",
           "#ab63fa",
           "#FFA15A",
           "#19d3f3",
           "#FF6692",
           "#B6E880",
           "#FF97FF",
           "#FECB52"
          ],
          "font": {
           "color": "#2a3f5f"
          },
          "hovermode": "closest",
          "hoverlabel": {
           "align": "left"
          },
          "paper_bgcolor": "white",
          "plot_bgcolor": "#E5ECF6",
          "polar": {
           "bgcolor": "#E5ECF6",
           "angularaxis": {
            "gridcolor": "white",
            "linecolor": "white",
            "ticks": ""
           },
           "radialaxis": {
            "gridcolor": "white",
            "linecolor": "white",
            "ticks": ""
           }
          },
          "ternary": {
           "bgcolor": "#E5ECF6",
           "aaxis": {
            "gridcolor": "white",
            "linecolor": "white",
            "ticks": ""
           },
           "baxis": {
            "gridcolor": "white",
            "linecolor": "white",
            "ticks": ""
           },
           "caxis": {
            "gridcolor": "white",
            "linecolor": "white",
            "ticks": ""
           }
          },
          "coloraxis": {
           "colorbar": {
            "outlinewidth": 0,
            "ticks": ""
           }
          },
          "colorscale": {
           "sequential": [
            [
             0.0,
             "#0d0887"
            ],
            [
             0.1111111111111111,
             "#46039f"
            ],
            [
             0.2222222222222222,
             "#7201a8"
            ],
            [
             0.3333333333333333,
             "#9c179e"
            ],
            [
             0.4444444444444444,
             "#bd3786"
            ],
            [
             0.5555555555555556,
             "#d8576b"
            ],
            [
             0.6666666666666666,
             "#ed7953"
            ],
            [
             0.7777777777777778,
             "#fb9f3a"
            ],
            [
             0.8888888888888888,
             "#fdca26"
            ],
            [
             1.0,
             "#f0f921"
            ]
           ],
           "sequentialminus": [
            [
             0.0,
             "#0d0887"
            ],
            [
             0.1111111111111111,
             "#46039f"
            ],
            [
             0.2222222222222222,
             "#7201a8"
            ],
            [
             0.3333333333333333,
             "#9c179e"
            ],
            [
             0.4444444444444444,
             "#bd3786"
            ],
            [
             0.5555555555555556,
             "#d8576b"
            ],
            [
             0.6666666666666666,
             "#ed7953"
            ],
            [
             0.7777777777777778,
             "#fb9f3a"
            ],
            [
             0.8888888888888888,
             "#fdca26"
            ],
            [
             1.0,
             "#f0f921"
            ]
           ],
           "diverging": [
            [
             0,
             "#8e0152"
            ],
            [
             0.1,
             "#c51b7d"
            ],
            [
             0.2,
             "#de77ae"
            ],
            [
             0.3,
             "#f1b6da"
            ],
            [
             0.4,
             "#fde0ef"
            ],
            [
             0.5,
             "#f7f7f7"
            ],
            [
             0.6,
             "#e6f5d0"
            ],
            [
             0.7,
             "#b8e186"
            ],
            [
             0.8,
             "#7fbc41"
            ],
            [
             0.9,
             "#4d9221"
            ],
            [
             1,
             "#276419"
            ]
           ]
          },
          "xaxis": {
           "gridcolor": "white",
           "linecolor": "white",
           "ticks": "",
           "title": {
            "standoff": 15
           },
           "zerolinecolor": "white",
           "automargin": true,
           "zerolinewidth": 2
          },
          "yaxis": {
           "gridcolor": "white",
           "linecolor": "white",
           "ticks": "",
           "title": {
            "standoff": 15
           },
           "zerolinecolor": "white",
           "automargin": true,
           "zerolinewidth": 2
          },
          "scene": {
           "xaxis": {
            "backgroundcolor": "#E5ECF6",
            "gridcolor": "white",
            "linecolor": "white",
            "showbackground": true,
            "ticks": "",
            "zerolinecolor": "white",
            "gridwidth": 2
           },
           "yaxis": {
            "backgroundcolor": "#E5ECF6",
            "gridcolor": "white",
            "linecolor": "white",
            "showbackground": true,
            "ticks": "",
            "zerolinecolor": "white",
            "gridwidth": 2
           },
           "zaxis": {
            "backgroundcolor": "#E5ECF6",
            "gridcolor": "white",
            "linecolor": "white",
            "showbackground": true,
            "ticks": "",
            "zerolinecolor": "white",
            "gridwidth": 2
           }
          },
          "shapedefaults": {
           "line": {
            "color": "#2a3f5f"
           }
          },
          "annotationdefaults": {
           "arrowcolor": "#2a3f5f",
           "arrowhead": 0,
           "arrowwidth": 1
          },
          "geo": {
           "bgcolor": "white",
           "landcolor": "#E5ECF6",
           "subunitcolor": "white",
           "showland": true,
           "showlakes": true,
           "lakecolor": "white"
          },
          "title": {
           "x": 0.05
          },
          "mapbox": {
           "style": "light"
          }
         }
        },
        "xaxis": {
         "anchor": "y",
         "domain": [
          0.0,
          0.45
         ],
         "title": {
          "text": "max_depth"
         }
        },
        "yaxis": {
         "anchor": "x",
         "domain": [
          0.0,
          1.0
         ],
         "title": {
          "text": "Objective Value"
         }
        },
        "xaxis2": {
         "anchor": "y2",
         "domain": [
          0.55,
          1.0
         ],
         "title": {
          "text": "n_estimators"
         }
        },
        "yaxis2": {
         "anchor": "x2",
         "domain": [
          0.0,
          1.0
         ],
         "matches": "y",
         "showticklabels": false
        },
        "title": {
         "text": "Slice Plot"
        }
       },
       "config": {
        "plotlyServerURL": "https://plot.ly"
       }
      }
     },
     "metadata": {},
     "output_type": "display_data"
    }
   ],
   "execution_count": 10
  },
  {
   "metadata": {
    "ExecuteTime": {
     "end_time": "2025-07-02T12:59:33.788850Z",
     "start_time": "2025-07-02T12:59:33.761079Z"
    }
   },
   "cell_type": "code",
   "source": [
    "# Contour plot - Dense colour shows the best possible location of the objective fnc\n",
    "plot_contour(study).show()"
   ],
   "id": "ff330e495f12a005",
   "outputs": [
    {
     "data": {
      "application/vnd.plotly.v1+json": {
       "data": [
        {
         "colorbar": {
          "title": {
           "text": "Objective Value"
          }
         },
         "colorscale": [
          [
           0.0,
           "rgb(247,251,255)"
          ],
          [
           0.125,
           "rgb(222,235,247)"
          ],
          [
           0.25,
           "rgb(198,219,239)"
          ],
          [
           0.375,
           "rgb(158,202,225)"
          ],
          [
           0.5,
           "rgb(107,174,214)"
          ],
          [
           0.625,
           "rgb(66,146,198)"
          ],
          [
           0.75,
           "rgb(33,113,181)"
          ],
          [
           0.875,
           "rgb(8,81,156)"
          ],
          [
           1.0,
           "rgb(8,48,107)"
          ]
         ],
         "connectgaps": true,
         "contours": {
          "coloring": "heatmap"
         },
         "hoverinfo": "none",
         "line": {
          "smoothing": 1.3
         },
         "reversescale": false,
         "x": [
          2.15,
          3,
          4,
          5,
          6,
          7,
          8,
          10,
          11,
          12,
          13,
          14,
          15,
          16,
          17,
          18,
          19,
          20,
          20.85
         ],
         "y": [
          42.5,
          50,
          52,
          53,
          55,
          56,
          57,
          58,
          59,
          60,
          61,
          63,
          64,
          65,
          66,
          67,
          68,
          69,
          70,
          71,
          72,
          73,
          74,
          75,
          77,
          78,
          80,
          81,
          82,
          83,
          84,
          85,
          87,
          88,
          89,
          90,
          91,
          94,
          95,
          97,
          99,
          101,
          102,
          105,
          106,
          108,
          111,
          115,
          116,
          119,
          120,
          128,
          130,
          131,
          138,
          139,
          148,
          156,
          160,
          169,
          171,
          173,
          182,
          198,
          200,
          207.5
         ],
         "z": {
          "dtype": "f8",
          "bdata": "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",
          "shape": "66, 19"
         },
         "type": "contour"
        },
        {
         "marker": {
          "color": "black",
          "line": {
           "color": "Gray",
           "width": 2.0
          }
         },
         "mode": "markers",
         "name": "Feasible Trial",
         "showlegend": false,
         "x": [
          18,
          13,
          4,
          11,
          10,
          11,
          6,
          15,
          12,
          3,
          19,
          20,
          20,
          17,
          17,
          18,
          15,
          8,
          15,
          18,
          20,
          20,
          18,
          16,
          19,
          14,
          19,
          17,
          19,
          18,
          16,
          20,
          13,
          18,
          19,
          16,
          17,
          18,
          14,
          8,
          19,
          19,
          20,
          18,
          19,
          17,
          20,
          10,
          19,
          16,
          16,
          18,
          17,
          20,
          5,
          18,
          15,
          20,
          17,
          12,
          19,
          19,
          19,
          18,
          16,
          14,
          16,
          16,
          15,
          16,
          13,
          16,
          15,
          14,
          17,
          16,
          17,
          15,
          16,
          18,
          17,
          17,
          17,
          18,
          16,
          15,
          17,
          17,
          14,
          3,
          13,
          18,
          18,
          16,
          19,
          8,
          18,
          7,
          17,
          19
         ],
         "y": [
          106,
          59,
          173,
          130,
          200,
          102,
          148,
          156,
          169,
          111,
          71,
          70,
          82,
          91,
          119,
          52,
          81,
          131,
          99,
          67,
          72,
          68,
          50,
          71,
          81,
          63,
          91,
          78,
          89,
          111,
          60,
          58,
          97,
          73,
          72,
          60,
          77,
          198,
          90,
          138,
          65,
          71,
          75,
          56,
          105,
          67,
          85,
          95,
          74,
          115,
          156,
          120,
          171,
          85,
          53,
          182,
          64,
          108,
          83,
          139,
          73,
          71,
          78,
          50,
          63,
          56,
          63,
          63,
          63,
          59,
          67,
          61,
          67,
          55,
          78,
          88,
          116,
          94,
          75,
          81,
          70,
          70,
          69,
          63,
          73,
          53,
          57,
          87,
          101,
          80,
          61,
          69,
          75,
          66,
          71,
          128,
          64,
          84,
          77,
          160
         ],
         "type": "scatter"
        },
        {
         "marker": {
          "color": "#cccccc",
          "line": {
           "color": "Gray",
           "width": 2.0
          }
         },
         "mode": "markers",
         "name": "Infeasible Trial",
         "showlegend": false,
         "x": [],
         "y": [],
         "type": "scatter"
        }
       ],
       "layout": {
        "title": {
         "text": "Contour Plot"
        },
        "template": {
         "data": {
          "histogram2dcontour": [
           {
            "type": "histogram2dcontour",
            "colorbar": {
             "outlinewidth": 0,
             "ticks": ""
            },
            "colorscale": [
             [
              0.0,
              "#0d0887"
             ],
             [
              0.1111111111111111,
              "#46039f"
             ],
             [
              0.2222222222222222,
              "#7201a8"
             ],
             [
              0.3333333333333333,
              "#9c179e"
             ],
             [
              0.4444444444444444,
              "#bd3786"
             ],
             [
              0.5555555555555556,
              "#d8576b"
             ],
             [
              0.6666666666666666,
              "#ed7953"
             ],
             [
              0.7777777777777778,
              "#fb9f3a"
             ],
             [
              0.8888888888888888,
              "#fdca26"
             ],
             [
              1.0,
              "#f0f921"
             ]
            ]
           }
          ],
          "choropleth": [
           {
            "type": "choropleth",
            "colorbar": {
             "outlinewidth": 0,
             "ticks": ""
            }
           }
          ],
          "histogram2d": [
           {
            "type": "histogram2d",
            "colorbar": {
             "outlinewidth": 0,
             "ticks": ""
            },
            "colorscale": [
             [
              0.0,
              "#0d0887"
             ],
             [
              0.1111111111111111,
              "#46039f"
             ],
             [
              0.2222222222222222,
              "#7201a8"
             ],
             [
              0.3333333333333333,
              "#9c179e"
             ],
             [
              0.4444444444444444,
              "#bd3786"
             ],
             [
              0.5555555555555556,
              "#d8576b"
             ],
             [
              0.6666666666666666,
              "#ed7953"
             ],
             [
              0.7777777777777778,
              "#fb9f3a"
             ],
             [
              0.8888888888888888,
              "#fdca26"
             ],
             [
              1.0,
              "#f0f921"
             ]
            ]
           }
          ],
          "heatmap": [
           {
            "type": "heatmap",
            "colorbar": {
             "outlinewidth": 0,
             "ticks": ""
            },
            "colorscale": [
             [
              0.0,
              "#0d0887"
             ],
             [
              0.1111111111111111,
              "#46039f"
             ],
             [
              0.2222222222222222,
              "#7201a8"
             ],
             [
              0.3333333333333333,
              "#9c179e"
             ],
             [
              0.4444444444444444,
              "#bd3786"
             ],
             [
              0.5555555555555556,
              "#d8576b"
             ],
             [
              0.6666666666666666,
              "#ed7953"
             ],
             [
              0.7777777777777778,
              "#fb9f3a"
             ],
             [
              0.8888888888888888,
              "#fdca26"
             ],
             [
              1.0,
              "#f0f921"
             ]
            ]
           }
          ],
          "contourcarpet": [
           {
            "type": "contourcarpet",
            "colorbar": {
             "outlinewidth": 0,
             "ticks": ""
            }
           }
          ],
          "contour": [
           {
            "type": "contour",
            "colorbar": {
             "outlinewidth": 0,
             "ticks": ""
            },
            "colorscale": [
             [
              0.0,
              "#0d0887"
             ],
             [
              0.1111111111111111,
              "#46039f"
             ],
             [
              0.2222222222222222,
              "#7201a8"
             ],
             [
              0.3333333333333333,
              "#9c179e"
             ],
             [
              0.4444444444444444,
              "#bd3786"
             ],
             [
              0.5555555555555556,
              "#d8576b"
             ],
             [
              0.6666666666666666,
              "#ed7953"
             ],
             [
              0.7777777777777778,
              "#fb9f3a"
             ],
             [
              0.8888888888888888,
              "#fdca26"
             ],
             [
              1.0,
              "#f0f921"
             ]
            ]
           }
          ],
          "surface": [
           {
            "type": "surface",
            "colorbar": {
             "outlinewidth": 0,
             "ticks": ""
            },
            "colorscale": [
             [
              0.0,
              "#0d0887"
             ],
             [
              0.1111111111111111,
              "#46039f"
             ],
             [
              0.2222222222222222,
              "#7201a8"
             ],
             [
              0.3333333333333333,
              "#9c179e"
             ],
             [
              0.4444444444444444,
              "#bd3786"
             ],
             [
              0.5555555555555556,
              "#d8576b"
             ],
             [
              0.6666666666666666,
              "#ed7953"
             ],
             [
              0.7777777777777778,
              "#fb9f3a"
             ],
             [
              0.8888888888888888,
              "#fdca26"
             ],
             [
              1.0,
              "#f0f921"
             ]
            ]
           }
          ],
          "mesh3d": [
           {
            "type": "mesh3d",
            "colorbar": {
             "outlinewidth": 0,
             "ticks": ""
            }
           }
          ],
          "scatter": [
           {
            "fillpattern": {
             "fillmode": "overlay",
             "size": 10,
             "solidity": 0.2
            },
            "type": "scatter"
           }
          ],
          "parcoords": [
           {
            "type": "parcoords",
            "line": {
             "colorbar": {
              "outlinewidth": 0,
              "ticks": ""
             }
            }
           }
          ],
          "scatterpolargl": [
           {
            "type": "scatterpolargl",
            "marker": {
             "colorbar": {
              "outlinewidth": 0,
              "ticks": ""
             }
            }
           }
          ],
          "bar": [
           {
            "error_x": {
             "color": "#2a3f5f"
            },
            "error_y": {
             "color": "#2a3f5f"
            },
            "marker": {
             "line": {
              "color": "#E5ECF6",
              "width": 0.5
             },
             "pattern": {
              "fillmode": "overlay",
              "size": 10,
              "solidity": 0.2
             }
            },
            "type": "bar"
           }
          ],
          "scattergeo": [
           {
            "type": "scattergeo",
            "marker": {
             "colorbar": {
              "outlinewidth": 0,
              "ticks": ""
             }
            }
           }
          ],
          "scatterpolar": [
           {
            "type": "scatterpolar",
            "marker": {
             "colorbar": {
              "outlinewidth": 0,
              "ticks": ""
             }
            }
           }
          ],
          "histogram": [
           {
            "marker": {
             "pattern": {
              "fillmode": "overlay",
              "size": 10,
              "solidity": 0.2
             }
            },
            "type": "histogram"
           }
          ],
          "scattergl": [
           {
            "type": "scattergl",
            "marker": {
             "colorbar": {
              "outlinewidth": 0,
              "ticks": ""
             }
            }
           }
          ],
          "scatter3d": [
           {
            "type": "scatter3d",
            "line": {
             "colorbar": {
              "outlinewidth": 0,
              "ticks": ""
             }
            },
            "marker": {
             "colorbar": {
              "outlinewidth": 0,
              "ticks": ""
             }
            }
           }
          ],
          "scattermap": [
           {
            "type": "scattermap",
            "marker": {
             "colorbar": {
              "outlinewidth": 0,
              "ticks": ""
             }
            }
           }
          ],
          "scattermapbox": [
           {
            "type": "scattermapbox",
            "marker": {
             "colorbar": {
              "outlinewidth": 0,
              "ticks": ""
             }
            }
           }
          ],
          "scatterternary": [
           {
            "type": "scatterternary",
            "marker": {
             "colorbar": {
              "outlinewidth": 0,
              "ticks": ""
             }
            }
           }
          ],
          "scattercarpet": [
           {
            "type": "scattercarpet",
            "marker": {
             "colorbar": {
              "outlinewidth": 0,
              "ticks": ""
             }
            }
           }
          ],
          "carpet": [
           {
            "aaxis": {
             "endlinecolor": "#2a3f5f",
             "gridcolor": "white",
             "linecolor": "white",
             "minorgridcolor": "white",
             "startlinecolor": "#2a3f5f"
            },
            "baxis": {
             "endlinecolor": "#2a3f5f",
             "gridcolor": "white",
             "linecolor": "white",
             "minorgridcolor": "white",
             "startlinecolor": "#2a3f5f"
            },
            "type": "carpet"
           }
          ],
          "table": [
           {
            "cells": {
             "fill": {
              "color": "#EBF0F8"
             },
             "line": {
              "color": "white"
             }
            },
            "header": {
             "fill": {
              "color": "#C8D4E3"
             },
             "line": {
              "color": "white"
             }
            },
            "type": "table"
           }
          ],
          "barpolar": [
           {
            "marker": {
             "line": {
              "color": "#E5ECF6",
              "width": 0.5
             },
             "pattern": {
              "fillmode": "overlay",
              "size": 10,
              "solidity": 0.2
             }
            },
            "type": "barpolar"
           }
          ],
          "pie": [
           {
            "automargin": true,
            "type": "pie"
           }
          ]
         },
         "layout": {
          "autotypenumbers": "strict",
          "colorway": [
           "#636efa",
           "#EF553B",
           "#00cc96",
           "#ab63fa",
           "#FFA15A",
           "#19d3f3",
           "#FF6692",
           "#B6E880",
           "#FF97FF",
           "#FECB52"
          ],
          "font": {
           "color": "#2a3f5f"
          },
          "hovermode": "closest",
          "hoverlabel": {
           "align": "left"
          },
          "paper_bgcolor": "white",
          "plot_bgcolor": "#E5ECF6",
          "polar": {
           "bgcolor": "#E5ECF6",
           "angularaxis": {
            "gridcolor": "white",
            "linecolor": "white",
            "ticks": ""
           },
           "radialaxis": {
            "gridcolor": "white",
            "linecolor": "white",
            "ticks": ""
           }
          },
          "ternary": {
           "bgcolor": "#E5ECF6",
           "aaxis": {
            "gridcolor": "white",
            "linecolor": "white",
            "ticks": ""
           },
           "baxis": {
            "gridcolor": "white",
            "linecolor": "white",
            "ticks": ""
           },
           "caxis": {
            "gridcolor": "white",
            "linecolor": "white",
            "ticks": ""
           }
          },
          "coloraxis": {
           "colorbar": {
            "outlinewidth": 0,
            "ticks": ""
           }
          },
          "colorscale": {
           "sequential": [
            [
             0.0,
             "#0d0887"
            ],
            [
             0.1111111111111111,
             "#46039f"
            ],
            [
             0.2222222222222222,
             "#7201a8"
            ],
            [
             0.3333333333333333,
             "#9c179e"
            ],
            [
             0.4444444444444444,
             "#bd3786"
            ],
            [
             0.5555555555555556,
             "#d8576b"
            ],
            [
             0.6666666666666666,
             "#ed7953"
            ],
            [
             0.7777777777777778,
             "#fb9f3a"
            ],
            [
             0.8888888888888888,
             "#fdca26"
            ],
            [
             1.0,
             "#f0f921"
            ]
           ],
           "sequentialminus": [
            [
             0.0,
             "#0d0887"
            ],
            [
             0.1111111111111111,
             "#46039f"
            ],
            [
             0.2222222222222222,
             "#7201a8"
            ],
            [
             0.3333333333333333,
             "#9c179e"
            ],
            [
             0.4444444444444444,
             "#bd3786"
            ],
            [
             0.5555555555555556,
             "#d8576b"
            ],
            [
             0.6666666666666666,
             "#ed7953"
            ],
            [
             0.7777777777777778,
             "#fb9f3a"
            ],
            [
             0.8888888888888888,
             "#fdca26"
            ],
            [
             1.0,
             "#f0f921"
            ]
           ],
           "diverging": [
            [
             0,
             "#8e0152"
            ],
            [
             0.1,
             "#c51b7d"
            ],
            [
             0.2,
             "#de77ae"
            ],
            [
             0.3,
             "#f1b6da"
            ],
            [
             0.4,
             "#fde0ef"
            ],
            [
             0.5,
             "#f7f7f7"
            ],
            [
             0.6,
             "#e6f5d0"
            ],
            [
             0.7,
             "#b8e186"
            ],
            [
             0.8,
             "#7fbc41"
            ],
            [
             0.9,
             "#4d9221"
            ],
            [
             1,
             "#276419"
            ]
           ]
          },
          "xaxis": {
           "gridcolor": "white",
           "linecolor": "white",
           "ticks": "",
           "title": {
            "standoff": 15
           },
           "zerolinecolor": "white",
           "automargin": true,
           "zerolinewidth": 2
          },
          "yaxis": {
           "gridcolor": "white",
           "linecolor": "white",
           "ticks": "",
           "title": {
            "standoff": 15
           },
           "zerolinecolor": "white",
           "automargin": true,
           "zerolinewidth": 2
          },
          "scene": {
           "xaxis": {
            "backgroundcolor": "#E5ECF6",
            "gridcolor": "white",
            "linecolor": "white",
            "showbackground": true,
            "ticks": "",
            "zerolinecolor": "white",
            "gridwidth": 2
           },
           "yaxis": {
            "backgroundcolor": "#E5ECF6",
            "gridcolor": "white",
            "linecolor": "white",
            "showbackground": true,
            "ticks": "",
            "zerolinecolor": "white",
            "gridwidth": 2
           },
           "zaxis": {
            "backgroundcolor": "#E5ECF6",
            "gridcolor": "white",
            "linecolor": "white",
            "showbackground": true,
            "ticks": "",
            "zerolinecolor": "white",
            "gridwidth": 2
           }
          },
          "shapedefaults": {
           "line": {
            "color": "#2a3f5f"
           }
          },
          "annotationdefaults": {
           "arrowcolor": "#2a3f5f",
           "arrowhead": 0,
           "arrowwidth": 1
          },
          "geo": {
           "bgcolor": "white",
           "landcolor": "#E5ECF6",
           "subunitcolor": "white",
           "showland": true,
           "showlakes": true,
           "lakecolor": "white"
          },
          "title": {
           "x": 0.05
          },
          "mapbox": {
           "style": "light"
          }
         }
        },
        "xaxis": {
         "title": {
          "text": "max_depth"
         },
         "range": [
          2.15,
          20.85
         ]
        },
        "yaxis": {
         "title": {
          "text": "n_estimators"
         },
         "range": [
          42.5,
          207.5
         ]
        }
       },
       "config": {
        "plotlyServerURL": "https://plot.ly"
       }
      }
     },
     "metadata": {},
     "output_type": "display_data"
    }
   ],
   "execution_count": 11
  },
  {
   "metadata": {
    "ExecuteTime": {
     "end_time": "2025-07-02T13:01:35.708094Z",
     "start_time": "2025-07-02T13:01:34.829502Z"
    }
   },
   "cell_type": "code",
   "source": [
    "# Importance plot - gives importance of each hyperparameter\n",
    "\n",
    "plot_param_importances(study).show()"
   ],
   "id": "cd465f7df3f369bd",
   "outputs": [
    {
     "data": {
      "application/vnd.plotly.v1+json": {
       "data": [
        {
         "cliponaxis": false,
         "hovertemplate": [
          "n_estimators (IntDistribution): 0.1558946950188482<extra></extra>",
          "max_depth (IntDistribution): 0.8441053049811518<extra></extra>"
         ],
         "name": "Objective Value",
         "orientation": "h",
         "text": [
          "0.16",
          "0.84"
         ],
         "textposition": "outside",
         "x": [
          0.1558946950188482,
          0.8441053049811518
         ],
         "y": [
          "n_estimators",
          "max_depth"
         ],
         "type": "bar"
        }
       ],
       "layout": {
        "title": {
         "text": "Hyperparameter Importances"
        },
        "xaxis": {
         "title": {
          "text": "Hyperparameter Importance"
         }
        },
        "yaxis": {
         "title": {
          "text": "Hyperparameter"
         }
        },
        "template": {
         "data": {
          "histogram2dcontour": [
           {
            "type": "histogram2dcontour",
            "colorbar": {
             "outlinewidth": 0,
             "ticks": ""
            },
            "colorscale": [
             [
              0.0,
              "#0d0887"
             ],
             [
              0.1111111111111111,
              "#46039f"
             ],
             [
              0.2222222222222222,
              "#7201a8"
             ],
             [
              0.3333333333333333,
              "#9c179e"
             ],
             [
              0.4444444444444444,
              "#bd3786"
             ],
             [
              0.5555555555555556,
              "#d8576b"
             ],
             [
              0.6666666666666666,
              "#ed7953"
             ],
             [
              0.7777777777777778,
              "#fb9f3a"
             ],
             [
              0.8888888888888888,
              "#fdca26"
             ],
             [
              1.0,
              "#f0f921"
             ]
            ]
           }
          ],
          "choropleth": [
           {
            "type": "choropleth",
            "colorbar": {
             "outlinewidth": 0,
             "ticks": ""
            }
           }
          ],
          "histogram2d": [
           {
            "type": "histogram2d",
            "colorbar": {
             "outlinewidth": 0,
             "ticks": ""
            },
            "colorscale": [
             [
              0.0,
              "#0d0887"
             ],
             [
              0.1111111111111111,
              "#46039f"
             ],
             [
              0.2222222222222222,
              "#7201a8"
             ],
             [
              0.3333333333333333,
              "#9c179e"
             ],
             [
              0.4444444444444444,
              "#bd3786"
             ],
             [
              0.5555555555555556,
              "#d8576b"
             ],
             [
              0.6666666666666666,
              "#ed7953"
             ],
             [
              0.7777777777777778,
              "#fb9f3a"
             ],
             [
              0.8888888888888888,
              "#fdca26"
             ],
             [
              1.0,
              "#f0f921"
             ]
            ]
           }
          ],
          "heatmap": [
           {
            "type": "heatmap",
            "colorbar": {
             "outlinewidth": 0,
             "ticks": ""
            },
            "colorscale": [
             [
              0.0,
              "#0d0887"
             ],
             [
              0.1111111111111111,
              "#46039f"
             ],
             [
              0.2222222222222222,
              "#7201a8"
             ],
             [
              0.3333333333333333,
              "#9c179e"
             ],
             [
              0.4444444444444444,
              "#bd3786"
             ],
             [
              0.5555555555555556,
              "#d8576b"
             ],
             [
              0.6666666666666666,
              "#ed7953"
             ],
             [
              0.7777777777777778,
              "#fb9f3a"
             ],
             [
              0.8888888888888888,
              "#fdca26"
             ],
             [
              1.0,
              "#f0f921"
             ]
            ]
           }
          ],
          "contourcarpet": [
           {
            "type": "contourcarpet",
            "colorbar": {
             "outlinewidth": 0,
             "ticks": ""
            }
           }
          ],
          "contour": [
           {
            "type": "contour",
            "colorbar": {
             "outlinewidth": 0,
             "ticks": ""
            },
            "colorscale": [
             [
              0.0,
              "#0d0887"
             ],
             [
              0.1111111111111111,
              "#46039f"
             ],
             [
              0.2222222222222222,
              "#7201a8"
             ],
             [
              0.3333333333333333,
              "#9c179e"
             ],
             [
              0.4444444444444444,
              "#bd3786"
             ],
             [
              0.5555555555555556,
              "#d8576b"
             ],
             [
              0.6666666666666666,
              "#ed7953"
             ],
             [
              0.7777777777777778,
              "#fb9f3a"
             ],
             [
              0.8888888888888888,
              "#fdca26"
             ],
             [
              1.0,
              "#f0f921"
             ]
            ]
           }
          ],
          "surface": [
           {
            "type": "surface",
            "colorbar": {
             "outlinewidth": 0,
             "ticks": ""
            },
            "colorscale": [
             [
              0.0,
              "#0d0887"
             ],
             [
              0.1111111111111111,
              "#46039f"
             ],
             [
              0.2222222222222222,
              "#7201a8"
             ],
             [
              0.3333333333333333,
              "#9c179e"
             ],
             [
              0.4444444444444444,
              "#bd3786"
             ],
             [
              0.5555555555555556,
              "#d8576b"
             ],
             [
              0.6666666666666666,
              "#ed7953"
             ],
             [
              0.7777777777777778,
              "#fb9f3a"
             ],
             [
              0.8888888888888888,
              "#fdca26"
             ],
             [
              1.0,
              "#f0f921"
             ]
            ]
           }
          ],
          "mesh3d": [
           {
            "type": "mesh3d",
            "colorbar": {
             "outlinewidth": 0,
             "ticks": ""
            }
           }
          ],
          "scatter": [
           {
            "fillpattern": {
             "fillmode": "overlay",
             "size": 10,
             "solidity": 0.2
            },
            "type": "scatter"
           }
          ],
          "parcoords": [
           {
            "type": "parcoords",
            "line": {
             "colorbar": {
              "outlinewidth": 0,
              "ticks": ""
             }
            }
           }
          ],
          "scatterpolargl": [
           {
            "type": "scatterpolargl",
            "marker": {
             "colorbar": {
              "outlinewidth": 0,
              "ticks": ""
             }
            }
           }
          ],
          "bar": [
           {
            "error_x": {
             "color": "#2a3f5f"
            },
            "error_y": {
             "color": "#2a3f5f"
            },
            "marker": {
             "line": {
              "color": "#E5ECF6",
              "width": 0.5
             },
             "pattern": {
              "fillmode": "overlay",
              "size": 10,
              "solidity": 0.2
             }
            },
            "type": "bar"
           }
          ],
          "scattergeo": [
           {
            "type": "scattergeo",
            "marker": {
             "colorbar": {
              "outlinewidth": 0,
              "ticks": ""
             }
            }
           }
          ],
          "scatterpolar": [
           {
            "type": "scatterpolar",
            "marker": {
             "colorbar": {
              "outlinewidth": 0,
              "ticks": ""
             }
            }
           }
          ],
          "histogram": [
           {
            "marker": {
             "pattern": {
              "fillmode": "overlay",
              "size": 10,
              "solidity": 0.2
             }
            },
            "type": "histogram"
           }
          ],
          "scattergl": [
           {
            "type": "scattergl",
            "marker": {
             "colorbar": {
              "outlinewidth": 0,
              "ticks": ""
             }
            }
           }
          ],
          "scatter3d": [
           {
            "type": "scatter3d",
            "line": {
             "colorbar": {
              "outlinewidth": 0,
              "ticks": ""
             }
            },
            "marker": {
             "colorbar": {
              "outlinewidth": 0,
              "ticks": ""
             }
            }
           }
          ],
          "scattermap": [
           {
            "type": "scattermap",
            "marker": {
             "colorbar": {
              "outlinewidth": 0,
              "ticks": ""
             }
            }
           }
          ],
          "scattermapbox": [
           {
            "type": "scattermapbox",
            "marker": {
             "colorbar": {
              "outlinewidth": 0,
              "ticks": ""
             }
            }
           }
          ],
          "scatterternary": [
           {
            "type": "scatterternary",
            "marker": {
             "colorbar": {
              "outlinewidth": 0,
              "ticks": ""
             }
            }
           }
          ],
          "scattercarpet": [
           {
            "type": "scattercarpet",
            "marker": {
             "colorbar": {
              "outlinewidth": 0,
              "ticks": ""
             }
            }
           }
          ],
          "carpet": [
           {
            "aaxis": {
             "endlinecolor": "#2a3f5f",
             "gridcolor": "white",
             "linecolor": "white",
             "minorgridcolor": "white",
             "startlinecolor": "#2a3f5f"
            },
            "baxis": {
             "endlinecolor": "#2a3f5f",
             "gridcolor": "white",
             "linecolor": "white",
             "minorgridcolor": "white",
             "startlinecolor": "#2a3f5f"
            },
            "type": "carpet"
           }
          ],
          "table": [
           {
            "cells": {
             "fill": {
              "color": "#EBF0F8"
             },
             "line": {
              "color": "white"
             }
            },
            "header": {
             "fill": {
              "color": "#C8D4E3"
             },
             "line": {
              "color": "white"
             }
            },
            "type": "table"
           }
          ],
          "barpolar": [
           {
            "marker": {
             "line": {
              "color": "#E5ECF6",
              "width": 0.5
             },
             "pattern": {
              "fillmode": "overlay",
              "size": 10,
              "solidity": 0.2
             }
            },
            "type": "barpolar"
           }
          ],
          "pie": [
           {
            "automargin": true,
            "type": "pie"
           }
          ]
         },
         "layout": {
          "autotypenumbers": "strict",
          "colorway": [
           "#636efa",
           "#EF553B",
           "#00cc96",
           "#ab63fa",
           "#FFA15A",
           "#19d3f3",
           "#FF6692",
           "#B6E880",
           "#FF97FF",
           "#FECB52"
          ],
          "font": {
           "color": "#2a3f5f"
          },
          "hovermode": "closest",
          "hoverlabel": {
           "align": "left"
          },
          "paper_bgcolor": "white",
          "plot_bgcolor": "#E5ECF6",
          "polar": {
           "bgcolor": "#E5ECF6",
           "angularaxis": {
            "gridcolor": "white",
            "linecolor": "white",
            "ticks": ""
           },
           "radialaxis": {
            "gridcolor": "white",
            "linecolor": "white",
            "ticks": ""
           }
          },
          "ternary": {
           "bgcolor": "#E5ECF6",
           "aaxis": {
            "gridcolor": "white",
            "linecolor": "white",
            "ticks": ""
           },
           "baxis": {
            "gridcolor": "white",
            "linecolor": "white",
            "ticks": ""
           },
           "caxis": {
            "gridcolor": "white",
            "linecolor": "white",
            "ticks": ""
           }
          },
          "coloraxis": {
           "colorbar": {
            "outlinewidth": 0,
            "ticks": ""
           }
          },
          "colorscale": {
           "sequential": [
            [
             0.0,
             "#0d0887"
            ],
            [
             0.1111111111111111,
             "#46039f"
            ],
            [
             0.2222222222222222,
             "#7201a8"
            ],
            [
             0.3333333333333333,
             "#9c179e"
            ],
            [
             0.4444444444444444,
             "#bd3786"
            ],
            [
             0.5555555555555556,
             "#d8576b"
            ],
            [
             0.6666666666666666,
             "#ed7953"
            ],
            [
             0.7777777777777778,
             "#fb9f3a"
            ],
            [
             0.8888888888888888,
             "#fdca26"
            ],
            [
             1.0,
             "#f0f921"
            ]
           ],
           "sequentialminus": [
            [
             0.0,
             "#0d0887"
            ],
            [
             0.1111111111111111,
             "#46039f"
            ],
            [
             0.2222222222222222,
             "#7201a8"
            ],
            [
             0.3333333333333333,
             "#9c179e"
            ],
            [
             0.4444444444444444,
             "#bd3786"
            ],
            [
             0.5555555555555556,
             "#d8576b"
            ],
            [
             0.6666666666666666,
             "#ed7953"
            ],
            [
             0.7777777777777778,
             "#fb9f3a"
            ],
            [
             0.8888888888888888,
             "#fdca26"
            ],
            [
             1.0,
             "#f0f921"
            ]
           ],
           "diverging": [
            [
             0,
             "#8e0152"
            ],
            [
             0.1,
             "#c51b7d"
            ],
            [
             0.2,
             "#de77ae"
            ],
            [
             0.3,
             "#f1b6da"
            ],
            [
             0.4,
             "#fde0ef"
            ],
            [
             0.5,
             "#f7f7f7"
            ],
            [
             0.6,
             "#e6f5d0"
            ],
            [
             0.7,
             "#b8e186"
            ],
            [
             0.8,
             "#7fbc41"
            ],
            [
             0.9,
             "#4d9221"
            ],
            [
             1,
             "#276419"
            ]
           ]
          },
          "xaxis": {
           "gridcolor": "white",
           "linecolor": "white",
           "ticks": "",
           "title": {
            "standoff": 15
           },
           "zerolinecolor": "white",
           "automargin": true,
           "zerolinewidth": 2
          },
          "yaxis": {
           "gridcolor": "white",
           "linecolor": "white",
           "ticks": "",
           "title": {
            "standoff": 15
           },
           "zerolinecolor": "white",
           "automargin": true,
           "zerolinewidth": 2
          },
          "scene": {
           "xaxis": {
            "backgroundcolor": "#E5ECF6",
            "gridcolor": "white",
            "linecolor": "white",
            "showbackground": true,
            "ticks": "",
            "zerolinecolor": "white",
            "gridwidth": 2
           },
           "yaxis": {
            "backgroundcolor": "#E5ECF6",
            "gridcolor": "white",
            "linecolor": "white",
            "showbackground": true,
            "ticks": "",
            "zerolinecolor": "white",
            "gridwidth": 2
           },
           "zaxis": {
            "backgroundcolor": "#E5ECF6",
            "gridcolor": "white",
            "linecolor": "white",
            "showbackground": true,
            "ticks": "",
            "zerolinecolor": "white",
            "gridwidth": 2
           }
          },
          "shapedefaults": {
           "line": {
            "color": "#2a3f5f"
           }
          },
          "annotationdefaults": {
           "arrowcolor": "#2a3f5f",
           "arrowhead": 0,
           "arrowwidth": 1
          },
          "geo": {
           "bgcolor": "white",
           "landcolor": "#E5ECF6",
           "subunitcolor": "white",
           "showland": true,
           "showlakes": true,
           "lakecolor": "white"
          },
          "title": {
           "x": 0.05
          },
          "mapbox": {
           "style": "light"
          }
         }
        }
       },
       "config": {
        "plotlyServerURL": "https://plot.ly"
       }
      }
     },
     "metadata": {},
     "output_type": "display_data"
    }
   ],
   "execution_count": 12
  },
  {
   "metadata": {},
   "cell_type": "markdown",
   "source": "##### Define by run is used in Optuna to search from Dynamic Search Spaces. We can consider the models/ML algorithms as hyperparameter which gives the flexibility to know which ML model is the best for our problem and also gives the best hyperparameters for that particular algorithm. - This challenge is solved by Optuna!!! Every algorithm will have different/dynamic search space wrt the algorith it is using. Optuna also supports distributed computing to make the computing faster.",
   "id": "ef42abcebf5e97df"
  },
  {
   "metadata": {
    "ExecuteTime": {
     "end_time": "2025-07-02T13:08:15.560205Z",
     "start_time": "2025-07-02T13:08:15.556023Z"
    }
   },
   "cell_type": "code",
   "source": [
    "# Optimizing multiple ML models\n",
    "\n",
    "from sklearn.ensemble import RandomForestClassifier, GradientBoostingClassifier\n",
    "from sklearn.svm import  SVC"
   ],
   "id": "d8ffe3b140b4554d",
   "outputs": [],
   "execution_count": 14
  },
  {
   "metadata": {
    "ExecuteTime": {
     "end_time": "2025-07-02T13:24:08.032278Z",
     "start_time": "2025-07-02T13:24:08.024883Z"
    }
   },
   "cell_type": "code",
   "source": [
    "def objective(trial):\n",
    "    classifier_name = trial.suggest_categorical('classifier', ['SVM', 'RandomForest', 'GradientBoosting'])\n",
    "    if classifier_name=='SVM':\n",
    "        # SVM hyperparams\n",
    "        c = trial.suggest_float('C', 0.1, 100, log=True)\n",
    "        kernel = trial.suggest_categorical('kernel', ['linear', 'rbf', 'poly', 'sigmoid'])\n",
    "        gamma = trial.suggest_categorical('gamma', ['scale', 'auto'])\n",
    "        model = SVC(C=c, kernel=kernel, gamma=gamma, random_state=42)\n",
    "    elif classifier_name=='RandomForest':\n",
    "        n_estimators = trial.suggest_int('n_estimators', 50, 300)\n",
    "        max_depth = trial.suggest_int('max_depth', 3, 20)\n",
    "        min_samples_split = trial.suggest_int('min_samples_split', 2, 10)\n",
    "        min_samples_leaf = trial.suggest_int('min_samples_leaf', 1, 10)\n",
    "        bootstrap = trial.suggest_categorical('bootstrap', [True, False])\n",
    "        model = RandomForestClassifier(\n",
    "            n_estimators=n_estimators,\n",
    "            max_depth=max_depth,\n",
    "            min_samples_split=min_samples_split,\n",
    "            min_samples_leaf=min_samples_leaf,\n",
    "            bootstrap=bootstrap,\n",
    "            random_state=42\n",
    "        )\n",
    "    elif classifier_name == 'GradientBoosting':\n",
    "        n_estimators = trial.suggest_int('n_estimators', 50, 300)\n",
    "        learning_rate = trial.suggest_float('learning_rate', 0.01, 0.3, log=True)\n",
    "        max_depth = trial.suggest_int('max_depth', 3, 20)\n",
    "        min_samples_split = trial.suggest_int('min_samples_split', 2, 10)\n",
    "        min_samples_leaf = trial.suggest_int('min_samples_leaf', 1, 10)\n",
    "        model = GradientBoostingClassifier(\n",
    "            n_estimators=n_estimators,\n",
    "            learning_rate=learning_rate,\n",
    "            max_depth=max_depth,\n",
    "            min_samples_split=min_samples_split,\n",
    "            min_samples_leaf=min_samples_leaf,\n",
    "            random_state=42\n",
    "        )\n",
    "\n",
    "    # Perform cross-val and return mean of acu\n",
    "    score = cross_val_score(model, X_train, y_train, cv=3,scoring='accuracy').mean()\n",
    "    return score"
   ],
   "id": "ca5dfb42be8d7f4d",
   "outputs": [],
   "execution_count": 15
  },
  {
   "metadata": {
    "ExecuteTime": {
     "end_time": "2025-07-02T13:27:46.494894Z",
     "start_time": "2025-07-02T13:27:23.973070Z"
    }
   },
   "cell_type": "code",
   "source": [
    "# Create a study object and optimize the objective function\n",
    "study = optuna.create_study(direction='maximize')\n",
    "study.optimize(objective, n_trials=100)\n",
    "\n",
    "# Print the best result\n",
    "print(f'Best trial accuracy: {study.best_trial.value}')\n",
    "print(f'Best trial Hyperparameters: {study.best_trial.params}')"
   ],
   "id": "67d1ab8c5d7aef01",
   "outputs": [
    {
     "name": "stderr",
     "output_type": "stream",
     "text": [
      "[I 2025-07-02 18:57:23,974] A new study created in memory with name: no-name-b89aef68-5b6f-4a7e-85cd-e4d3999cc84f\n",
      "[I 2025-07-02 18:57:24,689] Trial 0 finished with value: 0.7653631284916201 and parameters: {'classifier': 'GradientBoosting', 'n_estimators': 258, 'learning_rate': 0.011472826268146236, 'max_depth': 3, 'min_samples_split': 9, 'min_samples_leaf': 5}. Best is trial 0 with value: 0.7653631284916201.\n",
      "[I 2025-07-02 18:57:25,267] Trial 1 finished with value: 0.7709497206703911 and parameters: {'classifier': 'RandomForest', 'n_estimators': 244, 'max_depth': 20, 'min_samples_split': 4, 'min_samples_leaf': 7, 'bootstrap': False}. Best is trial 1 with value: 0.7709497206703911.\n",
      "[I 2025-07-02 18:57:25,317] Trial 2 finished with value: 0.7858472998137801 and parameters: {'classifier': 'SVM', 'C': 18.041504378844213, 'kernel': 'linear', 'gamma': 'auto'}. Best is trial 2 with value: 0.7858472998137801.\n",
      "[I 2025-07-02 18:57:25,555] Trial 3 finished with value: 0.756052141527002 and parameters: {'classifier': 'RandomForest', 'n_estimators': 87, 'max_depth': 5, 'min_samples_split': 4, 'min_samples_leaf': 5, 'bootstrap': True}. Best is trial 2 with value: 0.7858472998137801.\n",
      "[I 2025-07-02 18:57:25,955] Trial 4 finished with value: 0.7579143389199254 and parameters: {'classifier': 'RandomForest', 'n_estimators': 142, 'max_depth': 6, 'min_samples_split': 2, 'min_samples_leaf': 6, 'bootstrap': True}. Best is trial 2 with value: 0.7858472998137801.\n",
      "[I 2025-07-02 18:57:25,979] Trial 5 finished with value: 0.7411545623836125 and parameters: {'classifier': 'SVM', 'C': 0.5669243868924749, 'kernel': 'sigmoid', 'gamma': 'auto'}. Best is trial 2 with value: 0.7858472998137801.\n",
      "[I 2025-07-02 18:57:26,648] Trial 6 finished with value: 0.7672253258845437 and parameters: {'classifier': 'RandomForest', 'n_estimators': 235, 'max_depth': 17, 'min_samples_split': 2, 'min_samples_leaf': 4, 'bootstrap': False}. Best is trial 2 with value: 0.7858472998137801.\n",
      "[I 2025-07-02 18:57:26,849] Trial 7 finished with value: 0.7616387337057727 and parameters: {'classifier': 'RandomForest', 'n_estimators': 83, 'max_depth': 7, 'min_samples_split': 5, 'min_samples_leaf': 4, 'bootstrap': False}. Best is trial 2 with value: 0.7858472998137801.\n",
      "[I 2025-07-02 18:57:27,601] Trial 8 finished with value: 0.7355679702048418 and parameters: {'classifier': 'GradientBoosting', 'n_estimators': 74, 'learning_rate': 0.06842814350204558, 'max_depth': 18, 'min_samples_split': 8, 'min_samples_leaf': 3}. Best is trial 2 with value: 0.7858472998137801.\n",
      "[I 2025-07-02 18:57:28,110] Trial 9 finished with value: 0.7430167597765364 and parameters: {'classifier': 'RandomForest', 'n_estimators': 258, 'max_depth': 3, 'min_samples_split': 10, 'min_samples_leaf': 8, 'bootstrap': False}. Best is trial 2 with value: 0.7858472998137801.\n",
      "[I 2025-07-02 18:57:28,306] Trial 10 finished with value: 0.7858472998137801 and parameters: {'classifier': 'SVM', 'C': 80.23368875971454, 'kernel': 'linear', 'gamma': 'auto'}. Best is trial 2 with value: 0.7858472998137801.\n",
      "[I 2025-07-02 18:57:28,590] Trial 11 finished with value: 0.7858472998137801 and parameters: {'classifier': 'SVM', 'C': 85.90497359206442, 'kernel': 'linear', 'gamma': 'auto'}. Best is trial 2 with value: 0.7858472998137801.\n",
      "[I 2025-07-02 18:57:28,693] Trial 12 finished with value: 0.7858472998137801 and parameters: {'classifier': 'SVM', 'C': 35.421739661647976, 'kernel': 'linear', 'gamma': 'scale'}. Best is trial 2 with value: 0.7858472998137801.\n",
      "[I 2025-07-02 18:57:28,746] Trial 13 finished with value: 0.7858472998137801 and parameters: {'classifier': 'SVM', 'C': 11.595468069678704, 'kernel': 'linear', 'gamma': 'auto'}. Best is trial 2 with value: 0.7858472998137801.\n",
      "[I 2025-07-02 18:57:28,769] Trial 14 finished with value: 0.7579143389199255 and parameters: {'classifier': 'SVM', 'C': 5.884449968275116, 'kernel': 'rbf', 'gamma': 'auto'}. Best is trial 2 with value: 0.7858472998137801.\n",
      "[I 2025-07-02 18:57:28,867] Trial 15 finished with value: 0.6722532588454376 and parameters: {'classifier': 'SVM', 'C': 86.39552779383291, 'kernel': 'poly', 'gamma': 'auto'}. Best is trial 2 with value: 0.7858472998137801.\n",
      "[I 2025-07-02 18:57:28,933] Trial 16 finished with value: 0.7858472998137801 and parameters: {'classifier': 'SVM', 'C': 17.36260455964095, 'kernel': 'linear', 'gamma': 'scale'}. Best is trial 2 with value: 0.7858472998137801.\n",
      "[I 2025-07-02 18:57:28,958] Trial 17 finished with value: 0.7858472998137801 and parameters: {'classifier': 'SVM', 'C': 1.603130468979388, 'kernel': 'linear', 'gamma': 'auto'}. Best is trial 2 with value: 0.7858472998137801.\n",
      "[I 2025-07-02 18:57:30,071] Trial 18 finished with value: 0.7337057728119181 and parameters: {'classifier': 'GradientBoosting', 'n_estimators': 172, 'learning_rate': 0.2696159170963729, 'max_depth': 12, 'min_samples_split': 7, 'min_samples_leaf': 10}. Best is trial 2 with value: 0.7858472998137801.\n",
      "[I 2025-07-02 18:57:30,096] Trial 19 finished with value: 0.7523277467411545 and parameters: {'classifier': 'SVM', 'C': 0.1351244577645884, 'kernel': 'rbf', 'gamma': 'auto'}. Best is trial 2 with value: 0.7858472998137801.\n",
      "[I 2025-07-02 18:57:30,116] Trial 20 finished with value: 0.6852886405959032 and parameters: {'classifier': 'SVM', 'C': 29.58413107820509, 'kernel': 'sigmoid', 'gamma': 'scale'}. Best is trial 2 with value: 0.7858472998137801.\n",
      "[I 2025-07-02 18:57:30,332] Trial 21 finished with value: 0.7858472998137801 and parameters: {'classifier': 'SVM', 'C': 88.34162455927684, 'kernel': 'linear', 'gamma': 'auto'}. Best is trial 2 with value: 0.7858472998137801.\n",
      "[I 2025-07-02 18:57:30,547] Trial 22 finished with value: 0.7858472998137801 and parameters: {'classifier': 'SVM', 'C': 78.86963630879643, 'kernel': 'linear', 'gamma': 'auto'}. Best is trial 2 with value: 0.7858472998137801.\n",
      "[I 2025-07-02 18:57:30,621] Trial 23 finished with value: 0.7858472998137801 and parameters: {'classifier': 'SVM', 'C': 33.30802756322525, 'kernel': 'linear', 'gamma': 'auto'}. Best is trial 2 with value: 0.7858472998137801.\n",
      "[I 2025-07-02 18:57:30,644] Trial 24 finished with value: 0.7076350093109869 and parameters: {'classifier': 'SVM', 'C': 9.491523177298294, 'kernel': 'poly', 'gamma': 'auto'}. Best is trial 2 with value: 0.7858472998137801.\n",
      "[I 2025-07-02 18:57:34,116] Trial 25 finished with value: 0.7169459962756052 and parameters: {'classifier': 'GradientBoosting', 'n_estimators': 296, 'learning_rate': 0.01065151844310717, 'max_depth': 12, 'min_samples_split': 6, 'min_samples_leaf': 1}. Best is trial 2 with value: 0.7858472998137801.\n",
      "[I 2025-07-02 18:57:34,230] Trial 26 finished with value: 0.7858472998137801 and parameters: {'classifier': 'SVM', 'C': 43.980935847059015, 'kernel': 'linear', 'gamma': 'auto'}. Best is trial 2 with value: 0.7858472998137801.\n",
      "[I 2025-07-02 18:57:34,262] Trial 27 finished with value: 0.7858472998137801 and parameters: {'classifier': 'SVM', 'C': 3.3801044563704554, 'kernel': 'linear', 'gamma': 'auto'}. Best is trial 2 with value: 0.7858472998137801.\n",
      "[I 2025-07-02 18:57:34,344] Trial 28 finished with value: 0.7858472998137801 and parameters: {'classifier': 'SVM', 'C': 22.474225554513808, 'kernel': 'linear', 'gamma': 'scale'}. Best is trial 2 with value: 0.7858472998137801.\n",
      "[I 2025-07-02 18:57:35,221] Trial 29 finished with value: 0.7392923649906891 and parameters: {'classifier': 'GradientBoosting', 'n_estimators': 131, 'learning_rate': 0.2404205068979463, 'max_depth': 9, 'min_samples_split': 10, 'min_samples_leaf': 9}. Best is trial 2 with value: 0.7858472998137801.\n",
      "[I 2025-07-02 18:57:35,282] Trial 30 finished with value: 0.690875232774674 and parameters: {'classifier': 'SVM', 'C': 51.486566927009164, 'kernel': 'poly', 'gamma': 'auto'}. Best is trial 2 with value: 0.7858472998137801.\n",
      "[I 2025-07-02 18:57:35,415] Trial 31 finished with value: 0.7858472998137801 and parameters: {'classifier': 'SVM', 'C': 46.44876005816525, 'kernel': 'linear', 'gamma': 'scale'}. Best is trial 2 with value: 0.7858472998137801.\n",
      "[I 2025-07-02 18:57:35,478] Trial 32 finished with value: 0.7858472998137801 and parameters: {'classifier': 'SVM', 'C': 16.672918480833, 'kernel': 'linear', 'gamma': 'scale'}. Best is trial 2 with value: 0.7858472998137801.\n",
      "[I 2025-07-02 18:57:35,701] Trial 33 finished with value: 0.7858472998137801 and parameters: {'classifier': 'SVM', 'C': 94.565156232808, 'kernel': 'linear', 'gamma': 'scale'}. Best is trial 2 with value: 0.7858472998137801.\n",
      "[I 2025-07-02 18:57:35,836] Trial 34 finished with value: 0.7858472998137801 and parameters: {'classifier': 'SVM', 'C': 48.29805360782448, 'kernel': 'linear', 'gamma': 'scale'}. Best is trial 2 with value: 0.7858472998137801.\n",
      "[I 2025-07-02 18:57:35,860] Trial 35 finished with value: 0.6890130353817504 and parameters: {'classifier': 'SVM', 'C': 26.711463271432024, 'kernel': 'sigmoid', 'gamma': 'auto'}. Best is trial 2 with value: 0.7858472998137801.\n",
      "[I 2025-07-02 18:57:36,442] Trial 36 finished with value: 0.7672253258845437 and parameters: {'classifier': 'RandomForest', 'n_estimators': 200, 'max_depth': 15, 'min_samples_split': 8, 'min_samples_leaf': 1, 'bootstrap': True}. Best is trial 2 with value: 0.7858472998137801.\n",
      "[I 2025-07-02 18:57:38,293] Trial 37 finished with value: 0.7318435754189944 and parameters: {'classifier': 'GradientBoosting', 'n_estimators': 122, 'learning_rate': 0.04755364332694855, 'max_depth': 14, 'min_samples_split': 3, 'min_samples_leaf': 2}. Best is trial 2 with value: 0.7858472998137801.\n",
      "[I 2025-07-02 18:57:38,433] Trial 38 finished with value: 0.7672253258845437 and parameters: {'classifier': 'RandomForest', 'n_estimators': 54, 'max_depth': 9, 'min_samples_split': 6, 'min_samples_leaf': 10, 'bootstrap': True}. Best is trial 2 with value: 0.7858472998137801.\n",
      "[I 2025-07-02 18:57:38,454] Trial 39 finished with value: 0.7579143389199254 and parameters: {'classifier': 'SVM', 'C': 10.672450913713256, 'kernel': 'rbf', 'gamma': 'scale'}. Best is trial 2 with value: 0.7858472998137801.\n",
      "[I 2025-07-02 18:57:38,621] Trial 40 finished with value: 0.7858472998137801 and parameters: {'classifier': 'SVM', 'C': 62.120662523667974, 'kernel': 'linear', 'gamma': 'auto'}. Best is trial 2 with value: 0.7858472998137801.\n",
      "[I 2025-07-02 18:57:38,674] Trial 41 finished with value: 0.7858472998137801 and parameters: {'classifier': 'SVM', 'C': 12.560132894015664, 'kernel': 'linear', 'gamma': 'auto'}. Best is trial 2 with value: 0.7858472998137801.\n",
      "[I 2025-07-02 18:57:38,712] Trial 42 finished with value: 0.7858472998137801 and parameters: {'classifier': 'SVM', 'C': 5.825898773486616, 'kernel': 'linear', 'gamma': 'auto'}. Best is trial 2 with value: 0.7858472998137801.\n",
      "[I 2025-07-02 18:57:38,803] Trial 43 finished with value: 0.7858472998137801 and parameters: {'classifier': 'SVM', 'C': 33.05561070421649, 'kernel': 'linear', 'gamma': 'auto'}. Best is trial 2 with value: 0.7858472998137801.\n",
      "[I 2025-07-02 18:57:39,521] Trial 44 finished with value: 0.7709497206703911 and parameters: {'classifier': 'RandomForest', 'n_estimators': 296, 'max_depth': 20, 'min_samples_split': 7, 'min_samples_leaf': 7, 'bootstrap': False}. Best is trial 2 with value: 0.7858472998137801.\n",
      "[I 2025-07-02 18:57:39,583] Trial 45 finished with value: 0.7858472998137801 and parameters: {'classifier': 'SVM', 'C': 20.456846442612513, 'kernel': 'linear', 'gamma': 'auto'}. Best is trial 2 with value: 0.7858472998137801.\n",
      "[I 2025-07-02 18:57:39,605] Trial 46 finished with value: 0.74487895716946 and parameters: {'classifier': 'SVM', 'C': 0.9810977863630608, 'kernel': 'sigmoid', 'gamma': 'auto'}. Best is trial 2 with value: 0.7858472998137801.\n",
      "[I 2025-07-02 18:57:40,992] Trial 47 finished with value: 0.7616387337057727 and parameters: {'classifier': 'GradientBoosting', 'n_estimators': 200, 'learning_rate': 0.038177504364107634, 'max_depth': 10, 'min_samples_split': 4, 'min_samples_leaf': 8}. Best is trial 2 with value: 0.7858472998137801.\n",
      "[I 2025-07-02 18:57:41,025] Trial 48 finished with value: 0.7858472998137801 and parameters: {'classifier': 'SVM', 'C': 6.0320804586915395, 'kernel': 'linear', 'gamma': 'auto'}. Best is trial 2 with value: 0.7858472998137801.\n",
      "[I 2025-07-02 18:57:41,054] Trial 49 finished with value: 0.7337057728119181 and parameters: {'classifier': 'SVM', 'C': 37.74809854184521, 'kernel': 'rbf', 'gamma': 'auto'}. Best is trial 2 with value: 0.7858472998137801.\n",
      "[I 2025-07-02 18:57:41,584] Trial 50 finished with value: 0.7616387337057727 and parameters: {'classifier': 'RandomForest', 'n_estimators': 180, 'max_depth': 15, 'min_samples_split': 5, 'min_samples_leaf': 3, 'bootstrap': True}. Best is trial 2 with value: 0.7858472998137801.\n",
      "[I 2025-07-02 18:57:41,627] Trial 51 finished with value: 0.7858472998137801 and parameters: {'classifier': 'SVM', 'C': 14.489941679104493, 'kernel': 'linear', 'gamma': 'scale'}. Best is trial 2 with value: 0.7858472998137801.\n",
      "[I 2025-07-02 18:57:41,664] Trial 52 finished with value: 0.7858472998137801 and parameters: {'classifier': 'SVM', 'C': 9.053354058488367, 'kernel': 'linear', 'gamma': 'scale'}. Best is trial 2 with value: 0.7858472998137801.\n",
      "[I 2025-07-02 18:57:41,821] Trial 53 finished with value: 0.7858472998137801 and parameters: {'classifier': 'SVM', 'C': 63.61300272647306, 'kernel': 'linear', 'gamma': 'scale'}. Best is trial 2 with value: 0.7858472998137801.\n",
      "[I 2025-07-02 18:57:41,850] Trial 54 finished with value: 0.7057728119180632 and parameters: {'classifier': 'SVM', 'C': 16.283095440966942, 'kernel': 'poly', 'gamma': 'scale'}. Best is trial 2 with value: 0.7858472998137801.\n",
      "[I 2025-07-02 18:57:41,938] Trial 55 finished with value: 0.7858472998137801 and parameters: {'classifier': 'SVM', 'C': 24.55340026018624, 'kernel': 'linear', 'gamma': 'auto'}. Best is trial 2 with value: 0.7858472998137801.\n",
      "[I 2025-07-02 18:57:41,972] Trial 56 finished with value: 0.7858472998137801 and parameters: {'classifier': 'SVM', 'C': 6.75221989291728, 'kernel': 'linear', 'gamma': 'scale'}. Best is trial 2 with value: 0.7858472998137801.\n",
      "[I 2025-07-02 18:57:41,992] Trial 57 finished with value: 0.7057728119180634 and parameters: {'classifier': 'SVM', 'C': 71.16333949748484, 'kernel': 'sigmoid', 'gamma': 'auto'}. Best is trial 2 with value: 0.7858472998137801.\n",
      "[I 2025-07-02 18:57:43,028] Trial 58 finished with value: 0.7374301675977654 and parameters: {'classifier': 'GradientBoosting', 'n_estimators': 112, 'learning_rate': 0.10384090943823529, 'max_depth': 18, 'min_samples_split': 9, 'min_samples_leaf': 6}. Best is trial 2 with value: 0.7858472998137801.\n",
      "[I 2025-07-02 18:57:43,052] Trial 59 finished with value: 0.7597765363128492 and parameters: {'classifier': 'SVM', 'C': 0.17855423830276507, 'kernel': 'rbf', 'gamma': 'auto'}. Best is trial 2 with value: 0.7858472998137801.\n",
      "[I 2025-07-02 18:57:43,084] Trial 60 finished with value: 0.7858472998137801 and parameters: {'classifier': 'SVM', 'C': 3.4004236672117973, 'kernel': 'linear', 'gamma': 'scale'}. Best is trial 2 with value: 0.7858472998137801.\n",
      "[I 2025-07-02 18:57:43,110] Trial 61 finished with value: 0.7839851024208566 and parameters: {'classifier': 'SVM', 'C': 1.2629247692468528, 'kernel': 'linear', 'gamma': 'auto'}. Best is trial 2 with value: 0.7858472998137801.\n",
      "[I 2025-07-02 18:57:43,129] Trial 62 finished with value: 0.7858472998137803 and parameters: {'classifier': 'SVM', 'C': 0.917123584579952, 'kernel': 'linear', 'gamma': 'auto'}. Best is trial 62 with value: 0.7858472998137803.\n",
      "[I 2025-07-02 18:57:43,147] Trial 63 finished with value: 0.7839851024208566 and parameters: {'classifier': 'SVM', 'C': 0.5477790004281824, 'kernel': 'linear', 'gamma': 'auto'}. Best is trial 62 with value: 0.7858472998137803.\n",
      "[I 2025-07-02 18:57:43,221] Trial 64 finished with value: 0.7858472998137801 and parameters: {'classifier': 'SVM', 'C': 35.27689159098954, 'kernel': 'linear', 'gamma': 'auto'}. Best is trial 62 with value: 0.7858472998137803.\n",
      "[I 2025-07-02 18:57:43,238] Trial 65 finished with value: 0.7858472998137803 and parameters: {'classifier': 'SVM', 'C': 0.3193590555835367, 'kernel': 'linear', 'gamma': 'auto'}. Best is trial 62 with value: 0.7858472998137803.\n",
      "[I 2025-07-02 18:57:43,255] Trial 66 finished with value: 0.7858472998137803 and parameters: {'classifier': 'SVM', 'C': 0.29405985304110593, 'kernel': 'linear', 'gamma': 'auto'}. Best is trial 62 with value: 0.7858472998137803.\n",
      "[I 2025-07-02 18:57:43,273] Trial 67 finished with value: 0.7858472998137803 and parameters: {'classifier': 'SVM', 'C': 0.26516509881395744, 'kernel': 'linear', 'gamma': 'auto'}. Best is trial 62 with value: 0.7858472998137803.\n",
      "[I 2025-07-02 18:57:43,296] Trial 68 finished with value: 0.7858472998137803 and parameters: {'classifier': 'SVM', 'C': 0.2756428557944297, 'kernel': 'linear', 'gamma': 'auto'}. Best is trial 62 with value: 0.7858472998137803.\n",
      "[I 2025-07-02 18:57:43,319] Trial 69 finished with value: 0.7858472998137803 and parameters: {'classifier': 'SVM', 'C': 0.28421350939523987, 'kernel': 'linear', 'gamma': 'auto'}. Best is trial 62 with value: 0.7858472998137803.\n",
      "[I 2025-07-02 18:57:43,344] Trial 70 finished with value: 0.7858472998137803 and parameters: {'classifier': 'SVM', 'C': 0.2950997310329239, 'kernel': 'linear', 'gamma': 'auto'}. Best is trial 62 with value: 0.7858472998137803.\n",
      "[I 2025-07-02 18:57:43,367] Trial 71 finished with value: 0.7858472998137803 and parameters: {'classifier': 'SVM', 'C': 0.28070359249255883, 'kernel': 'linear', 'gamma': 'auto'}. Best is trial 62 with value: 0.7858472998137803.\n",
      "[I 2025-07-02 18:57:43,389] Trial 72 finished with value: 0.7858472998137803 and parameters: {'classifier': 'SVM', 'C': 0.27179250936559374, 'kernel': 'linear', 'gamma': 'auto'}. Best is trial 62 with value: 0.7858472998137803.\n",
      "[I 2025-07-02 18:57:43,412] Trial 73 finished with value: 0.7858472998137803 and parameters: {'classifier': 'SVM', 'C': 0.3076237383984733, 'kernel': 'linear', 'gamma': 'auto'}. Best is trial 62 with value: 0.7858472998137803.\n",
      "[I 2025-07-02 18:57:43,435] Trial 74 finished with value: 0.7839851024208566 and parameters: {'classifier': 'SVM', 'C': 0.4104972431145015, 'kernel': 'linear', 'gamma': 'auto'}. Best is trial 62 with value: 0.7858472998137803.\n",
      "[I 2025-07-02 18:57:43,457] Trial 75 finished with value: 0.7877094972067038 and parameters: {'classifier': 'SVM', 'C': 0.10788820819982671, 'kernel': 'linear', 'gamma': 'auto'}. Best is trial 75 with value: 0.7877094972067038.\n",
      "[I 2025-07-02 18:57:43,479] Trial 76 finished with value: 0.707635009310987 and parameters: {'classifier': 'SVM', 'C': 0.10816252352724132, 'kernel': 'poly', 'gamma': 'auto'}. Best is trial 75 with value: 0.7877094972067038.\n",
      "[I 2025-07-02 18:57:43,902] Trial 77 finished with value: 0.7653631284916201 and parameters: {'classifier': 'RandomForest', 'n_estimators': 161, 'max_depth': 14, 'min_samples_split': 3, 'min_samples_leaf': 2, 'bootstrap': False}. Best is trial 75 with value: 0.7877094972067038.\n",
      "[I 2025-07-02 18:57:43,919] Trial 78 finished with value: 0.7877094972067038 and parameters: {'classifier': 'SVM', 'C': 0.17989454772527166, 'kernel': 'linear', 'gamma': 'auto'}. Best is trial 75 with value: 0.7877094972067038.\n",
      "[I 2025-07-02 18:57:43,936] Trial 79 finished with value: 0.7858472998137803 and parameters: {'classifier': 'SVM', 'C': 0.18712911499880835, 'kernel': 'linear', 'gamma': 'auto'}. Best is trial 75 with value: 0.7877094972067038.\n",
      "[I 2025-07-02 18:57:45,008] Trial 80 finished with value: 0.7635009310986964 and parameters: {'classifier': 'GradientBoosting', 'n_estimators': 210, 'learning_rate': 0.02538782954286425, 'max_depth': 7, 'min_samples_split': 7, 'min_samples_leaf': 9}. Best is trial 75 with value: 0.7877094972067038.\n",
      "[I 2025-07-02 18:57:45,026] Trial 81 finished with value: 0.7858472998137803 and parameters: {'classifier': 'SVM', 'C': 0.19515976667315893, 'kernel': 'linear', 'gamma': 'auto'}. Best is trial 75 with value: 0.7877094972067038.\n",
      "[I 2025-07-02 18:57:45,043] Trial 82 finished with value: 0.7821229050279329 and parameters: {'classifier': 'SVM', 'C': 0.3669629068356656, 'kernel': 'linear', 'gamma': 'auto'}. Best is trial 75 with value: 0.7877094972067038.\n",
      "[I 2025-07-02 18:57:45,062] Trial 83 finished with value: 0.7839851024208566 and parameters: {'classifier': 'SVM', 'C': 0.539075552980469, 'kernel': 'linear', 'gamma': 'auto'}. Best is trial 75 with value: 0.7877094972067038.\n",
      "[I 2025-07-02 18:57:45,083] Trial 84 finished with value: 0.7895716945996275 and parameters: {'classifier': 'SVM', 'C': 0.13163973212477242, 'kernel': 'linear', 'gamma': 'auto'}. Best is trial 84 with value: 0.7895716945996275.\n",
      "[I 2025-07-02 18:57:45,098] Trial 85 finished with value: 0.7895716945996275 and parameters: {'classifier': 'SVM', 'C': 0.12259385401777752, 'kernel': 'linear', 'gamma': 'auto'}. Best is trial 84 with value: 0.7895716945996275.\n",
      "[I 2025-07-02 18:57:45,115] Trial 86 finished with value: 0.7895716945996275 and parameters: {'classifier': 'SVM', 'C': 0.1371719317861328, 'kernel': 'linear', 'gamma': 'auto'}. Best is trial 84 with value: 0.7895716945996275.\n",
      "[I 2025-07-02 18:57:45,134] Trial 87 finished with value: 0.7877094972067038 and parameters: {'classifier': 'SVM', 'C': 0.1002985467727281, 'kernel': 'linear', 'gamma': 'auto'}. Best is trial 84 with value: 0.7895716945996275.\n",
      "[I 2025-07-02 18:57:45,161] Trial 88 finished with value: 0.7709497206703911 and parameters: {'classifier': 'SVM', 'C': 0.1113880090896111, 'kernel': 'sigmoid', 'gamma': 'auto'}. Best is trial 84 with value: 0.7895716945996275.\n",
      "[I 2025-07-02 18:57:45,179] Trial 89 finished with value: 0.7895716945996275 and parameters: {'classifier': 'SVM', 'C': 0.13742628858288075, 'kernel': 'linear', 'gamma': 'auto'}. Best is trial 84 with value: 0.7895716945996275.\n",
      "[I 2025-07-02 18:57:45,526] Trial 90 finished with value: 0.7523277467411545 and parameters: {'classifier': 'RandomForest', 'n_estimators': 103, 'max_depth': 10, 'min_samples_split': 5, 'min_samples_leaf': 7, 'bootstrap': True}. Best is trial 84 with value: 0.7895716945996275.\n",
      "[I 2025-07-02 18:57:45,546] Trial 91 finished with value: 0.7895716945996275 and parameters: {'classifier': 'SVM', 'C': 0.1402749944310312, 'kernel': 'linear', 'gamma': 'auto'}. Best is trial 84 with value: 0.7895716945996275.\n",
      "[I 2025-07-02 18:57:45,568] Trial 92 finished with value: 0.7895716945996275 and parameters: {'classifier': 'SVM', 'C': 0.14084851897287473, 'kernel': 'linear', 'gamma': 'auto'}. Best is trial 84 with value: 0.7895716945996275.\n",
      "[I 2025-07-02 18:57:45,590] Trial 93 finished with value: 0.7895716945996275 and parameters: {'classifier': 'SVM', 'C': 0.14184966026761991, 'kernel': 'linear', 'gamma': 'auto'}. Best is trial 84 with value: 0.7895716945996275.\n",
      "[I 2025-07-02 18:57:45,612] Trial 94 finished with value: 0.7895716945996275 and parameters: {'classifier': 'SVM', 'C': 0.1427435113895893, 'kernel': 'linear', 'gamma': 'auto'}. Best is trial 84 with value: 0.7895716945996275.\n",
      "[I 2025-07-02 18:57:45,639] Trial 95 finished with value: 0.7467411545623835 and parameters: {'classifier': 'SVM', 'C': 0.14756044859138984, 'kernel': 'rbf', 'gamma': 'auto'}. Best is trial 84 with value: 0.7895716945996275.\n",
      "[I 2025-07-02 18:57:45,661] Trial 96 finished with value: 0.7895716945996275 and parameters: {'classifier': 'SVM', 'C': 0.13986012355139882, 'kernel': 'linear', 'gamma': 'auto'}. Best is trial 84 with value: 0.7895716945996275.\n",
      "[I 2025-07-02 18:57:45,684] Trial 97 finished with value: 0.7132216014897579 and parameters: {'classifier': 'SVM', 'C': 0.14258499467451088, 'kernel': 'poly', 'gamma': 'auto'}. Best is trial 84 with value: 0.7895716945996275.\n",
      "[I 2025-07-02 18:57:46,471] Trial 98 finished with value: 0.756052141527002 and parameters: {'classifier': 'GradientBoosting', 'n_estimators': 147, 'learning_rate': 0.12212832264199472, 'max_depth': 5, 'min_samples_split': 8, 'min_samples_leaf': 4}. Best is trial 84 with value: 0.7895716945996275.\n",
      "[I 2025-07-02 18:57:46,492] Trial 99 finished with value: 0.7895716945996275 and parameters: {'classifier': 'SVM', 'C': 0.13508702431556147, 'kernel': 'linear', 'gamma': 'auto'}. Best is trial 84 with value: 0.7895716945996275.\n"
     ]
    },
    {
     "name": "stdout",
     "output_type": "stream",
     "text": [
      "Best trial accuracy: 0.7895716945996275\n",
      "Best trial Hyperparameters: {'classifier': 'SVM', 'C': 0.13163973212477242, 'kernel': 'linear', 'gamma': 'auto'}\n"
     ]
    }
   ],
   "execution_count": 17
  },
  {
   "metadata": {
    "ExecuteTime": {
     "end_time": "2025-07-02T13:30:33.492871Z",
     "start_time": "2025-07-02T13:30:33.480052Z"
    }
   },
   "cell_type": "code",
   "source": [
    "from sklearn.metrics import accuracy_score\n",
    "\n",
    "params = study.best_trial.params\n",
    "model_class = params['classifier']  # e.g., 'SVM'\n",
    "\n",
    "# Remove 'classifier' and pass the rest as kwargs\n",
    "model_kwargs = {k: v for k, v in params.items() if k != 'classifier'}\n",
    "model_kwargs['random_state'] = 42\n",
    "\n",
    "# You would typically map string name to actual class\n",
    "classifier_map = {\n",
    "    'SVM': SVC,\n",
    "    # Add other mappings if needed\n",
    "}\n",
    "\n",
    "# Train using the best hyperparameters from Optuna\n",
    "best_model = classifier_map[model_class](**model_kwargs)\n",
    "\n",
    "best_model.fit(X_train, y_train)\n",
    "\n",
    "y_pred = best_model.predict(X_test)\n",
    "\n",
    "test_accuracy = accuracy_score(y_test, y_pred)\n",
    "\n",
    "print(f'Test accuracy ith best hyperparameters: {test_accuracy:.2f}')"
   ],
   "id": "e7a679357387a85f",
   "outputs": [
    {
     "name": "stdout",
     "output_type": "stream",
     "text": [
      "Test accuracy ith best hyperparameters: 0.74\n"
     ]
    }
   ],
   "execution_count": 19
  },
  {
   "metadata": {
    "ExecuteTime": {
     "end_time": "2025-07-02T13:30:53.534356Z",
     "start_time": "2025-07-02T13:30:53.501261Z"
    }
   },
   "cell_type": "code",
   "source": [
    "# We can also create dataframe of the study\n",
    "\n",
    "study.trials_dataframe()"
   ],
   "id": "b38ad8448c8e5bf3",
   "outputs": [
    {
     "data": {
      "text/plain": [
       "    number     value             datetime_start          datetime_complete  \\\n",
       "0        0  0.765363 2025-07-02 18:57:23.975780 2025-07-02 18:57:24.689564   \n",
       "1        1  0.770950 2025-07-02 18:57:24.690158 2025-07-02 18:57:25.267910   \n",
       "2        2  0.785847 2025-07-02 18:57:25.268676 2025-07-02 18:57:25.317121   \n",
       "3        3  0.756052 2025-07-02 18:57:25.317748 2025-07-02 18:57:25.555334   \n",
       "4        4  0.757914 2025-07-02 18:57:25.555879 2025-07-02 18:57:25.955644   \n",
       "..     ...       ...                        ...                        ...   \n",
       "95      95  0.746741 2025-07-02 18:57:45.613228 2025-07-02 18:57:45.639297   \n",
       "96      96  0.789572 2025-07-02 18:57:45.639946 2025-07-02 18:57:45.661181   \n",
       "97      97  0.713222 2025-07-02 18:57:45.661782 2025-07-02 18:57:45.684368   \n",
       "98      98  0.756052 2025-07-02 18:57:45.685024 2025-07-02 18:57:46.471904   \n",
       "99      99  0.789572 2025-07-02 18:57:46.473002 2025-07-02 18:57:46.492390   \n",
       "\n",
       "                 duration   params_C params_bootstrap params_classifier  \\\n",
       "0  0 days 00:00:00.713784        NaN              NaN  GradientBoosting   \n",
       "1  0 days 00:00:00.577752        NaN            False      RandomForest   \n",
       "2  0 days 00:00:00.048445  18.041504              NaN               SVM   \n",
       "3  0 days 00:00:00.237586        NaN             True      RandomForest   \n",
       "4  0 days 00:00:00.399765        NaN             True      RandomForest   \n",
       "..                    ...        ...              ...               ...   \n",
       "95 0 days 00:00:00.026069   0.147560              NaN               SVM   \n",
       "96 0 days 00:00:00.021235   0.139860              NaN               SVM   \n",
       "97 0 days 00:00:00.022586   0.142585              NaN               SVM   \n",
       "98 0 days 00:00:00.786880        NaN              NaN  GradientBoosting   \n",
       "99 0 days 00:00:00.019388   0.135087              NaN               SVM   \n",
       "\n",
       "   params_gamma params_kernel  params_learning_rate  params_max_depth  \\\n",
       "0           NaN           NaN              0.011473               3.0   \n",
       "1           NaN           NaN                   NaN              20.0   \n",
       "2          auto        linear                   NaN               NaN   \n",
       "3           NaN           NaN                   NaN               5.0   \n",
       "4           NaN           NaN                   NaN               6.0   \n",
       "..          ...           ...                   ...               ...   \n",
       "95         auto           rbf                   NaN               NaN   \n",
       "96         auto        linear                   NaN               NaN   \n",
       "97         auto          poly                   NaN               NaN   \n",
       "98          NaN           NaN              0.122128               5.0   \n",
       "99         auto        linear                   NaN               NaN   \n",
       "\n",
       "    params_min_samples_leaf  params_min_samples_split  params_n_estimators  \\\n",
       "0                       5.0                       9.0                258.0   \n",
       "1                       7.0                       4.0                244.0   \n",
       "2                       NaN                       NaN                  NaN   \n",
       "3                       5.0                       4.0                 87.0   \n",
       "4                       6.0                       2.0                142.0   \n",
       "..                      ...                       ...                  ...   \n",
       "95                      NaN                       NaN                  NaN   \n",
       "96                      NaN                       NaN                  NaN   \n",
       "97                      NaN                       NaN                  NaN   \n",
       "98                      4.0                       8.0                147.0   \n",
       "99                      NaN                       NaN                  NaN   \n",
       "\n",
       "       state  \n",
       "0   COMPLETE  \n",
       "1   COMPLETE  \n",
       "2   COMPLETE  \n",
       "3   COMPLETE  \n",
       "4   COMPLETE  \n",
       "..       ...  \n",
       "95  COMPLETE  \n",
       "96  COMPLETE  \n",
       "97  COMPLETE  \n",
       "98  COMPLETE  \n",
       "99  COMPLETE  \n",
       "\n",
       "[100 rows x 16 columns]"
      ],
      "text/html": [
       "<div>\n",
       "<style scoped>\n",
       "    .dataframe tbody tr th:only-of-type {\n",
       "        vertical-align: middle;\n",
       "    }\n",
       "\n",
       "    .dataframe tbody tr th {\n",
       "        vertical-align: top;\n",
       "    }\n",
       "\n",
       "    .dataframe thead th {\n",
       "        text-align: right;\n",
       "    }\n",
       "</style>\n",
       "<table border=\"1\" class=\"dataframe\">\n",
       "  <thead>\n",
       "    <tr style=\"text-align: right;\">\n",
       "      <th></th>\n",
       "      <th>number</th>\n",
       "      <th>value</th>\n",
       "      <th>datetime_start</th>\n",
       "      <th>datetime_complete</th>\n",
       "      <th>duration</th>\n",
       "      <th>params_C</th>\n",
       "      <th>params_bootstrap</th>\n",
       "      <th>params_classifier</th>\n",
       "      <th>params_gamma</th>\n",
       "      <th>params_kernel</th>\n",
       "      <th>params_learning_rate</th>\n",
       "      <th>params_max_depth</th>\n",
       "      <th>params_min_samples_leaf</th>\n",
       "      <th>params_min_samples_split</th>\n",
       "      <th>params_n_estimators</th>\n",
       "      <th>state</th>\n",
       "    </tr>\n",
       "  </thead>\n",
       "  <tbody>\n",
       "    <tr>\n",
       "      <th>0</th>\n",
       "      <td>0</td>\n",
       "      <td>0.765363</td>\n",
       "      <td>2025-07-02 18:57:23.975780</td>\n",
       "      <td>2025-07-02 18:57:24.689564</td>\n",
       "      <td>0 days 00:00:00.713784</td>\n",
       "      <td>NaN</td>\n",
       "      <td>NaN</td>\n",
       "      <td>GradientBoosting</td>\n",
       "      <td>NaN</td>\n",
       "      <td>NaN</td>\n",
       "      <td>0.011473</td>\n",
       "      <td>3.0</td>\n",
       "      <td>5.0</td>\n",
       "      <td>9.0</td>\n",
       "      <td>258.0</td>\n",
       "      <td>COMPLETE</td>\n",
       "    </tr>\n",
       "    <tr>\n",
       "      <th>1</th>\n",
       "      <td>1</td>\n",
       "      <td>0.770950</td>\n",
       "      <td>2025-07-02 18:57:24.690158</td>\n",
       "      <td>2025-07-02 18:57:25.267910</td>\n",
       "      <td>0 days 00:00:00.577752</td>\n",
       "      <td>NaN</td>\n",
       "      <td>False</td>\n",
       "      <td>RandomForest</td>\n",
       "      <td>NaN</td>\n",
       "      <td>NaN</td>\n",
       "      <td>NaN</td>\n",
       "      <td>20.0</td>\n",
       "      <td>7.0</td>\n",
       "      <td>4.0</td>\n",
       "      <td>244.0</td>\n",
       "      <td>COMPLETE</td>\n",
       "    </tr>\n",
       "    <tr>\n",
       "      <th>2</th>\n",
       "      <td>2</td>\n",
       "      <td>0.785847</td>\n",
       "      <td>2025-07-02 18:57:25.268676</td>\n",
       "      <td>2025-07-02 18:57:25.317121</td>\n",
       "      <td>0 days 00:00:00.048445</td>\n",
       "      <td>18.041504</td>\n",
       "      <td>NaN</td>\n",
       "      <td>SVM</td>\n",
       "      <td>auto</td>\n",
       "      <td>linear</td>\n",
       "      <td>NaN</td>\n",
       "      <td>NaN</td>\n",
       "      <td>NaN</td>\n",
       "      <td>NaN</td>\n",
       "      <td>NaN</td>\n",
       "      <td>COMPLETE</td>\n",
       "    </tr>\n",
       "    <tr>\n",
       "      <th>3</th>\n",
       "      <td>3</td>\n",
       "      <td>0.756052</td>\n",
       "      <td>2025-07-02 18:57:25.317748</td>\n",
       "      <td>2025-07-02 18:57:25.555334</td>\n",
       "      <td>0 days 00:00:00.237586</td>\n",
       "      <td>NaN</td>\n",
       "      <td>True</td>\n",
       "      <td>RandomForest</td>\n",
       "      <td>NaN</td>\n",
       "      <td>NaN</td>\n",
       "      <td>NaN</td>\n",
       "      <td>5.0</td>\n",
       "      <td>5.0</td>\n",
       "      <td>4.0</td>\n",
       "      <td>87.0</td>\n",
       "      <td>COMPLETE</td>\n",
       "    </tr>\n",
       "    <tr>\n",
       "      <th>4</th>\n",
       "      <td>4</td>\n",
       "      <td>0.757914</td>\n",
       "      <td>2025-07-02 18:57:25.555879</td>\n",
       "      <td>2025-07-02 18:57:25.955644</td>\n",
       "      <td>0 days 00:00:00.399765</td>\n",
       "      <td>NaN</td>\n",
       "      <td>True</td>\n",
       "      <td>RandomForest</td>\n",
       "      <td>NaN</td>\n",
       "      <td>NaN</td>\n",
       "      <td>NaN</td>\n",
       "      <td>6.0</td>\n",
       "      <td>6.0</td>\n",
       "      <td>2.0</td>\n",
       "      <td>142.0</td>\n",
       "      <td>COMPLETE</td>\n",
       "    </tr>\n",
       "    <tr>\n",
       "      <th>...</th>\n",
       "      <td>...</td>\n",
       "      <td>...</td>\n",
       "      <td>...</td>\n",
       "      <td>...</td>\n",
       "      <td>...</td>\n",
       "      <td>...</td>\n",
       "      <td>...</td>\n",
       "      <td>...</td>\n",
       "      <td>...</td>\n",
       "      <td>...</td>\n",
       "      <td>...</td>\n",
       "      <td>...</td>\n",
       "      <td>...</td>\n",
       "      <td>...</td>\n",
       "      <td>...</td>\n",
       "      <td>...</td>\n",
       "    </tr>\n",
       "    <tr>\n",
       "      <th>95</th>\n",
       "      <td>95</td>\n",
       "      <td>0.746741</td>\n",
       "      <td>2025-07-02 18:57:45.613228</td>\n",
       "      <td>2025-07-02 18:57:45.639297</td>\n",
       "      <td>0 days 00:00:00.026069</td>\n",
       "      <td>0.147560</td>\n",
       "      <td>NaN</td>\n",
       "      <td>SVM</td>\n",
       "      <td>auto</td>\n",
       "      <td>rbf</td>\n",
       "      <td>NaN</td>\n",
       "      <td>NaN</td>\n",
       "      <td>NaN</td>\n",
       "      <td>NaN</td>\n",
       "      <td>NaN</td>\n",
       "      <td>COMPLETE</td>\n",
       "    </tr>\n",
       "    <tr>\n",
       "      <th>96</th>\n",
       "      <td>96</td>\n",
       "      <td>0.789572</td>\n",
       "      <td>2025-07-02 18:57:45.639946</td>\n",
       "      <td>2025-07-02 18:57:45.661181</td>\n",
       "      <td>0 days 00:00:00.021235</td>\n",
       "      <td>0.139860</td>\n",
       "      <td>NaN</td>\n",
       "      <td>SVM</td>\n",
       "      <td>auto</td>\n",
       "      <td>linear</td>\n",
       "      <td>NaN</td>\n",
       "      <td>NaN</td>\n",
       "      <td>NaN</td>\n",
       "      <td>NaN</td>\n",
       "      <td>NaN</td>\n",
       "      <td>COMPLETE</td>\n",
       "    </tr>\n",
       "    <tr>\n",
       "      <th>97</th>\n",
       "      <td>97</td>\n",
       "      <td>0.713222</td>\n",
       "      <td>2025-07-02 18:57:45.661782</td>\n",
       "      <td>2025-07-02 18:57:45.684368</td>\n",
       "      <td>0 days 00:00:00.022586</td>\n",
       "      <td>0.142585</td>\n",
       "      <td>NaN</td>\n",
       "      <td>SVM</td>\n",
       "      <td>auto</td>\n",
       "      <td>poly</td>\n",
       "      <td>NaN</td>\n",
       "      <td>NaN</td>\n",
       "      <td>NaN</td>\n",
       "      <td>NaN</td>\n",
       "      <td>NaN</td>\n",
       "      <td>COMPLETE</td>\n",
       "    </tr>\n",
       "    <tr>\n",
       "      <th>98</th>\n",
       "      <td>98</td>\n",
       "      <td>0.756052</td>\n",
       "      <td>2025-07-02 18:57:45.685024</td>\n",
       "      <td>2025-07-02 18:57:46.471904</td>\n",
       "      <td>0 days 00:00:00.786880</td>\n",
       "      <td>NaN</td>\n",
       "      <td>NaN</td>\n",
       "      <td>GradientBoosting</td>\n",
       "      <td>NaN</td>\n",
       "      <td>NaN</td>\n",
       "      <td>0.122128</td>\n",
       "      <td>5.0</td>\n",
       "      <td>4.0</td>\n",
       "      <td>8.0</td>\n",
       "      <td>147.0</td>\n",
       "      <td>COMPLETE</td>\n",
       "    </tr>\n",
       "    <tr>\n",
       "      <th>99</th>\n",
       "      <td>99</td>\n",
       "      <td>0.789572</td>\n",
       "      <td>2025-07-02 18:57:46.473002</td>\n",
       "      <td>2025-07-02 18:57:46.492390</td>\n",
       "      <td>0 days 00:00:00.019388</td>\n",
       "      <td>0.135087</td>\n",
       "      <td>NaN</td>\n",
       "      <td>SVM</td>\n",
       "      <td>auto</td>\n",
       "      <td>linear</td>\n",
       "      <td>NaN</td>\n",
       "      <td>NaN</td>\n",
       "      <td>NaN</td>\n",
       "      <td>NaN</td>\n",
       "      <td>NaN</td>\n",
       "      <td>COMPLETE</td>\n",
       "    </tr>\n",
       "  </tbody>\n",
       "</table>\n",
       "<p>100 rows × 16 columns</p>\n",
       "</div>"
      ]
     },
     "execution_count": 20,
     "metadata": {},
     "output_type": "execute_result"
    }
   ],
   "execution_count": 20
  },
  {
   "metadata": {
    "ExecuteTime": {
     "end_time": "2025-07-02T13:31:39.438400Z",
     "start_time": "2025-07-02T13:31:39.428111Z"
    }
   },
   "cell_type": "code",
   "source": "study.trials_dataframe()['params_classifier'].value_counts()",
   "id": "63791194f1c3cdd0",
   "outputs": [
    {
     "data": {
      "text/plain": [
       "params_classifier\n",
       "SVM                 78\n",
       "RandomForest        12\n",
       "GradientBoosting    10\n",
       "Name: count, dtype: int64"
      ]
     },
     "execution_count": 21,
     "metadata": {},
     "output_type": "execute_result"
    }
   ],
   "execution_count": 21
  },
  {
   "metadata": {
    "ExecuteTime": {
     "end_time": "2025-07-02T13:32:19.210831Z",
     "start_time": "2025-07-02T13:32:19.197534Z"
    }
   },
   "cell_type": "code",
   "source": "study.trials_dataframe().groupby('params_classifier')['value'].mean()",
   "id": "b185613758e96fc6",
   "outputs": [
    {
     "data": {
      "text/plain": [
       "params_classifier\n",
       "GradientBoosting    0.744134\n",
       "RandomForest        0.761794\n",
       "SVM                 0.772120\n",
       "Name: value, dtype: float64"
      ]
     },
     "execution_count": 22,
     "metadata": {},
     "output_type": "execute_result"
    }
   ],
   "execution_count": 22
  },
  {
   "metadata": {
    "ExecuteTime": {
     "end_time": "2025-07-04T10:41:04.805467Z",
     "start_time": "2025-07-04T10:41:04.801484Z"
    }
   },
   "cell_type": "code",
   "source": [
    "import sys\n",
    "\n",
    "print(sys.executable)"
   ],
   "id": "400fe1856ec48f66",
   "outputs": [
    {
     "name": "stdout",
     "output_type": "stream",
     "text": [
      "/home/ml02/Downloads/PyTorch/PyTorch/bin/python\n"
     ]
    }
   ],
   "execution_count": 1
  },
  {
   "metadata": {},
   "cell_type": "markdown",
   "source": "# OPTUNA IN DEEP LEARNING",
   "id": "494c380c352e3081"
  },
  {
   "metadata": {},
   "cell_type": "markdown",
   "source": [
    "#### How to train a neural network model in optuna\n",
    "\n",
    "Optuna creates a study object which contains trials. Each trial is sent to the objective function. Objective function is used to define - Search Space, Model Init, Param Init, Training loop, Evaluation Loop which returns the objective metric."
   ],
   "id": "50950391e8b531c3"
  },
  {
   "metadata": {
    "ExecuteTime": {
     "end_time": "2025-07-07T13:53:08.035253Z",
     "start_time": "2025-07-07T13:53:05.102498Z"
    }
   },
   "cell_type": "code",
   "source": [
    "import pandas as pd\n",
    "import torch\n",
    "import torch.nn as nn\n",
    "import torch.optim as optim\n",
    "import matplotlib.pyplot as plt\n",
    "from torch.utils.data import Dataset, DataLoader\n",
    "from sklearn.model_selection import train_test_split"
   ],
   "id": "bef6083298b064be",
   "outputs": [],
   "execution_count": 1
  },
  {
   "metadata": {
    "ExecuteTime": {
     "end_time": "2025-07-07T13:53:09.312065Z",
     "start_time": "2025-07-07T13:53:09.180980Z"
    }
   },
   "cell_type": "code",
   "source": [
    "torch.manual_seed(42)\n",
    "\n",
    "device = torch.device('cuda' if torch.cuda.is_available() else 'cpu')\n",
    "print(f\"Using device:{device}\")"
   ],
   "id": "e9b25eea902abb50",
   "outputs": [
    {
     "name": "stdout",
     "output_type": "stream",
     "text": [
      "Using device:cuda\n"
     ]
    }
   ],
   "execution_count": 3
  },
  {
   "metadata": {
    "ExecuteTime": {
     "end_time": "2025-07-07T13:53:14.860222Z",
     "start_time": "2025-07-07T13:53:11.814332Z"
    }
   },
   "cell_type": "code",
   "source": [
    "df = pd.read_csv(\"/home/ml02/Downloads/PyTorch/archive/fashion-mnist_train.csv\")\n",
    "df.shape"
   ],
   "id": "60314910f1c3658a",
   "outputs": [
    {
     "data": {
      "text/plain": [
       "(60000, 785)"
      ]
     },
     "execution_count": 4,
     "metadata": {},
     "output_type": "execute_result"
    }
   ],
   "execution_count": 4
  },
  {
   "metadata": {
    "ExecuteTime": {
     "end_time": "2025-07-07T13:53:14.875734Z",
     "start_time": "2025-07-07T13:53:14.871153Z"
    }
   },
   "cell_type": "code",
   "source": [
    "X = df.iloc[:,1:].values\n",
    "y = df.iloc[:, 0].values"
   ],
   "id": "c18d78c63a833509",
   "outputs": [],
   "execution_count": 5
  },
  {
   "metadata": {
    "ExecuteTime": {
     "end_time": "2025-07-07T13:53:15.640742Z",
     "start_time": "2025-07-07T13:53:14.931552Z"
    }
   },
   "cell_type": "code",
   "source": "X_train, X_test, y_train, y_test = train_test_split(X, y, test_size=0.2, random_state=42)",
   "id": "b649c6a5fe849a7a",
   "outputs": [],
   "execution_count": 6
  },
  {
   "metadata": {
    "ExecuteTime": {
     "end_time": "2025-07-07T13:53:17.447341Z",
     "start_time": "2025-07-07T13:53:17.342446Z"
    }
   },
   "cell_type": "code",
   "source": [
    "X_train = X_train/255.0\n",
    "X_test = X_test/255.0"
   ],
   "id": "86e3c87e0316e15a",
   "outputs": [],
   "execution_count": 7
  },
  {
   "metadata": {
    "ExecuteTime": {
     "end_time": "2025-07-07T13:53:18.863216Z",
     "start_time": "2025-07-07T13:53:18.858517Z"
    }
   },
   "cell_type": "code",
   "source": [
    "class CustomDataset(Dataset):\n",
    "    def __init__(self, features, labels):\n",
    "        self.features = torch.tensor(features, dtype=torch.float32)\n",
    "        self.labels = torch.tensor(labels, dtype=torch.long)\n",
    "    def __len__(self):\n",
    "        return len(self.features)\n",
    "    def __getitem__(self, idx):\n",
    "        return self.features[idx], self.labels[idx]"
   ],
   "id": "d4c13072dda108c6",
   "outputs": [],
   "execution_count": 8
  },
  {
   "metadata": {
    "ExecuteTime": {
     "end_time": "2025-07-07T13:53:20.721098Z",
     "start_time": "2025-07-07T13:53:20.696724Z"
    }
   },
   "cell_type": "code",
   "source": [
    "train_dataset = CustomDataset(X_train, y_train)\n",
    "test_dataset = CustomDataset(X_test, y_test)"
   ],
   "id": "1016df4c0c2b4fdf",
   "outputs": [],
   "execution_count": 9
  },
  {
   "metadata": {
    "ExecuteTime": {
     "end_time": "2025-07-07T13:53:24.583119Z",
     "start_time": "2025-07-07T13:53:24.580381Z"
    }
   },
   "cell_type": "code",
   "source": [
    "train_loader = DataLoader(train_dataset, batch_size=32, shuffle=True, pin_memory=True)\n",
    "test_loader = DataLoader(test_dataset, batch_size=32, shuffle=False, pin_memory=True)"
   ],
   "id": "51f398af93b9a3c3",
   "outputs": [],
   "execution_count": 10
  },
  {
   "metadata": {
    "ExecuteTime": {
     "end_time": "2025-07-07T13:53:26.746632Z",
     "start_time": "2025-07-07T13:53:26.743130Z"
    }
   },
   "cell_type": "code",
   "source": "len(train_loader)",
   "id": "c7106fc9305b2599",
   "outputs": [
    {
     "data": {
      "text/plain": [
       "1500"
      ]
     },
     "execution_count": 11,
     "metadata": {},
     "output_type": "execute_result"
    }
   ],
   "execution_count": 11
  },
  {
   "metadata": {
    "ExecuteTime": {
     "end_time": "2025-07-07T13:53:28.186066Z",
     "start_time": "2025-07-07T13:53:28.181893Z"
    }
   },
   "cell_type": "code",
   "source": [
    "#NB - The below architecture has as drawback - We are using same neurons for every layer\n",
    "class MyNN(nn.Module):\n",
    "    def __init__(self, input_dim, output_dim, num_hidden_layers, neurons_per_layer):\n",
    "        super().__init__()\n",
    "        layers = [] # This will store the layers dynamically in every trial\n",
    "        for i in range(num_hidden_layers):\n",
    "            layers.append(nn.Linear(input_dim, neurons_per_layer))\n",
    "            layers.append(nn.BatchNorm1d(neurons_per_layer))\n",
    "            layers.append(nn.ReLU())\n",
    "            layers.append(nn.Dropout(0.3))\n",
    "            input_dim = neurons_per_layer\n",
    "        layers.append(nn.Linear(neurons_per_layer, output_dim))\n",
    "        self.model = nn.Sequential(*layers) # Unpacking the array here as sequential takes input one by one\n",
    "\n",
    "    def forward(self, x):\n",
    "        return self.model(x)"
   ],
   "id": "5c1051f0534148bf",
   "outputs": [],
   "execution_count": 12
  },
  {
   "metadata": {
    "ExecuteTime": {
     "end_time": "2025-07-07T13:53:29.859777Z",
     "start_time": "2025-07-07T13:53:29.855303Z"
    }
   },
   "cell_type": "code",
   "source": [
    "# Now we will make our example objective function\n",
    "# and will only focus on two things -\n",
    "## 1. Number of hidden layers\n",
    "## 2. Number of neurons per layer\n",
    "\n",
    "def objective(trial):\n",
    "    # next hyperparameter values from the search space\n",
    "    num_hidden_layers = trial.suggest_int(\"num_hidden_layers\", 1,5)\n",
    "    neurons_per_layer = trial.suggest_int(\"neurons_per_layer\", 8, 128, step=8)\n",
    "\n",
    "    # model init\n",
    "    input_dim = 784\n",
    "    output_dim = 10\n",
    "\n",
    "    model = MyNN(input_dim, output_dim, num_hidden_layers, neurons_per_layer)\n",
    "    model.to(device)\n",
    "\n",
    "    # param init\n",
    "    lr = 0.01\n",
    "    epochs = 100\n",
    "\n",
    "    # optimizer selection\n",
    "    criterion = nn.CrossEntropyLoss()\n",
    "    optimizer = optim.SGD(model.parameters(), lr=0.1, weight_decay=1e-4)\n",
    "\n",
    "    # training loop - We will not print values of loss here\n",
    "    model.train()\n",
    "    for epoch in range(epochs):\n",
    "        for batch_features, batch_labels in train_loader:\n",
    "            batch_features, batch_labels = batch_features.to(device), batch_labels.to(device)\n",
    "            outputs = model(batch_features) # Forward pass\n",
    "            loss = criterion(outputs, batch_labels)\n",
    "            # back pass\n",
    "            optimizer.zero_grad()\n",
    "            loss.backward()\n",
    "            # update grads\n",
    "            optimizer.step()\n",
    "\n",
    "    # evaluation\n",
    "    model.eval()\n",
    "    total, correct = 0, 0\n",
    "    with torch.no_grad():\n",
    "        for batch_features, batch_labels in test_loader:\n",
    "            batch_features, batch_labels = batch_features.to(device), batch_labels.to(device)\n",
    "            outputs = model(batch_features)\n",
    "            _, predicted = torch.max(outputs, 1)\n",
    "            total += batch_labels.shape[0]\n",
    "            correct = correct + (predicted == batch_labels).sum().item()\n",
    "        accuracy = correct/total\n",
    "    return accuracy"
   ],
   "id": "26a5f8a638d9da58",
   "outputs": [],
   "execution_count": 13
  },
  {
   "metadata": {
    "ExecuteTime": {
     "end_time": "2025-07-07T13:53:33.063613Z",
     "start_time": "2025-07-07T13:53:33.002869Z"
    }
   },
   "cell_type": "code",
   "source": [
    "# Now we will create an Optuna study\n",
    "import optuna\n",
    "\n",
    "study = optuna.create_study(direction='maximize')"
   ],
   "id": "5eb09618477616fa",
   "outputs": [
    {
     "name": "stderr",
     "output_type": "stream",
     "text": [
      "[I 2025-07-07 19:23:33,061] A new study created in memory with name: no-name-51296a41-b765-4c0e-86c1-31c67aedc18c\n"
     ]
    }
   ],
   "execution_count": 14
  },
  {
   "metadata": {
    "ExecuteTime": {
     "end_time": "2025-07-07T14:37:02.542132Z",
     "start_time": "2025-07-07T13:53:34.489827Z"
    }
   },
   "cell_type": "code",
   "source": "study.optimize(objective, n_trials=10)",
   "id": "3d45468886b6564f",
   "outputs": [
    {
     "name": "stderr",
     "output_type": "stream",
     "text": [
      "[I 2025-07-07 19:26:56,750] Trial 0 finished with value: 0.7855833333333333 and parameters: {'num_hidden_layers': 2, 'neurons_per_layer': 8}. Best is trial 0 with value: 0.7855833333333333.\n",
      "[I 2025-07-07 19:31:44,820] Trial 1 finished with value: 0.8934166666666666 and parameters: {'num_hidden_layers': 4, 'neurons_per_layer': 112}. Best is trial 1 with value: 0.8934166666666666.\n",
      "[I 2025-07-07 19:36:37,260] Trial 2 finished with value: 0.8946666666666667 and parameters: {'num_hidden_layers': 4, 'neurons_per_layer': 112}. Best is trial 2 with value: 0.8946666666666667.\n",
      "[I 2025-07-07 19:42:21,163] Trial 3 finished with value: 0.8860833333333333 and parameters: {'num_hidden_layers': 5, 'neurons_per_layer': 120}. Best is trial 2 with value: 0.8946666666666667.\n",
      "[I 2025-07-07 19:46:21,853] Trial 4 finished with value: 0.8656666666666667 and parameters: {'num_hidden_layers': 3, 'neurons_per_layer': 32}. Best is trial 2 with value: 0.8946666666666667.\n",
      "[I 2025-07-07 19:49:22,589] Trial 5 finished with value: 0.818 and parameters: {'num_hidden_layers': 1, 'neurons_per_layer': 8}. Best is trial 2 with value: 0.8946666666666667.\n",
      "[I 2025-07-07 19:55:03,082] Trial 6 finished with value: 0.563 and parameters: {'num_hidden_layers': 5, 'neurons_per_layer': 8}. Best is trial 2 with value: 0.8946666666666667.\n",
      "[I 2025-07-07 19:58:54,868] Trial 7 finished with value: 0.8763333333333333 and parameters: {'num_hidden_layers': 2, 'neurons_per_layer': 48}. Best is trial 2 with value: 0.8946666666666667.\n",
      "[I 2025-07-07 20:03:18,053] Trial 8 finished with value: 0.89125 and parameters: {'num_hidden_layers': 3, 'neurons_per_layer': 80}. Best is trial 2 with value: 0.8946666666666667.\n",
      "[I 2025-07-07 20:07:02,539] Trial 9 finished with value: 0.8875 and parameters: {'num_hidden_layers': 2, 'neurons_per_layer': 96}. Best is trial 2 with value: 0.8946666666666667.\n"
     ]
    }
   ],
   "execution_count": 15
  },
  {
   "metadata": {
    "ExecuteTime": {
     "end_time": "2025-07-07T14:38:27.559792Z",
     "start_time": "2025-07-07T14:38:27.553691Z"
    }
   },
   "cell_type": "code",
   "source": "study.best_value",
   "id": "5aa178c834529044",
   "outputs": [
    {
     "data": {
      "text/plain": [
       "0.8946666666666667"
      ]
     },
     "execution_count": 16,
     "metadata": {},
     "output_type": "execute_result"
    }
   ],
   "execution_count": 16
  },
  {
   "metadata": {
    "ExecuteTime": {
     "end_time": "2025-07-07T14:38:28.862562Z",
     "start_time": "2025-07-07T14:38:28.857783Z"
    }
   },
   "cell_type": "code",
   "source": "study.best_params",
   "id": "8e36d56cf656c95",
   "outputs": [
    {
     "data": {
      "text/plain": [
       "{'num_hidden_layers': 4, 'neurons_per_layer': 112}"
      ]
     },
     "execution_count": 17,
     "metadata": {},
     "output_type": "execute_result"
    }
   ],
   "execution_count": 17
  },
  {
   "metadata": {},
   "cell_type": "markdown",
   "source": "#### Now we will continue to update the objective function and will add few more params in hyperparam searching",
   "id": "70c21b715d314b40"
  },
  {
   "metadata": {
    "ExecuteTime": {
     "end_time": "2025-07-07T15:11:14.698570Z",
     "start_time": "2025-07-07T15:11:12.468094Z"
    }
   },
   "cell_type": "code",
   "source": [
    "import pandas as pd\n",
    "import torch\n",
    "import torch.nn as nn\n",
    "import torch.optim as optim\n",
    "import matplotlib.pyplot as plt\n",
    "from torch.utils.data import Dataset, DataLoader\n",
    "from sklearn.model_selection import train_test_split"
   ],
   "id": "123a9cda0c35f9e",
   "outputs": [],
   "execution_count": 1
  },
  {
   "metadata": {
    "ExecuteTime": {
     "end_time": "2025-07-07T15:11:14.843033Z",
     "start_time": "2025-07-07T15:11:14.711766Z"
    }
   },
   "cell_type": "code",
   "source": [
    "torch.manual_seed(42)\n",
    "\n",
    "device = torch.device('cuda' if torch.cuda.is_available() else 'cpu')\n",
    "print(f\"Using device:{device}\")"
   ],
   "id": "f31566200fc7c711",
   "outputs": [
    {
     "name": "stdout",
     "output_type": "stream",
     "text": [
      "Using device:cuda\n"
     ]
    }
   ],
   "execution_count": 2
  },
  {
   "metadata": {
    "ExecuteTime": {
     "end_time": "2025-07-07T15:11:18.835975Z",
     "start_time": "2025-07-07T15:11:16.930706Z"
    }
   },
   "cell_type": "code",
   "source": [
    "df = pd.read_csv(\"/home/ml02/Downloads/PyTorch/archive/fashion-mnist_train.csv\")\n",
    "df.shape"
   ],
   "id": "dedb6b24292225b9",
   "outputs": [
    {
     "data": {
      "text/plain": [
       "(60000, 785)"
      ]
     },
     "execution_count": 3,
     "metadata": {},
     "output_type": "execute_result"
    }
   ],
   "execution_count": 3
  },
  {
   "metadata": {
    "ExecuteTime": {
     "end_time": "2025-07-07T15:11:18.865135Z",
     "start_time": "2025-07-07T15:11:18.861392Z"
    }
   },
   "cell_type": "code",
   "source": [
    "X = df.iloc[:,1:].values\n",
    "y = df.iloc[:, 0].values"
   ],
   "id": "47d2f3945f1550eb",
   "outputs": [],
   "execution_count": 4
  },
  {
   "metadata": {
    "ExecuteTime": {
     "end_time": "2025-07-07T15:11:21.430757Z",
     "start_time": "2025-07-07T15:11:20.781182Z"
    }
   },
   "cell_type": "code",
   "source": "X_train, X_test, y_train, y_test = train_test_split(X, y, test_size=0.2, random_state=42)",
   "id": "9ac56be10adcdae9",
   "outputs": [],
   "execution_count": 5
  },
  {
   "metadata": {
    "ExecuteTime": {
     "end_time": "2025-07-07T15:11:22.279235Z",
     "start_time": "2025-07-07T15:11:22.150259Z"
    }
   },
   "cell_type": "code",
   "source": [
    "X_train = X_train/255.0\n",
    "X_test = X_test/255.0"
   ],
   "id": "ba6ee4d9462b3a02",
   "outputs": [],
   "execution_count": 6
  },
  {
   "metadata": {
    "ExecuteTime": {
     "end_time": "2025-07-07T15:11:23.148473Z",
     "start_time": "2025-07-07T15:11:23.144974Z"
    }
   },
   "cell_type": "code",
   "source": [
    "class CustomDataset(Dataset):\n",
    "    def __init__(self, features, labels):\n",
    "        self.features = torch.tensor(features, dtype=torch.float32)\n",
    "        self.labels = torch.tensor(labels, dtype=torch.long)\n",
    "    def __len__(self):\n",
    "        return len(self.features)\n",
    "    def __getitem__(self, idx):\n",
    "        return self.features[idx], self.labels[idx]"
   ],
   "id": "c8c8f2f8f7906c93",
   "outputs": [],
   "execution_count": 7
  },
  {
   "metadata": {
    "ExecuteTime": {
     "end_time": "2025-07-07T15:11:27.901139Z",
     "start_time": "2025-07-07T15:11:27.881444Z"
    }
   },
   "cell_type": "code",
   "source": [
    "train_dataset = CustomDataset(X_train, y_train)\n",
    "test_dataset = CustomDataset(X_test, y_test)"
   ],
   "id": "fa2e4e7fbb806846",
   "outputs": [],
   "execution_count": 8
  },
  {
   "metadata": {
    "ExecuteTime": {
     "end_time": "2025-07-07T15:11:33.293767Z",
     "start_time": "2025-07-07T15:11:33.289481Z"
    }
   },
   "cell_type": "code",
   "source": [
    "#NB - The below architecture has as drawback - We are using same neurons for every layer\n",
    "class MyNN(nn.Module):\n",
    "    def __init__(self, input_dim, output_dim, num_hidden_layers, neurons_per_layer, dropout):\n",
    "        super().__init__()\n",
    "        layers = [] # This will store the layers dynamically in every trial\n",
    "        for i in range(num_hidden_layers):\n",
    "            layers.append(nn.Linear(input_dim, neurons_per_layer))\n",
    "            layers.append(nn.BatchNorm1d(neurons_per_layer))\n",
    "            layers.append(nn.ReLU())\n",
    "            layers.append(nn.Dropout(dropout))\n",
    "            input_dim = neurons_per_layer\n",
    "        layers.append(nn.Linear(neurons_per_layer, output_dim))\n",
    "        self.model = nn.Sequential(*layers) # Unpacking the array here as sequential takes input one by one\n",
    "\n",
    "    def forward(self, x):\n",
    "        return self.model(x)"
   ],
   "id": "87897071987e51a",
   "outputs": [],
   "execution_count": 9
  },
  {
   "metadata": {
    "ExecuteTime": {
     "end_time": "2025-07-07T15:11:35.410044Z",
     "start_time": "2025-07-07T15:11:35.401101Z"
    }
   },
   "cell_type": "code",
   "source": [
    "# Now we will make our example objective function\n",
    "# and will only focus on two things -\n",
    "## 1. Number of hidden layers\n",
    "## 2. Number of neurons per layer\n",
    "\n",
    "def objective(trial):\n",
    "    # next hyperparameter values from the search space\n",
    "    num_hidden_layers = trial.suggest_int(\"num_hidden_layers\", 1,5)\n",
    "    neurons_per_layer = trial.suggest_int(\"neurons_per_layer\", 8, 128, step=8)\n",
    "    epochs = trial.suggest_int(\"epochs\", 10, 50, step=10)\n",
    "    lr = trial.suggest_float(\"lr\", 1e-5, 1e-1, log=True) # The values will be in logarithmic scale\n",
    "    dropout_rate = trial.suggest_float(\"dropout\", 0.1, 0.5, step=0.1)\n",
    "    batch_size = trial.suggest_categorical(\"batch_size\", [16,32,64,128])\n",
    "    optimizer_name = trial.suggest_categorical(\"optimizer\", ['Adam', 'SGD', 'RMSprop'])\n",
    "    weight_decay = trial.suggest_float(\"weight_decay\", 1e-5, 1e-3, log=True)\n",
    "\n",
    "    # model init\n",
    "    input_dim = 784\n",
    "    output_dim = 10\n",
    "    train_loader = DataLoader(train_dataset, batch_size=batch_size, shuffle=True, pin_memory=True)\n",
    "    test_loader = DataLoader(test_dataset, batch_size=batch_size, shuffle=False, pin_memory=True)\n",
    "    model = MyNN(input_dim, output_dim, num_hidden_layers, neurons_per_layer, dropout_rate)\n",
    "    model.to(device)\n",
    "\n",
    "    # optimizer selection\n",
    "    criterion = nn.CrossEntropyLoss()\n",
    "    if optimizer_name == 'Adam':\n",
    "        optimizer = optim.Adam(model.parameters(), lr=lr, weight_decay=weight_decay)\n",
    "    elif optimizer_name == 'SGD':\n",
    "        optimizer = optim.SGD(model.parameters(), lr=lr, weight_decay=weight_decay)\n",
    "    else:\n",
    "        optimizer = optim.RMSprop(model.parameters(), lr=lr, weight_decay=weight_decay)\n",
    "\n",
    "    # training loop - We will not print values of loss here\n",
    "    model.train()\n",
    "    for epoch in range(epochs):\n",
    "        for batch_features, batch_labels in train_loader:\n",
    "            batch_features, batch_labels = batch_features.to(device), batch_labels.to(device)\n",
    "            outputs = model(batch_features) # Forward pass\n",
    "            loss = criterion(outputs, batch_labels)\n",
    "            # back pass\n",
    "            optimizer.zero_grad()\n",
    "            loss.backward()\n",
    "            # update grads\n",
    "            optimizer.step()\n",
    "\n",
    "    # evaluation\n",
    "    model.eval()\n",
    "    total, correct = 0, 0\n",
    "    with torch.no_grad():\n",
    "        for batch_features, batch_labels in test_loader:\n",
    "            batch_features, batch_labels = batch_features.to(device), batch_labels.to(device)\n",
    "            outputs = model(batch_features)\n",
    "            _, predicted = torch.max(outputs, 1)\n",
    "            total += batch_labels.shape[0]\n",
    "            correct = correct + (predicted == batch_labels).sum().item()\n",
    "        accuracy = correct/total\n",
    "    return accuracy"
   ],
   "id": "a4e3b36384b136da",
   "outputs": [],
   "execution_count": 10
  },
  {
   "metadata": {
    "ExecuteTime": {
     "end_time": "2025-07-07T15:12:02.609643Z",
     "start_time": "2025-07-07T15:12:02.468688Z"
    }
   },
   "cell_type": "code",
   "source": [
    "import optuna\n",
    "\n",
    "study = optuna.create_study(direction='maximize')"
   ],
   "id": "edf3c65ffabb8d7",
   "outputs": [
    {
     "name": "stderr",
     "output_type": "stream",
     "text": [
      "[I 2025-07-07 20:42:02,607] A new study created in memory with name: no-name-01d1e774-3b13-426e-a4e6-6cef166a8263\n"
     ]
    }
   ],
   "execution_count": 11
  },
  {
   "metadata": {
    "ExecuteTime": {
     "end_time": "2025-07-07T15:29:15.107904Z",
     "start_time": "2025-07-07T15:12:03.688029Z"
    }
   },
   "cell_type": "code",
   "source": "study.optimize(objective, n_trials=10)",
   "id": "683fda433e6b1d51",
   "outputs": [
    {
     "name": "stderr",
     "output_type": "stream",
     "text": [
      "[I 2025-07-07 20:42:29,247] Trial 0 finished with value: 0.8781666666666667 and parameters: {'num_hidden_layers': 5, 'neurons_per_layer': 112, 'epochs': 10, 'lr': 0.00023473466577846877, 'dropout': 0.30000000000000004, 'batch_size': 128, 'optimizer': 'RMSprop', 'weight_decay': 3.8709483389315404e-05}. Best is trial 0 with value: 0.8781666666666667.\n",
      "[I 2025-07-07 20:43:19,660] Trial 1 finished with value: 0.8655833333333334 and parameters: {'num_hidden_layers': 3, 'neurons_per_layer': 32, 'epochs': 30, 'lr': 0.0006317252980147981, 'dropout': 0.30000000000000004, 'batch_size': 128, 'optimizer': 'RMSprop', 'weight_decay': 5.373048924186291e-05}. Best is trial 0 with value: 0.8781666666666667.\n",
      "[I 2025-07-07 20:44:20,216] Trial 2 finished with value: 0.8813333333333333 and parameters: {'num_hidden_layers': 4, 'neurons_per_layer': 112, 'epochs': 30, 'lr': 0.00013226849854707735, 'dropout': 0.2, 'batch_size': 128, 'optimizer': 'RMSprop', 'weight_decay': 0.0001327606301060182}. Best is trial 2 with value: 0.8813333333333333.\n",
      "[I 2025-07-07 20:45:49,223] Trial 3 finished with value: 0.7478333333333333 and parameters: {'num_hidden_layers': 5, 'neurons_per_layer': 120, 'epochs': 30, 'lr': 0.0009345983921299469, 'dropout': 0.5, 'batch_size': 32, 'optimizer': 'SGD', 'weight_decay': 0.00010669007862008184}. Best is trial 2 with value: 0.8813333333333333.\n",
      "[I 2025-07-07 20:46:36,717] Trial 4 finished with value: 0.7623333333333333 and parameters: {'num_hidden_layers': 1, 'neurons_per_layer': 40, 'epochs': 10, 'lr': 0.01688791644276845, 'dropout': 0.5, 'batch_size': 16, 'optimizer': 'Adam', 'weight_decay': 0.0005865757174606408}. Best is trial 2 with value: 0.8813333333333333.\n",
      "[I 2025-07-07 20:47:46,593] Trial 5 finished with value: 0.8066666666666666 and parameters: {'num_hidden_layers': 3, 'neurons_per_layer': 8, 'epochs': 30, 'lr': 0.004323400413201414, 'dropout': 0.1, 'batch_size': 32, 'optimizer': 'RMSprop', 'weight_decay': 0.00046058054648758764}. Best is trial 2 with value: 0.8813333333333333.\n",
      "[I 2025-07-07 20:51:26,705] Trial 6 finished with value: 0.7883333333333333 and parameters: {'num_hidden_layers': 4, 'neurons_per_layer': 32, 'epochs': 40, 'lr': 0.0007533117076165769, 'dropout': 0.4, 'batch_size': 16, 'optimizer': 'SGD', 'weight_decay': 3.0517084585443338e-05}. Best is trial 2 with value: 0.8813333333333333.\n",
      "[I 2025-07-07 20:52:09,309] Trial 7 finished with value: 0.7974166666666667 and parameters: {'num_hidden_layers': 2, 'neurons_per_layer': 48, 'epochs': 30, 'lr': 0.011249615182327847, 'dropout': 0.2, 'batch_size': 128, 'optimizer': 'Adam', 'weight_decay': 0.000417203286132726}. Best is trial 2 with value: 0.8813333333333333.\n",
      "[I 2025-07-07 20:53:46,475] Trial 8 finished with value: 0.8433333333333334 and parameters: {'num_hidden_layers': 2, 'neurons_per_layer': 56, 'epochs': 40, 'lr': 0.007854100321183888, 'dropout': 0.4, 'batch_size': 64, 'optimizer': 'Adam', 'weight_decay': 0.0001057068923436697}. Best is trial 2 with value: 0.8813333333333333.\n",
      "[I 2025-07-07 20:59:15,106] Trial 9 finished with value: 0.72175 and parameters: {'num_hidden_layers': 5, 'neurons_per_layer': 128, 'epochs': 50, 'lr': 0.0001323300189010006, 'dropout': 0.5, 'batch_size': 16, 'optimizer': 'SGD', 'weight_decay': 3.882100592675259e-05}. Best is trial 2 with value: 0.8813333333333333.\n"
     ]
    }
   ],
   "execution_count": 12
  },
  {
   "metadata": {
    "ExecuteTime": {
     "end_time": "2025-07-07T15:29:15.169825Z",
     "start_time": "2025-07-07T15:29:15.165890Z"
    }
   },
   "cell_type": "code",
   "source": "study.best_value",
   "id": "f152adbedf0f09b",
   "outputs": [
    {
     "data": {
      "text/plain": [
       "0.8813333333333333"
      ]
     },
     "execution_count": 13,
     "metadata": {},
     "output_type": "execute_result"
    }
   ],
   "execution_count": 13
  },
  {
   "metadata": {
    "ExecuteTime": {
     "end_time": "2025-07-07T15:29:15.224098Z",
     "start_time": "2025-07-07T15:29:15.219233Z"
    }
   },
   "cell_type": "code",
   "source": "study.best_params",
   "id": "f602e811e5755319",
   "outputs": [
    {
     "data": {
      "text/plain": [
       "{'num_hidden_layers': 4,\n",
       " 'neurons_per_layer': 112,\n",
       " 'epochs': 30,\n",
       " 'lr': 0.00013226849854707735,\n",
       " 'dropout': 0.2,\n",
       " 'batch_size': 128,\n",
       " 'optimizer': 'RMSprop',\n",
       " 'weight_decay': 0.0001327606301060182}"
      ]
     },
     "execution_count": 14,
     "metadata": {},
     "output_type": "execute_result"
    }
   ],
   "execution_count": 14
  },
  {
   "metadata": {},
   "cell_type": "markdown",
   "source": "# Integrating MlFlow With Optuna to track trials",
   "id": "43bc952153c8d2ce"
  },
  {
   "metadata": {},
   "cell_type": "code",
   "outputs": [],
   "execution_count": null,
   "source": "# # !uv pip install mlflow",
   "id": "91e65e74b310bd92"
  },
  {
   "metadata": {
    "ExecuteTime": {
     "end_time": "2025-07-08T09:33:36.346188Z",
     "start_time": "2025-07-08T09:33:34.446173Z"
    }
   },
   "cell_type": "code",
   "source": "# !uv pip install optuna-integration",
   "id": "f629ad86ed03c8dc",
   "outputs": [
    {
     "name": "stdout",
     "output_type": "stream",
     "text": [
      "\u001B[2mUsing Python 3.10.12 environment at: PyTorch\u001B[0m\r\n",
      "\u001B[2K\u001B[2mResolved \u001B[1m14 packages\u001B[0m \u001B[2min 1.55s\u001B[0m\u001B[0m                                        \u001B[0m\r\n",
      "\u001B[2K\u001B[2mPrepared \u001B[1m1 package\u001B[0m \u001B[2min 180ms\u001B[0m\u001B[0m                                              \r\n",
      "\u001B[2K\u001B[2mInstalled \u001B[1m1 package\u001B[0m \u001B[2min 3ms\u001B[0m\u001B[0m=4.4.0                            \u001B[0m\r\n",
      " \u001B[32m+\u001B[39m \u001B[1moptuna-integration\u001B[0m\u001B[2m==4.4.0\u001B[0m\r\n"
     ]
    }
   ],
   "execution_count": 10
  },
  {
   "metadata": {
    "ExecuteTime": {
     "end_time": "2025-07-08T11:12:51.201047Z",
     "start_time": "2025-07-08T11:12:48.935123Z"
    }
   },
   "cell_type": "code",
   "source": [
    "import torch\n",
    "import pandas as pd\n",
    "import numpy as np\n",
    "import torch.optim as optim\n",
    "import torch.nn as nn\n",
    "from torch.utils.data import Dataset, DataLoader\n",
    "from sklearn.model_selection import train_test_split"
   ],
   "id": "7c11c65f0ef28c72",
   "outputs": [],
   "execution_count": 1
  },
  {
   "metadata": {
    "ExecuteTime": {
     "end_time": "2025-07-08T11:12:54.853601Z",
     "start_time": "2025-07-08T11:12:51.250963Z"
    }
   },
   "cell_type": "code",
   "source": [
    "torch.manual_seed(42)\n",
    "\n",
    "device = torch.device('cuda' if torch.cuda.is_available() else 'cpu')\n",
    "df = pd.read_csv(\"/home/ml02/Downloads/PyTorch/archive/fashion-mnist_train.csv\")\n",
    "X = df.iloc[:,1:].values\n",
    "y = df.iloc[:, 0].values\n",
    "X_train, X_test, y_train, y_test = train_test_split(X, y, test_size=0.2, random_state=42)\n",
    "X_train = X_train/255.0\n",
    "X_test = X_test/255.0"
   ],
   "id": "6727d0170d593cff",
   "outputs": [],
   "execution_count": 2
  },
  {
   "metadata": {
    "ExecuteTime": {
     "end_time": "2025-07-08T11:12:54.883294Z",
     "start_time": "2025-07-08T11:12:54.863428Z"
    }
   },
   "cell_type": "code",
   "source": [
    "class CustomDataset(Dataset):\n",
    "    def __init__(self, features, labels):\n",
    "        self.features = torch.tensor(features, dtype=torch.float32)\n",
    "        self.labels = torch.tensor(labels, dtype=torch.long)\n",
    "    def __len__(self):\n",
    "        return len(self.features)\n",
    "    def __getitem__(self, item):\n",
    "        return self.features[item], self.labels[item]\n",
    "\n",
    "train_dataset = CustomDataset(X_train, y_train)\n",
    "test_dataset = CustomDataset(X_test, y_test)"
   ],
   "id": "ee6056091ead2b29",
   "outputs": [],
   "execution_count": 3
  },
  {
   "metadata": {
    "ExecuteTime": {
     "end_time": "2025-07-08T11:12:54.920440Z",
     "start_time": "2025-07-08T11:12:54.915182Z"
    }
   },
   "cell_type": "code",
   "source": [
    "class MyNN(nn.Module):\n",
    "    def __init__(self, input_dim, output_dim, num_hiddden_layers, neurons_per_layer, dropout):\n",
    "        super().__init__()\n",
    "        layers = []\n",
    "        for i in range(num_hiddden_layers):\n",
    "            layers.append(nn.Linear(input_dim, neurons_per_layer))\n",
    "            layers.append(nn.BatchNorm1d(neurons_per_layer))\n",
    "            layers.append(nn.ReLU())\n",
    "            layers.append(nn.Dropout(dropout))\n",
    "            input_dim = neurons_per_layer\n",
    "        layers.append(nn.Linear(neurons_per_layer, output_dim))\n",
    "        self.model = nn.Sequential(*layers)\n",
    "\n",
    "    def forward(self, x):\n",
    "        return self.model(x)"
   ],
   "id": "4ee45a75d47438fe",
   "outputs": [],
   "execution_count": 4
  },
  {
   "metadata": {},
   "cell_type": "markdown",
   "source": [
    " Don’t need to manually write with mlflow.start_run(): when using Optuna with MLflowCallback. It’s handled automatically. MLflowCallback from Optuna ,wraps each trial in an MLflow run behind the scenes. So,\n",
    " ```\n",
    " with mlflow.start_run():\n",
    "    ...\n",
    "```\n",
    "is automatically done by the callback during each trial.\n",
    "\n",
    "You just need to:\n",
    "\n",
    "> Create your MLflowCallback;\n",
    "> Decorate your objective function with @mlflc.track_in_mlflow();\n",
    "> Run the study — and everything gets logged!"
   ],
   "id": "5642dea6d984c0a"
  },
  {
   "metadata": {
    "ExecuteTime": {
     "end_time": "2025-07-08T11:13:00.768576Z",
     "start_time": "2025-07-08T11:13:00.268523Z"
    }
   },
   "cell_type": "code",
   "source": [
    "import optuna\n",
    "import mlflow\n",
    "from optuna.integration.mlflow import MLflowCallback\n",
    "\n",
    "# mlflow.set_tracking_uri(\"http://localhost:5000\")\n",
    "# mlflow.set_experiment(\"Optuna Hyperparameter Search 1\")\n",
    "\n",
    "mlflc = MLflowCallback(\n",
    "tracking_uri=\"http://localhost:5000\",\n",
    "metric_name=\"Accuracy\"\n",
    ")\n",
    "\n",
    "@mlflc.track_in_mlflow()\n",
    "def objective(trial):\n",
    "    num_hidden_layers = trial.suggest_int(\"num_hidden_layers\", 1,5)\n",
    "    neurons_per_layer = trial.suggest_int(\"neurons_per_layer\", 8, 128, step=8)\n",
    "    epochs = trial.suggest_int(\"epochs\", 10, 100, step=10)\n",
    "    lr = trial.suggest_float(\"lr\", 1e-5, 1e-1, log=True)\n",
    "    dropout_rate = trial.suggest_float(\"dropout\", 0.1, 0.5, step=0.1)\n",
    "    batch_size = trial.suggest_categorical(\"batch_size\", [16,32,64,128])\n",
    "    # Optional: Add label smoothing as a hyperparameter\n",
    "    label_smoothing = trial.suggest_float(\"label_smoothing\", 0.0, 0.2, step=0.05)\n",
    "    optimizer_name = trial.suggest_categorical(\"optimizer\", ['Adam', 'SGD', 'RMSprop', 'Rprop', 'LBFGS'])\n",
    "    weight_decay = trial.suggest_float(\"weight_decay\", 1e-5, 1e-3, log=True)\n",
    "\n",
    "    # model init\n",
    "    input_dim = 784\n",
    "    output_dim = 10\n",
    "    train_loader = DataLoader(train_dataset, batch_size, shuffle=True, pin_memory=True)\n",
    "    test_loader = DataLoader(test_dataset, batch_size, shuffle=False, pin_memory=True)\n",
    "    model = MyNN(input_dim, output_dim, num_hidden_layers, neurons_per_layer, dropout_rate)\n",
    "    model.to(device)\n",
    "\n",
    "    # optimizer selection\n",
    "\n",
    "    criterion = nn.CrossEntropyLoss(label_smoothing=label_smoothing)\n",
    "\n",
    "    if optimizer_name == 'Adam':\n",
    "        optimizer = optim.Adam(model.parameters(), lr=lr, weight_decay=weight_decay)\n",
    "    elif optimizer_name == 'SGD':\n",
    "        optimizer = optim.SGD(model.parameters(), lr=lr, weight_decay=weight_decay)\n",
    "    elif optimizer_name == 'Rprop':\n",
    "        optimizer = optim.Rprop(model.parameters(), lr=lr, etas=(0.5, 1.2), step_sizes=(1e-10, 100))\n",
    "    elif optimizer_name == 'LBFGS':\n",
    "        optimizer = optim.LBFGS(model.parameters(), lr=lr, max_iter=15, tolerance_grad=1e-10, tolerance_change=1e-12)\n",
    "    else:\n",
    "        optimizer = optim.RMSprop(model.parameters(), lr=lr, weight_decay=weight_decay)\n",
    "\n",
    "    # training loop\n",
    "    model.train()\n",
    "    for epoch in range(epochs):\n",
    "        for batch_features, batch_labels in train_loader:\n",
    "            batch_features, batch_labels = batch_features.to(device), batch_labels.to(device)\n",
    "            if optimizer_name == 'LBFGS':\n",
    "                def closure():\n",
    "                    optimizer.zero_grad()\n",
    "                    outputs = model(batch_features)\n",
    "                    loss = criterion(outputs, batch_labels)\n",
    "                    loss.backward()\n",
    "                    return loss\n",
    "                optimizer.step(closure)\n",
    "            else:\n",
    "                outputs = model(batch_features)\n",
    "                loss = criterion(outputs, batch_labels)\n",
    "                # back pass\n",
    "                optimizer.zero_grad()\n",
    "                loss.backward()\n",
    "                # update grads\n",
    "                optimizer.step()\n",
    "\n",
    "    # evaluatiom\n",
    "    model.eval()\n",
    "    total, correct = 0, 0\n",
    "    with torch.no_grad():\n",
    "        for batch_features, batch_labels in test_loader:\n",
    "            batch_features, batch_labels = batch_features.to(device), batch_labels.to(device)\n",
    "            outputs = model(batch_features)\n",
    "            _, predicted = torch.max(outputs, 1)\n",
    "            total += batch_features.shape[0]\n",
    "            correct += (predicted == batch_labels).sum().item()\n",
    "        accuracy = correct/total\n",
    "    return accuracy"
   ],
   "id": "de10300f2b4a871e",
   "outputs": [
    {
     "name": "stderr",
     "output_type": "stream",
     "text": [
      "/tmp/ipykernel_166386/3442898715.py:8: ExperimentalWarning: MLflowCallback is experimental (supported from v1.4.0). The interface can change in the future.\n",
      "  mlflc = MLflowCallback(\n",
      "/tmp/ipykernel_166386/3442898715.py:13: ExperimentalWarning: track_in_mlflow is experimental (supported from v2.9.0). The interface can change in the future.\n",
      "  @mlflc.track_in_mlflow()\n"
     ]
    }
   ],
   "execution_count": 5
  },
  {
   "metadata": {
    "ExecuteTime": {
     "end_time": "2025-07-08T11:13:02.644132Z",
     "start_time": "2025-07-08T11:13:02.640253Z"
    }
   },
   "cell_type": "code",
   "source": "study = optuna.create_study(study_name=\"First_Optuna_Hyperparameter_Search\", direction=\"maximize\")",
   "id": "f9d77232cd1b093b",
   "outputs": [
    {
     "name": "stderr",
     "output_type": "stream",
     "text": [
      "[I 2025-07-08 16:43:02,642] A new study created in memory with name: First_Optuna_Hyperparameter_Search\n"
     ]
    }
   ],
   "execution_count": 6
  },
  {
   "metadata": {
    "ExecuteTime": {
     "end_time": "2025-07-08T15:19:22.398099Z",
     "start_time": "2025-07-08T11:13:04.631448Z"
    }
   },
   "cell_type": "code",
   "source": "study.optimize(objective, n_trials=50, callbacks=[mlflc])",
   "id": "bdd556f1508dcb4b",
   "outputs": [
    {
     "name": "stderr",
     "output_type": "stream",
     "text": [
      "2025/07/08 16:43:04 INFO mlflow.tracking.fluent: Experiment with name 'First_Optuna_Hyperparameter_Search' does not exist. Creating a new experiment.\n",
      "[I 2025-07-08 16:43:35,218] Trial 0 finished with value: 0.8689166666666667 and parameters: {'num_hidden_layers': 4, 'neurons_per_layer': 32, 'epochs': 20, 'lr': 0.00029765816732581007, 'dropout': 0.2, 'batch_size': 128, 'label_smoothing': 0.0, 'optimizer': 'Adam', 'weight_decay': 0.00015518267720959756}. Best is trial 0 with value: 0.8689166666666667.\n"
     ]
    },
    {
     "name": "stdout",
     "output_type": "stream",
     "text": [
      "🏃 View run 0 at: http://localhost:5000/#/experiments/605049891641191207/runs/9fe98f09c0294489886a9688412e9abe\n",
      "🧪 View experiment at: http://localhost:5000/#/experiments/605049891641191207\n",
      "🏃 View run 0 at: http://localhost:5000/#/experiments/605049891641191207/runs/9fe98f09c0294489886a9688412e9abe\n",
      "🧪 View experiment at: http://localhost:5000/#/experiments/605049891641191207\n"
     ]
    },
    {
     "name": "stderr",
     "output_type": "stream",
     "text": [
      "[I 2025-07-08 16:46:54,570] Trial 1 finished with value: 0.54875 and parameters: {'num_hidden_layers': 5, 'neurons_per_layer': 16, 'epochs': 60, 'lr': 2.2137897447501633e-05, 'dropout': 0.2, 'batch_size': 32, 'label_smoothing': 0.1, 'optimizer': 'SGD', 'weight_decay': 0.0003129368585252753}. Best is trial 0 with value: 0.8689166666666667.\n"
     ]
    },
    {
     "name": "stdout",
     "output_type": "stream",
     "text": [
      "🏃 View run 1 at: http://localhost:5000/#/experiments/605049891641191207/runs/9fe0ca6b018542cc9f7b1d2acfdd006b\n",
      "🧪 View experiment at: http://localhost:5000/#/experiments/605049891641191207\n",
      "🏃 View run 1 at: http://localhost:5000/#/experiments/605049891641191207/runs/9fe0ca6b018542cc9f7b1d2acfdd006b\n",
      "🧪 View experiment at: http://localhost:5000/#/experiments/605049891641191207\n"
     ]
    },
    {
     "name": "stderr",
     "output_type": "stream",
     "text": [
      "[I 2025-07-08 16:52:11,478] Trial 2 finished with value: 0.293 and parameters: {'num_hidden_layers': 5, 'neurons_per_layer': 112, 'epochs': 60, 'lr': 0.00011238180034710855, 'dropout': 0.30000000000000004, 'batch_size': 64, 'label_smoothing': 0.15000000000000002, 'optimizer': 'Rprop', 'weight_decay': 0.00041725843676110476}. Best is trial 0 with value: 0.8689166666666667.\n"
     ]
    },
    {
     "name": "stdout",
     "output_type": "stream",
     "text": [
      "🏃 View run 2 at: http://localhost:5000/#/experiments/605049891641191207/runs/0be3d0170da749c085460d8a50fad7f2\n",
      "🧪 View experiment at: http://localhost:5000/#/experiments/605049891641191207\n",
      "🏃 View run 2 at: http://localhost:5000/#/experiments/605049891641191207/runs/0be3d0170da749c085460d8a50fad7f2\n",
      "🧪 View experiment at: http://localhost:5000/#/experiments/605049891641191207\n"
     ]
    },
    {
     "name": "stderr",
     "output_type": "stream",
     "text": [
      "[I 2025-07-08 16:57:07,554] Trial 3 finished with value: 0.6896666666666667 and parameters: {'num_hidden_layers': 3, 'neurons_per_layer': 112, 'epochs': 70, 'lr': 2.1844212736528202e-05, 'dropout': 0.2, 'batch_size': 64, 'label_smoothing': 0.2, 'optimizer': 'Rprop', 'weight_decay': 0.00022698801855214538}. Best is trial 0 with value: 0.8689166666666667.\n"
     ]
    },
    {
     "name": "stdout",
     "output_type": "stream",
     "text": [
      "🏃 View run 3 at: http://localhost:5000/#/experiments/605049891641191207/runs/0c76399f8a844e7a877abf5a05c3855d\n",
      "🧪 View experiment at: http://localhost:5000/#/experiments/605049891641191207\n",
      "🏃 View run 3 at: http://localhost:5000/#/experiments/605049891641191207/runs/0c76399f8a844e7a877abf5a05c3855d\n",
      "🧪 View experiment at: http://localhost:5000/#/experiments/605049891641191207\n"
     ]
    },
    {
     "name": "stderr",
     "output_type": "stream",
     "text": [
      "[I 2025-07-08 16:59:13,378] Trial 4 finished with value: 0.08291666666666667 and parameters: {'num_hidden_layers': 4, 'neurons_per_layer': 72, 'epochs': 50, 'lr': 8.08874004743569e-05, 'dropout': 0.1, 'batch_size': 128, 'label_smoothing': 0.0, 'optimizer': 'LBFGS', 'weight_decay': 7.050602797711133e-05}. Best is trial 0 with value: 0.8689166666666667.\n"
     ]
    },
    {
     "name": "stdout",
     "output_type": "stream",
     "text": [
      "🏃 View run 4 at: http://localhost:5000/#/experiments/605049891641191207/runs/15109c18a5b247b289a35161cdf3adf6\n",
      "🧪 View experiment at: http://localhost:5000/#/experiments/605049891641191207\n",
      "🏃 View run 4 at: http://localhost:5000/#/experiments/605049891641191207/runs/15109c18a5b247b289a35161cdf3adf6\n",
      "🧪 View experiment at: http://localhost:5000/#/experiments/605049891641191207\n"
     ]
    },
    {
     "name": "stderr",
     "output_type": "stream",
     "text": [
      "[I 2025-07-08 17:01:32,987] Trial 5 finished with value: 0.7405 and parameters: {'num_hidden_layers': 1, 'neurons_per_layer': 128, 'epochs': 50, 'lr': 0.00909798546500459, 'dropout': 0.5, 'batch_size': 32, 'label_smoothing': 0.05, 'optimizer': 'Rprop', 'weight_decay': 3.074898863635081e-05}. Best is trial 0 with value: 0.8689166666666667.\n"
     ]
    },
    {
     "name": "stdout",
     "output_type": "stream",
     "text": [
      "🏃 View run 5 at: http://localhost:5000/#/experiments/605049891641191207/runs/74a04140f23548d88925557a34dfad19\n",
      "🧪 View experiment at: http://localhost:5000/#/experiments/605049891641191207\n",
      "🏃 View run 5 at: http://localhost:5000/#/experiments/605049891641191207/runs/74a04140f23548d88925557a34dfad19\n",
      "🧪 View experiment at: http://localhost:5000/#/experiments/605049891641191207\n"
     ]
    },
    {
     "name": "stderr",
     "output_type": "stream",
     "text": [
      "[I 2025-07-08 17:10:43,236] Trial 6 finished with value: 0.13533333333333333 and parameters: {'num_hidden_layers': 5, 'neurons_per_layer': 96, 'epochs': 100, 'lr': 0.0002638130616943808, 'dropout': 0.5, 'batch_size': 64, 'label_smoothing': 0.1, 'optimizer': 'LBFGS', 'weight_decay': 3.644954514412465e-05}. Best is trial 0 with value: 0.8689166666666667.\n"
     ]
    },
    {
     "name": "stdout",
     "output_type": "stream",
     "text": [
      "🏃 View run 6 at: http://localhost:5000/#/experiments/605049891641191207/runs/46570a1a02ff4632bd12c5edaead7b19\n",
      "🧪 View experiment at: http://localhost:5000/#/experiments/605049891641191207\n",
      "🏃 View run 6 at: http://localhost:5000/#/experiments/605049891641191207/runs/46570a1a02ff4632bd12c5edaead7b19\n",
      "🧪 View experiment at: http://localhost:5000/#/experiments/605049891641191207\n"
     ]
    },
    {
     "name": "stderr",
     "output_type": "stream",
     "text": [
      "[I 2025-07-08 17:18:37,343] Trial 7 finished with value: 0.8521666666666666 and parameters: {'num_hidden_layers': 2, 'neurons_per_layer': 120, 'epochs': 100, 'lr': 0.00804114520064228, 'dropout': 0.1, 'batch_size': 16, 'label_smoothing': 0.1, 'optimizer': 'Adam', 'weight_decay': 3.9634779944739436e-05}. Best is trial 0 with value: 0.8689166666666667.\n"
     ]
    },
    {
     "name": "stdout",
     "output_type": "stream",
     "text": [
      "🏃 View run 7 at: http://localhost:5000/#/experiments/605049891641191207/runs/c01e2640c0e04e3585ffc3d7195d73b1\n",
      "🧪 View experiment at: http://localhost:5000/#/experiments/605049891641191207\n",
      "🏃 View run 7 at: http://localhost:5000/#/experiments/605049891641191207/runs/c01e2640c0e04e3585ffc3d7195d73b1\n",
      "🧪 View experiment at: http://localhost:5000/#/experiments/605049891641191207\n"
     ]
    },
    {
     "name": "stderr",
     "output_type": "stream",
     "text": [
      "[I 2025-07-08 17:20:51,705] Trial 8 finished with value: 0.7461666666666666 and parameters: {'num_hidden_layers': 5, 'neurons_per_layer': 120, 'epochs': 40, 'lr': 0.00769937646396465, 'dropout': 0.5, 'batch_size': 32, 'label_smoothing': 0.05, 'optimizer': 'Adam', 'weight_decay': 0.0003267975039695507}. Best is trial 0 with value: 0.8689166666666667.\n"
     ]
    },
    {
     "name": "stdout",
     "output_type": "stream",
     "text": [
      "🏃 View run 8 at: http://localhost:5000/#/experiments/605049891641191207/runs/0e75c4c583894d81bb9caef1def736d3\n",
      "🧪 View experiment at: http://localhost:5000/#/experiments/605049891641191207\n",
      "🏃 View run 8 at: http://localhost:5000/#/experiments/605049891641191207/runs/0e75c4c583894d81bb9caef1def736d3\n",
      "🧪 View experiment at: http://localhost:5000/#/experiments/605049891641191207\n"
     ]
    },
    {
     "name": "stderr",
     "output_type": "stream",
     "text": [
      "[I 2025-07-08 17:27:24,268] Trial 9 finished with value: 0.18275 and parameters: {'num_hidden_layers': 3, 'neurons_per_layer': 48, 'epochs': 100, 'lr': 0.00019638649712595333, 'dropout': 0.30000000000000004, 'batch_size': 64, 'label_smoothing': 0.0, 'optimizer': 'LBFGS', 'weight_decay': 0.0003986844491414797}. Best is trial 0 with value: 0.8689166666666667.\n"
     ]
    },
    {
     "name": "stdout",
     "output_type": "stream",
     "text": [
      "🏃 View run 9 at: http://localhost:5000/#/experiments/605049891641191207/runs/546358e0e96d40d0875e87b3e6444ab8\n",
      "🧪 View experiment at: http://localhost:5000/#/experiments/605049891641191207\n",
      "🏃 View run 9 at: http://localhost:5000/#/experiments/605049891641191207/runs/546358e0e96d40d0875e87b3e6444ab8\n",
      "🧪 View experiment at: http://localhost:5000/#/experiments/605049891641191207\n"
     ]
    },
    {
     "name": "stderr",
     "output_type": "stream",
     "text": [
      "[I 2025-07-08 17:27:47,145] Trial 10 finished with value: 0.24416666666666667 and parameters: {'num_hidden_layers': 4, 'neurons_per_layer': 8, 'epochs': 10, 'lr': 0.06571152942331564, 'dropout': 0.4, 'batch_size': 128, 'label_smoothing': 0.0, 'optimizer': 'RMSprop', 'weight_decay': 0.00012320470992863993}. Best is trial 0 with value: 0.8689166666666667.\n"
     ]
    },
    {
     "name": "stdout",
     "output_type": "stream",
     "text": [
      "🏃 View run 10 at: http://localhost:5000/#/experiments/605049891641191207/runs/f2801415d75f46e5a051d2202f44eb9c\n",
      "🧪 View experiment at: http://localhost:5000/#/experiments/605049891641191207\n",
      "🏃 View run 10 at: http://localhost:5000/#/experiments/605049891641191207/runs/f2801415d75f46e5a051d2202f44eb9c\n",
      "🧪 View experiment at: http://localhost:5000/#/experiments/605049891641191207\n"
     ]
    },
    {
     "name": "stderr",
     "output_type": "stream",
     "text": [
      "[I 2025-07-08 17:29:06,501] Trial 11 finished with value: 0.86975 and parameters: {'num_hidden_layers': 1, 'neurons_per_layer': 40, 'epochs': 20, 'lr': 0.0017170117999339696, 'dropout': 0.1, 'batch_size': 16, 'label_smoothing': 0.2, 'optimizer': 'Adam', 'weight_decay': 1.3761536117335797e-05}. Best is trial 11 with value: 0.86975.\n"
     ]
    },
    {
     "name": "stdout",
     "output_type": "stream",
     "text": [
      "🏃 View run 11 at: http://localhost:5000/#/experiments/605049891641191207/runs/ceb211b767b44aea957e89ee951eaf40\n",
      "🧪 View experiment at: http://localhost:5000/#/experiments/605049891641191207\n",
      "🏃 View run 11 at: http://localhost:5000/#/experiments/605049891641191207/runs/ceb211b767b44aea957e89ee951eaf40\n",
      "🧪 View experiment at: http://localhost:5000/#/experiments/605049891641191207\n"
     ]
    },
    {
     "name": "stderr",
     "output_type": "stream",
     "text": [
      "[I 2025-07-08 17:29:50,093] Trial 12 finished with value: 0.869 and parameters: {'num_hidden_layers': 1, 'neurons_per_layer': 40, 'epochs': 10, 'lr': 0.0011785169177637837, 'dropout': 0.2, 'batch_size': 16, 'label_smoothing': 0.2, 'optimizer': 'Adam', 'weight_decay': 1.0581158941699855e-05}. Best is trial 11 with value: 0.86975.\n"
     ]
    },
    {
     "name": "stdout",
     "output_type": "stream",
     "text": [
      "🏃 View run 12 at: http://localhost:5000/#/experiments/605049891641191207/runs/185450e5af2048d1a82a02bf696a537a\n",
      "🧪 View experiment at: http://localhost:5000/#/experiments/605049891641191207\n",
      "🏃 View run 12 at: http://localhost:5000/#/experiments/605049891641191207/runs/185450e5af2048d1a82a02bf696a537a\n",
      "🧪 View experiment at: http://localhost:5000/#/experiments/605049891641191207\n"
     ]
    },
    {
     "name": "stderr",
     "output_type": "stream",
     "text": [
      "[I 2025-07-08 17:31:50,486] Trial 13 finished with value: 0.8774166666666666 and parameters: {'num_hidden_layers': 1, 'neurons_per_layer': 56, 'epochs': 30, 'lr': 0.0013684121933584452, 'dropout': 0.1, 'batch_size': 16, 'label_smoothing': 0.2, 'optimizer': 'Adam', 'weight_decay': 1.2817062586687998e-05}. Best is trial 13 with value: 0.8774166666666666.\n"
     ]
    },
    {
     "name": "stdout",
     "output_type": "stream",
     "text": [
      "🏃 View run 13 at: http://localhost:5000/#/experiments/605049891641191207/runs/f514e2284b324805ae5c7180ebd1b82a\n",
      "🧪 View experiment at: http://localhost:5000/#/experiments/605049891641191207\n",
      "🏃 View run 13 at: http://localhost:5000/#/experiments/605049891641191207/runs/f514e2284b324805ae5c7180ebd1b82a\n",
      "🧪 View experiment at: http://localhost:5000/#/experiments/605049891641191207\n"
     ]
    },
    {
     "name": "stderr",
     "output_type": "stream",
     "text": [
      "[I 2025-07-08 17:34:15,957] Trial 14 finished with value: 0.8855 and parameters: {'num_hidden_layers': 2, 'neurons_per_layer': 64, 'epochs': 30, 'lr': 0.0015772473893209706, 'dropout': 0.1, 'batch_size': 16, 'label_smoothing': 0.15000000000000002, 'optimizer': 'Adam', 'weight_decay': 1.1390864828940765e-05}. Best is trial 14 with value: 0.8855.\n"
     ]
    },
    {
     "name": "stdout",
     "output_type": "stream",
     "text": [
      "🏃 View run 14 at: http://localhost:5000/#/experiments/605049891641191207/runs/0bd7ebe3d3784b9ea2d9632c7bae432d\n",
      "🧪 View experiment at: http://localhost:5000/#/experiments/605049891641191207\n",
      "🏃 View run 14 at: http://localhost:5000/#/experiments/605049891641191207/runs/0bd7ebe3d3784b9ea2d9632c7bae432d\n",
      "🧪 View experiment at: http://localhost:5000/#/experiments/605049891641191207\n"
     ]
    },
    {
     "name": "stderr",
     "output_type": "stream",
     "text": [
      "[I 2025-07-08 17:36:22,855] Trial 15 finished with value: 0.8844166666666666 and parameters: {'num_hidden_layers': 2, 'neurons_per_layer': 72, 'epochs': 30, 'lr': 0.00278282083135261, 'dropout': 0.1, 'batch_size': 16, 'label_smoothing': 0.15000000000000002, 'optimizer': 'SGD', 'weight_decay': 1.8804736545934407e-05}. Best is trial 14 with value: 0.8855.\n"
     ]
    },
    {
     "name": "stdout",
     "output_type": "stream",
     "text": [
      "🏃 View run 15 at: http://localhost:5000/#/experiments/605049891641191207/runs/49dcf08714174308a5dbbfcada01cab8\n",
      "🧪 View experiment at: http://localhost:5000/#/experiments/605049891641191207\n",
      "🏃 View run 15 at: http://localhost:5000/#/experiments/605049891641191207/runs/49dcf08714174308a5dbbfcada01cab8\n",
      "🧪 View experiment at: http://localhost:5000/#/experiments/605049891641191207\n"
     ]
    },
    {
     "name": "stderr",
     "output_type": "stream",
     "text": [
      "[I 2025-07-08 17:38:29,927] Trial 16 finished with value: 0.8618333333333333 and parameters: {'num_hidden_layers': 2, 'neurons_per_layer': 80, 'epochs': 30, 'lr': 0.03148645689563906, 'dropout': 0.1, 'batch_size': 16, 'label_smoothing': 0.15000000000000002, 'optimizer': 'SGD', 'weight_decay': 0.0009441176684661442}. Best is trial 14 with value: 0.8855.\n"
     ]
    },
    {
     "name": "stdout",
     "output_type": "stream",
     "text": [
      "🏃 View run 16 at: http://localhost:5000/#/experiments/605049891641191207/runs/42e39fe679964c7bb7a2c956d20beb43\n",
      "🧪 View experiment at: http://localhost:5000/#/experiments/605049891641191207\n",
      "🏃 View run 16 at: http://localhost:5000/#/experiments/605049891641191207/runs/42e39fe679964c7bb7a2c956d20beb43\n",
      "🧪 View experiment at: http://localhost:5000/#/experiments/605049891641191207\n"
     ]
    },
    {
     "name": "stderr",
     "output_type": "stream",
     "text": [
      "[I 2025-07-08 17:41:12,510] Trial 17 finished with value: 0.8751666666666666 and parameters: {'num_hidden_layers': 2, 'neurons_per_layer': 88, 'epochs': 40, 'lr': 0.003081882651463598, 'dropout': 0.4, 'batch_size': 16, 'label_smoothing': 0.15000000000000002, 'optimizer': 'SGD', 'weight_decay': 1.8589970084200084e-05}. Best is trial 14 with value: 0.8855.\n"
     ]
    },
    {
     "name": "stdout",
     "output_type": "stream",
     "text": [
      "🏃 View run 17 at: http://localhost:5000/#/experiments/605049891641191207/runs/2d987e01eda54e549ae04e0a93f778f5\n",
      "🧪 View experiment at: http://localhost:5000/#/experiments/605049891641191207\n",
      "🏃 View run 17 at: http://localhost:5000/#/experiments/605049891641191207/runs/2d987e01eda54e549ae04e0a93f778f5\n",
      "🧪 View experiment at: http://localhost:5000/#/experiments/605049891641191207\n"
     ]
    },
    {
     "name": "stderr",
     "output_type": "stream",
     "text": [
      "[I 2025-07-08 17:47:11,365] Trial 18 finished with value: 0.887 and parameters: {'num_hidden_layers': 2, 'neurons_per_layer': 64, 'epochs': 80, 'lr': 0.0005627287653936512, 'dropout': 0.2, 'batch_size': 16, 'label_smoothing': 0.15000000000000002, 'optimizer': 'RMSprop', 'weight_decay': 2.2164795599592697e-05}. Best is trial 18 with value: 0.887.\n"
     ]
    },
    {
     "name": "stdout",
     "output_type": "stream",
     "text": [
      "🏃 View run 18 at: http://localhost:5000/#/experiments/605049891641191207/runs/66499b559f8842129ca15311db71f3a5\n",
      "🧪 View experiment at: http://localhost:5000/#/experiments/605049891641191207\n",
      "🏃 View run 18 at: http://localhost:5000/#/experiments/605049891641191207/runs/66499b559f8842129ca15311db71f3a5\n",
      "🧪 View experiment at: http://localhost:5000/#/experiments/605049891641191207\n"
     ]
    },
    {
     "name": "stderr",
     "output_type": "stream",
     "text": [
      "[I 2025-07-08 17:53:20,585] Trial 19 finished with value: 0.8816666666666667 and parameters: {'num_hidden_layers': 3, 'neurons_per_layer': 56, 'epochs': 70, 'lr': 0.0005184481708970104, 'dropout': 0.2, 'batch_size': 16, 'label_smoothing': 0.15000000000000002, 'optimizer': 'RMSprop', 'weight_decay': 6.182359486670447e-05}. Best is trial 18 with value: 0.887.\n"
     ]
    },
    {
     "name": "stdout",
     "output_type": "stream",
     "text": [
      "🏃 View run 19 at: http://localhost:5000/#/experiments/605049891641191207/runs/70033196f063478ba7b040b3f4f56d18\n",
      "🧪 View experiment at: http://localhost:5000/#/experiments/605049891641191207\n",
      "🏃 View run 19 at: http://localhost:5000/#/experiments/605049891641191207/runs/70033196f063478ba7b040b3f4f56d18\n",
      "🧪 View experiment at: http://localhost:5000/#/experiments/605049891641191207\n"
     ]
    },
    {
     "name": "stderr",
     "output_type": "stream",
     "text": [
      "[I 2025-07-08 18:00:16,568] Trial 20 finished with value: 0.8915833333333333 and parameters: {'num_hidden_layers': 2, 'neurons_per_layer': 96, 'epochs': 80, 'lr': 5.176769310304068e-05, 'dropout': 0.30000000000000004, 'batch_size': 16, 'label_smoothing': 0.05, 'optimizer': 'RMSprop', 'weight_decay': 2.0280768981843973e-05}. Best is trial 20 with value: 0.8915833333333333.\n"
     ]
    },
    {
     "name": "stdout",
     "output_type": "stream",
     "text": [
      "🏃 View run 20 at: http://localhost:5000/#/experiments/605049891641191207/runs/b48c6f1e570a4145b2d8129fdbe93d08\n",
      "🧪 View experiment at: http://localhost:5000/#/experiments/605049891641191207\n",
      "🏃 View run 20 at: http://localhost:5000/#/experiments/605049891641191207/runs/b48c6f1e570a4145b2d8129fdbe93d08\n",
      "🧪 View experiment at: http://localhost:5000/#/experiments/605049891641191207\n"
     ]
    },
    {
     "name": "stderr",
     "output_type": "stream",
     "text": [
      "[I 2025-07-08 18:06:54,556] Trial 21 finished with value: 0.8901666666666667 and parameters: {'num_hidden_layers': 2, 'neurons_per_layer': 96, 'epochs': 80, 'lr': 5.961025496874527e-05, 'dropout': 0.30000000000000004, 'batch_size': 16, 'label_smoothing': 0.05, 'optimizer': 'RMSprop', 'weight_decay': 2.3003030653660054e-05}. Best is trial 20 with value: 0.8915833333333333.\n"
     ]
    },
    {
     "name": "stdout",
     "output_type": "stream",
     "text": [
      "🏃 View run 21 at: http://localhost:5000/#/experiments/605049891641191207/runs/8f82f3daaccf4582a612906c2cb8817a\n",
      "🧪 View experiment at: http://localhost:5000/#/experiments/605049891641191207\n",
      "🏃 View run 21 at: http://localhost:5000/#/experiments/605049891641191207/runs/8f82f3daaccf4582a612906c2cb8817a\n",
      "🧪 View experiment at: http://localhost:5000/#/experiments/605049891641191207\n"
     ]
    },
    {
     "name": "stderr",
     "output_type": "stream",
     "text": [
      "[I 2025-07-08 18:13:17,201] Trial 22 finished with value: 0.8901666666666667 and parameters: {'num_hidden_layers': 2, 'neurons_per_layer': 96, 'epochs': 80, 'lr': 4.8589147564376325e-05, 'dropout': 0.30000000000000004, 'batch_size': 16, 'label_smoothing': 0.05, 'optimizer': 'RMSprop', 'weight_decay': 2.452139772512496e-05}. Best is trial 20 with value: 0.8915833333333333.\n"
     ]
    },
    {
     "name": "stdout",
     "output_type": "stream",
     "text": [
      "🏃 View run 22 at: http://localhost:5000/#/experiments/605049891641191207/runs/6d2befe07b4d4237bf34de6f6fe88935\n",
      "🧪 View experiment at: http://localhost:5000/#/experiments/605049891641191207\n",
      "🏃 View run 22 at: http://localhost:5000/#/experiments/605049891641191207/runs/6d2befe07b4d4237bf34de6f6fe88935\n",
      "🧪 View experiment at: http://localhost:5000/#/experiments/605049891641191207\n"
     ]
    },
    {
     "name": "stderr",
     "output_type": "stream",
     "text": [
      "[I 2025-07-08 18:23:05,533] Trial 23 finished with value: 0.8705833333333334 and parameters: {'num_hidden_layers': 3, 'neurons_per_layer': 96, 'epochs': 80, 'lr': 1.0979404664296007e-05, 'dropout': 0.4, 'batch_size': 16, 'label_smoothing': 0.05, 'optimizer': 'RMSprop', 'weight_decay': 4.644267783132921e-05}. Best is trial 20 with value: 0.8915833333333333.\n"
     ]
    },
    {
     "name": "stdout",
     "output_type": "stream",
     "text": [
      "🏃 View run 23 at: http://localhost:5000/#/experiments/605049891641191207/runs/dc9794282940429fa16df42ae8d36443\n",
      "🧪 View experiment at: http://localhost:5000/#/experiments/605049891641191207\n",
      "🏃 View run 23 at: http://localhost:5000/#/experiments/605049891641191207/runs/dc9794282940429fa16df42ae8d36443\n",
      "🧪 View experiment at: http://localhost:5000/#/experiments/605049891641191207\n"
     ]
    },
    {
     "name": "stderr",
     "output_type": "stream",
     "text": [
      "[I 2025-07-08 18:33:09,105] Trial 24 finished with value: 0.8886666666666667 and parameters: {'num_hidden_layers': 2, 'neurons_per_layer': 96, 'epochs': 90, 'lr': 4.659387648519733e-05, 'dropout': 0.30000000000000004, 'batch_size': 16, 'label_smoothing': 0.05, 'optimizer': 'RMSprop', 'weight_decay': 2.580785962340548e-05}. Best is trial 20 with value: 0.8915833333333333.\n"
     ]
    },
    {
     "name": "stdout",
     "output_type": "stream",
     "text": [
      "🏃 View run 24 at: http://localhost:5000/#/experiments/605049891641191207/runs/8b5716ff2e4c4ffea77bc460d6371844\n",
      "🧪 View experiment at: http://localhost:5000/#/experiments/605049891641191207\n",
      "🏃 View run 24 at: http://localhost:5000/#/experiments/605049891641191207/runs/8b5716ff2e4c4ffea77bc460d6371844\n",
      "🧪 View experiment at: http://localhost:5000/#/experiments/605049891641191207\n"
     ]
    },
    {
     "name": "stderr",
     "output_type": "stream",
     "text": [
      "[I 2025-07-08 18:40:33,716] Trial 25 finished with value: 0.8916666666666667 and parameters: {'num_hidden_layers': 3, 'neurons_per_layer': 104, 'epochs': 80, 'lr': 6.464194037292499e-05, 'dropout': 0.30000000000000004, 'batch_size': 16, 'label_smoothing': 0.05, 'optimizer': 'RMSprop', 'weight_decay': 6.595346303851223e-05}. Best is trial 25 with value: 0.8916666666666667.\n"
     ]
    },
    {
     "name": "stdout",
     "output_type": "stream",
     "text": [
      "🏃 View run 25 at: http://localhost:5000/#/experiments/605049891641191207/runs/cf04425faa874d7b9df8aac1515d383f\n",
      "🧪 View experiment at: http://localhost:5000/#/experiments/605049891641191207\n",
      "🏃 View run 25 at: http://localhost:5000/#/experiments/605049891641191207/runs/cf04425faa874d7b9df8aac1515d383f\n",
      "🧪 View experiment at: http://localhost:5000/#/experiments/605049891641191207\n"
     ]
    },
    {
     "name": "stderr",
     "output_type": "stream",
     "text": [
      "[I 2025-07-08 18:48:50,672] Trial 26 finished with value: 0.8790833333333333 and parameters: {'num_hidden_layers': 3, 'neurons_per_layer': 104, 'epochs': 90, 'lr': 1.2941137299710918e-05, 'dropout': 0.4, 'batch_size': 16, 'label_smoothing': 0.05, 'optimizer': 'RMSprop', 'weight_decay': 7.344479260994156e-05}. Best is trial 25 with value: 0.8916666666666667.\n"
     ]
    },
    {
     "name": "stdout",
     "output_type": "stream",
     "text": [
      "🏃 View run 26 at: http://localhost:5000/#/experiments/605049891641191207/runs/eb77f701cfc644f89fc0ea78e3ad07c9\n",
      "🧪 View experiment at: http://localhost:5000/#/experiments/605049891641191207\n",
      "🏃 View run 26 at: http://localhost:5000/#/experiments/605049891641191207/runs/eb77f701cfc644f89fc0ea78e3ad07c9\n",
      "🧪 View experiment at: http://localhost:5000/#/experiments/605049891641191207\n"
     ]
    },
    {
     "name": "stderr",
     "output_type": "stream",
     "text": [
      "[I 2025-07-08 18:50:45,166] Trial 27 finished with value: 0.8859166666666667 and parameters: {'num_hidden_layers': 3, 'neurons_per_layer': 80, 'epochs': 70, 'lr': 9.974189045697116e-05, 'dropout': 0.30000000000000004, 'batch_size': 128, 'label_smoothing': 0.1, 'optimizer': 'RMSprop', 'weight_decay': 5.440261769495814e-05}. Best is trial 25 with value: 0.8916666666666667.\n"
     ]
    },
    {
     "name": "stdout",
     "output_type": "stream",
     "text": [
      "🏃 View run 27 at: http://localhost:5000/#/experiments/605049891641191207/runs/e66c2abe67fc4f98ab4be76e5a66f202\n",
      "🧪 View experiment at: http://localhost:5000/#/experiments/605049891641191207\n",
      "🏃 View run 27 at: http://localhost:5000/#/experiments/605049891641191207/runs/e66c2abe67fc4f98ab4be76e5a66f202\n",
      "🧪 View experiment at: http://localhost:5000/#/experiments/605049891641191207\n"
     ]
    },
    {
     "name": "stderr",
     "output_type": "stream",
     "text": [
      "[I 2025-07-08 18:55:33,364] Trial 28 finished with value: 0.887 and parameters: {'num_hidden_layers': 4, 'neurons_per_layer': 112, 'epochs': 90, 'lr': 3.4663651344011756e-05, 'dropout': 0.4, 'batch_size': 32, 'label_smoothing': 0.05, 'optimizer': 'RMSprop', 'weight_decay': 0.00010505420803425447}. Best is trial 25 with value: 0.8916666666666667.\n"
     ]
    },
    {
     "name": "stdout",
     "output_type": "stream",
     "text": [
      "🏃 View run 28 at: http://localhost:5000/#/experiments/605049891641191207/runs/2b508ae13a09460bbf07a65af62b687b\n",
      "🧪 View experiment at: http://localhost:5000/#/experiments/605049891641191207\n",
      "🏃 View run 28 at: http://localhost:5000/#/experiments/605049891641191207/runs/2b508ae13a09460bbf07a65af62b687b\n",
      "🧪 View experiment at: http://localhost:5000/#/experiments/605049891641191207\n"
     ]
    },
    {
     "name": "stderr",
     "output_type": "stream",
     "text": [
      "[I 2025-07-08 18:57:30,769] Trial 29 finished with value: 0.88625 and parameters: {'num_hidden_layers': 3, 'neurons_per_layer': 88, 'epochs': 80, 'lr': 0.00013116147889143774, 'dropout': 0.30000000000000004, 'batch_size': 128, 'label_smoothing': 0.0, 'optimizer': 'RMSprop', 'weight_decay': 0.0001969917988468579}. Best is trial 25 with value: 0.8916666666666667.\n"
     ]
    },
    {
     "name": "stdout",
     "output_type": "stream",
     "text": [
      "🏃 View run 29 at: http://localhost:5000/#/experiments/605049891641191207/runs/2d8935a7a0584ef99012aa2c8f025df9\n",
      "🧪 View experiment at: http://localhost:5000/#/experiments/605049891641191207\n",
      "🏃 View run 29 at: http://localhost:5000/#/experiments/605049891641191207/runs/2d8935a7a0584ef99012aa2c8f025df9\n",
      "🧪 View experiment at: http://localhost:5000/#/experiments/605049891641191207\n"
     ]
    },
    {
     "name": "stderr",
     "output_type": "stream",
     "text": [
      "[I 2025-07-08 19:04:37,034] Trial 30 finished with value: 0.8931666666666667 and parameters: {'num_hidden_layers': 4, 'neurons_per_layer': 104, 'epochs': 70, 'lr': 0.00048349713123405476, 'dropout': 0.30000000000000004, 'batch_size': 16, 'label_smoothing': 0.1, 'optimizer': 'RMSprop', 'weight_decay': 1.5893199256397625e-05}. Best is trial 30 with value: 0.8931666666666667.\n"
     ]
    },
    {
     "name": "stdout",
     "output_type": "stream",
     "text": [
      "🏃 View run 30 at: http://localhost:5000/#/experiments/605049891641191207/runs/5a61bbd601744656b78b9a1d5afab5cc\n",
      "🧪 View experiment at: http://localhost:5000/#/experiments/605049891641191207\n",
      "🏃 View run 30 at: http://localhost:5000/#/experiments/605049891641191207/runs/5a61bbd601744656b78b9a1d5afab5cc\n",
      "🧪 View experiment at: http://localhost:5000/#/experiments/605049891641191207\n"
     ]
    },
    {
     "name": "stderr",
     "output_type": "stream",
     "text": [
      "[I 2025-07-08 19:11:32,768] Trial 31 finished with value: 0.89275 and parameters: {'num_hidden_layers': 4, 'neurons_per_layer': 104, 'epochs': 70, 'lr': 0.0005954989933975906, 'dropout': 0.30000000000000004, 'batch_size': 16, 'label_smoothing': 0.1, 'optimizer': 'RMSprop', 'weight_decay': 1.6612789881027457e-05}. Best is trial 30 with value: 0.8931666666666667.\n"
     ]
    },
    {
     "name": "stdout",
     "output_type": "stream",
     "text": [
      "🏃 View run 31 at: http://localhost:5000/#/experiments/605049891641191207/runs/edfb73109e0947ac9a0f18263cfbca72\n",
      "🧪 View experiment at: http://localhost:5000/#/experiments/605049891641191207\n",
      "🏃 View run 31 at: http://localhost:5000/#/experiments/605049891641191207/runs/edfb73109e0947ac9a0f18263cfbca72\n",
      "🧪 View experiment at: http://localhost:5000/#/experiments/605049891641191207\n"
     ]
    },
    {
     "name": "stderr",
     "output_type": "stream",
     "text": [
      "[I 2025-07-08 19:19:47,268] Trial 32 finished with value: 0.8924166666666666 and parameters: {'num_hidden_layers': 4, 'neurons_per_layer': 128, 'epochs': 60, 'lr': 0.00047185955116869677, 'dropout': 0.30000000000000004, 'batch_size': 16, 'label_smoothing': 0.1, 'optimizer': 'RMSprop', 'weight_decay': 1.3919659343137671e-05}. Best is trial 30 with value: 0.8931666666666667.\n"
     ]
    },
    {
     "name": "stdout",
     "output_type": "stream",
     "text": [
      "🏃 View run 32 at: http://localhost:5000/#/experiments/605049891641191207/runs/417ec97d480e4bcab7d34f66dc78baf2\n",
      "🧪 View experiment at: http://localhost:5000/#/experiments/605049891641191207\n",
      "🏃 View run 32 at: http://localhost:5000/#/experiments/605049891641191207/runs/417ec97d480e4bcab7d34f66dc78baf2\n",
      "🧪 View experiment at: http://localhost:5000/#/experiments/605049891641191207\n"
     ]
    },
    {
     "name": "stderr",
     "output_type": "stream",
     "text": [
      "[I 2025-07-08 19:26:55,533] Trial 33 finished with value: 0.8909166666666667 and parameters: {'num_hidden_layers': 4, 'neurons_per_layer': 128, 'epochs': 60, 'lr': 0.0005795216043981217, 'dropout': 0.4, 'batch_size': 16, 'label_smoothing': 0.1, 'optimizer': 'RMSprop', 'weight_decay': 1.4351035041219301e-05}. Best is trial 30 with value: 0.8931666666666667.\n"
     ]
    },
    {
     "name": "stdout",
     "output_type": "stream",
     "text": [
      "🏃 View run 33 at: http://localhost:5000/#/experiments/605049891641191207/runs/8730ab8f56244227a858638a8997cdb3\n",
      "🧪 View experiment at: http://localhost:5000/#/experiments/605049891641191207\n",
      "🏃 View run 33 at: http://localhost:5000/#/experiments/605049891641191207/runs/8730ab8f56244227a858638a8997cdb3\n",
      "🧪 View experiment at: http://localhost:5000/#/experiments/605049891641191207\n"
     ]
    },
    {
     "name": "stderr",
     "output_type": "stream",
     "text": [
      "[I 2025-07-08 19:32:51,589] Trial 34 finished with value: 0.8950833333333333 and parameters: {'num_hidden_layers': 4, 'neurons_per_layer': 120, 'epochs': 60, 'lr': 0.00035248257627717983, 'dropout': 0.2, 'batch_size': 16, 'label_smoothing': 0.1, 'optimizer': 'RMSprop', 'weight_decay': 1.5814593102356403e-05}. Best is trial 34 with value: 0.8950833333333333.\n"
     ]
    },
    {
     "name": "stdout",
     "output_type": "stream",
     "text": [
      "🏃 View run 34 at: http://localhost:5000/#/experiments/605049891641191207/runs/b44c65a9a2024b6c9732ca792fb47df2\n",
      "🧪 View experiment at: http://localhost:5000/#/experiments/605049891641191207\n",
      "🏃 View run 34 at: http://localhost:5000/#/experiments/605049891641191207/runs/b44c65a9a2024b6c9732ca792fb47df2\n",
      "🧪 View experiment at: http://localhost:5000/#/experiments/605049891641191207\n"
     ]
    },
    {
     "name": "stderr",
     "output_type": "stream",
     "text": [
      "[I 2025-07-08 19:37:50,090] Trial 35 finished with value: 0.6998333333333333 and parameters: {'num_hidden_layers': 4, 'neurons_per_layer': 120, 'epochs': 60, 'lr': 0.0003961720516819966, 'dropout': 0.2, 'batch_size': 64, 'label_smoothing': 0.1, 'optimizer': 'Rprop', 'weight_decay': 1.0027826000388541e-05}. Best is trial 34 with value: 0.8950833333333333.\n"
     ]
    },
    {
     "name": "stdout",
     "output_type": "stream",
     "text": [
      "🏃 View run 35 at: http://localhost:5000/#/experiments/605049891641191207/runs/9b4c6dd2f1af42fd8d4ca10b944b0857\n",
      "🧪 View experiment at: http://localhost:5000/#/experiments/605049891641191207\n",
      "🏃 View run 35 at: http://localhost:5000/#/experiments/605049891641191207/runs/9b4c6dd2f1af42fd8d4ca10b944b0857\n",
      "🧪 View experiment at: http://localhost:5000/#/experiments/605049891641191207\n"
     ]
    },
    {
     "name": "stderr",
     "output_type": "stream",
     "text": [
      "[I 2025-07-08 19:42:21,794] Trial 36 finished with value: 0.8941666666666667 and parameters: {'num_hidden_layers': 5, 'neurons_per_layer': 128, 'epochs': 70, 'lr': 0.00016844514917520388, 'dropout': 0.2, 'batch_size': 32, 'label_smoothing': 0.1, 'optimizer': 'RMSprop', 'weight_decay': 1.5984129765075968e-05}. Best is trial 34 with value: 0.8950833333333333.\n"
     ]
    },
    {
     "name": "stdout",
     "output_type": "stream",
     "text": [
      "🏃 View run 36 at: http://localhost:5000/#/experiments/605049891641191207/runs/d9386e2d890d46ccb4aef97e32140aa0\n",
      "🧪 View experiment at: http://localhost:5000/#/experiments/605049891641191207\n",
      "🏃 View run 36 at: http://localhost:5000/#/experiments/605049891641191207/runs/d9386e2d890d46ccb4aef97e32140aa0\n",
      "🧪 View experiment at: http://localhost:5000/#/experiments/605049891641191207\n"
     ]
    },
    {
     "name": "stderr",
     "output_type": "stream",
     "text": [
      "[I 2025-07-08 19:50:50,899] Trial 37 finished with value: 0.0865 and parameters: {'num_hidden_layers': 5, 'neurons_per_layer': 112, 'epochs': 70, 'lr': 0.00018444059455403626, 'dropout': 0.2, 'batch_size': 32, 'label_smoothing': 0.1, 'optimizer': 'LBFGS', 'weight_decay': 3.067813250869572e-05}. Best is trial 34 with value: 0.8950833333333333.\n"
     ]
    },
    {
     "name": "stdout",
     "output_type": "stream",
     "text": [
      "🏃 View run 37 at: http://localhost:5000/#/experiments/605049891641191207/runs/2a09dbef0e574761ac4c212d1e713d4b\n",
      "🧪 View experiment at: http://localhost:5000/#/experiments/605049891641191207\n",
      "🏃 View run 37 at: http://localhost:5000/#/experiments/605049891641191207/runs/2a09dbef0e574761ac4c212d1e713d4b\n",
      "🧪 View experiment at: http://localhost:5000/#/experiments/605049891641191207\n"
     ]
    },
    {
     "name": "stderr",
     "output_type": "stream",
     "text": [
      "[I 2025-07-08 19:54:17,959] Trial 38 finished with value: 0.8941666666666667 and parameters: {'num_hidden_layers': 5, 'neurons_per_layer': 120, 'epochs': 50, 'lr': 0.0008131188074351917, 'dropout': 0.2, 'batch_size': 32, 'label_smoothing': 0.1, 'optimizer': 'RMSprop', 'weight_decay': 1.614542703364417e-05}. Best is trial 34 with value: 0.8950833333333333.\n"
     ]
    },
    {
     "name": "stdout",
     "output_type": "stream",
     "text": [
      "🏃 View run 38 at: http://localhost:5000/#/experiments/605049891641191207/runs/29272f0217e94347a449a3c64b4a63b7\n",
      "🧪 View experiment at: http://localhost:5000/#/experiments/605049891641191207\n",
      "🏃 View run 38 at: http://localhost:5000/#/experiments/605049891641191207/runs/29272f0217e94347a449a3c64b4a63b7\n",
      "🧪 View experiment at: http://localhost:5000/#/experiments/605049891641191207\n"
     ]
    },
    {
     "name": "stderr",
     "output_type": "stream",
     "text": [
      "[I 2025-07-08 19:58:17,198] Trial 39 finished with value: 0.893 and parameters: {'num_hidden_layers': 5, 'neurons_per_layer': 120, 'epochs': 50, 'lr': 0.0002576570726809196, 'dropout': 0.2, 'batch_size': 32, 'label_smoothing': 0.1, 'optimizer': 'RMSprop', 'weight_decay': 3.687530934774476e-05}. Best is trial 34 with value: 0.8950833333333333.\n"
     ]
    },
    {
     "name": "stdout",
     "output_type": "stream",
     "text": [
      "🏃 View run 39 at: http://localhost:5000/#/experiments/605049891641191207/runs/29bd70c08cb447b6861e0f0cf643d6c0\n",
      "🧪 View experiment at: http://localhost:5000/#/experiments/605049891641191207\n",
      "🏃 View run 39 at: http://localhost:5000/#/experiments/605049891641191207/runs/29bd70c08cb447b6861e0f0cf643d6c0\n",
      "🧪 View experiment at: http://localhost:5000/#/experiments/605049891641191207\n"
     ]
    },
    {
     "name": "stderr",
     "output_type": "stream",
     "text": [
      "[I 2025-07-08 20:05:53,245] Trial 40 finished with value: 0.587 and parameters: {'num_hidden_layers': 5, 'neurons_per_layer': 128, 'epochs': 50, 'lr': 0.0008655706311511185, 'dropout': 0.2, 'batch_size': 32, 'label_smoothing': 0.1, 'optimizer': 'Rprop', 'weight_decay': 3.097691031873351e-05}. Best is trial 34 with value: 0.8950833333333333.\n"
     ]
    },
    {
     "name": "stdout",
     "output_type": "stream",
     "text": [
      "🏃 View run 40 at: http://localhost:5000/#/experiments/605049891641191207/runs/012e3dd7a8484b4e9182b47710986a74\n",
      "🧪 View experiment at: http://localhost:5000/#/experiments/605049891641191207\n",
      "🏃 View run 40 at: http://localhost:5000/#/experiments/605049891641191207/runs/012e3dd7a8484b4e9182b47710986a74\n",
      "🧪 View experiment at: http://localhost:5000/#/experiments/605049891641191207\n"
     ]
    },
    {
     "name": "stderr",
     "output_type": "stream",
     "text": [
      "[I 2025-07-08 20:09:52,653] Trial 41 finished with value: 0.8930833333333333 and parameters: {'num_hidden_layers': 5, 'neurons_per_layer': 120, 'epochs': 50, 'lr': 0.00024660555221178606, 'dropout': 0.2, 'batch_size': 32, 'label_smoothing': 0.1, 'optimizer': 'RMSprop', 'weight_decay': 1.7109059735635917e-05}. Best is trial 34 with value: 0.8950833333333333.\n"
     ]
    },
    {
     "name": "stdout",
     "output_type": "stream",
     "text": [
      "🏃 View run 41 at: http://localhost:5000/#/experiments/605049891641191207/runs/a3dbf7c214b34d1fb778a815ce0f1156\n",
      "🧪 View experiment at: http://localhost:5000/#/experiments/605049891641191207\n",
      "🏃 View run 41 at: http://localhost:5000/#/experiments/605049891641191207/runs/a3dbf7c214b34d1fb778a815ce0f1156\n",
      "🧪 View experiment at: http://localhost:5000/#/experiments/605049891641191207\n"
     ]
    },
    {
     "name": "stderr",
     "output_type": "stream",
     "text": [
      "[I 2025-07-08 20:13:29,405] Trial 42 finished with value: 0.8971666666666667 and parameters: {'num_hidden_layers': 5, 'neurons_per_layer': 120, 'epochs': 40, 'lr': 0.00014945226423368488, 'dropout': 0.2, 'batch_size': 32, 'label_smoothing': 0.1, 'optimizer': 'RMSprop', 'weight_decay': 1.5509457304206577e-05}. Best is trial 42 with value: 0.8971666666666667.\n"
     ]
    },
    {
     "name": "stdout",
     "output_type": "stream",
     "text": [
      "🏃 View run 42 at: http://localhost:5000/#/experiments/605049891641191207/runs/beaff062381d4bfebcaaa8f770417336\n",
      "🧪 View experiment at: http://localhost:5000/#/experiments/605049891641191207\n",
      "🏃 View run 42 at: http://localhost:5000/#/experiments/605049891641191207/runs/beaff062381d4bfebcaaa8f770417336\n",
      "🧪 View experiment at: http://localhost:5000/#/experiments/605049891641191207\n"
     ]
    },
    {
     "name": "stderr",
     "output_type": "stream",
     "text": [
      "[I 2025-07-08 20:16:19,075] Trial 43 finished with value: 0.8923333333333333 and parameters: {'num_hidden_layers': 5, 'neurons_per_layer': 112, 'epochs': 40, 'lr': 0.0001415159153234608, 'dropout': 0.2, 'batch_size': 32, 'label_smoothing': 0.1, 'optimizer': 'RMSprop', 'weight_decay': 1.559495434050298e-05}. Best is trial 42 with value: 0.8971666666666667.\n"
     ]
    },
    {
     "name": "stdout",
     "output_type": "stream",
     "text": [
      "🏃 View run 43 at: http://localhost:5000/#/experiments/605049891641191207/runs/fb84bc3c0fd2421a8205bb6cabc84d25\n",
      "🧪 View experiment at: http://localhost:5000/#/experiments/605049891641191207\n",
      "🏃 View run 43 at: http://localhost:5000/#/experiments/605049891641191207/runs/fb84bc3c0fd2421a8205bb6cabc84d25\n",
      "🧪 View experiment at: http://localhost:5000/#/experiments/605049891641191207\n"
     ]
    },
    {
     "name": "stderr",
     "output_type": "stream",
     "text": [
      "[I 2025-07-08 20:22:00,530] Trial 44 finished with value: 0.06958333333333333 and parameters: {'num_hidden_layers': 5, 'neurons_per_layer': 128, 'epochs': 40, 'lr': 0.0003450981617636907, 'dropout': 0.2, 'batch_size': 32, 'label_smoothing': 0.1, 'optimizer': 'LBFGS', 'weight_decay': 2.9814413998873164e-05}. Best is trial 42 with value: 0.8971666666666667.\n"
     ]
    },
    {
     "name": "stdout",
     "output_type": "stream",
     "text": [
      "🏃 View run 44 at: http://localhost:5000/#/experiments/605049891641191207/runs/b21fff757a2a476db03d0765688f93db\n",
      "🧪 View experiment at: http://localhost:5000/#/experiments/605049891641191207\n",
      "🏃 View run 44 at: http://localhost:5000/#/experiments/605049891641191207/runs/b21fff757a2a476db03d0765688f93db\n",
      "🧪 View experiment at: http://localhost:5000/#/experiments/605049891641191207\n"
     ]
    },
    {
     "name": "stderr",
     "output_type": "stream",
     "text": [
      "[I 2025-07-08 20:28:42,762] Trial 45 finished with value: 0.6165 and parameters: {'num_hidden_layers': 5, 'neurons_per_layer': 120, 'epochs': 60, 'lr': 0.0008174042926429062, 'dropout': 0.2, 'batch_size': 32, 'label_smoothing': 0.1, 'optimizer': 'Rprop', 'weight_decay': 1.1697761389796636e-05}. Best is trial 42 with value: 0.8971666666666667.\n"
     ]
    },
    {
     "name": "stdout",
     "output_type": "stream",
     "text": [
      "🏃 View run 45 at: http://localhost:5000/#/experiments/605049891641191207/runs/360a250438d547d8b9f524566d0d4856\n",
      "🧪 View experiment at: http://localhost:5000/#/experiments/605049891641191207\n",
      "🏃 View run 45 at: http://localhost:5000/#/experiments/605049891641191207/runs/360a250438d547d8b9f524566d0d4856\n",
      "🧪 View experiment at: http://localhost:5000/#/experiments/605049891641191207\n"
     ]
    },
    {
     "name": "stderr",
     "output_type": "stream",
     "text": [
      "[I 2025-07-08 20:32:14,963] Trial 46 finished with value: 0.87925 and parameters: {'num_hidden_layers': 4, 'neurons_per_layer': 112, 'epochs': 50, 'lr': 0.0036509124522917475, 'dropout': 0.1, 'batch_size': 32, 'label_smoothing': 0.15000000000000002, 'optimizer': 'RMSprop', 'weight_decay': 4.566406379928586e-05}. Best is trial 42 with value: 0.8971666666666667.\n"
     ]
    },
    {
     "name": "stdout",
     "output_type": "stream",
     "text": [
      "🏃 View run 46 at: http://localhost:5000/#/experiments/605049891641191207/runs/96f08250dcd143d3bcc5fe71434d4a33\n",
      "🧪 View experiment at: http://localhost:5000/#/experiments/605049891641191207\n",
      "🏃 View run 46 at: http://localhost:5000/#/experiments/605049891641191207/runs/96f08250dcd143d3bcc5fe71434d4a33\n",
      "🧪 View experiment at: http://localhost:5000/#/experiments/605049891641191207\n"
     ]
    },
    {
     "name": "stderr",
     "output_type": "stream",
     "text": [
      "[I 2025-07-08 20:37:36,360] Trial 47 finished with value: 0.8936666666666667 and parameters: {'num_hidden_layers': 5, 'neurons_per_layer': 120, 'epochs': 70, 'lr': 0.00016189532097820434, 'dropout': 0.2, 'batch_size': 32, 'label_smoothing': 0.1, 'optimizer': 'RMSprop', 'weight_decay': 2.6443695882545585e-05}. Best is trial 42 with value: 0.8971666666666667.\n"
     ]
    },
    {
     "name": "stdout",
     "output_type": "stream",
     "text": [
      "🏃 View run 47 at: http://localhost:5000/#/experiments/605049891641191207/runs/54a80e5e9b7347bd8f672cac36ff7ee1\n",
      "🧪 View experiment at: http://localhost:5000/#/experiments/605049891641191207\n",
      "🏃 View run 47 at: http://localhost:5000/#/experiments/605049891641191207/runs/54a80e5e9b7347bd8f672cac36ff7ee1\n",
      "🧪 View experiment at: http://localhost:5000/#/experiments/605049891641191207\n"
     ]
    },
    {
     "name": "stderr",
     "output_type": "stream",
     "text": [
      "[I 2025-07-08 20:40:12,774] Trial 48 finished with value: 0.70375 and parameters: {'num_hidden_layers': 5, 'neurons_per_layer': 120, 'epochs': 40, 'lr': 2.5281333333923215e-05, 'dropout': 0.2, 'batch_size': 32, 'label_smoothing': 0.15000000000000002, 'optimizer': 'SGD', 'weight_decay': 1.001254052520279e-05}. Best is trial 42 with value: 0.8971666666666667.\n"
     ]
    },
    {
     "name": "stdout",
     "output_type": "stream",
     "text": [
      "🏃 View run 48 at: http://localhost:5000/#/experiments/605049891641191207/runs/0b9be09607304427b2885ee598834e97\n",
      "🧪 View experiment at: http://localhost:5000/#/experiments/605049891641191207\n",
      "🏃 View run 48 at: http://localhost:5000/#/experiments/605049891641191207/runs/0b9be09607304427b2885ee598834e97\n",
      "🧪 View experiment at: http://localhost:5000/#/experiments/605049891641191207\n"
     ]
    },
    {
     "name": "stderr",
     "output_type": "stream",
     "text": [
      "[I 2025-07-08 20:49:22,340] Trial 49 finished with value: 0.08033333333333334 and parameters: {'num_hidden_layers': 5, 'neurons_per_layer': 24, 'epochs': 60, 'lr': 0.00016214771607804684, 'dropout': 0.1, 'batch_size': 32, 'label_smoothing': 0.1, 'optimizer': 'LBFGS', 'weight_decay': 1.2878101760084487e-05}. Best is trial 42 with value: 0.8971666666666667.\n"
     ]
    },
    {
     "name": "stdout",
     "output_type": "stream",
     "text": [
      "🏃 View run 49 at: http://localhost:5000/#/experiments/605049891641191207/runs/10b8b39b657f4a09ab683bce2add4c98\n",
      "🧪 View experiment at: http://localhost:5000/#/experiments/605049891641191207\n",
      "🏃 View run 49 at: http://localhost:5000/#/experiments/605049891641191207/runs/10b8b39b657f4a09ab683bce2add4c98\n",
      "🧪 View experiment at: http://localhost:5000/#/experiments/605049891641191207\n"
     ]
    }
   ],
   "execution_count": 7
  },
  {
   "metadata": {
    "ExecuteTime": {
     "end_time": "2025-07-08T15:19:22.423967Z",
     "start_time": "2025-07-08T15:19:22.416906Z"
    }
   },
   "cell_type": "code",
   "source": "study.best_value",
   "id": "359db4fd01a98bdf",
   "outputs": [
    {
     "data": {
      "text/plain": [
       "0.8971666666666667"
      ]
     },
     "execution_count": 8,
     "metadata": {},
     "output_type": "execute_result"
    }
   ],
   "execution_count": 8
  },
  {
   "metadata": {
    "ExecuteTime": {
     "end_time": "2025-07-08T15:21:32.802714Z",
     "start_time": "2025-07-08T15:21:32.796241Z"
    }
   },
   "cell_type": "code",
   "source": "study.best_params",
   "id": "3fcad95921e170ae",
   "outputs": [
    {
     "data": {
      "text/plain": [
       "{'num_hidden_layers': 5,\n",
       " 'neurons_per_layer': 120,\n",
       " 'epochs': 40,\n",
       " 'lr': 0.00014945226423368488,\n",
       " 'dropout': 0.2,\n",
       " 'batch_size': 32,\n",
       " 'label_smoothing': 0.1,\n",
       " 'optimizer': 'RMSprop',\n",
       " 'weight_decay': 1.5509457304206577e-05}"
      ]
     },
     "execution_count": 9,
     "metadata": {},
     "output_type": "execute_result"
    }
   ],
   "execution_count": 9
  },
  {
   "metadata": {},
   "cell_type": "code",
   "outputs": [],
   "execution_count": null,
   "source": "",
   "id": "eb98591511f89d69"
  }
 ],
 "metadata": {},
 "nbformat": 4,
 "nbformat_minor": 5
}
