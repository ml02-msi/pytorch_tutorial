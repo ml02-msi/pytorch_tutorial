{
 "cells": [
  {
   "metadata": {},
   "cell_type": "code",
   "source": "!which python3",
   "id": "63c1774c1cc446f2",
   "outputs": [],
   "execution_count": null
  },
  {
   "metadata": {},
   "cell_type": "code",
   "source": "!python3 --version",
   "id": "3c91d5f6a13fe36",
   "outputs": [],
   "execution_count": null
  },
  {
   "metadata": {},
   "cell_type": "code",
   "source": "import os",
   "id": "ba84a40f09eca9e6",
   "outputs": [],
   "execution_count": null
  },
  {
   "metadata": {},
   "cell_type": "code",
   "source": "import torch",
   "id": "934b5759cb7712a0",
   "outputs": [],
   "execution_count": null
  },
  {
   "metadata": {},
   "cell_type": "code",
   "source": "print(torch.cuda.is_available())",
   "id": "6f78b7638e87b7c",
   "outputs": [],
   "execution_count": null
  },
  {
   "metadata": {},
   "cell_type": "code",
   "source": [
    "x = torch.rand(5, 3)\n",
    "print(x)"
   ],
   "id": "ee12324fc89137d7",
   "outputs": [],
   "execution_count": null
  },
  {
   "metadata": {},
   "cell_type": "code",
   "source": "print(torch.__version__)",
   "id": "37ced9ffe029d5d3",
   "outputs": [],
   "execution_count": null
  },
  {
   "metadata": {},
   "cell_type": "code",
   "source": "print(torch.cuda.get_device_name(0))",
   "id": "349ee048677af568",
   "outputs": [],
   "execution_count": null
  },
  {
   "metadata": {},
   "cell_type": "code",
   "source": [
    "# TO create an empty tensor\n",
    "\n",
    "torch.empty(2,3)"
   ],
   "id": "6317a5812f7fd447",
   "outputs": [],
   "execution_count": null
  },
  {
   "metadata": {},
   "cell_type": "code",
   "source": "type(torch.empty(2,3))",
   "id": "d4ff631a217509eb",
   "outputs": [],
   "execution_count": null
  },
  {
   "metadata": {},
   "cell_type": "code",
   "source": "torch.empty(2,3)",
   "id": "81561249ee61bfbb",
   "outputs": [],
   "execution_count": null
  },
  {
   "metadata": {},
   "cell_type": "code",
   "source": "torch.zeros(2,3)",
   "id": "54a1617d433895b",
   "outputs": [],
   "execution_count": null
  },
  {
   "metadata": {},
   "cell_type": "code",
   "source": "torch.ones(2,3)",
   "id": "c1cac3fccead2c66",
   "outputs": [],
   "execution_count": null
  },
  {
   "metadata": {},
   "cell_type": "code",
   "source": "torch.rand(2,3)",
   "id": "78fbd6d42a42d823",
   "outputs": [],
   "execution_count": null
  },
  {
   "metadata": {},
   "cell_type": "code",
   "source": [
    "torch.manual_seed(42)\n",
    "torch.rand(2,3)"
   ],
   "id": "edfa1d1a0669cff7",
   "outputs": [],
   "execution_count": null
  },
  {
   "metadata": {},
   "cell_type": "code",
   "source": "torch.rand(2,3)",
   "id": "9812194369ceace8",
   "outputs": [],
   "execution_count": null
  },
  {
   "metadata": {},
   "cell_type": "code",
   "source": "torch.tensor([1,2,3,4])",
   "id": "dddea0e1f0251706",
   "outputs": [],
   "execution_count": null
  },
  {
   "metadata": {},
   "cell_type": "code",
   "source": "torch.arange(0,10,2)",
   "id": "9e72c65f19dcd977",
   "outputs": [],
   "execution_count": null
  },
  {
   "metadata": {},
   "cell_type": "code",
   "source": "torch.linspace(0,10,10) # Same linearly separated points b/w a range inclusive",
   "id": "9efeb29b0068dd48",
   "outputs": [],
   "execution_count": null
  },
  {
   "metadata": {},
   "cell_type": "code",
   "source": "torch.eye(3) #identity tensor",
   "id": "6c139789124277a3",
   "outputs": [],
   "execution_count": null
  },
  {
   "metadata": {},
   "cell_type": "code",
   "source": "torch.full((3,3),1) # Populates a given shape of tensor with a particular value",
   "id": "465f32cea4fc199c",
   "outputs": [],
   "execution_count": null
  },
  {
   "metadata": {},
   "cell_type": "code",
   "source": [
    "# tensor shapes\n",
    "\n",
    "x = torch.tensor([[[1,2,3,]]])\n",
    "print(x.shape)"
   ],
   "id": "dc45538eadf27d32",
   "outputs": [],
   "execution_count": null
  },
  {
   "metadata": {},
   "cell_type": "code",
   "source": [
    "# To create a empty tensor with a particular shape\n",
    "\n",
    "torch.empty_like(x)"
   ],
   "id": "d120a926d017e6f0",
   "outputs": [],
   "execution_count": null
  },
  {
   "metadata": {},
   "cell_type": "code",
   "source": "torch.zeros_like(x)",
   "id": "89674ecbecddfe20",
   "outputs": [],
   "execution_count": null
  },
  {
   "metadata": {},
   "cell_type": "code",
   "source": "torch.ones_like(x)",
   "id": "952f4f3fc18adff7",
   "outputs": [],
   "execution_count": null
  },
  {
   "metadata": {},
   "cell_type": "code",
   "source": "torch.rand_like(x) # TO generate this we have to implicitly declare the data type (here float as rand generates float)",
   "id": "52141443b9e47a8f",
   "outputs": [],
   "execution_count": null
  },
  {
   "metadata": {},
   "cell_type": "code",
   "source": "x.dtype",
   "id": "3de52d5b6b389672",
   "outputs": [],
   "execution_count": null
  },
  {
   "metadata": {},
   "cell_type": "code",
   "source": "torch.tensor([1,2,3,4],dtype=torch.uint8)",
   "id": "56106cf48ee20671",
   "outputs": [],
   "execution_count": null
  },
  {
   "metadata": {},
   "cell_type": "code",
   "source": [
    "x = torch.tensor([1.0, 2.0, 3.0, 4.0])\n",
    "x_quant = torch.quantize_per_tensor(x, scale=1.0, zero_point=0, dtype=torch.quint4x2)\n",
    "x_quant"
   ],
   "id": "62e952711d230270",
   "outputs": [],
   "execution_count": null
  },
  {
   "metadata": {},
   "cell_type": "code",
   "source": "torch.tensor([1,2,3,4],dtype=torch.cuda.IntTensor)",
   "id": "8950120126883b7b",
   "outputs": [],
   "execution_count": null
  },
  {
   "metadata": {},
   "cell_type": "code",
   "source": [
    "x = torch.tensor([1, 2, 3, 4])\n",
    "print(x.device)  # Output: cpu\n"
   ],
   "id": "25863db0abeabf78",
   "outputs": [],
   "execution_count": null
  },
  {
   "metadata": {},
   "cell_type": "code",
   "source": [
    "x = torch.tensor([1, 2, 3, 4], device='cuda')  # Goes to GPU\n",
    "print(x.device)  # Output: cuda:0\n"
   ],
   "id": "91f429a5a1262656",
   "outputs": [],
   "execution_count": null
  },
  {
   "metadata": {},
   "cell_type": "code",
   "source": [
    "x = torch.tensor([1, 2, 3, 4])\n",
    "x = x.to('cuda')\n",
    "x.device"
   ],
   "id": "639101e321c63a0e",
   "outputs": [],
   "execution_count": null
  },
  {
   "metadata": {},
   "cell_type": "code",
   "source": "x = torch.cuda.FloatTensor(3, 2)  # 3x2 float tensor on GPU with uninitialized values\n",
   "id": "fd0ab0d2c4db99b4",
   "outputs": [],
   "execution_count": null
  },
  {
   "metadata": {},
   "cell_type": "code",
   "source": [
    "x = torch.tensor([[1,2,3],[2,3,4]], dtype=torch.float64)\n",
    "x"
   ],
   "id": "de427d848a5da637",
   "outputs": [],
   "execution_count": null
  },
  {
   "metadata": {},
   "cell_type": "code",
   "source": "x = x.to(torch.int)",
   "id": "a14fa9558f1e2d92",
   "outputs": [],
   "execution_count": null
  },
  {
   "metadata": {},
   "cell_type": "code",
   "source": "torch.rand_like(x, dtype=torch.float32)",
   "id": "4bd9f79e22691f61",
   "outputs": [],
   "execution_count": null
  },
  {
   "metadata": {},
   "cell_type": "code",
   "source": [
    "# Scalar operations\n",
    "print(x.dtype)\n",
    "\n",
    "print(x)"
   ],
   "id": "b0a071bb46e71991",
   "outputs": [],
   "execution_count": null
  },
  {
   "metadata": {},
   "cell_type": "code",
   "source": [
    "print(x+2)\n",
    "\n",
    "print(x-2)"
   ],
   "id": "a2efc89378c0ce7c",
   "outputs": [],
   "execution_count": null
  },
  {
   "metadata": {},
   "cell_type": "code",
   "source": [
    "print(x*2)\n",
    "\n",
    "print(x/2)"
   ],
   "id": "62d0a6bb11f2fa0a",
   "outputs": [],
   "execution_count": null
  },
  {
   "metadata": {},
   "cell_type": "code",
   "source": [
    "print((x*100)//2)\n",
    "\n",
    "print(((x*100)//3)%2)"
   ],
   "id": "44b479f8d3889274",
   "outputs": [],
   "execution_count": null
  },
  {
   "metadata": {},
   "cell_type": "code",
   "source": "print(x**2)",
   "id": "5203556916aa2f4c",
   "outputs": [],
   "execution_count": null
  },
  {
   "metadata": {},
   "cell_type": "code",
   "source": [
    "# Element Wise Ops\n",
    "\n",
    "x = torch.rand_like(x, dtype=torch.float32)\n",
    "y = torch.randn_like(x, dtype=torch.float32)\n",
    "\n",
    "print(x,y)"
   ],
   "id": "f52adddc63bd7f01",
   "outputs": [],
   "execution_count": null
  },
  {
   "metadata": {},
   "cell_type": "code",
   "source": "x+y",
   "id": "553971717a12e66",
   "outputs": [],
   "execution_count": null
  },
  {
   "metadata": {},
   "cell_type": "code",
   "source": "x-y",
   "id": "3be73e816bcd0687",
   "outputs": [],
   "execution_count": null
  },
  {
   "metadata": {},
   "cell_type": "code",
   "source": "x*y",
   "id": "e7df569d3d8c703a",
   "outputs": [],
   "execution_count": null
  },
  {
   "metadata": {},
   "cell_type": "code",
   "source": "x/y",
   "id": "a390a40f68433e71",
   "outputs": [],
   "execution_count": null
  },
  {
   "metadata": {},
   "cell_type": "code",
   "source": "(x*100)//y",
   "id": "bfccaa6f0ea24158",
   "outputs": [],
   "execution_count": null
  },
  {
   "metadata": {},
   "cell_type": "code",
   "source": "x%y",
   "id": "5659db69632b84f9",
   "outputs": [],
   "execution_count": null
  },
  {
   "metadata": {},
   "cell_type": "code",
   "source": "torch.abs(x%y)",
   "id": "793c4a8f5f193d51",
   "outputs": [],
   "execution_count": null
  },
  {
   "metadata": {},
   "cell_type": "code",
   "source": "torch.round(torch.abs(x%y))",
   "id": "7e42c29f3cbcd0cc",
   "outputs": [],
   "execution_count": null
  },
  {
   "metadata": {},
   "cell_type": "code",
   "source": "torch.ceil(x%y)",
   "id": "66c0df03321fbac",
   "outputs": [],
   "execution_count": null
  },
  {
   "metadata": {},
   "cell_type": "code",
   "source": "torch.floor(x%y)",
   "id": "d0b2c18b44757131",
   "outputs": [],
   "execution_count": null
  },
  {
   "metadata": {},
   "cell_type": "code",
   "source": "torch.clamp(x%y, min=-0.02, max=0.5)",
   "id": "e993c4a952d66bcc",
   "outputs": [],
   "execution_count": null
  },
  {
   "metadata": {},
   "cell_type": "code",
   "source": [
    "# Reduction op\n",
    "e = torch.randint(size = (2,3), low=5, high=10, device='cuda')\n",
    "print(e)"
   ],
   "id": "fb1bdb57f261ca25",
   "outputs": [],
   "execution_count": null
  },
  {
   "metadata": {},
   "cell_type": "code",
   "source": "torch.sum(e)",
   "id": "39906a6a389dd5ec",
   "outputs": [],
   "execution_count": null
  },
  {
   "metadata": {},
   "cell_type": "code",
   "source": [
    "print(torch.sum(e, dim=0)) # Sum along each column\n",
    "print(torch.sum(e, dim=1)) # Sum along each row"
   ],
   "id": "59b91e51d5a74a44",
   "outputs": [],
   "execution_count": null
  },
  {
   "metadata": {},
   "cell_type": "code",
   "source": [
    "print(torch.mean(e, dtype = torch.float)) # Works with dtype = float\n",
    "print(torch.mean(e, dtype = torch.float, dim = 0))"
   ],
   "id": "767e19acdc7d4cc2",
   "outputs": [],
   "execution_count": null
  },
  {
   "metadata": {},
   "cell_type": "code",
   "source": "print(torch.median(e)) # Works with dtype = float",
   "id": "448cb86f150755bd",
   "outputs": [],
   "execution_count": null
  },
  {
   "metadata": {},
   "cell_type": "code",
   "source": "print(torch.median(e, dim = 0))",
   "id": "58e61166830a09eb",
   "outputs": [],
   "execution_count": null
  },
  {
   "metadata": {},
   "cell_type": "code",
   "source": [
    "print(torch.min(e)) # Works with dtype = float\n",
    "print(torch.max(e, dim = 0))"
   ],
   "id": "c1444f0d856c39c9",
   "outputs": [],
   "execution_count": null
  },
  {
   "metadata": {},
   "cell_type": "code",
   "source": [
    "# unpacking\n",
    "\n",
    "values, indices = torch.min(e, dim=0)\n",
    "\n",
    "print(f'The values are: {values}')\n",
    "print(f'The indices are: {indices}')"
   ],
   "id": "7e8fb9e2d1627397",
   "outputs": [],
   "execution_count": null
  },
  {
   "metadata": {},
   "cell_type": "code",
   "source": [
    "# Variance\n",
    "## std and var only support floating point and complex dtypes\n",
    "torch.var(e.to(torch.float))"
   ],
   "id": "7484cae30418ce43",
   "outputs": [],
   "execution_count": null
  },
  {
   "metadata": {},
   "cell_type": "code",
   "source": "torch.var(e.float())",
   "id": "f04abc2ff1111df8",
   "outputs": [],
   "execution_count": null
  },
  {
   "metadata": {},
   "cell_type": "code",
   "source": "torch.var(e.float().cuda())",
   "id": "80a3660cce9df1e0",
   "outputs": [],
   "execution_count": null
  },
  {
   "metadata": {},
   "cell_type": "code",
   "source": "torch.var(e.float().cpu())",
   "id": "254cc20d2b33b851",
   "outputs": [],
   "execution_count": null
  },
  {
   "metadata": {},
   "cell_type": "code",
   "source": "e",
   "id": "a29936dc33df7838",
   "outputs": [],
   "execution_count": null
  },
  {
   "metadata": {},
   "cell_type": "code",
   "source": "torch.argmax(e) # Returns the pos of the maximum elem",
   "id": "13cce4f2183cea5b",
   "outputs": [],
   "execution_count": null
  },
  {
   "metadata": {},
   "cell_type": "code",
   "source": "torch.argmin(e)",
   "id": "d02497abbaede505",
   "outputs": [],
   "execution_count": null
  },
  {
   "metadata": {},
   "cell_type": "code",
   "source": [
    "# Matrix Multiplication\n",
    "print(x.shape)\n",
    "torch.matmul(x,y.view(3,2)) # Reshaping the y tensor so that mat mul can take place"
   ],
   "id": "5869bab807cc3d47",
   "outputs": [],
   "execution_count": null
  },
  {
   "metadata": {},
   "cell_type": "code",
   "source": "torch.dot(x.view(-1),y.view(-1))  # Squeezing both to 1D tensor",
   "id": "7b1f942273864c36",
   "outputs": [],
   "execution_count": null
  },
  {
   "metadata": {},
   "cell_type": "code",
   "source": "y",
   "id": "3456ce5a18cb5c8b",
   "outputs": [],
   "execution_count": null
  },
  {
   "metadata": {},
   "cell_type": "code",
   "source": "torch.transpose(y, 0, 1)",
   "id": "bacd9f5f9175d966",
   "outputs": [],
   "execution_count": null
  },
  {
   "metadata": {},
   "cell_type": "code",
   "source": "torch.transpose(y, 1, 0)",
   "id": "bb42d9e0b9d68a29",
   "outputs": [],
   "execution_count": null
  },
  {
   "metadata": {},
   "cell_type": "code",
   "source": "torch.unsqueeze(y, 1)",
   "id": "4f343addb74fa02d",
   "outputs": [],
   "execution_count": null
  },
  {
   "metadata": {},
   "cell_type": "code",
   "source": "x",
   "id": "e5e7fb98c74577e0",
   "outputs": [],
   "execution_count": null
  },
  {
   "metadata": {},
   "cell_type": "code",
   "source": [
    "# Create 1x3 row of random numbers (same dtype and device as x)\n",
    "rand_row = torch.randn(1, 3, dtype=x.dtype, device=x.device)\n",
    "\n",
    "print(rand_row)\n",
    "\n",
    "# Concatenate along the row axis (dim=0)\n",
    "x_3x3 = torch.cat((x, rand_row), dim=0)\n",
    "\n",
    "print(x_3x3)\n"
   ],
   "id": "bdcfb49299986d01",
   "outputs": [],
   "execution_count": null
  },
  {
   "metadata": {},
   "cell_type": "code",
   "source": "torch.det(x_3x3)",
   "id": "611ad95b7c419d47",
   "outputs": [],
   "execution_count": null
  },
  {
   "metadata": {},
   "cell_type": "code",
   "source": "torch.inverse(x_3x3)",
   "id": "9c1c6da710a0e8a0",
   "outputs": [],
   "execution_count": null
  },
  {
   "metadata": {},
   "cell_type": "code",
   "source": [
    "print(x)\n",
    "print(y)"
   ],
   "id": "7ec98b3351d6f2c1",
   "outputs": [],
   "execution_count": null
  },
  {
   "metadata": {},
   "cell_type": "code",
   "source": [
    "# Comparison Operations\n",
    "\n",
    "x > y"
   ],
   "id": "a84a19f2e0d94acb",
   "outputs": [],
   "execution_count": null
  },
  {
   "metadata": {},
   "cell_type": "code",
   "source": "x<y",
   "id": "cbe4b81f867e7bfc",
   "outputs": [],
   "execution_count": null
  },
  {
   "metadata": {},
   "cell_type": "code",
   "source": "x==y",
   "id": "a527facdc2489198",
   "outputs": [],
   "execution_count": null
  },
  {
   "metadata": {},
   "cell_type": "code",
   "source": "x!=y",
   "id": "f1486b86fc31b6c5",
   "outputs": [],
   "execution_count": null
  },
  {
   "metadata": {},
   "cell_type": "code",
   "source": "x>=y",
   "id": "2765370a63d7515b",
   "outputs": [],
   "execution_count": null
  },
  {
   "metadata": {},
   "cell_type": "code",
   "source": "x<=y",
   "id": "c4a7cf5454d1a7a5",
   "outputs": [],
   "execution_count": null
  },
  {
   "metadata": {},
   "cell_type": "code",
   "source": [
    "# Special Funcs\n",
    "k = torch.randint(size=(3,3), low = -1, high =11)\n",
    "k"
   ],
   "id": "69524a09e49b86eb",
   "outputs": [],
   "execution_count": null
  },
  {
   "metadata": {},
   "cell_type": "code",
   "source": "torch.log(k)",
   "id": "15b85dfa3ac95f23",
   "outputs": [],
   "execution_count": null
  },
  {
   "metadata": {},
   "cell_type": "code",
   "source": "torch.exp(k)",
   "id": "1b355eeb791ba197",
   "outputs": [],
   "execution_count": null
  },
  {
   "metadata": {},
   "cell_type": "code",
   "source": "torch.sqrt(k)",
   "id": "9e8e1930762a8163",
   "outputs": [],
   "execution_count": null
  },
  {
   "metadata": {},
   "cell_type": "code",
   "source": "torch.sigmoid(k)",
   "id": "db8bf6f59d157c4b",
   "outputs": [],
   "execution_count": null
  },
  {
   "metadata": {},
   "cell_type": "code",
   "source": "torch.softmax(k.to(float), dim = 0) # Expects tensor dtype as float",
   "id": "fef0dc2d87098ff7",
   "outputs": [],
   "execution_count": null
  },
  {
   "metadata": {},
   "cell_type": "code",
   "source": "torch.relu(k)",
   "id": "58943bc2964776c5",
   "outputs": [],
   "execution_count": null
  },
  {
   "metadata": {},
   "cell_type": "code",
   "source": [
    "# Inplace Operators ('_' underscore defines inplace operators)\n",
    "print(x)\n",
    "print(y)\n",
    "print(x.add(y))"
   ],
   "id": "9e27ca2078de7a6e",
   "outputs": [],
   "execution_count": null
  },
  {
   "metadata": {},
   "cell_type": "code",
   "source": [
    "print(x)\n",
    "print(x.add_(y))\n",
    "print(x)"
   ],
   "id": "be0b314930166a39",
   "outputs": [],
   "execution_count": null
  },
  {
   "metadata": {},
   "cell_type": "code",
   "source": "print(k)",
   "id": "2f602dedbc5d162b",
   "outputs": [],
   "execution_count": null
  },
  {
   "metadata": {},
   "cell_type": "code",
   "source": "print(torch.relu(k))",
   "id": "f93b12678cef1976",
   "outputs": [],
   "execution_count": null
  },
  {
   "metadata": {},
   "cell_type": "code",
   "source": [
    "print(torch.relu_(k)) # Or do k.relu_()\n",
    "print(k)"
   ],
   "id": "d9c00e8823515e5d",
   "outputs": [],
   "execution_count": null
  },
  {
   "metadata": {},
   "cell_type": "code",
   "source": [
    "# copying a tensor\n",
    "\n",
    "x = torch.rand(2,3)\n",
    "print(x)\n",
    "y = x\n",
    "print(y)"
   ],
   "id": "b06f2640b293127d",
   "outputs": [],
   "execution_count": null
  },
  {
   "metadata": {},
   "cell_type": "code",
   "source": [
    "x[0][0] = 0\n",
    "print(x)\n",
    "print(y)"
   ],
   "id": "1b87575cdd7e1e8e",
   "outputs": [],
   "execution_count": null
  },
  {
   "metadata": {},
   "cell_type": "code",
   "source": "id(x) == id(y) # The memory they are pointing to is the same, so if we change one the other will get changed",
   "id": "b9b9a976a7505b6d",
   "outputs": [],
   "execution_count": null
  },
  {
   "metadata": {},
   "cell_type": "code",
   "source": [
    "y[0][0] = 1\n",
    "print(x)\n",
    "print(y)"
   ],
   "id": "54f28d835e22160",
   "outputs": [],
   "execution_count": null
  },
  {
   "metadata": {},
   "cell_type": "code",
   "source": [
    "# Copying a tensor but both will be pointing to different locations\n",
    "\n",
    "a = torch.rand(2,3)\n",
    "b = a.clone()\n",
    "print(id(a))\n",
    "print(id(b))"
   ],
   "id": "2679ba18064fd0f1",
   "outputs": [],
   "execution_count": null
  },
  {
   "metadata": {},
   "cell_type": "code",
   "source": [
    "import copy\n",
    "a = torch.rand(2,3)\n",
    "b = copy.deepcopy(a)\n",
    "print(id(a))\n",
    "print(id(b))\n",
    "print(type(b))"
   ],
   "id": "96d33d02a454cae4",
   "outputs": [],
   "execution_count": null
  },
  {
   "metadata": {},
   "cell_type": "code",
   "source": [
    "import time\n",
    "\n",
    "size = 10000\n",
    "\n",
    "matrix_cpu1 = torch.randn(size, size)\n",
    "matrix_cpu2 = torch.randn(size, size)\n",
    "\n",
    "start_time = time.time()\n",
    "result_cpu = torch.matmul(matrix_cpu1, matrix_cpu2)\n",
    "end_time = time.time()\n",
    "print(f'CPU time to multiply two 10000*10000 matrix is: {end_time - start_time}')\n",
    "\n",
    "matrix_gpu1 = torch.randn(size, size, device='cuda')\n",
    "matrix_gpu2 = torch.randn(size, size, device='cuda')\n",
    "\n",
    "start_time = time.time()\n",
    "result_gpu = torch.matmul(matrix_gpu1, matrix_gpu2)\n",
    "end_time = time.time()\n",
    "print(f'GPU time to multiply two 10000*10000 matrix is: {end_time - start_time}')"
   ],
   "id": "a9eb888954bd9d77",
   "outputs": [],
   "execution_count": null
  },
  {
   "metadata": {},
   "cell_type": "code",
   "source": [
    "# Reshaping Tensors\n",
    "\n",
    "a = torch.ones(4,4)\n",
    "print(a)\n",
    "\n",
    "a = a.reshape(2,2,2,2)\n",
    "print(a)"
   ],
   "id": "bf64c4ef63c9fe0a",
   "outputs": [],
   "execution_count": null
  },
  {
   "metadata": {},
   "cell_type": "code",
   "source": "a.flatten()",
   "id": "d7e19fd1b3ffb5b8",
   "outputs": [],
   "execution_count": null
  },
  {
   "metadata": {},
   "cell_type": "code",
   "source": [
    "b = torch.randn(3,4,2)\n",
    "print(b)"
   ],
   "id": "598e14a4be99d267",
   "outputs": [],
   "execution_count": null
  },
  {
   "metadata": {},
   "cell_type": "code",
   "source": "b.permute(2,0,1) # takes the indices of the shape",
   "id": "b5378d2c309cc596",
   "outputs": [],
   "execution_count": null
  },
  {
   "metadata": {},
   "cell_type": "code",
   "source": "b.permute(2,0,1).shape",
   "id": "689534d1aac21089",
   "outputs": [],
   "execution_count": null
  },
  {
   "metadata": {},
   "cell_type": "code",
   "source": [
    "a = torch.randn(226,226,3)\n",
    "a.unsqueeze(3).shape #Adds dimension to the existing shape at a particular position\n",
    "\n",
    "# unsqueeze is helpful in a scenario where if one single image is passed to a model, as a model takes images in batches\n",
    "# e.g. n*x*y*c where n is the batch number then in that case we can convert the single image of dim x*y*c into\n",
    "# a single batch like 1*x*y*c using unsqueeze"
   ],
   "id": "66b1201763f956d8",
   "outputs": [],
   "execution_count": null
  },
  {
   "metadata": {},
   "cell_type": "code",
   "source": [
    "# Squeeze only removes the dimension if its size is 1.\n",
    "#\n",
    "# If tensor.shape[dim] != 1, it leaves the tensor unchanged.\n",
    "\n",
    "print(a.shape)\n",
    "print(a.squeeze(1).shape)"
   ],
   "id": "44c710f695d50713",
   "outputs": [],
   "execution_count": null
  },
  {
   "metadata": {},
   "cell_type": "code",
   "source": [
    "a = torch.rand(1,20)\n",
    "print(a.squeeze(0).shape)"
   ],
   "id": "4a1d63890813aa0",
   "outputs": [],
   "execution_count": null
  },
  {
   "metadata": {},
   "cell_type": "code",
   "source": [
    "#  To remove all dimensions of size 1:\n",
    "# a.squeeze().shape  # removes all 1-sized dims, if any\n",
    "\n",
    "a = torch.rand(1,20,1)\n",
    "print(a.squeeze().shape)"
   ],
   "id": "fb5d183733d44c3d",
   "outputs": [],
   "execution_count": null
  },
  {
   "metadata": {},
   "cell_type": "code",
   "source": "import numpy as np",
   "id": "b4eb1d817b330688",
   "outputs": [],
   "execution_count": null
  },
  {
   "metadata": {},
   "cell_type": "code",
   "source": [
    "a = torch.tensor([1,2,3,4])\n",
    "a.type()"
   ],
   "id": "c5eec69df7ba3a4e",
   "outputs": [],
   "execution_count": null
  },
  {
   "metadata": {},
   "cell_type": "code",
   "source": [
    "b = a.numpy()\n",
    "type(b)"
   ],
   "id": "c0f87be8e175a1e9",
   "outputs": [],
   "execution_count": null
  },
  {
   "metadata": {},
   "cell_type": "code",
   "source": [
    "c = torch.from_numpy(b)\n",
    "c.type()"
   ],
   "id": "c0d54a0314d7ef68",
   "outputs": [],
   "execution_count": null
  },
  {
   "metadata": {},
   "cell_type": "code",
   "source": [
    "\"\"\"Autograd - To calculate derivatives\n",
    "Autograd is a core component of PyTorch that provides automatic differentiation for tensor ops, enabling gradient\n",
    "computation using optimization algo like gradient descent.\"\"\""
   ],
   "id": "82b49474834b4a3e",
   "outputs": [],
   "execution_count": null
  },
  {
   "metadata": {},
   "cell_type": "code",
   "source": [
    "import math\n",
    "\n",
    "x = torch.tensor(3.0, requires_grad=True)\n",
    "\n",
    "y = x**2\n",
    "\n",
    "print(x)\n",
    "print(y)"
   ],
   "id": "f4eb952409cb9540",
   "outputs": [],
   "execution_count": null
  },
  {
   "metadata": {},
   "cell_type": "code",
   "source": [
    " y.backward() # Calculating Derivative\n",
    " x.grad # To see derivative"
   ],
   "id": "a66b1f6c87fc5053",
   "outputs": [],
   "execution_count": null
  },
  {
   "metadata": {},
   "cell_type": "code",
   "source": [
    "x = torch.tensor(3.0, requires_grad=True)\n",
    "y = x**2\n",
    "z = torch.sin(y)\n",
    "\n",
    "print(x)\n",
    "print(y)\n",
    "print(z)"
   ],
   "id": "85966fcbdcbfa592",
   "outputs": [],
   "execution_count": null
  },
  {
   "metadata": {},
   "cell_type": "code",
   "source": "z.backward()",
   "id": "42a044a993337759",
   "outputs": [],
   "execution_count": null
  },
  {
   "metadata": {},
   "cell_type": "code",
   "source": "x.grad",
   "id": "ce5c69eda577171",
   "outputs": [],
   "execution_count": null
  },
  {
   "metadata": {},
   "cell_type": "code",
   "source": [
    "x = torch.tensor(3.0, requires_grad=True)\n",
    "y = torch.pow(x, 2)\n",
    "z = torch.sin(y)\n",
    "\n",
    "print(x)\n",
    "print(y)\n",
    "print(z)"
   ],
   "id": "b0bb828309f75f4",
   "outputs": [],
   "execution_count": null
  },
  {
   "metadata": {},
   "cell_type": "code",
   "source": "z.backward()",
   "id": "b27dcb9094829e4",
   "outputs": [],
   "execution_count": null
  },
  {
   "metadata": {},
   "cell_type": "code",
   "source": "x.grad",
   "id": "62d1c3bb81740ce2",
   "outputs": [],
   "execution_count": null
  },
  {
   "metadata": {},
   "cell_type": "code",
   "source": "y.grad",
   "id": "c8b933afc2f03263",
   "outputs": [],
   "execution_count": null
  },
  {
   "metadata": {},
   "cell_type": "code",
   "source": [
    "inp = torch.eye(6, 5, requires_grad=True)\n",
    "print(inp)"
   ],
   "id": "652be6e8d4f25540",
   "outputs": [],
   "execution_count": null
  },
  {
   "metadata": {},
   "cell_type": "code",
   "source": [
    "test = torch.randn(5, 5)\n",
    "print(test)\n",
    "out = torch.matmul(inp, test)\n",
    "print(out)"
   ],
   "id": "f655ecf810dad2fd",
   "outputs": [],
   "execution_count": null
  },
  {
   "metadata": {},
   "cell_type": "code",
   "source": "test[-1][-1]==out[0][0]",
   "id": "36572741c7dd6d70",
   "outputs": [],
   "execution_count": null
  },
  {
   "metadata": {},
   "cell_type": "markdown",
   "source": [
    "# Loss Function\n",
    "\n",
    "$L = -[y_{target}*\\ln(y_{pred}) + (1-y_{target})*\\ln(1-y_{pred})]$"
   ],
   "id": "abb157c449907a45"
  },
  {
   "metadata": {},
   "cell_type": "code",
   "source": [
    "import torch\n",
    "\n",
    "# Inputs\n",
    "x = torch.tensor(6.7)\n",
    "y = torch.tensor(0.0)\n",
    "\n",
    "w = torch.tensor(1.0) # Weight\n",
    "b = torch.tensor(0.0) # bias"
   ],
   "id": "68e78a9dda07db19",
   "outputs": [],
   "execution_count": null
  },
  {
   "metadata": {},
   "cell_type": "code",
   "source": [
    "# Binary cross entropy loss for scalar\n",
    "def binary_cross_entropy_loss(prediction, target):\n",
    "    epsilon = 1e-8 # To prevent log(0)\n",
    "    prediction = torch.clamp(prediction, epsilon, 1-epsilon)\n",
    "    \"\"\"\" clamp(input, min=None, max=None, *, out=None) -> Tensor\n",
    "    Clamps all elements in :attr:`input` into the range min and max\"\"\"\n",
    "    return -(target*torch.log(prediction) + (1-target)*torch.log(1-prediction))"
   ],
   "id": "88b96d3d72c38282",
   "outputs": [],
   "execution_count": null
  },
  {
   "metadata": {},
   "cell_type": "code",
   "source": [
    "# Forward pass\n",
    "z = w*x +b # Linear part of weighted sum\n",
    "y_pred = torch.sigmoid(z)\n",
    "\n",
    "#compute bce loss\n",
    "loss = binary_cross_entropy_loss(y_pred, y)"
   ],
   "id": "be0e850f7401c6c4",
   "outputs": [],
   "execution_count": null
  },
  {
   "metadata": {},
   "cell_type": "code",
   "source": "loss",
   "id": "92ee46724cef2813",
   "outputs": [],
   "execution_count": null
  },
  {
   "metadata": {},
   "cell_type": "code",
   "source": [
    "# Backpropagation\n",
    "# Derivatives:\n",
    "\n",
    "# 1. dL/d(y_pred): Loss with respect to the prediction (y_pred)\n",
    "dloss_dy_pred = (y_pred - y)/(y_pred*(1-y_pred))\n",
    "\n",
    "# 2. dy_pred/dz: Prediction (y_pred) with respect to z (sigmoid activation)\n",
    "\n",
    "dy_pred_dz = y_pred * (1 - y_pred)\n",
    "\n",
    "# 3. dz/dw and dz/db: z with respect to w and b\n",
    "dz_dw = x\n",
    "dz_db = 1 # bias contributes directly to z\n",
    "\n",
    "dL_dw = dloss_dy_pred * dy_pred_dz * dz_dw\n",
    "dL_db = dloss_dy_pred * dy_pred_dz * dz_db"
   ],
   "id": "dfb7d7e3f22a5295",
   "outputs": [],
   "execution_count": null
  },
  {
   "metadata": {},
   "cell_type": "code",
   "source": [
    "print(f\"Manual Gradient of loss wrt weight (dw): {dL_dw}\")\n",
    "print(f\"Manual Gradient of loss wrt bias (db): {dL_db}\")"
   ],
   "id": "794b04252768b5a6",
   "outputs": [],
   "execution_count": null
  },
  {
   "metadata": {},
   "cell_type": "code",
   "source": [
    "# Now using autograd doing this same neural network\n",
    "\n",
    "\"\"\"\n",
    "We do not need to calculate derivative wrt x or y,\n",
    "so we do not need to use requires_grad while defining x or y\n",
    "\"\"\"\n",
    "x = torch.tensor(6.7)\n",
    "y = torch.tensor(0.0)\n",
    "\n",
    "w = torch.tensor(1.0, requires_grad=True) # Weight\n",
    "b = torch.tensor(0.0, requires_grad=True) # bias"
   ],
   "id": "8c7af85ee03d9c8c",
   "outputs": [],
   "execution_count": null
  },
  {
   "metadata": {},
   "cell_type": "code",
   "source": [
    "# Forward Propagation\n",
    "\n",
    "z = w*x +b\n",
    "z"
   ],
   "id": "91810a3a1e4f28d",
   "outputs": [],
   "execution_count": null
  },
  {
   "metadata": {},
   "cell_type": "code",
   "source": [
    "y_pred = torch.sigmoid(z)\n",
    "y_pred"
   ],
   "id": "b3ff73271f764fb3",
   "outputs": [],
   "execution_count": null
  },
  {
   "metadata": {},
   "cell_type": "code",
   "source": [
    "loss = binary_cross_entropy_loss(y_pred,y)\n",
    "loss"
   ],
   "id": "f764e433617cb464",
   "outputs": [],
   "execution_count": null
  },
  {
   "metadata": {},
   "cell_type": "code",
   "source": [
    "# Backpropagation\n",
    "\n",
    "loss.backward()"
   ],
   "id": "bb4ae04a8c661919",
   "outputs": [],
   "execution_count": null
  },
  {
   "metadata": {},
   "cell_type": "code",
   "source": [
    "print(f\"Manual Gradient of loss wrt weight (dw): {w.grad}\")\n",
    "print(f\"Manual Gradient of loss wrt bias (db): {b.grad}\")"
   ],
   "id": "54bc42d72e917093",
   "outputs": [],
   "execution_count": null
  },
  {
   "metadata": {},
   "cell_type": "code",
   "source": [
    "# We can also calculate gradient for vectors also\n",
    "## NB - RuntimeError: Only Tensors of floating point and complex dtype can require gradients\n",
    "\n",
    "x = torch.tensor([1.,2.,3.], requires_grad=True)\n",
    "y = (x**2).mean()\n",
    "\n",
    "y.backward() # Computes partial differentiation wrt vector\n",
    "x.grad"
   ],
   "id": "31e9cc64367a5e54",
   "outputs": [],
   "execution_count": null
  },
  {
   "metadata": {},
   "cell_type": "code",
   "source": [
    "# Gradients accumulates, we have to clear grads\n",
    "\n",
    "x = torch.tensor(2.0, requires_grad=True)\n",
    "x"
   ],
   "id": "188184ba45c3a42",
   "outputs": [],
   "execution_count": null
  },
  {
   "metadata": {},
   "cell_type": "code",
   "source": [
    "# Forward pass\n",
    "y = (x**2)\n",
    "y"
   ],
   "id": "28ca6b9605594de6",
   "outputs": [],
   "execution_count": null
  },
  {
   "metadata": {},
   "cell_type": "code",
   "source": "y.backward()",
   "id": "7a62623b49e92197",
   "outputs": [],
   "execution_count": null
  },
  {
   "metadata": {},
   "cell_type": "code",
   "source": "x.grad # The value of x.grad gets add during every pass",
   "id": "d330b01a5211f823",
   "outputs": [],
   "execution_count": null
  },
  {
   "metadata": {},
   "cell_type": "code",
   "source": "x.grad.zero_() # After every epoch we clear gradients using this",
   "id": "368ab8857b24b740",
   "outputs": [],
   "execution_count": null
  },
  {
   "metadata": {},
   "cell_type": "code",
   "source": [
    "# Also sometime we do not need to calculate derivatives eg in the time of predictions we do not need gradients\n",
    "# requires_grad takes unnecessary memory space in these situations, we clear it by disabling it\n",
    "# disable gradient tracking\n",
    "x = torch.tensor(2.0, requires_grad=True)\n",
    "x"
   ],
   "id": "71536904319b7b8d",
   "outputs": [],
   "execution_count": null
  },
  {
   "metadata": {},
   "cell_type": "code",
   "source": [
    "# Forward pass\n",
    "y = (x**2)\n",
    "y"
   ],
   "id": "efd9c60b204509e3",
   "outputs": [],
   "execution_count": null
  },
  {
   "metadata": {},
   "cell_type": "code",
   "source": [
    "y.backward()\n",
    "x.grad"
   ],
   "id": "cbdbd955f8130586",
   "outputs": [],
   "execution_count": null
  },
  {
   "metadata": {},
   "cell_type": "markdown",
   "source": "##### Option 1: requires_grad_(False)",
   "id": "f2f68f85d82a5d0f"
  },
  {
   "metadata": {},
   "cell_type": "code",
   "source": [
    "x = torch.tensor(2.0, requires_grad=True)\n",
    "x"
   ],
   "id": "bacfae24ade08b34",
   "outputs": [],
   "execution_count": null
  },
  {
   "metadata": {},
   "cell_type": "code",
   "source": "x.requires_grad_(False)",
   "id": "7a02ad6daa9c69fc",
   "outputs": [],
   "execution_count": null
  },
  {
   "metadata": {},
   "cell_type": "code",
   "source": "y = x**2",
   "id": "8f596b666162728c",
   "outputs": [],
   "execution_count": null
  },
  {
   "metadata": {},
   "cell_type": "code",
   "source": [
    "# y.backward()\n",
    "# Output: RuntimeError: element 0 of tensors does not require grad and does not have a grad_fn"
   ],
   "id": "e75fb4be1895124b",
   "outputs": [],
   "execution_count": null
  },
  {
   "metadata": {},
   "cell_type": "markdown",
   "source": "##### Option 2: detach()",
   "id": "2b34e0e9d1e8d95d"
  },
  {
   "metadata": {},
   "cell_type": "code",
   "source": [
    "x = torch.tensor(2.0, requires_grad=True)\n",
    "x"
   ],
   "id": "5808bc08b18fbb6d",
   "outputs": [],
   "execution_count": null
  },
  {
   "metadata": {},
   "cell_type": "code",
   "source": [
    "z = x.detach()\n",
    "z"
   ],
   "id": "e30d294914ceb76f",
   "outputs": [],
   "execution_count": null
  },
  {
   "metadata": {},
   "cell_type": "code",
   "source": [
    "y = x**2\n",
    "y1 = z**2\n",
    "print(y)\n",
    "print(y1)"
   ],
   "id": "642651ff25a237a9",
   "outputs": [],
   "execution_count": null
  },
  {
   "metadata": {},
   "cell_type": "markdown",
   "source": "##### Option 3: torch.no_grad()",
   "id": "9e3ba6c54d134c00"
  },
  {
   "metadata": {
    "ExecuteTime": {
     "end_time": "2025-07-07T08:30:31.047309Z",
     "start_time": "2025-07-07T08:30:31.012699Z"
    }
   },
   "cell_type": "code",
   "source": [
    "x = torch.tensor(2.0, requires_grad=True)\n",
    "x"
   ],
   "id": "b914c01bdb81909f",
   "outputs": [
    {
     "data": {
      "text/plain": [
       "tensor(2., requires_grad=True)"
      ]
     },
     "execution_count": 13,
     "metadata": {},
     "output_type": "execute_result"
    }
   ],
   "execution_count": 13
  },
  {
   "metadata": {
    "ExecuteTime": {
     "end_time": "2025-07-07T08:30:32.524928Z",
     "start_time": "2025-07-07T08:30:32.515185Z"
    }
   },
   "cell_type": "code",
   "source": [
    "with torch.no_grad():\n",
    "    y = x**2\n",
    "y"
   ],
   "id": "387dfc465369f21e",
   "outputs": [
    {
     "data": {
      "text/plain": [
       "tensor(4.)"
      ]
     },
     "execution_count": 14,
     "metadata": {},
     "output_type": "execute_result"
    }
   ],
   "execution_count": 14
  },
  {
   "metadata": {
    "ExecuteTime": {
     "end_time": "2025-07-07T08:30:33.629012Z",
     "start_time": "2025-07-07T08:30:33.625322Z"
    }
   },
   "cell_type": "code",
   "source": [
    "# training pipeline\n",
    "\n",
    "import numpy as np\n",
    "import pandas as pd\n",
    "import torch\n",
    "from sklearn.model_selection import train_test_split\n",
    "from sklearn.preprocessing import StandardScaler, LabelEncoder"
   ],
   "id": "7f78c3856723c12f",
   "outputs": [],
   "execution_count": 15
  },
  {
   "metadata": {
    "ExecuteTime": {
     "end_time": "2025-07-07T08:30:35.297398Z",
     "start_time": "2025-07-07T08:30:34.908957Z"
    }
   },
   "cell_type": "code",
   "source": [
    "df = pd.read_csv('https://raw.githubusercontent.com/gscdit/Breast-Cancer-Detection/refs/heads/master/data.csv')\n",
    "df.head()"
   ],
   "id": "fb2017816e6fa300",
   "outputs": [
    {
     "data": {
      "text/plain": [
       "         id diagnosis  radius_mean  texture_mean  perimeter_mean  area_mean  \\\n",
       "0    842302         M        17.99         10.38          122.80     1001.0   \n",
       "1    842517         M        20.57         17.77          132.90     1326.0   \n",
       "2  84300903         M        19.69         21.25          130.00     1203.0   \n",
       "3  84348301         M        11.42         20.38           77.58      386.1   \n",
       "4  84358402         M        20.29         14.34          135.10     1297.0   \n",
       "\n",
       "   smoothness_mean  compactness_mean  concavity_mean  concave points_mean  \\\n",
       "0          0.11840           0.27760          0.3001              0.14710   \n",
       "1          0.08474           0.07864          0.0869              0.07017   \n",
       "2          0.10960           0.15990          0.1974              0.12790   \n",
       "3          0.14250           0.28390          0.2414              0.10520   \n",
       "4          0.10030           0.13280          0.1980              0.10430   \n",
       "\n",
       "   ...  texture_worst  perimeter_worst  area_worst  smoothness_worst  \\\n",
       "0  ...          17.33           184.60      2019.0            0.1622   \n",
       "1  ...          23.41           158.80      1956.0            0.1238   \n",
       "2  ...          25.53           152.50      1709.0            0.1444   \n",
       "3  ...          26.50            98.87       567.7            0.2098   \n",
       "4  ...          16.67           152.20      1575.0            0.1374   \n",
       "\n",
       "   compactness_worst  concavity_worst  concave points_worst  symmetry_worst  \\\n",
       "0             0.6656           0.7119                0.2654          0.4601   \n",
       "1             0.1866           0.2416                0.1860          0.2750   \n",
       "2             0.4245           0.4504                0.2430          0.3613   \n",
       "3             0.8663           0.6869                0.2575          0.6638   \n",
       "4             0.2050           0.4000                0.1625          0.2364   \n",
       "\n",
       "   fractal_dimension_worst  Unnamed: 32  \n",
       "0                  0.11890          NaN  \n",
       "1                  0.08902          NaN  \n",
       "2                  0.08758          NaN  \n",
       "3                  0.17300          NaN  \n",
       "4                  0.07678          NaN  \n",
       "\n",
       "[5 rows x 33 columns]"
      ],
      "text/html": [
       "<div>\n",
       "<style scoped>\n",
       "    .dataframe tbody tr th:only-of-type {\n",
       "        vertical-align: middle;\n",
       "    }\n",
       "\n",
       "    .dataframe tbody tr th {\n",
       "        vertical-align: top;\n",
       "    }\n",
       "\n",
       "    .dataframe thead th {\n",
       "        text-align: right;\n",
       "    }\n",
       "</style>\n",
       "<table border=\"1\" class=\"dataframe\">\n",
       "  <thead>\n",
       "    <tr style=\"text-align: right;\">\n",
       "      <th></th>\n",
       "      <th>id</th>\n",
       "      <th>diagnosis</th>\n",
       "      <th>radius_mean</th>\n",
       "      <th>texture_mean</th>\n",
       "      <th>perimeter_mean</th>\n",
       "      <th>area_mean</th>\n",
       "      <th>smoothness_mean</th>\n",
       "      <th>compactness_mean</th>\n",
       "      <th>concavity_mean</th>\n",
       "      <th>concave points_mean</th>\n",
       "      <th>...</th>\n",
       "      <th>texture_worst</th>\n",
       "      <th>perimeter_worst</th>\n",
       "      <th>area_worst</th>\n",
       "      <th>smoothness_worst</th>\n",
       "      <th>compactness_worst</th>\n",
       "      <th>concavity_worst</th>\n",
       "      <th>concave points_worst</th>\n",
       "      <th>symmetry_worst</th>\n",
       "      <th>fractal_dimension_worst</th>\n",
       "      <th>Unnamed: 32</th>\n",
       "    </tr>\n",
       "  </thead>\n",
       "  <tbody>\n",
       "    <tr>\n",
       "      <th>0</th>\n",
       "      <td>842302</td>\n",
       "      <td>M</td>\n",
       "      <td>17.99</td>\n",
       "      <td>10.38</td>\n",
       "      <td>122.80</td>\n",
       "      <td>1001.0</td>\n",
       "      <td>0.11840</td>\n",
       "      <td>0.27760</td>\n",
       "      <td>0.3001</td>\n",
       "      <td>0.14710</td>\n",
       "      <td>...</td>\n",
       "      <td>17.33</td>\n",
       "      <td>184.60</td>\n",
       "      <td>2019.0</td>\n",
       "      <td>0.1622</td>\n",
       "      <td>0.6656</td>\n",
       "      <td>0.7119</td>\n",
       "      <td>0.2654</td>\n",
       "      <td>0.4601</td>\n",
       "      <td>0.11890</td>\n",
       "      <td>NaN</td>\n",
       "    </tr>\n",
       "    <tr>\n",
       "      <th>1</th>\n",
       "      <td>842517</td>\n",
       "      <td>M</td>\n",
       "      <td>20.57</td>\n",
       "      <td>17.77</td>\n",
       "      <td>132.90</td>\n",
       "      <td>1326.0</td>\n",
       "      <td>0.08474</td>\n",
       "      <td>0.07864</td>\n",
       "      <td>0.0869</td>\n",
       "      <td>0.07017</td>\n",
       "      <td>...</td>\n",
       "      <td>23.41</td>\n",
       "      <td>158.80</td>\n",
       "      <td>1956.0</td>\n",
       "      <td>0.1238</td>\n",
       "      <td>0.1866</td>\n",
       "      <td>0.2416</td>\n",
       "      <td>0.1860</td>\n",
       "      <td>0.2750</td>\n",
       "      <td>0.08902</td>\n",
       "      <td>NaN</td>\n",
       "    </tr>\n",
       "    <tr>\n",
       "      <th>2</th>\n",
       "      <td>84300903</td>\n",
       "      <td>M</td>\n",
       "      <td>19.69</td>\n",
       "      <td>21.25</td>\n",
       "      <td>130.00</td>\n",
       "      <td>1203.0</td>\n",
       "      <td>0.10960</td>\n",
       "      <td>0.15990</td>\n",
       "      <td>0.1974</td>\n",
       "      <td>0.12790</td>\n",
       "      <td>...</td>\n",
       "      <td>25.53</td>\n",
       "      <td>152.50</td>\n",
       "      <td>1709.0</td>\n",
       "      <td>0.1444</td>\n",
       "      <td>0.4245</td>\n",
       "      <td>0.4504</td>\n",
       "      <td>0.2430</td>\n",
       "      <td>0.3613</td>\n",
       "      <td>0.08758</td>\n",
       "      <td>NaN</td>\n",
       "    </tr>\n",
       "    <tr>\n",
       "      <th>3</th>\n",
       "      <td>84348301</td>\n",
       "      <td>M</td>\n",
       "      <td>11.42</td>\n",
       "      <td>20.38</td>\n",
       "      <td>77.58</td>\n",
       "      <td>386.1</td>\n",
       "      <td>0.14250</td>\n",
       "      <td>0.28390</td>\n",
       "      <td>0.2414</td>\n",
       "      <td>0.10520</td>\n",
       "      <td>...</td>\n",
       "      <td>26.50</td>\n",
       "      <td>98.87</td>\n",
       "      <td>567.7</td>\n",
       "      <td>0.2098</td>\n",
       "      <td>0.8663</td>\n",
       "      <td>0.6869</td>\n",
       "      <td>0.2575</td>\n",
       "      <td>0.6638</td>\n",
       "      <td>0.17300</td>\n",
       "      <td>NaN</td>\n",
       "    </tr>\n",
       "    <tr>\n",
       "      <th>4</th>\n",
       "      <td>84358402</td>\n",
       "      <td>M</td>\n",
       "      <td>20.29</td>\n",
       "      <td>14.34</td>\n",
       "      <td>135.10</td>\n",
       "      <td>1297.0</td>\n",
       "      <td>0.10030</td>\n",
       "      <td>0.13280</td>\n",
       "      <td>0.1980</td>\n",
       "      <td>0.10430</td>\n",
       "      <td>...</td>\n",
       "      <td>16.67</td>\n",
       "      <td>152.20</td>\n",
       "      <td>1575.0</td>\n",
       "      <td>0.1374</td>\n",
       "      <td>0.2050</td>\n",
       "      <td>0.4000</td>\n",
       "      <td>0.1625</td>\n",
       "      <td>0.2364</td>\n",
       "      <td>0.07678</td>\n",
       "      <td>NaN</td>\n",
       "    </tr>\n",
       "  </tbody>\n",
       "</table>\n",
       "<p>5 rows × 33 columns</p>\n",
       "</div>"
      ]
     },
     "execution_count": 16,
     "metadata": {},
     "output_type": "execute_result"
    }
   ],
   "execution_count": 16
  },
  {
   "metadata": {},
   "cell_type": "code",
   "source": "df.columns",
   "id": "ccef01515e7594a8",
   "outputs": [],
   "execution_count": null
  },
  {
   "metadata": {},
   "cell_type": "code",
   "source": "df.shape",
   "id": "1ae048b6d4800339",
   "outputs": [],
   "execution_count": null
  },
  {
   "metadata": {
    "ExecuteTime": {
     "end_time": "2025-07-07T08:30:37.584564Z",
     "start_time": "2025-07-07T08:30:37.580949Z"
    }
   },
   "cell_type": "code",
   "source": [
    "# Remove unwanted columns\n",
    "\n",
    "df = df.drop(columns=['id','Unnamed: 32'])"
   ],
   "id": "e809ea51d163ddd8",
   "outputs": [],
   "execution_count": 17
  },
  {
   "metadata": {},
   "cell_type": "code",
   "source": "df.columns",
   "id": "25b9d42aa30fc869",
   "outputs": [],
   "execution_count": null
  },
  {
   "metadata": {},
   "cell_type": "code",
   "source": "df.shape",
   "id": "1295ae8df85f41a3",
   "outputs": [],
   "execution_count": null
  },
  {
   "metadata": {},
   "cell_type": "code",
   "source": "df.iloc[:,1:] # All rows, from 2nd columns",
   "id": "8ab0f6da4f421ea3",
   "outputs": [],
   "execution_count": null
  },
  {
   "metadata": {},
   "cell_type": "code",
   "source": "df.iloc[:,0] # All rows, only first column",
   "id": "f513cc1f07b945a2",
   "outputs": [],
   "execution_count": null
  },
  {
   "metadata": {
    "ExecuteTime": {
     "end_time": "2025-07-07T08:30:40.518916Z",
     "start_time": "2025-07-07T08:30:40.505555Z"
    }
   },
   "cell_type": "code",
   "source": "X_train, X_test, y_train, y_test = train_test_split(df.iloc[:,1:], df.iloc[:,0], test_size=0.2)",
   "id": "260dba5a714497ec",
   "outputs": [],
   "execution_count": 18
  },
  {
   "metadata": {
    "ExecuteTime": {
     "end_time": "2025-07-07T08:30:41.799314Z",
     "start_time": "2025-07-07T08:30:41.790696Z"
    }
   },
   "cell_type": "code",
   "source": [
    "# Scaling\n",
    "\n",
    "scalar = StandardScaler()\n",
    "X_train = scalar.fit_transform(X_train)\n",
    "X_test = scalar.transform(X_test)"
   ],
   "id": "f744f3873fac777e",
   "outputs": [],
   "execution_count": 19
  },
  {
   "metadata": {
    "ExecuteTime": {
     "end_time": "2025-07-07T08:30:42.979004Z",
     "start_time": "2025-07-07T08:30:42.975664Z"
    }
   },
   "cell_type": "code",
   "source": [
    "# Label Encoding\n",
    "\n",
    "# \"The model might mis-interpret this encoding to be ordinal nature that is 1>0,\n",
    "# will try to use one-hot encoding here afterward\" - This ides is wrong here;\n",
    "# label encoding is appropriate here as we have only two classes i.e. binary - it's just binary to the model\n",
    "# Models will learn to predict either 0 or 1.; No false ordering issue since there are only two options.\n",
    "# NB - Most PyTorch loss functions (like nn.BCEWithLogitsLoss or nn.CrossEntropyLoss) expect class labels as integers.\n",
    "\n",
    "encoder = LabelEncoder()\n",
    "y_train = encoder.fit_transform(y_train)\n",
    "y_test = encoder.transform(y_test)"
   ],
   "id": "a23d1f11f75b23f6",
   "outputs": [],
   "execution_count": 20
  },
  {
   "metadata": {},
   "cell_type": "code",
   "source": "y_train",
   "id": "a4e59ea415471537",
   "outputs": [],
   "execution_count": null
  },
  {
   "metadata": {
    "ExecuteTime": {
     "end_time": "2025-07-07T08:30:45.357660Z",
     "start_time": "2025-07-07T08:30:45.354229Z"
    }
   },
   "cell_type": "code",
   "source": [
    "# Converting all these numpy arrays to torch tensors\n",
    "X_train_tensor = torch.from_numpy(X_train)\n",
    "X_test_tensor = torch.from_numpy(X_test)\n",
    "y_train_tensor = torch.from_numpy(y_train)\n",
    "y_test_tensor = torch.from_numpy(y_test)"
   ],
   "id": "6737b611367b1f35",
   "outputs": [],
   "execution_count": 21
  },
  {
   "metadata": {},
   "cell_type": "code",
   "source": [
    "print(X_train_tensor.shape)\n",
    "print(y_train_tensor.shape)"
   ],
   "id": "e3b51604761e8321",
   "outputs": [],
   "execution_count": null
  },
  {
   "metadata": {
    "ExecuteTime": {
     "end_time": "2025-07-07T08:30:47.573781Z",
     "start_time": "2025-07-07T08:30:47.565156Z"
    }
   },
   "cell_type": "code",
   "source": "X_train_tensor[0][0]",
   "id": "30a51de9a1e67e00",
   "outputs": [
    {
     "data": {
      "text/plain": [
       "tensor(1.4458, dtype=torch.float64)"
      ]
     },
     "execution_count": 22,
     "metadata": {},
     "output_type": "execute_result"
    }
   ],
   "execution_count": 22
  },
  {
   "metadata": {
    "ExecuteTime": {
     "end_time": "2025-07-07T08:30:48.826475Z",
     "start_time": "2025-07-07T08:30:48.822407Z"
    }
   },
   "cell_type": "code",
   "source": [
    "# Defining the model using python OOP to implement training in pytorch\n",
    "# We will be using a single neuron here and it will take input directly from our training data\n",
    "# We have 30 features in our training dataset, so our simple NN here will have 30 weights\n",
    "# and one bias\n",
    "\n",
    "class MySimpleNN():\n",
    "    # defining a constructor\n",
    "    def __init__(self, X):\n",
    "        # Creating a weight matrix of size 30x1 (30 input feature); float64 because the training data has same dtype\n",
    "        self.weights = torch.rand(X.shape[1], 1, dtype = torch.float64, requires_grad=True)\n",
    "        # As we have only 1 neuron we require only 1 item\n",
    "        self.bias = torch.zeros(1, dtype = torch.float64, requires_grad=True)\n",
    "    def forward(self, X):\n",
    "        z = torch.matmul(X, self.weights) + self.bias\n",
    "        y_pred = torch.sigmoid(z)\n",
    "        return y_pred\n",
    "    # As we are working on a classification problem we will use bce loss\n",
    "    def loss(self, y_pred, y):\n",
    "        # Clamp predictions to avoid log(0)\n",
    "        epsilon  = 1e-7\n",
    "        y_pred = torch.clamp(y_pred, epsilon, 1-epsilon)\n",
    "        # calculating the mean to find the overall loss\n",
    "        loss = -(y*torch.log(y_pred) + (1-y)*torch.log(1-y_pred)).mean()\n",
    "        return loss\n",
    "\n"
   ],
   "id": "617354420265d793",
   "outputs": [],
   "execution_count": 23
  },
  {
   "metadata": {
    "ExecuteTime": {
     "end_time": "2025-07-07T08:30:50.623828Z",
     "start_time": "2025-07-07T08:30:50.621191Z"
    }
   },
   "cell_type": "code",
   "source": [
    "# defining params\n",
    "\n",
    "lr = 0.1\n",
    "epochs = 25"
   ],
   "id": "d888e4eb6c5990b7",
   "outputs": [],
   "execution_count": 24
  },
  {
   "metadata": {},
   "cell_type": "markdown",
   "source": [
    "The formula to calculate new weights is -\n",
    "\n",
    "$ W_{\\text{new}} = W_{\\text{old}} - lr \\cdot \\frac{\\partial L}{\\partial w} $\n",
    "\n",
    "The formula to calculate new bias is -\n",
    "\n",
    "$ b_{\\text{new}} = b_{\\text{old}} - lr \\cdot \\frac{\\partial L}{\\partial b} $\n",
    "\n"
   ],
   "id": "b70238700013475c"
  },
  {
   "metadata": {
    "ExecuteTime": {
     "end_time": "2025-07-07T08:30:53.045081Z",
     "start_time": "2025-07-07T08:30:52.996506Z"
    }
   },
   "cell_type": "code",
   "source": [
    "# Training pipeline\n",
    "\n",
    "# create model\n",
    "# to create a model we have to follow mainly four steps and these four steps will be in a loop of epoch times\n",
    "# 1. Forward Pass > 2. Calculate Loss > 3. Backpropagation(Differentiation takes place here)\n",
    "# > 4. Update params like weights and biases\n",
    "\n",
    "model = MySimpleNN(X_train_tensor)\n",
    "\n",
    "for epoch in range(epochs):\n",
    "    # Forward Pass (calculate wx+b and calculate sigmoid)\n",
    "    y_pred = model.forward(X_train_tensor)\n",
    "\n",
    "    # calculate loss\n",
    "    loss = model.loss(y_pred, y_train_tensor)\n",
    "\n",
    "    # backpropagation\n",
    "    loss.backward()\n",
    "\n",
    "    # update params\n",
    "    # In parameters requires grad is set to true; but in this operation we don't need to calculate the gradient\n",
    "    with torch.no_grad():\n",
    "        model.weights -= lr*model.weights.grad\n",
    "        model.bias -= lr*model.bias.grad\n",
    "\n",
    "    # And also there is the problem of gradient accumulation so we set the grad to zero in every epoch\n",
    "    model.weights.grad.zero_()\n",
    "    model.bias.grad.zero_()\n",
    "\n",
    "    # print loss in each epoch\n",
    "    # if epoch % 100 == 0:\n",
    "    print(f'Epoch: {epoch+1}, loss: {loss.item()}')\n",
    "\n"
   ],
   "id": "2c39473bb08d9d8",
   "outputs": [
    {
     "name": "stdout",
     "output_type": "stream",
     "text": [
      "Epoch: 1, loss: 2.9826517073395094\n",
      "Epoch: 2, loss: 2.8252030174994576\n",
      "Epoch: 3, loss: 2.6690806948215617\n",
      "Epoch: 4, loss: 2.509602662900781\n",
      "Epoch: 5, loss: 2.3455111766795382\n",
      "Epoch: 6, loss: 2.1831351930407914\n",
      "Epoch: 7, loss: 2.025070462752566\n",
      "Epoch: 8, loss: 1.8690008825135984\n",
      "Epoch: 9, loss: 1.7187976359014792\n",
      "Epoch: 10, loss: 1.5783191765230717\n",
      "Epoch: 11, loss: 1.4459456740531464\n",
      "Epoch: 12, loss: 1.3240500141706697\n",
      "Epoch: 13, loss: 1.2126432602562218\n",
      "Epoch: 14, loss: 1.1177337700929242\n",
      "Epoch: 15, loss: 1.0393692969614532\n",
      "Epoch: 16, loss: 0.9765773487633235\n",
      "Epoch: 17, loss: 0.9273767759793422\n",
      "Epoch: 18, loss: 0.8891792803398746\n",
      "Epoch: 19, loss: 0.8593591662492639\n",
      "Epoch: 20, loss: 0.8356695175088228\n",
      "Epoch: 21, loss: 0.8163982447150554\n",
      "Epoch: 22, loss: 0.8003363904805036\n",
      "Epoch: 23, loss: 0.7866674123746201\n",
      "Epoch: 24, loss: 0.774849399384916\n",
      "Epoch: 25, loss: 0.7645197812969187\n"
     ]
    }
   ],
   "execution_count": 25
  },
  {
   "metadata": {
    "ExecuteTime": {
     "end_time": "2025-07-07T08:32:23.388183Z",
     "start_time": "2025-07-07T08:32:23.380456Z"
    }
   },
   "cell_type": "code",
   "source": "model.weights",
   "id": "75366b7f04757ded",
   "outputs": [
    {
     "data": {
      "text/plain": [
       "tensor([[-0.2454],\n",
       "        [-0.2171],\n",
       "        [-0.2040],\n",
       "        [-0.2637],\n",
       "        [ 0.1746],\n",
       "        [-0.0341],\n",
       "        [ 0.4105],\n",
       "        [ 0.4204],\n",
       "        [-0.2567],\n",
       "        [-0.1549],\n",
       "        [-0.2874],\n",
       "        [ 0.0737],\n",
       "        [ 0.3970],\n",
       "        [ 0.5125],\n",
       "        [ 0.0922],\n",
       "        [ 0.1048],\n",
       "        [-0.3304],\n",
       "        [ 0.1845],\n",
       "        [ 0.3227],\n",
       "        [ 0.0458],\n",
       "        [-0.2591],\n",
       "        [ 0.4221],\n",
       "        [-0.0415],\n",
       "        [-0.0289],\n",
       "        [-0.2317],\n",
       "        [-0.3488],\n",
       "        [ 0.4860],\n",
       "        [-0.2864],\n",
       "        [ 0.0575],\n",
       "        [-0.1747]], dtype=torch.float64, requires_grad=True)"
      ]
     },
     "execution_count": 30,
     "metadata": {},
     "output_type": "execute_result"
    }
   ],
   "execution_count": 30
  },
  {
   "metadata": {
    "ExecuteTime": {
     "end_time": "2025-07-07T08:30:56.398905Z",
     "start_time": "2025-07-07T08:30:56.392850Z"
    }
   },
   "cell_type": "code",
   "source": "model.bias",
   "id": "3f438651a105d04a",
   "outputs": [
    {
     "data": {
      "text/plain": [
       "tensor([-0.1705], dtype=torch.float64, requires_grad=True)"
      ]
     },
     "execution_count": 26,
     "metadata": {},
     "output_type": "execute_result"
    }
   ],
   "execution_count": 26
  },
  {
   "metadata": {},
   "cell_type": "code",
   "source": [
    "print(model.weights.shape)\n",
    "print(model.bias.shape)"
   ],
   "id": "aeb3a1a8f04f27f9",
   "outputs": [],
   "execution_count": null
  },
  {
   "metadata": {},
   "cell_type": "code",
   "source": [
    "# Evaluation\n",
    "\n",
    "with torch.no_grad():\n",
    "    y_pred = model.forward(X_test_tensor)\n",
    "    # y_pred will have value b/w 0 and 1 but we will apply threshold to be able to compare it with original labels\n",
    "    y_pred = (y_pred > 0.9).float()\n",
    "    accuracy = (y_pred == y_test_tensor).float().mean()\n",
    "    print(f'Accuracy: {accuracy:.4f}')\n"
   ],
   "id": "48416148a1aeb804",
   "outputs": [],
   "execution_count": null
  },
  {
   "metadata": {},
   "cell_type": "code",
   "source": [
    "# Now we will try to do some improvements\n",
    "# 1. Building the NN using torch.nn module\n",
    "# 2. Using built-inn activation fnc\n",
    "# 3. Using Built-in loss function\n",
    "# 4. Using built-in optimizer\n",
    "\n",
    "# Modules(layers) - nn.Linear(fully connected layers), nn.Conv2d, nn.LSTM(recurrent layer) etc\n",
    "# Activation Fnc - nn.ReLU, nn.Sigmoid, nn.Tanh\n",
    "# Loss Fnc - nn.CrossEntropy, nn.MSELoss, nn.NLLLoss\n",
    "# Container Modules - nn.Sequential - to stack layers in order\n",
    "# Regularization & Droupout - nn.Dropout, nn.BatchNorm2d help prevent overfitting"
   ],
   "id": "80c5b3b6984a7dc7",
   "outputs": [],
   "execution_count": null
  },
  {
   "metadata": {
    "ExecuteTime": {
     "end_time": "2025-07-07T08:32:35.082081Z",
     "start_time": "2025-07-07T08:32:35.078399Z"
    }
   },
   "cell_type": "code",
   "source": [
    "import torch\n",
    "import torch.nn as nn\n",
    "import numpy as np\n",
    "import pandas as pd"
   ],
   "id": "11fe56e983f20cdd",
   "outputs": [],
   "execution_count": 31
  },
  {
   "metadata": {
    "ExecuteTime": {
     "end_time": "2025-07-07T08:32:37.672972Z",
     "start_time": "2025-07-07T08:32:37.669291Z"
    }
   },
   "cell_type": "code",
   "source": [
    "# Creating the base class, which will have all the functionality of the neural network\n",
    "# The class will inherit from nn.Module to get its offerings\n",
    "\n",
    "class Model(nn.Module):\n",
    "    def __init__(self, num_features):\n",
    "        super().__init__() # Invoking the constructor of the parent class with the help of super keyword\n",
    "        # i.e. it is inheriting the properties of nn.module by this\n",
    "        # Now creating a single neuron\n",
    "        self.linear = nn.Linear(num_features, 1, bias=True)  # learns an additive bias (default)\n",
    "        self.sigmoid = nn.Sigmoid()\n",
    "\n",
    "    def forward(self, features):\n",
    "        out = self.linear(features) # calculating z = wx+b here\n",
    "        out = self.sigmoid(out)\n",
    "        return out"
   ],
   "id": "308b58340c5dc0f8",
   "outputs": [],
   "execution_count": 32
  },
  {
   "metadata": {
    "ExecuteTime": {
     "end_time": "2025-07-07T08:32:39.192808Z",
     "start_time": "2025-07-07T08:32:39.179987Z"
    }
   },
   "cell_type": "code",
   "source": [
    "# Creating fake dataset\n",
    "\n",
    "features = torch.rand(10,5)\n",
    "\n",
    "model = Model(features.shape[1]) # taking 5 as features\n",
    "\n",
    "# model.forward(features) # this also works\n",
    "\n",
    "# pytorch uses a magic function named __call__ to override nn.module class\n",
    "# and to invoke forward method whenever any class object is called ( recommended by pytorch)\n",
    "print(model(features))"
   ],
   "id": "6eab80becc498507",
   "outputs": [
    {
     "name": "stdout",
     "output_type": "stream",
     "text": [
      "tensor([[0.4660],\n",
      "        [0.4975],\n",
      "        [0.6058],\n",
      "        [0.3678],\n",
      "        [0.4299],\n",
      "        [0.4523],\n",
      "        [0.4682],\n",
      "        [0.4856],\n",
      "        [0.4630],\n",
      "        [0.4700]], grad_fn=<SigmoidBackward0>)\n"
     ]
    }
   ],
   "execution_count": 33
  },
  {
   "metadata": {
    "ExecuteTime": {
     "end_time": "2025-07-07T08:32:51.387912Z",
     "start_time": "2025-07-07T08:32:51.382225Z"
    }
   },
   "cell_type": "code",
   "source": [
    "# TO show model weight and bias\n",
    "\n",
    "print(model.linear.weight)\n",
    "print(model.linear.bias)"
   ],
   "id": "9ed05083ed8650ce",
   "outputs": [
    {
     "name": "stdout",
     "output_type": "stream",
     "text": [
      "Parameter containing:\n",
      "tensor([[ 0.4470,  0.0845,  0.1378, -0.4171, -0.2937]], requires_grad=True)\n",
      "Parameter containing:\n",
      "tensor([-0.1489], requires_grad=True)\n"
     ]
    }
   ],
   "execution_count": 34
  },
  {
   "metadata": {},
   "cell_type": "code",
   "source": [
    "from torchinfo import summary\n",
    "\n",
    "summary(model, input_size=(10,5))"
   ],
   "id": "2dff834b322eed90",
   "outputs": [],
   "execution_count": null
  },
  {
   "metadata": {},
   "cell_type": "code",
   "source": [
    "# Now lets introduce a hidden layer with 3 neurons\n",
    "\n",
    "import torch\n",
    "import torch.nn as nn\n",
    "\n",
    "class Model(nn.Module):\n",
    "    def __init__(self, num_features):\n",
    "        super().__init__()\n",
    "        # hidden layer  is taking 5 input features and giving output 3 weights\n",
    "        self.linear1 = nn.Linear(num_features, 3)\n",
    "        self.relu = nn.ReLU()\n",
    "        self.linear2 = nn.Linear(3,1)\n",
    "        self.sigmoid = nn.Sigmoid()\n",
    "\n",
    "    def forward(self, features):\n",
    "        out = self.linear1(features)\n",
    "        out = self.relu(out)\n",
    "        out = self.linear2(out)\n",
    "        out = self.sigmoid(out)\n",
    "        return out"
   ],
   "id": "21b8e5b2669815fb",
   "outputs": [],
   "execution_count": null
  },
  {
   "metadata": {},
   "cell_type": "code",
   "source": [
    "# Creating fake dataset\n",
    "\n",
    "features = torch.rand(10,5)\n",
    "\n",
    "model = Model(features.shape[1]) # taking 5 as features\n",
    "\n",
    "print(model(features))"
   ],
   "id": "6c1cd98324a75884",
   "outputs": [],
   "execution_count": null
  },
  {
   "metadata": {},
   "cell_type": "code",
   "source": [
    "# TO show model weight and bias\n",
    "\n",
    "print(model.linear1.weight)\n",
    "print(model.linear1.bias)"
   ],
   "id": "27e378e4f3d5850f",
   "outputs": [],
   "execution_count": null
  },
  {
   "metadata": {},
   "cell_type": "code",
   "source": [
    "# TO show model weight and bias\n",
    "\n",
    "print(model.linear2.weight)\n",
    "print(model.linear2.bias)"
   ],
   "id": "b00697bc471c4d9d",
   "outputs": [],
   "execution_count": null
  },
  {
   "metadata": {},
   "cell_type": "code",
   "source": [
    "from torchinfo import summary\n",
    "\n",
    "summary(model, input_size=(10,5))"
   ],
   "id": "2b31ce9029327999",
   "outputs": [],
   "execution_count": null
  },
  {
   "metadata": {},
   "cell_type": "code",
   "source": [
    "# Now we will use Sequential container\n",
    "\n",
    "# Now lets introduce a hidden layer with 3 neurons\n",
    "\n",
    "import torch\n",
    "import torch.nn as nn\n",
    "\n",
    "class Model(nn.Module):\n",
    "    def __init__(self, num_features):\n",
    "        super().__init__()\n",
    "        # hidden layer  is taking 5 input features and giving output 3 weights\n",
    "        # Sequential Container\n",
    "        self.network = nn.Sequential(\n",
    "            nn.Linear(num_features, 3),\n",
    "            nn.ReLU(),\n",
    "            nn.Linear(3,1),\n",
    "            nn.Sigmoid()\n",
    "        )\n",
    "\n",
    "    def forward(self, features):\n",
    "        out = self.network(features)\n",
    "        return out"
   ],
   "id": "f224f6531f69ad",
   "outputs": [],
   "execution_count": null
  },
  {
   "metadata": {},
   "cell_type": "code",
   "source": [
    "# Creating fake dataset\n",
    "\n",
    "features = torch.rand(10,5)\n",
    "\n",
    "model = Model(features.shape[1]) # taking 5 as features\n",
    "\n",
    "print(model(features))"
   ],
   "id": "7a4f22e3d02be79a",
   "outputs": [],
   "execution_count": null
  },
  {
   "metadata": {
    "ExecuteTime": {
     "end_time": "2025-07-07T08:33:24.277161Z",
     "start_time": "2025-07-07T08:33:24.273628Z"
    }
   },
   "cell_type": "code",
   "source": [
    "# new training pipeline\n",
    "\n",
    "import numpy as np\n",
    "import pandas as pd\n",
    "import torch\n",
    "import torch.nn as nn\n",
    "from sklearn.model_selection import train_test_split\n",
    "from sklearn.preprocessing import StandardScaler, LabelEncoder"
   ],
   "id": "d8b902640fff498c",
   "outputs": [],
   "execution_count": 35
  },
  {
   "metadata": {
    "ExecuteTime": {
     "end_time": "2025-07-07T08:33:25.507296Z",
     "start_time": "2025-07-07T08:33:25.457801Z"
    }
   },
   "cell_type": "code",
   "source": [
    "df = pd.read_csv('https://raw.githubusercontent.com/gscdit/Breast-Cancer-Detection/refs/heads/master/data.csv')\n",
    "df.head()"
   ],
   "id": "c51709ff74fff337",
   "outputs": [
    {
     "data": {
      "text/plain": [
       "         id diagnosis  radius_mean  texture_mean  perimeter_mean  area_mean  \\\n",
       "0    842302         M        17.99         10.38          122.80     1001.0   \n",
       "1    842517         M        20.57         17.77          132.90     1326.0   \n",
       "2  84300903         M        19.69         21.25          130.00     1203.0   \n",
       "3  84348301         M        11.42         20.38           77.58      386.1   \n",
       "4  84358402         M        20.29         14.34          135.10     1297.0   \n",
       "\n",
       "   smoothness_mean  compactness_mean  concavity_mean  concave points_mean  \\\n",
       "0          0.11840           0.27760          0.3001              0.14710   \n",
       "1          0.08474           0.07864          0.0869              0.07017   \n",
       "2          0.10960           0.15990          0.1974              0.12790   \n",
       "3          0.14250           0.28390          0.2414              0.10520   \n",
       "4          0.10030           0.13280          0.1980              0.10430   \n",
       "\n",
       "   ...  texture_worst  perimeter_worst  area_worst  smoothness_worst  \\\n",
       "0  ...          17.33           184.60      2019.0            0.1622   \n",
       "1  ...          23.41           158.80      1956.0            0.1238   \n",
       "2  ...          25.53           152.50      1709.0            0.1444   \n",
       "3  ...          26.50            98.87       567.7            0.2098   \n",
       "4  ...          16.67           152.20      1575.0            0.1374   \n",
       "\n",
       "   compactness_worst  concavity_worst  concave points_worst  symmetry_worst  \\\n",
       "0             0.6656           0.7119                0.2654          0.4601   \n",
       "1             0.1866           0.2416                0.1860          0.2750   \n",
       "2             0.4245           0.4504                0.2430          0.3613   \n",
       "3             0.8663           0.6869                0.2575          0.6638   \n",
       "4             0.2050           0.4000                0.1625          0.2364   \n",
       "\n",
       "   fractal_dimension_worst  Unnamed: 32  \n",
       "0                  0.11890          NaN  \n",
       "1                  0.08902          NaN  \n",
       "2                  0.08758          NaN  \n",
       "3                  0.17300          NaN  \n",
       "4                  0.07678          NaN  \n",
       "\n",
       "[5 rows x 33 columns]"
      ],
      "text/html": [
       "<div>\n",
       "<style scoped>\n",
       "    .dataframe tbody tr th:only-of-type {\n",
       "        vertical-align: middle;\n",
       "    }\n",
       "\n",
       "    .dataframe tbody tr th {\n",
       "        vertical-align: top;\n",
       "    }\n",
       "\n",
       "    .dataframe thead th {\n",
       "        text-align: right;\n",
       "    }\n",
       "</style>\n",
       "<table border=\"1\" class=\"dataframe\">\n",
       "  <thead>\n",
       "    <tr style=\"text-align: right;\">\n",
       "      <th></th>\n",
       "      <th>id</th>\n",
       "      <th>diagnosis</th>\n",
       "      <th>radius_mean</th>\n",
       "      <th>texture_mean</th>\n",
       "      <th>perimeter_mean</th>\n",
       "      <th>area_mean</th>\n",
       "      <th>smoothness_mean</th>\n",
       "      <th>compactness_mean</th>\n",
       "      <th>concavity_mean</th>\n",
       "      <th>concave points_mean</th>\n",
       "      <th>...</th>\n",
       "      <th>texture_worst</th>\n",
       "      <th>perimeter_worst</th>\n",
       "      <th>area_worst</th>\n",
       "      <th>smoothness_worst</th>\n",
       "      <th>compactness_worst</th>\n",
       "      <th>concavity_worst</th>\n",
       "      <th>concave points_worst</th>\n",
       "      <th>symmetry_worst</th>\n",
       "      <th>fractal_dimension_worst</th>\n",
       "      <th>Unnamed: 32</th>\n",
       "    </tr>\n",
       "  </thead>\n",
       "  <tbody>\n",
       "    <tr>\n",
       "      <th>0</th>\n",
       "      <td>842302</td>\n",
       "      <td>M</td>\n",
       "      <td>17.99</td>\n",
       "      <td>10.38</td>\n",
       "      <td>122.80</td>\n",
       "      <td>1001.0</td>\n",
       "      <td>0.11840</td>\n",
       "      <td>0.27760</td>\n",
       "      <td>0.3001</td>\n",
       "      <td>0.14710</td>\n",
       "      <td>...</td>\n",
       "      <td>17.33</td>\n",
       "      <td>184.60</td>\n",
       "      <td>2019.0</td>\n",
       "      <td>0.1622</td>\n",
       "      <td>0.6656</td>\n",
       "      <td>0.7119</td>\n",
       "      <td>0.2654</td>\n",
       "      <td>0.4601</td>\n",
       "      <td>0.11890</td>\n",
       "      <td>NaN</td>\n",
       "    </tr>\n",
       "    <tr>\n",
       "      <th>1</th>\n",
       "      <td>842517</td>\n",
       "      <td>M</td>\n",
       "      <td>20.57</td>\n",
       "      <td>17.77</td>\n",
       "      <td>132.90</td>\n",
       "      <td>1326.0</td>\n",
       "      <td>0.08474</td>\n",
       "      <td>0.07864</td>\n",
       "      <td>0.0869</td>\n",
       "      <td>0.07017</td>\n",
       "      <td>...</td>\n",
       "      <td>23.41</td>\n",
       "      <td>158.80</td>\n",
       "      <td>1956.0</td>\n",
       "      <td>0.1238</td>\n",
       "      <td>0.1866</td>\n",
       "      <td>0.2416</td>\n",
       "      <td>0.1860</td>\n",
       "      <td>0.2750</td>\n",
       "      <td>0.08902</td>\n",
       "      <td>NaN</td>\n",
       "    </tr>\n",
       "    <tr>\n",
       "      <th>2</th>\n",
       "      <td>84300903</td>\n",
       "      <td>M</td>\n",
       "      <td>19.69</td>\n",
       "      <td>21.25</td>\n",
       "      <td>130.00</td>\n",
       "      <td>1203.0</td>\n",
       "      <td>0.10960</td>\n",
       "      <td>0.15990</td>\n",
       "      <td>0.1974</td>\n",
       "      <td>0.12790</td>\n",
       "      <td>...</td>\n",
       "      <td>25.53</td>\n",
       "      <td>152.50</td>\n",
       "      <td>1709.0</td>\n",
       "      <td>0.1444</td>\n",
       "      <td>0.4245</td>\n",
       "      <td>0.4504</td>\n",
       "      <td>0.2430</td>\n",
       "      <td>0.3613</td>\n",
       "      <td>0.08758</td>\n",
       "      <td>NaN</td>\n",
       "    </tr>\n",
       "    <tr>\n",
       "      <th>3</th>\n",
       "      <td>84348301</td>\n",
       "      <td>M</td>\n",
       "      <td>11.42</td>\n",
       "      <td>20.38</td>\n",
       "      <td>77.58</td>\n",
       "      <td>386.1</td>\n",
       "      <td>0.14250</td>\n",
       "      <td>0.28390</td>\n",
       "      <td>0.2414</td>\n",
       "      <td>0.10520</td>\n",
       "      <td>...</td>\n",
       "      <td>26.50</td>\n",
       "      <td>98.87</td>\n",
       "      <td>567.7</td>\n",
       "      <td>0.2098</td>\n",
       "      <td>0.8663</td>\n",
       "      <td>0.6869</td>\n",
       "      <td>0.2575</td>\n",
       "      <td>0.6638</td>\n",
       "      <td>0.17300</td>\n",
       "      <td>NaN</td>\n",
       "    </tr>\n",
       "    <tr>\n",
       "      <th>4</th>\n",
       "      <td>84358402</td>\n",
       "      <td>M</td>\n",
       "      <td>20.29</td>\n",
       "      <td>14.34</td>\n",
       "      <td>135.10</td>\n",
       "      <td>1297.0</td>\n",
       "      <td>0.10030</td>\n",
       "      <td>0.13280</td>\n",
       "      <td>0.1980</td>\n",
       "      <td>0.10430</td>\n",
       "      <td>...</td>\n",
       "      <td>16.67</td>\n",
       "      <td>152.20</td>\n",
       "      <td>1575.0</td>\n",
       "      <td>0.1374</td>\n",
       "      <td>0.2050</td>\n",
       "      <td>0.4000</td>\n",
       "      <td>0.1625</td>\n",
       "      <td>0.2364</td>\n",
       "      <td>0.07678</td>\n",
       "      <td>NaN</td>\n",
       "    </tr>\n",
       "  </tbody>\n",
       "</table>\n",
       "<p>5 rows × 33 columns</p>\n",
       "</div>"
      ]
     },
     "execution_count": 36,
     "metadata": {},
     "output_type": "execute_result"
    }
   ],
   "execution_count": 36
  },
  {
   "metadata": {
    "ExecuteTime": {
     "end_time": "2025-07-07T08:33:27.203310Z",
     "start_time": "2025-07-07T08:33:27.188080Z"
    }
   },
   "cell_type": "code",
   "source": [
    "# Remove unwanted columns\n",
    "\n",
    "df = df.drop(columns=['id','Unnamed: 32'])\n",
    "X_train, X_test, y_train, y_test = train_test_split(df.iloc[:,1:], df.iloc[:,0], test_size=0.2)\n",
    "\n",
    "# Scaling\n",
    "scalar = StandardScaler()\n",
    "X_train = scalar.fit_transform(X_train)\n",
    "X_test = scalar.transform(X_test)\n",
    "\n",
    "encoder = LabelEncoder()\n",
    "y_train = encoder.fit_transform(y_train)\n",
    "y_test = encoder.transform(y_test)\n",
    "\n",
    "X_train_tensor = torch.from_numpy(X_train.astype(np.float32))\n",
    "X_test_tensor = torch.from_numpy(X_test.astype(np.float32))\n",
    "y_train_tensor = torch.from_numpy(y_train.astype(np.float32))\n",
    "y_test_tensor = torch.from_numpy(y_test.astype(np.float32))"
   ],
   "id": "860339310e4ea750",
   "outputs": [],
   "execution_count": 37
  },
  {
   "metadata": {
    "ExecuteTime": {
     "end_time": "2025-07-07T08:33:28.773391Z",
     "start_time": "2025-07-07T08:33:28.768362Z"
    }
   },
   "cell_type": "code",
   "source": [
    "# Defining our refined model\n",
    "\n",
    "class Model(nn.Module):\n",
    "    def __init__(self, num_features):\n",
    "        super().__init__()\n",
    "        self.linear = nn.Linear(num_features, 1) # Uses single neuron\n",
    "        self.sigmoid = nn.Sigmoid()\n",
    "    def forward(self, features):\n",
    "        out = self.linear(features)\n",
    "        out = self.sigmoid(out)\n",
    "        return out\n",
    "    def loss(self, y_pred, y):\n",
    "        # Clamp predictions to avoid log(0)\n",
    "        epsilon  = 1e-7\n",
    "        y_pred = torch.clamp(y_pred, epsilon, 1-epsilon)\n",
    "        # calculating the mean to find the overall loss\n",
    "        loss = -(y*torch.log(y_pred) + (1-y)*torch.log(1-y_pred)).mean()\n",
    "        return loss\n"
   ],
   "id": "c09f60f06f766057",
   "outputs": [],
   "execution_count": 38
  },
  {
   "metadata": {
    "ExecuteTime": {
     "end_time": "2025-07-07T08:33:30.529907Z",
     "start_time": "2025-07-07T08:33:30.526743Z"
    }
   },
   "cell_type": "code",
   "source": [
    "# defining params\n",
    "\n",
    "lr = 0.1\n",
    "epochs = 25"
   ],
   "id": "a2e7ef5bf81412e6",
   "outputs": [],
   "execution_count": 39
  },
  {
   "metadata": {
    "ExecuteTime": {
     "end_time": "2025-07-07T08:33:34.236235Z",
     "start_time": "2025-07-07T08:33:34.201916Z"
    }
   },
   "cell_type": "code",
   "source": [
    "# creating model\n",
    "\n",
    "model = Model(X_train_tensor.shape[1])\n",
    "\n",
    "for epoch in range(epochs):\n",
    "    # Forward Pass (calculate wx+b and calculate sigmoid)\n",
    "    y_pred = model(X_train_tensor)\n",
    "\n",
    "    # calculate loss\n",
    "    loss = model.loss(y_pred, y_train_tensor)\n",
    "\n",
    "    # backpropagation\n",
    "    loss.backward()\n",
    "\n",
    "    # update params\n",
    "    # In parameters requires grad is set to true; but in this operation we don't need to calculate the gradient\n",
    "    with torch.no_grad():\n",
    "        model.linear.weight -= lr*model.linear.weight.grad\n",
    "        model.linear.bias -= lr*model.linear.bias.grad\n",
    "\n",
    "    # And also there is the problem of gradient accumulation so we set the grad to zero in every epoch\n",
    "    model.linear.weight.grad.zero_()\n",
    "    model.linear.bias.grad.zero_()\n",
    "\n",
    "    # print loss in each epoch\n",
    "    # if epoch % 100 == 0:\n",
    "    print(f'Epoch: {epoch+1}, loss: {loss.item()}')"
   ],
   "id": "dc522b70bf3a4246",
   "outputs": [
    {
     "name": "stdout",
     "output_type": "stream",
     "text": [
      "Epoch: 1, loss: 0.7834545373916626\n",
      "Epoch: 2, loss: 0.75295490026474\n",
      "Epoch: 3, loss: 0.7346808910369873\n",
      "Epoch: 4, loss: 0.7237315773963928\n",
      "Epoch: 5, loss: 0.7167695760726929\n",
      "Epoch: 6, loss: 0.7118886709213257\n",
      "Epoch: 7, loss: 0.7081031799316406\n",
      "Epoch: 8, loss: 0.7049259543418884\n",
      "Epoch: 9, loss: 0.7021189332008362\n",
      "Epoch: 10, loss: 0.6995648741722107\n",
      "Epoch: 11, loss: 0.6972037553787231\n",
      "Epoch: 12, loss: 0.6950027346611023\n",
      "Epoch: 13, loss: 0.6929418444633484\n",
      "Epoch: 14, loss: 0.6910077333450317\n",
      "Epoch: 15, loss: 0.6891900897026062\n",
      "Epoch: 16, loss: 0.6874806880950928\n",
      "Epoch: 17, loss: 0.6858718991279602\n",
      "Epoch: 18, loss: 0.6843571066856384\n",
      "Epoch: 19, loss: 0.6829302310943604\n",
      "Epoch: 20, loss: 0.681585431098938\n",
      "Epoch: 21, loss: 0.6803176403045654\n",
      "Epoch: 22, loss: 0.6791218519210815\n",
      "Epoch: 23, loss: 0.6779935956001282\n",
      "Epoch: 24, loss: 0.6769285798072815\n",
      "Epoch: 25, loss: 0.6759228706359863\n"
     ]
    }
   ],
   "execution_count": 40
  },
  {
   "metadata": {},
   "cell_type": "code",
   "source": [
    "with torch.no_grad():\n",
    "    y_pred = model(X_test_tensor)\n",
    "    # y_pred will have value b/w 0 and 1 but we will apply threshold to be able to compare it with original labels\n",
    "    y_pred = (y_pred > 0.9).float()\n",
    "    accuracy = (y_pred == y_test_tensor).float().mean()\n",
    "    print(f'Accuracy: {accuracy:.4f}')\n"
   ],
   "id": "b2fc43d0c6338d30",
   "outputs": [],
   "execution_count": null
  },
  {
   "metadata": {},
   "cell_type": "code",
   "source": "model.linear.weight # As it had 30 inputs",
   "id": "a30eebaa059f2bc3",
   "outputs": [],
   "execution_count": null
  },
  {
   "metadata": {},
   "cell_type": "code",
   "source": "model.linear.bias",
   "id": "d097dd082b13c320",
   "outputs": [],
   "execution_count": null
  },
  {
   "metadata": {},
   "cell_type": "code",
   "source": [
    "# Now using built-in loss function\n",
    "# defining our refined model\n",
    "\n",
    "class Model(nn.Module):\n",
    "    def __init__(self, num_features):\n",
    "        super().__init__()\n",
    "        self.linear = nn.Linear(num_features, 1) # Uses single neuron\n",
    "        self.sigmoid = nn.Sigmoid()\n",
    "    def forward(self, features):\n",
    "        out = self.linear(features)\n",
    "        out = self.sigmoid(out)\n",
    "        return out"
   ],
   "id": "27597e364e747b6e",
   "outputs": [],
   "execution_count": null
  },
  {
   "metadata": {},
   "cell_type": "code",
   "source": [
    "# defining params\n",
    "\n",
    "lr = 0.1\n",
    "epochs = 25"
   ],
   "id": "c0742dbb61833c14",
   "outputs": [],
   "execution_count": null
  },
  {
   "metadata": {},
   "cell_type": "code",
   "source": "loss_fnc = nn.BCELoss() # this stores a callable fnc in loss_fnc variable",
   "id": "476ca715a0cb64f2",
   "outputs": [],
   "execution_count": null
  },
  {
   "metadata": {},
   "cell_type": "code",
   "source": "type(loss_fnc)",
   "id": "c06c9d073d4eea0d",
   "outputs": [],
   "execution_count": null
  },
  {
   "metadata": {},
   "cell_type": "code",
   "source": [
    "print(y_pred.shape)\n",
    "print(y_train_tensor.shape)"
   ],
   "id": "4fff1a5f60a98138",
   "outputs": [],
   "execution_count": null
  },
  {
   "metadata": {},
   "cell_type": "code",
   "source": [
    "print(y_train_tensor)\n",
    "print(y_train_tensor.shape)"
   ],
   "id": "44bd0b1666ddaf98",
   "outputs": [],
   "execution_count": null
  },
  {
   "metadata": {},
   "cell_type": "code",
   "source": [
    "print(y_train_tensor.reshape(-1,1))\n",
    "print(y_train_tensor.reshape(-1,1).shape)"
   ],
   "id": "da424e06416a7988",
   "outputs": [],
   "execution_count": null
  },
  {
   "metadata": {},
   "cell_type": "code",
   "source": [
    "print(y_train_tensor.view(-1,1))\n",
    "print(y_train_tensor.view(-1,1).shape)"
   ],
   "id": "2c67acfbf8c539db",
   "outputs": [],
   "execution_count": null
  },
  {
   "metadata": {},
   "cell_type": "code",
   "source": [
    "# creating model\n",
    "\n",
    "model = Model(X_train_tensor.shape[1])\n",
    "\n",
    "for epoch in range(epochs):\n",
    "    # Forward Pass (calculate wx+b and calculate sigmoid)\n",
    "    y_pred = model(X_train_tensor)\n",
    "\n",
    "    # updated calculate loss\n",
    "    \"\"\"using loss_fnc(y_pred, y_train_tensor) will throw the below error -\n",
    "    ValueError: Using a target size (torch.Size([455])) that is different to the input\n",
    "    size (torch.Size([455, 1])) is deprecated. Please ensure they have the same size.\n",
    "    We have to reshape y_train_tensor to the shape of y_pred i.e. [455, 1]\n",
    "    \"\"\"\n",
    "    # Using view to reshape is better for contiguous data\n",
    "    loss = loss_fnc(y_pred, y_train_tensor.view(-1,1))\n",
    "\n",
    "    # backpropagation\n",
    "    loss.backward()\n",
    "\n",
    "    # update params\n",
    "    # In parameters requires grad is set to true; but in this operation we don't need to calculate the gradient\n",
    "    with torch.no_grad():\n",
    "        model.linear.weight -= lr*model.linear.weight.grad\n",
    "        model.linear.bias -= lr*model.linear.bias.grad\n",
    "\n",
    "    # And also there is the problem of gradient accumulation so we set the grad to zero in every epoch\n",
    "    model.linear.weight.grad.zero_()\n",
    "    model.linear.bias.grad.zero_()\n",
    "\n",
    "    # print loss in each epoch\n",
    "    # if epoch % 100 == 0:\n",
    "    print(f'Epoch: {epoch+1}, loss: {loss.item()}')"
   ],
   "id": "723d2dcb80b2d7f",
   "outputs": [],
   "execution_count": null
  },
  {
   "metadata": {},
   "cell_type": "code",
   "source": [
    "print(model.linear.weight) # As it had 30 inputs\n",
    "print(model.linear.bias) # As it had 30 inputs"
   ],
   "id": "3f6253697d2281aa",
   "outputs": [],
   "execution_count": null
  },
  {
   "metadata": {},
   "cell_type": "code",
   "source": [
    "with torch.no_grad():\n",
    "    y_pred = model(X_test_tensor)\n",
    "    y_pred = (y_pred > 0.5).float()\n",
    "    accu = (y_pred == y_test_tensor).float().mean()\n",
    "    print(f'Accuracy is: {accu:.4f}')\n"
   ],
   "id": "d7c1fb7c6d58cc46",
   "outputs": [],
   "execution_count": null
  },
  {
   "metadata": {},
   "cell_type": "code",
   "source": [
    "# Now we will be using torch.optim\n",
    "\n",
    "# It helps to update params of model during training\n",
    "# It handles weight updates efficiently, including additional features like learning rate scheduling and weight decay(regularization)\n",
    "# Adam, SGD, RMSProp, Momentum-based optimization etc.\n",
    "\n",
    "# models.parameters() retrieves an iterator over all the trainable params(weights and biases) in a model\n",
    "# These params are instances of torch.nn.Parameter and include weights and biases to compute gradient and update during training\n",
    "# https://www.comet.com/site/blog/7-optimization-methods-used-in-deep-learning/#:~:text=Momentum%2Dbased%20optimization%20takes%20steps,value%20of%20the%20objective%20function\n",
    "\n",
    "\n",
    "import torch\n",
    "import torch.nn as nn\n",
    "\n",
    "class Model(nn.Module):\n",
    "    def __init__(self, num_features):\n",
    "        super().__init__()\n",
    "        self.linear = nn.Linear(num_features, 1)\n",
    "        self.sigmoid = nn.Sigmoid()\n",
    "    def forward(self, features):\n",
    "        out = self.linear(features)\n",
    "        out = self.sigmoid(out)\n",
    "        return out\n"
   ],
   "id": "76089d2ac386e909",
   "outputs": [],
   "execution_count": null
  },
  {
   "metadata": {},
   "cell_type": "code",
   "source": [
    "lr = 0.1\n",
    "epochs = 25\n",
    "\n",
    "loss_fnc = nn.BCELoss()\n",
    "\n",
    "# creating model\n",
    "model = Model(X_train_tensor.shape[1])\n",
    "\n",
    "# define optimizer\n",
    "optimizer = torch.optim.SGD(model.parameters(), lr=lr)\n",
    "\n",
    "for epoch in range(epochs):\n",
    "    # Forward Pass (calculate wx+b and calculate sigmoid)\n",
    "    y_pred = model(X_train_tensor)\n",
    "\n",
    "    # updated calculate loss\n",
    "    \"\"\"using loss_fnc(y_pred, y_train_tensor) will throw the below error -\n",
    "    ValueError: Using a target size (torch.Size([455])) that is different to the input\n",
    "    size (torch.Size([455, 1])) is deprecated. Please ensure they have the same size.\n",
    "    We have to reshape y_train_tensor to the shape of y_pred i.e. [455, 1]\n",
    "    \"\"\"\n",
    "    # Using view for reshape is better for contiguous data\n",
    "    loss = loss_fnc(y_pred, y_train_tensor.view(-1,1))\n",
    "\n",
    "    # One Line of code to make the grad zero in every epoch through optimizer\n",
    "    # Also, good strategy is to clear gradient before backward pass\n",
    "    optimizer.zero_grad()\n",
    "\n",
    "    # backpropagation\n",
    "    loss.backward()\n",
    "\n",
    "    # optimizer step\n",
    "    optimizer.step()\n",
    "\n",
    "    # print loss in each epoch\n",
    "    # if epoch % 100 == 0:\n",
    "    print(f'Epoch: {epoch+1}, loss: {loss.item()}')"
   ],
   "id": "574d0b39f2945cd5",
   "outputs": [],
   "execution_count": null
  },
  {
   "metadata": {},
   "cell_type": "code",
   "source": [
    "with torch.no_grad():\n",
    "    y_pred = model(X_test_tensor)\n",
    "    y_pred = (y_pred > 0.9).float()\n",
    "    accu = (y_pred == y_test_tensor).float().mean()\n",
    "    print(f'Accuracy is: {accu:.4f}')\n"
   ],
   "id": "182be00dac895ec",
   "outputs": [],
   "execution_count": null
  },
  {
   "metadata": {},
   "cell_type": "code",
   "source": [
    "# so, our training pipeline build so far has a flaw i.e. we are using batch gradient descent when training the model.\n",
    "# i.e. we are using our whole dataset at a time when updating our parameters\n",
    "# we are using whole dataset in a single forward pass, calculating loss on the whole dataset and we are calculating gradients and\n",
    "# updating params based on it\n",
    "# batch gradient descent is considered inefficient because it is memory inefficient and\n",
    "# it doesn't have a good convergence\n",
    "# like the model is seeing the data but is not optimising it in step but at once making the optimization slow;\n",
    "# optimization steps should be frequent that's why we use sgd(update param after seeing every row-making it converge faster)\n",
    "\n",
    "# we will use mini batch gradient descent i.e. it will divide the batch into mini batches\n",
    "\n",
    "# there could be simple solution to this where we use the mini batch gradient descent by doing manual code(calculating grad every n step)\n",
    "# but this could cause problem such as - 1) No standard interface for data (creates problem for large datasets)\n",
    "# 2) No easy way to apply transformation\n",
    "# 3) Shuffling and sampling\n",
    "# 4) Batch management and parallelization\n",
    "\n",
    "# That's why to handle this problem pytorch gives two classes dataset and dataloaders\n",
    "# Dataset and Dataloader simplifies and decouples the process of loading the data and the process of using the data to training\n",
    "# The data lies in the memory; the datasets class knows where the data lies and loads the data from the memory;\n",
    "# The dataloader class handle how to create batches, shuffling and parallel loading\n",
    "# The dataset is an abstract class; its actually a blueprint; it is defined by -\n",
    "# 1) __init__ (a constructor here) - tells data how to load the data\n",
    "# 2) __len__ (method) - returns the total number of samples ( helps to compute the total number of batches)\n",
    "# 3) __getitem__(index) - returns the data and the label at the given index\n",
    "\n",
    "# Dataloader Control Flow -\n",
    "# 1) At the start of each epoch, the Dataloader(if shuffle=True) shuffles indices(using a sampler)\n",
    "# 2) It divides the indices into clunk of batch size\n",
    "# 3) from each index in the chunk, data samples are fetched from the Dataset object using it's getitem(index) method\n",
    "# 4) The samples are then collected and combined into a batch using collate function\n",
    "# 5) The batch is returned to the training loop\n",
    "\n",
    "# The DataLoader does not compute all batches ahead of time. It creates one batch at a time on-the-fly, feeds it to the training loop, and only then proceeds to create the next batch."
   ],
   "id": "d040cdb57a42c32b",
   "outputs": [],
   "execution_count": null
  },
  {
   "metadata": {},
   "cell_type": "code",
   "source": [
    "from sklearn.datasets import make_classification\n",
    "import torch"
   ],
   "id": "9b2daff972c75849",
   "outputs": [],
   "execution_count": null
  },
  {
   "metadata": {},
   "cell_type": "code",
   "source": [
    "# Create synthetic data\n",
    "X, y = make_classification(\n",
    "    n_samples=10,\n",
    "    n_features=2,\n",
    "    n_informative=2,\n",
    "    n_redundant=0,\n",
    "    n_classes=2,\n",
    "    random_state=42\n",
    ")"
   ],
   "id": "e25187191d61e421",
   "outputs": [],
   "execution_count": null
  },
  {
   "metadata": {},
   "cell_type": "code",
   "source": "X",
   "id": "85b81a1a17845826",
   "outputs": [],
   "execution_count": null
  },
  {
   "metadata": {},
   "cell_type": "code",
   "source": "y",
   "id": "829a746552edc519",
   "outputs": [],
   "execution_count": null
  },
  {
   "metadata": {},
   "cell_type": "code",
   "source": [
    "print(X.shape)\n",
    "print(y.shape)"
   ],
   "id": "d09455220a2df09f",
   "outputs": [],
   "execution_count": null
  },
  {
   "metadata": {},
   "cell_type": "code",
   "source": [
    "X = torch.tensor(X, dtype=torch.float32)\n",
    "y = torch.tensor(y, dtype=torch.long)"
   ],
   "id": "34c700f524cc58ea",
   "outputs": [],
   "execution_count": null
  },
  {
   "metadata": {},
   "cell_type": "code",
   "source": "from torch.utils.data import Dataset, DataLoader",
   "id": "54582f4b665d97af",
   "outputs": [],
   "execution_count": null
  },
  {
   "metadata": {},
   "cell_type": "code",
   "source": [
    "# we can add transformations in the getitem fnc eg\n",
    "# resizing, b/w, augmentation for image datasets\n",
    "# or lemmatization, stopword removal, convert to lower case etc\n",
    "\n",
    "class Customdataset(Dataset):\n",
    "    def __init__(self, features, labels):\n",
    "        self.features = features\n",
    "        self.labels = labels\n",
    "    def __len__(self):\n",
    "        return self.features.shape[0]\n",
    "    def __getitem__(self, index):\n",
    "        return self.features[index], self.labels[index]"
   ],
   "id": "7477bd8533ddf258",
   "outputs": [],
   "execution_count": null
  },
  {
   "metadata": {},
   "cell_type": "code",
   "source": "dataset = Customdataset(X,y)",
   "id": "8573b29072286447",
   "outputs": [],
   "execution_count": null
  },
  {
   "metadata": {},
   "cell_type": "code",
   "source": "len(dataset)",
   "id": "5650a4a53e1a84dd",
   "outputs": [],
   "execution_count": null
  },
  {
   "metadata": {},
   "cell_type": "code",
   "source": "dataset[0]",
   "id": "69666342721422f0",
   "outputs": [],
   "execution_count": null
  },
  {
   "metadata": {},
   "cell_type": "code",
   "source": [
    "# We can use parallelization to create batches in the dataloader class using \"workers\"\n",
    "# Also we can use different sampling strategy in PyTorch\n",
    "# like SequentialSampling or RandomSampling, or even Custom Sampling etc\n",
    "\n",
    "# Collate Function: The collate_fn in PyTorch's DataLoader is a function that specifies\n",
    "# how to combine a list of samples from a dataset into a single batch.\n",
    "# By default, the DataLoader uses a simple batch collation mechanism,\n",
    "# but collate_fn allows you to customize how the data should be processed and batched\n",
    "# the collate function also can be used to add padding in the dataset to match shape\n",
    "# of tensors such that they could be stacked\n",
    "\n",
    "dataloader = DataLoader(dataset, batch_size=2, shuffle=False) # dataloader is an iterable"
   ],
   "id": "125ccf1d9a60fd0c",
   "outputs": [],
   "execution_count": null
  },
  {
   "metadata": {},
   "cell_type": "code",
   "source": [
    "for batch_features, batch_labels in dataloader:\n",
    "    print(batch_features)\n",
    "    print(batch_labels)\n",
    "    print(\"-\"*40)"
   ],
   "id": "c7576532db93092f",
   "outputs": [],
   "execution_count": null
  },
  {
   "metadata": {},
   "cell_type": "code",
   "source": [
    "# Implementing mini batch gradient descent in our dataset\n",
    "\n",
    "import numpy as np\n",
    "import pandas as pd\n",
    "import torch\n",
    "from sklearn.model_selection import train_test_split\n",
    "from sklearn.preprocessing import StandardScaler, LabelEncoder"
   ],
   "id": "bee90582c0c05964",
   "outputs": [],
   "execution_count": null
  },
  {
   "metadata": {},
   "cell_type": "code",
   "source": [
    "df = pd.read_csv('https://raw.githubusercontent.com/gscdit/Breast-Cancer-Detection/refs/heads/master/data.csv')\n",
    "df.head()"
   ],
   "id": "2396a72f17d38379",
   "outputs": [],
   "execution_count": null
  },
  {
   "metadata": {},
   "cell_type": "code",
   "source": [
    "# Remove unwanted columns\n",
    "\n",
    "df = df.drop(columns=['id','Unnamed: 32'])\n",
    "X_train, X_test, y_train, y_test = train_test_split(df.iloc[:,1:], df.iloc[:,0], test_size=0.2)\n",
    "\n",
    "# Scaling\n",
    "scalar = StandardScaler()\n",
    "X_train = scalar.fit_transform(X_train)\n",
    "X_test = scalar.transform(X_test)\n",
    "\n",
    "encoder = LabelEncoder()\n",
    "y_train = encoder.fit_transform(y_train)\n",
    "y_test = encoder.transform(y_test)\n",
    "\n",
    "X_train_tensor = torch.from_numpy(X_train.astype(np.float32))\n",
    "X_test_tensor = torch.from_numpy(X_test.astype(np.float32))\n",
    "y_train_tensor = torch.from_numpy(y_train.astype(np.float32))\n",
    "y_test_tensor = torch.from_numpy(y_test.astype(np.float32))"
   ],
   "id": "3acac31be2727b00",
   "outputs": [],
   "execution_count": null
  },
  {
   "metadata": {},
   "cell_type": "code",
   "source": [
    "# defining params\n",
    "\n",
    "lr = 0.1\n",
    "epochs = 25"
   ],
   "id": "e6cca3bb131380cc",
   "outputs": [],
   "execution_count": null
  },
  {
   "metadata": {},
   "cell_type": "code",
   "source": [
    "from torch.utils.data import Dataset, DataLoader\n",
    "\n",
    "class CustomDataset(Dataset):\n",
    "    def __init__(self, features, labels):\n",
    "        self.features = features\n",
    "        self.labels = labels\n",
    "    def __len__(self):\n",
    "        return len(self.features)\n",
    "    def __getitem__(self, idx):\n",
    "        return self.features[idx], self.labels[idx]"
   ],
   "id": "2bdfeb13ed20daec",
   "outputs": [],
   "execution_count": null
  },
  {
   "metadata": {},
   "cell_type": "code",
   "source": [
    "train_dataset = CustomDataset(X_train_tensor, y_train_tensor)\n",
    "test_dataset = CustomDataset(X_test_tensor, y_test_tensor)"
   ],
   "id": "f69f6328e8570cf9",
   "outputs": [],
   "execution_count": null
  },
  {
   "metadata": {},
   "cell_type": "code",
   "source": [
    "train_loader = DataLoader(train_dataset, batch_size=32, shuffle=True)\n",
    "test_loader = DataLoader(test_dataset, batch_size=32, shuffle=True)"
   ],
   "id": "459ae3d3c36954ee",
   "outputs": [],
   "execution_count": null
  },
  {
   "metadata": {},
   "cell_type": "code",
   "source": [
    "# Defining the model\n",
    "\n",
    "import torch.nn as nn\n",
    "\n",
    "class Model(nn.Module):\n",
    "    def __init__(self, num_features):\n",
    "        super().__init__()\n",
    "        self.linear = nn.Linear(num_features, 1)\n",
    "        self.sigmoid = nn.Sigmoid()\n",
    "    def forward(self, features):\n",
    "        out = self.linear(features)\n",
    "        return self.sigmoid(out)\n"
   ],
   "id": "309f8891e0cbd79c",
   "outputs": [],
   "execution_count": null
  },
  {
   "metadata": {},
   "cell_type": "code",
   "source": [
    "model = Model(X_train_tensor.shape[1])\n",
    "optimizer = torch.optim.SGD(model.parameters(), lr=lr)\n",
    "loss_fnc = nn.BCELoss()"
   ],
   "id": "5517418c833d5009",
   "outputs": [],
   "execution_count": null
  },
  {
   "metadata": {},
   "cell_type": "code",
   "source": [
    "# Training Pipeline\n",
    "\n",
    "for epoch in range(epochs):\n",
    "    for batch_features, batch_labels in train_loader:\n",
    "        y_pred = model(batch_features)\n",
    "        loss = loss_fnc(y_pred, batch_labels.view(-1,1))\n",
    "        optimizer.zero_grad()\n",
    "        loss.backward()\n",
    "        optimizer.step()\n",
    "    print(f'Epoch: {epoch +1}; Loss: {loss.item()}')"
   ],
   "id": "b1bf63602bad755b",
   "outputs": [],
   "execution_count": null
  },
  {
   "metadata": {},
   "cell_type": "code",
   "source": [
    "# Evaluation\n",
    "\n",
    "model.eval() # Set the model to evaluation mode\n",
    "\n",
    "accuracy_list = []\n",
    "\n",
    "with torch.no_grad():\n",
    "    for batch_features, batch_labels in test_loader:\n",
    "        # Forward pass\n",
    "        y_pred = model(batch_features)\n",
    "        y_pred = (y_pred > 0.8).float()\n",
    "        # Calculate accuracy for the current batch\n",
    "        batch_accuracy = (y_pred.view(-1) == batch_labels).float().mean().item()\n",
    "        print(batch_accuracy)\n",
    "        accuracy_list.append(batch_accuracy)\n",
    "\n",
    "# Calculate overall accuracy\n",
    "overall_accuracy = sum(accuracy_list) / len(accuracy_list)\n",
    "print(f'Accuracy: {overall_accuracy:.4f}')"
   ],
   "id": "807fbd3640bb3b29",
   "outputs": [],
   "execution_count": null
  },
  {
   "metadata": {},
   "cell_type": "markdown",
   "source": [
    "### Building an ANN on fashion MNIST data\n",
    "#### The ANN will have an input layers with 784 nodes as there are 784 different features\n",
    "#### then we will have 2 hidden layers\n",
    "#### 1st hidden layer with 128 neurons (with relu)\n",
    "#### 2nd hidden layer with 64 neurons (with relu)\n",
    "#### output layer with 10 neurons as there are 10 classes (with softmax activation because of multi-class classification problem)\n",
    "\n",
    "##### Workflow: 1) Dataloader objects -> 2) Training loop -> 3) Evaluation"
   ],
   "id": "72c6e740884c69fc"
  },
  {
   "metadata": {},
   "cell_type": "code",
   "source": [
    "import pandas as pd\n",
    "import numpy as np\n",
    "import matplotlib.pyplot as plt\n",
    "from sklearn.model_selection import train_test_split\n",
    "import torch\n",
    "import torch.nn as nn\n",
    "import torch.optim as optim\n",
    "from torch.utils.data import Dataset, DataLoader"
   ],
   "id": "34d1050d44b95629",
   "outputs": [],
   "execution_count": null
  },
  {
   "metadata": {},
   "cell_type": "code",
   "source": "torch.manual_seed(42)",
   "id": "f8f68857168335c3",
   "outputs": [],
   "execution_count": null
  },
  {
   "metadata": {},
   "cell_type": "code",
   "source": [
    "df = pd.read_csv('/home/ml02/Downloads/PyTorch/fmnist_small.csv')\n",
    "df.head()\n",
    "\n",
    "# The dataset has 785 columns as the first column is the label and the rest 784 columns are flattened value of every pixel\n",
    "# of our 28x28 resolution image"
   ],
   "id": "39af9feff088fe4e",
   "outputs": [],
   "execution_count": null
  },
  {
   "metadata": {},
   "cell_type": "code",
   "source": [
    "# Creating grid to visualize image\n",
    "\n",
    "fig, axes = plt.subplots(4,4, figsize=(10,10))\n",
    "fig.suptitle(\"First 16 images\", fontsize = 12)\n",
    "\n",
    "# Plotting\n",
    "for i,ax in enumerate(axes.flat):\n",
    "    img = df.iloc[i,1:].values.reshape(28,28) # reshaping to the original image size\n",
    "    ax.imshow(img) # Will display in grayscale\n",
    "    ax.axis('off') # Removes the axis\n",
    "    ax.set_title(f\"Label: {df.iloc[i,0]}\")\n",
    "plt.tight_layout(rect=[0,0,1,0.96])\n",
    "plt.show()"
   ],
   "id": "5b5a72428ea2041",
   "outputs": [],
   "execution_count": null
  },
  {
   "metadata": {},
   "cell_type": "code",
   "source": [
    "# Train_test_split\n",
    "\n",
    "X = df.iloc[:,1:].values  # .values converts the pandas dataframe to numpy array\n",
    "y = df.iloc[:,0].values\n",
    "type(X)"
   ],
   "id": "6a97907d081c1e79",
   "outputs": [],
   "execution_count": null
  },
  {
   "metadata": {},
   "cell_type": "code",
   "source": "X_train, X_test, y_train, y_test = train_test_split(X, y, test_size=0.2, random_state=42)",
   "id": "cb0b79eb16ff3d85",
   "outputs": [],
   "execution_count": null
  },
  {
   "metadata": {},
   "cell_type": "code",
   "source": [
    "# Scaling the features\n",
    "X_train = X_train/255.0\n",
    "X_test = X_test/255.0"
   ],
   "id": "7be21fbad1e33173",
   "outputs": [],
   "execution_count": null
  },
  {
   "metadata": {},
   "cell_type": "code",
   "source": [
    "# Creating Custom dataset Class\n",
    "\n",
    "class CustomDataset(Dataset):\n",
    "    def __init__(self, X, y):\n",
    "        self.X = torch.tensor(X, dtype=torch.float32) # Reminder pytorch wants to see the features in float dtype\n",
    "        # and labels in long dtype (in classification)\n",
    "        self.y = torch.tensor(y, dtype=torch.long)\n",
    "    def __len__(self):\n",
    "        return len(self.X) # or return self.X.shape[0]\n",
    "    def __getitem__(self, idx):\n",
    "        return self.X[idx], self.y[idx]"
   ],
   "id": "c06e32a2bb5f4ee0",
   "outputs": [],
   "execution_count": null
  },
  {
   "metadata": {},
   "cell_type": "code",
   "source": [
    "# Create train_dataset object\n",
    "train_dataset = CustomDataset(X_train, y_train)"
   ],
   "id": "3c70bac5ba31819d",
   "outputs": [],
   "execution_count": null
  },
  {
   "metadata": {},
   "cell_type": "code",
   "source": "len(train_dataset)",
   "id": "c35678fd4a6217f5",
   "outputs": [],
   "execution_count": null
  },
  {
   "metadata": {},
   "cell_type": "code",
   "source": "train_dataset[0]",
   "id": "4a72bb29b533fd76",
   "outputs": [],
   "execution_count": null
  },
  {
   "metadata": {},
   "cell_type": "code",
   "source": [
    "# Create test_dataset object\n",
    "test_dataset = CustomDataset(X_test, y_test)"
   ],
   "id": "56c7405323e0222f",
   "outputs": [],
   "execution_count": null
  },
  {
   "metadata": {},
   "cell_type": "code",
   "source": "len(test_dataset)",
   "id": "8b1ebf7bc8e16576",
   "outputs": [],
   "execution_count": null
  },
  {
   "metadata": {},
   "cell_type": "code",
   "source": "test_dataset[0]",
   "id": "1a6a6721e15c6d4c",
   "outputs": [],
   "execution_count": null
  },
  {
   "metadata": {},
   "cell_type": "code",
   "source": [
    "# Creating  train and test loader\n",
    "train_loader = DataLoader(train_dataset, batch_size=32, shuffle=True)\n",
    "test_loader = DataLoader(test_dataset, batch_size=32, shuffle=False)\n",
    "\n",
    "# During prediction, we don't want to shuffle data because if we do shuffle in prediction data\n",
    "# it will be hard to calculate accuracy because to calculate accuracy\n",
    "# we want to infer at each datapoint which will be problematic if shuffle is true"
   ],
   "id": "e8a53ab788dcef5",
   "outputs": [],
   "execution_count": null
  },
  {
   "metadata": {},
   "cell_type": "code",
   "source": [
    "# total number of train batches\n",
    "len(train_loader)"
   ],
   "id": "d964288ba3bb5803",
   "outputs": [],
   "execution_count": null
  },
  {
   "metadata": {},
   "cell_type": "code",
   "source": [
    "# total number of test batches\n",
    "len(test_loader)"
   ],
   "id": "e0d2f79dfff0a9a4",
   "outputs": [],
   "execution_count": null
  },
  {
   "metadata": {},
   "cell_type": "code",
   "source": [
    "# Define nn class(cpu)\n",
    "\n",
    "class ANNModel(nn.Module):\n",
    "    def __init__(self, num_features):\n",
    "        super().__init__()\n",
    "        self.num_features = num_features\n",
    "        self.model = nn.Sequential(\n",
    "            nn.Linear(num_features, 128), # 1st Hidden Layer\n",
    "            nn.ReLU(),\n",
    "            nn.Linear(128, 64), # 2nd Hidden Layer\n",
    "            nn.ReLU(),\n",
    "            nn.Linear(64,10) # Output Layer\n",
    "            # If we were building this nn block in tensorflow\n",
    "            # then we need to specific another layer i.e. softmax\n",
    "            # but in PyTorch there is CrossEntropyLoss\n",
    "            # which has softmax implemented in it by default\n",
    "        )\n",
    "    def forward(self, x):\n",
    "        return self.model(x)"
   ],
   "id": "6b522b3dba5f7dbb",
   "outputs": [],
   "execution_count": null
  },
  {
   "metadata": {},
   "cell_type": "code",
   "source": [
    "# set the learning rate and epochs\n",
    "epochs = 100\n",
    "lr = 0.1"
   ],
   "id": "838ae0dc074cd78e",
   "outputs": [],
   "execution_count": null
  },
  {
   "metadata": {
    "ExecuteTime": {
     "end_time": "2025-07-07T13:53:08.374178Z",
     "start_time": "2025-07-07T13:53:08.075229Z"
    }
   },
   "cell_type": "code",
   "source": [
    "print(X_train.shape)\n",
    "print(X_train.shape[1])"
   ],
   "id": "5354be552eafe507",
   "outputs": [
    {
     "ename": "NameError",
     "evalue": "name 'X_train' is not defined",
     "output_type": "error",
     "traceback": [
      "\u001B[0;31m---------------------------------------------------------------------------\u001B[0m",
      "\u001B[0;31mNameError\u001B[0m                                 Traceback (most recent call last)",
      "Cell \u001B[0;32mIn[2], line 1\u001B[0m\n\u001B[0;32m----> 1\u001B[0m \u001B[38;5;28mprint\u001B[39m(\u001B[43mX_train\u001B[49m\u001B[38;5;241m.\u001B[39mshape)\n\u001B[1;32m      2\u001B[0m \u001B[38;5;28mprint\u001B[39m(X_train\u001B[38;5;241m.\u001B[39mshape[\u001B[38;5;241m1\u001B[39m])\n",
      "\u001B[0;31mNameError\u001B[0m: name 'X_train' is not defined"
     ]
    }
   ],
   "execution_count": 2
  },
  {
   "metadata": {},
   "cell_type": "code",
   "source": [
    "# instantiate the model\n",
    "model = ANNModel(X_train.shape[1])\n",
    "# loss function\n",
    "criterion = nn.CrossEntropyLoss()\n",
    "# optimizer\n",
    "optimizer = optim.SGD(model.parameters(), lr=lr)"
   ],
   "id": "94e17cb3edda672c",
   "outputs": [],
   "execution_count": null
  },
  {
   "metadata": {},
   "cell_type": "code",
   "source": [
    "# training loop\n",
    "\n",
    "for epoch in range(epochs):\n",
    "    total_epoch_loss = 0\n",
    "    for features_batch, labels_batch in train_loader:\n",
    "        # forward pass\n",
    "        out = model(features_batch)\n",
    "        # loss calculation\n",
    "        loss = criterion(out, labels_batch)\n",
    "        # Clear gradients before backward pass\n",
    "        optimizer.zero_grad()\n",
    "        # back pass\n",
    "        loss.backward()\n",
    "        # update grads\n",
    "        optimizer.step()\n",
    "        total_epoch_loss += loss.item()\n",
    "    # print average loss in every epoch\n",
    "    average_loss = total_epoch_loss/len(train_loader)\n",
    "    print(f'Epoch:{epoch+1}, Avg. Loss:{average_loss:.4f}')\n",
    "\n",
    "print(f'Total Loss:{total_epoch_loss:.4f}')"
   ],
   "id": "9f539b04b6a6b4f8",
   "outputs": [],
   "execution_count": null
  },
  {
   "metadata": {},
   "cell_type": "code",
   "source": [
    "# Evaluation code\n",
    "\n",
    "# 1st set the model in evaluation mode\n",
    "# Why do we need to use model.eval in the first place??\n",
    "# The answer is - As in the training process there is dropout implemented,\n",
    "# which turn's off few neurons randomly while training to prevent overfitting;\n",
    "# but while prediction we want to use all the available neurons\n",
    "# Another example could be batch_normalization - this calculates mean and\n",
    "# standard_deviation by looking at the training data\n",
    "# but during the time of prediction we want to use the mean and std. dev.\n",
    "# which was calculated during the training only\n",
    "##  Here in our code sofar we have not used dropout or batch normalization\n",
    "# but setting the model to eval mode during evaluation is a good practice\n",
    "\n",
    "model.eval()\n"
   ],
   "id": "8f468f61413d470b",
   "outputs": [],
   "execution_count": null
  },
  {
   "metadata": {},
   "cell_type": "code",
   "source": [
    "# custom evaluation code\n",
    "\n",
    "total = 0\n",
    "correct = 0\n",
    "\n",
    "# Don't want to calculate gradient during prediction\n",
    "with torch.no_grad():\n",
    "    # We will loop though the test data and will make prediction to see if it is correct or wrong\n",
    "    for batch_feature, batch_labels in test_loader:\n",
    "        # to predict we will run forward pass\n",
    "        outputs = model(batch_feature)\n",
    "        # let's understand how the output will be shaped like:\n",
    "        # Evert batch is having 32 images here, and as we have 10 classes\n",
    "        # the output will have those 10 different probability for each 10 classes for each 32 images\n",
    "        # so the output will be shaped like a 32x10 matrix\n",
    "        # to extract which label the image belongs to we will select the position of the class with the max probability\n",
    "        # the extracted labels will be of [32] only\n",
    "        _, predicted = torch.max(outputs, 1) # Calculates the max value and their corresponding indices\n",
    "        # along dimension 1 i.e. column of the output tensor\n",
    "        # '_' ignores the maximum values here, predicted stores the indices of the highest score for each image\n",
    "        total += batch_labels.shape[0] # Adds 32 for every batch\n",
    "        correct += (predicted == batch_labels).sum().item()\n",
    "\n",
    "print(f'Accuracy is: {correct/total:0.4f}')"
   ],
   "id": "f6fe2522595e6d33",
   "outputs": [],
   "execution_count": null
  },
  {
   "metadata": {},
   "cell_type": "markdown",
   "source": "##### training in GPU",
   "id": "4a823ef078bfc8be"
  },
  {
   "metadata": {},
   "cell_type": "code",
   "source": [
    "import numpy as np\n",
    "import pandas as pd\n",
    "import matplotlib.pyplot as plt\n",
    "import torch\n",
    "import torch.nn as nn\n",
    "from torch.utils.data import Dataset, DataLoader\n",
    "import torch.optim as optim\n",
    "from sklearn.model_selection import train_test_split"
   ],
   "id": "3e6e00d0a2479627",
   "outputs": [],
   "execution_count": null
  },
  {
   "metadata": {},
   "cell_type": "code",
   "source": "df = pd.read_csv('/home/ml02/Downloads/PyTorch/archive/fashion-mnist_train.csv')",
   "id": "cf4fd6551400933a",
   "outputs": [],
   "execution_count": null
  },
  {
   "metadata": {},
   "cell_type": "code",
   "source": "df.shape",
   "id": "f4cb79f134a2bb3",
   "outputs": [],
   "execution_count": null
  },
  {
   "metadata": {},
   "cell_type": "code",
   "source": [
    "## Step 1 - Check GPU availability\n",
    "device = 'cuda' if torch.cuda.is_available() else 'cpu'"
   ],
   "id": "32994e1ff1824130",
   "outputs": [],
   "execution_count": null
  },
  {
   "metadata": {},
   "cell_type": "code",
   "source": [
    "# We need to pass .values because we can't send the column names in the training dataset just the values\n",
    "X_train, X_test, y_train, y_test = train_test_split(df.iloc[:,1:].values, df.iloc[:,0].values, test_size=0.2)"
   ],
   "id": "bddc594c1ad8f495",
   "outputs": [],
   "execution_count": null
  },
  {
   "metadata": {},
   "cell_type": "code",
   "source": [
    "X_train = X_train/255.0\n",
    "X_test = X_test/255.0"
   ],
   "id": "f98a07863735710d",
   "outputs": [],
   "execution_count": null
  },
  {
   "metadata": {},
   "cell_type": "code",
   "source": [
    "class CustomDataset(Dataset):\n",
    "    def __init__(self, features, labels):\n",
    "        self.features = torch.tensor(features, dtype=torch.float32)\n",
    "        self.labels = torch.tensor(labels, dtype=torch.long)\n",
    "    def __len__(self):\n",
    "        return len(self.features)\n",
    "    def __getitem__(self, idx):\n",
    "        return self.features[idx], self.labels[idx]"
   ],
   "id": "ea769d6741c74c3f",
   "outputs": [],
   "execution_count": null
  },
  {
   "metadata": {},
   "cell_type": "code",
   "source": [
    "train_dataset = CustomDataset(X_train, y_train)\n",
    "test_dataset = CustomDataset(X_test, y_test)"
   ],
   "id": "a4a9ea7d246e323d",
   "outputs": [],
   "execution_count": null
  },
  {
   "metadata": {},
   "cell_type": "code",
   "source": [
    "# train_loader = DataLoader(train_dataset, batch_size=32, shuffle=True)\n",
    "# test_loader = DataLoader(test_dataset, batch_size=32, shuffle=True)"
   ],
   "id": "baa329d0bed7a782",
   "outputs": [],
   "execution_count": null
  },
  {
   "metadata": {},
   "cell_type": "code",
   "source": [
    "# Note: to optimize the GPU usage we can also do -\n",
    "# a) Increase Batch Size - Better Utilize GPU memory and reduce computation time per epoch\n",
    "# b) Enable Dataloader Pinning- Use pin_memory=True to speed up data transfer from CPU to GPU\n",
    "# Eg. -\n",
    "\n",
    "train_loader = DataLoader(train_dataset, batch_size=128, shuffle=True, pin_memory=True)\n",
    "test_loader = DataLoader(test_dataset, batch_size=128, shuffle=True, pin_memory=True)\n",
    "\n",
    "# NB - https://discuss.pytorch.org/t/should-i-turn-off-pin-memory-when-i-already-loaded-the-image-to-the-gpu-in-getitem/166276\n",
    "# Turn off pin_memory if tensor is already loaded into GPU, else initialise tensor in CPU and then do pin_memory on it"
   ],
   "id": "a7b2a38222ef0320",
   "outputs": [],
   "execution_count": null
  },
  {
   "metadata": {},
   "cell_type": "code",
   "source": [
    "print(len(train_loader)) # print no of train batches\n",
    "print(len(test_loader)) # print no of test batches"
   ],
   "id": "c7e90c6319e1c5b4",
   "outputs": [],
   "execution_count": null
  },
  {
   "metadata": {},
   "cell_type": "code",
   "source": [
    "class MyNN(nn.Module):\n",
    "    def __init__(self, num_features):\n",
    "        super().__init__()\n",
    "        self.model = nn.Sequential(\n",
    "            nn.Linear(num_features, 128),\n",
    "            nn.ReLU(),\n",
    "            nn.Linear(128,64),\n",
    "            nn.ReLU(),\n",
    "            nn.Linear(64,10)\n",
    "        )\n",
    "    def forward(self, x):\n",
    "        return self.model(x)"
   ],
   "id": "5bdcedfc2ebe3886",
   "outputs": [],
   "execution_count": null
  },
  {
   "metadata": {},
   "cell_type": "code",
   "source": [
    "lr = 0.1\n",
    "epochs = 100"
   ],
   "id": "6de09aa2b03c5852",
   "outputs": [],
   "execution_count": null
  },
  {
   "metadata": {},
   "cell_type": "code",
   "source": [
    "# PyTorch doesn't automatically assume that just because your data is on GPU , your model should be too .\n",
    "#) Models and data must be on the same device for computation to work.\n",
    "# even if you create your tensors on a specific device eg 'cuda';\n",
    "# you should explicitly do model.to('cuda') to use gpu\n",
    "\n",
    "model = MyNN(X_train.shape[1])\n",
    "model.to(device) ## Step 2 - Moving the model to gpu\n",
    "criterion = nn.CrossEntropyLoss()\n",
    "optimizer = optim.SGD(model.parameters(),lr=lr)"
   ],
   "id": "eeb559478ab653a2",
   "outputs": [],
   "execution_count": null
  },
  {
   "metadata": {},
   "cell_type": "code",
   "source": [
    "for epoch in range(epochs):\n",
    "    total_epoch_loss = 0\n",
    "    for batch_features, batch_labels in train_loader:\n",
    "        # Step 3 - Move train data to GPU\n",
    "        batch_features, batch_labels = batch_features.to(device), batch_labels.to(device)\n",
    "        outputs = model(batch_features)\n",
    "        loss = criterion(outputs, batch_labels)\n",
    "        optimizer.zero_grad()\n",
    "        loss.backward()\n",
    "        optimizer.step()\n",
    "        total_epoch_loss += loss.item()\n",
    "    avg_loss = total_epoch_loss/len(train_loader)\n",
    "    print(f'Epoch: {epoch+1}; Avg. Loss: {avg_loss:.4f}')"
   ],
   "id": "50901af70a7b17ee",
   "outputs": [],
   "execution_count": null
  },
  {
   "metadata": {},
   "cell_type": "code",
   "source": "model.eval()",
   "id": "c48c5b97c9d9a639",
   "outputs": [],
   "execution_count": null
  },
  {
   "metadata": {},
   "cell_type": "code",
   "source": [
    "total = 0\n",
    "correct = 0\n",
    "\n",
    "with torch.no_grad():\n",
    "    for batch_features, batch_labels in test_loader:\n",
    "        # Step 4 - Move test data to GPU\n",
    "        batch_features, batch_labels = batch_features.to(device), batch_labels.to(device)\n",
    "        outputs = model(batch_features)\n",
    "        _, predicted = torch.max(outputs, 1)\n",
    "        total += batch_labels.shape[0]\n",
    "        correct += (predicted == batch_labels).sum().item()\n",
    "\n",
    "print(f'Testing Accuracy: {correct/total:.4f}')"
   ],
   "id": "37c01d076b00db8c",
   "outputs": [],
   "execution_count": null
  },
  {
   "metadata": {},
   "cell_type": "code",
   "source": [
    "total = 0\n",
    "correct = 0\n",
    "\n",
    "with torch.no_grad():\n",
    "    for batch_features, batch_labels in train_loader:\n",
    "        # Step 4 - Move test data to GPU\n",
    "        batch_features, batch_labels = batch_features.to(device), batch_labels.to(device)\n",
    "        outputs = model(batch_features)\n",
    "        _, predicted = torch.max(outputs, 1)\n",
    "        total += batch_labels.shape[0]\n",
    "        correct += (predicted == batch_labels).sum().item()\n",
    "\n",
    "print(f'Training Accuracy: {correct/total:.4f}')"
   ],
   "id": "fc8752384281c828",
   "outputs": [],
   "execution_count": null
  },
  {
   "metadata": {},
   "cell_type": "code",
   "source": [
    "# Model is overfitted as Training Accu is 97% and test accu is 88%\n",
    "\n",
    "# Solutions to reduce overfitting:\n",
    "\n",
    "# 1. Adding more data; 2. Reducing the complexity of NN architecture;\n",
    "# 3. Regularization(Adding penalty term in loss fnc and try to reduce both);\n",
    "# 4. Dropouts; 5. Data Augmentation; 6. Early Stopping\n",
    "# 7. Batch Normalization(Used to stabilise training which comes with an effect of regularization);\n",
    "\n",
    "# Note about Dropout :-\n",
    "# 1. Applied to the hidden layers only\n",
    "# 2. Applied after activation function\n",
    "# 3. During each forward pass it randomly turns off p% neurons in the hidden layers\n",
    "# 4. This has a regularization effect as basically during each forward\n",
    "# pass we are technically using different structured Neural Networks\n",
    "# 5. During evaluation Dropout is not used\n",
    "\n",
    "# Note about BatchNormalization:\n",
    "# 1. Typically applied to the hidden layers of a neural network, but not to the output layer.\n",
    "# 2. Applied after Linear layers and Before Activation Fncs. -\n",
    "# Normalizes the output of the preceding layer (e.g. - after nn.Linear)\n",
    "# and is usually followed by an activation function e.g. ReLU\n",
    "# 3. It actually computed the mean and variance of the activations within a mini-batch\n",
    "# and uses these statistics to normalize the activations\n",
    "# 4. Introduces learnable parameters - gamma(scaling) and beta(shifting)\n",
    "# allowing the network to adjust the normalized outputs\n",
    "# 5. Improves training stability by reducing internal covariate shift,\n",
    "# stabilizing the training process and allowing the use of higher learning rates.\n",
    "# 6. Introduces regularization effect as the statistics computed over a mini-batch\n",
    "# adds noise to the training process.\n",
    "# 7. During evaluation, BatchNorm uses the running mean and variance accumulated during training,\n",
    "# rather than recomputing them from the mini batch(reduces data leakage and not touching test dataset)"
   ],
   "id": "d293f9049370c379",
   "outputs": [],
   "execution_count": null
  },
  {
   "metadata": {},
   "cell_type": "markdown",
   "source": [
    "#### ***Note About L2 regularization***\n",
    "\n",
    "Neural Networks are basically optimization problems which has a loss fnc like MSE in regression, logloss for classifications etc. The main goal is to find such values of the parameters of our model i.e. of weights and biases such that the loss is minimum. It is applied to model weights to penalize large values and encounter smaller more generalizable weights.\n",
    "In the case of regularization we add an additional penalty term with the loss function so that we minimize the combination of the loss and as well as the penalty term and by doing so, high values of weights are not attained which reduces the possibility of overfitting.\n",
    "\n",
    "$$ \\text{L2 regularization:\\quad}\n",
    "\\text{Loss}_{\\text{reg}} = \\text{Loss}_{\\text{Original}} + \\lambda\\Sigma w^2_i\n",
    "$$\n",
    "The $\\lambda$ is called the regularization coefft., which is set as peer need as how strong we need the regularization effect.\n",
    "In Weight decay, directly modifies the gradient update rule to include $\\lambda w_i$, effectively shrinking weights during training. This can be done in pytorch directly in the optimization step. We are directly adding loss with gradient here.\n",
    "\n",
    "$$\n",
    "w \\leftarrow w - \\eta(\\Delta\\text{Loss}+\\lambda w)\n",
    "$$\n",
    "\n",
    "**Penalizes Large Weights:** During the training process, in the neural network, those weights whom have big values, are being penalized and those weights are distributed into other weights, so that the over-reliance on a particular weight becomes less and weight balancing is maintained in the network.\n",
    "\n",
    "**No Effect on Bias Terms:** As biases don't directly affect model complexity, regularization is only typically applied only on weights not on bias.\n",
    "\n",
    "Regularization affects weights updates only during training, and should not be used in inference/prediction."
   ],
   "id": "5d4fc09d00d3aa54"
  },
  {
   "metadata": {},
   "cell_type": "markdown",
   "source": "##### Optimizing the network",
   "id": "ae3691a2924c6a70"
  },
  {
   "metadata": {},
   "cell_type": "code",
   "source": [
    "import numpy as np\n",
    "import pandas as pd\n",
    "import torch\n",
    "import torch.nn as nn\n",
    "import torch.optim as optim\n",
    "from torch.utils.data import DataLoader, Dataset\n",
    "from sklearn.model_selection import train_test_split"
   ],
   "id": "db7cc025f023e856",
   "outputs": [],
   "execution_count": null
  },
  {
   "metadata": {},
   "cell_type": "code",
   "source": "df = pd.read_csv('/home/ml02/Downloads/PyTorch/archive/fashion-mnist_train.csv')",
   "id": "34e3fb6ea0b9e275",
   "outputs": [],
   "execution_count": null
  },
  {
   "metadata": {},
   "cell_type": "code",
   "source": "df.shape",
   "id": "559dee6ca4a11253",
   "outputs": [],
   "execution_count": null
  },
  {
   "metadata": {},
   "cell_type": "code",
   "source": "device = 'cuda' if torch.cuda.is_available else 'cpu'",
   "id": "b22c9b22f3ddfb04",
   "outputs": [],
   "execution_count": null
  },
  {
   "metadata": {},
   "cell_type": "code",
   "source": "X_train, X_test, y_train, y_test = train_test_split(df.iloc[:,1:].values, df.iloc[:,0].values, test_size=0.2)",
   "id": "abffd8ba5a0410fb",
   "outputs": [],
   "execution_count": null
  },
  {
   "metadata": {},
   "cell_type": "code",
   "source": [
    "X_train = X_train/255.0\n",
    "X_test = X_test/255.0"
   ],
   "id": "e8641e1e61b6b954",
   "outputs": [],
   "execution_count": null
  },
  {
   "metadata": {},
   "cell_type": "code",
   "source": [
    "class CustomDataset(Dataset): # Using polymorphism and abstraction both\n",
    "    def __init__(self, features, labels):\n",
    "        # You need to give the features as tensors in the dataset\n",
    "        self.features = torch.tensor(features, dtype=torch.float32,device=device)\n",
    "        self.labels = torch.tensor(labels, dtype=torch.long,device=device)\n",
    "    def __len__(self):\n",
    "        return len(self.features)\n",
    "    def __getitem__(self, item):\n",
    "        return self.features[item], self.labels[item]"
   ],
   "id": "2551f217a89ff729",
   "outputs": [],
   "execution_count": null
  },
  {
   "metadata": {},
   "cell_type": "code",
   "source": [
    "# You need to make the dataset now\n",
    "train_dataset = CustomDataset(X_train, y_train)\n",
    "test_dataset = CustomDataset(X_test, y_test)"
   ],
   "id": "120a510ef1bd7502",
   "outputs": [],
   "execution_count": null
  },
  {
   "metadata": {},
   "cell_type": "code",
   "source": [
    "train_loader = DataLoader(train_dataset, batch_size = 128, shuffle=True)\n",
    "test_loader = DataLoader(test_dataset, batch_size = 128, shuffle=True)"
   ],
   "id": "43a721416e305226",
   "outputs": [],
   "execution_count": null
  },
  {
   "metadata": {},
   "cell_type": "code",
   "source": [
    "class MyModel(nn.Module):\n",
    "    def __init__(self, num_features):\n",
    "        super().__init__()\n",
    "        self.model = nn.Sequential(\n",
    "            nn.Linear(num_features,128),\n",
    "            nn.BatchNorm1d(128),\n",
    "            nn.ReLU(),\n",
    "            nn.Dropout(p=0.3),\n",
    "            nn.Linear(128,64),\n",
    "            nn.BatchNorm1d(64),\n",
    "            nn.ReLU(),\n",
    "            nn.Dropout(p=0.3),\n",
    "            nn.Linear(64,10)\n",
    "        )\n",
    "    def forward(self, features):\n",
    "        return self.model(features)"
   ],
   "id": "cab39fe54db6023e",
   "outputs": [],
   "execution_count": null
  },
  {
   "metadata": {},
   "cell_type": "code",
   "source": [
    "lr = 0.1\n",
    "epochs = 100"
   ],
   "id": "28b4dfe4b7a53748",
   "outputs": [],
   "execution_count": null
  },
  {
   "metadata": {},
   "cell_type": "code",
   "source": [
    "model = MyModel(X_train.shape[1])\n",
    "model.to(device)\n",
    "criterion = nn.CrossEntropyLoss()\n",
    "# weight_decay is our L2 Regularization coefft.\n",
    "optimizer = optim.SGD(model.parameters(), lr=lr, weight_decay=1e-4)"
   ],
   "id": "54c0241d50af13a",
   "outputs": [],
   "execution_count": null
  },
  {
   "metadata": {},
   "cell_type": "code",
   "source": [
    "for epoch in range(epochs):\n",
    "    # Put the model in training mode\n",
    "    model.train()\n",
    "    total_epoch_loss = 0\n",
    "    for batch_features, batch_labels in train_loader:\n",
    "        outputs = model(batch_features)\n",
    "        loss = criterion(outputs, batch_labels)\n",
    "        optimizer.zero_grad()\n",
    "        loss.backward()\n",
    "        optimizer.step()\n",
    "        total_epoch_loss += loss.item()\n",
    "    print(f'Epoch: {epoch+1}; Avg. Loss: {total_epoch_loss/len(train_loader):.4f}')"
   ],
   "id": "3a735d29cc75cd3e",
   "outputs": [],
   "execution_count": null
  },
  {
   "metadata": {},
   "cell_type": "code",
   "source": "model.eval()",
   "id": "aa85c285181ba2e2",
   "outputs": [],
   "execution_count": null
  },
  {
   "metadata": {},
   "cell_type": "code",
   "source": [
    "total = 0\n",
    "correct = 0\n",
    "with torch.no_grad():\n",
    "    for batch_features, batch_labels in test_loader:\n",
    "        batch_features, batch_labels = batch_features.to(device), batch_labels.to(device)\n",
    "        outputs = model(batch_features)\n",
    "        _, predictions = torch.max(outputs, 1)\n",
    "        total += batch_labels.shape[0]\n",
    "        correct += (predictions == batch_labels).sum().item()\n",
    "\n",
    "print(f'Testing Accuracy: {correct/total:.4f}')"
   ],
   "id": "2c9ade80764e8f",
   "outputs": [],
   "execution_count": null
  },
  {
   "metadata": {},
   "cell_type": "code",
   "source": [
    "total = 0\n",
    "correct = 0\n",
    "\n",
    "with torch.no_grad():\n",
    "    for batch_features, batch_labels in train_loader:\n",
    "        # Step 4 - Move test data to GPU\n",
    "        batch_features, batch_labels = batch_features.to(device), batch_labels.to(device)\n",
    "        outputs = model(batch_features)\n",
    "        _, predicted = torch.max(outputs, 1)\n",
    "        total += batch_labels.shape[0]\n",
    "        correct += (predicted == batch_labels).sum().item()\n",
    "\n",
    "print(f'Training Accuracy: {correct/total:.4f}')"
   ],
   "id": "3b6ad81b661e4b7a",
   "outputs": [],
   "execution_count": null
  },
  {
   "metadata": {},
   "cell_type": "code",
   "source": "from torchvision import models",
   "id": "31f33bd6e73a4a07",
   "outputs": [],
   "execution_count": null
  },
  {
   "metadata": {},
   "cell_type": "code",
   "source": "dir(models)",
   "id": "3f3e95af332793ed",
   "outputs": [],
   "execution_count": null
  },
  {
   "metadata": {},
   "cell_type": "markdown",
   "source": [
    "#### Terms in Optuna\n",
    "\n",
    "1. Study: A Study in Optuna is an optimization session that encompasses multiple trails. Essential objective is to optimize the objective fnc; i.e. the training and  finding the best hyperparameters are called as study in term's of Optuna's language.\n",
    "2. Trial: A trial is a single iteration of the optimization process where a specific set of hyperparameters is evaluated. Each trial runs the obj func once with a distinct set of hyperparameters.\n",
    "3. Trial Parameters: Specific hyperparameters values chosen during a trial. Each trial will have a unique combination of hyperparameters that are evaluated to see how they impact the objective function. E.g. - Different different learning rates, batch_sizes during each trial.\n",
    "4. Objective Function: The fnc to be optimized(minimized or maximized) during the hyperparameter search. It takes hyperparameters as input and return a value (eg accuracy, loss, etc) that Optuna tries to optimize. E.g. - In a classification tack, the obj fnc could be the cross-entropy loss which Optuna seeks to optimize.\n",
    "5. Sampler: A sampler is the algorithm that suggests which hyperparameters should be evaluated next. Optuna uses the Tree-structured Parzen Estimator(TPE) by default(TPE uses Bayesian Optimization), but can also support other sampling like Random Sampling or even Custom Sampling,"
   ],
   "id": "2e8b682896ddee0d"
  },
  {
   "metadata": {
    "ExecuteTime": {
     "end_time": "2025-07-01T14:55:08.485673Z",
     "start_time": "2025-07-01T14:55:08.482775Z"
    }
   },
   "cell_type": "code",
   "source": "# !uv pip install optuna",
   "id": "ddaf11ac6ab742ec",
   "outputs": [],
   "execution_count": 11
  },
  {
   "metadata": {
    "ExecuteTime": {
     "end_time": "2025-07-02T12:39:26.076688Z",
     "start_time": "2025-07-02T12:39:24.886278Z"
    }
   },
   "cell_type": "code",
   "source": [
    "import optuna\n",
    "from sklearn.datasets import load_diabetes\n",
    "from sklearn.model_selection import train_test_split\n",
    "from sklearn.preprocessing import StandardScaler\n",
    "import pandas as pd\n",
    "\n",
    "url = \"https://raw.githubusercontent.com/jbrownlee/Datasets/master/pima-indians-diabetes.data.csv\"\n",
    "columns = ['Pregnancies', 'Glucose', 'BloodPressure', 'SkinThickness', 'Insulin', 'BMI',\n",
    "           'DiabetesPedigreeFunction', 'Age', 'Outcome']\n",
    "\n",
    "df = pd.read_csv(url, names=columns)\n",
    "df.head()"
   ],
   "id": "c96781a51f2fe5dd",
   "outputs": [
    {
     "data": {
      "text/plain": [
       "   Pregnancies  Glucose  BloodPressure  SkinThickness  Insulin   BMI  \\\n",
       "0            6      148             72             35        0  33.6   \n",
       "1            1       85             66             29        0  26.6   \n",
       "2            8      183             64              0        0  23.3   \n",
       "3            1       89             66             23       94  28.1   \n",
       "4            0      137             40             35      168  43.1   \n",
       "\n",
       "   DiabetesPedigreeFunction  Age  Outcome  \n",
       "0                     0.627   50        1  \n",
       "1                     0.351   31        0  \n",
       "2                     0.672   32        1  \n",
       "3                     0.167   21        0  \n",
       "4                     2.288   33        1  "
      ],
      "text/html": [
       "<div>\n",
       "<style scoped>\n",
       "    .dataframe tbody tr th:only-of-type {\n",
       "        vertical-align: middle;\n",
       "    }\n",
       "\n",
       "    .dataframe tbody tr th {\n",
       "        vertical-align: top;\n",
       "    }\n",
       "\n",
       "    .dataframe thead th {\n",
       "        text-align: right;\n",
       "    }\n",
       "</style>\n",
       "<table border=\"1\" class=\"dataframe\">\n",
       "  <thead>\n",
       "    <tr style=\"text-align: right;\">\n",
       "      <th></th>\n",
       "      <th>Pregnancies</th>\n",
       "      <th>Glucose</th>\n",
       "      <th>BloodPressure</th>\n",
       "      <th>SkinThickness</th>\n",
       "      <th>Insulin</th>\n",
       "      <th>BMI</th>\n",
       "      <th>DiabetesPedigreeFunction</th>\n",
       "      <th>Age</th>\n",
       "      <th>Outcome</th>\n",
       "    </tr>\n",
       "  </thead>\n",
       "  <tbody>\n",
       "    <tr>\n",
       "      <th>0</th>\n",
       "      <td>6</td>\n",
       "      <td>148</td>\n",
       "      <td>72</td>\n",
       "      <td>35</td>\n",
       "      <td>0</td>\n",
       "      <td>33.6</td>\n",
       "      <td>0.627</td>\n",
       "      <td>50</td>\n",
       "      <td>1</td>\n",
       "    </tr>\n",
       "    <tr>\n",
       "      <th>1</th>\n",
       "      <td>1</td>\n",
       "      <td>85</td>\n",
       "      <td>66</td>\n",
       "      <td>29</td>\n",
       "      <td>0</td>\n",
       "      <td>26.6</td>\n",
       "      <td>0.351</td>\n",
       "      <td>31</td>\n",
       "      <td>0</td>\n",
       "    </tr>\n",
       "    <tr>\n",
       "      <th>2</th>\n",
       "      <td>8</td>\n",
       "      <td>183</td>\n",
       "      <td>64</td>\n",
       "      <td>0</td>\n",
       "      <td>0</td>\n",
       "      <td>23.3</td>\n",
       "      <td>0.672</td>\n",
       "      <td>32</td>\n",
       "      <td>1</td>\n",
       "    </tr>\n",
       "    <tr>\n",
       "      <th>3</th>\n",
       "      <td>1</td>\n",
       "      <td>89</td>\n",
       "      <td>66</td>\n",
       "      <td>23</td>\n",
       "      <td>94</td>\n",
       "      <td>28.1</td>\n",
       "      <td>0.167</td>\n",
       "      <td>21</td>\n",
       "      <td>0</td>\n",
       "    </tr>\n",
       "    <tr>\n",
       "      <th>4</th>\n",
       "      <td>0</td>\n",
       "      <td>137</td>\n",
       "      <td>40</td>\n",
       "      <td>35</td>\n",
       "      <td>168</td>\n",
       "      <td>43.1</td>\n",
       "      <td>2.288</td>\n",
       "      <td>33</td>\n",
       "      <td>1</td>\n",
       "    </tr>\n",
       "  </tbody>\n",
       "</table>\n",
       "</div>"
      ]
     },
     "execution_count": 1,
     "metadata": {},
     "output_type": "execute_result"
    }
   ],
   "execution_count": 1
  },
  {
   "metadata": {
    "ExecuteTime": {
     "end_time": "2025-07-02T12:39:26.125458Z",
     "start_time": "2025-07-02T12:39:26.116585Z"
    }
   },
   "cell_type": "code",
   "source": [
    "import numpy as np\n",
    "\n",
    "# Missing Value Imputation\n",
    "cols_with_missing_vals = ['Glucose', 'BloodPressure', 'SkinThickness', 'Insulin', 'BMI']\n",
    "df[cols_with_missing_vals] = df[cols_with_missing_vals].replace(0,np.nan)\n",
    "\n",
    "df.fillna(df.mean(), inplace=True)\n",
    "print(df.isnull().sum())"
   ],
   "id": "c7c105d30ba6dab4",
   "outputs": [
    {
     "name": "stdout",
     "output_type": "stream",
     "text": [
      "Pregnancies                 0\n",
      "Glucose                     0\n",
      "BloodPressure               0\n",
      "SkinThickness               0\n",
      "Insulin                     0\n",
      "BMI                         0\n",
      "DiabetesPedigreeFunction    0\n",
      "Age                         0\n",
      "Outcome                     0\n",
      "dtype: int64\n"
     ]
    }
   ],
   "execution_count": 2
  },
  {
   "metadata": {
    "ExecuteTime": {
     "end_time": "2025-07-02T12:39:27.906256Z",
     "start_time": "2025-07-02T12:39:27.897821Z"
    }
   },
   "cell_type": "code",
   "source": [
    "X = df.drop('Outcome', axis=1)\n",
    "y = df['Outcome']\n",
    "\n",
    "X_train, X_test, y_train, y_test = train_test_split(X,y,test_size=0.3, random_state=42)\n",
    "\n",
    "# Optional Scaling\n",
    "scalar = StandardScaler()\n",
    "X_train = scalar.fit_transform(X_train)\n",
    "X_test = scalar.transform(X_test)\n",
    "\n",
    "print(f'Training set shape: {X_train.shape}')\n",
    "print(f'Test set shape: {X_test.shape}')"
   ],
   "id": "adae445ce3e8d8c7",
   "outputs": [
    {
     "name": "stdout",
     "output_type": "stream",
     "text": [
      "Training set shape: (537, 8)\n",
      "Test set shape: (231, 8)\n"
     ]
    }
   ],
   "execution_count": 3
  },
  {
   "metadata": {
    "ExecuteTime": {
     "end_time": "2025-07-02T12:39:31.853978Z",
     "start_time": "2025-07-02T12:39:31.850955Z"
    }
   },
   "cell_type": "code",
   "source": [
    "# Now we will define an objective function for the workflow of optuna\n",
    "\n",
    "from sklearn.model_selection import cross_val_score\n",
    "from sklearn.ensemble import RandomForestClassifier\n",
    "from sklearn.datasets import make_classification\n",
    "# Define the objective fnc\n",
    "\n",
    "def objective(trial):\n",
    "    # Suggest values of the hyperparameters\n",
    "    n_estimators = trial.suggest_int('n_estimators', 50, 200)\n",
    "    max_depth = trial.suggest_int('max_depth', 3, 20)\n",
    "    # Here the search space will be in the Range [50,200] for n_estimators\n",
    "    # and range of [3,20] for max_depth\n",
    "\n",
    "    # Create the RandomForestClassifier with suggested hyperparameters\n",
    "    model = RandomForestClassifier(\n",
    "        n_estimators=n_estimators,\n",
    "        max_depth=max_depth,\n",
    "        random_state=42\n",
    "    )\n",
    "    # Perform 3-fold cross-validation and calculate accuracy\n",
    "    score = cross_val_score(model, X_train, y_train, cv=3, scoring='accuracy').mean()\n",
    "    return score"
   ],
   "id": "c0dc85254e775973",
   "outputs": [],
   "execution_count": 5
  },
  {
   "metadata": {
    "ExecuteTime": {
     "end_time": "2025-07-02T12:40:04.757660Z",
     "start_time": "2025-07-02T12:39:34.174367Z"
    }
   },
   "cell_type": "code",
   "source": [
    "# Create a study object and optimize the objective function\n",
    "study = optuna.create_study(direction='maximize', sampler=optuna.samplers.TPESampler())\n",
    "# As we are trying to 'Maximize' our accuracy so our direction of the objective function will be to maximize it\n",
    "study.optimize(objective, n_trials=100) # Running 50 trials to find the optimal hyperparameters\n",
    "\n",
    "# Print the best result\n",
    "print(f'Best trial accuracy: {study.best_trial.value}')\n",
    "print(f'Best trial Hyperparameters: {study.best_trial.params}')\n",
    "\n",
    "from sklearn.metrics import accuracy_score\n",
    "\n",
    "# Train a RandomForestClassifier using the best hyperparameters from Optuna\n",
    "best_model = RandomForestClassifier(**study.best_trial.params, random_state=42)\n",
    "\n",
    "best_model.fit(X_train, y_train)\n",
    "\n",
    "y_pred = best_model.predict(X_test)\n",
    "\n",
    "test_accuracy = accuracy_score(y_test, y_pred)\n",
    "\n",
    "print(f'Test accuracy ith best hyperparameters: {test_accuracy:.2f}')"
   ],
   "id": "49d09e4ef0554a00",
   "outputs": [
    {
     "name": "stderr",
     "output_type": "stream",
     "text": [
      "[I 2025-07-02 18:09:34,177] A new study created in memory with name: no-name-ff348ff6-4448-4c70-8572-50bcfebb1d4f\n",
      "[I 2025-07-02 18:09:34,487] Trial 0 finished with value: 0.7783985102420856 and parameters: {'n_estimators': 106, 'max_depth': 18}. Best is trial 0 with value: 0.7783985102420856.\n",
      "[I 2025-07-02 18:09:34,709] Trial 1 finished with value: 0.7690875232774674 and parameters: {'n_estimators': 59, 'max_depth': 13}. Best is trial 0 with value: 0.7783985102420856.\n",
      "[I 2025-07-02 18:09:35,257] Trial 2 finished with value: 0.756052141527002 and parameters: {'n_estimators': 173, 'max_depth': 4}. Best is trial 0 with value: 0.7783985102420856.\n",
      "[I 2025-07-02 18:09:35,666] Trial 3 finished with value: 0.7653631284916201 and parameters: {'n_estimators': 130, 'max_depth': 11}. Best is trial 0 with value: 0.7783985102420856.\n",
      "[I 2025-07-02 18:09:36,264] Trial 4 finished with value: 0.7709497206703911 and parameters: {'n_estimators': 200, 'max_depth': 10}. Best is trial 0 with value: 0.7783985102420856.\n",
      "[I 2025-07-02 18:09:36,613] Trial 5 finished with value: 0.7653631284916201 and parameters: {'n_estimators': 102, 'max_depth': 11}. Best is trial 0 with value: 0.7783985102420856.\n",
      "[I 2025-07-02 18:09:37,068] Trial 6 finished with value: 0.7597765363128491 and parameters: {'n_estimators': 148, 'max_depth': 6}. Best is trial 0 with value: 0.7783985102420856.\n",
      "[I 2025-07-02 18:09:37,541] Trial 7 finished with value: 0.7690875232774674 and parameters: {'n_estimators': 156, 'max_depth': 15}. Best is trial 0 with value: 0.7783985102420856.\n",
      "[I 2025-07-02 18:09:38,147] Trial 8 finished with value: 0.7765363128491621 and parameters: {'n_estimators': 169, 'max_depth': 12}. Best is trial 0 with value: 0.7783985102420856.\n",
      "[I 2025-07-02 18:09:38,474] Trial 9 finished with value: 0.7597765363128491 and parameters: {'n_estimators': 111, 'max_depth': 3}. Best is trial 0 with value: 0.7783985102420856.\n",
      "[I 2025-07-02 18:09:38,730] Trial 10 finished with value: 0.7783985102420857 and parameters: {'n_estimators': 71, 'max_depth': 19}. Best is trial 10 with value: 0.7783985102420857.\n",
      "[I 2025-07-02 18:09:38,986] Trial 11 finished with value: 0.7765363128491621 and parameters: {'n_estimators': 70, 'max_depth': 20}. Best is trial 10 with value: 0.7783985102420857.\n",
      "[I 2025-07-02 18:09:39,286] Trial 12 finished with value: 0.7653631284916201 and parameters: {'n_estimators': 82, 'max_depth': 20}. Best is trial 10 with value: 0.7783985102420857.\n",
      "[I 2025-07-02 18:09:39,624] Trial 13 finished with value: 0.7746741154562384 and parameters: {'n_estimators': 91, 'max_depth': 17}. Best is trial 10 with value: 0.7783985102420857.\n",
      "[I 2025-07-02 18:09:40,029] Trial 14 finished with value: 0.7783985102420856 and parameters: {'n_estimators': 119, 'max_depth': 17}. Best is trial 10 with value: 0.7783985102420857.\n",
      "[I 2025-07-02 18:09:40,184] Trial 15 finished with value: 0.7728119180633147 and parameters: {'n_estimators': 52, 'max_depth': 18}. Best is trial 10 with value: 0.7783985102420857.\n",
      "[I 2025-07-02 18:09:40,427] Trial 16 finished with value: 0.7709497206703911 and parameters: {'n_estimators': 81, 'max_depth': 15}. Best is trial 10 with value: 0.7783985102420857.\n",
      "[I 2025-07-02 18:09:40,844] Trial 17 finished with value: 0.7690875232774674 and parameters: {'n_estimators': 131, 'max_depth': 8}. Best is trial 10 with value: 0.7783985102420857.\n",
      "[I 2025-07-02 18:09:41,211] Trial 18 finished with value: 0.7672253258845437 and parameters: {'n_estimators': 99, 'max_depth': 15}. Best is trial 10 with value: 0.7783985102420857.\n",
      "[I 2025-07-02 18:09:41,441] Trial 19 finished with value: 0.7783985102420857 and parameters: {'n_estimators': 67, 'max_depth': 18}. Best is trial 10 with value: 0.7783985102420857.\n",
      "[I 2025-07-02 18:09:41,697] Trial 20 finished with value: 0.7783985102420857 and parameters: {'n_estimators': 72, 'max_depth': 20}. Best is trial 10 with value: 0.7783985102420857.\n",
      "[I 2025-07-02 18:09:41,991] Trial 21 finished with value: 0.7746741154562384 and parameters: {'n_estimators': 68, 'max_depth': 20}. Best is trial 10 with value: 0.7783985102420857.\n",
      "[I 2025-07-02 18:09:42,152] Trial 22 finished with value: 0.7709497206703911 and parameters: {'n_estimators': 50, 'max_depth': 18}. Best is trial 10 with value: 0.7783985102420857.\n",
      "[I 2025-07-02 18:09:42,419] Trial 23 finished with value: 0.7746741154562384 and parameters: {'n_estimators': 71, 'max_depth': 16}. Best is trial 10 with value: 0.7783985102420857.\n",
      "[I 2025-07-02 18:09:42,709] Trial 24 finished with value: 0.7709497206703911 and parameters: {'n_estimators': 81, 'max_depth': 19}. Best is trial 10 with value: 0.7783985102420857.\n",
      "[I 2025-07-02 18:09:42,937] Trial 25 finished with value: 0.7709497206703911 and parameters: {'n_estimators': 63, 'max_depth': 14}. Best is trial 10 with value: 0.7783985102420857.\n",
      "[I 2025-07-02 18:09:43,278] Trial 26 finished with value: 0.7746741154562384 and parameters: {'n_estimators': 91, 'max_depth': 19}. Best is trial 10 with value: 0.7783985102420857.\n",
      "[I 2025-07-02 18:09:43,574] Trial 27 finished with value: 0.7653631284916201 and parameters: {'n_estimators': 78, 'max_depth': 17}. Best is trial 10 with value: 0.7783985102420857.\n",
      "[I 2025-07-02 18:09:43,921] Trial 28 finished with value: 0.7746741154562384 and parameters: {'n_estimators': 89, 'max_depth': 19}. Best is trial 10 with value: 0.7783985102420857.\n",
      "[I 2025-07-02 18:09:44,263] Trial 29 finished with value: 0.7765363128491621 and parameters: {'n_estimators': 111, 'max_depth': 18}. Best is trial 10 with value: 0.7783985102420857.\n",
      "[I 2025-07-02 18:09:44,440] Trial 30 finished with value: 0.7653631284916201 and parameters: {'n_estimators': 60, 'max_depth': 16}. Best is trial 10 with value: 0.7783985102420857.\n",
      "[I 2025-07-02 18:09:44,617] Trial 31 finished with value: 0.7690875232774674 and parameters: {'n_estimators': 58, 'max_depth': 20}. Best is trial 10 with value: 0.7783985102420857.\n",
      "[I 2025-07-02 18:09:44,945] Trial 32 finished with value: 0.7672253258845437 and parameters: {'n_estimators': 97, 'max_depth': 13}. Best is trial 10 with value: 0.7783985102420857.\n",
      "[I 2025-07-02 18:09:45,181] Trial 33 finished with value: 0.7839851024208566 and parameters: {'n_estimators': 73, 'max_depth': 18}. Best is trial 33 with value: 0.7839851024208566.\n",
      "[I 2025-07-02 18:09:45,407] Trial 34 finished with value: 0.7783985102420857 and parameters: {'n_estimators': 72, 'max_depth': 19}. Best is trial 33 with value: 0.7839851024208566.\n",
      "[I 2025-07-02 18:09:45,595] Trial 35 finished with value: 0.7653631284916201 and parameters: {'n_estimators': 60, 'max_depth': 16}. Best is trial 33 with value: 0.7839851024208566.\n",
      "[I 2025-07-02 18:09:45,845] Trial 36 finished with value: 0.7746741154562384 and parameters: {'n_estimators': 77, 'max_depth': 17}. Best is trial 33 with value: 0.7839851024208566.\n",
      "[I 2025-07-02 18:09:46,524] Trial 37 finished with value: 0.7765363128491619 and parameters: {'n_estimators': 198, 'max_depth': 18}. Best is trial 33 with value: 0.7839851024208566.\n",
      "[I 2025-07-02 18:09:46,833] Trial 38 finished with value: 0.7709497206703911 and parameters: {'n_estimators': 90, 'max_depth': 14}. Best is trial 33 with value: 0.7839851024208566.\n",
      "[I 2025-07-02 18:09:47,370] Trial 39 finished with value: 0.7690875232774674 and parameters: {'n_estimators': 138, 'max_depth': 8}. Best is trial 33 with value: 0.7839851024208566.\n",
      "[I 2025-07-02 18:09:47,587] Trial 40 finished with value: 0.7783985102420857 and parameters: {'n_estimators': 65, 'max_depth': 19}. Best is trial 33 with value: 0.7839851024208566.\n",
      "[I 2025-07-02 18:09:47,850] Trial 41 finished with value: 0.7783985102420857 and parameters: {'n_estimators': 71, 'max_depth': 19}. Best is trial 33 with value: 0.7839851024208566.\n",
      "[I 2025-07-02 18:09:48,129] Trial 42 finished with value: 0.7783985102420857 and parameters: {'n_estimators': 75, 'max_depth': 20}. Best is trial 33 with value: 0.7839851024208566.\n",
      "[I 2025-07-02 18:09:48,338] Trial 43 finished with value: 0.7690875232774674 and parameters: {'n_estimators': 56, 'max_depth': 18}. Best is trial 33 with value: 0.7839851024208566.\n",
      "[I 2025-07-02 18:09:48,677] Trial 44 finished with value: 0.7728119180633147 and parameters: {'n_estimators': 105, 'max_depth': 19}. Best is trial 33 with value: 0.7839851024208566.\n",
      "[I 2025-07-02 18:09:48,876] Trial 45 finished with value: 0.7783985102420857 and parameters: {'n_estimators': 67, 'max_depth': 17}. Best is trial 33 with value: 0.7839851024208566.\n",
      "[I 2025-07-02 18:09:49,149] Trial 46 finished with value: 0.7690875232774674 and parameters: {'n_estimators': 85, 'max_depth': 20}. Best is trial 33 with value: 0.7839851024208566.\n",
      "[I 2025-07-02 18:09:49,414] Trial 47 finished with value: 0.7597765363128492 and parameters: {'n_estimators': 95, 'max_depth': 10}. Best is trial 33 with value: 0.7839851024208566.\n",
      "[I 2025-07-02 18:09:49,639] Trial 48 finished with value: 0.7765363128491621 and parameters: {'n_estimators': 74, 'max_depth': 19}. Best is trial 33 with value: 0.7839851024208566.\n",
      "[I 2025-07-02 18:09:50,043] Trial 49 finished with value: 0.7802607076350093 and parameters: {'n_estimators': 115, 'max_depth': 16}. Best is trial 33 with value: 0.7839851024208566.\n",
      "[I 2025-07-02 18:09:50,825] Trial 50 finished with value: 0.7746741154562384 and parameters: {'n_estimators': 156, 'max_depth': 16}. Best is trial 33 with value: 0.7839851024208566.\n",
      "[I 2025-07-02 18:09:51,207] Trial 51 finished with value: 0.7765363128491621 and parameters: {'n_estimators': 120, 'max_depth': 18}. Best is trial 33 with value: 0.7839851024208566.\n",
      "[I 2025-07-02 18:09:51,865] Trial 52 finished with value: 0.7765363128491619 and parameters: {'n_estimators': 171, 'max_depth': 17}. Best is trial 33 with value: 0.7839851024208566.\n",
      "[I 2025-07-02 18:09:52,137] Trial 53 finished with value: 0.7690875232774674 and parameters: {'n_estimators': 85, 'max_depth': 20}. Best is trial 33 with value: 0.7839851024208566.\n",
      "[I 2025-07-02 18:09:52,309] Trial 54 finished with value: 0.7728119180633147 and parameters: {'n_estimators': 53, 'max_depth': 5}. Best is trial 33 with value: 0.7839851024208566.\n",
      "[I 2025-07-02 18:09:53,050] Trial 55 finished with value: 0.7690875232774674 and parameters: {'n_estimators': 182, 'max_depth': 18}. Best is trial 33 with value: 0.7839851024208566.\n",
      "[I 2025-07-02 18:09:53,269] Trial 56 finished with value: 0.7690875232774674 and parameters: {'n_estimators': 64, 'max_depth': 15}. Best is trial 33 with value: 0.7839851024208566.\n",
      "[I 2025-07-02 18:09:53,606] Trial 57 finished with value: 0.7690875232774674 and parameters: {'n_estimators': 108, 'max_depth': 20}. Best is trial 33 with value: 0.7839851024208566.\n",
      "[I 2025-07-02 18:09:53,861] Trial 58 finished with value: 0.7653631284916201 and parameters: {'n_estimators': 83, 'max_depth': 17}. Best is trial 33 with value: 0.7839851024208566.\n",
      "[I 2025-07-02 18:09:54,347] Trial 59 finished with value: 0.7728119180633147 and parameters: {'n_estimators': 139, 'max_depth': 12}. Best is trial 33 with value: 0.7839851024208566.\n",
      "[I 2025-07-02 18:09:54,633] Trial 60 finished with value: 0.7821229050279331 and parameters: {'n_estimators': 73, 'max_depth': 19}. Best is trial 33 with value: 0.7839851024208566.\n",
      "[I 2025-07-02 18:09:54,898] Trial 61 finished with value: 0.7783985102420857 and parameters: {'n_estimators': 71, 'max_depth': 19}. Best is trial 33 with value: 0.7839851024208566.\n",
      "[I 2025-07-02 18:09:55,150] Trial 62 finished with value: 0.7635009310986964 and parameters: {'n_estimators': 78, 'max_depth': 19}. Best is trial 33 with value: 0.7839851024208566.\n",
      "[I 2025-07-02 18:09:55,320] Trial 63 finished with value: 0.7709497206703911 and parameters: {'n_estimators': 50, 'max_depth': 18}. Best is trial 33 with value: 0.7839851024208566.\n",
      "[I 2025-07-02 18:09:55,528] Trial 64 finished with value: 0.7821229050279331 and parameters: {'n_estimators': 63, 'max_depth': 16}. Best is trial 33 with value: 0.7839851024208566.\n",
      "[I 2025-07-02 18:09:55,740] Trial 65 finished with value: 0.7709497206703911 and parameters: {'n_estimators': 56, 'max_depth': 14}. Best is trial 33 with value: 0.7839851024208566.\n",
      "[I 2025-07-02 18:09:55,968] Trial 66 finished with value: 0.7821229050279331 and parameters: {'n_estimators': 63, 'max_depth': 16}. Best is trial 33 with value: 0.7839851024208566.\n",
      "[I 2025-07-02 18:09:56,201] Trial 67 finished with value: 0.7821229050279331 and parameters: {'n_estimators': 63, 'max_depth': 16}. Best is trial 33 with value: 0.7839851024208566.\n",
      "[I 2025-07-02 18:09:56,400] Trial 68 finished with value: 0.7746741154562384 and parameters: {'n_estimators': 63, 'max_depth': 15}. Best is trial 33 with value: 0.7839851024208566.\n",
      "[I 2025-07-02 18:09:56,580] Trial 69 finished with value: 0.7709497206703911 and parameters: {'n_estimators': 59, 'max_depth': 16}. Best is trial 33 with value: 0.7839851024208566.\n",
      "[I 2025-07-02 18:09:56,784] Trial 70 finished with value: 0.7709497206703911 and parameters: {'n_estimators': 67, 'max_depth': 13}. Best is trial 33 with value: 0.7839851024208566.\n",
      "[I 2025-07-02 18:09:56,976] Trial 71 finished with value: 0.7765363128491621 and parameters: {'n_estimators': 61, 'max_depth': 16}. Best is trial 33 with value: 0.7839851024208566.\n",
      "[I 2025-07-02 18:09:57,183] Trial 72 finished with value: 0.7709497206703911 and parameters: {'n_estimators': 67, 'max_depth': 15}. Best is trial 33 with value: 0.7839851024208566.\n",
      "[I 2025-07-02 18:09:57,347] Trial 73 finished with value: 0.7672253258845437 and parameters: {'n_estimators': 55, 'max_depth': 14}. Best is trial 33 with value: 0.7839851024208566.\n",
      "[I 2025-07-02 18:09:57,621] Trial 74 finished with value: 0.7653631284916201 and parameters: {'n_estimators': 78, 'max_depth': 17}. Best is trial 33 with value: 0.7839851024208566.\n",
      "[I 2025-07-02 18:09:57,868] Trial 75 finished with value: 0.7635009310986964 and parameters: {'n_estimators': 88, 'max_depth': 16}. Best is trial 33 with value: 0.7839851024208566.\n",
      "[I 2025-07-02 18:09:58,221] Trial 76 finished with value: 0.7746741154562384 and parameters: {'n_estimators': 116, 'max_depth': 17}. Best is trial 33 with value: 0.7839851024208566.\n",
      "[I 2025-07-02 18:09:58,510] Trial 77 finished with value: 0.7653631284916201 and parameters: {'n_estimators': 94, 'max_depth': 15}. Best is trial 33 with value: 0.7839851024208566.\n",
      "[I 2025-07-02 18:09:58,735] Trial 78 finished with value: 0.7728119180633147 and parameters: {'n_estimators': 75, 'max_depth': 16}. Best is trial 33 with value: 0.7839851024208566.\n",
      "[I 2025-07-02 18:09:58,977] Trial 79 finished with value: 0.7728119180633147 and parameters: {'n_estimators': 81, 'max_depth': 18}. Best is trial 33 with value: 0.7839851024208566.\n",
      "[I 2025-07-02 18:09:59,186] Trial 80 finished with value: 0.7802607076350094 and parameters: {'n_estimators': 70, 'max_depth': 17}. Best is trial 33 with value: 0.7839851024208566.\n",
      "[I 2025-07-02 18:09:59,422] Trial 81 finished with value: 0.7802607076350094 and parameters: {'n_estimators': 70, 'max_depth': 17}. Best is trial 33 with value: 0.7839851024208566.\n",
      "[I 2025-07-02 18:09:59,682] Trial 82 finished with value: 0.7765363128491621 and parameters: {'n_estimators': 69, 'max_depth': 17}. Best is trial 33 with value: 0.7839851024208566.\n",
      "[I 2025-07-02 18:09:59,917] Trial 83 finished with value: 0.7746741154562384 and parameters: {'n_estimators': 63, 'max_depth': 18}. Best is trial 33 with value: 0.7839851024208566.\n",
      "[I 2025-07-02 18:10:00,132] Trial 84 finished with value: 0.7746741154562384 and parameters: {'n_estimators': 73, 'max_depth': 16}. Best is trial 33 with value: 0.7839851024208566.\n",
      "[I 2025-07-02 18:10:00,300] Trial 85 finished with value: 0.7653631284916201 and parameters: {'n_estimators': 53, 'max_depth': 15}. Best is trial 33 with value: 0.7839851024208566.\n",
      "[I 2025-07-02 18:10:00,506] Trial 86 finished with value: 0.7746741154562384 and parameters: {'n_estimators': 57, 'max_depth': 17}. Best is trial 33 with value: 0.7839851024208566.\n",
      "[I 2025-07-02 18:10:00,768] Trial 87 finished with value: 0.7690875232774674 and parameters: {'n_estimators': 87, 'max_depth': 17}. Best is trial 33 with value: 0.7839851024208566.\n",
      "[I 2025-07-02 18:10:01,064] Trial 88 finished with value: 0.7690875232774674 and parameters: {'n_estimators': 101, 'max_depth': 14}. Best is trial 33 with value: 0.7839851024208566.\n",
      "[I 2025-07-02 18:10:01,270] Trial 89 finished with value: 0.7541899441340782 and parameters: {'n_estimators': 80, 'max_depth': 3}. Best is trial 33 with value: 0.7839851024208566.\n",
      "[I 2025-07-02 18:10:01,477] Trial 90 finished with value: 0.7690875232774674 and parameters: {'n_estimators': 61, 'max_depth': 13}. Best is trial 33 with value: 0.7839851024208566.\n",
      "[I 2025-07-02 18:10:01,728] Trial 91 finished with value: 0.7783985102420857 and parameters: {'n_estimators': 69, 'max_depth': 18}. Best is trial 33 with value: 0.7839851024208566.\n",
      "[I 2025-07-02 18:10:01,955] Trial 92 finished with value: 0.7783985102420857 and parameters: {'n_estimators': 75, 'max_depth': 18}. Best is trial 33 with value: 0.7839851024208566.\n",
      "[I 2025-07-02 18:10:02,154] Trial 93 finished with value: 0.7709497206703911 and parameters: {'n_estimators': 66, 'max_depth': 16}. Best is trial 33 with value: 0.7839851024208566.\n",
      "[I 2025-07-02 18:10:02,412] Trial 94 finished with value: 0.7783985102420857 and parameters: {'n_estimators': 71, 'max_depth': 19}. Best is trial 33 with value: 0.7839851024208566.\n",
      "[I 2025-07-02 18:10:02,782] Trial 95 finished with value: 0.7690875232774674 and parameters: {'n_estimators': 128, 'max_depth': 8}. Best is trial 33 with value: 0.7839851024208566.\n",
      "[I 2025-07-02 18:10:03,045] Trial 96 finished with value: 0.7728119180633147 and parameters: {'n_estimators': 64, 'max_depth': 18}. Best is trial 33 with value: 0.7839851024208566.\n",
      "[I 2025-07-02 18:10:03,411] Trial 97 finished with value: 0.7672253258845437 and parameters: {'n_estimators': 84, 'max_depth': 7}. Best is trial 33 with value: 0.7839851024208566.\n",
      "[I 2025-07-02 18:10:03,728] Trial 98 finished with value: 0.7746741154562384 and parameters: {'n_estimators': 77, 'max_depth': 17}. Best is trial 33 with value: 0.7839851024208566.\n",
      "[I 2025-07-02 18:10:04,581] Trial 99 finished with value: 0.7728119180633147 and parameters: {'n_estimators': 160, 'max_depth': 19}. Best is trial 33 with value: 0.7839851024208566.\n"
     ]
    },
    {
     "name": "stdout",
     "output_type": "stream",
     "text": [
      "Best trial accuracy: 0.7839851024208566\n",
      "Best trial Hyperparameters: {'n_estimators': 73, 'max_depth': 18}\n",
      "Test accuracy ith best hyperparameters: 0.76\n"
     ]
    }
   ],
   "execution_count": 6
  },
  {
   "metadata": {
    "ExecuteTime": {
     "end_time": "2025-07-02T12:32:59.172106Z",
     "start_time": "2025-07-02T12:31:46.896005Z"
    }
   },
   "cell_type": "code",
   "source": [
    "# Now we will use RandomSampler\n",
    "\n",
    "# Create a study object and optimize the objective function\n",
    "study = optuna.create_study(direction='maximize', sampler=optuna.samplers.RandomSampler())\n",
    "# As we are trying to 'Maximize' our accuracy so our direction of the objective function will be to maximize it\n",
    "study.optimize(objective, n_trials=100) # Running 50 trials to find the optimal hyperparameters\n",
    "\n",
    "# Print the best result\n",
    "print(f'Best trial accuracy: {study.best_trial.value}')\n",
    "print(f'Best trial Hyperparameters: {study.best_trial.params}')\n",
    "\n",
    "from sklearn.metrics import accuracy_score\n",
    "\n",
    "# Train a RandomForestClassifier using the best hyperparameters from Optuna\n",
    "best_model = RandomForestClassifier(**study.best_trial.params, random_state=42)\n",
    "\n",
    "best_model.fit(X_train, y_train)\n",
    "\n",
    "y_pred = best_model.predict(X_test)\n",
    "\n",
    "test_accuracy = accuracy_score(y_test, y_pred)\n",
    "\n",
    "print(f'Test accuracy ith best hyperparameters: {test_accuracy:.2f}')"
   ],
   "id": "399d8e68401a5209",
   "outputs": [
    {
     "name": "stderr",
     "output_type": "stream",
     "text": [
      "[I 2025-07-02 18:01:46,900] A new study created in memory with name: no-name-0a892328-555f-46ba-a887-a6036f217a80\n",
      "[I 2025-07-02 18:01:47,366] Trial 0 finished with value: 0.7672253258845437 and parameters: {'n_estimators': 109, 'max_depth': 5}. Best is trial 0 with value: 0.7672253258845437.\n",
      "[I 2025-07-02 18:01:47,665] Trial 1 finished with value: 0.7746741154562384 and parameters: {'n_estimators': 72, 'max_depth': 5}. Best is trial 1 with value: 0.7746741154562384.\n",
      "[I 2025-07-02 18:01:48,205] Trial 2 finished with value: 0.7728119180633147 and parameters: {'n_estimators': 116, 'max_depth': 8}. Best is trial 1 with value: 0.7746741154562384.\n",
      "[I 2025-07-02 18:01:48,474] Trial 3 finished with value: 0.7728119180633147 and parameters: {'n_estimators': 58, 'max_depth': 8}. Best is trial 1 with value: 0.7746741154562384.\n",
      "[I 2025-07-02 18:01:48,933] Trial 4 finished with value: 0.7690875232774674 and parameters: {'n_estimators': 98, 'max_depth': 14}. Best is trial 1 with value: 0.7746741154562384.\n",
      "[I 2025-07-02 18:01:49,611] Trial 5 finished with value: 0.7672253258845437 and parameters: {'n_estimators': 144, 'max_depth': 5}. Best is trial 1 with value: 0.7746741154562384.\n",
      "[I 2025-07-02 18:01:50,077] Trial 6 finished with value: 0.7709497206703911 and parameters: {'n_estimators': 92, 'max_depth': 5}. Best is trial 1 with value: 0.7746741154562384.\n",
      "[I 2025-07-02 18:01:50,846] Trial 7 finished with value: 0.7672253258845437 and parameters: {'n_estimators': 166, 'max_depth': 5}. Best is trial 1 with value: 0.7746741154562384.\n",
      "[I 2025-07-02 18:01:51,216] Trial 8 finished with value: 0.7653631284916201 and parameters: {'n_estimators': 92, 'max_depth': 15}. Best is trial 1 with value: 0.7746741154562384.\n",
      "[I 2025-07-02 18:01:51,841] Trial 9 finished with value: 0.7802607076350093 and parameters: {'n_estimators': 133, 'max_depth': 18}. Best is trial 9 with value: 0.7802607076350093.\n",
      "[I 2025-07-02 18:01:52,318] Trial 10 finished with value: 0.7672253258845437 and parameters: {'n_estimators': 117, 'max_depth': 5}. Best is trial 9 with value: 0.7802607076350093.\n",
      "[I 2025-07-02 18:01:52,898] Trial 11 finished with value: 0.7858472998137803 and parameters: {'n_estimators': 121, 'max_depth': 15}. Best is trial 11 with value: 0.7858472998137803.\n",
      "[I 2025-07-02 18:01:53,452] Trial 12 finished with value: 0.7765363128491621 and parameters: {'n_estimators': 130, 'max_depth': 20}. Best is trial 11 with value: 0.7858472998137803.\n",
      "[I 2025-07-02 18:01:53,943] Trial 13 finished with value: 0.7672253258845437 and parameters: {'n_estimators': 101, 'max_depth': 7}. Best is trial 11 with value: 0.7858472998137803.\n",
      "[I 2025-07-02 18:01:54,365] Trial 14 finished with value: 0.7765363128491621 and parameters: {'n_estimators': 105, 'max_depth': 13}. Best is trial 11 with value: 0.7858472998137803.\n",
      "[I 2025-07-02 18:01:55,331] Trial 15 finished with value: 0.7672253258845437 and parameters: {'n_estimators': 191, 'max_depth': 5}. Best is trial 11 with value: 0.7858472998137803.\n",
      "[I 2025-07-02 18:01:55,683] Trial 16 finished with value: 0.7821229050279331 and parameters: {'n_estimators': 73, 'max_depth': 20}. Best is trial 11 with value: 0.7858472998137803.\n",
      "[I 2025-07-02 18:01:56,188] Trial 17 finished with value: 0.7635009310986964 and parameters: {'n_estimators': 100, 'max_depth': 14}. Best is trial 11 with value: 0.7858472998137803.\n",
      "[I 2025-07-02 18:01:56,932] Trial 18 finished with value: 0.7765363128491619 and parameters: {'n_estimators': 134, 'max_depth': 19}. Best is trial 11 with value: 0.7858472998137803.\n",
      "[I 2025-07-02 18:01:57,834] Trial 19 finished with value: 0.7653631284916201 and parameters: {'n_estimators': 150, 'max_depth': 11}. Best is trial 11 with value: 0.7858472998137803.\n",
      "[I 2025-07-02 18:01:58,252] Trial 20 finished with value: 0.7672253258845437 and parameters: {'n_estimators': 82, 'max_depth': 8}. Best is trial 11 with value: 0.7858472998137803.\n",
      "[I 2025-07-02 18:01:58,955] Trial 21 finished with value: 0.7765363128491619 and parameters: {'n_estimators': 135, 'max_depth': 17}. Best is trial 11 with value: 0.7858472998137803.\n",
      "[I 2025-07-02 18:01:59,756] Trial 22 finished with value: 0.7635009310986964 and parameters: {'n_estimators': 95, 'max_depth': 11}. Best is trial 11 with value: 0.7858472998137803.\n",
      "[I 2025-07-02 18:02:00,425] Trial 23 finished with value: 0.7597765363128491 and parameters: {'n_estimators': 118, 'max_depth': 11}. Best is trial 11 with value: 0.7858472998137803.\n",
      "[I 2025-07-02 18:02:01,437] Trial 24 finished with value: 0.7635009310986964 and parameters: {'n_estimators': 174, 'max_depth': 6}. Best is trial 11 with value: 0.7858472998137803.\n",
      "[I 2025-07-02 18:02:02,495] Trial 25 finished with value: 0.7709497206703911 and parameters: {'n_estimators': 166, 'max_depth': 17}. Best is trial 11 with value: 0.7858472998137803.\n",
      "[I 2025-07-02 18:02:03,099] Trial 26 finished with value: 0.7746741154562384 and parameters: {'n_estimators': 118, 'max_depth': 12}. Best is trial 11 with value: 0.7858472998137803.\n",
      "[I 2025-07-02 18:02:03,986] Trial 27 finished with value: 0.7746741154562384 and parameters: {'n_estimators': 132, 'max_depth': 18}. Best is trial 11 with value: 0.7858472998137803.\n",
      "[I 2025-07-02 18:02:05,080] Trial 28 finished with value: 0.7728119180633147 and parameters: {'n_estimators': 160, 'max_depth': 20}. Best is trial 11 with value: 0.7858472998137803.\n",
      "[I 2025-07-02 18:02:05,967] Trial 29 finished with value: 0.7728119180633147 and parameters: {'n_estimators': 123, 'max_depth': 14}. Best is trial 11 with value: 0.7858472998137803.\n",
      "[I 2025-07-02 18:02:06,374] Trial 30 finished with value: 0.7690875232774674 and parameters: {'n_estimators': 71, 'max_depth': 12}. Best is trial 11 with value: 0.7858472998137803.\n",
      "[I 2025-07-02 18:02:07,401] Trial 31 finished with value: 0.7635009310986964 and parameters: {'n_estimators': 174, 'max_depth': 6}. Best is trial 11 with value: 0.7858472998137803.\n",
      "[I 2025-07-02 18:02:08,149] Trial 32 finished with value: 0.7821229050279329 and parameters: {'n_estimators': 120, 'max_depth': 7}. Best is trial 11 with value: 0.7858472998137803.\n",
      "[I 2025-07-02 18:02:09,212] Trial 33 finished with value: 0.7690875232774674 and parameters: {'n_estimators': 161, 'max_depth': 12}. Best is trial 11 with value: 0.7858472998137803.\n",
      "[I 2025-07-02 18:02:09,480] Trial 34 finished with value: 0.7728119180633147 and parameters: {'n_estimators': 53, 'max_depth': 16}. Best is trial 11 with value: 0.7858472998137803.\n",
      "[I 2025-07-02 18:02:10,976] Trial 35 finished with value: 0.7746741154562384 and parameters: {'n_estimators': 129, 'max_depth': 15}. Best is trial 11 with value: 0.7858472998137803.\n",
      "[I 2025-07-02 18:02:12,339] Trial 36 finished with value: 0.7783985102420856 and parameters: {'n_estimators': 193, 'max_depth': 16}. Best is trial 11 with value: 0.7858472998137803.\n",
      "[I 2025-07-02 18:02:14,259] Trial 37 finished with value: 0.7616387337057727 and parameters: {'n_estimators': 170, 'max_depth': 9}. Best is trial 11 with value: 0.7858472998137803.\n",
      "[I 2025-07-02 18:02:14,724] Trial 38 finished with value: 0.7653631284916201 and parameters: {'n_estimators': 77, 'max_depth': 8}. Best is trial 11 with value: 0.7858472998137803.\n",
      "[I 2025-07-02 18:02:15,854] Trial 39 finished with value: 0.7728119180633147 and parameters: {'n_estimators': 163, 'max_depth': 19}. Best is trial 11 with value: 0.7858472998137803.\n",
      "[I 2025-07-02 18:02:16,382] Trial 40 finished with value: 0.7635009310986964 and parameters: {'n_estimators': 66, 'max_depth': 14}. Best is trial 11 with value: 0.7858472998137803.\n",
      "[I 2025-07-02 18:02:16,724] Trial 41 finished with value: 0.7653631284916201 and parameters: {'n_estimators': 67, 'max_depth': 6}. Best is trial 11 with value: 0.7858472998137803.\n",
      "[I 2025-07-02 18:02:17,053] Trial 42 finished with value: 0.7672253258845437 and parameters: {'n_estimators': 62, 'max_depth': 11}. Best is trial 11 with value: 0.7858472998137803.\n",
      "[I 2025-07-02 18:02:18,286] Trial 43 finished with value: 0.7728119180633147 and parameters: {'n_estimators': 182, 'max_depth': 7}. Best is trial 11 with value: 0.7858472998137803.\n",
      "[I 2025-07-02 18:02:19,861] Trial 44 finished with value: 0.7746741154562384 and parameters: {'n_estimators': 164, 'max_depth': 7}. Best is trial 11 with value: 0.7858472998137803.\n",
      "[I 2025-07-02 18:02:20,831] Trial 45 finished with value: 0.7541899441340782 and parameters: {'n_estimators': 161, 'max_depth': 3}. Best is trial 11 with value: 0.7858472998137803.\n",
      "[I 2025-07-02 18:02:21,118] Trial 46 finished with value: 0.7523277467411545 and parameters: {'n_estimators': 53, 'max_depth': 10}. Best is trial 11 with value: 0.7858472998137803.\n",
      "[I 2025-07-02 18:02:21,641] Trial 47 finished with value: 0.7690875232774674 and parameters: {'n_estimators': 95, 'max_depth': 13}. Best is trial 11 with value: 0.7858472998137803.\n",
      "[I 2025-07-02 18:02:22,492] Trial 48 finished with value: 0.7672253258845437 and parameters: {'n_estimators': 118, 'max_depth': 10}. Best is trial 11 with value: 0.7858472998137803.\n",
      "[I 2025-07-02 18:02:23,662] Trial 49 finished with value: 0.7709497206703911 and parameters: {'n_estimators': 172, 'max_depth': 20}. Best is trial 11 with value: 0.7858472998137803.\n",
      "[I 2025-07-02 18:02:24,149] Trial 50 finished with value: 0.7541899441340782 and parameters: {'n_estimators': 94, 'max_depth': 3}. Best is trial 11 with value: 0.7858472998137803.\n",
      "[I 2025-07-02 18:02:25,471] Trial 51 finished with value: 0.7672253258845437 and parameters: {'n_estimators': 187, 'max_depth': 7}. Best is trial 11 with value: 0.7858472998137803.\n",
      "[I 2025-07-02 18:02:27,067] Trial 52 finished with value: 0.7616387337057727 and parameters: {'n_estimators': 185, 'max_depth': 5}. Best is trial 11 with value: 0.7858472998137803.\n",
      "[I 2025-07-02 18:02:28,429] Trial 53 finished with value: 0.7709497206703911 and parameters: {'n_estimators': 188, 'max_depth': 14}. Best is trial 11 with value: 0.7858472998137803.\n",
      "[I 2025-07-02 18:02:29,007] Trial 54 finished with value: 0.7709497206703911 and parameters: {'n_estimators': 93, 'max_depth': 5}. Best is trial 11 with value: 0.7858472998137803.\n",
      "[I 2025-07-02 18:02:30,848] Trial 55 finished with value: 0.7709497206703911 and parameters: {'n_estimators': 190, 'max_depth': 20}. Best is trial 11 with value: 0.7858472998137803.\n",
      "[I 2025-07-02 18:02:32,175] Trial 56 finished with value: 0.7709497206703911 and parameters: {'n_estimators': 186, 'max_depth': 15}. Best is trial 11 with value: 0.7858472998137803.\n",
      "[I 2025-07-02 18:02:32,591] Trial 57 finished with value: 0.7728119180633147 and parameters: {'n_estimators': 68, 'max_depth': 11}. Best is trial 11 with value: 0.7858472998137803.\n",
      "[I 2025-07-02 18:02:32,912] Trial 58 finished with value: 0.7690875232774674 and parameters: {'n_estimators': 52, 'max_depth': 13}. Best is trial 11 with value: 0.7858472998137803.\n",
      "[I 2025-07-02 18:02:34,259] Trial 59 finished with value: 0.7728119180633147 and parameters: {'n_estimators': 165, 'max_depth': 17}. Best is trial 11 with value: 0.7858472998137803.\n",
      "[I 2025-07-02 18:02:34,685] Trial 60 finished with value: 0.7709497206703911 and parameters: {'n_estimators': 82, 'max_depth': 5}. Best is trial 11 with value: 0.7858472998137803.\n",
      "[I 2025-07-02 18:02:35,487] Trial 61 finished with value: 0.7746741154562384 and parameters: {'n_estimators': 132, 'max_depth': 18}. Best is trial 11 with value: 0.7858472998137803.\n",
      "[I 2025-07-02 18:02:36,188] Trial 62 finished with value: 0.7635009310986964 and parameters: {'n_estimators': 91, 'max_depth': 11}. Best is trial 11 with value: 0.7858472998137803.\n",
      "[I 2025-07-02 18:02:36,753] Trial 63 finished with value: 0.7728119180633147 and parameters: {'n_estimators': 89, 'max_depth': 17}. Best is trial 11 with value: 0.7858472998137803.\n",
      "[I 2025-07-02 18:02:37,044] Trial 64 finished with value: 0.7616387337057727 and parameters: {'n_estimators': 52, 'max_depth': 10}. Best is trial 11 with value: 0.7858472998137803.\n",
      "[I 2025-07-02 18:02:37,795] Trial 65 finished with value: 0.7653631284916201 and parameters: {'n_estimators': 133, 'max_depth': 9}. Best is trial 11 with value: 0.7858472998137803.\n",
      "[I 2025-07-02 18:02:38,230] Trial 66 finished with value: 0.7635009310986964 and parameters: {'n_estimators': 69, 'max_depth': 4}. Best is trial 11 with value: 0.7858472998137803.\n",
      "[I 2025-07-02 18:02:38,848] Trial 67 finished with value: 0.7765363128491621 and parameters: {'n_estimators': 111, 'max_depth': 20}. Best is trial 11 with value: 0.7858472998137803.\n",
      "[I 2025-07-02 18:02:39,967] Trial 68 finished with value: 0.7597765363128491 and parameters: {'n_estimators': 196, 'max_depth': 6}. Best is trial 11 with value: 0.7858472998137803.\n",
      "[I 2025-07-02 18:02:40,939] Trial 69 finished with value: 0.7765363128491621 and parameters: {'n_estimators': 169, 'max_depth': 16}. Best is trial 11 with value: 0.7858472998137803.\n",
      "[I 2025-07-02 18:02:42,087] Trial 70 finished with value: 0.7783985102420856 and parameters: {'n_estimators': 195, 'max_depth': 17}. Best is trial 11 with value: 0.7858472998137803.\n",
      "[I 2025-07-02 18:02:43,132] Trial 71 finished with value: 0.7616387337057727 and parameters: {'n_estimators': 198, 'max_depth': 9}. Best is trial 11 with value: 0.7858472998137803.\n",
      "[I 2025-07-02 18:02:43,548] Trial 72 finished with value: 0.7635009310986964 and parameters: {'n_estimators': 98, 'max_depth': 4}. Best is trial 11 with value: 0.7858472998137803.\n",
      "[I 2025-07-02 18:02:44,317] Trial 73 finished with value: 0.7672253258845437 and parameters: {'n_estimators': 174, 'max_depth': 11}. Best is trial 11 with value: 0.7858472998137803.\n",
      "[I 2025-07-02 18:02:45,225] Trial 74 finished with value: 0.7728119180633147 and parameters: {'n_estimators': 181, 'max_depth': 19}. Best is trial 11 with value: 0.7858472998137803.\n",
      "[I 2025-07-02 18:02:45,541] Trial 75 finished with value: 0.7672253258845437 and parameters: {'n_estimators': 62, 'max_depth': 11}. Best is trial 11 with value: 0.7858472998137803.\n",
      "[I 2025-07-02 18:02:46,364] Trial 76 finished with value: 0.7616387337057727 and parameters: {'n_estimators': 197, 'max_depth': 4}. Best is trial 11 with value: 0.7858472998137803.\n",
      "[I 2025-07-02 18:02:47,147] Trial 77 finished with value: 0.7765363128491619 and parameters: {'n_estimators': 171, 'max_depth': 17}. Best is trial 11 with value: 0.7858472998137803.\n",
      "[I 2025-07-02 18:02:47,902] Trial 78 finished with value: 0.7597765363128491 and parameters: {'n_estimators': 198, 'max_depth': 3}. Best is trial 11 with value: 0.7858472998137803.\n",
      "[I 2025-07-02 18:02:48,306] Trial 79 finished with value: 0.7765363128491621 and parameters: {'n_estimators': 90, 'max_depth': 18}. Best is trial 11 with value: 0.7858472998137803.\n",
      "[I 2025-07-02 18:02:48,827] Trial 80 finished with value: 0.7746741154562384 and parameters: {'n_estimators': 117, 'max_depth': 12}. Best is trial 11 with value: 0.7858472998137803.\n",
      "[I 2025-07-02 18:02:49,144] Trial 81 finished with value: 0.7709497206703911 and parameters: {'n_estimators': 72, 'max_depth': 7}. Best is trial 11 with value: 0.7858472998137803.\n",
      "[I 2025-07-02 18:02:49,353] Trial 82 finished with value: 0.7579143389199254 and parameters: {'n_estimators': 53, 'max_depth': 3}. Best is trial 11 with value: 0.7858472998137803.\n",
      "[I 2025-07-02 18:02:50,012] Trial 83 finished with value: 0.7746741154562383 and parameters: {'n_estimators': 150, 'max_depth': 7}. Best is trial 11 with value: 0.7858472998137803.\n",
      "[I 2025-07-02 18:02:50,923] Trial 84 finished with value: 0.7728119180633147 and parameters: {'n_estimators': 187, 'max_depth': 20}. Best is trial 11 with value: 0.7858472998137803.\n",
      "[I 2025-07-02 18:02:51,745] Trial 85 finished with value: 0.7709497206703911 and parameters: {'n_estimators': 152, 'max_depth': 17}. Best is trial 11 with value: 0.7858472998137803.\n",
      "[I 2025-07-02 18:02:52,336] Trial 86 finished with value: 0.7579143389199254 and parameters: {'n_estimators': 143, 'max_depth': 3}. Best is trial 11 with value: 0.7858472998137803.\n",
      "[I 2025-07-02 18:02:52,883] Trial 87 finished with value: 0.7709497206703911 and parameters: {'n_estimators': 102, 'max_depth': 18}. Best is trial 11 with value: 0.7858472998137803.\n",
      "[I 2025-07-02 18:02:53,152] Trial 88 finished with value: 0.7746741154562384 and parameters: {'n_estimators': 56, 'max_depth': 13}. Best is trial 11 with value: 0.7858472998137803.\n",
      "[I 2025-07-02 18:02:53,805] Trial 89 finished with value: 0.7709497206703911 and parameters: {'n_estimators': 143, 'max_depth': 15}. Best is trial 11 with value: 0.7858472998137803.\n",
      "[I 2025-07-02 18:02:54,156] Trial 90 finished with value: 0.756052141527002 and parameters: {'n_estimators': 92, 'max_depth': 3}. Best is trial 11 with value: 0.7858472998137803.\n",
      "[I 2025-07-02 18:02:54,999] Trial 91 finished with value: 0.7560521415270017 and parameters: {'n_estimators': 199, 'max_depth': 6}. Best is trial 11 with value: 0.7858472998137803.\n",
      "[I 2025-07-02 18:02:55,744] Trial 92 finished with value: 0.7709497206703911 and parameters: {'n_estimators': 163, 'max_depth': 18}. Best is trial 11 with value: 0.7858472998137803.\n",
      "[I 2025-07-02 18:02:56,237] Trial 93 finished with value: 0.7560521415270017 and parameters: {'n_estimators': 127, 'max_depth': 3}. Best is trial 11 with value: 0.7858472998137803.\n",
      "[I 2025-07-02 18:02:56,549] Trial 94 finished with value: 0.7709497206703911 and parameters: {'n_estimators': 69, 'max_depth': 8}. Best is trial 11 with value: 0.7858472998137803.\n",
      "[I 2025-07-02 18:02:57,303] Trial 95 finished with value: 0.7709497206703911 and parameters: {'n_estimators': 164, 'max_depth': 13}. Best is trial 11 with value: 0.7858472998137803.\n",
      "[I 2025-07-02 18:02:57,741] Trial 96 finished with value: 0.7746741154562384 and parameters: {'n_estimators': 103, 'max_depth': 17}. Best is trial 11 with value: 0.7858472998137803.\n",
      "[I 2025-07-02 18:02:58,071] Trial 97 finished with value: 0.7728119180633147 and parameters: {'n_estimators': 116, 'max_depth': 8}. Best is trial 11 with value: 0.7858472998137803.\n",
      "[I 2025-07-02 18:02:58,514] Trial 98 finished with value: 0.7672253258845437 and parameters: {'n_estimators': 148, 'max_depth': 11}. Best is trial 11 with value: 0.7858472998137803.\n",
      "[I 2025-07-02 18:02:59,020] Trial 99 finished with value: 0.7783985102420857 and parameters: {'n_estimators': 171, 'max_depth': 16}. Best is trial 11 with value: 0.7858472998137803.\n"
     ]
    },
    {
     "name": "stdout",
     "output_type": "stream",
     "text": [
      "Best trial accuracy: 0.7858472998137803\n",
      "Best trial Hyperparameters: {'n_estimators': 121, 'max_depth': 15}\n",
      "Test accuracy ith best hyperparameters: 0.76\n"
     ]
    }
   ],
   "execution_count": 14
  },
  {
   "metadata": {
    "ExecuteTime": {
     "end_time": "2025-07-02T12:34:54.064199Z",
     "start_time": "2025-07-02T12:34:47.416339Z"
    }
   },
   "cell_type": "code",
   "source": [
    "# Now we will use Grid Search\n",
    "\n",
    "# We have to explicitly mention our search space first\n",
    "\n",
    "search_space = {\n",
    "    'n_estimators': [50, 100, 150, 200],\n",
    "    'max_depth': [5, 10, 15, 20]\n",
    "}\n",
    "# Create a study object and optimize the objective function\n",
    "study = optuna.create_study(direction='maximize', sampler=optuna.samplers.GridSampler(search_space))\n",
    "# As we are trying to 'Maximize' our accuracy so our direction of the objective function will be to maximize it\n",
    "study.optimize(objective, n_trials=100) # Running 50 trials to find the optimal hyperparameters\n",
    "\n",
    "# Print the best result\n",
    "print(f'Best trial accuracy: {study.best_trial.value}')\n",
    "print(f'Best trial Hyperparameters: {study.best_trial.params}')\n",
    "\n",
    "from sklearn.metrics import accuracy_score\n",
    "\n",
    "# Train a RandomForestClassifier using the best hyperparameters from Optuna\n",
    "best_model = RandomForestClassifier(**study.best_trial.params, random_state=42)\n",
    "\n",
    "best_model.fit(X_train, y_train)\n",
    "\n",
    "y_pred = best_model.predict(X_test)\n",
    "\n",
    "test_accuracy = accuracy_score(y_test, y_pred)\n",
    "\n",
    "print(f'Test accuracy ith best hyperparameters: {test_accuracy:.2f}')"
   ],
   "id": "c1adc73c10ec3a62",
   "outputs": [
    {
     "name": "stderr",
     "output_type": "stream",
     "text": [
      "[I 2025-07-02 18:04:47,419] A new study created in memory with name: no-name-f2b3e42d-d08b-4678-97e2-377437c3e93d\n",
      "[I 2025-07-02 18:04:47,731] Trial 0 finished with value: 0.7690875232774674 and parameters: {'n_estimators': 100, 'max_depth': 5}. Best is trial 0 with value: 0.7690875232774674.\n",
      "[I 2025-07-02 18:04:48,290] Trial 1 finished with value: 0.7672253258845437 and parameters: {'n_estimators': 150, 'max_depth': 10}. Best is trial 0 with value: 0.7690875232774674.\n",
      "[I 2025-07-02 18:04:48,497] Trial 2 finished with value: 0.7728119180633147 and parameters: {'n_estimators': 50, 'max_depth': 15}. Best is trial 2 with value: 0.7728119180633147.\n",
      "[I 2025-07-02 18:04:48,832] Trial 3 finished with value: 0.7653631284916201 and parameters: {'n_estimators': 100, 'max_depth': 15}. Best is trial 2 with value: 0.7728119180633147.\n",
      "[I 2025-07-02 18:04:49,232] Trial 4 finished with value: 0.7690875232774674 and parameters: {'n_estimators': 100, 'max_depth': 20}. Best is trial 2 with value: 0.7728119180633147.\n",
      "[I 2025-07-02 18:04:49,430] Trial 5 finished with value: 0.7579143389199254 and parameters: {'n_estimators': 50, 'max_depth': 10}. Best is trial 2 with value: 0.7728119180633147.\n",
      "[I 2025-07-02 18:04:49,941] Trial 6 finished with value: 0.7653631284916201 and parameters: {'n_estimators': 150, 'max_depth': 5}. Best is trial 2 with value: 0.7728119180633147.\n",
      "[I 2025-07-02 18:04:50,443] Trial 7 finished with value: 0.7728119180633147 and parameters: {'n_estimators': 150, 'max_depth': 20}. Best is trial 2 with value: 0.7728119180633147.\n",
      "[I 2025-07-02 18:04:50,889] Trial 8 finished with value: 0.7728119180633147 and parameters: {'n_estimators': 150, 'max_depth': 15}. Best is trial 2 with value: 0.7728119180633147.\n",
      "[I 2025-07-02 18:04:51,478] Trial 9 finished with value: 0.7709497206703911 and parameters: {'n_estimators': 200, 'max_depth': 10}. Best is trial 2 with value: 0.7728119180633147.\n",
      "[I 2025-07-02 18:04:52,089] Trial 10 finished with value: 0.7728119180633147 and parameters: {'n_estimators': 200, 'max_depth': 20}. Best is trial 2 with value: 0.7728119180633147.\n",
      "[I 2025-07-02 18:04:52,730] Trial 11 finished with value: 0.7728119180633147 and parameters: {'n_estimators': 200, 'max_depth': 15}. Best is trial 2 with value: 0.7728119180633147.\n",
      "[I 2025-07-02 18:04:53,342] Trial 12 finished with value: 0.7690875232774674 and parameters: {'n_estimators': 200, 'max_depth': 5}. Best is trial 2 with value: 0.7728119180633147.\n",
      "[I 2025-07-02 18:04:53,513] Trial 13 finished with value: 0.7746741154562384 and parameters: {'n_estimators': 50, 'max_depth': 5}. Best is trial 13 with value: 0.7746741154562384.\n",
      "[I 2025-07-02 18:04:53,852] Trial 14 finished with value: 0.7616387337057727 and parameters: {'n_estimators': 100, 'max_depth': 10}. Best is trial 13 with value: 0.7746741154562384.\n",
      "[I 2025-07-02 18:04:54,013] Trial 15 finished with value: 0.7709497206703911 and parameters: {'n_estimators': 50, 'max_depth': 20}. Best is trial 13 with value: 0.7746741154562384.\n"
     ]
    },
    {
     "name": "stdout",
     "output_type": "stream",
     "text": [
      "Best trial accuracy: 0.7746741154562384\n",
      "Best trial Hyperparameters: {'n_estimators': 50, 'max_depth': 5}\n",
      "Test accuracy ith best hyperparameters: 0.74\n"
     ]
    }
   ],
   "execution_count": 15
  },
  {
   "metadata": {},
   "cell_type": "markdown",
   "source": "#### Optuna Visualization",
   "id": "6517a1dcc3c29dc8"
  },
  {
   "metadata": {
    "ExecuteTime": {
     "end_time": "2025-07-02T12:40:05.594127Z",
     "start_time": "2025-07-02T12:40:04.773399Z"
    }
   },
   "cell_type": "code",
   "source": "from optuna.visualization import plot_optimization_history, plot_parallel_coordinate, plot_slice, plot_contour, plot_param_importances",
   "id": "2893885ecd4793a5",
   "outputs": [],
   "execution_count": 7
  },
  {
   "metadata": {
    "ExecuteTime": {
     "end_time": "2025-07-02T12:37:58.780155Z",
     "start_time": "2025-07-02T12:37:56.252800Z"
    }
   },
   "cell_type": "code",
   "source": "# !uv pip install matplotlib plotly",
   "id": "7a94ac76c265200e",
   "outputs": [
    {
     "name": "stdout",
     "output_type": "stream",
     "text": [
      "\u001B[2mUsing Python 3.10.12 environment at: PyTorch\u001B[0m\r\n",
      "\u001B[2K\u001B[2mResolved \u001B[1m13 packages\u001B[0m \u001B[2min 183ms\u001B[0m\u001B[0m                                        \u001B[0m\r\n",
      "\u001B[2K\u001B[2mPrepared \u001B[1m2 packages\u001B[0m \u001B[2min 2.16s\u001B[0m\u001B[0m                                             \r\n",
      "\u001B[2K\u001B[2mInstalled \u001B[1m2 packages\u001B[0m \u001B[2min 25ms\u001B[0m\u001B[0m                                \u001B[0m\r\n",
      " \u001B[32m+\u001B[39m \u001B[1mnarwhals\u001B[0m\u001B[2m==1.45.0\u001B[0m\r\n",
      " \u001B[32m+\u001B[39m \u001B[1mplotly\u001B[0m\u001B[2m==6.2.0\u001B[0m\r\n"
     ]
    }
   ],
   "execution_count": 18
  },
  {
   "metadata": {
    "ExecuteTime": {
     "end_time": "2025-07-02T12:40:05.806110Z",
     "start_time": "2025-07-02T12:40:05.613202Z"
    }
   },
   "cell_type": "code",
   "source": [
    "# 1. Optimization history - trial number vs accuracy graph\n",
    "\n",
    "plot_optimization_history(study).show()"
   ],
   "id": "48cd207769b4e115",
   "outputs": [
    {
     "data": {
      "application/vnd.plotly.v1+json": {
       "data": [
        {
         "mode": "markers",
         "name": "Objective Value",
         "x": [
          0,
          1,
          2,
          3,
          4,
          5,
          6,
          7,
          8,
          9,
          10,
          11,
          12,
          13,
          14,
          15,
          16,
          17,
          18,
          19,
          20,
          21,
          22,
          23,
          24,
          25,
          26,
          27,
          28,
          29,
          30,
          31,
          32,
          33,
          34,
          35,
          36,
          37,
          38,
          39,
          40,
          41,
          42,
          43,
          44,
          45,
          46,
          47,
          48,
          49,
          50,
          51,
          52,
          53,
          54,
          55,
          56,
          57,
          58,
          59,
          60,
          61,
          62,
          63,
          64,
          65,
          66,
          67,
          68,
          69,
          70,
          71,
          72,
          73,
          74,
          75,
          76,
          77,
          78,
          79,
          80,
          81,
          82,
          83,
          84,
          85,
          86,
          87,
          88,
          89,
          90,
          91,
          92,
          93,
          94,
          95,
          96,
          97,
          98,
          99
         ],
         "y": [
          0.7783985102420856,
          0.7690875232774674,
          0.756052141527002,
          0.7653631284916201,
          0.7709497206703911,
          0.7653631284916201,
          0.7597765363128491,
          0.7690875232774674,
          0.7765363128491621,
          0.7597765363128491,
          0.7783985102420857,
          0.7765363128491621,
          0.7653631284916201,
          0.7746741154562384,
          0.7783985102420856,
          0.7728119180633147,
          0.7709497206703911,
          0.7690875232774674,
          0.7672253258845437,
          0.7783985102420857,
          0.7783985102420857,
          0.7746741154562384,
          0.7709497206703911,
          0.7746741154562384,
          0.7709497206703911,
          0.7709497206703911,
          0.7746741154562384,
          0.7653631284916201,
          0.7746741154562384,
          0.7765363128491621,
          0.7653631284916201,
          0.7690875232774674,
          0.7672253258845437,
          0.7839851024208566,
          0.7783985102420857,
          0.7653631284916201,
          0.7746741154562384,
          0.7765363128491619,
          0.7709497206703911,
          0.7690875232774674,
          0.7783985102420857,
          0.7783985102420857,
          0.7783985102420857,
          0.7690875232774674,
          0.7728119180633147,
          0.7783985102420857,
          0.7690875232774674,
          0.7597765363128492,
          0.7765363128491621,
          0.7802607076350093,
          0.7746741154562384,
          0.7765363128491621,
          0.7765363128491619,
          0.7690875232774674,
          0.7728119180633147,
          0.7690875232774674,
          0.7690875232774674,
          0.7690875232774674,
          0.7653631284916201,
          0.7728119180633147,
          0.7821229050279331,
          0.7783985102420857,
          0.7635009310986964,
          0.7709497206703911,
          0.7821229050279331,
          0.7709497206703911,
          0.7821229050279331,
          0.7821229050279331,
          0.7746741154562384,
          0.7709497206703911,
          0.7709497206703911,
          0.7765363128491621,
          0.7709497206703911,
          0.7672253258845437,
          0.7653631284916201,
          0.7635009310986964,
          0.7746741154562384,
          0.7653631284916201,
          0.7728119180633147,
          0.7728119180633147,
          0.7802607076350094,
          0.7802607076350094,
          0.7765363128491621,
          0.7746741154562384,
          0.7746741154562384,
          0.7653631284916201,
          0.7746741154562384,
          0.7690875232774674,
          0.7690875232774674,
          0.7541899441340782,
          0.7690875232774674,
          0.7783985102420857,
          0.7783985102420857,
          0.7709497206703911,
          0.7783985102420857,
          0.7690875232774674,
          0.7728119180633147,
          0.7672253258845437,
          0.7746741154562384,
          0.7728119180633147
         ],
         "type": "scatter"
        },
        {
         "mode": "lines",
         "name": "Best Value",
         "x": [
          0,
          1,
          2,
          3,
          4,
          5,
          6,
          7,
          8,
          9,
          10,
          11,
          12,
          13,
          14,
          15,
          16,
          17,
          18,
          19,
          20,
          21,
          22,
          23,
          24,
          25,
          26,
          27,
          28,
          29,
          30,
          31,
          32,
          33,
          34,
          35,
          36,
          37,
          38,
          39,
          40,
          41,
          42,
          43,
          44,
          45,
          46,
          47,
          48,
          49,
          50,
          51,
          52,
          53,
          54,
          55,
          56,
          57,
          58,
          59,
          60,
          61,
          62,
          63,
          64,
          65,
          66,
          67,
          68,
          69,
          70,
          71,
          72,
          73,
          74,
          75,
          76,
          77,
          78,
          79,
          80,
          81,
          82,
          83,
          84,
          85,
          86,
          87,
          88,
          89,
          90,
          91,
          92,
          93,
          94,
          95,
          96,
          97,
          98,
          99
         ],
         "y": [
          0.7783985102420856,
          0.7783985102420856,
          0.7783985102420856,
          0.7783985102420856,
          0.7783985102420856,
          0.7783985102420856,
          0.7783985102420856,
          0.7783985102420856,
          0.7783985102420856,
          0.7783985102420856,
          0.7783985102420857,
          0.7783985102420857,
          0.7783985102420857,
          0.7783985102420857,
          0.7783985102420857,
          0.7783985102420857,
          0.7783985102420857,
          0.7783985102420857,
          0.7783985102420857,
          0.7783985102420857,
          0.7783985102420857,
          0.7783985102420857,
          0.7783985102420857,
          0.7783985102420857,
          0.7783985102420857,
          0.7783985102420857,
          0.7783985102420857,
          0.7783985102420857,
          0.7783985102420857,
          0.7783985102420857,
          0.7783985102420857,
          0.7783985102420857,
          0.7783985102420857,
          0.7839851024208566,
          0.7839851024208566,
          0.7839851024208566,
          0.7839851024208566,
          0.7839851024208566,
          0.7839851024208566,
          0.7839851024208566,
          0.7839851024208566,
          0.7839851024208566,
          0.7839851024208566,
          0.7839851024208566,
          0.7839851024208566,
          0.7839851024208566,
          0.7839851024208566,
          0.7839851024208566,
          0.7839851024208566,
          0.7839851024208566,
          0.7839851024208566,
          0.7839851024208566,
          0.7839851024208566,
          0.7839851024208566,
          0.7839851024208566,
          0.7839851024208566,
          0.7839851024208566,
          0.7839851024208566,
          0.7839851024208566,
          0.7839851024208566,
          0.7839851024208566,
          0.7839851024208566,
          0.7839851024208566,
          0.7839851024208566,
          0.7839851024208566,
          0.7839851024208566,
          0.7839851024208566,
          0.7839851024208566,
          0.7839851024208566,
          0.7839851024208566,
          0.7839851024208566,
          0.7839851024208566,
          0.7839851024208566,
          0.7839851024208566,
          0.7839851024208566,
          0.7839851024208566,
          0.7839851024208566,
          0.7839851024208566,
          0.7839851024208566,
          0.7839851024208566,
          0.7839851024208566,
          0.7839851024208566,
          0.7839851024208566,
          0.7839851024208566,
          0.7839851024208566,
          0.7839851024208566,
          0.7839851024208566,
          0.7839851024208566,
          0.7839851024208566,
          0.7839851024208566,
          0.7839851024208566,
          0.7839851024208566,
          0.7839851024208566,
          0.7839851024208566,
          0.7839851024208566,
          0.7839851024208566,
          0.7839851024208566,
          0.7839851024208566,
          0.7839851024208566,
          0.7839851024208566
         ],
         "type": "scatter"
        },
        {
         "marker": {
          "color": "#cccccc"
         },
         "mode": "markers",
         "name": "Infeasible Trial",
         "showlegend": false,
         "x": [],
         "y": [],
         "type": "scatter"
        }
       ],
       "layout": {
        "title": {
         "text": "Optimization History Plot"
        },
        "xaxis": {
         "title": {
          "text": "Trial"
         }
        },
        "yaxis": {
         "title": {
          "text": "Objective Value"
         }
        },
        "template": {
         "data": {
          "histogram2dcontour": [
           {
            "type": "histogram2dcontour",
            "colorbar": {
             "outlinewidth": 0,
             "ticks": ""
            },
            "colorscale": [
             [
              0.0,
              "#0d0887"
             ],
             [
              0.1111111111111111,
              "#46039f"
             ],
             [
              0.2222222222222222,
              "#7201a8"
             ],
             [
              0.3333333333333333,
              "#9c179e"
             ],
             [
              0.4444444444444444,
              "#bd3786"
             ],
             [
              0.5555555555555556,
              "#d8576b"
             ],
             [
              0.6666666666666666,
              "#ed7953"
             ],
             [
              0.7777777777777778,
              "#fb9f3a"
             ],
             [
              0.8888888888888888,
              "#fdca26"
             ],
             [
              1.0,
              "#f0f921"
             ]
            ]
           }
          ],
          "choropleth": [
           {
            "type": "choropleth",
            "colorbar": {
             "outlinewidth": 0,
             "ticks": ""
            }
           }
          ],
          "histogram2d": [
           {
            "type": "histogram2d",
            "colorbar": {
             "outlinewidth": 0,
             "ticks": ""
            },
            "colorscale": [
             [
              0.0,
              "#0d0887"
             ],
             [
              0.1111111111111111,
              "#46039f"
             ],
             [
              0.2222222222222222,
              "#7201a8"
             ],
             [
              0.3333333333333333,
              "#9c179e"
             ],
             [
              0.4444444444444444,
              "#bd3786"
             ],
             [
              0.5555555555555556,
              "#d8576b"
             ],
             [
              0.6666666666666666,
              "#ed7953"
             ],
             [
              0.7777777777777778,
              "#fb9f3a"
             ],
             [
              0.8888888888888888,
              "#fdca26"
             ],
             [
              1.0,
              "#f0f921"
             ]
            ]
           }
          ],
          "heatmap": [
           {
            "type": "heatmap",
            "colorbar": {
             "outlinewidth": 0,
             "ticks": ""
            },
            "colorscale": [
             [
              0.0,
              "#0d0887"
             ],
             [
              0.1111111111111111,
              "#46039f"
             ],
             [
              0.2222222222222222,
              "#7201a8"
             ],
             [
              0.3333333333333333,
              "#9c179e"
             ],
             [
              0.4444444444444444,
              "#bd3786"
             ],
             [
              0.5555555555555556,
              "#d8576b"
             ],
             [
              0.6666666666666666,
              "#ed7953"
             ],
             [
              0.7777777777777778,
              "#fb9f3a"
             ],
             [
              0.8888888888888888,
              "#fdca26"
             ],
             [
              1.0,
              "#f0f921"
             ]
            ]
           }
          ],
          "contourcarpet": [
           {
            "type": "contourcarpet",
            "colorbar": {
             "outlinewidth": 0,
             "ticks": ""
            }
           }
          ],
          "contour": [
           {
            "type": "contour",
            "colorbar": {
             "outlinewidth": 0,
             "ticks": ""
            },
            "colorscale": [
             [
              0.0,
              "#0d0887"
             ],
             [
              0.1111111111111111,
              "#46039f"
             ],
             [
              0.2222222222222222,
              "#7201a8"
             ],
             [
              0.3333333333333333,
              "#9c179e"
             ],
             [
              0.4444444444444444,
              "#bd3786"
             ],
             [
              0.5555555555555556,
              "#d8576b"
             ],
             [
              0.6666666666666666,
              "#ed7953"
             ],
             [
              0.7777777777777778,
              "#fb9f3a"
             ],
             [
              0.8888888888888888,
              "#fdca26"
             ],
             [
              1.0,
              "#f0f921"
             ]
            ]
           }
          ],
          "surface": [
           {
            "type": "surface",
            "colorbar": {
             "outlinewidth": 0,
             "ticks": ""
            },
            "colorscale": [
             [
              0.0,
              "#0d0887"
             ],
             [
              0.1111111111111111,
              "#46039f"
             ],
             [
              0.2222222222222222,
              "#7201a8"
             ],
             [
              0.3333333333333333,
              "#9c179e"
             ],
             [
              0.4444444444444444,
              "#bd3786"
             ],
             [
              0.5555555555555556,
              "#d8576b"
             ],
             [
              0.6666666666666666,
              "#ed7953"
             ],
             [
              0.7777777777777778,
              "#fb9f3a"
             ],
             [
              0.8888888888888888,
              "#fdca26"
             ],
             [
              1.0,
              "#f0f921"
             ]
            ]
           }
          ],
          "mesh3d": [
           {
            "type": "mesh3d",
            "colorbar": {
             "outlinewidth": 0,
             "ticks": ""
            }
           }
          ],
          "scatter": [
           {
            "fillpattern": {
             "fillmode": "overlay",
             "size": 10,
             "solidity": 0.2
            },
            "type": "scatter"
           }
          ],
          "parcoords": [
           {
            "type": "parcoords",
            "line": {
             "colorbar": {
              "outlinewidth": 0,
              "ticks": ""
             }
            }
           }
          ],
          "scatterpolargl": [
           {
            "type": "scatterpolargl",
            "marker": {
             "colorbar": {
              "outlinewidth": 0,
              "ticks": ""
             }
            }
           }
          ],
          "bar": [
           {
            "error_x": {
             "color": "#2a3f5f"
            },
            "error_y": {
             "color": "#2a3f5f"
            },
            "marker": {
             "line": {
              "color": "#E5ECF6",
              "width": 0.5
             },
             "pattern": {
              "fillmode": "overlay",
              "size": 10,
              "solidity": 0.2
             }
            },
            "type": "bar"
           }
          ],
          "scattergeo": [
           {
            "type": "scattergeo",
            "marker": {
             "colorbar": {
              "outlinewidth": 0,
              "ticks": ""
             }
            }
           }
          ],
          "scatterpolar": [
           {
            "type": "scatterpolar",
            "marker": {
             "colorbar": {
              "outlinewidth": 0,
              "ticks": ""
             }
            }
           }
          ],
          "histogram": [
           {
            "marker": {
             "pattern": {
              "fillmode": "overlay",
              "size": 10,
              "solidity": 0.2
             }
            },
            "type": "histogram"
           }
          ],
          "scattergl": [
           {
            "type": "scattergl",
            "marker": {
             "colorbar": {
              "outlinewidth": 0,
              "ticks": ""
             }
            }
           }
          ],
          "scatter3d": [
           {
            "type": "scatter3d",
            "line": {
             "colorbar": {
              "outlinewidth": 0,
              "ticks": ""
             }
            },
            "marker": {
             "colorbar": {
              "outlinewidth": 0,
              "ticks": ""
             }
            }
           }
          ],
          "scattermap": [
           {
            "type": "scattermap",
            "marker": {
             "colorbar": {
              "outlinewidth": 0,
              "ticks": ""
             }
            }
           }
          ],
          "scattermapbox": [
           {
            "type": "scattermapbox",
            "marker": {
             "colorbar": {
              "outlinewidth": 0,
              "ticks": ""
             }
            }
           }
          ],
          "scatterternary": [
           {
            "type": "scatterternary",
            "marker": {
             "colorbar": {
              "outlinewidth": 0,
              "ticks": ""
             }
            }
           }
          ],
          "scattercarpet": [
           {
            "type": "scattercarpet",
            "marker": {
             "colorbar": {
              "outlinewidth": 0,
              "ticks": ""
             }
            }
           }
          ],
          "carpet": [
           {
            "aaxis": {
             "endlinecolor": "#2a3f5f",
             "gridcolor": "white",
             "linecolor": "white",
             "minorgridcolor": "white",
             "startlinecolor": "#2a3f5f"
            },
            "baxis": {
             "endlinecolor": "#2a3f5f",
             "gridcolor": "white",
             "linecolor": "white",
             "minorgridcolor": "white",
             "startlinecolor": "#2a3f5f"
            },
            "type": "carpet"
           }
          ],
          "table": [
           {
            "cells": {
             "fill": {
              "color": "#EBF0F8"
             },
             "line": {
              "color": "white"
             }
            },
            "header": {
             "fill": {
              "color": "#C8D4E3"
             },
             "line": {
              "color": "white"
             }
            },
            "type": "table"
           }
          ],
          "barpolar": [
           {
            "marker": {
             "line": {
              "color": "#E5ECF6",
              "width": 0.5
             },
             "pattern": {
              "fillmode": "overlay",
              "size": 10,
              "solidity": 0.2
             }
            },
            "type": "barpolar"
           }
          ],
          "pie": [
           {
            "automargin": true,
            "type": "pie"
           }
          ]
         },
         "layout": {
          "autotypenumbers": "strict",
          "colorway": [
           "#636efa",
           "#EF553B",
           "#00cc96",
           "#ab63fa",
           "#FFA15A",
           "#19d3f3",
           "#FF6692",
           "#B6E880",
           "#FF97FF",
           "#FECB52"
          ],
          "font": {
           "color": "#2a3f5f"
          },
          "hovermode": "closest",
          "hoverlabel": {
           "align": "left"
          },
          "paper_bgcolor": "white",
          "plot_bgcolor": "#E5ECF6",
          "polar": {
           "bgcolor": "#E5ECF6",
           "angularaxis": {
            "gridcolor": "white",
            "linecolor": "white",
            "ticks": ""
           },
           "radialaxis": {
            "gridcolor": "white",
            "linecolor": "white",
            "ticks": ""
           }
          },
          "ternary": {
           "bgcolor": "#E5ECF6",
           "aaxis": {
            "gridcolor": "white",
            "linecolor": "white",
            "ticks": ""
           },
           "baxis": {
            "gridcolor": "white",
            "linecolor": "white",
            "ticks": ""
           },
           "caxis": {
            "gridcolor": "white",
            "linecolor": "white",
            "ticks": ""
           }
          },
          "coloraxis": {
           "colorbar": {
            "outlinewidth": 0,
            "ticks": ""
           }
          },
          "colorscale": {
           "sequential": [
            [
             0.0,
             "#0d0887"
            ],
            [
             0.1111111111111111,
             "#46039f"
            ],
            [
             0.2222222222222222,
             "#7201a8"
            ],
            [
             0.3333333333333333,
             "#9c179e"
            ],
            [
             0.4444444444444444,
             "#bd3786"
            ],
            [
             0.5555555555555556,
             "#d8576b"
            ],
            [
             0.6666666666666666,
             "#ed7953"
            ],
            [
             0.7777777777777778,
             "#fb9f3a"
            ],
            [
             0.8888888888888888,
             "#fdca26"
            ],
            [
             1.0,
             "#f0f921"
            ]
           ],
           "sequentialminus": [
            [
             0.0,
             "#0d0887"
            ],
            [
             0.1111111111111111,
             "#46039f"
            ],
            [
             0.2222222222222222,
             "#7201a8"
            ],
            [
             0.3333333333333333,
             "#9c179e"
            ],
            [
             0.4444444444444444,
             "#bd3786"
            ],
            [
             0.5555555555555556,
             "#d8576b"
            ],
            [
             0.6666666666666666,
             "#ed7953"
            ],
            [
             0.7777777777777778,
             "#fb9f3a"
            ],
            [
             0.8888888888888888,
             "#fdca26"
            ],
            [
             1.0,
             "#f0f921"
            ]
           ],
           "diverging": [
            [
             0,
             "#8e0152"
            ],
            [
             0.1,
             "#c51b7d"
            ],
            [
             0.2,
             "#de77ae"
            ],
            [
             0.3,
             "#f1b6da"
            ],
            [
             0.4,
             "#fde0ef"
            ],
            [
             0.5,
             "#f7f7f7"
            ],
            [
             0.6,
             "#e6f5d0"
            ],
            [
             0.7,
             "#b8e186"
            ],
            [
             0.8,
             "#7fbc41"
            ],
            [
             0.9,
             "#4d9221"
            ],
            [
             1,
             "#276419"
            ]
           ]
          },
          "xaxis": {
           "gridcolor": "white",
           "linecolor": "white",
           "ticks": "",
           "title": {
            "standoff": 15
           },
           "zerolinecolor": "white",
           "automargin": true,
           "zerolinewidth": 2
          },
          "yaxis": {
           "gridcolor": "white",
           "linecolor": "white",
           "ticks": "",
           "title": {
            "standoff": 15
           },
           "zerolinecolor": "white",
           "automargin": true,
           "zerolinewidth": 2
          },
          "scene": {
           "xaxis": {
            "backgroundcolor": "#E5ECF6",
            "gridcolor": "white",
            "linecolor": "white",
            "showbackground": true,
            "ticks": "",
            "zerolinecolor": "white",
            "gridwidth": 2
           },
           "yaxis": {
            "backgroundcolor": "#E5ECF6",
            "gridcolor": "white",
            "linecolor": "white",
            "showbackground": true,
            "ticks": "",
            "zerolinecolor": "white",
            "gridwidth": 2
           },
           "zaxis": {
            "backgroundcolor": "#E5ECF6",
            "gridcolor": "white",
            "linecolor": "white",
            "showbackground": true,
            "ticks": "",
            "zerolinecolor": "white",
            "gridwidth": 2
           }
          },
          "shapedefaults": {
           "line": {
            "color": "#2a3f5f"
           }
          },
          "annotationdefaults": {
           "arrowcolor": "#2a3f5f",
           "arrowhead": 0,
           "arrowwidth": 1
          },
          "geo": {
           "bgcolor": "white",
           "landcolor": "#E5ECF6",
           "subunitcolor": "white",
           "showland": true,
           "showlakes": true,
           "lakecolor": "white"
          },
          "title": {
           "x": 0.05
          },
          "mapbox": {
           "style": "light"
          }
         }
        }
       },
       "config": {
        "plotlyServerURL": "https://plot.ly"
       }
      }
     },
     "metadata": {},
     "output_type": "display_data"
    }
   ],
   "execution_count": 8
  },
  {
   "metadata": {
    "ExecuteTime": {
     "end_time": "2025-07-02T12:47:10.759352Z",
     "start_time": "2025-07-02T12:47:10.728160Z"
    }
   },
   "cell_type": "code",
   "source": [
    "# 2. Parallel Coordinate Plot - SHows the hotspots\n",
    "\n",
    "plot_parallel_coordinate(study).show()"
   ],
   "id": "8d20efa4867d4802",
   "outputs": [
    {
     "data": {
      "application/vnd.plotly.v1+json": {
       "data": [
        {
         "dimensions": [
          {
           "label": "Objective Value",
           "range": [
            0.7541899441340782,
            0.7839851024208566
           ],
           "values": [
            0.7783985102420856,
            0.7690875232774674,
            0.756052141527002,
            0.7653631284916201,
            0.7709497206703911,
            0.7653631284916201,
            0.7597765363128491,
            0.7690875232774674,
            0.7765363128491621,
            0.7597765363128491,
            0.7783985102420857,
            0.7765363128491621,
            0.7653631284916201,
            0.7746741154562384,
            0.7783985102420856,
            0.7728119180633147,
            0.7709497206703911,
            0.7690875232774674,
            0.7672253258845437,
            0.7783985102420857,
            0.7783985102420857,
            0.7746741154562384,
            0.7709497206703911,
            0.7746741154562384,
            0.7709497206703911,
            0.7709497206703911,
            0.7746741154562384,
            0.7653631284916201,
            0.7746741154562384,
            0.7765363128491621,
            0.7653631284916201,
            0.7690875232774674,
            0.7672253258845437,
            0.7839851024208566,
            0.7783985102420857,
            0.7653631284916201,
            0.7746741154562384,
            0.7765363128491619,
            0.7709497206703911,
            0.7690875232774674,
            0.7783985102420857,
            0.7783985102420857,
            0.7783985102420857,
            0.7690875232774674,
            0.7728119180633147,
            0.7783985102420857,
            0.7690875232774674,
            0.7597765363128492,
            0.7765363128491621,
            0.7802607076350093,
            0.7746741154562384,
            0.7765363128491621,
            0.7765363128491619,
            0.7690875232774674,
            0.7728119180633147,
            0.7690875232774674,
            0.7690875232774674,
            0.7690875232774674,
            0.7653631284916201,
            0.7728119180633147,
            0.7821229050279331,
            0.7783985102420857,
            0.7635009310986964,
            0.7709497206703911,
            0.7821229050279331,
            0.7709497206703911,
            0.7821229050279331,
            0.7821229050279331,
            0.7746741154562384,
            0.7709497206703911,
            0.7709497206703911,
            0.7765363128491621,
            0.7709497206703911,
            0.7672253258845437,
            0.7653631284916201,
            0.7635009310986964,
            0.7746741154562384,
            0.7653631284916201,
            0.7728119180633147,
            0.7728119180633147,
            0.7802607076350094,
            0.7802607076350094,
            0.7765363128491621,
            0.7746741154562384,
            0.7746741154562384,
            0.7653631284916201,
            0.7746741154562384,
            0.7690875232774674,
            0.7690875232774674,
            0.7541899441340782,
            0.7690875232774674,
            0.7783985102420857,
            0.7783985102420857,
            0.7709497206703911,
            0.7783985102420857,
            0.7690875232774674,
            0.7728119180633147,
            0.7672253258845437,
            0.7746741154562384,
            0.7728119180633147
           ]
          },
          {
           "label": "max_depth",
           "range": [
            3,
            20
           ],
           "values": [
            18,
            13,
            4,
            11,
            10,
            11,
            6,
            15,
            12,
            3,
            19,
            20,
            20,
            17,
            17,
            18,
            15,
            8,
            15,
            18,
            20,
            20,
            18,
            16,
            19,
            14,
            19,
            17,
            19,
            18,
            16,
            20,
            13,
            18,
            19,
            16,
            17,
            18,
            14,
            8,
            19,
            19,
            20,
            18,
            19,
            17,
            20,
            10,
            19,
            16,
            16,
            18,
            17,
            20,
            5,
            18,
            15,
            20,
            17,
            12,
            19,
            19,
            19,
            18,
            16,
            14,
            16,
            16,
            15,
            16,
            13,
            16,
            15,
            14,
            17,
            16,
            17,
            15,
            16,
            18,
            17,
            17,
            17,
            18,
            16,
            15,
            17,
            17,
            14,
            3,
            13,
            18,
            18,
            16,
            19,
            8,
            18,
            7,
            17,
            19
           ]
          },
          {
           "label": "n_estimators",
           "range": [
            50,
            200
           ],
           "values": [
            106,
            59,
            173,
            130,
            200,
            102,
            148,
            156,
            169,
            111,
            71,
            70,
            82,
            91,
            119,
            52,
            81,
            131,
            99,
            67,
            72,
            68,
            50,
            71,
            81,
            63,
            91,
            78,
            89,
            111,
            60,
            58,
            97,
            73,
            72,
            60,
            77,
            198,
            90,
            138,
            65,
            71,
            75,
            56,
            105,
            67,
            85,
            95,
            74,
            115,
            156,
            120,
            171,
            85,
            53,
            182,
            64,
            108,
            83,
            139,
            73,
            71,
            78,
            50,
            63,
            56,
            63,
            63,
            63,
            59,
            67,
            61,
            67,
            55,
            78,
            88,
            116,
            94,
            75,
            81,
            70,
            70,
            69,
            63,
            73,
            53,
            57,
            87,
            101,
            80,
            61,
            69,
            75,
            66,
            71,
            128,
            64,
            84,
            77,
            160
           ]
          }
         ],
         "labelangle": 30,
         "labelside": "bottom",
         "line": {
          "color": [
           0.7783985102420856,
           0.7690875232774674,
           0.756052141527002,
           0.7653631284916201,
           0.7709497206703911,
           0.7653631284916201,
           0.7597765363128491,
           0.7690875232774674,
           0.7765363128491621,
           0.7597765363128491,
           0.7783985102420857,
           0.7765363128491621,
           0.7653631284916201,
           0.7746741154562384,
           0.7783985102420856,
           0.7728119180633147,
           0.7709497206703911,
           0.7690875232774674,
           0.7672253258845437,
           0.7783985102420857,
           0.7783985102420857,
           0.7746741154562384,
           0.7709497206703911,
           0.7746741154562384,
           0.7709497206703911,
           0.7709497206703911,
           0.7746741154562384,
           0.7653631284916201,
           0.7746741154562384,
           0.7765363128491621,
           0.7653631284916201,
           0.7690875232774674,
           0.7672253258845437,
           0.7839851024208566,
           0.7783985102420857,
           0.7653631284916201,
           0.7746741154562384,
           0.7765363128491619,
           0.7709497206703911,
           0.7690875232774674,
           0.7783985102420857,
           0.7783985102420857,
           0.7783985102420857,
           0.7690875232774674,
           0.7728119180633147,
           0.7783985102420857,
           0.7690875232774674,
           0.7597765363128492,
           0.7765363128491621,
           0.7802607076350093,
           0.7746741154562384,
           0.7765363128491621,
           0.7765363128491619,
           0.7690875232774674,
           0.7728119180633147,
           0.7690875232774674,
           0.7690875232774674,
           0.7690875232774674,
           0.7653631284916201,
           0.7728119180633147,
           0.7821229050279331,
           0.7783985102420857,
           0.7635009310986964,
           0.7709497206703911,
           0.7821229050279331,
           0.7709497206703911,
           0.7821229050279331,
           0.7821229050279331,
           0.7746741154562384,
           0.7709497206703911,
           0.7709497206703911,
           0.7765363128491621,
           0.7709497206703911,
           0.7672253258845437,
           0.7653631284916201,
           0.7635009310986964,
           0.7746741154562384,
           0.7653631284916201,
           0.7728119180633147,
           0.7728119180633147,
           0.7802607076350094,
           0.7802607076350094,
           0.7765363128491621,
           0.7746741154562384,
           0.7746741154562384,
           0.7653631284916201,
           0.7746741154562384,
           0.7690875232774674,
           0.7690875232774674,
           0.7541899441340782,
           0.7690875232774674,
           0.7783985102420857,
           0.7783985102420857,
           0.7709497206703911,
           0.7783985102420857,
           0.7690875232774674,
           0.7728119180633147,
           0.7672253258845437,
           0.7746741154562384,
           0.7728119180633147
          ],
          "colorbar": {
           "title": {
            "text": "Objective Value"
           }
          },
          "colorscale": [
           [
            0.0,
            "rgb(247,251,255)"
           ],
           [
            0.125,
            "rgb(222,235,247)"
           ],
           [
            0.25,
            "rgb(198,219,239)"
           ],
           [
            0.375,
            "rgb(158,202,225)"
           ],
           [
            0.5,
            "rgb(107,174,214)"
           ],
           [
            0.625,
            "rgb(66,146,198)"
           ],
           [
            0.75,
            "rgb(33,113,181)"
           ],
           [
            0.875,
            "rgb(8,81,156)"
           ],
           [
            1.0,
            "rgb(8,48,107)"
           ]
          ],
          "reversescale": false,
          "showscale": true
         },
         "type": "parcoords"
        }
       ],
       "layout": {
        "title": {
         "text": "Parallel Coordinate Plot"
        },
        "template": {
         "data": {
          "histogram2dcontour": [
           {
            "type": "histogram2dcontour",
            "colorbar": {
             "outlinewidth": 0,
             "ticks": ""
            },
            "colorscale": [
             [
              0.0,
              "#0d0887"
             ],
             [
              0.1111111111111111,
              "#46039f"
             ],
             [
              0.2222222222222222,
              "#7201a8"
             ],
             [
              0.3333333333333333,
              "#9c179e"
             ],
             [
              0.4444444444444444,
              "#bd3786"
             ],
             [
              0.5555555555555556,
              "#d8576b"
             ],
             [
              0.6666666666666666,
              "#ed7953"
             ],
             [
              0.7777777777777778,
              "#fb9f3a"
             ],
             [
              0.8888888888888888,
              "#fdca26"
             ],
             [
              1.0,
              "#f0f921"
             ]
            ]
           }
          ],
          "choropleth": [
           {
            "type": "choropleth",
            "colorbar": {
             "outlinewidth": 0,
             "ticks": ""
            }
           }
          ],
          "histogram2d": [
           {
            "type": "histogram2d",
            "colorbar": {
             "outlinewidth": 0,
             "ticks": ""
            },
            "colorscale": [
             [
              0.0,
              "#0d0887"
             ],
             [
              0.1111111111111111,
              "#46039f"
             ],
             [
              0.2222222222222222,
              "#7201a8"
             ],
             [
              0.3333333333333333,
              "#9c179e"
             ],
             [
              0.4444444444444444,
              "#bd3786"
             ],
             [
              0.5555555555555556,
              "#d8576b"
             ],
             [
              0.6666666666666666,
              "#ed7953"
             ],
             [
              0.7777777777777778,
              "#fb9f3a"
             ],
             [
              0.8888888888888888,
              "#fdca26"
             ],
             [
              1.0,
              "#f0f921"
             ]
            ]
           }
          ],
          "heatmap": [
           {
            "type": "heatmap",
            "colorbar": {
             "outlinewidth": 0,
             "ticks": ""
            },
            "colorscale": [
             [
              0.0,
              "#0d0887"
             ],
             [
              0.1111111111111111,
              "#46039f"
             ],
             [
              0.2222222222222222,
              "#7201a8"
             ],
             [
              0.3333333333333333,
              "#9c179e"
             ],
             [
              0.4444444444444444,
              "#bd3786"
             ],
             [
              0.5555555555555556,
              "#d8576b"
             ],
             [
              0.6666666666666666,
              "#ed7953"
             ],
             [
              0.7777777777777778,
              "#fb9f3a"
             ],
             [
              0.8888888888888888,
              "#fdca26"
             ],
             [
              1.0,
              "#f0f921"
             ]
            ]
           }
          ],
          "contourcarpet": [
           {
            "type": "contourcarpet",
            "colorbar": {
             "outlinewidth": 0,
             "ticks": ""
            }
           }
          ],
          "contour": [
           {
            "type": "contour",
            "colorbar": {
             "outlinewidth": 0,
             "ticks": ""
            },
            "colorscale": [
             [
              0.0,
              "#0d0887"
             ],
             [
              0.1111111111111111,
              "#46039f"
             ],
             [
              0.2222222222222222,
              "#7201a8"
             ],
             [
              0.3333333333333333,
              "#9c179e"
             ],
             [
              0.4444444444444444,
              "#bd3786"
             ],
             [
              0.5555555555555556,
              "#d8576b"
             ],
             [
              0.6666666666666666,
              "#ed7953"
             ],
             [
              0.7777777777777778,
              "#fb9f3a"
             ],
             [
              0.8888888888888888,
              "#fdca26"
             ],
             [
              1.0,
              "#f0f921"
             ]
            ]
           }
          ],
          "surface": [
           {
            "type": "surface",
            "colorbar": {
             "outlinewidth": 0,
             "ticks": ""
            },
            "colorscale": [
             [
              0.0,
              "#0d0887"
             ],
             [
              0.1111111111111111,
              "#46039f"
             ],
             [
              0.2222222222222222,
              "#7201a8"
             ],
             [
              0.3333333333333333,
              "#9c179e"
             ],
             [
              0.4444444444444444,
              "#bd3786"
             ],
             [
              0.5555555555555556,
              "#d8576b"
             ],
             [
              0.6666666666666666,
              "#ed7953"
             ],
             [
              0.7777777777777778,
              "#fb9f3a"
             ],
             [
              0.8888888888888888,
              "#fdca26"
             ],
             [
              1.0,
              "#f0f921"
             ]
            ]
           }
          ],
          "mesh3d": [
           {
            "type": "mesh3d",
            "colorbar": {
             "outlinewidth": 0,
             "ticks": ""
            }
           }
          ],
          "scatter": [
           {
            "fillpattern": {
             "fillmode": "overlay",
             "size": 10,
             "solidity": 0.2
            },
            "type": "scatter"
           }
          ],
          "parcoords": [
           {
            "type": "parcoords",
            "line": {
             "colorbar": {
              "outlinewidth": 0,
              "ticks": ""
             }
            }
           }
          ],
          "scatterpolargl": [
           {
            "type": "scatterpolargl",
            "marker": {
             "colorbar": {
              "outlinewidth": 0,
              "ticks": ""
             }
            }
           }
          ],
          "bar": [
           {
            "error_x": {
             "color": "#2a3f5f"
            },
            "error_y": {
             "color": "#2a3f5f"
            },
            "marker": {
             "line": {
              "color": "#E5ECF6",
              "width": 0.5
             },
             "pattern": {
              "fillmode": "overlay",
              "size": 10,
              "solidity": 0.2
             }
            },
            "type": "bar"
           }
          ],
          "scattergeo": [
           {
            "type": "scattergeo",
            "marker": {
             "colorbar": {
              "outlinewidth": 0,
              "ticks": ""
             }
            }
           }
          ],
          "scatterpolar": [
           {
            "type": "scatterpolar",
            "marker": {
             "colorbar": {
              "outlinewidth": 0,
              "ticks": ""
             }
            }
           }
          ],
          "histogram": [
           {
            "marker": {
             "pattern": {
              "fillmode": "overlay",
              "size": 10,
              "solidity": 0.2
             }
            },
            "type": "histogram"
           }
          ],
          "scattergl": [
           {
            "type": "scattergl",
            "marker": {
             "colorbar": {
              "outlinewidth": 0,
              "ticks": ""
             }
            }
           }
          ],
          "scatter3d": [
           {
            "type": "scatter3d",
            "line": {
             "colorbar": {
              "outlinewidth": 0,
              "ticks": ""
             }
            },
            "marker": {
             "colorbar": {
              "outlinewidth": 0,
              "ticks": ""
             }
            }
           }
          ],
          "scattermap": [
           {
            "type": "scattermap",
            "marker": {
             "colorbar": {
              "outlinewidth": 0,
              "ticks": ""
             }
            }
           }
          ],
          "scattermapbox": [
           {
            "type": "scattermapbox",
            "marker": {
             "colorbar": {
              "outlinewidth": 0,
              "ticks": ""
             }
            }
           }
          ],
          "scatterternary": [
           {
            "type": "scatterternary",
            "marker": {
             "colorbar": {
              "outlinewidth": 0,
              "ticks": ""
             }
            }
           }
          ],
          "scattercarpet": [
           {
            "type": "scattercarpet",
            "marker": {
             "colorbar": {
              "outlinewidth": 0,
              "ticks": ""
             }
            }
           }
          ],
          "carpet": [
           {
            "aaxis": {
             "endlinecolor": "#2a3f5f",
             "gridcolor": "white",
             "linecolor": "white",
             "minorgridcolor": "white",
             "startlinecolor": "#2a3f5f"
            },
            "baxis": {
             "endlinecolor": "#2a3f5f",
             "gridcolor": "white",
             "linecolor": "white",
             "minorgridcolor": "white",
             "startlinecolor": "#2a3f5f"
            },
            "type": "carpet"
           }
          ],
          "table": [
           {
            "cells": {
             "fill": {
              "color": "#EBF0F8"
             },
             "line": {
              "color": "white"
             }
            },
            "header": {
             "fill": {
              "color": "#C8D4E3"
             },
             "line": {
              "color": "white"
             }
            },
            "type": "table"
           }
          ],
          "barpolar": [
           {
            "marker": {
             "line": {
              "color": "#E5ECF6",
              "width": 0.5
             },
             "pattern": {
              "fillmode": "overlay",
              "size": 10,
              "solidity": 0.2
             }
            },
            "type": "barpolar"
           }
          ],
          "pie": [
           {
            "automargin": true,
            "type": "pie"
           }
          ]
         },
         "layout": {
          "autotypenumbers": "strict",
          "colorway": [
           "#636efa",
           "#EF553B",
           "#00cc96",
           "#ab63fa",
           "#FFA15A",
           "#19d3f3",
           "#FF6692",
           "#B6E880",
           "#FF97FF",
           "#FECB52"
          ],
          "font": {
           "color": "#2a3f5f"
          },
          "hovermode": "closest",
          "hoverlabel": {
           "align": "left"
          },
          "paper_bgcolor": "white",
          "plot_bgcolor": "#E5ECF6",
          "polar": {
           "bgcolor": "#E5ECF6",
           "angularaxis": {
            "gridcolor": "white",
            "linecolor": "white",
            "ticks": ""
           },
           "radialaxis": {
            "gridcolor": "white",
            "linecolor": "white",
            "ticks": ""
           }
          },
          "ternary": {
           "bgcolor": "#E5ECF6",
           "aaxis": {
            "gridcolor": "white",
            "linecolor": "white",
            "ticks": ""
           },
           "baxis": {
            "gridcolor": "white",
            "linecolor": "white",
            "ticks": ""
           },
           "caxis": {
            "gridcolor": "white",
            "linecolor": "white",
            "ticks": ""
           }
          },
          "coloraxis": {
           "colorbar": {
            "outlinewidth": 0,
            "ticks": ""
           }
          },
          "colorscale": {
           "sequential": [
            [
             0.0,
             "#0d0887"
            ],
            [
             0.1111111111111111,
             "#46039f"
            ],
            [
             0.2222222222222222,
             "#7201a8"
            ],
            [
             0.3333333333333333,
             "#9c179e"
            ],
            [
             0.4444444444444444,
             "#bd3786"
            ],
            [
             0.5555555555555556,
             "#d8576b"
            ],
            [
             0.6666666666666666,
             "#ed7953"
            ],
            [
             0.7777777777777778,
             "#fb9f3a"
            ],
            [
             0.8888888888888888,
             "#fdca26"
            ],
            [
             1.0,
             "#f0f921"
            ]
           ],
           "sequentialminus": [
            [
             0.0,
             "#0d0887"
            ],
            [
             0.1111111111111111,
             "#46039f"
            ],
            [
             0.2222222222222222,
             "#7201a8"
            ],
            [
             0.3333333333333333,
             "#9c179e"
            ],
            [
             0.4444444444444444,
             "#bd3786"
            ],
            [
             0.5555555555555556,
             "#d8576b"
            ],
            [
             0.6666666666666666,
             "#ed7953"
            ],
            [
             0.7777777777777778,
             "#fb9f3a"
            ],
            [
             0.8888888888888888,
             "#fdca26"
            ],
            [
             1.0,
             "#f0f921"
            ]
           ],
           "diverging": [
            [
             0,
             "#8e0152"
            ],
            [
             0.1,
             "#c51b7d"
            ],
            [
             0.2,
             "#de77ae"
            ],
            [
             0.3,
             "#f1b6da"
            ],
            [
             0.4,
             "#fde0ef"
            ],
            [
             0.5,
             "#f7f7f7"
            ],
            [
             0.6,
             "#e6f5d0"
            ],
            [
             0.7,
             "#b8e186"
            ],
            [
             0.8,
             "#7fbc41"
            ],
            [
             0.9,
             "#4d9221"
            ],
            [
             1,
             "#276419"
            ]
           ]
          },
          "xaxis": {
           "gridcolor": "white",
           "linecolor": "white",
           "ticks": "",
           "title": {
            "standoff": 15
           },
           "zerolinecolor": "white",
           "automargin": true,
           "zerolinewidth": 2
          },
          "yaxis": {
           "gridcolor": "white",
           "linecolor": "white",
           "ticks": "",
           "title": {
            "standoff": 15
           },
           "zerolinecolor": "white",
           "automargin": true,
           "zerolinewidth": 2
          },
          "scene": {
           "xaxis": {
            "backgroundcolor": "#E5ECF6",
            "gridcolor": "white",
            "linecolor": "white",
            "showbackground": true,
            "ticks": "",
            "zerolinecolor": "white",
            "gridwidth": 2
           },
           "yaxis": {
            "backgroundcolor": "#E5ECF6",
            "gridcolor": "white",
            "linecolor": "white",
            "showbackground": true,
            "ticks": "",
            "zerolinecolor": "white",
            "gridwidth": 2
           },
           "zaxis": {
            "backgroundcolor": "#E5ECF6",
            "gridcolor": "white",
            "linecolor": "white",
            "showbackground": true,
            "ticks": "",
            "zerolinecolor": "white",
            "gridwidth": 2
           }
          },
          "shapedefaults": {
           "line": {
            "color": "#2a3f5f"
           }
          },
          "annotationdefaults": {
           "arrowcolor": "#2a3f5f",
           "arrowhead": 0,
           "arrowwidth": 1
          },
          "geo": {
           "bgcolor": "white",
           "landcolor": "#E5ECF6",
           "subunitcolor": "white",
           "showland": true,
           "showlakes": true,
           "lakecolor": "white"
          },
          "title": {
           "x": 0.05
          },
          "mapbox": {
           "style": "light"
          }
         }
        }
       },
       "config": {
        "plotlyServerURL": "https://plot.ly"
       }
      }
     },
     "metadata": {},
     "output_type": "display_data"
    }
   ],
   "execution_count": 9
  },
  {
   "metadata": {
    "ExecuteTime": {
     "end_time": "2025-07-02T12:58:21.708342Z",
     "start_time": "2025-07-02T12:58:21.643563Z"
    }
   },
   "cell_type": "code",
   "source": [
    "# 3. Slice Plot - Individually plots objective function vs each hyperparameter\n",
    "\n",
    "plot_slice(study).show()"
   ],
   "id": "6c907523e7e31b30",
   "outputs": [
    {
     "data": {
      "application/vnd.plotly.v1+json": {
       "data": [
        {
         "marker": {
          "color": [
           0,
           1,
           2,
           3,
           4,
           5,
           6,
           7,
           8,
           9,
           10,
           11,
           12,
           13,
           14,
           15,
           16,
           17,
           18,
           19,
           20,
           21,
           22,
           23,
           24,
           25,
           26,
           27,
           28,
           29,
           30,
           31,
           32,
           33,
           34,
           35,
           36,
           37,
           38,
           39,
           40,
           41,
           42,
           43,
           44,
           45,
           46,
           47,
           48,
           49,
           50,
           51,
           52,
           53,
           54,
           55,
           56,
           57,
           58,
           59,
           60,
           61,
           62,
           63,
           64,
           65,
           66,
           67,
           68,
           69,
           70,
           71,
           72,
           73,
           74,
           75,
           76,
           77,
           78,
           79,
           80,
           81,
           82,
           83,
           84,
           85,
           86,
           87,
           88,
           89,
           90,
           91,
           92,
           93,
           94,
           95,
           96,
           97,
           98,
           99
          ],
          "colorbar": {
           "title": {
            "text": "Trial"
           },
           "x": 1.0,
           "xpad": 40
          },
          "colorscale": [
           [
            0.0,
            "rgb(247,251,255)"
           ],
           [
            0.125,
            "rgb(222,235,247)"
           ],
           [
            0.25,
            "rgb(198,219,239)"
           ],
           [
            0.375,
            "rgb(158,202,225)"
           ],
           [
            0.5,
            "rgb(107,174,214)"
           ],
           [
            0.625,
            "rgb(66,146,198)"
           ],
           [
            0.75,
            "rgb(33,113,181)"
           ],
           [
            0.875,
            "rgb(8,81,156)"
           ],
           [
            1.0,
            "rgb(8,48,107)"
           ]
          ],
          "line": {
           "color": "Grey",
           "width": 0.5
          },
          "showscale": true
         },
         "mode": "markers",
         "name": "Feasible Trial",
         "showlegend": false,
         "x": [
          18,
          13,
          4,
          11,
          10,
          11,
          6,
          15,
          12,
          3,
          19,
          20,
          20,
          17,
          17,
          18,
          15,
          8,
          15,
          18,
          20,
          20,
          18,
          16,
          19,
          14,
          19,
          17,
          19,
          18,
          16,
          20,
          13,
          18,
          19,
          16,
          17,
          18,
          14,
          8,
          19,
          19,
          20,
          18,
          19,
          17,
          20,
          10,
          19,
          16,
          16,
          18,
          17,
          20,
          5,
          18,
          15,
          20,
          17,
          12,
          19,
          19,
          19,
          18,
          16,
          14,
          16,
          16,
          15,
          16,
          13,
          16,
          15,
          14,
          17,
          16,
          17,
          15,
          16,
          18,
          17,
          17,
          17,
          18,
          16,
          15,
          17,
          17,
          14,
          3,
          13,
          18,
          18,
          16,
          19,
          8,
          18,
          7,
          17,
          19
         ],
         "y": [
          0.7783985102420856,
          0.7690875232774674,
          0.756052141527002,
          0.7653631284916201,
          0.7709497206703911,
          0.7653631284916201,
          0.7597765363128491,
          0.7690875232774674,
          0.7765363128491621,
          0.7597765363128491,
          0.7783985102420857,
          0.7765363128491621,
          0.7653631284916201,
          0.7746741154562384,
          0.7783985102420856,
          0.7728119180633147,
          0.7709497206703911,
          0.7690875232774674,
          0.7672253258845437,
          0.7783985102420857,
          0.7783985102420857,
          0.7746741154562384,
          0.7709497206703911,
          0.7746741154562384,
          0.7709497206703911,
          0.7709497206703911,
          0.7746741154562384,
          0.7653631284916201,
          0.7746741154562384,
          0.7765363128491621,
          0.7653631284916201,
          0.7690875232774674,
          0.7672253258845437,
          0.7839851024208566,
          0.7783985102420857,
          0.7653631284916201,
          0.7746741154562384,
          0.7765363128491619,
          0.7709497206703911,
          0.7690875232774674,
          0.7783985102420857,
          0.7783985102420857,
          0.7783985102420857,
          0.7690875232774674,
          0.7728119180633147,
          0.7783985102420857,
          0.7690875232774674,
          0.7597765363128492,
          0.7765363128491621,
          0.7802607076350093,
          0.7746741154562384,
          0.7765363128491621,
          0.7765363128491619,
          0.7690875232774674,
          0.7728119180633147,
          0.7690875232774674,
          0.7690875232774674,
          0.7690875232774674,
          0.7653631284916201,
          0.7728119180633147,
          0.7821229050279331,
          0.7783985102420857,
          0.7635009310986964,
          0.7709497206703911,
          0.7821229050279331,
          0.7709497206703911,
          0.7821229050279331,
          0.7821229050279331,
          0.7746741154562384,
          0.7709497206703911,
          0.7709497206703911,
          0.7765363128491621,
          0.7709497206703911,
          0.7672253258845437,
          0.7653631284916201,
          0.7635009310986964,
          0.7746741154562384,
          0.7653631284916201,
          0.7728119180633147,
          0.7728119180633147,
          0.7802607076350094,
          0.7802607076350094,
          0.7765363128491621,
          0.7746741154562384,
          0.7746741154562384,
          0.7653631284916201,
          0.7746741154562384,
          0.7690875232774674,
          0.7690875232774674,
          0.7541899441340782,
          0.7690875232774674,
          0.7783985102420857,
          0.7783985102420857,
          0.7709497206703911,
          0.7783985102420857,
          0.7690875232774674,
          0.7728119180633147,
          0.7672253258845437,
          0.7746741154562384,
          0.7728119180633147
         ],
         "type": "scatter",
         "xaxis": "x",
         "yaxis": "y"
        },
        {
         "marker": {
          "color": [
           0,
           1,
           2,
           3,
           4,
           5,
           6,
           7,
           8,
           9,
           10,
           11,
           12,
           13,
           14,
           15,
           16,
           17,
           18,
           19,
           20,
           21,
           22,
           23,
           24,
           25,
           26,
           27,
           28,
           29,
           30,
           31,
           32,
           33,
           34,
           35,
           36,
           37,
           38,
           39,
           40,
           41,
           42,
           43,
           44,
           45,
           46,
           47,
           48,
           49,
           50,
           51,
           52,
           53,
           54,
           55,
           56,
           57,
           58,
           59,
           60,
           61,
           62,
           63,
           64,
           65,
           66,
           67,
           68,
           69,
           70,
           71,
           72,
           73,
           74,
           75,
           76,
           77,
           78,
           79,
           80,
           81,
           82,
           83,
           84,
           85,
           86,
           87,
           88,
           89,
           90,
           91,
           92,
           93,
           94,
           95,
           96,
           97,
           98,
           99
          ],
          "colorbar": {
           "title": {
            "text": "Trial"
           },
           "x": 1.0,
           "xpad": 40
          },
          "colorscale": [
           [
            0.0,
            "rgb(247,251,255)"
           ],
           [
            0.125,
            "rgb(222,235,247)"
           ],
           [
            0.25,
            "rgb(198,219,239)"
           ],
           [
            0.375,
            "rgb(158,202,225)"
           ],
           [
            0.5,
            "rgb(107,174,214)"
           ],
           [
            0.625,
            "rgb(66,146,198)"
           ],
           [
            0.75,
            "rgb(33,113,181)"
           ],
           [
            0.875,
            "rgb(8,81,156)"
           ],
           [
            1.0,
            "rgb(8,48,107)"
           ]
          ],
          "line": {
           "color": "Grey",
           "width": 0.5
          },
          "showscale": false
         },
         "mode": "markers",
         "name": "Feasible Trial",
         "showlegend": false,
         "x": [
          106,
          59,
          173,
          130,
          200,
          102,
          148,
          156,
          169,
          111,
          71,
          70,
          82,
          91,
          119,
          52,
          81,
          131,
          99,
          67,
          72,
          68,
          50,
          71,
          81,
          63,
          91,
          78,
          89,
          111,
          60,
          58,
          97,
          73,
          72,
          60,
          77,
          198,
          90,
          138,
          65,
          71,
          75,
          56,
          105,
          67,
          85,
          95,
          74,
          115,
          156,
          120,
          171,
          85,
          53,
          182,
          64,
          108,
          83,
          139,
          73,
          71,
          78,
          50,
          63,
          56,
          63,
          63,
          63,
          59,
          67,
          61,
          67,
          55,
          78,
          88,
          116,
          94,
          75,
          81,
          70,
          70,
          69,
          63,
          73,
          53,
          57,
          87,
          101,
          80,
          61,
          69,
          75,
          66,
          71,
          128,
          64,
          84,
          77,
          160
         ],
         "y": [
          0.7783985102420856,
          0.7690875232774674,
          0.756052141527002,
          0.7653631284916201,
          0.7709497206703911,
          0.7653631284916201,
          0.7597765363128491,
          0.7690875232774674,
          0.7765363128491621,
          0.7597765363128491,
          0.7783985102420857,
          0.7765363128491621,
          0.7653631284916201,
          0.7746741154562384,
          0.7783985102420856,
          0.7728119180633147,
          0.7709497206703911,
          0.7690875232774674,
          0.7672253258845437,
          0.7783985102420857,
          0.7783985102420857,
          0.7746741154562384,
          0.7709497206703911,
          0.7746741154562384,
          0.7709497206703911,
          0.7709497206703911,
          0.7746741154562384,
          0.7653631284916201,
          0.7746741154562384,
          0.7765363128491621,
          0.7653631284916201,
          0.7690875232774674,
          0.7672253258845437,
          0.7839851024208566,
          0.7783985102420857,
          0.7653631284916201,
          0.7746741154562384,
          0.7765363128491619,
          0.7709497206703911,
          0.7690875232774674,
          0.7783985102420857,
          0.7783985102420857,
          0.7783985102420857,
          0.7690875232774674,
          0.7728119180633147,
          0.7783985102420857,
          0.7690875232774674,
          0.7597765363128492,
          0.7765363128491621,
          0.7802607076350093,
          0.7746741154562384,
          0.7765363128491621,
          0.7765363128491619,
          0.7690875232774674,
          0.7728119180633147,
          0.7690875232774674,
          0.7690875232774674,
          0.7690875232774674,
          0.7653631284916201,
          0.7728119180633147,
          0.7821229050279331,
          0.7783985102420857,
          0.7635009310986964,
          0.7709497206703911,
          0.7821229050279331,
          0.7709497206703911,
          0.7821229050279331,
          0.7821229050279331,
          0.7746741154562384,
          0.7709497206703911,
          0.7709497206703911,
          0.7765363128491621,
          0.7709497206703911,
          0.7672253258845437,
          0.7653631284916201,
          0.7635009310986964,
          0.7746741154562384,
          0.7653631284916201,
          0.7728119180633147,
          0.7728119180633147,
          0.7802607076350094,
          0.7802607076350094,
          0.7765363128491621,
          0.7746741154562384,
          0.7746741154562384,
          0.7653631284916201,
          0.7746741154562384,
          0.7690875232774674,
          0.7690875232774674,
          0.7541899441340782,
          0.7690875232774674,
          0.7783985102420857,
          0.7783985102420857,
          0.7709497206703911,
          0.7783985102420857,
          0.7690875232774674,
          0.7728119180633147,
          0.7672253258845437,
          0.7746741154562384,
          0.7728119180633147
         ],
         "type": "scatter",
         "xaxis": "x2",
         "yaxis": "y2"
        }
       ],
       "layout": {
        "template": {
         "data": {
          "histogram2dcontour": [
           {
            "type": "histogram2dcontour",
            "colorbar": {
             "outlinewidth": 0,
             "ticks": ""
            },
            "colorscale": [
             [
              0.0,
              "#0d0887"
             ],
             [
              0.1111111111111111,
              "#46039f"
             ],
             [
              0.2222222222222222,
              "#7201a8"
             ],
             [
              0.3333333333333333,
              "#9c179e"
             ],
             [
              0.4444444444444444,
              "#bd3786"
             ],
             [
              0.5555555555555556,
              "#d8576b"
             ],
             [
              0.6666666666666666,
              "#ed7953"
             ],
             [
              0.7777777777777778,
              "#fb9f3a"
             ],
             [
              0.8888888888888888,
              "#fdca26"
             ],
             [
              1.0,
              "#f0f921"
             ]
            ]
           }
          ],
          "choropleth": [
           {
            "type": "choropleth",
            "colorbar": {
             "outlinewidth": 0,
             "ticks": ""
            }
           }
          ],
          "histogram2d": [
           {
            "type": "histogram2d",
            "colorbar": {
             "outlinewidth": 0,
             "ticks": ""
            },
            "colorscale": [
             [
              0.0,
              "#0d0887"
             ],
             [
              0.1111111111111111,
              "#46039f"
             ],
             [
              0.2222222222222222,
              "#7201a8"
             ],
             [
              0.3333333333333333,
              "#9c179e"
             ],
             [
              0.4444444444444444,
              "#bd3786"
             ],
             [
              0.5555555555555556,
              "#d8576b"
             ],
             [
              0.6666666666666666,
              "#ed7953"
             ],
             [
              0.7777777777777778,
              "#fb9f3a"
             ],
             [
              0.8888888888888888,
              "#fdca26"
             ],
             [
              1.0,
              "#f0f921"
             ]
            ]
           }
          ],
          "heatmap": [
           {
            "type": "heatmap",
            "colorbar": {
             "outlinewidth": 0,
             "ticks": ""
            },
            "colorscale": [
             [
              0.0,
              "#0d0887"
             ],
             [
              0.1111111111111111,
              "#46039f"
             ],
             [
              0.2222222222222222,
              "#7201a8"
             ],
             [
              0.3333333333333333,
              "#9c179e"
             ],
             [
              0.4444444444444444,
              "#bd3786"
             ],
             [
              0.5555555555555556,
              "#d8576b"
             ],
             [
              0.6666666666666666,
              "#ed7953"
             ],
             [
              0.7777777777777778,
              "#fb9f3a"
             ],
             [
              0.8888888888888888,
              "#fdca26"
             ],
             [
              1.0,
              "#f0f921"
             ]
            ]
           }
          ],
          "contourcarpet": [
           {
            "type": "contourcarpet",
            "colorbar": {
             "outlinewidth": 0,
             "ticks": ""
            }
           }
          ],
          "contour": [
           {
            "type": "contour",
            "colorbar": {
             "outlinewidth": 0,
             "ticks": ""
            },
            "colorscale": [
             [
              0.0,
              "#0d0887"
             ],
             [
              0.1111111111111111,
              "#46039f"
             ],
             [
              0.2222222222222222,
              "#7201a8"
             ],
             [
              0.3333333333333333,
              "#9c179e"
             ],
             [
              0.4444444444444444,
              "#bd3786"
             ],
             [
              0.5555555555555556,
              "#d8576b"
             ],
             [
              0.6666666666666666,
              "#ed7953"
             ],
             [
              0.7777777777777778,
              "#fb9f3a"
             ],
             [
              0.8888888888888888,
              "#fdca26"
             ],
             [
              1.0,
              "#f0f921"
             ]
            ]
           }
          ],
          "surface": [
           {
            "type": "surface",
            "colorbar": {
             "outlinewidth": 0,
             "ticks": ""
            },
            "colorscale": [
             [
              0.0,
              "#0d0887"
             ],
             [
              0.1111111111111111,
              "#46039f"
             ],
             [
              0.2222222222222222,
              "#7201a8"
             ],
             [
              0.3333333333333333,
              "#9c179e"
             ],
             [
              0.4444444444444444,
              "#bd3786"
             ],
             [
              0.5555555555555556,
              "#d8576b"
             ],
             [
              0.6666666666666666,
              "#ed7953"
             ],
             [
              0.7777777777777778,
              "#fb9f3a"
             ],
             [
              0.8888888888888888,
              "#fdca26"
             ],
             [
              1.0,
              "#f0f921"
             ]
            ]
           }
          ],
          "mesh3d": [
           {
            "type": "mesh3d",
            "colorbar": {
             "outlinewidth": 0,
             "ticks": ""
            }
           }
          ],
          "scatter": [
           {
            "fillpattern": {
             "fillmode": "overlay",
             "size": 10,
             "solidity": 0.2
            },
            "type": "scatter"
           }
          ],
          "parcoords": [
           {
            "type": "parcoords",
            "line": {
             "colorbar": {
              "outlinewidth": 0,
              "ticks": ""
             }
            }
           }
          ],
          "scatterpolargl": [
           {
            "type": "scatterpolargl",
            "marker": {
             "colorbar": {
              "outlinewidth": 0,
              "ticks": ""
             }
            }
           }
          ],
          "bar": [
           {
            "error_x": {
             "color": "#2a3f5f"
            },
            "error_y": {
             "color": "#2a3f5f"
            },
            "marker": {
             "line": {
              "color": "#E5ECF6",
              "width": 0.5
             },
             "pattern": {
              "fillmode": "overlay",
              "size": 10,
              "solidity": 0.2
             }
            },
            "type": "bar"
           }
          ],
          "scattergeo": [
           {
            "type": "scattergeo",
            "marker": {
             "colorbar": {
              "outlinewidth": 0,
              "ticks": ""
             }
            }
           }
          ],
          "scatterpolar": [
           {
            "type": "scatterpolar",
            "marker": {
             "colorbar": {
              "outlinewidth": 0,
              "ticks": ""
             }
            }
           }
          ],
          "histogram": [
           {
            "marker": {
             "pattern": {
              "fillmode": "overlay",
              "size": 10,
              "solidity": 0.2
             }
            },
            "type": "histogram"
           }
          ],
          "scattergl": [
           {
            "type": "scattergl",
            "marker": {
             "colorbar": {
              "outlinewidth": 0,
              "ticks": ""
             }
            }
           }
          ],
          "scatter3d": [
           {
            "type": "scatter3d",
            "line": {
             "colorbar": {
              "outlinewidth": 0,
              "ticks": ""
             }
            },
            "marker": {
             "colorbar": {
              "outlinewidth": 0,
              "ticks": ""
             }
            }
           }
          ],
          "scattermap": [
           {
            "type": "scattermap",
            "marker": {
             "colorbar": {
              "outlinewidth": 0,
              "ticks": ""
             }
            }
           }
          ],
          "scattermapbox": [
           {
            "type": "scattermapbox",
            "marker": {
             "colorbar": {
              "outlinewidth": 0,
              "ticks": ""
             }
            }
           }
          ],
          "scatterternary": [
           {
            "type": "scatterternary",
            "marker": {
             "colorbar": {
              "outlinewidth": 0,
              "ticks": ""
             }
            }
           }
          ],
          "scattercarpet": [
           {
            "type": "scattercarpet",
            "marker": {
             "colorbar": {
              "outlinewidth": 0,
              "ticks": ""
             }
            }
           }
          ],
          "carpet": [
           {
            "aaxis": {
             "endlinecolor": "#2a3f5f",
             "gridcolor": "white",
             "linecolor": "white",
             "minorgridcolor": "white",
             "startlinecolor": "#2a3f5f"
            },
            "baxis": {
             "endlinecolor": "#2a3f5f",
             "gridcolor": "white",
             "linecolor": "white",
             "minorgridcolor": "white",
             "startlinecolor": "#2a3f5f"
            },
            "type": "carpet"
           }
          ],
          "table": [
           {
            "cells": {
             "fill": {
              "color": "#EBF0F8"
             },
             "line": {
              "color": "white"
             }
            },
            "header": {
             "fill": {
              "color": "#C8D4E3"
             },
             "line": {
              "color": "white"
             }
            },
            "type": "table"
           }
          ],
          "barpolar": [
           {
            "marker": {
             "line": {
              "color": "#E5ECF6",
              "width": 0.5
             },
             "pattern": {
              "fillmode": "overlay",
              "size": 10,
              "solidity": 0.2
             }
            },
            "type": "barpolar"
           }
          ],
          "pie": [
           {
            "automargin": true,
            "type": "pie"
           }
          ]
         },
         "layout": {
          "autotypenumbers": "strict",
          "colorway": [
           "#636efa",
           "#EF553B",
           "#00cc96",
           "#ab63fa",
           "#FFA15A",
           "#19d3f3",
           "#FF6692",
           "#B6E880",
           "#FF97FF",
           "#FECB52"
          ],
          "font": {
           "color": "#2a3f5f"
          },
          "hovermode": "closest",
          "hoverlabel": {
           "align": "left"
          },
          "paper_bgcolor": "white",
          "plot_bgcolor": "#E5ECF6",
          "polar": {
           "bgcolor": "#E5ECF6",
           "angularaxis": {
            "gridcolor": "white",
            "linecolor": "white",
            "ticks": ""
           },
           "radialaxis": {
            "gridcolor": "white",
            "linecolor": "white",
            "ticks": ""
           }
          },
          "ternary": {
           "bgcolor": "#E5ECF6",
           "aaxis": {
            "gridcolor": "white",
            "linecolor": "white",
            "ticks": ""
           },
           "baxis": {
            "gridcolor": "white",
            "linecolor": "white",
            "ticks": ""
           },
           "caxis": {
            "gridcolor": "white",
            "linecolor": "white",
            "ticks": ""
           }
          },
          "coloraxis": {
           "colorbar": {
            "outlinewidth": 0,
            "ticks": ""
           }
          },
          "colorscale": {
           "sequential": [
            [
             0.0,
             "#0d0887"
            ],
            [
             0.1111111111111111,
             "#46039f"
            ],
            [
             0.2222222222222222,
             "#7201a8"
            ],
            [
             0.3333333333333333,
             "#9c179e"
            ],
            [
             0.4444444444444444,
             "#bd3786"
            ],
            [
             0.5555555555555556,
             "#d8576b"
            ],
            [
             0.6666666666666666,
             "#ed7953"
            ],
            [
             0.7777777777777778,
             "#fb9f3a"
            ],
            [
             0.8888888888888888,
             "#fdca26"
            ],
            [
             1.0,
             "#f0f921"
            ]
           ],
           "sequentialminus": [
            [
             0.0,
             "#0d0887"
            ],
            [
             0.1111111111111111,
             "#46039f"
            ],
            [
             0.2222222222222222,
             "#7201a8"
            ],
            [
             0.3333333333333333,
             "#9c179e"
            ],
            [
             0.4444444444444444,
             "#bd3786"
            ],
            [
             0.5555555555555556,
             "#d8576b"
            ],
            [
             0.6666666666666666,
             "#ed7953"
            ],
            [
             0.7777777777777778,
             "#fb9f3a"
            ],
            [
             0.8888888888888888,
             "#fdca26"
            ],
            [
             1.0,
             "#f0f921"
            ]
           ],
           "diverging": [
            [
             0,
             "#8e0152"
            ],
            [
             0.1,
             "#c51b7d"
            ],
            [
             0.2,
             "#de77ae"
            ],
            [
             0.3,
             "#f1b6da"
            ],
            [
             0.4,
             "#fde0ef"
            ],
            [
             0.5,
             "#f7f7f7"
            ],
            [
             0.6,
             "#e6f5d0"
            ],
            [
             0.7,
             "#b8e186"
            ],
            [
             0.8,
             "#7fbc41"
            ],
            [
             0.9,
             "#4d9221"
            ],
            [
             1,
             "#276419"
            ]
           ]
          },
          "xaxis": {
           "gridcolor": "white",
           "linecolor": "white",
           "ticks": "",
           "title": {
            "standoff": 15
           },
           "zerolinecolor": "white",
           "automargin": true,
           "zerolinewidth": 2
          },
          "yaxis": {
           "gridcolor": "white",
           "linecolor": "white",
           "ticks": "",
           "title": {
            "standoff": 15
           },
           "zerolinecolor": "white",
           "automargin": true,
           "zerolinewidth": 2
          },
          "scene": {
           "xaxis": {
            "backgroundcolor": "#E5ECF6",
            "gridcolor": "white",
            "linecolor": "white",
            "showbackground": true,
            "ticks": "",
            "zerolinecolor": "white",
            "gridwidth": 2
           },
           "yaxis": {
            "backgroundcolor": "#E5ECF6",
            "gridcolor": "white",
            "linecolor": "white",
            "showbackground": true,
            "ticks": "",
            "zerolinecolor": "white",
            "gridwidth": 2
           },
           "zaxis": {
            "backgroundcolor": "#E5ECF6",
            "gridcolor": "white",
            "linecolor": "white",
            "showbackground": true,
            "ticks": "",
            "zerolinecolor": "white",
            "gridwidth": 2
           }
          },
          "shapedefaults": {
           "line": {
            "color": "#2a3f5f"
           }
          },
          "annotationdefaults": {
           "arrowcolor": "#2a3f5f",
           "arrowhead": 0,
           "arrowwidth": 1
          },
          "geo": {
           "bgcolor": "white",
           "landcolor": "#E5ECF6",
           "subunitcolor": "white",
           "showland": true,
           "showlakes": true,
           "lakecolor": "white"
          },
          "title": {
           "x": 0.05
          },
          "mapbox": {
           "style": "light"
          }
         }
        },
        "xaxis": {
         "anchor": "y",
         "domain": [
          0.0,
          0.45
         ],
         "title": {
          "text": "max_depth"
         }
        },
        "yaxis": {
         "anchor": "x",
         "domain": [
          0.0,
          1.0
         ],
         "title": {
          "text": "Objective Value"
         }
        },
        "xaxis2": {
         "anchor": "y2",
         "domain": [
          0.55,
          1.0
         ],
         "title": {
          "text": "n_estimators"
         }
        },
        "yaxis2": {
         "anchor": "x2",
         "domain": [
          0.0,
          1.0
         ],
         "matches": "y",
         "showticklabels": false
        },
        "title": {
         "text": "Slice Plot"
        }
       },
       "config": {
        "plotlyServerURL": "https://plot.ly"
       }
      }
     },
     "metadata": {},
     "output_type": "display_data"
    }
   ],
   "execution_count": 10
  },
  {
   "metadata": {
    "ExecuteTime": {
     "end_time": "2025-07-02T12:59:33.788850Z",
     "start_time": "2025-07-02T12:59:33.761079Z"
    }
   },
   "cell_type": "code",
   "source": [
    "# Contour plot - Dense colour shows the best possible location of the objective fnc\n",
    "plot_contour(study).show()"
   ],
   "id": "ff330e495f12a005",
   "outputs": [
    {
     "data": {
      "application/vnd.plotly.v1+json": {
       "data": [
        {
         "colorbar": {
          "title": {
           "text": "Objective Value"
          }
         },
         "colorscale": [
          [
           0.0,
           "rgb(247,251,255)"
          ],
          [
           0.125,
           "rgb(222,235,247)"
          ],
          [
           0.25,
           "rgb(198,219,239)"
          ],
          [
           0.375,
           "rgb(158,202,225)"
          ],
          [
           0.5,
           "rgb(107,174,214)"
          ],
          [
           0.625,
           "rgb(66,146,198)"
          ],
          [
           0.75,
           "rgb(33,113,181)"
          ],
          [
           0.875,
           "rgb(8,81,156)"
          ],
          [
           1.0,
           "rgb(8,48,107)"
          ]
         ],
         "connectgaps": true,
         "contours": {
          "coloring": "heatmap"
         },
         "hoverinfo": "none",
         "line": {
          "smoothing": 1.3
         },
         "reversescale": false,
         "x": [
          2.15,
          3,
          4,
          5,
          6,
          7,
          8,
          10,
          11,
          12,
          13,
          14,
          15,
          16,
          17,
          18,
          19,
          20,
          20.85
         ],
         "y": [
          42.5,
          50,
          52,
          53,
          55,
          56,
          57,
          58,
          59,
          60,
          61,
          63,
          64,
          65,
          66,
          67,
          68,
          69,
          70,
          71,
          72,
          73,
          74,
          75,
          77,
          78,
          80,
          81,
          82,
          83,
          84,
          85,
          87,
          88,
          89,
          90,
          91,
          94,
          95,
          97,
          99,
          101,
          102,
          105,
          106,
          108,
          111,
          115,
          116,
          119,
          120,
          128,
          130,
          131,
          138,
          139,
          148,
          156,
          160,
          169,
          171,
          173,
          182,
          198,
          200,
          207.5
         ],
         "z": {
          "dtype": "f8",
          "bdata": "AAAAAAAA+H8AAAAAAAD4fwAAAAAAAPh/AAAAAAAA+H8AAAAAAAD4fwAAAAAAAPh/AAAAAAAA+H8AAAAAAAD4fwAAAAAAAPh/AAAAAAAA+H8AAAAAAAD4fwAAAAAAAPh/AAAAAAAA+H8AAAAAAAD4fwAAAAAAAPh/AAAAAAAA+H8AAAAAAAD4fwAAAAAAAPh/AAAAAAAA+H8AAAAAAAD4fwAAAAAAAPh/AAAAAAAA+H8AAAAAAAD4fwAAAAAAAPh/AAAAAAAA+H8AAAAAAAD4fwAAAAAAAPh/AAAAAAAA+H8AAAAAAAD4fwAAAAAAAPh/AAAAAAAA+H8AAAAAAAD4fwAAAAAAAPh/AAAAAAAA+H8jeKS/nqvoPwAAAAAAAPh/AAAAAAAA+H8AAAAAAAD4fwAAAAAAAPh/AAAAAAAA+H8AAAAAAAD4fwAAAAAAAPh/AAAAAAAA+H8AAAAAAAD4fwAAAAAAAPh/AAAAAAAA+H8AAAAAAAD4fwAAAAAAAPh/AAAAAAAA+H8AAAAAAAD4fwAAAAAAAPh/AAAAAAAA+H8AAAAAAAD4f51PQQ/guug/AAAAAAAA+H8AAAAAAAD4fwAAAAAAAPh/AAAAAAAA+H8AAAAAAAD4fwAAAAAAAPh/nU9BD+C66D8AAAAAAAD4fwAAAAAAAPh/AAAAAAAA+H8AAAAAAAD4fwAAAAAAAPh/AAAAAAAA+H8AAAAAAAD4fwAAAAAAAPh/s/HN0Np96D8AAAAAAAD4fwAAAAAAAPh/AAAAAAAA+H8AAAAAAAD4fwAAAAAAAPh/AAAAAAAA+H8AAAAAAAD4fwAAAAAAAPh/AAAAAAAA+H8AAAAAAAD4fwAAAAAAAPh/AAAAAAAA+H8AAAAAAAD4fwAAAAAAAPh/AAAAAAAA+H8AAAAAAAD4fwAAAAAAAPh/LclqIByN6D8AAAAAAAD4fwAAAAAAAPh/AAAAAAAA+H8AAAAAAAD4fwAAAAAAAPh/AAAAAAAA+H8AAAAAAAD4fwAAAAAAAPh/AAAAAAAA+H8AAAAAAAD4fwAAAAAAAPh/AAAAAAAA+H8AAAAAAAD4fwAAAAAAAPh/AAAAAAAA+H8AAAAAAAD4fwAAAAAAAPh/AAAAAAAA+H8jeKS/nqvoPwAAAAAAAPh/AAAAAAAA+H8AAAAAAAD4f6igB3BdnOg/AAAAAAAA+H8AAAAAAAD4fwAAAAAAAPh/AAAAAAAA+H8AAAAAAAD4fwAAAAAAAPh/AAAAAAAA+H8AAAAAAAD4fwAAAAAAAPh/AAAAAAAA+H8AAAAAAAD4fwAAAAAAAPh/AAAAAAAA+H8AAAAAAAD4fwAAAAAAAPh/AAAAAAAA+H8AAAAAAAD4fxgn3l4hyug/AAAAAAAA+H8AAAAAAAD4fwAAAAAAAPh/AAAAAAAA+H8AAAAAAAD4fwAAAAAAAPh/AAAAAAAA+H8AAAAAAAD4fwAAAAAAAPh/AAAAAAAA+H8AAAAAAAD4fwAAAAAAAPh/AAAAAAAA+H8AAAAAAAD4fwAAAAAAAPh/AAAAAAAA+H8AAAAAAAD4fwAAAAAAAPh/AAAAAAAA+H8AAAAAAAD4fwAAAAAAAPh/qKAHcF2c6D8AAAAAAAD4fwAAAAAAAPh/AAAAAAAA+H8AAAAAAAD4fwAAAAAAAPh/AAAAAAAA+H8AAAAAAAD4fwAAAAAAAPh/AAAAAAAA+H8AAAAAAAD4fwAAAAAAAPh/qKAHcF2c6D8AAAAAAAD4fwAAAAAAAPh/I3ikv56r6D8AAAAAAAD4fwAAAAAAAPh/AAAAAAAA+H8AAAAAAAD4fwAAAAAAAPh/AAAAAAAA+H8AAAAAAAD4fwAAAAAAAPh/AAAAAAAA+H8AAAAAAAD4fwAAAAAAAPh/AAAAAAAA+H8AAAAAAAD4fwAAAAAAAPh/AAAAAAAA+H8AAAAAAAD4fwAAAAAAAPh/AAAAAAAA+H+z8c3Q2n3oPwAAAAAAAPh/AAAAAAAA+H8AAAAAAAD4fwAAAAAAAPh/AAAAAAAA+H8AAAAAAAD4fwAAAAAAAPh/AAAAAAAA+H8AAAAAAAD4fwAAAAAAAPh/AAAAAAAA+H8AAAAAAAD4fwAAAAAAAPh/AAAAAAAA+H8AAAAAAAD4f6igB3BdnOg/AAAAAAAA+H8AAAAAAAD4f5P+eq5i2eg/AAAAAAAA+H8AAAAAAAD4fwAAAAAAAPh/AAAAAAAA+H8AAAAAAAD4fwAAAAAAAPh/AAAAAAAA+H8AAAAAAAD4fwAAAAAAAPh/AAAAAAAA+H8AAAAAAAD4fwAAAAAAAPh/AAAAAAAA+H8AAAAAAAD4fwAAAAAAAPh/AAAAAAAA+H8jeKS/nqvoPxgn3l4hyug/A4VRnSYH6T8AAAAAAAD4fxgn3l4hyug/AAAAAAAA+H8AAAAAAAD4fwAAAAAAAPh/AAAAAAAA+H8AAAAAAAD4fwAAAAAAAPh/AAAAAAAA+H8AAAAAAAD4fwAAAAAAAPh/AAAAAAAA+H8AAAAAAAD4fwAAAAAAAPh/AAAAAAAA+H8AAAAAAAD4fwAAAAAAAPh/qKAHcF2c6D8AAAAAAAD4fwAAAAAAAPh/nU9BD+C66D8AAAAAAAD4fwAAAAAAAPh/AAAAAAAA+H8AAAAAAAD4fwAAAAAAAPh/AAAAAAAA+H8AAAAAAAD4fwAAAAAAAPh/AAAAAAAA+H8AAAAAAAD4fwAAAAAAAPh/AAAAAAAA+H8AAAAAAAD4fwAAAAAAAPh/AAAAAAAA+H8AAAAAAAD4fwAAAAAAAPh/AAAAAAAA+H8AAAAAAAD4fw3WF/6j6Og/AAAAAAAA+H8AAAAAAAD4fwAAAAAAAPh/AAAAAAAA+H8AAAAAAAD4fwAAAAAAAPh/AAAAAAAA+H8AAAAAAAD4fwAAAAAAAPh/AAAAAAAA+H8AAAAAAAD4fwAAAAAAAPh/AAAAAAAA+H8AAAAAAAD4fwAAAAAAAPh/I3ikv56r6D8AAAAAAAD4fwAAAAAAAPh/AAAAAAAA+H8AAAAAAAD4fwAAAAAAAPh/AAAAAAAA+H8AAAAAAAD4fwAAAAAAAPh/AAAAAAAA+H8AAAAAAAD4fwAAAAAAAPh/AAAAAAAA+H8AAAAAAAD4fwAAAAAAAPh/AAAAAAAA+H8jeKS/nqvoPwAAAAAAAPh/I3ikv56r6D8AAAAAAAD4fw3WF/6j6Og/DdYX/qPo6D8AAAAAAAD4fwAAAAAAAPh/AAAAAAAA+H8AAAAAAAD4fwAAAAAAAPh/AAAAAAAA+H8AAAAAAAD4fwAAAAAAAPh/AAAAAAAA+H8AAAAAAAD4fwAAAAAAAPh/AAAAAAAA+H8AAAAAAAD4fwAAAAAAAPh/AAAAAAAA+H8AAAAAAAD4fwAAAAAAAPh/AAAAAAAA+H8AAAAAAAD4fwAAAAAAAPh/GCfeXiHK6D8AAAAAAAD4fwAAAAAAAPh/AAAAAAAA+H8AAAAAAAD4fwAAAAAAAPh/AAAAAAAA+H8AAAAAAAD4fwAAAAAAAPh/AAAAAAAA+H8AAAAAAAD4fwAAAAAAAPh/AAAAAAAA+H8AAAAAAAD4fwAAAAAAAPh/AAAAAAAA+H+T/nquYtnoPw3WF/6j6Og/AAAAAAAA+H8AAAAAAAD4fwAAAAAAAPh/AAAAAAAA+H8AAAAAAAD4fwAAAAAAAPh/AAAAAAAA+H8AAAAAAAD4fwAAAAAAAPh/AAAAAAAA+H8AAAAAAAD4fwAAAAAAAPh/AAAAAAAA+H8AAAAAAAD4fwAAAAAAAPh/AAAAAAAA+H8AAAAAAAD4f4ittE3l9+g/AAAAAAAA+H8AAAAAAAD4f5P+eq5i2eg/AAAAAAAA+H8AAAAAAAD4fwAAAAAAAPh/AAAAAAAA+H8AAAAAAAD4fwAAAAAAAPh/AAAAAAAA+H8AAAAAAAD4fwAAAAAAAPh/AAAAAAAA+H8AAAAAAAD4fwAAAAAAAPh/AAAAAAAA+H8AAAAAAAD4fxgn3l4hyug/AAAAAAAA+H8AAAAAAAD4fw3WF/6j6Og/AAAAAAAA+H8AAAAAAAD4fwAAAAAAAPh/AAAAAAAA+H8AAAAAAAD4fwAAAAAAAPh/AAAAAAAA+H8AAAAAAAD4fwAAAAAAAPh/AAAAAAAA+H8AAAAAAAD4fwAAAAAAAPh/AAAAAAAA+H8AAAAAAAD4fwAAAAAAAPh/AAAAAAAA+H8AAAAAAAD4fwAAAAAAAPh/DdYX/qPo6D8N1hf+o+joPwAAAAAAAPh/AAAAAAAA+H8AAAAAAAD4fwAAAAAAAPh/AAAAAAAA+H8AAAAAAAD4fwAAAAAAAPh/AAAAAAAA+H8AAAAAAAD4fwAAAAAAAPh/AAAAAAAA+H8AAAAAAAD4fwAAAAAAAPh/AAAAAAAA+H8YJ95eIcroPwAAAAAAAPh/fFzu7GcW6T8DhVGdJgfpPwAAAAAAAPh/AAAAAAAA+H8AAAAAAAD4fwAAAAAAAPh/AAAAAAAA+H8AAAAAAAD4fwAAAAAAAPh/AAAAAAAA+H8AAAAAAAD4fwAAAAAAAPh/AAAAAAAA+H8AAAAAAAD4fwAAAAAAAPh/AAAAAAAA+H8AAAAAAAD4fwAAAAAAAPh/AAAAAAAA+H8AAAAAAAD4f5P+eq5i2eg/AAAAAAAA+H8AAAAAAAD4fwAAAAAAAPh/AAAAAAAA+H8AAAAAAAD4fwAAAAAAAPh/AAAAAAAA+H8AAAAAAAD4fwAAAAAAAPh/AAAAAAAA+H8AAAAAAAD4fwAAAAAAAPh/AAAAAAAA+H8AAAAAAAD4fwAAAAAAAPh/nU9BD+C66D8AAAAAAAD4fw3WF/6j6Og/AAAAAAAA+H8N1hf+o+joPwAAAAAAAPh/AAAAAAAA+H8AAAAAAAD4fwAAAAAAAPh/AAAAAAAA+H8AAAAAAAD4fwAAAAAAAPh/AAAAAAAA+H8AAAAAAAD4fwAAAAAAAPh/AAAAAAAA+H8AAAAAAAD4fwAAAAAAAPh/AAAAAAAA+H8AAAAAAAD4fxgn3l4hyug/AAAAAAAA+H8AAAAAAAD4fwAAAAAAAPh/AAAAAAAA+H8AAAAAAAD4fwAAAAAAAPh/AAAAAAAA+H8AAAAAAAD4fwAAAAAAAPh/AAAAAAAA+H8AAAAAAAD4fwAAAAAAAPh/AAAAAAAA+H8AAAAAAAD4fwAAAAAAAPh/AAAAAAAA+H8AAAAAAAD4fwAAAAAAAPh/s/HN0Np96D8AAAAAAAD4fzgaMYGZbug/AAAAAAAA+H8AAAAAAAD4fwAAAAAAAPh/1OQg81Ii6D8AAAAAAAD4fwAAAAAAAPh/AAAAAAAA+H8AAAAAAAD4fwAAAAAAAPh/AAAAAAAA+H8AAAAAAAD4fwAAAAAAAPh/AAAAAAAA+H8AAAAAAAD4fwAAAAAAAPh/AAAAAAAA+H8AAAAAAAD4fwAAAAAAAPh/AAAAAAAA+H8AAAAAAAD4fwAAAAAAAPh/AAAAAAAA+H8AAAAAAAD4fwAAAAAAAPh/AAAAAAAA+H8AAAAAAAD4fwAAAAAAAPh/AAAAAAAA+H8AAAAAAAD4fwAAAAAAAPh/AAAAAAAA+H8AAAAAAAD4fwAAAAAAAPh/I3ikv56r6D8AAAAAAAD4fwAAAAAAAPh/nU9BD+C66D8jeKS/nqvoPwAAAAAAAPh/AAAAAAAA+H8AAAAAAAD4fwAAAAAAAPh/AAAAAAAA+H8AAAAAAAD4fwAAAAAAAPh/AAAAAAAA+H8AAAAAAAD4fwAAAAAAAPh/AAAAAAAA+H8AAAAAAAD4fwAAAAAAAPh/AAAAAAAA+H8AAAAAAAD4fwAAAAAAAPh/AAAAAAAA+H8AAAAAAAD4fwAAAAAAAPh/s/HN0Np96D8AAAAAAAD4fwAAAAAAAPh/AAAAAAAA+H8AAAAAAAD4fwAAAAAAAPh/AAAAAAAA+H8AAAAAAAD4fwAAAAAAAPh/AAAAAAAA+H8AAAAAAAD4fwAAAAAAAPh/AAAAAAAA+H8AAAAAAAD4fwAAAAAAAPh/AAAAAAAA+H+z8c3Q2n3oPwAAAAAAAPh/AAAAAAAA+H8AAAAAAAD4fwAAAAAAAPh/AAAAAAAA+H8AAAAAAAD4fwAAAAAAAPh/AAAAAAAA+H8AAAAAAAD4fy3JaiAcjeg/AAAAAAAA+H8AAAAAAAD4fwAAAAAAAPh/AAAAAAAA+H8AAAAAAAD4fwAAAAAAAPh/AAAAAAAA+H8AAAAAAAD4fwAAAAAAAPh/AAAAAAAA+H8AAAAAAAD4fwAAAAAAAPh/AAAAAAAA+H8AAAAAAAD4fwAAAAAAAPh/AAAAAAAA+H8AAAAAAAD4fwAAAAAAAPh/AAAAAAAA+H8AAAAAAAD4fwAAAAAAAPh/AAAAAAAA+H8AAAAAAAD4fwAAAAAAAPh/AAAAAAAA+H8AAAAAAAD4fwAAAAAAAPh/AAAAAAAA+H8AAAAAAAD4fwAAAAAAAPh/qKAHcF2c6D8AAAAAAAD4fwAAAAAAAPh/AAAAAAAA+H8AAAAAAAD4fwAAAAAAAPh/AAAAAAAA+H8AAAAAAAD4fwAAAAAAAPh/AAAAAAAA+H8AAAAAAAD4fwAAAAAAAPh/AAAAAAAA+H8AAAAAAAD4fwAAAAAAAPh/AAAAAAAA+H+ooAdwXZzoPwAAAAAAAPh/AAAAAAAA+H8AAAAAAAD4fwAAAAAAAPh/AAAAAAAA+H8AAAAAAAD4fwAAAAAAAPh/AAAAAAAA+H8AAAAAAAD4fwAAAAAAAPh/AAAAAAAA+H8AAAAAAAD4fwAAAAAAAPh/AAAAAAAA+H8AAAAAAAD4fwAAAAAAAPh/AAAAAAAA+H84GjGBmW7oPwAAAAAAAPh/AAAAAAAA+H8AAAAAAAD4fwAAAAAAAPh/AAAAAAAA+H8AAAAAAAD4fwAAAAAAAPh/AAAAAAAA+H8AAAAAAAD4fwAAAAAAAPh/AAAAAAAA+H8AAAAAAAD4fwAAAAAAAPh/AAAAAAAA+H8AAAAAAAD4fwAAAAAAAPh/AAAAAAAA+H8AAAAAAAD4fwAAAAAAAPh/AAAAAAAA+H8AAAAAAAD4fxgn3l4hyug/AAAAAAAA+H8AAAAAAAD4fwAAAAAAAPh/AAAAAAAA+H8AAAAAAAD4fwAAAAAAAPh/AAAAAAAA+H8AAAAAAAD4fwAAAAAAAPh/AAAAAAAA+H8AAAAAAAD4fwAAAAAAAPh/AAAAAAAA+H8jeKS/nqvoPwAAAAAAAPh/AAAAAAAA+H8AAAAAAAD4fwAAAAAAAPh/AAAAAAAA+H8AAAAAAAD4fwAAAAAAAPh/AAAAAAAA+H8AAAAAAAD4fwAAAAAAAPh/AAAAAAAA+H8AAAAAAAD4fwAAAAAAAPh/AAAAAAAA+H8AAAAAAAD4fwAAAAAAAPh/AAAAAAAA+H8AAAAAAAD4fwAAAAAAAPh/AAAAAAAA+H8AAAAAAAD4fxgn3l4hyug/AAAAAAAA+H8YJ95eIcroPwAAAAAAAPh/AAAAAAAA+H8AAAAAAAD4fwAAAAAAAPh/AAAAAAAA+H8AAAAAAAD4fwAAAAAAAPh/AAAAAAAA+H8AAAAAAAD4fwAAAAAAAPh/AAAAAAAA+H8AAAAAAAD4fwAAAAAAAPh/AAAAAAAA+H+z8c3Q2n3oPwAAAAAAAPh/AAAAAAAA+H8AAAAAAAD4fwAAAAAAAPh/AAAAAAAA+H8AAAAAAAD4fwAAAAAAAPh/AAAAAAAA+H8AAAAAAAD4fwAAAAAAAPh/AAAAAAAA+H8AAAAAAAD4fwAAAAAAAPh/RGv34RZQ6D8AAAAAAAD4fwAAAAAAAPh/AAAAAAAA+H8AAAAAAAD4fwAAAAAAAPh/AAAAAAAA+H8AAAAAAAD4fwAAAAAAAPh/AAAAAAAA+H8AAAAAAAD4fwAAAAAAAPh/AAAAAAAA+H8AAAAAAAD4fwAAAAAAAPh/AAAAAAAA+H8AAAAAAAD4fwAAAAAAAPh/AAAAAAAA+H8AAAAAAAD4fwAAAAAAAPh/AAAAAAAA+H8tyWogHI3oPwAAAAAAAPh/AAAAAAAA+H8AAAAAAAD4fwAAAAAAAPh/AAAAAAAA+H8AAAAAAAD4fwAAAAAAAPh/AAAAAAAA+H8AAAAAAAD4fwAAAAAAAPh/AAAAAAAA+H8AAAAAAAD4fwAAAAAAAPh/AAAAAAAA+H8AAAAAAAD4fwAAAAAAAPh/AAAAAAAA+H8AAAAAAAD4fwAAAAAAAPh/AAAAAAAA+H8tyWogHI3oPwAAAAAAAPh/AAAAAAAA+H8AAAAAAAD4fwAAAAAAAPh/AAAAAAAA+H8AAAAAAAD4fwAAAAAAAPh/AAAAAAAA+H8AAAAAAAD4fwAAAAAAAPh/AAAAAAAA+H8AAAAAAAD4fwAAAAAAAPh/AAAAAAAA+H8AAAAAAAD4fwAAAAAAAPh/AAAAAAAA+H+ooAdwXZzoPwAAAAAAAPh/AAAAAAAA+H8AAAAAAAD4fwAAAAAAAPh/AAAAAAAA+H8AAAAAAAD4fwAAAAAAAPh/AAAAAAAA+H8AAAAAAAD4fwAAAAAAAPh/AAAAAAAA+H8AAAAAAAD4fwAAAAAAAPh/AAAAAAAA+H8AAAAAAAD4f7PxzdDafeg/AAAAAAAA+H8AAAAAAAD4fwAAAAAAAPh/AAAAAAAA+H8AAAAAAAD4fwAAAAAAAPh/AAAAAAAA+H8AAAAAAAD4fwAAAAAAAPh/AAAAAAAA+H8AAAAAAAD4fwAAAAAAAPh/AAAAAAAA+H8AAAAAAAD4fwAAAAAAAPh/AAAAAAAA+H8AAAAAAAD4fwAAAAAAAPh/AAAAAAAA+H8AAAAAAAD4fwAAAAAAAPh/AAAAAAAA+H8AAAAAAAD4fwAAAAAAAPh/AAAAAAAA+H8AAAAAAAD4f51PQQ/guug/AAAAAAAA+H8AAAAAAAD4fwAAAAAAAPh/AAAAAAAA+H8AAAAAAAD4fwAAAAAAAPh/AAAAAAAA+H8AAAAAAAD4fwAAAAAAAPh/AAAAAAAA+H8AAAAAAAD4fwAAAAAAAPh/AAAAAAAA+H8AAAAAAAD4fwAAAAAAAPh/AAAAAAAA+H8AAAAAAAD4fwzWF/6j6Og/AAAAAAAA+H8AAAAAAAD4fwAAAAAAAPh/AAAAAAAA+H8AAAAAAAD4fwAAAAAAAPh/AAAAAAAA+H8AAAAAAAD4fwAAAAAAAPh/AAAAAAAA+H8AAAAAAAD4fwAAAAAAAPh/AAAAAAAA+H8AAAAAAAD4fwAAAAAAAPh/AAAAAAAA+H8AAAAAAAD4fwAAAAAAAPh/AAAAAAAA+H8AAAAAAAD4f6igB3BdnOg/AAAAAAAA+H8AAAAAAAD4f0Nr9+EWUOg/AAAAAAAA+H8AAAAAAAD4fwAAAAAAAPh/AAAAAAAA+H8AAAAAAAD4fwAAAAAAAPh/AAAAAAAA+H8AAAAAAAD4fwAAAAAAAPh/AAAAAAAA+H8AAAAAAAD4fwAAAAAAAPh/AAAAAAAA+H+T/nquYtnoPwAAAAAAAPh/AAAAAAAA+H8AAAAAAAD4fwAAAAAAAPh/AAAAAAAA+H8AAAAAAAD4fwAAAAAAAPh/AAAAAAAA+H8AAAAAAAD4fwAAAAAAAPh/AAAAAAAA+H8AAAAAAAD4fwAAAAAAAPh/AAAAAAAA+H8AAAAAAAD4fwAAAAAAAPh/h620TeX36D8AAAAAAAD4fwAAAAAAAPh/AAAAAAAA+H8AAAAAAAD4fwAAAAAAAPh/AAAAAAAA+H8AAAAAAAD4fwAAAAAAAPh/AAAAAAAA+H8AAAAAAAD4fwAAAAAAAPh/AAAAAAAA+H8AAAAAAAD4fwAAAAAAAPh/AAAAAAAA+H8AAAAAAAD4fwAAAAAAAPh/AAAAAAAA+H8AAAAAAAD4fxgn3l4hyug/AAAAAAAA+H8AAAAAAAD4fwAAAAAAAPh/AAAAAAAA+H8AAAAAAAD4fwAAAAAAAPh/AAAAAAAA+H8AAAAAAAD4fwAAAAAAAPh/AAAAAAAA+H8AAAAAAAD4fwAAAAAAAPh/AAAAAAAA+H8AAAAAAAD4fwAAAAAAAPh/AAAAAAAA+H8AAAAAAAD4fwAAAAAAAPh/DNYX/qPo6D8AAAAAAAD4fwAAAAAAAPh/AAAAAAAA+H8AAAAAAAD4fwAAAAAAAPh/AAAAAAAA+H8AAAAAAAD4fwAAAAAAAPh/AAAAAAAA+H8AAAAAAAD4fwAAAAAAAPh/AAAAAAAA+H8AAAAAAAD4fwAAAAAAAPh/AAAAAAAA+H8AAAAAAAD4fwAAAAAAAPh/AAAAAAAA+H8AAAAAAAD4f5P+eq5i2eg/AAAAAAAA+H8AAAAAAAD4fwAAAAAAAPh/AAAAAAAA+H8AAAAAAAD4fwAAAAAAAPh/AAAAAAAA+H8AAAAAAAD4fwAAAAAAAPh/qKAHcF2c6D8AAAAAAAD4fwAAAAAAAPh/AAAAAAAA+H8AAAAAAAD4fwAAAAAAAPh/AAAAAAAA+H8AAAAAAAD4fwAAAAAAAPh/AAAAAAAA+H8AAAAAAAD4fwAAAAAAAPh/AAAAAAAA+H8AAAAAAAD4fwAAAAAAAPh/AAAAAAAA+H8AAAAAAAD4fwAAAAAAAPh/AAAAAAAA+H8AAAAAAAD4fwAAAAAAAPh/s/HN0Np96D8AAAAAAAD4fwAAAAAAAPh/AAAAAAAA+H8AAAAAAAD4fwAAAAAAAPh/AAAAAAAA+H8AAAAAAAD4fwAAAAAAAPh/AAAAAAAA+H8AAAAAAAD4fwAAAAAAAPh/AAAAAAAA+H8AAAAAAAD4fwAAAAAAAPh/AAAAAAAA+H8AAAAAAAD4f6igB3BdnOg/AAAAAAAA+H8AAAAAAAD4fwAAAAAAAPh/AAAAAAAA+H8AAAAAAAD4fwAAAAAAAPh/AAAAAAAA+H8AAAAAAAD4fwAAAAAAAPh/AAAAAAAA+H8AAAAAAAD4fwAAAAAAAPh/AAAAAAAA+H8AAAAAAAD4fwAAAAAAAPh/AAAAAAAA+H8AAAAAAAD4fwAAAAAAAPh/qKAHcF2c6D8AAAAAAAD4fwAAAAAAAPh/AAAAAAAA+H8AAAAAAAD4fwAAAAAAAPh/AAAAAAAA+H8AAAAAAAD4fwAAAAAAAPh/AAAAAAAA+H8AAAAAAAD4fwAAAAAAAPh/AAAAAAAA+H8AAAAAAAD4fwAAAAAAAPh/AAAAAAAA+H8AAAAAAAD4fwAAAAAAAPh/AAAAAAAA+H8AAAAAAAD4fwAAAAAAAPh/AAAAAAAA+H+dT0EP4LroPwAAAAAAAPh/AAAAAAAA+H8AAAAAAAD4fwAAAAAAAPh/AAAAAAAA+H8AAAAAAAD4fwAAAAAAAPh/AAAAAAAA+H8AAAAAAAD4fwAAAAAAAPh/AAAAAAAA+H8AAAAAAAD4fwAAAAAAAPh/Q2v34RZQ6D8AAAAAAAD4fwAAAAAAAPh/AAAAAAAA+H8AAAAAAAD4fwAAAAAAAPh/AAAAAAAA+H8AAAAAAAD4fwAAAAAAAPh/AAAAAAAA+H8AAAAAAAD4fwAAAAAAAPh/AAAAAAAA+H8AAAAAAAD4fwAAAAAAAPh/AAAAAAAA+H8AAAAAAAD4fwAAAAAAAPh/AAAAAAAA+H8AAAAAAAD4fwAAAAAAAPh/AAAAAAAA+H8AAAAAAAD4fwAAAAAAAPh/AAAAAAAA+H8AAAAAAAD4fwAAAAAAAPh/qKAHcF2c6D8YJ95eIcroPwAAAAAAAPh/AAAAAAAA+H8AAAAAAAD4fwAAAAAAAPh/AAAAAAAA+H8AAAAAAAD4fwAAAAAAAPh/AAAAAAAA+H8AAAAAAAD4fwAAAAAAAPh/AAAAAAAA+H8AAAAAAAD4fwAAAAAAAPh/AAAAAAAA+H8AAAAAAAD4fwAAAAAAAPh/AAAAAAAA+H8AAAAAAAD4fwAAAAAAAPh/AAAAAAAA+H8AAAAAAAD4f51PQQ/guug/AAAAAAAA+H8AAAAAAAD4fwAAAAAAAPh/AAAAAAAA+H8AAAAAAAD4fwAAAAAAAPh/AAAAAAAA+H8AAAAAAAD4fwAAAAAAAPh/AAAAAAAA+H8AAAAAAAD4f5P+eq5i2eg/AAAAAAAA+H8AAAAAAAD4fwAAAAAAAPh/AAAAAAAA+H8AAAAAAAD4fwAAAAAAAPh/AAAAAAAA+H8AAAAAAAD4fwAAAAAAAPh/AAAAAAAA+H8AAAAAAAD4fwAAAAAAAPh/AAAAAAAA+H8AAAAAAAD4fwAAAAAAAPh/AAAAAAAA+H8AAAAAAAD4fwAAAAAAAPh/AAAAAAAA+H8AAAAAAAD4fwAAAAAAAPh/AAAAAAAA+H8AAAAAAAD4f5H+eq5i2eg/AAAAAAAA+H8AAAAAAAD4fwAAAAAAAPh/AAAAAAAA+H8AAAAAAAD4fwAAAAAAAPh/T7y9QpQx6D8AAAAAAAD4fwAAAAAAAPh/AAAAAAAA+H8AAAAAAAD4fwAAAAAAAPh/AAAAAAAA+H8AAAAAAAD4fwAAAAAAAPh/AAAAAAAA+H8AAAAAAAD4fwAAAAAAAPh/AAAAAAAA+H8AAAAAAAD4fwAAAAAAAPh/AAAAAAAA+H8AAAAAAAD4fwAAAAAAAPh/AAAAAAAA+H8AAAAAAAD4fwAAAAAAAPh/AAAAAAAA+H8AAAAAAAD4fwAAAAAAAPh/AAAAAAAA+H8AAAAAAAD4fwAAAAAAAPh/AAAAAAAA+H8AAAAAAAD4fwAAAAAAAPh/AAAAAAAA+H8AAAAAAAD4f6igB3BdnOg/AAAAAAAA+H8AAAAAAAD4fwAAAAAAAPh/AAAAAAAA+H8AAAAAAAD4fwAAAAAAAPh/AAAAAAAA+H8AAAAAAAD4fwAAAAAAAPh/AAAAAAAA+H8AAAAAAAD4fwAAAAAAAPh/AAAAAAAA+H8AAAAAAAD4fwAAAAAAAPh/AAAAAAAA+H8AAAAAAAD4fwAAAAAAAPh/kf56rmLZ6D8AAAAAAAD4fwAAAAAAAPh/AAAAAAAA+H8AAAAAAAD4fwAAAAAAAPh/AAAAAAAA+H8AAAAAAAD4fwAAAAAAAPh/AAAAAAAA+H8AAAAAAAD4fyN4pL+eq+g/AAAAAAAA+H8AAAAAAAD4fwAAAAAAAPh/AAAAAAAA+H8AAAAAAAD4fwAAAAAAAPh/AAAAAAAA+H8AAAAAAAD4fwAAAAAAAPh/AAAAAAAA+H8AAAAAAAD4fwAAAAAAAPh/AAAAAAAA+H8AAAAAAAD4fwAAAAAAAPh/AAAAAAAA+H8AAAAAAAD4fwAAAAAAAPh/AAAAAAAA+H8AAAAAAAD4fwAAAAAAAPh/AAAAAAAA+H8AAAAAAAD4fwAAAAAAAPh/AAAAAAAA+H8AAAAAAAD4fwAAAAAAAPh/AAAAAAAA+H8AAAAAAAD4fwAAAAAAAPh/",
          "shape": "66, 19"
         },
         "type": "contour"
        },
        {
         "marker": {
          "color": "black",
          "line": {
           "color": "Gray",
           "width": 2.0
          }
         },
         "mode": "markers",
         "name": "Feasible Trial",
         "showlegend": false,
         "x": [
          18,
          13,
          4,
          11,
          10,
          11,
          6,
          15,
          12,
          3,
          19,
          20,
          20,
          17,
          17,
          18,
          15,
          8,
          15,
          18,
          20,
          20,
          18,
          16,
          19,
          14,
          19,
          17,
          19,
          18,
          16,
          20,
          13,
          18,
          19,
          16,
          17,
          18,
          14,
          8,
          19,
          19,
          20,
          18,
          19,
          17,
          20,
          10,
          19,
          16,
          16,
          18,
          17,
          20,
          5,
          18,
          15,
          20,
          17,
          12,
          19,
          19,
          19,
          18,
          16,
          14,
          16,
          16,
          15,
          16,
          13,
          16,
          15,
          14,
          17,
          16,
          17,
          15,
          16,
          18,
          17,
          17,
          17,
          18,
          16,
          15,
          17,
          17,
          14,
          3,
          13,
          18,
          18,
          16,
          19,
          8,
          18,
          7,
          17,
          19
         ],
         "y": [
          106,
          59,
          173,
          130,
          200,
          102,
          148,
          156,
          169,
          111,
          71,
          70,
          82,
          91,
          119,
          52,
          81,
          131,
          99,
          67,
          72,
          68,
          50,
          71,
          81,
          63,
          91,
          78,
          89,
          111,
          60,
          58,
          97,
          73,
          72,
          60,
          77,
          198,
          90,
          138,
          65,
          71,
          75,
          56,
          105,
          67,
          85,
          95,
          74,
          115,
          156,
          120,
          171,
          85,
          53,
          182,
          64,
          108,
          83,
          139,
          73,
          71,
          78,
          50,
          63,
          56,
          63,
          63,
          63,
          59,
          67,
          61,
          67,
          55,
          78,
          88,
          116,
          94,
          75,
          81,
          70,
          70,
          69,
          63,
          73,
          53,
          57,
          87,
          101,
          80,
          61,
          69,
          75,
          66,
          71,
          128,
          64,
          84,
          77,
          160
         ],
         "type": "scatter"
        },
        {
         "marker": {
          "color": "#cccccc",
          "line": {
           "color": "Gray",
           "width": 2.0
          }
         },
         "mode": "markers",
         "name": "Infeasible Trial",
         "showlegend": false,
         "x": [],
         "y": [],
         "type": "scatter"
        }
       ],
       "layout": {
        "title": {
         "text": "Contour Plot"
        },
        "template": {
         "data": {
          "histogram2dcontour": [
           {
            "type": "histogram2dcontour",
            "colorbar": {
             "outlinewidth": 0,
             "ticks": ""
            },
            "colorscale": [
             [
              0.0,
              "#0d0887"
             ],
             [
              0.1111111111111111,
              "#46039f"
             ],
             [
              0.2222222222222222,
              "#7201a8"
             ],
             [
              0.3333333333333333,
              "#9c179e"
             ],
             [
              0.4444444444444444,
              "#bd3786"
             ],
             [
              0.5555555555555556,
              "#d8576b"
             ],
             [
              0.6666666666666666,
              "#ed7953"
             ],
             [
              0.7777777777777778,
              "#fb9f3a"
             ],
             [
              0.8888888888888888,
              "#fdca26"
             ],
             [
              1.0,
              "#f0f921"
             ]
            ]
           }
          ],
          "choropleth": [
           {
            "type": "choropleth",
            "colorbar": {
             "outlinewidth": 0,
             "ticks": ""
            }
           }
          ],
          "histogram2d": [
           {
            "type": "histogram2d",
            "colorbar": {
             "outlinewidth": 0,
             "ticks": ""
            },
            "colorscale": [
             [
              0.0,
              "#0d0887"
             ],
             [
              0.1111111111111111,
              "#46039f"
             ],
             [
              0.2222222222222222,
              "#7201a8"
             ],
             [
              0.3333333333333333,
              "#9c179e"
             ],
             [
              0.4444444444444444,
              "#bd3786"
             ],
             [
              0.5555555555555556,
              "#d8576b"
             ],
             [
              0.6666666666666666,
              "#ed7953"
             ],
             [
              0.7777777777777778,
              "#fb9f3a"
             ],
             [
              0.8888888888888888,
              "#fdca26"
             ],
             [
              1.0,
              "#f0f921"
             ]
            ]
           }
          ],
          "heatmap": [
           {
            "type": "heatmap",
            "colorbar": {
             "outlinewidth": 0,
             "ticks": ""
            },
            "colorscale": [
             [
              0.0,
              "#0d0887"
             ],
             [
              0.1111111111111111,
              "#46039f"
             ],
             [
              0.2222222222222222,
              "#7201a8"
             ],
             [
              0.3333333333333333,
              "#9c179e"
             ],
             [
              0.4444444444444444,
              "#bd3786"
             ],
             [
              0.5555555555555556,
              "#d8576b"
             ],
             [
              0.6666666666666666,
              "#ed7953"
             ],
             [
              0.7777777777777778,
              "#fb9f3a"
             ],
             [
              0.8888888888888888,
              "#fdca26"
             ],
             [
              1.0,
              "#f0f921"
             ]
            ]
           }
          ],
          "contourcarpet": [
           {
            "type": "contourcarpet",
            "colorbar": {
             "outlinewidth": 0,
             "ticks": ""
            }
           }
          ],
          "contour": [
           {
            "type": "contour",
            "colorbar": {
             "outlinewidth": 0,
             "ticks": ""
            },
            "colorscale": [
             [
              0.0,
              "#0d0887"
             ],
             [
              0.1111111111111111,
              "#46039f"
             ],
             [
              0.2222222222222222,
              "#7201a8"
             ],
             [
              0.3333333333333333,
              "#9c179e"
             ],
             [
              0.4444444444444444,
              "#bd3786"
             ],
             [
              0.5555555555555556,
              "#d8576b"
             ],
             [
              0.6666666666666666,
              "#ed7953"
             ],
             [
              0.7777777777777778,
              "#fb9f3a"
             ],
             [
              0.8888888888888888,
              "#fdca26"
             ],
             [
              1.0,
              "#f0f921"
             ]
            ]
           }
          ],
          "surface": [
           {
            "type": "surface",
            "colorbar": {
             "outlinewidth": 0,
             "ticks": ""
            },
            "colorscale": [
             [
              0.0,
              "#0d0887"
             ],
             [
              0.1111111111111111,
              "#46039f"
             ],
             [
              0.2222222222222222,
              "#7201a8"
             ],
             [
              0.3333333333333333,
              "#9c179e"
             ],
             [
              0.4444444444444444,
              "#bd3786"
             ],
             [
              0.5555555555555556,
              "#d8576b"
             ],
             [
              0.6666666666666666,
              "#ed7953"
             ],
             [
              0.7777777777777778,
              "#fb9f3a"
             ],
             [
              0.8888888888888888,
              "#fdca26"
             ],
             [
              1.0,
              "#f0f921"
             ]
            ]
           }
          ],
          "mesh3d": [
           {
            "type": "mesh3d",
            "colorbar": {
             "outlinewidth": 0,
             "ticks": ""
            }
           }
          ],
          "scatter": [
           {
            "fillpattern": {
             "fillmode": "overlay",
             "size": 10,
             "solidity": 0.2
            },
            "type": "scatter"
           }
          ],
          "parcoords": [
           {
            "type": "parcoords",
            "line": {
             "colorbar": {
              "outlinewidth": 0,
              "ticks": ""
             }
            }
           }
          ],
          "scatterpolargl": [
           {
            "type": "scatterpolargl",
            "marker": {
             "colorbar": {
              "outlinewidth": 0,
              "ticks": ""
             }
            }
           }
          ],
          "bar": [
           {
            "error_x": {
             "color": "#2a3f5f"
            },
            "error_y": {
             "color": "#2a3f5f"
            },
            "marker": {
             "line": {
              "color": "#E5ECF6",
              "width": 0.5
             },
             "pattern": {
              "fillmode": "overlay",
              "size": 10,
              "solidity": 0.2
             }
            },
            "type": "bar"
           }
          ],
          "scattergeo": [
           {
            "type": "scattergeo",
            "marker": {
             "colorbar": {
              "outlinewidth": 0,
              "ticks": ""
             }
            }
           }
          ],
          "scatterpolar": [
           {
            "type": "scatterpolar",
            "marker": {
             "colorbar": {
              "outlinewidth": 0,
              "ticks": ""
             }
            }
           }
          ],
          "histogram": [
           {
            "marker": {
             "pattern": {
              "fillmode": "overlay",
              "size": 10,
              "solidity": 0.2
             }
            },
            "type": "histogram"
           }
          ],
          "scattergl": [
           {
            "type": "scattergl",
            "marker": {
             "colorbar": {
              "outlinewidth": 0,
              "ticks": ""
             }
            }
           }
          ],
          "scatter3d": [
           {
            "type": "scatter3d",
            "line": {
             "colorbar": {
              "outlinewidth": 0,
              "ticks": ""
             }
            },
            "marker": {
             "colorbar": {
              "outlinewidth": 0,
              "ticks": ""
             }
            }
           }
          ],
          "scattermap": [
           {
            "type": "scattermap",
            "marker": {
             "colorbar": {
              "outlinewidth": 0,
              "ticks": ""
             }
            }
           }
          ],
          "scattermapbox": [
           {
            "type": "scattermapbox",
            "marker": {
             "colorbar": {
              "outlinewidth": 0,
              "ticks": ""
             }
            }
           }
          ],
          "scatterternary": [
           {
            "type": "scatterternary",
            "marker": {
             "colorbar": {
              "outlinewidth": 0,
              "ticks": ""
             }
            }
           }
          ],
          "scattercarpet": [
           {
            "type": "scattercarpet",
            "marker": {
             "colorbar": {
              "outlinewidth": 0,
              "ticks": ""
             }
            }
           }
          ],
          "carpet": [
           {
            "aaxis": {
             "endlinecolor": "#2a3f5f",
             "gridcolor": "white",
             "linecolor": "white",
             "minorgridcolor": "white",
             "startlinecolor": "#2a3f5f"
            },
            "baxis": {
             "endlinecolor": "#2a3f5f",
             "gridcolor": "white",
             "linecolor": "white",
             "minorgridcolor": "white",
             "startlinecolor": "#2a3f5f"
            },
            "type": "carpet"
           }
          ],
          "table": [
           {
            "cells": {
             "fill": {
              "color": "#EBF0F8"
             },
             "line": {
              "color": "white"
             }
            },
            "header": {
             "fill": {
              "color": "#C8D4E3"
             },
             "line": {
              "color": "white"
             }
            },
            "type": "table"
           }
          ],
          "barpolar": [
           {
            "marker": {
             "line": {
              "color": "#E5ECF6",
              "width": 0.5
             },
             "pattern": {
              "fillmode": "overlay",
              "size": 10,
              "solidity": 0.2
             }
            },
            "type": "barpolar"
           }
          ],
          "pie": [
           {
            "automargin": true,
            "type": "pie"
           }
          ]
         },
         "layout": {
          "autotypenumbers": "strict",
          "colorway": [
           "#636efa",
           "#EF553B",
           "#00cc96",
           "#ab63fa",
           "#FFA15A",
           "#19d3f3",
           "#FF6692",
           "#B6E880",
           "#FF97FF",
           "#FECB52"
          ],
          "font": {
           "color": "#2a3f5f"
          },
          "hovermode": "closest",
          "hoverlabel": {
           "align": "left"
          },
          "paper_bgcolor": "white",
          "plot_bgcolor": "#E5ECF6",
          "polar": {
           "bgcolor": "#E5ECF6",
           "angularaxis": {
            "gridcolor": "white",
            "linecolor": "white",
            "ticks": ""
           },
           "radialaxis": {
            "gridcolor": "white",
            "linecolor": "white",
            "ticks": ""
           }
          },
          "ternary": {
           "bgcolor": "#E5ECF6",
           "aaxis": {
            "gridcolor": "white",
            "linecolor": "white",
            "ticks": ""
           },
           "baxis": {
            "gridcolor": "white",
            "linecolor": "white",
            "ticks": ""
           },
           "caxis": {
            "gridcolor": "white",
            "linecolor": "white",
            "ticks": ""
           }
          },
          "coloraxis": {
           "colorbar": {
            "outlinewidth": 0,
            "ticks": ""
           }
          },
          "colorscale": {
           "sequential": [
            [
             0.0,
             "#0d0887"
            ],
            [
             0.1111111111111111,
             "#46039f"
            ],
            [
             0.2222222222222222,
             "#7201a8"
            ],
            [
             0.3333333333333333,
             "#9c179e"
            ],
            [
             0.4444444444444444,
             "#bd3786"
            ],
            [
             0.5555555555555556,
             "#d8576b"
            ],
            [
             0.6666666666666666,
             "#ed7953"
            ],
            [
             0.7777777777777778,
             "#fb9f3a"
            ],
            [
             0.8888888888888888,
             "#fdca26"
            ],
            [
             1.0,
             "#f0f921"
            ]
           ],
           "sequentialminus": [
            [
             0.0,
             "#0d0887"
            ],
            [
             0.1111111111111111,
             "#46039f"
            ],
            [
             0.2222222222222222,
             "#7201a8"
            ],
            [
             0.3333333333333333,
             "#9c179e"
            ],
            [
             0.4444444444444444,
             "#bd3786"
            ],
            [
             0.5555555555555556,
             "#d8576b"
            ],
            [
             0.6666666666666666,
             "#ed7953"
            ],
            [
             0.7777777777777778,
             "#fb9f3a"
            ],
            [
             0.8888888888888888,
             "#fdca26"
            ],
            [
             1.0,
             "#f0f921"
            ]
           ],
           "diverging": [
            [
             0,
             "#8e0152"
            ],
            [
             0.1,
             "#c51b7d"
            ],
            [
             0.2,
             "#de77ae"
            ],
            [
             0.3,
             "#f1b6da"
            ],
            [
             0.4,
             "#fde0ef"
            ],
            [
             0.5,
             "#f7f7f7"
            ],
            [
             0.6,
             "#e6f5d0"
            ],
            [
             0.7,
             "#b8e186"
            ],
            [
             0.8,
             "#7fbc41"
            ],
            [
             0.9,
             "#4d9221"
            ],
            [
             1,
             "#276419"
            ]
           ]
          },
          "xaxis": {
           "gridcolor": "white",
           "linecolor": "white",
           "ticks": "",
           "title": {
            "standoff": 15
           },
           "zerolinecolor": "white",
           "automargin": true,
           "zerolinewidth": 2
          },
          "yaxis": {
           "gridcolor": "white",
           "linecolor": "white",
           "ticks": "",
           "title": {
            "standoff": 15
           },
           "zerolinecolor": "white",
           "automargin": true,
           "zerolinewidth": 2
          },
          "scene": {
           "xaxis": {
            "backgroundcolor": "#E5ECF6",
            "gridcolor": "white",
            "linecolor": "white",
            "showbackground": true,
            "ticks": "",
            "zerolinecolor": "white",
            "gridwidth": 2
           },
           "yaxis": {
            "backgroundcolor": "#E5ECF6",
            "gridcolor": "white",
            "linecolor": "white",
            "showbackground": true,
            "ticks": "",
            "zerolinecolor": "white",
            "gridwidth": 2
           },
           "zaxis": {
            "backgroundcolor": "#E5ECF6",
            "gridcolor": "white",
            "linecolor": "white",
            "showbackground": true,
            "ticks": "",
            "zerolinecolor": "white",
            "gridwidth": 2
           }
          },
          "shapedefaults": {
           "line": {
            "color": "#2a3f5f"
           }
          },
          "annotationdefaults": {
           "arrowcolor": "#2a3f5f",
           "arrowhead": 0,
           "arrowwidth": 1
          },
          "geo": {
           "bgcolor": "white",
           "landcolor": "#E5ECF6",
           "subunitcolor": "white",
           "showland": true,
           "showlakes": true,
           "lakecolor": "white"
          },
          "title": {
           "x": 0.05
          },
          "mapbox": {
           "style": "light"
          }
         }
        },
        "xaxis": {
         "title": {
          "text": "max_depth"
         },
         "range": [
          2.15,
          20.85
         ]
        },
        "yaxis": {
         "title": {
          "text": "n_estimators"
         },
         "range": [
          42.5,
          207.5
         ]
        }
       },
       "config": {
        "plotlyServerURL": "https://plot.ly"
       }
      }
     },
     "metadata": {},
     "output_type": "display_data"
    }
   ],
   "execution_count": 11
  },
  {
   "metadata": {
    "ExecuteTime": {
     "end_time": "2025-07-02T13:01:35.708094Z",
     "start_time": "2025-07-02T13:01:34.829502Z"
    }
   },
   "cell_type": "code",
   "source": [
    "# Importance plot - gives importance of each hyperparameter\n",
    "\n",
    "plot_param_importances(study).show()"
   ],
   "id": "cd465f7df3f369bd",
   "outputs": [
    {
     "data": {
      "application/vnd.plotly.v1+json": {
       "data": [
        {
         "cliponaxis": false,
         "hovertemplate": [
          "n_estimators (IntDistribution): 0.1558946950188482<extra></extra>",
          "max_depth (IntDistribution): 0.8441053049811518<extra></extra>"
         ],
         "name": "Objective Value",
         "orientation": "h",
         "text": [
          "0.16",
          "0.84"
         ],
         "textposition": "outside",
         "x": [
          0.1558946950188482,
          0.8441053049811518
         ],
         "y": [
          "n_estimators",
          "max_depth"
         ],
         "type": "bar"
        }
       ],
       "layout": {
        "title": {
         "text": "Hyperparameter Importances"
        },
        "xaxis": {
         "title": {
          "text": "Hyperparameter Importance"
         }
        },
        "yaxis": {
         "title": {
          "text": "Hyperparameter"
         }
        },
        "template": {
         "data": {
          "histogram2dcontour": [
           {
            "type": "histogram2dcontour",
            "colorbar": {
             "outlinewidth": 0,
             "ticks": ""
            },
            "colorscale": [
             [
              0.0,
              "#0d0887"
             ],
             [
              0.1111111111111111,
              "#46039f"
             ],
             [
              0.2222222222222222,
              "#7201a8"
             ],
             [
              0.3333333333333333,
              "#9c179e"
             ],
             [
              0.4444444444444444,
              "#bd3786"
             ],
             [
              0.5555555555555556,
              "#d8576b"
             ],
             [
              0.6666666666666666,
              "#ed7953"
             ],
             [
              0.7777777777777778,
              "#fb9f3a"
             ],
             [
              0.8888888888888888,
              "#fdca26"
             ],
             [
              1.0,
              "#f0f921"
             ]
            ]
           }
          ],
          "choropleth": [
           {
            "type": "choropleth",
            "colorbar": {
             "outlinewidth": 0,
             "ticks": ""
            }
           }
          ],
          "histogram2d": [
           {
            "type": "histogram2d",
            "colorbar": {
             "outlinewidth": 0,
             "ticks": ""
            },
            "colorscale": [
             [
              0.0,
              "#0d0887"
             ],
             [
              0.1111111111111111,
              "#46039f"
             ],
             [
              0.2222222222222222,
              "#7201a8"
             ],
             [
              0.3333333333333333,
              "#9c179e"
             ],
             [
              0.4444444444444444,
              "#bd3786"
             ],
             [
              0.5555555555555556,
              "#d8576b"
             ],
             [
              0.6666666666666666,
              "#ed7953"
             ],
             [
              0.7777777777777778,
              "#fb9f3a"
             ],
             [
              0.8888888888888888,
              "#fdca26"
             ],
             [
              1.0,
              "#f0f921"
             ]
            ]
           }
          ],
          "heatmap": [
           {
            "type": "heatmap",
            "colorbar": {
             "outlinewidth": 0,
             "ticks": ""
            },
            "colorscale": [
             [
              0.0,
              "#0d0887"
             ],
             [
              0.1111111111111111,
              "#46039f"
             ],
             [
              0.2222222222222222,
              "#7201a8"
             ],
             [
              0.3333333333333333,
              "#9c179e"
             ],
             [
              0.4444444444444444,
              "#bd3786"
             ],
             [
              0.5555555555555556,
              "#d8576b"
             ],
             [
              0.6666666666666666,
              "#ed7953"
             ],
             [
              0.7777777777777778,
              "#fb9f3a"
             ],
             [
              0.8888888888888888,
              "#fdca26"
             ],
             [
              1.0,
              "#f0f921"
             ]
            ]
           }
          ],
          "contourcarpet": [
           {
            "type": "contourcarpet",
            "colorbar": {
             "outlinewidth": 0,
             "ticks": ""
            }
           }
          ],
          "contour": [
           {
            "type": "contour",
            "colorbar": {
             "outlinewidth": 0,
             "ticks": ""
            },
            "colorscale": [
             [
              0.0,
              "#0d0887"
             ],
             [
              0.1111111111111111,
              "#46039f"
             ],
             [
              0.2222222222222222,
              "#7201a8"
             ],
             [
              0.3333333333333333,
              "#9c179e"
             ],
             [
              0.4444444444444444,
              "#bd3786"
             ],
             [
              0.5555555555555556,
              "#d8576b"
             ],
             [
              0.6666666666666666,
              "#ed7953"
             ],
             [
              0.7777777777777778,
              "#fb9f3a"
             ],
             [
              0.8888888888888888,
              "#fdca26"
             ],
             [
              1.0,
              "#f0f921"
             ]
            ]
           }
          ],
          "surface": [
           {
            "type": "surface",
            "colorbar": {
             "outlinewidth": 0,
             "ticks": ""
            },
            "colorscale": [
             [
              0.0,
              "#0d0887"
             ],
             [
              0.1111111111111111,
              "#46039f"
             ],
             [
              0.2222222222222222,
              "#7201a8"
             ],
             [
              0.3333333333333333,
              "#9c179e"
             ],
             [
              0.4444444444444444,
              "#bd3786"
             ],
             [
              0.5555555555555556,
              "#d8576b"
             ],
             [
              0.6666666666666666,
              "#ed7953"
             ],
             [
              0.7777777777777778,
              "#fb9f3a"
             ],
             [
              0.8888888888888888,
              "#fdca26"
             ],
             [
              1.0,
              "#f0f921"
             ]
            ]
           }
          ],
          "mesh3d": [
           {
            "type": "mesh3d",
            "colorbar": {
             "outlinewidth": 0,
             "ticks": ""
            }
           }
          ],
          "scatter": [
           {
            "fillpattern": {
             "fillmode": "overlay",
             "size": 10,
             "solidity": 0.2
            },
            "type": "scatter"
           }
          ],
          "parcoords": [
           {
            "type": "parcoords",
            "line": {
             "colorbar": {
              "outlinewidth": 0,
              "ticks": ""
             }
            }
           }
          ],
          "scatterpolargl": [
           {
            "type": "scatterpolargl",
            "marker": {
             "colorbar": {
              "outlinewidth": 0,
              "ticks": ""
             }
            }
           }
          ],
          "bar": [
           {
            "error_x": {
             "color": "#2a3f5f"
            },
            "error_y": {
             "color": "#2a3f5f"
            },
            "marker": {
             "line": {
              "color": "#E5ECF6",
              "width": 0.5
             },
             "pattern": {
              "fillmode": "overlay",
              "size": 10,
              "solidity": 0.2
             }
            },
            "type": "bar"
           }
          ],
          "scattergeo": [
           {
            "type": "scattergeo",
            "marker": {
             "colorbar": {
              "outlinewidth": 0,
              "ticks": ""
             }
            }
           }
          ],
          "scatterpolar": [
           {
            "type": "scatterpolar",
            "marker": {
             "colorbar": {
              "outlinewidth": 0,
              "ticks": ""
             }
            }
           }
          ],
          "histogram": [
           {
            "marker": {
             "pattern": {
              "fillmode": "overlay",
              "size": 10,
              "solidity": 0.2
             }
            },
            "type": "histogram"
           }
          ],
          "scattergl": [
           {
            "type": "scattergl",
            "marker": {
             "colorbar": {
              "outlinewidth": 0,
              "ticks": ""
             }
            }
           }
          ],
          "scatter3d": [
           {
            "type": "scatter3d",
            "line": {
             "colorbar": {
              "outlinewidth": 0,
              "ticks": ""
             }
            },
            "marker": {
             "colorbar": {
              "outlinewidth": 0,
              "ticks": ""
             }
            }
           }
          ],
          "scattermap": [
           {
            "type": "scattermap",
            "marker": {
             "colorbar": {
              "outlinewidth": 0,
              "ticks": ""
             }
            }
           }
          ],
          "scattermapbox": [
           {
            "type": "scattermapbox",
            "marker": {
             "colorbar": {
              "outlinewidth": 0,
              "ticks": ""
             }
            }
           }
          ],
          "scatterternary": [
           {
            "type": "scatterternary",
            "marker": {
             "colorbar": {
              "outlinewidth": 0,
              "ticks": ""
             }
            }
           }
          ],
          "scattercarpet": [
           {
            "type": "scattercarpet",
            "marker": {
             "colorbar": {
              "outlinewidth": 0,
              "ticks": ""
             }
            }
           }
          ],
          "carpet": [
           {
            "aaxis": {
             "endlinecolor": "#2a3f5f",
             "gridcolor": "white",
             "linecolor": "white",
             "minorgridcolor": "white",
             "startlinecolor": "#2a3f5f"
            },
            "baxis": {
             "endlinecolor": "#2a3f5f",
             "gridcolor": "white",
             "linecolor": "white",
             "minorgridcolor": "white",
             "startlinecolor": "#2a3f5f"
            },
            "type": "carpet"
           }
          ],
          "table": [
           {
            "cells": {
             "fill": {
              "color": "#EBF0F8"
             },
             "line": {
              "color": "white"
             }
            },
            "header": {
             "fill": {
              "color": "#C8D4E3"
             },
             "line": {
              "color": "white"
             }
            },
            "type": "table"
           }
          ],
          "barpolar": [
           {
            "marker": {
             "line": {
              "color": "#E5ECF6",
              "width": 0.5
             },
             "pattern": {
              "fillmode": "overlay",
              "size": 10,
              "solidity": 0.2
             }
            },
            "type": "barpolar"
           }
          ],
          "pie": [
           {
            "automargin": true,
            "type": "pie"
           }
          ]
         },
         "layout": {
          "autotypenumbers": "strict",
          "colorway": [
           "#636efa",
           "#EF553B",
           "#00cc96",
           "#ab63fa",
           "#FFA15A",
           "#19d3f3",
           "#FF6692",
           "#B6E880",
           "#FF97FF",
           "#FECB52"
          ],
          "font": {
           "color": "#2a3f5f"
          },
          "hovermode": "closest",
          "hoverlabel": {
           "align": "left"
          },
          "paper_bgcolor": "white",
          "plot_bgcolor": "#E5ECF6",
          "polar": {
           "bgcolor": "#E5ECF6",
           "angularaxis": {
            "gridcolor": "white",
            "linecolor": "white",
            "ticks": ""
           },
           "radialaxis": {
            "gridcolor": "white",
            "linecolor": "white",
            "ticks": ""
           }
          },
          "ternary": {
           "bgcolor": "#E5ECF6",
           "aaxis": {
            "gridcolor": "white",
            "linecolor": "white",
            "ticks": ""
           },
           "baxis": {
            "gridcolor": "white",
            "linecolor": "white",
            "ticks": ""
           },
           "caxis": {
            "gridcolor": "white",
            "linecolor": "white",
            "ticks": ""
           }
          },
          "coloraxis": {
           "colorbar": {
            "outlinewidth": 0,
            "ticks": ""
           }
          },
          "colorscale": {
           "sequential": [
            [
             0.0,
             "#0d0887"
            ],
            [
             0.1111111111111111,
             "#46039f"
            ],
            [
             0.2222222222222222,
             "#7201a8"
            ],
            [
             0.3333333333333333,
             "#9c179e"
            ],
            [
             0.4444444444444444,
             "#bd3786"
            ],
            [
             0.5555555555555556,
             "#d8576b"
            ],
            [
             0.6666666666666666,
             "#ed7953"
            ],
            [
             0.7777777777777778,
             "#fb9f3a"
            ],
            [
             0.8888888888888888,
             "#fdca26"
            ],
            [
             1.0,
             "#f0f921"
            ]
           ],
           "sequentialminus": [
            [
             0.0,
             "#0d0887"
            ],
            [
             0.1111111111111111,
             "#46039f"
            ],
            [
             0.2222222222222222,
             "#7201a8"
            ],
            [
             0.3333333333333333,
             "#9c179e"
            ],
            [
             0.4444444444444444,
             "#bd3786"
            ],
            [
             0.5555555555555556,
             "#d8576b"
            ],
            [
             0.6666666666666666,
             "#ed7953"
            ],
            [
             0.7777777777777778,
             "#fb9f3a"
            ],
            [
             0.8888888888888888,
             "#fdca26"
            ],
            [
             1.0,
             "#f0f921"
            ]
           ],
           "diverging": [
            [
             0,
             "#8e0152"
            ],
            [
             0.1,
             "#c51b7d"
            ],
            [
             0.2,
             "#de77ae"
            ],
            [
             0.3,
             "#f1b6da"
            ],
            [
             0.4,
             "#fde0ef"
            ],
            [
             0.5,
             "#f7f7f7"
            ],
            [
             0.6,
             "#e6f5d0"
            ],
            [
             0.7,
             "#b8e186"
            ],
            [
             0.8,
             "#7fbc41"
            ],
            [
             0.9,
             "#4d9221"
            ],
            [
             1,
             "#276419"
            ]
           ]
          },
          "xaxis": {
           "gridcolor": "white",
           "linecolor": "white",
           "ticks": "",
           "title": {
            "standoff": 15
           },
           "zerolinecolor": "white",
           "automargin": true,
           "zerolinewidth": 2
          },
          "yaxis": {
           "gridcolor": "white",
           "linecolor": "white",
           "ticks": "",
           "title": {
            "standoff": 15
           },
           "zerolinecolor": "white",
           "automargin": true,
           "zerolinewidth": 2
          },
          "scene": {
           "xaxis": {
            "backgroundcolor": "#E5ECF6",
            "gridcolor": "white",
            "linecolor": "white",
            "showbackground": true,
            "ticks": "",
            "zerolinecolor": "white",
            "gridwidth": 2
           },
           "yaxis": {
            "backgroundcolor": "#E5ECF6",
            "gridcolor": "white",
            "linecolor": "white",
            "showbackground": true,
            "ticks": "",
            "zerolinecolor": "white",
            "gridwidth": 2
           },
           "zaxis": {
            "backgroundcolor": "#E5ECF6",
            "gridcolor": "white",
            "linecolor": "white",
            "showbackground": true,
            "ticks": "",
            "zerolinecolor": "white",
            "gridwidth": 2
           }
          },
          "shapedefaults": {
           "line": {
            "color": "#2a3f5f"
           }
          },
          "annotationdefaults": {
           "arrowcolor": "#2a3f5f",
           "arrowhead": 0,
           "arrowwidth": 1
          },
          "geo": {
           "bgcolor": "white",
           "landcolor": "#E5ECF6",
           "subunitcolor": "white",
           "showland": true,
           "showlakes": true,
           "lakecolor": "white"
          },
          "title": {
           "x": 0.05
          },
          "mapbox": {
           "style": "light"
          }
         }
        }
       },
       "config": {
        "plotlyServerURL": "https://plot.ly"
       }
      }
     },
     "metadata": {},
     "output_type": "display_data"
    }
   ],
   "execution_count": 12
  },
  {
   "metadata": {},
   "cell_type": "markdown",
   "source": "##### Define by run is used in Optuna to search from Dynamic Search Spaces. We can consider the models/ML algorithms as hyperparameter which gives the flexibility to know which ML model is the best for our problem and also gives the best hyperparameters for that particular algorithm. - This challenge is solved by Optuna!!! Every algorithm will have different/dynamic search space wrt the algorith it is using. Optuna also supports distributed computing to make the computing faster.",
   "id": "ef42abcebf5e97df"
  },
  {
   "metadata": {
    "ExecuteTime": {
     "end_time": "2025-07-02T13:08:15.560205Z",
     "start_time": "2025-07-02T13:08:15.556023Z"
    }
   },
   "cell_type": "code",
   "source": [
    "# Optimizing multiple ML models\n",
    "\n",
    "from sklearn.ensemble import RandomForestClassifier, GradientBoostingClassifier\n",
    "from sklearn.svm import  SVC"
   ],
   "id": "d8ffe3b140b4554d",
   "outputs": [],
   "execution_count": 14
  },
  {
   "metadata": {
    "ExecuteTime": {
     "end_time": "2025-07-02T13:24:08.032278Z",
     "start_time": "2025-07-02T13:24:08.024883Z"
    }
   },
   "cell_type": "code",
   "source": [
    "def objective(trial):\n",
    "    classifier_name = trial.suggest_categorical('classifier', ['SVM', 'RandomForest', 'GradientBoosting'])\n",
    "    if classifier_name=='SVM':\n",
    "        # SVM hyperparams\n",
    "        c = trial.suggest_float('C', 0.1, 100, log=True)\n",
    "        kernel = trial.suggest_categorical('kernel', ['linear', 'rbf', 'poly', 'sigmoid'])\n",
    "        gamma = trial.suggest_categorical('gamma', ['scale', 'auto'])\n",
    "        model = SVC(C=c, kernel=kernel, gamma=gamma, random_state=42)\n",
    "    elif classifier_name=='RandomForest':\n",
    "        n_estimators = trial.suggest_int('n_estimators', 50, 300)\n",
    "        max_depth = trial.suggest_int('max_depth', 3, 20)\n",
    "        min_samples_split = trial.suggest_int('min_samples_split', 2, 10)\n",
    "        min_samples_leaf = trial.suggest_int('min_samples_leaf', 1, 10)\n",
    "        bootstrap = trial.suggest_categorical('bootstrap', [True, False])\n",
    "        model = RandomForestClassifier(\n",
    "            n_estimators=n_estimators,\n",
    "            max_depth=max_depth,\n",
    "            min_samples_split=min_samples_split,\n",
    "            min_samples_leaf=min_samples_leaf,\n",
    "            bootstrap=bootstrap,\n",
    "            random_state=42\n",
    "        )\n",
    "    elif classifier_name == 'GradientBoosting':\n",
    "        n_estimators = trial.suggest_int('n_estimators', 50, 300)\n",
    "        learning_rate = trial.suggest_float('learning_rate', 0.01, 0.3, log=True)\n",
    "        max_depth = trial.suggest_int('max_depth', 3, 20)\n",
    "        min_samples_split = trial.suggest_int('min_samples_split', 2, 10)\n",
    "        min_samples_leaf = trial.suggest_int('min_samples_leaf', 1, 10)\n",
    "        model = GradientBoostingClassifier(\n",
    "            n_estimators=n_estimators,\n",
    "            learning_rate=learning_rate,\n",
    "            max_depth=max_depth,\n",
    "            min_samples_split=min_samples_split,\n",
    "            min_samples_leaf=min_samples_leaf,\n",
    "            random_state=42\n",
    "        )\n",
    "\n",
    "    # Perform cross-val and return mean of acu\n",
    "    score = cross_val_score(model, X_train, y_train, cv=3,scoring='accuracy').mean()\n",
    "    return score"
   ],
   "id": "ca5dfb42be8d7f4d",
   "outputs": [],
   "execution_count": 15
  },
  {
   "metadata": {
    "ExecuteTime": {
     "end_time": "2025-07-02T13:27:46.494894Z",
     "start_time": "2025-07-02T13:27:23.973070Z"
    }
   },
   "cell_type": "code",
   "source": [
    "# Create a study object and optimize the objective function\n",
    "study = optuna.create_study(direction='maximize')\n",
    "study.optimize(objective, n_trials=100)\n",
    "\n",
    "# Print the best result\n",
    "print(f'Best trial accuracy: {study.best_trial.value}')\n",
    "print(f'Best trial Hyperparameters: {study.best_trial.params}')"
   ],
   "id": "67d1ab8c5d7aef01",
   "outputs": [
    {
     "name": "stderr",
     "output_type": "stream",
     "text": [
      "[I 2025-07-02 18:57:23,974] A new study created in memory with name: no-name-b89aef68-5b6f-4a7e-85cd-e4d3999cc84f\n",
      "[I 2025-07-02 18:57:24,689] Trial 0 finished with value: 0.7653631284916201 and parameters: {'classifier': 'GradientBoosting', 'n_estimators': 258, 'learning_rate': 0.011472826268146236, 'max_depth': 3, 'min_samples_split': 9, 'min_samples_leaf': 5}. Best is trial 0 with value: 0.7653631284916201.\n",
      "[I 2025-07-02 18:57:25,267] Trial 1 finished with value: 0.7709497206703911 and parameters: {'classifier': 'RandomForest', 'n_estimators': 244, 'max_depth': 20, 'min_samples_split': 4, 'min_samples_leaf': 7, 'bootstrap': False}. Best is trial 1 with value: 0.7709497206703911.\n",
      "[I 2025-07-02 18:57:25,317] Trial 2 finished with value: 0.7858472998137801 and parameters: {'classifier': 'SVM', 'C': 18.041504378844213, 'kernel': 'linear', 'gamma': 'auto'}. Best is trial 2 with value: 0.7858472998137801.\n",
      "[I 2025-07-02 18:57:25,555] Trial 3 finished with value: 0.756052141527002 and parameters: {'classifier': 'RandomForest', 'n_estimators': 87, 'max_depth': 5, 'min_samples_split': 4, 'min_samples_leaf': 5, 'bootstrap': True}. Best is trial 2 with value: 0.7858472998137801.\n",
      "[I 2025-07-02 18:57:25,955] Trial 4 finished with value: 0.7579143389199254 and parameters: {'classifier': 'RandomForest', 'n_estimators': 142, 'max_depth': 6, 'min_samples_split': 2, 'min_samples_leaf': 6, 'bootstrap': True}. Best is trial 2 with value: 0.7858472998137801.\n",
      "[I 2025-07-02 18:57:25,979] Trial 5 finished with value: 0.7411545623836125 and parameters: {'classifier': 'SVM', 'C': 0.5669243868924749, 'kernel': 'sigmoid', 'gamma': 'auto'}. Best is trial 2 with value: 0.7858472998137801.\n",
      "[I 2025-07-02 18:57:26,648] Trial 6 finished with value: 0.7672253258845437 and parameters: {'classifier': 'RandomForest', 'n_estimators': 235, 'max_depth': 17, 'min_samples_split': 2, 'min_samples_leaf': 4, 'bootstrap': False}. Best is trial 2 with value: 0.7858472998137801.\n",
      "[I 2025-07-02 18:57:26,849] Trial 7 finished with value: 0.7616387337057727 and parameters: {'classifier': 'RandomForest', 'n_estimators': 83, 'max_depth': 7, 'min_samples_split': 5, 'min_samples_leaf': 4, 'bootstrap': False}. Best is trial 2 with value: 0.7858472998137801.\n",
      "[I 2025-07-02 18:57:27,601] Trial 8 finished with value: 0.7355679702048418 and parameters: {'classifier': 'GradientBoosting', 'n_estimators': 74, 'learning_rate': 0.06842814350204558, 'max_depth': 18, 'min_samples_split': 8, 'min_samples_leaf': 3}. Best is trial 2 with value: 0.7858472998137801.\n",
      "[I 2025-07-02 18:57:28,110] Trial 9 finished with value: 0.7430167597765364 and parameters: {'classifier': 'RandomForest', 'n_estimators': 258, 'max_depth': 3, 'min_samples_split': 10, 'min_samples_leaf': 8, 'bootstrap': False}. Best is trial 2 with value: 0.7858472998137801.\n",
      "[I 2025-07-02 18:57:28,306] Trial 10 finished with value: 0.7858472998137801 and parameters: {'classifier': 'SVM', 'C': 80.23368875971454, 'kernel': 'linear', 'gamma': 'auto'}. Best is trial 2 with value: 0.7858472998137801.\n",
      "[I 2025-07-02 18:57:28,590] Trial 11 finished with value: 0.7858472998137801 and parameters: {'classifier': 'SVM', 'C': 85.90497359206442, 'kernel': 'linear', 'gamma': 'auto'}. Best is trial 2 with value: 0.7858472998137801.\n",
      "[I 2025-07-02 18:57:28,693] Trial 12 finished with value: 0.7858472998137801 and parameters: {'classifier': 'SVM', 'C': 35.421739661647976, 'kernel': 'linear', 'gamma': 'scale'}. Best is trial 2 with value: 0.7858472998137801.\n",
      "[I 2025-07-02 18:57:28,746] Trial 13 finished with value: 0.7858472998137801 and parameters: {'classifier': 'SVM', 'C': 11.595468069678704, 'kernel': 'linear', 'gamma': 'auto'}. Best is trial 2 with value: 0.7858472998137801.\n",
      "[I 2025-07-02 18:57:28,769] Trial 14 finished with value: 0.7579143389199255 and parameters: {'classifier': 'SVM', 'C': 5.884449968275116, 'kernel': 'rbf', 'gamma': 'auto'}. Best is trial 2 with value: 0.7858472998137801.\n",
      "[I 2025-07-02 18:57:28,867] Trial 15 finished with value: 0.6722532588454376 and parameters: {'classifier': 'SVM', 'C': 86.39552779383291, 'kernel': 'poly', 'gamma': 'auto'}. Best is trial 2 with value: 0.7858472998137801.\n",
      "[I 2025-07-02 18:57:28,933] Trial 16 finished with value: 0.7858472998137801 and parameters: {'classifier': 'SVM', 'C': 17.36260455964095, 'kernel': 'linear', 'gamma': 'scale'}. Best is trial 2 with value: 0.7858472998137801.\n",
      "[I 2025-07-02 18:57:28,958] Trial 17 finished with value: 0.7858472998137801 and parameters: {'classifier': 'SVM', 'C': 1.603130468979388, 'kernel': 'linear', 'gamma': 'auto'}. Best is trial 2 with value: 0.7858472998137801.\n",
      "[I 2025-07-02 18:57:30,071] Trial 18 finished with value: 0.7337057728119181 and parameters: {'classifier': 'GradientBoosting', 'n_estimators': 172, 'learning_rate': 0.2696159170963729, 'max_depth': 12, 'min_samples_split': 7, 'min_samples_leaf': 10}. Best is trial 2 with value: 0.7858472998137801.\n",
      "[I 2025-07-02 18:57:30,096] Trial 19 finished with value: 0.7523277467411545 and parameters: {'classifier': 'SVM', 'C': 0.1351244577645884, 'kernel': 'rbf', 'gamma': 'auto'}. Best is trial 2 with value: 0.7858472998137801.\n",
      "[I 2025-07-02 18:57:30,116] Trial 20 finished with value: 0.6852886405959032 and parameters: {'classifier': 'SVM', 'C': 29.58413107820509, 'kernel': 'sigmoid', 'gamma': 'scale'}. Best is trial 2 with value: 0.7858472998137801.\n",
      "[I 2025-07-02 18:57:30,332] Trial 21 finished with value: 0.7858472998137801 and parameters: {'classifier': 'SVM', 'C': 88.34162455927684, 'kernel': 'linear', 'gamma': 'auto'}. Best is trial 2 with value: 0.7858472998137801.\n",
      "[I 2025-07-02 18:57:30,547] Trial 22 finished with value: 0.7858472998137801 and parameters: {'classifier': 'SVM', 'C': 78.86963630879643, 'kernel': 'linear', 'gamma': 'auto'}. Best is trial 2 with value: 0.7858472998137801.\n",
      "[I 2025-07-02 18:57:30,621] Trial 23 finished with value: 0.7858472998137801 and parameters: {'classifier': 'SVM', 'C': 33.30802756322525, 'kernel': 'linear', 'gamma': 'auto'}. Best is trial 2 with value: 0.7858472998137801.\n",
      "[I 2025-07-02 18:57:30,644] Trial 24 finished with value: 0.7076350093109869 and parameters: {'classifier': 'SVM', 'C': 9.491523177298294, 'kernel': 'poly', 'gamma': 'auto'}. Best is trial 2 with value: 0.7858472998137801.\n",
      "[I 2025-07-02 18:57:34,116] Trial 25 finished with value: 0.7169459962756052 and parameters: {'classifier': 'GradientBoosting', 'n_estimators': 296, 'learning_rate': 0.01065151844310717, 'max_depth': 12, 'min_samples_split': 6, 'min_samples_leaf': 1}. Best is trial 2 with value: 0.7858472998137801.\n",
      "[I 2025-07-02 18:57:34,230] Trial 26 finished with value: 0.7858472998137801 and parameters: {'classifier': 'SVM', 'C': 43.980935847059015, 'kernel': 'linear', 'gamma': 'auto'}. Best is trial 2 with value: 0.7858472998137801.\n",
      "[I 2025-07-02 18:57:34,262] Trial 27 finished with value: 0.7858472998137801 and parameters: {'classifier': 'SVM', 'C': 3.3801044563704554, 'kernel': 'linear', 'gamma': 'auto'}. Best is trial 2 with value: 0.7858472998137801.\n",
      "[I 2025-07-02 18:57:34,344] Trial 28 finished with value: 0.7858472998137801 and parameters: {'classifier': 'SVM', 'C': 22.474225554513808, 'kernel': 'linear', 'gamma': 'scale'}. Best is trial 2 with value: 0.7858472998137801.\n",
      "[I 2025-07-02 18:57:35,221] Trial 29 finished with value: 0.7392923649906891 and parameters: {'classifier': 'GradientBoosting', 'n_estimators': 131, 'learning_rate': 0.2404205068979463, 'max_depth': 9, 'min_samples_split': 10, 'min_samples_leaf': 9}. Best is trial 2 with value: 0.7858472998137801.\n",
      "[I 2025-07-02 18:57:35,282] Trial 30 finished with value: 0.690875232774674 and parameters: {'classifier': 'SVM', 'C': 51.486566927009164, 'kernel': 'poly', 'gamma': 'auto'}. Best is trial 2 with value: 0.7858472998137801.\n",
      "[I 2025-07-02 18:57:35,415] Trial 31 finished with value: 0.7858472998137801 and parameters: {'classifier': 'SVM', 'C': 46.44876005816525, 'kernel': 'linear', 'gamma': 'scale'}. Best is trial 2 with value: 0.7858472998137801.\n",
      "[I 2025-07-02 18:57:35,478] Trial 32 finished with value: 0.7858472998137801 and parameters: {'classifier': 'SVM', 'C': 16.672918480833, 'kernel': 'linear', 'gamma': 'scale'}. Best is trial 2 with value: 0.7858472998137801.\n",
      "[I 2025-07-02 18:57:35,701] Trial 33 finished with value: 0.7858472998137801 and parameters: {'classifier': 'SVM', 'C': 94.565156232808, 'kernel': 'linear', 'gamma': 'scale'}. Best is trial 2 with value: 0.7858472998137801.\n",
      "[I 2025-07-02 18:57:35,836] Trial 34 finished with value: 0.7858472998137801 and parameters: {'classifier': 'SVM', 'C': 48.29805360782448, 'kernel': 'linear', 'gamma': 'scale'}. Best is trial 2 with value: 0.7858472998137801.\n",
      "[I 2025-07-02 18:57:35,860] Trial 35 finished with value: 0.6890130353817504 and parameters: {'classifier': 'SVM', 'C': 26.711463271432024, 'kernel': 'sigmoid', 'gamma': 'auto'}. Best is trial 2 with value: 0.7858472998137801.\n",
      "[I 2025-07-02 18:57:36,442] Trial 36 finished with value: 0.7672253258845437 and parameters: {'classifier': 'RandomForest', 'n_estimators': 200, 'max_depth': 15, 'min_samples_split': 8, 'min_samples_leaf': 1, 'bootstrap': True}. Best is trial 2 with value: 0.7858472998137801.\n",
      "[I 2025-07-02 18:57:38,293] Trial 37 finished with value: 0.7318435754189944 and parameters: {'classifier': 'GradientBoosting', 'n_estimators': 122, 'learning_rate': 0.04755364332694855, 'max_depth': 14, 'min_samples_split': 3, 'min_samples_leaf': 2}. Best is trial 2 with value: 0.7858472998137801.\n",
      "[I 2025-07-02 18:57:38,433] Trial 38 finished with value: 0.7672253258845437 and parameters: {'classifier': 'RandomForest', 'n_estimators': 54, 'max_depth': 9, 'min_samples_split': 6, 'min_samples_leaf': 10, 'bootstrap': True}. Best is trial 2 with value: 0.7858472998137801.\n",
      "[I 2025-07-02 18:57:38,454] Trial 39 finished with value: 0.7579143389199254 and parameters: {'classifier': 'SVM', 'C': 10.672450913713256, 'kernel': 'rbf', 'gamma': 'scale'}. Best is trial 2 with value: 0.7858472998137801.\n",
      "[I 2025-07-02 18:57:38,621] Trial 40 finished with value: 0.7858472998137801 and parameters: {'classifier': 'SVM', 'C': 62.120662523667974, 'kernel': 'linear', 'gamma': 'auto'}. Best is trial 2 with value: 0.7858472998137801.\n",
      "[I 2025-07-02 18:57:38,674] Trial 41 finished with value: 0.7858472998137801 and parameters: {'classifier': 'SVM', 'C': 12.560132894015664, 'kernel': 'linear', 'gamma': 'auto'}. Best is trial 2 with value: 0.7858472998137801.\n",
      "[I 2025-07-02 18:57:38,712] Trial 42 finished with value: 0.7858472998137801 and parameters: {'classifier': 'SVM', 'C': 5.825898773486616, 'kernel': 'linear', 'gamma': 'auto'}. Best is trial 2 with value: 0.7858472998137801.\n",
      "[I 2025-07-02 18:57:38,803] Trial 43 finished with value: 0.7858472998137801 and parameters: {'classifier': 'SVM', 'C': 33.05561070421649, 'kernel': 'linear', 'gamma': 'auto'}. Best is trial 2 with value: 0.7858472998137801.\n",
      "[I 2025-07-02 18:57:39,521] Trial 44 finished with value: 0.7709497206703911 and parameters: {'classifier': 'RandomForest', 'n_estimators': 296, 'max_depth': 20, 'min_samples_split': 7, 'min_samples_leaf': 7, 'bootstrap': False}. Best is trial 2 with value: 0.7858472998137801.\n",
      "[I 2025-07-02 18:57:39,583] Trial 45 finished with value: 0.7858472998137801 and parameters: {'classifier': 'SVM', 'C': 20.456846442612513, 'kernel': 'linear', 'gamma': 'auto'}. Best is trial 2 with value: 0.7858472998137801.\n",
      "[I 2025-07-02 18:57:39,605] Trial 46 finished with value: 0.74487895716946 and parameters: {'classifier': 'SVM', 'C': 0.9810977863630608, 'kernel': 'sigmoid', 'gamma': 'auto'}. Best is trial 2 with value: 0.7858472998137801.\n",
      "[I 2025-07-02 18:57:40,992] Trial 47 finished with value: 0.7616387337057727 and parameters: {'classifier': 'GradientBoosting', 'n_estimators': 200, 'learning_rate': 0.038177504364107634, 'max_depth': 10, 'min_samples_split': 4, 'min_samples_leaf': 8}. Best is trial 2 with value: 0.7858472998137801.\n",
      "[I 2025-07-02 18:57:41,025] Trial 48 finished with value: 0.7858472998137801 and parameters: {'classifier': 'SVM', 'C': 6.0320804586915395, 'kernel': 'linear', 'gamma': 'auto'}. Best is trial 2 with value: 0.7858472998137801.\n",
      "[I 2025-07-02 18:57:41,054] Trial 49 finished with value: 0.7337057728119181 and parameters: {'classifier': 'SVM', 'C': 37.74809854184521, 'kernel': 'rbf', 'gamma': 'auto'}. Best is trial 2 with value: 0.7858472998137801.\n",
      "[I 2025-07-02 18:57:41,584] Trial 50 finished with value: 0.7616387337057727 and parameters: {'classifier': 'RandomForest', 'n_estimators': 180, 'max_depth': 15, 'min_samples_split': 5, 'min_samples_leaf': 3, 'bootstrap': True}. Best is trial 2 with value: 0.7858472998137801.\n",
      "[I 2025-07-02 18:57:41,627] Trial 51 finished with value: 0.7858472998137801 and parameters: {'classifier': 'SVM', 'C': 14.489941679104493, 'kernel': 'linear', 'gamma': 'scale'}. Best is trial 2 with value: 0.7858472998137801.\n",
      "[I 2025-07-02 18:57:41,664] Trial 52 finished with value: 0.7858472998137801 and parameters: {'classifier': 'SVM', 'C': 9.053354058488367, 'kernel': 'linear', 'gamma': 'scale'}. Best is trial 2 with value: 0.7858472998137801.\n",
      "[I 2025-07-02 18:57:41,821] Trial 53 finished with value: 0.7858472998137801 and parameters: {'classifier': 'SVM', 'C': 63.61300272647306, 'kernel': 'linear', 'gamma': 'scale'}. Best is trial 2 with value: 0.7858472998137801.\n",
      "[I 2025-07-02 18:57:41,850] Trial 54 finished with value: 0.7057728119180632 and parameters: {'classifier': 'SVM', 'C': 16.283095440966942, 'kernel': 'poly', 'gamma': 'scale'}. Best is trial 2 with value: 0.7858472998137801.\n",
      "[I 2025-07-02 18:57:41,938] Trial 55 finished with value: 0.7858472998137801 and parameters: {'classifier': 'SVM', 'C': 24.55340026018624, 'kernel': 'linear', 'gamma': 'auto'}. Best is trial 2 with value: 0.7858472998137801.\n",
      "[I 2025-07-02 18:57:41,972] Trial 56 finished with value: 0.7858472998137801 and parameters: {'classifier': 'SVM', 'C': 6.75221989291728, 'kernel': 'linear', 'gamma': 'scale'}. Best is trial 2 with value: 0.7858472998137801.\n",
      "[I 2025-07-02 18:57:41,992] Trial 57 finished with value: 0.7057728119180634 and parameters: {'classifier': 'SVM', 'C': 71.16333949748484, 'kernel': 'sigmoid', 'gamma': 'auto'}. Best is trial 2 with value: 0.7858472998137801.\n",
      "[I 2025-07-02 18:57:43,028] Trial 58 finished with value: 0.7374301675977654 and parameters: {'classifier': 'GradientBoosting', 'n_estimators': 112, 'learning_rate': 0.10384090943823529, 'max_depth': 18, 'min_samples_split': 9, 'min_samples_leaf': 6}. Best is trial 2 with value: 0.7858472998137801.\n",
      "[I 2025-07-02 18:57:43,052] Trial 59 finished with value: 0.7597765363128492 and parameters: {'classifier': 'SVM', 'C': 0.17855423830276507, 'kernel': 'rbf', 'gamma': 'auto'}. Best is trial 2 with value: 0.7858472998137801.\n",
      "[I 2025-07-02 18:57:43,084] Trial 60 finished with value: 0.7858472998137801 and parameters: {'classifier': 'SVM', 'C': 3.4004236672117973, 'kernel': 'linear', 'gamma': 'scale'}. Best is trial 2 with value: 0.7858472998137801.\n",
      "[I 2025-07-02 18:57:43,110] Trial 61 finished with value: 0.7839851024208566 and parameters: {'classifier': 'SVM', 'C': 1.2629247692468528, 'kernel': 'linear', 'gamma': 'auto'}. Best is trial 2 with value: 0.7858472998137801.\n",
      "[I 2025-07-02 18:57:43,129] Trial 62 finished with value: 0.7858472998137803 and parameters: {'classifier': 'SVM', 'C': 0.917123584579952, 'kernel': 'linear', 'gamma': 'auto'}. Best is trial 62 with value: 0.7858472998137803.\n",
      "[I 2025-07-02 18:57:43,147] Trial 63 finished with value: 0.7839851024208566 and parameters: {'classifier': 'SVM', 'C': 0.5477790004281824, 'kernel': 'linear', 'gamma': 'auto'}. Best is trial 62 with value: 0.7858472998137803.\n",
      "[I 2025-07-02 18:57:43,221] Trial 64 finished with value: 0.7858472998137801 and parameters: {'classifier': 'SVM', 'C': 35.27689159098954, 'kernel': 'linear', 'gamma': 'auto'}. Best is trial 62 with value: 0.7858472998137803.\n",
      "[I 2025-07-02 18:57:43,238] Trial 65 finished with value: 0.7858472998137803 and parameters: {'classifier': 'SVM', 'C': 0.3193590555835367, 'kernel': 'linear', 'gamma': 'auto'}. Best is trial 62 with value: 0.7858472998137803.\n",
      "[I 2025-07-02 18:57:43,255] Trial 66 finished with value: 0.7858472998137803 and parameters: {'classifier': 'SVM', 'C': 0.29405985304110593, 'kernel': 'linear', 'gamma': 'auto'}. Best is trial 62 with value: 0.7858472998137803.\n",
      "[I 2025-07-02 18:57:43,273] Trial 67 finished with value: 0.7858472998137803 and parameters: {'classifier': 'SVM', 'C': 0.26516509881395744, 'kernel': 'linear', 'gamma': 'auto'}. Best is trial 62 with value: 0.7858472998137803.\n",
      "[I 2025-07-02 18:57:43,296] Trial 68 finished with value: 0.7858472998137803 and parameters: {'classifier': 'SVM', 'C': 0.2756428557944297, 'kernel': 'linear', 'gamma': 'auto'}. Best is trial 62 with value: 0.7858472998137803.\n",
      "[I 2025-07-02 18:57:43,319] Trial 69 finished with value: 0.7858472998137803 and parameters: {'classifier': 'SVM', 'C': 0.28421350939523987, 'kernel': 'linear', 'gamma': 'auto'}. Best is trial 62 with value: 0.7858472998137803.\n",
      "[I 2025-07-02 18:57:43,344] Trial 70 finished with value: 0.7858472998137803 and parameters: {'classifier': 'SVM', 'C': 0.2950997310329239, 'kernel': 'linear', 'gamma': 'auto'}. Best is trial 62 with value: 0.7858472998137803.\n",
      "[I 2025-07-02 18:57:43,367] Trial 71 finished with value: 0.7858472998137803 and parameters: {'classifier': 'SVM', 'C': 0.28070359249255883, 'kernel': 'linear', 'gamma': 'auto'}. Best is trial 62 with value: 0.7858472998137803.\n",
      "[I 2025-07-02 18:57:43,389] Trial 72 finished with value: 0.7858472998137803 and parameters: {'classifier': 'SVM', 'C': 0.27179250936559374, 'kernel': 'linear', 'gamma': 'auto'}. Best is trial 62 with value: 0.7858472998137803.\n",
      "[I 2025-07-02 18:57:43,412] Trial 73 finished with value: 0.7858472998137803 and parameters: {'classifier': 'SVM', 'C': 0.3076237383984733, 'kernel': 'linear', 'gamma': 'auto'}. Best is trial 62 with value: 0.7858472998137803.\n",
      "[I 2025-07-02 18:57:43,435] Trial 74 finished with value: 0.7839851024208566 and parameters: {'classifier': 'SVM', 'C': 0.4104972431145015, 'kernel': 'linear', 'gamma': 'auto'}. Best is trial 62 with value: 0.7858472998137803.\n",
      "[I 2025-07-02 18:57:43,457] Trial 75 finished with value: 0.7877094972067038 and parameters: {'classifier': 'SVM', 'C': 0.10788820819982671, 'kernel': 'linear', 'gamma': 'auto'}. Best is trial 75 with value: 0.7877094972067038.\n",
      "[I 2025-07-02 18:57:43,479] Trial 76 finished with value: 0.707635009310987 and parameters: {'classifier': 'SVM', 'C': 0.10816252352724132, 'kernel': 'poly', 'gamma': 'auto'}. Best is trial 75 with value: 0.7877094972067038.\n",
      "[I 2025-07-02 18:57:43,902] Trial 77 finished with value: 0.7653631284916201 and parameters: {'classifier': 'RandomForest', 'n_estimators': 161, 'max_depth': 14, 'min_samples_split': 3, 'min_samples_leaf': 2, 'bootstrap': False}. Best is trial 75 with value: 0.7877094972067038.\n",
      "[I 2025-07-02 18:57:43,919] Trial 78 finished with value: 0.7877094972067038 and parameters: {'classifier': 'SVM', 'C': 0.17989454772527166, 'kernel': 'linear', 'gamma': 'auto'}. Best is trial 75 with value: 0.7877094972067038.\n",
      "[I 2025-07-02 18:57:43,936] Trial 79 finished with value: 0.7858472998137803 and parameters: {'classifier': 'SVM', 'C': 0.18712911499880835, 'kernel': 'linear', 'gamma': 'auto'}. Best is trial 75 with value: 0.7877094972067038.\n",
      "[I 2025-07-02 18:57:45,008] Trial 80 finished with value: 0.7635009310986964 and parameters: {'classifier': 'GradientBoosting', 'n_estimators': 210, 'learning_rate': 0.02538782954286425, 'max_depth': 7, 'min_samples_split': 7, 'min_samples_leaf': 9}. Best is trial 75 with value: 0.7877094972067038.\n",
      "[I 2025-07-02 18:57:45,026] Trial 81 finished with value: 0.7858472998137803 and parameters: {'classifier': 'SVM', 'C': 0.19515976667315893, 'kernel': 'linear', 'gamma': 'auto'}. Best is trial 75 with value: 0.7877094972067038.\n",
      "[I 2025-07-02 18:57:45,043] Trial 82 finished with value: 0.7821229050279329 and parameters: {'classifier': 'SVM', 'C': 0.3669629068356656, 'kernel': 'linear', 'gamma': 'auto'}. Best is trial 75 with value: 0.7877094972067038.\n",
      "[I 2025-07-02 18:57:45,062] Trial 83 finished with value: 0.7839851024208566 and parameters: {'classifier': 'SVM', 'C': 0.539075552980469, 'kernel': 'linear', 'gamma': 'auto'}. Best is trial 75 with value: 0.7877094972067038.\n",
      "[I 2025-07-02 18:57:45,083] Trial 84 finished with value: 0.7895716945996275 and parameters: {'classifier': 'SVM', 'C': 0.13163973212477242, 'kernel': 'linear', 'gamma': 'auto'}. Best is trial 84 with value: 0.7895716945996275.\n",
      "[I 2025-07-02 18:57:45,098] Trial 85 finished with value: 0.7895716945996275 and parameters: {'classifier': 'SVM', 'C': 0.12259385401777752, 'kernel': 'linear', 'gamma': 'auto'}. Best is trial 84 with value: 0.7895716945996275.\n",
      "[I 2025-07-02 18:57:45,115] Trial 86 finished with value: 0.7895716945996275 and parameters: {'classifier': 'SVM', 'C': 0.1371719317861328, 'kernel': 'linear', 'gamma': 'auto'}. Best is trial 84 with value: 0.7895716945996275.\n",
      "[I 2025-07-02 18:57:45,134] Trial 87 finished with value: 0.7877094972067038 and parameters: {'classifier': 'SVM', 'C': 0.1002985467727281, 'kernel': 'linear', 'gamma': 'auto'}. Best is trial 84 with value: 0.7895716945996275.\n",
      "[I 2025-07-02 18:57:45,161] Trial 88 finished with value: 0.7709497206703911 and parameters: {'classifier': 'SVM', 'C': 0.1113880090896111, 'kernel': 'sigmoid', 'gamma': 'auto'}. Best is trial 84 with value: 0.7895716945996275.\n",
      "[I 2025-07-02 18:57:45,179] Trial 89 finished with value: 0.7895716945996275 and parameters: {'classifier': 'SVM', 'C': 0.13742628858288075, 'kernel': 'linear', 'gamma': 'auto'}. Best is trial 84 with value: 0.7895716945996275.\n",
      "[I 2025-07-02 18:57:45,526] Trial 90 finished with value: 0.7523277467411545 and parameters: {'classifier': 'RandomForest', 'n_estimators': 103, 'max_depth': 10, 'min_samples_split': 5, 'min_samples_leaf': 7, 'bootstrap': True}. Best is trial 84 with value: 0.7895716945996275.\n",
      "[I 2025-07-02 18:57:45,546] Trial 91 finished with value: 0.7895716945996275 and parameters: {'classifier': 'SVM', 'C': 0.1402749944310312, 'kernel': 'linear', 'gamma': 'auto'}. Best is trial 84 with value: 0.7895716945996275.\n",
      "[I 2025-07-02 18:57:45,568] Trial 92 finished with value: 0.7895716945996275 and parameters: {'classifier': 'SVM', 'C': 0.14084851897287473, 'kernel': 'linear', 'gamma': 'auto'}. Best is trial 84 with value: 0.7895716945996275.\n",
      "[I 2025-07-02 18:57:45,590] Trial 93 finished with value: 0.7895716945996275 and parameters: {'classifier': 'SVM', 'C': 0.14184966026761991, 'kernel': 'linear', 'gamma': 'auto'}. Best is trial 84 with value: 0.7895716945996275.\n",
      "[I 2025-07-02 18:57:45,612] Trial 94 finished with value: 0.7895716945996275 and parameters: {'classifier': 'SVM', 'C': 0.1427435113895893, 'kernel': 'linear', 'gamma': 'auto'}. Best is trial 84 with value: 0.7895716945996275.\n",
      "[I 2025-07-02 18:57:45,639] Trial 95 finished with value: 0.7467411545623835 and parameters: {'classifier': 'SVM', 'C': 0.14756044859138984, 'kernel': 'rbf', 'gamma': 'auto'}. Best is trial 84 with value: 0.7895716945996275.\n",
      "[I 2025-07-02 18:57:45,661] Trial 96 finished with value: 0.7895716945996275 and parameters: {'classifier': 'SVM', 'C': 0.13986012355139882, 'kernel': 'linear', 'gamma': 'auto'}. Best is trial 84 with value: 0.7895716945996275.\n",
      "[I 2025-07-02 18:57:45,684] Trial 97 finished with value: 0.7132216014897579 and parameters: {'classifier': 'SVM', 'C': 0.14258499467451088, 'kernel': 'poly', 'gamma': 'auto'}. Best is trial 84 with value: 0.7895716945996275.\n",
      "[I 2025-07-02 18:57:46,471] Trial 98 finished with value: 0.756052141527002 and parameters: {'classifier': 'GradientBoosting', 'n_estimators': 147, 'learning_rate': 0.12212832264199472, 'max_depth': 5, 'min_samples_split': 8, 'min_samples_leaf': 4}. Best is trial 84 with value: 0.7895716945996275.\n",
      "[I 2025-07-02 18:57:46,492] Trial 99 finished with value: 0.7895716945996275 and parameters: {'classifier': 'SVM', 'C': 0.13508702431556147, 'kernel': 'linear', 'gamma': 'auto'}. Best is trial 84 with value: 0.7895716945996275.\n"
     ]
    },
    {
     "name": "stdout",
     "output_type": "stream",
     "text": [
      "Best trial accuracy: 0.7895716945996275\n",
      "Best trial Hyperparameters: {'classifier': 'SVM', 'C': 0.13163973212477242, 'kernel': 'linear', 'gamma': 'auto'}\n"
     ]
    }
   ],
   "execution_count": 17
  },
  {
   "metadata": {
    "ExecuteTime": {
     "end_time": "2025-07-02T13:30:33.492871Z",
     "start_time": "2025-07-02T13:30:33.480052Z"
    }
   },
   "cell_type": "code",
   "source": [
    "from sklearn.metrics import accuracy_score\n",
    "\n",
    "params = study.best_trial.params\n",
    "model_class = params['classifier']  # e.g., 'SVM'\n",
    "\n",
    "# Remove 'classifier' and pass the rest as kwargs\n",
    "model_kwargs = {k: v for k, v in params.items() if k != 'classifier'}\n",
    "model_kwargs['random_state'] = 42\n",
    "\n",
    "# You would typically map string name to actual class\n",
    "classifier_map = {\n",
    "    'SVM': SVC,\n",
    "    # Add other mappings if needed\n",
    "}\n",
    "\n",
    "# Train using the best hyperparameters from Optuna\n",
    "best_model = classifier_map[model_class](**model_kwargs)\n",
    "\n",
    "best_model.fit(X_train, y_train)\n",
    "\n",
    "y_pred = best_model.predict(X_test)\n",
    "\n",
    "test_accuracy = accuracy_score(y_test, y_pred)\n",
    "\n",
    "print(f'Test accuracy ith best hyperparameters: {test_accuracy:.2f}')"
   ],
   "id": "e7a679357387a85f",
   "outputs": [
    {
     "name": "stdout",
     "output_type": "stream",
     "text": [
      "Test accuracy ith best hyperparameters: 0.74\n"
     ]
    }
   ],
   "execution_count": 19
  },
  {
   "metadata": {
    "ExecuteTime": {
     "end_time": "2025-07-02T13:30:53.534356Z",
     "start_time": "2025-07-02T13:30:53.501261Z"
    }
   },
   "cell_type": "code",
   "source": [
    "# We can also create dataframe of the study\n",
    "\n",
    "study.trials_dataframe()"
   ],
   "id": "b38ad8448c8e5bf3",
   "outputs": [
    {
     "data": {
      "text/plain": [
       "    number     value             datetime_start          datetime_complete  \\\n",
       "0        0  0.765363 2025-07-02 18:57:23.975780 2025-07-02 18:57:24.689564   \n",
       "1        1  0.770950 2025-07-02 18:57:24.690158 2025-07-02 18:57:25.267910   \n",
       "2        2  0.785847 2025-07-02 18:57:25.268676 2025-07-02 18:57:25.317121   \n",
       "3        3  0.756052 2025-07-02 18:57:25.317748 2025-07-02 18:57:25.555334   \n",
       "4        4  0.757914 2025-07-02 18:57:25.555879 2025-07-02 18:57:25.955644   \n",
       "..     ...       ...                        ...                        ...   \n",
       "95      95  0.746741 2025-07-02 18:57:45.613228 2025-07-02 18:57:45.639297   \n",
       "96      96  0.789572 2025-07-02 18:57:45.639946 2025-07-02 18:57:45.661181   \n",
       "97      97  0.713222 2025-07-02 18:57:45.661782 2025-07-02 18:57:45.684368   \n",
       "98      98  0.756052 2025-07-02 18:57:45.685024 2025-07-02 18:57:46.471904   \n",
       "99      99  0.789572 2025-07-02 18:57:46.473002 2025-07-02 18:57:46.492390   \n",
       "\n",
       "                 duration   params_C params_bootstrap params_classifier  \\\n",
       "0  0 days 00:00:00.713784        NaN              NaN  GradientBoosting   \n",
       "1  0 days 00:00:00.577752        NaN            False      RandomForest   \n",
       "2  0 days 00:00:00.048445  18.041504              NaN               SVM   \n",
       "3  0 days 00:00:00.237586        NaN             True      RandomForest   \n",
       "4  0 days 00:00:00.399765        NaN             True      RandomForest   \n",
       "..                    ...        ...              ...               ...   \n",
       "95 0 days 00:00:00.026069   0.147560              NaN               SVM   \n",
       "96 0 days 00:00:00.021235   0.139860              NaN               SVM   \n",
       "97 0 days 00:00:00.022586   0.142585              NaN               SVM   \n",
       "98 0 days 00:00:00.786880        NaN              NaN  GradientBoosting   \n",
       "99 0 days 00:00:00.019388   0.135087              NaN               SVM   \n",
       "\n",
       "   params_gamma params_kernel  params_learning_rate  params_max_depth  \\\n",
       "0           NaN           NaN              0.011473               3.0   \n",
       "1           NaN           NaN                   NaN              20.0   \n",
       "2          auto        linear                   NaN               NaN   \n",
       "3           NaN           NaN                   NaN               5.0   \n",
       "4           NaN           NaN                   NaN               6.0   \n",
       "..          ...           ...                   ...               ...   \n",
       "95         auto           rbf                   NaN               NaN   \n",
       "96         auto        linear                   NaN               NaN   \n",
       "97         auto          poly                   NaN               NaN   \n",
       "98          NaN           NaN              0.122128               5.0   \n",
       "99         auto        linear                   NaN               NaN   \n",
       "\n",
       "    params_min_samples_leaf  params_min_samples_split  params_n_estimators  \\\n",
       "0                       5.0                       9.0                258.0   \n",
       "1                       7.0                       4.0                244.0   \n",
       "2                       NaN                       NaN                  NaN   \n",
       "3                       5.0                       4.0                 87.0   \n",
       "4                       6.0                       2.0                142.0   \n",
       "..                      ...                       ...                  ...   \n",
       "95                      NaN                       NaN                  NaN   \n",
       "96                      NaN                       NaN                  NaN   \n",
       "97                      NaN                       NaN                  NaN   \n",
       "98                      4.0                       8.0                147.0   \n",
       "99                      NaN                       NaN                  NaN   \n",
       "\n",
       "       state  \n",
       "0   COMPLETE  \n",
       "1   COMPLETE  \n",
       "2   COMPLETE  \n",
       "3   COMPLETE  \n",
       "4   COMPLETE  \n",
       "..       ...  \n",
       "95  COMPLETE  \n",
       "96  COMPLETE  \n",
       "97  COMPLETE  \n",
       "98  COMPLETE  \n",
       "99  COMPLETE  \n",
       "\n",
       "[100 rows x 16 columns]"
      ],
      "text/html": [
       "<div>\n",
       "<style scoped>\n",
       "    .dataframe tbody tr th:only-of-type {\n",
       "        vertical-align: middle;\n",
       "    }\n",
       "\n",
       "    .dataframe tbody tr th {\n",
       "        vertical-align: top;\n",
       "    }\n",
       "\n",
       "    .dataframe thead th {\n",
       "        text-align: right;\n",
       "    }\n",
       "</style>\n",
       "<table border=\"1\" class=\"dataframe\">\n",
       "  <thead>\n",
       "    <tr style=\"text-align: right;\">\n",
       "      <th></th>\n",
       "      <th>number</th>\n",
       "      <th>value</th>\n",
       "      <th>datetime_start</th>\n",
       "      <th>datetime_complete</th>\n",
       "      <th>duration</th>\n",
       "      <th>params_C</th>\n",
       "      <th>params_bootstrap</th>\n",
       "      <th>params_classifier</th>\n",
       "      <th>params_gamma</th>\n",
       "      <th>params_kernel</th>\n",
       "      <th>params_learning_rate</th>\n",
       "      <th>params_max_depth</th>\n",
       "      <th>params_min_samples_leaf</th>\n",
       "      <th>params_min_samples_split</th>\n",
       "      <th>params_n_estimators</th>\n",
       "      <th>state</th>\n",
       "    </tr>\n",
       "  </thead>\n",
       "  <tbody>\n",
       "    <tr>\n",
       "      <th>0</th>\n",
       "      <td>0</td>\n",
       "      <td>0.765363</td>\n",
       "      <td>2025-07-02 18:57:23.975780</td>\n",
       "      <td>2025-07-02 18:57:24.689564</td>\n",
       "      <td>0 days 00:00:00.713784</td>\n",
       "      <td>NaN</td>\n",
       "      <td>NaN</td>\n",
       "      <td>GradientBoosting</td>\n",
       "      <td>NaN</td>\n",
       "      <td>NaN</td>\n",
       "      <td>0.011473</td>\n",
       "      <td>3.0</td>\n",
       "      <td>5.0</td>\n",
       "      <td>9.0</td>\n",
       "      <td>258.0</td>\n",
       "      <td>COMPLETE</td>\n",
       "    </tr>\n",
       "    <tr>\n",
       "      <th>1</th>\n",
       "      <td>1</td>\n",
       "      <td>0.770950</td>\n",
       "      <td>2025-07-02 18:57:24.690158</td>\n",
       "      <td>2025-07-02 18:57:25.267910</td>\n",
       "      <td>0 days 00:00:00.577752</td>\n",
       "      <td>NaN</td>\n",
       "      <td>False</td>\n",
       "      <td>RandomForest</td>\n",
       "      <td>NaN</td>\n",
       "      <td>NaN</td>\n",
       "      <td>NaN</td>\n",
       "      <td>20.0</td>\n",
       "      <td>7.0</td>\n",
       "      <td>4.0</td>\n",
       "      <td>244.0</td>\n",
       "      <td>COMPLETE</td>\n",
       "    </tr>\n",
       "    <tr>\n",
       "      <th>2</th>\n",
       "      <td>2</td>\n",
       "      <td>0.785847</td>\n",
       "      <td>2025-07-02 18:57:25.268676</td>\n",
       "      <td>2025-07-02 18:57:25.317121</td>\n",
       "      <td>0 days 00:00:00.048445</td>\n",
       "      <td>18.041504</td>\n",
       "      <td>NaN</td>\n",
       "      <td>SVM</td>\n",
       "      <td>auto</td>\n",
       "      <td>linear</td>\n",
       "      <td>NaN</td>\n",
       "      <td>NaN</td>\n",
       "      <td>NaN</td>\n",
       "      <td>NaN</td>\n",
       "      <td>NaN</td>\n",
       "      <td>COMPLETE</td>\n",
       "    </tr>\n",
       "    <tr>\n",
       "      <th>3</th>\n",
       "      <td>3</td>\n",
       "      <td>0.756052</td>\n",
       "      <td>2025-07-02 18:57:25.317748</td>\n",
       "      <td>2025-07-02 18:57:25.555334</td>\n",
       "      <td>0 days 00:00:00.237586</td>\n",
       "      <td>NaN</td>\n",
       "      <td>True</td>\n",
       "      <td>RandomForest</td>\n",
       "      <td>NaN</td>\n",
       "      <td>NaN</td>\n",
       "      <td>NaN</td>\n",
       "      <td>5.0</td>\n",
       "      <td>5.0</td>\n",
       "      <td>4.0</td>\n",
       "      <td>87.0</td>\n",
       "      <td>COMPLETE</td>\n",
       "    </tr>\n",
       "    <tr>\n",
       "      <th>4</th>\n",
       "      <td>4</td>\n",
       "      <td>0.757914</td>\n",
       "      <td>2025-07-02 18:57:25.555879</td>\n",
       "      <td>2025-07-02 18:57:25.955644</td>\n",
       "      <td>0 days 00:00:00.399765</td>\n",
       "      <td>NaN</td>\n",
       "      <td>True</td>\n",
       "      <td>RandomForest</td>\n",
       "      <td>NaN</td>\n",
       "      <td>NaN</td>\n",
       "      <td>NaN</td>\n",
       "      <td>6.0</td>\n",
       "      <td>6.0</td>\n",
       "      <td>2.0</td>\n",
       "      <td>142.0</td>\n",
       "      <td>COMPLETE</td>\n",
       "    </tr>\n",
       "    <tr>\n",
       "      <th>...</th>\n",
       "      <td>...</td>\n",
       "      <td>...</td>\n",
       "      <td>...</td>\n",
       "      <td>...</td>\n",
       "      <td>...</td>\n",
       "      <td>...</td>\n",
       "      <td>...</td>\n",
       "      <td>...</td>\n",
       "      <td>...</td>\n",
       "      <td>...</td>\n",
       "      <td>...</td>\n",
       "      <td>...</td>\n",
       "      <td>...</td>\n",
       "      <td>...</td>\n",
       "      <td>...</td>\n",
       "      <td>...</td>\n",
       "    </tr>\n",
       "    <tr>\n",
       "      <th>95</th>\n",
       "      <td>95</td>\n",
       "      <td>0.746741</td>\n",
       "      <td>2025-07-02 18:57:45.613228</td>\n",
       "      <td>2025-07-02 18:57:45.639297</td>\n",
       "      <td>0 days 00:00:00.026069</td>\n",
       "      <td>0.147560</td>\n",
       "      <td>NaN</td>\n",
       "      <td>SVM</td>\n",
       "      <td>auto</td>\n",
       "      <td>rbf</td>\n",
       "      <td>NaN</td>\n",
       "      <td>NaN</td>\n",
       "      <td>NaN</td>\n",
       "      <td>NaN</td>\n",
       "      <td>NaN</td>\n",
       "      <td>COMPLETE</td>\n",
       "    </tr>\n",
       "    <tr>\n",
       "      <th>96</th>\n",
       "      <td>96</td>\n",
       "      <td>0.789572</td>\n",
       "      <td>2025-07-02 18:57:45.639946</td>\n",
       "      <td>2025-07-02 18:57:45.661181</td>\n",
       "      <td>0 days 00:00:00.021235</td>\n",
       "      <td>0.139860</td>\n",
       "      <td>NaN</td>\n",
       "      <td>SVM</td>\n",
       "      <td>auto</td>\n",
       "      <td>linear</td>\n",
       "      <td>NaN</td>\n",
       "      <td>NaN</td>\n",
       "      <td>NaN</td>\n",
       "      <td>NaN</td>\n",
       "      <td>NaN</td>\n",
       "      <td>COMPLETE</td>\n",
       "    </tr>\n",
       "    <tr>\n",
       "      <th>97</th>\n",
       "      <td>97</td>\n",
       "      <td>0.713222</td>\n",
       "      <td>2025-07-02 18:57:45.661782</td>\n",
       "      <td>2025-07-02 18:57:45.684368</td>\n",
       "      <td>0 days 00:00:00.022586</td>\n",
       "      <td>0.142585</td>\n",
       "      <td>NaN</td>\n",
       "      <td>SVM</td>\n",
       "      <td>auto</td>\n",
       "      <td>poly</td>\n",
       "      <td>NaN</td>\n",
       "      <td>NaN</td>\n",
       "      <td>NaN</td>\n",
       "      <td>NaN</td>\n",
       "      <td>NaN</td>\n",
       "      <td>COMPLETE</td>\n",
       "    </tr>\n",
       "    <tr>\n",
       "      <th>98</th>\n",
       "      <td>98</td>\n",
       "      <td>0.756052</td>\n",
       "      <td>2025-07-02 18:57:45.685024</td>\n",
       "      <td>2025-07-02 18:57:46.471904</td>\n",
       "      <td>0 days 00:00:00.786880</td>\n",
       "      <td>NaN</td>\n",
       "      <td>NaN</td>\n",
       "      <td>GradientBoosting</td>\n",
       "      <td>NaN</td>\n",
       "      <td>NaN</td>\n",
       "      <td>0.122128</td>\n",
       "      <td>5.0</td>\n",
       "      <td>4.0</td>\n",
       "      <td>8.0</td>\n",
       "      <td>147.0</td>\n",
       "      <td>COMPLETE</td>\n",
       "    </tr>\n",
       "    <tr>\n",
       "      <th>99</th>\n",
       "      <td>99</td>\n",
       "      <td>0.789572</td>\n",
       "      <td>2025-07-02 18:57:46.473002</td>\n",
       "      <td>2025-07-02 18:57:46.492390</td>\n",
       "      <td>0 days 00:00:00.019388</td>\n",
       "      <td>0.135087</td>\n",
       "      <td>NaN</td>\n",
       "      <td>SVM</td>\n",
       "      <td>auto</td>\n",
       "      <td>linear</td>\n",
       "      <td>NaN</td>\n",
       "      <td>NaN</td>\n",
       "      <td>NaN</td>\n",
       "      <td>NaN</td>\n",
       "      <td>NaN</td>\n",
       "      <td>COMPLETE</td>\n",
       "    </tr>\n",
       "  </tbody>\n",
       "</table>\n",
       "<p>100 rows × 16 columns</p>\n",
       "</div>"
      ]
     },
     "execution_count": 20,
     "metadata": {},
     "output_type": "execute_result"
    }
   ],
   "execution_count": 20
  },
  {
   "metadata": {
    "ExecuteTime": {
     "end_time": "2025-07-02T13:31:39.438400Z",
     "start_time": "2025-07-02T13:31:39.428111Z"
    }
   },
   "cell_type": "code",
   "source": "study.trials_dataframe()['params_classifier'].value_counts()",
   "id": "63791194f1c3cdd0",
   "outputs": [
    {
     "data": {
      "text/plain": [
       "params_classifier\n",
       "SVM                 78\n",
       "RandomForest        12\n",
       "GradientBoosting    10\n",
       "Name: count, dtype: int64"
      ]
     },
     "execution_count": 21,
     "metadata": {},
     "output_type": "execute_result"
    }
   ],
   "execution_count": 21
  },
  {
   "metadata": {
    "ExecuteTime": {
     "end_time": "2025-07-02T13:32:19.210831Z",
     "start_time": "2025-07-02T13:32:19.197534Z"
    }
   },
   "cell_type": "code",
   "source": "study.trials_dataframe().groupby('params_classifier')['value'].mean()",
   "id": "b185613758e96fc6",
   "outputs": [
    {
     "data": {
      "text/plain": [
       "params_classifier\n",
       "GradientBoosting    0.744134\n",
       "RandomForest        0.761794\n",
       "SVM                 0.772120\n",
       "Name: value, dtype: float64"
      ]
     },
     "execution_count": 22,
     "metadata": {},
     "output_type": "execute_result"
    }
   ],
   "execution_count": 22
  },
  {
   "metadata": {
    "ExecuteTime": {
     "end_time": "2025-07-04T10:41:04.805467Z",
     "start_time": "2025-07-04T10:41:04.801484Z"
    }
   },
   "cell_type": "code",
   "source": [
    "import sys\n",
    "\n",
    "print(sys.executable)"
   ],
   "id": "400fe1856ec48f66",
   "outputs": [
    {
     "name": "stdout",
     "output_type": "stream",
     "text": [
      "/home/ml02/Downloads/PyTorch/PyTorch/bin/python\n"
     ]
    }
   ],
   "execution_count": 1
  },
  {
   "metadata": {},
   "cell_type": "markdown",
   "source": [
    "#### How to train a neural network model in optuna\n",
    "\n",
    "Optuna creates a study object which contains trials. Each trial is sent to the objective function. Objective function is used to define - Search Space, Model Init, Param Init, Training loop, Evaluation Loop which returns the objective metric."
   ],
   "id": "50950391e8b531c3"
  },
  {
   "metadata": {
    "ExecuteTime": {
     "end_time": "2025-07-07T13:53:08.035253Z",
     "start_time": "2025-07-07T13:53:05.102498Z"
    }
   },
   "cell_type": "code",
   "source": [
    "import pandas as pd\n",
    "import torch\n",
    "import torch.nn as nn\n",
    "import torch.optim as optim\n",
    "import matplotlib.pyplot as plt\n",
    "from torch.utils.data import Dataset, DataLoader\n",
    "from sklearn.model_selection import train_test_split"
   ],
   "id": "bef6083298b064be",
   "outputs": [],
   "execution_count": 1
  },
  {
   "metadata": {
    "ExecuteTime": {
     "end_time": "2025-07-07T13:53:09.312065Z",
     "start_time": "2025-07-07T13:53:09.180980Z"
    }
   },
   "cell_type": "code",
   "source": [
    "torch.manual_seed(42)\n",
    "\n",
    "device = torch.device('cuda' if torch.cuda.is_available() else 'cpu')\n",
    "print(f\"Using device:{device}\")"
   ],
   "id": "e9b25eea902abb50",
   "outputs": [
    {
     "name": "stdout",
     "output_type": "stream",
     "text": [
      "Using device:cuda\n"
     ]
    }
   ],
   "execution_count": 3
  },
  {
   "metadata": {
    "ExecuteTime": {
     "end_time": "2025-07-07T13:53:14.860222Z",
     "start_time": "2025-07-07T13:53:11.814332Z"
    }
   },
   "cell_type": "code",
   "source": [
    "df = pd.read_csv(\"/home/ml02/Downloads/PyTorch/archive/fashion-mnist_train.csv\")\n",
    "df.shape"
   ],
   "id": "60314910f1c3658a",
   "outputs": [
    {
     "data": {
      "text/plain": [
       "(60000, 785)"
      ]
     },
     "execution_count": 4,
     "metadata": {},
     "output_type": "execute_result"
    }
   ],
   "execution_count": 4
  },
  {
   "metadata": {
    "ExecuteTime": {
     "end_time": "2025-07-07T13:53:14.875734Z",
     "start_time": "2025-07-07T13:53:14.871153Z"
    }
   },
   "cell_type": "code",
   "source": [
    "X = df.iloc[:,1:].values\n",
    "y = df.iloc[:, 0].values"
   ],
   "id": "c18d78c63a833509",
   "outputs": [],
   "execution_count": 5
  },
  {
   "metadata": {
    "ExecuteTime": {
     "end_time": "2025-07-07T13:53:15.640742Z",
     "start_time": "2025-07-07T13:53:14.931552Z"
    }
   },
   "cell_type": "code",
   "source": "X_train, X_test, y_train, y_test = train_test_split(X, y, test_size=0.2, random_state=42)",
   "id": "b649c6a5fe849a7a",
   "outputs": [],
   "execution_count": 6
  },
  {
   "metadata": {
    "ExecuteTime": {
     "end_time": "2025-07-07T13:53:17.447341Z",
     "start_time": "2025-07-07T13:53:17.342446Z"
    }
   },
   "cell_type": "code",
   "source": [
    "X_train = X_train/255.0\n",
    "X_test = X_test/255.0"
   ],
   "id": "86e3c87e0316e15a",
   "outputs": [],
   "execution_count": 7
  },
  {
   "metadata": {
    "ExecuteTime": {
     "end_time": "2025-07-07T13:53:18.863216Z",
     "start_time": "2025-07-07T13:53:18.858517Z"
    }
   },
   "cell_type": "code",
   "source": [
    "class CustomDataset(Dataset):\n",
    "    def __init__(self, features, labels):\n",
    "        self.features = torch.tensor(features, dtype=torch.float32)\n",
    "        self.labels = torch.tensor(labels, dtype=torch.long)\n",
    "    def __len__(self):\n",
    "        return len(self.features)\n",
    "    def __getitem__(self, idx):\n",
    "        return self.features[idx], self.labels[idx]"
   ],
   "id": "d4c13072dda108c6",
   "outputs": [],
   "execution_count": 8
  },
  {
   "metadata": {
    "ExecuteTime": {
     "end_time": "2025-07-07T13:53:20.721098Z",
     "start_time": "2025-07-07T13:53:20.696724Z"
    }
   },
   "cell_type": "code",
   "source": [
    "train_dataset = CustomDataset(X_train, y_train)\n",
    "test_dataset = CustomDataset(X_test, y_test)"
   ],
   "id": "1016df4c0c2b4fdf",
   "outputs": [],
   "execution_count": 9
  },
  {
   "metadata": {
    "ExecuteTime": {
     "end_time": "2025-07-07T13:53:24.583119Z",
     "start_time": "2025-07-07T13:53:24.580381Z"
    }
   },
   "cell_type": "code",
   "source": [
    "train_loader = DataLoader(train_dataset, batch_size=32, shuffle=True, pin_memory=True)\n",
    "test_loader = DataLoader(test_dataset, batch_size=32, shuffle=False, pin_memory=True)"
   ],
   "id": "51f398af93b9a3c3",
   "outputs": [],
   "execution_count": 10
  },
  {
   "metadata": {
    "ExecuteTime": {
     "end_time": "2025-07-07T13:53:26.746632Z",
     "start_time": "2025-07-07T13:53:26.743130Z"
    }
   },
   "cell_type": "code",
   "source": "len(train_loader)",
   "id": "c7106fc9305b2599",
   "outputs": [
    {
     "data": {
      "text/plain": [
       "1500"
      ]
     },
     "execution_count": 11,
     "metadata": {},
     "output_type": "execute_result"
    }
   ],
   "execution_count": 11
  },
  {
   "metadata": {
    "ExecuteTime": {
     "end_time": "2025-07-07T13:53:28.186066Z",
     "start_time": "2025-07-07T13:53:28.181893Z"
    }
   },
   "cell_type": "code",
   "source": [
    "#NB - The below architecture has as drawback - We are using same neurons for every layer\n",
    "class MyNN(nn.Module):\n",
    "    def __init__(self, input_dim, output_dim, num_hidden_layers, neurons_per_layer):\n",
    "        super().__init__()\n",
    "        layers = [] # This will store the layers dynamically in every trial\n",
    "        for i in range(num_hidden_layers):\n",
    "            layers.append(nn.Linear(input_dim, neurons_per_layer))\n",
    "            layers.append(nn.BatchNorm1d(neurons_per_layer))\n",
    "            layers.append(nn.ReLU())\n",
    "            layers.append(nn.Dropout(0.3))\n",
    "            input_dim = neurons_per_layer\n",
    "        layers.append(nn.Linear(neurons_per_layer, output_dim))\n",
    "        self.model = nn.Sequential(*layers) # Unpacking the array here as sequential takes input one by one\n",
    "\n",
    "    def forward(self, x):\n",
    "        return self.model(x)"
   ],
   "id": "5c1051f0534148bf",
   "outputs": [],
   "execution_count": 12
  },
  {
   "metadata": {
    "ExecuteTime": {
     "end_time": "2025-07-07T13:53:29.859777Z",
     "start_time": "2025-07-07T13:53:29.855303Z"
    }
   },
   "cell_type": "code",
   "source": [
    "# Now we will make our example objective function\n",
    "# and will only focus on two things -\n",
    "## 1. Number of hidden layers\n",
    "## 2. Number of neurons per layer\n",
    "\n",
    "def objective(trial):\n",
    "    # next hyperparameter values from the search space\n",
    "    num_hidden_layers = trial.suggest_int(\"num_hidden_layers\", 1,5)\n",
    "    neurons_per_layer = trial.suggest_int(\"neurons_per_layer\", 8, 128, step=8)\n",
    "\n",
    "    # model init\n",
    "    input_dim = 784\n",
    "    output_dim = 10\n",
    "\n",
    "    model = MyNN(input_dim, output_dim, num_hidden_layers, neurons_per_layer)\n",
    "    model.to(device)\n",
    "\n",
    "    # param init\n",
    "    lr = 0.01\n",
    "    epochs = 100\n",
    "\n",
    "    # optimizer selection\n",
    "    criterion = nn.CrossEntropyLoss()\n",
    "    optimizer = optim.SGD(model.parameters(), lr=0.1, weight_decay=1e-4)\n",
    "\n",
    "    # training loop - We will not print values of loss here\n",
    "    model.train()\n",
    "    for epoch in range(epochs):\n",
    "        for batch_features, batch_labels in train_loader:\n",
    "            batch_features, batch_labels = batch_features.to(device), batch_labels.to(device)\n",
    "            outputs = model(batch_features) # Forward pass\n",
    "            loss = criterion(outputs, batch_labels)\n",
    "            # back pass\n",
    "            optimizer.zero_grad()\n",
    "            loss.backward()\n",
    "            # update grads\n",
    "            optimizer.step()\n",
    "\n",
    "    # evaluation\n",
    "    model.eval()\n",
    "    total, correct = 0, 0\n",
    "    with torch.no_grad():\n",
    "        for batch_features, batch_labels in test_loader:\n",
    "            batch_features, batch_labels = batch_features.to(device), batch_labels.to(device)\n",
    "            outputs = model(batch_features)\n",
    "            _, predicted = torch.max(outputs, 1)\n",
    "            total += batch_labels.shape[0]\n",
    "            correct = correct + (predicted == batch_labels).sum().item()\n",
    "        accuracy = correct/total\n",
    "    return accuracy"
   ],
   "id": "26a5f8a638d9da58",
   "outputs": [],
   "execution_count": 13
  },
  {
   "metadata": {
    "ExecuteTime": {
     "end_time": "2025-07-07T13:53:33.063613Z",
     "start_time": "2025-07-07T13:53:33.002869Z"
    }
   },
   "cell_type": "code",
   "source": [
    "# Now we will create an Optuna study\n",
    "import optuna\n",
    "\n",
    "study = optuna.create_study(direction='maximize')"
   ],
   "id": "5eb09618477616fa",
   "outputs": [
    {
     "name": "stderr",
     "output_type": "stream",
     "text": [
      "[I 2025-07-07 19:23:33,061] A new study created in memory with name: no-name-51296a41-b765-4c0e-86c1-31c67aedc18c\n"
     ]
    }
   ],
   "execution_count": 14
  },
  {
   "metadata": {
    "ExecuteTime": {
     "end_time": "2025-07-07T14:37:02.542132Z",
     "start_time": "2025-07-07T13:53:34.489827Z"
    }
   },
   "cell_type": "code",
   "source": "study.optimize(objective, n_trials=10)",
   "id": "3d45468886b6564f",
   "outputs": [
    {
     "name": "stderr",
     "output_type": "stream",
     "text": [
      "[I 2025-07-07 19:26:56,750] Trial 0 finished with value: 0.7855833333333333 and parameters: {'num_hidden_layers': 2, 'neurons_per_layer': 8}. Best is trial 0 with value: 0.7855833333333333.\n",
      "[I 2025-07-07 19:31:44,820] Trial 1 finished with value: 0.8934166666666666 and parameters: {'num_hidden_layers': 4, 'neurons_per_layer': 112}. Best is trial 1 with value: 0.8934166666666666.\n",
      "[I 2025-07-07 19:36:37,260] Trial 2 finished with value: 0.8946666666666667 and parameters: {'num_hidden_layers': 4, 'neurons_per_layer': 112}. Best is trial 2 with value: 0.8946666666666667.\n",
      "[I 2025-07-07 19:42:21,163] Trial 3 finished with value: 0.8860833333333333 and parameters: {'num_hidden_layers': 5, 'neurons_per_layer': 120}. Best is trial 2 with value: 0.8946666666666667.\n",
      "[I 2025-07-07 19:46:21,853] Trial 4 finished with value: 0.8656666666666667 and parameters: {'num_hidden_layers': 3, 'neurons_per_layer': 32}. Best is trial 2 with value: 0.8946666666666667.\n",
      "[I 2025-07-07 19:49:22,589] Trial 5 finished with value: 0.818 and parameters: {'num_hidden_layers': 1, 'neurons_per_layer': 8}. Best is trial 2 with value: 0.8946666666666667.\n",
      "[I 2025-07-07 19:55:03,082] Trial 6 finished with value: 0.563 and parameters: {'num_hidden_layers': 5, 'neurons_per_layer': 8}. Best is trial 2 with value: 0.8946666666666667.\n",
      "[I 2025-07-07 19:58:54,868] Trial 7 finished with value: 0.8763333333333333 and parameters: {'num_hidden_layers': 2, 'neurons_per_layer': 48}. Best is trial 2 with value: 0.8946666666666667.\n",
      "[I 2025-07-07 20:03:18,053] Trial 8 finished with value: 0.89125 and parameters: {'num_hidden_layers': 3, 'neurons_per_layer': 80}. Best is trial 2 with value: 0.8946666666666667.\n",
      "[I 2025-07-07 20:07:02,539] Trial 9 finished with value: 0.8875 and parameters: {'num_hidden_layers': 2, 'neurons_per_layer': 96}. Best is trial 2 with value: 0.8946666666666667.\n"
     ]
    }
   ],
   "execution_count": 15
  },
  {
   "metadata": {
    "ExecuteTime": {
     "end_time": "2025-07-07T14:38:27.559792Z",
     "start_time": "2025-07-07T14:38:27.553691Z"
    }
   },
   "cell_type": "code",
   "source": "study.best_value",
   "id": "5aa178c834529044",
   "outputs": [
    {
     "data": {
      "text/plain": [
       "0.8946666666666667"
      ]
     },
     "execution_count": 16,
     "metadata": {},
     "output_type": "execute_result"
    }
   ],
   "execution_count": 16
  },
  {
   "metadata": {
    "ExecuteTime": {
     "end_time": "2025-07-07T14:38:28.862562Z",
     "start_time": "2025-07-07T14:38:28.857783Z"
    }
   },
   "cell_type": "code",
   "source": "study.best_params",
   "id": "8e36d56cf656c95",
   "outputs": [
    {
     "data": {
      "text/plain": [
       "{'num_hidden_layers': 4, 'neurons_per_layer': 112}"
      ]
     },
     "execution_count": 17,
     "metadata": {},
     "output_type": "execute_result"
    }
   ],
   "execution_count": 17
  },
  {
   "metadata": {},
   "cell_type": "markdown",
   "source": "#### Now we will continue to update the objective function and will add few more params in hyperparam searching",
   "id": "70c21b715d314b40"
  },
  {
   "metadata": {
    "ExecuteTime": {
     "end_time": "2025-07-07T15:11:14.698570Z",
     "start_time": "2025-07-07T15:11:12.468094Z"
    }
   },
   "cell_type": "code",
   "source": [
    "import pandas as pd\n",
    "import torch\n",
    "import torch.nn as nn\n",
    "import torch.optim as optim\n",
    "import matplotlib.pyplot as plt\n",
    "from torch.utils.data import Dataset, DataLoader\n",
    "from sklearn.model_selection import train_test_split"
   ],
   "id": "123a9cda0c35f9e",
   "outputs": [],
   "execution_count": 1
  },
  {
   "metadata": {
    "ExecuteTime": {
     "end_time": "2025-07-07T15:11:14.843033Z",
     "start_time": "2025-07-07T15:11:14.711766Z"
    }
   },
   "cell_type": "code",
   "source": [
    "torch.manual_seed(42)\n",
    "\n",
    "device = torch.device('cuda' if torch.cuda.is_available() else 'cpu')\n",
    "print(f\"Using device:{device}\")"
   ],
   "id": "f31566200fc7c711",
   "outputs": [
    {
     "name": "stdout",
     "output_type": "stream",
     "text": [
      "Using device:cuda\n"
     ]
    }
   ],
   "execution_count": 2
  },
  {
   "metadata": {
    "ExecuteTime": {
     "end_time": "2025-07-07T15:11:18.835975Z",
     "start_time": "2025-07-07T15:11:16.930706Z"
    }
   },
   "cell_type": "code",
   "source": [
    "df = pd.read_csv(\"/home/ml02/Downloads/PyTorch/archive/fashion-mnist_train.csv\")\n",
    "df.shape"
   ],
   "id": "dedb6b24292225b9",
   "outputs": [
    {
     "data": {
      "text/plain": [
       "(60000, 785)"
      ]
     },
     "execution_count": 3,
     "metadata": {},
     "output_type": "execute_result"
    }
   ],
   "execution_count": 3
  },
  {
   "metadata": {
    "ExecuteTime": {
     "end_time": "2025-07-07T15:11:18.865135Z",
     "start_time": "2025-07-07T15:11:18.861392Z"
    }
   },
   "cell_type": "code",
   "source": [
    "X = df.iloc[:,1:].values\n",
    "y = df.iloc[:, 0].values"
   ],
   "id": "47d2f3945f1550eb",
   "outputs": [],
   "execution_count": 4
  },
  {
   "metadata": {
    "ExecuteTime": {
     "end_time": "2025-07-07T15:11:21.430757Z",
     "start_time": "2025-07-07T15:11:20.781182Z"
    }
   },
   "cell_type": "code",
   "source": "X_train, X_test, y_train, y_test = train_test_split(X, y, test_size=0.2, random_state=42)",
   "id": "9ac56be10adcdae9",
   "outputs": [],
   "execution_count": 5
  },
  {
   "metadata": {
    "ExecuteTime": {
     "end_time": "2025-07-07T15:11:22.279235Z",
     "start_time": "2025-07-07T15:11:22.150259Z"
    }
   },
   "cell_type": "code",
   "source": [
    "X_train = X_train/255.0\n",
    "X_test = X_test/255.0"
   ],
   "id": "ba6ee4d9462b3a02",
   "outputs": [],
   "execution_count": 6
  },
  {
   "metadata": {
    "ExecuteTime": {
     "end_time": "2025-07-07T15:11:23.148473Z",
     "start_time": "2025-07-07T15:11:23.144974Z"
    }
   },
   "cell_type": "code",
   "source": [
    "class CustomDataset(Dataset):\n",
    "    def __init__(self, features, labels):\n",
    "        self.features = torch.tensor(features, dtype=torch.float32)\n",
    "        self.labels = torch.tensor(labels, dtype=torch.long)\n",
    "    def __len__(self):\n",
    "        return len(self.features)\n",
    "    def __getitem__(self, idx):\n",
    "        return self.features[idx], self.labels[idx]"
   ],
   "id": "c8c8f2f8f7906c93",
   "outputs": [],
   "execution_count": 7
  },
  {
   "metadata": {
    "ExecuteTime": {
     "end_time": "2025-07-07T15:11:27.901139Z",
     "start_time": "2025-07-07T15:11:27.881444Z"
    }
   },
   "cell_type": "code",
   "source": [
    "train_dataset = CustomDataset(X_train, y_train)\n",
    "test_dataset = CustomDataset(X_test, y_test)"
   ],
   "id": "fa2e4e7fbb806846",
   "outputs": [],
   "execution_count": 8
  },
  {
   "metadata": {
    "ExecuteTime": {
     "end_time": "2025-07-07T15:11:33.293767Z",
     "start_time": "2025-07-07T15:11:33.289481Z"
    }
   },
   "cell_type": "code",
   "source": [
    "#NB - The below architecture has as drawback - We are using same neurons for every layer\n",
    "class MyNN(nn.Module):\n",
    "    def __init__(self, input_dim, output_dim, num_hidden_layers, neurons_per_layer, dropout):\n",
    "        super().__init__()\n",
    "        layers = [] # This will store the layers dynamically in every trial\n",
    "        for i in range(num_hidden_layers):\n",
    "            layers.append(nn.Linear(input_dim, neurons_per_layer))\n",
    "            layers.append(nn.BatchNorm1d(neurons_per_layer))\n",
    "            layers.append(nn.ReLU())\n",
    "            layers.append(nn.Dropout(dropout))\n",
    "            input_dim = neurons_per_layer\n",
    "        layers.append(nn.Linear(neurons_per_layer, output_dim))\n",
    "        self.model = nn.Sequential(*layers) # Unpacking the array here as sequential takes input one by one\n",
    "\n",
    "    def forward(self, x):\n",
    "        return self.model(x)"
   ],
   "id": "87897071987e51a",
   "outputs": [],
   "execution_count": 9
  },
  {
   "metadata": {
    "ExecuteTime": {
     "end_time": "2025-07-07T15:11:35.410044Z",
     "start_time": "2025-07-07T15:11:35.401101Z"
    }
   },
   "cell_type": "code",
   "source": [
    "# Now we will make our example objective function\n",
    "# and will only focus on two things -\n",
    "## 1. Number of hidden layers\n",
    "## 2. Number of neurons per layer\n",
    "\n",
    "def objective(trial):\n",
    "    # next hyperparameter values from the search space\n",
    "    num_hidden_layers = trial.suggest_int(\"num_hidden_layers\", 1,5)\n",
    "    neurons_per_layer = trial.suggest_int(\"neurons_per_layer\", 8, 128, step=8)\n",
    "    epochs = trial.suggest_int(\"epochs\", 10, 50, step=10)\n",
    "    lr = trial.suggest_float(\"lr\", 1e-5, 1e-1, log=True) # The values will be in logarithmic scale\n",
    "    dropout_rate = trial.suggest_float(\"dropout\", 0.1, 0.5, step=0.1)\n",
    "    batch_size = trial.suggest_categorical(\"batch_size\", [16,32,64,128])\n",
    "    optimizer_name = trial.suggest_categorical(\"optimizer\", ['Adam', 'SGD', 'RMSprop'])\n",
    "    weight_decay = trial.suggest_float(\"weight_decay\", 1e-5, 1e-3, log=True)\n",
    "\n",
    "    # model init\n",
    "    input_dim = 784\n",
    "    output_dim = 10\n",
    "    train_loader = DataLoader(train_dataset, batch_size=batch_size, shuffle=True, pin_memory=True)\n",
    "    test_loader = DataLoader(test_dataset, batch_size=batch_size, shuffle=False, pin_memory=True)\n",
    "    model = MyNN(input_dim, output_dim, num_hidden_layers, neurons_per_layer, dropout_rate)\n",
    "    model.to(device)\n",
    "\n",
    "    # optimizer selection\n",
    "    criterion = nn.CrossEntropyLoss()\n",
    "    if optimizer_name == 'Adam':\n",
    "        optimizer = optim.Adam(model.parameters(), lr=lr, weight_decay=weight_decay)\n",
    "    elif optimizer_name == 'SGD':\n",
    "        optimizer = optim.SGD(model.parameters(), lr=lr, weight_decay=weight_decay)\n",
    "    else:\n",
    "        optimizer = optim.RMSprop(model.parameters(), lr=lr, weight_decay=weight_decay)\n",
    "\n",
    "    # training loop - We will not print values of loss here\n",
    "    model.train()\n",
    "    for epoch in range(epochs):\n",
    "        for batch_features, batch_labels in train_loader:\n",
    "            batch_features, batch_labels = batch_features.to(device), batch_labels.to(device)\n",
    "            outputs = model(batch_features) # Forward pass\n",
    "            loss = criterion(outputs, batch_labels)\n",
    "            # back pass\n",
    "            optimizer.zero_grad()\n",
    "            loss.backward()\n",
    "            # update grads\n",
    "            optimizer.step()\n",
    "\n",
    "    # evaluation\n",
    "    model.eval()\n",
    "    total, correct = 0, 0\n",
    "    with torch.no_grad():\n",
    "        for batch_features, batch_labels in test_loader:\n",
    "            batch_features, batch_labels = batch_features.to(device), batch_labels.to(device)\n",
    "            outputs = model(batch_features)\n",
    "            _, predicted = torch.max(outputs, 1)\n",
    "            total += batch_labels.shape[0]\n",
    "            correct = correct + (predicted == batch_labels).sum().item()\n",
    "        accuracy = correct/total\n",
    "    return accuracy"
   ],
   "id": "a4e3b36384b136da",
   "outputs": [],
   "execution_count": 10
  },
  {
   "metadata": {
    "ExecuteTime": {
     "end_time": "2025-07-07T15:12:02.609643Z",
     "start_time": "2025-07-07T15:12:02.468688Z"
    }
   },
   "cell_type": "code",
   "source": [
    "import optuna\n",
    "\n",
    "study = optuna.create_study(direction='maximize')"
   ],
   "id": "edf3c65ffabb8d7",
   "outputs": [
    {
     "name": "stderr",
     "output_type": "stream",
     "text": [
      "[I 2025-07-07 20:42:02,607] A new study created in memory with name: no-name-01d1e774-3b13-426e-a4e6-6cef166a8263\n"
     ]
    }
   ],
   "execution_count": 11
  },
  {
   "metadata": {
    "ExecuteTime": {
     "end_time": "2025-07-07T15:29:15.107904Z",
     "start_time": "2025-07-07T15:12:03.688029Z"
    }
   },
   "cell_type": "code",
   "source": "study.optimize(objective, n_trials=10)",
   "id": "683fda433e6b1d51",
   "outputs": [
    {
     "name": "stderr",
     "output_type": "stream",
     "text": [
      "[I 2025-07-07 20:42:29,247] Trial 0 finished with value: 0.8781666666666667 and parameters: {'num_hidden_layers': 5, 'neurons_per_layer': 112, 'epochs': 10, 'lr': 0.00023473466577846877, 'dropout': 0.30000000000000004, 'batch_size': 128, 'optimizer': 'RMSprop', 'weight_decay': 3.8709483389315404e-05}. Best is trial 0 with value: 0.8781666666666667.\n",
      "[I 2025-07-07 20:43:19,660] Trial 1 finished with value: 0.8655833333333334 and parameters: {'num_hidden_layers': 3, 'neurons_per_layer': 32, 'epochs': 30, 'lr': 0.0006317252980147981, 'dropout': 0.30000000000000004, 'batch_size': 128, 'optimizer': 'RMSprop', 'weight_decay': 5.373048924186291e-05}. Best is trial 0 with value: 0.8781666666666667.\n",
      "[I 2025-07-07 20:44:20,216] Trial 2 finished with value: 0.8813333333333333 and parameters: {'num_hidden_layers': 4, 'neurons_per_layer': 112, 'epochs': 30, 'lr': 0.00013226849854707735, 'dropout': 0.2, 'batch_size': 128, 'optimizer': 'RMSprop', 'weight_decay': 0.0001327606301060182}. Best is trial 2 with value: 0.8813333333333333.\n",
      "[I 2025-07-07 20:45:49,223] Trial 3 finished with value: 0.7478333333333333 and parameters: {'num_hidden_layers': 5, 'neurons_per_layer': 120, 'epochs': 30, 'lr': 0.0009345983921299469, 'dropout': 0.5, 'batch_size': 32, 'optimizer': 'SGD', 'weight_decay': 0.00010669007862008184}. Best is trial 2 with value: 0.8813333333333333.\n",
      "[I 2025-07-07 20:46:36,717] Trial 4 finished with value: 0.7623333333333333 and parameters: {'num_hidden_layers': 1, 'neurons_per_layer': 40, 'epochs': 10, 'lr': 0.01688791644276845, 'dropout': 0.5, 'batch_size': 16, 'optimizer': 'Adam', 'weight_decay': 0.0005865757174606408}. Best is trial 2 with value: 0.8813333333333333.\n",
      "[I 2025-07-07 20:47:46,593] Trial 5 finished with value: 0.8066666666666666 and parameters: {'num_hidden_layers': 3, 'neurons_per_layer': 8, 'epochs': 30, 'lr': 0.004323400413201414, 'dropout': 0.1, 'batch_size': 32, 'optimizer': 'RMSprop', 'weight_decay': 0.00046058054648758764}. Best is trial 2 with value: 0.8813333333333333.\n",
      "[I 2025-07-07 20:51:26,705] Trial 6 finished with value: 0.7883333333333333 and parameters: {'num_hidden_layers': 4, 'neurons_per_layer': 32, 'epochs': 40, 'lr': 0.0007533117076165769, 'dropout': 0.4, 'batch_size': 16, 'optimizer': 'SGD', 'weight_decay': 3.0517084585443338e-05}. Best is trial 2 with value: 0.8813333333333333.\n",
      "[I 2025-07-07 20:52:09,309] Trial 7 finished with value: 0.7974166666666667 and parameters: {'num_hidden_layers': 2, 'neurons_per_layer': 48, 'epochs': 30, 'lr': 0.011249615182327847, 'dropout': 0.2, 'batch_size': 128, 'optimizer': 'Adam', 'weight_decay': 0.000417203286132726}. Best is trial 2 with value: 0.8813333333333333.\n",
      "[I 2025-07-07 20:53:46,475] Trial 8 finished with value: 0.8433333333333334 and parameters: {'num_hidden_layers': 2, 'neurons_per_layer': 56, 'epochs': 40, 'lr': 0.007854100321183888, 'dropout': 0.4, 'batch_size': 64, 'optimizer': 'Adam', 'weight_decay': 0.0001057068923436697}. Best is trial 2 with value: 0.8813333333333333.\n",
      "[I 2025-07-07 20:59:15,106] Trial 9 finished with value: 0.72175 and parameters: {'num_hidden_layers': 5, 'neurons_per_layer': 128, 'epochs': 50, 'lr': 0.0001323300189010006, 'dropout': 0.5, 'batch_size': 16, 'optimizer': 'SGD', 'weight_decay': 3.882100592675259e-05}. Best is trial 2 with value: 0.8813333333333333.\n"
     ]
    }
   ],
   "execution_count": 12
  },
  {
   "metadata": {
    "ExecuteTime": {
     "end_time": "2025-07-07T15:29:15.169825Z",
     "start_time": "2025-07-07T15:29:15.165890Z"
    }
   },
   "cell_type": "code",
   "source": "study.best_value",
   "id": "f152adbedf0f09b",
   "outputs": [
    {
     "data": {
      "text/plain": [
       "0.8813333333333333"
      ]
     },
     "execution_count": 13,
     "metadata": {},
     "output_type": "execute_result"
    }
   ],
   "execution_count": 13
  },
  {
   "metadata": {
    "ExecuteTime": {
     "end_time": "2025-07-07T15:29:15.224098Z",
     "start_time": "2025-07-07T15:29:15.219233Z"
    }
   },
   "cell_type": "code",
   "source": "study.best_params",
   "id": "f602e811e5755319",
   "outputs": [
    {
     "data": {
      "text/plain": [
       "{'num_hidden_layers': 4,\n",
       " 'neurons_per_layer': 112,\n",
       " 'epochs': 30,\n",
       " 'lr': 0.00013226849854707735,\n",
       " 'dropout': 0.2,\n",
       " 'batch_size': 128,\n",
       " 'optimizer': 'RMSprop',\n",
       " 'weight_decay': 0.0001327606301060182}"
      ]
     },
     "execution_count": 14,
     "metadata": {},
     "output_type": "execute_result"
    }
   ],
   "execution_count": 14
  }
 ],
 "metadata": {},
 "nbformat": 4,
 "nbformat_minor": 5
}
