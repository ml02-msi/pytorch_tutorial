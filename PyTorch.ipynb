{
 "cells": [
  {
   "metadata": {
    "ExecuteTime": {
     "end_time": "2025-06-04T08:14:29.196395Z",
     "start_time": "2025-06-04T08:14:29.053380Z"
    }
   },
   "cell_type": "code",
   "source": "!which python3",
   "id": "63c1774c1cc446f2",
   "outputs": [
    {
     "name": "stdout",
     "output_type": "stream",
     "text": [
      "/home/ml02/Downloads/PyTorch/PyTorch/bin/python3\r\n"
     ]
    }
   ],
   "execution_count": 2
  },
  {
   "metadata": {
    "ExecuteTime": {
     "end_time": "2025-06-04T08:15:50.121312Z",
     "start_time": "2025-06-04T08:15:50.000341Z"
    }
   },
   "cell_type": "code",
   "source": "!python3 --version",
   "id": "3c91d5f6a13fe36",
   "outputs": [
    {
     "name": "stdout",
     "output_type": "stream",
     "text": [
      "Python 3.10.12\r\n"
     ]
    }
   ],
   "execution_count": 4
  },
  {
   "metadata": {
    "ExecuteTime": {
     "end_time": "2025-06-04T08:14:26.567449Z",
     "start_time": "2025-06-04T08:14:26.557119Z"
    }
   },
   "cell_type": "code",
   "source": "import os",
   "id": "ba84a40f09eca9e6",
   "outputs": [],
   "execution_count": 1
  },
  {
   "metadata": {
    "ExecuteTime": {
     "end_time": "2025-06-04T08:16:16.902823Z",
     "start_time": "2025-06-04T08:16:10.204938Z"
    }
   },
   "cell_type": "code",
   "source": "import torch",
   "id": "934b5759cb7712a0",
   "outputs": [],
   "execution_count": 5
  },
  {
   "metadata": {
    "ExecuteTime": {
     "end_time": "2025-06-04T08:16:19.329386Z",
     "start_time": "2025-06-04T08:16:19.253717Z"
    }
   },
   "cell_type": "code",
   "source": "print(torch.cuda.is_available())",
   "id": "6f78b7638e87b7c",
   "outputs": [
    {
     "name": "stdout",
     "output_type": "stream",
     "text": [
      "True\n"
     ]
    }
   ],
   "execution_count": 6
  },
  {
   "metadata": {
    "ExecuteTime": {
     "end_time": "2025-06-04T08:16:43.390020Z",
     "start_time": "2025-06-04T08:16:43.379332Z"
    }
   },
   "cell_type": "code",
   "source": [
    "x = torch.rand(5, 3)\n",
    "print(x)"
   ],
   "id": "ee12324fc89137d7",
   "outputs": [
    {
     "name": "stdout",
     "output_type": "stream",
     "text": [
      "tensor([[7.9553e-01, 8.8821e-01, 6.2842e-01],\n",
      "        [6.3148e-01, 8.8429e-04, 3.0355e-01],\n",
      "        [3.4025e-01, 7.5899e-01, 4.5442e-02],\n",
      "        [3.2514e-01, 8.8553e-02, 9.0668e-01],\n",
      "        [3.4949e-01, 8.3783e-01, 4.3968e-01]])\n"
     ]
    }
   ],
   "execution_count": 7
  },
  {
   "metadata": {
    "ExecuteTime": {
     "end_time": "2025-06-04T08:17:43.509443Z",
     "start_time": "2025-06-04T08:17:43.506980Z"
    }
   },
   "cell_type": "code",
   "source": "print(torch.__version__)",
   "id": "37ced9ffe029d5d3",
   "outputs": [
    {
     "name": "stdout",
     "output_type": "stream",
     "text": [
      "2.5.1+cu121\n"
     ]
    }
   ],
   "execution_count": 8
  },
  {
   "metadata": {
    "ExecuteTime": {
     "end_time": "2025-06-04T08:23:30.337450Z",
     "start_time": "2025-06-04T08:23:30.316172Z"
    }
   },
   "cell_type": "code",
   "source": "print(torch.cuda.get_device_name(0))",
   "id": "349ee048677af568",
   "outputs": [
    {
     "name": "stdout",
     "output_type": "stream",
     "text": [
      "NVIDIA GeForce RTX 4060 Laptop GPU\n"
     ]
    }
   ],
   "execution_count": 9
  },
  {
   "metadata": {
    "ExecuteTime": {
     "end_time": "2025-06-04T08:36:39.783140Z",
     "start_time": "2025-06-04T08:36:39.776568Z"
    }
   },
   "cell_type": "code",
   "source": [
    "# TO create an empty tensor\n",
    "\n",
    "torch.empty(2,3)"
   ],
   "id": "6317a5812f7fd447",
   "outputs": [
    {
     "data": {
      "text/plain": [
       "tensor([[-4.1924e-19,  3.5632e-41, -3.0557e-28],\n",
       "        [ 4.5549e-41,  8.9683e-44,  0.0000e+00]])"
      ]
     },
     "execution_count": 58,
     "metadata": {},
     "output_type": "execute_result"
    }
   ],
   "execution_count": 58
  },
  {
   "metadata": {
    "ExecuteTime": {
     "end_time": "2025-06-04T08:25:53.370199Z",
     "start_time": "2025-06-04T08:25:53.365355Z"
    }
   },
   "cell_type": "code",
   "source": "type(torch.empty(2,3))",
   "id": "d4ff631a217509eb",
   "outputs": [
    {
     "data": {
      "text/plain": [
       "torch.Tensor"
      ]
     },
     "execution_count": 11,
     "metadata": {},
     "output_type": "execute_result"
    }
   ],
   "execution_count": 11
  },
  {
   "metadata": {
    "ExecuteTime": {
     "end_time": "2025-06-04T11:04:33.555593Z",
     "start_time": "2025-06-04T11:04:33.551592Z"
    }
   },
   "cell_type": "code",
   "source": "torch.empty(2,3)",
   "id": "81561249ee61bfbb",
   "outputs": [
    {
     "data": {
      "text/plain": [
       "tensor([[-3.0899e-19,  3.5632e-41, -4.3474e-19],\n",
       "        [ 3.5632e-41,  1.1210e-43,  0.0000e+00]])"
      ]
     },
     "execution_count": 62,
     "metadata": {},
     "output_type": "execute_result"
    }
   ],
   "execution_count": 62
  },
  {
   "metadata": {
    "ExecuteTime": {
     "end_time": "2025-06-04T08:26:35.038133Z",
     "start_time": "2025-06-04T08:26:35.032872Z"
    }
   },
   "cell_type": "code",
   "source": "torch.zeros(2,3)",
   "id": "54a1617d433895b",
   "outputs": [
    {
     "data": {
      "text/plain": [
       "tensor([[0., 0., 0.],\n",
       "        [0., 0., 0.]])"
      ]
     },
     "execution_count": 13,
     "metadata": {},
     "output_type": "execute_result"
    }
   ],
   "execution_count": 13
  },
  {
   "metadata": {
    "ExecuteTime": {
     "end_time": "2025-06-04T08:26:46.680986Z",
     "start_time": "2025-06-04T08:26:46.675668Z"
    }
   },
   "cell_type": "code",
   "source": "torch.ones(2,3)",
   "id": "c1cac3fccead2c66",
   "outputs": [
    {
     "data": {
      "text/plain": [
       "tensor([[1., 1., 1.],\n",
       "        [1., 1., 1.]])"
      ]
     },
     "execution_count": 14,
     "metadata": {},
     "output_type": "execute_result"
    }
   ],
   "execution_count": 14
  },
  {
   "metadata": {
    "ExecuteTime": {
     "end_time": "2025-06-04T08:26:58.105418Z",
     "start_time": "2025-06-04T08:26:58.090385Z"
    }
   },
   "cell_type": "code",
   "source": "torch.rand(2,3)",
   "id": "78fbd6d42a42d823",
   "outputs": [
    {
     "data": {
      "text/plain": [
       "tensor([[0.4148, 0.1425, 0.2925],\n",
       "        [0.8256, 0.6557, 0.1438]])"
      ]
     },
     "execution_count": 15,
     "metadata": {},
     "output_type": "execute_result"
    }
   ],
   "execution_count": 15
  },
  {
   "metadata": {
    "ExecuteTime": {
     "end_time": "2025-06-04T08:30:04.144764Z",
     "start_time": "2025-06-04T08:30:04.128153Z"
    }
   },
   "cell_type": "code",
   "source": [
    "torch.manual_seed(42)\n",
    "torch.rand(2,3)"
   ],
   "id": "edfa1d1a0669cff7",
   "outputs": [
    {
     "data": {
      "text/plain": [
       "tensor([[0.8823, 0.9150, 0.3829],\n",
       "        [0.9593, 0.3904, 0.6009]])"
      ]
     },
     "execution_count": 25,
     "metadata": {},
     "output_type": "execute_result"
    }
   ],
   "execution_count": 25
  },
  {
   "metadata": {
    "ExecuteTime": {
     "end_time": "2025-06-04T08:30:06.099547Z",
     "start_time": "2025-06-04T08:30:06.093393Z"
    }
   },
   "cell_type": "code",
   "source": "torch.rand(2,3)",
   "id": "9812194369ceace8",
   "outputs": [
    {
     "data": {
      "text/plain": [
       "tensor([[0.2566, 0.7936, 0.9408],\n",
       "        [0.1332, 0.9346, 0.5936]])"
      ]
     },
     "execution_count": 26,
     "metadata": {},
     "output_type": "execute_result"
    }
   ],
   "execution_count": 26
  },
  {
   "metadata": {
    "ExecuteTime": {
     "end_time": "2025-06-04T08:28:20.072044Z",
     "start_time": "2025-06-04T08:28:20.065169Z"
    }
   },
   "cell_type": "code",
   "source": "torch.tensor([1,2,3,4])",
   "id": "dddea0e1f0251706",
   "outputs": [
    {
     "data": {
      "text/plain": [
       "tensor([1, 2, 3, 4])"
      ]
     },
     "execution_count": 20,
     "metadata": {},
     "output_type": "execute_result"
    }
   ],
   "execution_count": 20
  },
  {
   "metadata": {
    "ExecuteTime": {
     "end_time": "2025-06-04T08:30:28.809948Z",
     "start_time": "2025-06-04T08:30:28.802141Z"
    }
   },
   "cell_type": "code",
   "source": "torch.arange(0,10,2)",
   "id": "9e72c65f19dcd977",
   "outputs": [
    {
     "data": {
      "text/plain": [
       "tensor([0, 2, 4, 6, 8])"
      ]
     },
     "execution_count": 27,
     "metadata": {},
     "output_type": "execute_result"
    }
   ],
   "execution_count": 27
  },
  {
   "metadata": {
    "ExecuteTime": {
     "end_time": "2025-06-04T08:30:42.052108Z",
     "start_time": "2025-06-04T08:30:42.043587Z"
    }
   },
   "cell_type": "code",
   "source": "torch.linspace(0,10,10) # Same linearly separated points b/w a range inclusive",
   "id": "9efeb29b0068dd48",
   "outputs": [
    {
     "data": {
      "text/plain": [
       "tensor([ 0.0000,  1.1111,  2.2222,  3.3333,  4.4444,  5.5556,  6.6667,  7.7778,\n",
       "         8.8889, 10.0000])"
      ]
     },
     "execution_count": 29,
     "metadata": {},
     "output_type": "execute_result"
    }
   ],
   "execution_count": 29
  },
  {
   "metadata": {
    "ExecuteTime": {
     "end_time": "2025-06-04T08:31:30.957645Z",
     "start_time": "2025-06-04T08:31:30.953940Z"
    }
   },
   "cell_type": "code",
   "source": "torch.eye(3) #identity tensor",
   "id": "6c139789124277a3",
   "outputs": [
    {
     "data": {
      "text/plain": [
       "tensor([[1., 0., 0.],\n",
       "        [0., 1., 0.],\n",
       "        [0., 0., 1.]])"
      ]
     },
     "execution_count": 30,
     "metadata": {},
     "output_type": "execute_result"
    }
   ],
   "execution_count": 30
  },
  {
   "metadata": {
    "ExecuteTime": {
     "end_time": "2025-06-04T08:32:41.705445Z",
     "start_time": "2025-06-04T08:32:41.697381Z"
    }
   },
   "cell_type": "code",
   "source": "torch.full((3,3),1) # Populates a given shape of tensor with a particular value",
   "id": "465f32cea4fc199c",
   "outputs": [
    {
     "data": {
      "text/plain": [
       "tensor([[1, 1, 1],\n",
       "        [1, 1, 1],\n",
       "        [1, 1, 1]])"
      ]
     },
     "execution_count": 32,
     "metadata": {},
     "output_type": "execute_result"
    }
   ],
   "execution_count": 32
  },
  {
   "metadata": {
    "ExecuteTime": {
     "end_time": "2025-06-04T08:33:49.030387Z",
     "start_time": "2025-06-04T08:33:49.026702Z"
    }
   },
   "cell_type": "code",
   "source": [
    "# tensor shapes\n",
    "\n",
    "x = torch.tensor([[[1,2,3,]]])\n",
    "print(x.shape)"
   ],
   "id": "dc45538eadf27d32",
   "outputs": [
    {
     "name": "stdout",
     "output_type": "stream",
     "text": [
      "torch.Size([1, 1, 3])\n"
     ]
    }
   ],
   "execution_count": 35
  },
  {
   "metadata": {
    "ExecuteTime": {
     "end_time": "2025-06-04T08:36:13.539392Z",
     "start_time": "2025-06-04T08:36:13.533426Z"
    }
   },
   "cell_type": "code",
   "source": [
    "# To create a empty tensor with a particular shape\n",
    "\n",
    "torch.empty_like(x)"
   ],
   "id": "d120a926d017e6f0",
   "outputs": [
    {
     "data": {
      "text/plain": [
       "tensor([[[139610357345664, 109215129354192, 139605924031472]]])"
      ]
     },
     "execution_count": 49,
     "metadata": {},
     "output_type": "execute_result"
    }
   ],
   "execution_count": 49
  },
  {
   "metadata": {
    "ExecuteTime": {
     "end_time": "2025-06-04T14:08:11.537296Z",
     "start_time": "2025-06-04T14:08:11.376435Z"
    }
   },
   "cell_type": "code",
   "source": "torch.zeros_like(x)",
   "id": "89674ecbecddfe20",
   "outputs": [
    {
     "data": {
      "text/plain": [
       "tensor([[[0, 0, 0]]])"
      ]
     },
     "execution_count": 63,
     "metadata": {},
     "output_type": "execute_result"
    }
   ],
   "execution_count": 63
  },
  {
   "metadata": {
    "ExecuteTime": {
     "end_time": "2025-06-04T14:08:47.398420Z",
     "start_time": "2025-06-04T14:08:47.386505Z"
    }
   },
   "cell_type": "code",
   "source": "torch.ones_like(x)",
   "id": "952f4f3fc18adff7",
   "outputs": [
    {
     "data": {
      "text/plain": [
       "tensor([[[1, 1, 1]]])"
      ]
     },
     "execution_count": 64,
     "metadata": {},
     "output_type": "execute_result"
    }
   ],
   "execution_count": 64
  },
  {
   "metadata": {
    "ExecuteTime": {
     "end_time": "2025-06-04T14:10:51.433771Z",
     "start_time": "2025-06-04T14:10:51.415382Z"
    }
   },
   "cell_type": "code",
   "source": "torch.rand_like(x) # TO generate this we have to implicitly declare the data type (here float as rand generates float)",
   "id": "52141443b9e47a8f",
   "outputs": [
    {
     "ename": "RuntimeError",
     "evalue": "\"check_uniform_bounds\" not implemented for 'Long'",
     "output_type": "error",
     "traceback": [
      "\u001B[0;31m---------------------------------------------------------------------------\u001B[0m",
      "\u001B[0;31mRuntimeError\u001B[0m                              Traceback (most recent call last)",
      "Cell \u001B[0;32mIn[66], line 1\u001B[0m\n\u001B[0;32m----> 1\u001B[0m \u001B[43mtorch\u001B[49m\u001B[38;5;241;43m.\u001B[39;49m\u001B[43mrand_like\u001B[49m\u001B[43m(\u001B[49m\u001B[43mx\u001B[49m\u001B[43m)\u001B[49m \u001B[38;5;66;03m# TO generate this we have to implicitly declare the data type (here float as rand generates float)\u001B[39;00m\n",
      "\u001B[0;31mRuntimeError\u001B[0m: \"check_uniform_bounds\" not implemented for 'Long'"
     ]
    }
   ],
   "execution_count": 66
  },
  {
   "metadata": {
    "ExecuteTime": {
     "end_time": "2025-06-04T14:12:06.476990Z",
     "start_time": "2025-06-04T14:12:06.470157Z"
    }
   },
   "cell_type": "code",
   "source": "x.dtype",
   "id": "3de52d5b6b389672",
   "outputs": [
    {
     "data": {
      "text/plain": [
       "torch.int64"
      ]
     },
     "execution_count": 67,
     "metadata": {},
     "output_type": "execute_result"
    }
   ],
   "execution_count": 67
  },
  {
   "metadata": {
    "ExecuteTime": {
     "end_time": "2025-06-04T14:17:36.356983Z",
     "start_time": "2025-06-04T14:17:36.348427Z"
    }
   },
   "cell_type": "code",
   "source": "torch.tensor([1,2,3,4],dtype=torch.uint8)",
   "id": "56106cf48ee20671",
   "outputs": [
    {
     "data": {
      "text/plain": [
       "tensor([1, 2, 3, 4], dtype=torch.uint8)"
      ]
     },
     "execution_count": 76,
     "metadata": {},
     "output_type": "execute_result"
    }
   ],
   "execution_count": 76
  },
  {
   "metadata": {
    "ExecuteTime": {
     "end_time": "2025-06-04T14:18:09.321419Z",
     "start_time": "2025-06-04T14:18:09.316765Z"
    }
   },
   "cell_type": "code",
   "source": [
    "x = torch.tensor([1.0, 2.0, 3.0, 4.0])\n",
    "x_quant = torch.quantize_per_tensor(x, scale=1.0, zero_point=0, dtype=torch.quint4x2)\n",
    "x_quant"
   ],
   "id": "62e952711d230270",
   "outputs": [
    {
     "data": {
      "text/plain": [
       "tensor([1., 2., 3., 4.], size=(4,), dtype=torch.quint4x2,\n",
       "       quantization_scheme=torch.per_tensor_affine, scale=1.0, zero_point=0)"
      ]
     },
     "execution_count": 79,
     "metadata": {},
     "output_type": "execute_result"
    }
   ],
   "execution_count": 79
  },
  {
   "metadata": {
    "ExecuteTime": {
     "end_time": "2025-06-04T14:20:12.402935Z",
     "start_time": "2025-06-04T14:20:12.384701Z"
    }
   },
   "cell_type": "code",
   "source": "torch.tensor([1,2,3,4],dtype=torch.cuda.IntTensor)",
   "id": "8950120126883b7b",
   "outputs": [
    {
     "ename": "TypeError",
     "evalue": "tensor(): argument 'dtype' must be torch.dtype, not torch.tensortype",
     "output_type": "error",
     "traceback": [
      "\u001B[0;31m---------------------------------------------------------------------------\u001B[0m",
      "\u001B[0;31mTypeError\u001B[0m                                 Traceback (most recent call last)",
      "Cell \u001B[0;32mIn[80], line 1\u001B[0m\n\u001B[0;32m----> 1\u001B[0m \u001B[43mtorch\u001B[49m\u001B[38;5;241;43m.\u001B[39;49m\u001B[43mtensor\u001B[49m\u001B[43m(\u001B[49m\u001B[43m[\u001B[49m\u001B[38;5;241;43m1\u001B[39;49m\u001B[43m,\u001B[49m\u001B[38;5;241;43m2\u001B[39;49m\u001B[43m,\u001B[49m\u001B[38;5;241;43m3\u001B[39;49m\u001B[43m,\u001B[49m\u001B[38;5;241;43m4\u001B[39;49m\u001B[43m]\u001B[49m\u001B[43m,\u001B[49m\u001B[43mdtype\u001B[49m\u001B[38;5;241;43m=\u001B[39;49m\u001B[43mtorch\u001B[49m\u001B[38;5;241;43m.\u001B[39;49m\u001B[43mcuda\u001B[49m\u001B[38;5;241;43m.\u001B[39;49m\u001B[43mIntTensor\u001B[49m\u001B[43m)\u001B[49m\n",
      "\u001B[0;31mTypeError\u001B[0m: tensor(): argument 'dtype' must be torch.dtype, not torch.tensortype"
     ]
    }
   ],
   "execution_count": 80
  },
  {
   "metadata": {
    "ExecuteTime": {
     "end_time": "2025-06-04T14:21:20.657866Z",
     "start_time": "2025-06-04T14:21:20.651723Z"
    }
   },
   "cell_type": "code",
   "source": [
    "x = torch.tensor([1, 2, 3, 4])\n",
    "print(x.device)  # Output: cpu\n"
   ],
   "id": "25863db0abeabf78",
   "outputs": [
    {
     "name": "stdout",
     "output_type": "stream",
     "text": [
      "cpu\n"
     ]
    }
   ],
   "execution_count": 81
  },
  {
   "metadata": {
    "ExecuteTime": {
     "end_time": "2025-06-04T14:21:29.233774Z",
     "start_time": "2025-06-04T14:21:28.913593Z"
    }
   },
   "cell_type": "code",
   "source": [
    "x = torch.tensor([1, 2, 3, 4], device='cuda')  # Goes to GPU\n",
    "print(x.device)  # Output: cuda:0\n"
   ],
   "id": "91f429a5a1262656",
   "outputs": [
    {
     "name": "stdout",
     "output_type": "stream",
     "text": [
      "cuda:0\n"
     ]
    }
   ],
   "execution_count": 82
  },
  {
   "metadata": {
    "ExecuteTime": {
     "end_time": "2025-06-04T14:21:42.980658Z",
     "start_time": "2025-06-04T14:21:42.974061Z"
    }
   },
   "cell_type": "code",
   "source": [
    "x = torch.tensor([1, 2, 3, 4])\n",
    "x = x.to('cuda')\n",
    "x.device"
   ],
   "id": "639101e321c63a0e",
   "outputs": [
    {
     "data": {
      "text/plain": [
       "device(type='cuda', index=0)"
      ]
     },
     "execution_count": 84,
     "metadata": {},
     "output_type": "execute_result"
    }
   ],
   "execution_count": 84
  },
  {
   "metadata": {
    "ExecuteTime": {
     "end_time": "2025-06-04T14:23:45.644648Z",
     "start_time": "2025-06-04T14:23:45.637965Z"
    }
   },
   "cell_type": "code",
   "source": "x = torch.cuda.FloatTensor(3, 2)  # 3x2 float tensor on GPU with uninitialized values\n",
   "id": "fd0ab0d2c4db99b4",
   "outputs": [
    {
     "name": "stderr",
     "output_type": "stream",
     "text": [
      "/tmp/ipykernel_92562/956257627.py:1: UserWarning: The torch.cuda.*DtypeTensor constructors are no longer recommended. It's best to use methods such as torch.tensor(data, dtype=*, device='cuda') to create tensors. (Triggered internally at ../torch/csrc/tensor/python_tensor.cpp:78.)\n",
      "  x = torch.cuda.FloatTensor(3, 2)  # 3x2 float tensor on GPU with uninitialized values\n"
     ]
    }
   ],
   "execution_count": 85
  },
  {
   "metadata": {
    "ExecuteTime": {
     "end_time": "2025-06-04T14:31:14.783572Z",
     "start_time": "2025-06-04T14:31:14.778725Z"
    }
   },
   "cell_type": "code",
   "source": [
    "x = torch.tensor([[1,2,3],[2,3,4]], dtype=torch.float64)\n",
    "x"
   ],
   "id": "de427d848a5da637",
   "outputs": [
    {
     "data": {
      "text/plain": [
       "tensor([[1., 2., 3.],\n",
       "        [2., 3., 4.]], dtype=torch.float64)"
      ]
     },
     "execution_count": 104,
     "metadata": {},
     "output_type": "execute_result"
    }
   ],
   "execution_count": 104
  },
  {
   "metadata": {
    "ExecuteTime": {
     "end_time": "2025-06-04T14:31:16.091442Z",
     "start_time": "2025-06-04T14:31:16.087577Z"
    }
   },
   "cell_type": "code",
   "source": "x = x.to(torch.int)",
   "id": "a14fa9558f1e2d92",
   "outputs": [],
   "execution_count": 105
  },
  {
   "metadata": {
    "ExecuteTime": {
     "end_time": "2025-06-04T14:28:14.202407Z",
     "start_time": "2025-06-04T14:28:14.197873Z"
    }
   },
   "cell_type": "code",
   "source": "torch.rand_like(x, dtype=torch.float32)",
   "id": "4bd9f79e22691f61",
   "outputs": [
    {
     "data": {
      "text/plain": [
       "tensor([[0.2666, 0.6274, 0.2696],\n",
       "        [0.4414, 0.2969, 0.8317]])"
      ]
     },
     "execution_count": 93,
     "metadata": {},
     "output_type": "execute_result"
    }
   ],
   "execution_count": 93
  },
  {
   "metadata": {
    "ExecuteTime": {
     "end_time": "2025-06-04T14:33:06.941676Z",
     "start_time": "2025-06-04T14:33:06.938264Z"
    }
   },
   "cell_type": "code",
   "source": [
    "# Scalar operations\n",
    "print(x.dtype)\n",
    "\n",
    "print(x)"
   ],
   "id": "b0a071bb46e71991",
   "outputs": [
    {
     "name": "stdout",
     "output_type": "stream",
     "text": [
      "torch.int32\n",
      "tensor([[1, 2, 3],\n",
      "        [2, 3, 4]], dtype=torch.int32)\n"
     ]
    }
   ],
   "execution_count": 108
  },
  {
   "metadata": {
    "ExecuteTime": {
     "end_time": "2025-06-04T14:33:13.131712Z",
     "start_time": "2025-06-04T14:33:13.128427Z"
    }
   },
   "cell_type": "code",
   "source": [
    "print(x+2)\n",
    "\n",
    "print(x-2)"
   ],
   "id": "a2efc89378c0ce7c",
   "outputs": [
    {
     "name": "stdout",
     "output_type": "stream",
     "text": [
      "tensor([[3, 4, 5],\n",
      "        [4, 5, 6]], dtype=torch.int32)\n",
      "tensor([[-1,  0,  1],\n",
      "        [ 0,  1,  2]], dtype=torch.int32)\n"
     ]
    }
   ],
   "execution_count": 109
  },
  {
   "metadata": {
    "ExecuteTime": {
     "end_time": "2025-06-04T14:33:18.825077Z",
     "start_time": "2025-06-04T14:33:18.820771Z"
    }
   },
   "cell_type": "code",
   "source": [
    "print(x*2)\n",
    "\n",
    "print(x/2)"
   ],
   "id": "62d0a6bb11f2fa0a",
   "outputs": [
    {
     "name": "stdout",
     "output_type": "stream",
     "text": [
      "tensor([[2, 4, 6],\n",
      "        [4, 6, 8]], dtype=torch.int32)\n",
      "tensor([[0.5000, 1.0000, 1.5000],\n",
      "        [1.0000, 1.5000, 2.0000]])\n"
     ]
    }
   ],
   "execution_count": 110
  },
  {
   "metadata": {
    "ExecuteTime": {
     "end_time": "2025-06-04T14:33:25.091478Z",
     "start_time": "2025-06-04T14:33:25.088333Z"
    }
   },
   "cell_type": "code",
   "source": [
    "print((x*100)//2)\n",
    "\n",
    "print(((x*100)//3)%2)"
   ],
   "id": "44b479f8d3889274",
   "outputs": [
    {
     "name": "stdout",
     "output_type": "stream",
     "text": [
      "tensor([[ 50, 100, 150],\n",
      "        [100, 150, 200]], dtype=torch.int32)\n",
      "tensor([[1, 0, 0],\n",
      "        [0, 0, 1]], dtype=torch.int32)\n"
     ]
    }
   ],
   "execution_count": 111
  },
  {
   "metadata": {
    "ExecuteTime": {
     "end_time": "2025-06-04T14:33:27.162569Z",
     "start_time": "2025-06-04T14:33:27.158336Z"
    }
   },
   "cell_type": "code",
   "source": "print(x**2)",
   "id": "5203556916aa2f4c",
   "outputs": [
    {
     "name": "stdout",
     "output_type": "stream",
     "text": [
      "tensor([[ 1,  4,  9],\n",
      "        [ 4,  9, 16]], dtype=torch.int32)\n"
     ]
    }
   ],
   "execution_count": 112
  },
  {
   "metadata": {
    "ExecuteTime": {
     "end_time": "2025-06-04T14:36:40.442152Z",
     "start_time": "2025-06-04T14:36:40.437224Z"
    }
   },
   "cell_type": "code",
   "source": [
    "# Element Wise Ops\n",
    "\n",
    "x = torch.rand_like(x, dtype=torch.float32)\n",
    "y = torch.randn_like(x, dtype=torch.float32)\n",
    "\n",
    "print(x,y)"
   ],
   "id": "f52adddc63bd7f01",
   "outputs": [
    {
     "name": "stdout",
     "output_type": "stream",
     "text": [
      "tensor([[0.5315, 0.1587, 0.6542],\n",
      "        [0.3278, 0.6532, 0.3958]]) tensor([[-0.5687,  1.2580, -1.5890],\n",
      "        [-1.1208,  0.8423,  0.1744]])\n"
     ]
    }
   ],
   "execution_count": 120
  },
  {
   "metadata": {
    "ExecuteTime": {
     "end_time": "2025-06-04T14:36:43.076855Z",
     "start_time": "2025-06-04T14:36:43.071279Z"
    }
   },
   "cell_type": "code",
   "source": "x+y",
   "id": "553971717a12e66",
   "outputs": [
    {
     "data": {
      "text/plain": [
       "tensor([[-0.0372,  1.4167, -0.9348],\n",
       "        [-0.7930,  1.4955,  0.5702]])"
      ]
     },
     "execution_count": 121,
     "metadata": {},
     "output_type": "execute_result"
    }
   ],
   "execution_count": 121
  },
  {
   "metadata": {
    "ExecuteTime": {
     "end_time": "2025-06-04T14:36:58.100751Z",
     "start_time": "2025-06-04T14:36:58.093736Z"
    }
   },
   "cell_type": "code",
   "source": "x-y",
   "id": "3be73e816bcd0687",
   "outputs": [
    {
     "data": {
      "text/plain": [
       "tensor([[ 1.1001, -1.0993,  2.2431],\n",
       "        [ 1.4486, -0.1891,  0.2214]])"
      ]
     },
     "execution_count": 122,
     "metadata": {},
     "output_type": "execute_result"
    }
   ],
   "execution_count": 122
  },
  {
   "metadata": {
    "ExecuteTime": {
     "end_time": "2025-06-04T14:37:11.308706Z",
     "start_time": "2025-06-04T14:37:11.305384Z"
    }
   },
   "cell_type": "code",
   "source": "x*y",
   "id": "e7df569d3d8c703a",
   "outputs": [
    {
     "data": {
      "text/plain": [
       "tensor([[-0.3022,  0.1997, -1.0395],\n",
       "        [-0.3674,  0.5502,  0.0690]])"
      ]
     },
     "execution_count": 124,
     "metadata": {},
     "output_type": "execute_result"
    }
   ],
   "execution_count": 124
  },
  {
   "metadata": {
    "ExecuteTime": {
     "end_time": "2025-06-04T14:37:34.630654Z",
     "start_time": "2025-06-04T14:37:34.626927Z"
    }
   },
   "cell_type": "code",
   "source": "x/y",
   "id": "a390a40f68433e71",
   "outputs": [
    {
     "data": {
      "text/plain": [
       "tensor([[-0.9346,  0.1262, -0.4117],\n",
       "        [-0.2925,  0.7755,  2.2695]])"
      ]
     },
     "execution_count": 125,
     "metadata": {},
     "output_type": "execute_result"
    }
   ],
   "execution_count": 125
  },
  {
   "metadata": {
    "ExecuteTime": {
     "end_time": "2025-06-04T14:37:49.062302Z",
     "start_time": "2025-06-04T14:37:49.058636Z"
    }
   },
   "cell_type": "code",
   "source": "(x*100)//y",
   "id": "bfccaa6f0ea24158",
   "outputs": [
    {
     "data": {
      "text/plain": [
       "tensor([[-94.,  12., -42.],\n",
       "        [-30.,  77., 226.]])"
      ]
     },
     "execution_count": 127,
     "metadata": {},
     "output_type": "execute_result"
    }
   ],
   "execution_count": 127
  },
  {
   "metadata": {
    "ExecuteTime": {
     "end_time": "2025-06-04T14:38:00.452388Z",
     "start_time": "2025-06-04T14:38:00.446722Z"
    }
   },
   "cell_type": "code",
   "source": "x%y",
   "id": "5659db69632b84f9",
   "outputs": [
    {
     "data": {
      "text/plain": [
       "tensor([[-0.0372,  0.1587, -0.9348],\n",
       "        [-0.7930,  0.6532,  0.0470]])"
      ]
     },
     "execution_count": 128,
     "metadata": {},
     "output_type": "execute_result"
    }
   ],
   "execution_count": 128
  },
  {
   "metadata": {
    "ExecuteTime": {
     "end_time": "2025-06-04T14:38:35.793423Z",
     "start_time": "2025-06-04T14:38:35.786999Z"
    }
   },
   "cell_type": "code",
   "source": "torch.abs(x%y)",
   "id": "793c4a8f5f193d51",
   "outputs": [
    {
     "data": {
      "text/plain": [
       "tensor([[0.0372, 0.1587, 0.9348],\n",
       "        [0.7930, 0.6532, 0.0470]])"
      ]
     },
     "execution_count": 130,
     "metadata": {},
     "output_type": "execute_result"
    }
   ],
   "execution_count": 130
  },
  {
   "metadata": {
    "ExecuteTime": {
     "end_time": "2025-06-04T14:39:09.508178Z",
     "start_time": "2025-06-04T14:39:09.504365Z"
    }
   },
   "cell_type": "code",
   "source": "torch.round(torch.abs(x%y))",
   "id": "7e42c29f3cbcd0cc",
   "outputs": [
    {
     "data": {
      "text/plain": [
       "tensor([[0., 0., 1.],\n",
       "        [1., 1., 0.]])"
      ]
     },
     "execution_count": 134,
     "metadata": {},
     "output_type": "execute_result"
    }
   ],
   "execution_count": 134
  },
  {
   "metadata": {
    "ExecuteTime": {
     "end_time": "2025-06-04T14:39:18.719634Z",
     "start_time": "2025-06-04T14:39:18.715534Z"
    }
   },
   "cell_type": "code",
   "source": "torch.ceil(x%y)",
   "id": "66c0df03321fbac",
   "outputs": [
    {
     "data": {
      "text/plain": [
       "tensor([[-0., 1., -0.],\n",
       "        [-0., 1., 1.]])"
      ]
     },
     "execution_count": 135,
     "metadata": {},
     "output_type": "execute_result"
    }
   ],
   "execution_count": 135
  },
  {
   "metadata": {
    "ExecuteTime": {
     "end_time": "2025-06-04T14:39:25.466233Z",
     "start_time": "2025-06-04T14:39:25.460769Z"
    }
   },
   "cell_type": "code",
   "source": "torch.floor(x%y)",
   "id": "d0b2c18b44757131",
   "outputs": [
    {
     "data": {
      "text/plain": [
       "tensor([[-1.,  0., -1.],\n",
       "        [-1.,  0.,  0.]])"
      ]
     },
     "execution_count": 136,
     "metadata": {},
     "output_type": "execute_result"
    }
   ],
   "execution_count": 136
  },
  {
   "metadata": {
    "ExecuteTime": {
     "end_time": "2025-06-04T14:41:52.153991Z",
     "start_time": "2025-06-04T14:41:52.149613Z"
    }
   },
   "cell_type": "code",
   "source": "torch.clamp(x%y, min=-0.02, max=0.5)",
   "id": "e993c4a952d66bcc",
   "outputs": [
    {
     "data": {
      "text/plain": [
       "tensor([[-0.0200,  0.1587, -0.0200],\n",
       "        [-0.0200,  0.5000,  0.0470]])"
      ]
     },
     "execution_count": 142,
     "metadata": {},
     "output_type": "execute_result"
    }
   ],
   "execution_count": 142
  },
  {
   "metadata": {
    "ExecuteTime": {
     "end_time": "2025-06-04T14:43:40.266700Z",
     "start_time": "2025-06-04T14:43:40.263883Z"
    }
   },
   "cell_type": "code",
   "source": [
    "# Reduction op\n",
    "e = torch.randint(size = (2,3), low=5, high=10, device='cuda')\n",
    "print(e)"
   ],
   "id": "fb1bdb57f261ca25",
   "outputs": [
    {
     "name": "stdout",
     "output_type": "stream",
     "text": [
      "tensor([[8, 5, 8],\n",
      "        [8, 9, 9]], device='cuda:0')\n"
     ]
    }
   ],
   "execution_count": 145
  },
  {
   "metadata": {
    "ExecuteTime": {
     "end_time": "2025-06-04T14:44:11.285426Z",
     "start_time": "2025-06-04T14:44:11.160267Z"
    }
   },
   "cell_type": "code",
   "source": "torch.sum(e)",
   "id": "39906a6a389dd5ec",
   "outputs": [
    {
     "data": {
      "text/plain": [
       "tensor(47, device='cuda:0')"
      ]
     },
     "execution_count": 146,
     "metadata": {},
     "output_type": "execute_result"
    }
   ],
   "execution_count": 146
  },
  {
   "metadata": {
    "ExecuteTime": {
     "end_time": "2025-06-04T14:45:14.608417Z",
     "start_time": "2025-06-04T14:45:14.497578Z"
    }
   },
   "cell_type": "code",
   "source": [
    "print(torch.sum(e, dim=0)) # Sum along each column\n",
    "print(torch.sum(e, dim=1)) # Sum along each row"
   ],
   "id": "59b91e51d5a74a44",
   "outputs": [
    {
     "name": "stdout",
     "output_type": "stream",
     "text": [
      "tensor([16, 14, 17], device='cuda:0')\n",
      "tensor([21, 26], device='cuda:0')\n"
     ]
    }
   ],
   "execution_count": 147
  },
  {
   "metadata": {
    "ExecuteTime": {
     "end_time": "2025-06-04T14:46:54.962549Z",
     "start_time": "2025-06-04T14:46:54.957840Z"
    }
   },
   "cell_type": "code",
   "source": [
    "print(torch.mean(e, dtype = torch.float)) # Works with dtype = float\n",
    "print(torch.mean(e, dtype = torch.float, dim = 0))"
   ],
   "id": "767e19acdc7d4cc2",
   "outputs": [
    {
     "name": "stdout",
     "output_type": "stream",
     "text": [
      "tensor(7.8333, device='cuda:0')\n",
      "tensor([8.0000, 7.0000, 8.5000], device='cuda:0')\n"
     ]
    }
   ],
   "execution_count": 153
  },
  {
   "metadata": {
    "ExecuteTime": {
     "end_time": "2025-06-04T14:48:36.720494Z",
     "start_time": "2025-06-04T14:48:36.716121Z"
    }
   },
   "cell_type": "code",
   "source": "print(torch.median(e)) # Works with dtype = float",
   "id": "448cb86f150755bd",
   "outputs": [
    {
     "name": "stdout",
     "output_type": "stream",
     "text": [
      "tensor(8, device='cuda:0')\n"
     ]
    }
   ],
   "execution_count": 158
  },
  {
   "metadata": {
    "ExecuteTime": {
     "end_time": "2025-06-04T14:48:39.800006Z",
     "start_time": "2025-06-04T14:48:39.795378Z"
    }
   },
   "cell_type": "code",
   "source": "print(torch.median(e, dim = 0))",
   "id": "58e61166830a09eb",
   "outputs": [
    {
     "name": "stdout",
     "output_type": "stream",
     "text": [
      "torch.return_types.median(\n",
      "values=tensor([8, 5, 8], device='cuda:0'),\n",
      "indices=tensor([0, 0, 0], device='cuda:0'))\n"
     ]
    }
   ],
   "execution_count": 159
  },
  {
   "metadata": {
    "ExecuteTime": {
     "end_time": "2025-06-04T14:49:20.471489Z",
     "start_time": "2025-06-04T14:49:20.319514Z"
    }
   },
   "cell_type": "code",
   "source": [
    "print(torch.min(e)) # Works with dtype = float\n",
    "print(torch.max(e, dim = 0))"
   ],
   "id": "c1444f0d856c39c9",
   "outputs": [
    {
     "name": "stdout",
     "output_type": "stream",
     "text": [
      "tensor(5, device='cuda:0')\n",
      "torch.return_types.max(\n",
      "values=tensor([8, 9, 9], device='cuda:0'),\n",
      "indices=tensor([0, 1, 1], device='cuda:0'))\n"
     ]
    }
   ],
   "execution_count": 160
  },
  {
   "metadata": {
    "ExecuteTime": {
     "end_time": "2025-06-04T14:53:35.402255Z",
     "start_time": "2025-06-04T14:53:35.398594Z"
    }
   },
   "cell_type": "code",
   "source": [
    "# unpacking\n",
    "\n",
    "values, indices = torch.min(e, dim=0)\n",
    "\n",
    "print(f'The values are: {values}')\n",
    "print(f'The indices are: {indices}')"
   ],
   "id": "7e8fb9e2d1627397",
   "outputs": [
    {
     "name": "stdout",
     "output_type": "stream",
     "text": [
      "The values are: tensor([8, 5, 8], device='cuda:0')\n",
      "The indices are: tensor([0, 0, 0], device='cuda:0')\n"
     ]
    }
   ],
   "execution_count": 162
  },
  {
   "metadata": {
    "ExecuteTime": {
     "end_time": "2025-06-04T14:57:40.574535Z",
     "start_time": "2025-06-04T14:57:40.570821Z"
    }
   },
   "cell_type": "code",
   "source": [
    "# Variance\n",
    "## std and var only support floating point and complex dtypes\n",
    "torch.var(e.to(torch.float))"
   ],
   "id": "7484cae30418ce43",
   "outputs": [
    {
     "data": {
      "text/plain": [
       "tensor(2.1667, device='cuda:0')"
      ]
     },
     "execution_count": 170,
     "metadata": {},
     "output_type": "execute_result"
    }
   ],
   "execution_count": 170
  },
  {
   "metadata": {
    "ExecuteTime": {
     "end_time": "2025-06-04T14:58:07.014866Z",
     "start_time": "2025-06-04T14:58:06.907066Z"
    }
   },
   "cell_type": "code",
   "source": "torch.var(e.float())",
   "id": "f04abc2ff1111df8",
   "outputs": [
    {
     "data": {
      "text/plain": [
       "tensor(2.1667, device='cuda:0')"
      ]
     },
     "execution_count": 172,
     "metadata": {},
     "output_type": "execute_result"
    }
   ],
   "execution_count": 172
  },
  {
   "metadata": {
    "ExecuteTime": {
     "end_time": "2025-06-04T14:58:08.451248Z",
     "start_time": "2025-06-04T14:58:08.444867Z"
    }
   },
   "cell_type": "code",
   "source": "torch.var(e.float().cuda())",
   "id": "80a3660cce9df1e0",
   "outputs": [
    {
     "data": {
      "text/plain": [
       "tensor(2.1667, device='cuda:0')"
      ]
     },
     "execution_count": 173,
     "metadata": {},
     "output_type": "execute_result"
    }
   ],
   "execution_count": 173
  },
  {
   "metadata": {
    "ExecuteTime": {
     "end_time": "2025-06-04T14:58:10.075784Z",
     "start_time": "2025-06-04T14:58:10.071338Z"
    }
   },
   "cell_type": "code",
   "source": "torch.var(e.float().cpu())",
   "id": "254cc20d2b33b851",
   "outputs": [
    {
     "data": {
      "text/plain": [
       "tensor(2.1667)"
      ]
     },
     "execution_count": 174,
     "metadata": {},
     "output_type": "execute_result"
    }
   ],
   "execution_count": 174
  },
  {
   "metadata": {
    "ExecuteTime": {
     "end_time": "2025-06-04T14:59:29.982245Z",
     "start_time": "2025-06-04T14:59:29.866561Z"
    }
   },
   "cell_type": "code",
   "source": "e",
   "id": "a29936dc33df7838",
   "outputs": [
    {
     "data": {
      "text/plain": [
       "tensor([[8, 5, 8],\n",
       "        [8, 9, 9]], device='cuda:0')"
      ]
     },
     "execution_count": 177,
     "metadata": {},
     "output_type": "execute_result"
    }
   ],
   "execution_count": 177
  },
  {
   "metadata": {
    "ExecuteTime": {
     "end_time": "2025-06-04T14:59:03.116989Z",
     "start_time": "2025-06-04T14:59:02.997933Z"
    }
   },
   "cell_type": "code",
   "source": "torch.argmax(e) # Returns the pos of the maximum elem",
   "id": "13cce4f2183cea5b",
   "outputs": [
    {
     "data": {
      "text/plain": [
       "tensor(4, device='cuda:0')"
      ]
     },
     "execution_count": 175,
     "metadata": {},
     "output_type": "execute_result"
    }
   ],
   "execution_count": 175
  },
  {
   "metadata": {
    "ExecuteTime": {
     "end_time": "2025-06-04T14:59:09.391938Z",
     "start_time": "2025-06-04T14:59:09.380343Z"
    }
   },
   "cell_type": "code",
   "source": "torch.argmin(e)",
   "id": "d02497abbaede505",
   "outputs": [
    {
     "data": {
      "text/plain": [
       "tensor(1, device='cuda:0')"
      ]
     },
     "execution_count": 176,
     "metadata": {},
     "output_type": "execute_result"
    }
   ],
   "execution_count": 176
  },
  {
   "metadata": {
    "ExecuteTime": {
     "end_time": "2025-06-04T15:02:04.781168Z",
     "start_time": "2025-06-04T15:02:04.775809Z"
    }
   },
   "cell_type": "code",
   "source": [
    "# Matrix Multiplication\n",
    "print(x.shape)\n",
    "torch.matmul(x,y.view(3,2)) # Reshaping the y tensor so that mat mul can take place"
   ],
   "id": "5869bab807cc3d47",
   "outputs": [
    {
     "name": "stdout",
     "output_type": "stream",
     "text": [
      "torch.Size([2, 3])\n"
     ]
    },
    {
     "data": {
      "text/plain": [
       "tensor([[-0.0034,  0.6048],\n",
       "        [-0.8909, -0.2507]])"
      ]
     },
     "execution_count": 180,
     "metadata": {},
     "output_type": "execute_result"
    }
   ],
   "execution_count": 180
  },
  {
   "metadata": {
    "ExecuteTime": {
     "end_time": "2025-06-04T15:08:12.153511Z",
     "start_time": "2025-06-04T15:08:12.147392Z"
    }
   },
   "cell_type": "code",
   "source": "torch.dot(x.view(-1),y.view(-1))  # Squeezing both to 1D tensor",
   "id": "7b1f942273864c36",
   "outputs": [
    {
     "data": {
      "text/plain": [
       "tensor(-0.8902)"
      ]
     },
     "execution_count": 188,
     "metadata": {},
     "output_type": "execute_result"
    }
   ],
   "execution_count": 188
  },
  {
   "metadata": {
    "ExecuteTime": {
     "end_time": "2025-06-04T15:09:07.619896Z",
     "start_time": "2025-06-04T15:09:07.615799Z"
    }
   },
   "cell_type": "code",
   "source": "y",
   "id": "3456ce5a18cb5c8b",
   "outputs": [
    {
     "data": {
      "text/plain": [
       "tensor([[-0.5687,  1.2580, -1.5890],\n",
       "        [-1.1208,  0.8423,  0.1744]])"
      ]
     },
     "execution_count": 190,
     "metadata": {},
     "output_type": "execute_result"
    }
   ],
   "execution_count": 190
  },
  {
   "metadata": {
    "ExecuteTime": {
     "end_time": "2025-06-04T15:09:02.888916Z",
     "start_time": "2025-06-04T15:09:02.883916Z"
    }
   },
   "cell_type": "code",
   "source": "torch.transpose(y, 0, 1)",
   "id": "bacd9f5f9175d966",
   "outputs": [
    {
     "data": {
      "text/plain": [
       "tensor([[-0.5687, -1.1208],\n",
       "        [ 1.2580,  0.8423],\n",
       "        [-1.5890,  0.1744]])"
      ]
     },
     "execution_count": 189,
     "metadata": {},
     "output_type": "execute_result"
    }
   ],
   "execution_count": 189
  },
  {
   "metadata": {
    "ExecuteTime": {
     "end_time": "2025-06-04T15:09:27.547136Z",
     "start_time": "2025-06-04T15:09:27.542280Z"
    }
   },
   "cell_type": "code",
   "source": "torch.transpose(y, 1, 0)",
   "id": "bb42d9e0b9d68a29",
   "outputs": [
    {
     "data": {
      "text/plain": [
       "tensor([[-0.5687, -1.1208],\n",
       "        [ 1.2580,  0.8423],\n",
       "        [-1.5890,  0.1744]])"
      ]
     },
     "execution_count": 192,
     "metadata": {},
     "output_type": "execute_result"
    }
   ],
   "execution_count": 192
  },
  {
   "metadata": {
    "ExecuteTime": {
     "end_time": "2025-06-04T15:10:00.561476Z",
     "start_time": "2025-06-04T15:10:00.557929Z"
    }
   },
   "cell_type": "code",
   "source": "torch.unsqueeze(y, 1)",
   "id": "4f343addb74fa02d",
   "outputs": [
    {
     "data": {
      "text/plain": [
       "tensor([[[-0.5687,  1.2580, -1.5890]],\n",
       "\n",
       "        [[-1.1208,  0.8423,  0.1744]]])"
      ]
     },
     "execution_count": 193,
     "metadata": {},
     "output_type": "execute_result"
    }
   ],
   "execution_count": 193
  },
  {
   "metadata": {
    "ExecuteTime": {
     "end_time": "2025-06-04T15:11:36.667552Z",
     "start_time": "2025-06-04T15:11:36.664345Z"
    }
   },
   "cell_type": "code",
   "source": "x",
   "id": "e5e7fb98c74577e0",
   "outputs": [
    {
     "data": {
      "text/plain": [
       "tensor([[0.5315, 0.1587, 0.6542],\n",
       "        [0.3278, 0.6532, 0.3958]])"
      ]
     },
     "execution_count": 194,
     "metadata": {},
     "output_type": "execute_result"
    }
   ],
   "execution_count": 194
  },
  {
   "metadata": {
    "ExecuteTime": {
     "end_time": "2025-06-04T15:11:55.745910Z",
     "start_time": "2025-06-04T15:11:55.742674Z"
    }
   },
   "cell_type": "code",
   "source": [
    "# Create 1x3 row of random numbers (same dtype and device as x)\n",
    "rand_row = torch.randn(1, 3, dtype=x.dtype, device=x.device)\n",
    "\n",
    "print(rand_row)\n",
    "\n",
    "# Concatenate along the row axis (dim=0)\n",
    "x_3x3 = torch.cat((x, rand_row), dim=0)\n",
    "\n",
    "print(x_3x3)\n"
   ],
   "id": "bdcfb49299986d01",
   "outputs": [
    {
     "name": "stdout",
     "output_type": "stream",
     "text": [
      "tensor([[ 0.7343, -0.6708,  2.7421]])\n",
      "tensor([[ 0.5315,  0.1587,  0.6542],\n",
      "        [ 0.3278,  0.6532,  0.3958],\n",
      "        [ 0.7343, -0.6708,  2.7421]])\n"
     ]
    }
   ],
   "execution_count": 196
  },
  {
   "metadata": {
    "ExecuteTime": {
     "end_time": "2025-06-04T15:12:57.072940Z",
     "start_time": "2025-06-04T15:12:57.055062Z"
    }
   },
   "cell_type": "code",
   "source": "torch.det(x_3x3)",
   "id": "611ad95b7c419d47",
   "outputs": [
    {
     "data": {
      "text/plain": [
       "tensor(0.5389)"
      ]
     },
     "execution_count": 197,
     "metadata": {},
     "output_type": "execute_result"
    }
   ],
   "execution_count": 197
  },
  {
   "metadata": {
    "ExecuteTime": {
     "end_time": "2025-06-04T15:13:05.359222Z",
     "start_time": "2025-06-04T15:13:05.346879Z"
    }
   },
   "cell_type": "code",
   "source": "torch.inverse(x_3x3)",
   "id": "9c1c6da710a0e8a0",
   "outputs": [
    {
     "data": {
      "text/plain": [
       "tensor([[ 3.8164, -1.6219, -0.6763],\n",
       "        [-1.1286,  1.8129,  0.0075],\n",
       "        [-1.2981,  0.8778,  0.5476]])"
      ]
     },
     "execution_count": 198,
     "metadata": {},
     "output_type": "execute_result"
    }
   ],
   "execution_count": 198
  },
  {
   "metadata": {
    "ExecuteTime": {
     "end_time": "2025-06-04T15:13:43.164113Z",
     "start_time": "2025-06-04T15:13:43.160665Z"
    }
   },
   "cell_type": "code",
   "source": [
    "print(x)\n",
    "print(y)"
   ],
   "id": "7ec98b3351d6f2c1",
   "outputs": [
    {
     "name": "stdout",
     "output_type": "stream",
     "text": [
      "tensor([[0.5315, 0.1587, 0.6542],\n",
      "        [0.3278, 0.6532, 0.3958]])\n",
      "tensor([[-0.5687,  1.2580, -1.5890],\n",
      "        [-1.1208,  0.8423,  0.1744]])\n"
     ]
    }
   ],
   "execution_count": 201
  },
  {
   "metadata": {
    "ExecuteTime": {
     "end_time": "2025-06-04T15:13:32.549303Z",
     "start_time": "2025-06-04T15:13:32.544170Z"
    }
   },
   "cell_type": "code",
   "source": [
    "# Comparison Operations\n",
    "\n",
    "x > y"
   ],
   "id": "a84a19f2e0d94acb",
   "outputs": [
    {
     "data": {
      "text/plain": [
       "tensor([[ True, False,  True],\n",
       "        [ True, False,  True]])"
      ]
     },
     "execution_count": 200,
     "metadata": {},
     "output_type": "execute_result"
    }
   ],
   "execution_count": 200
  },
  {
   "metadata": {
    "ExecuteTime": {
     "end_time": "2025-06-04T15:14:07.628938Z",
     "start_time": "2025-06-04T15:14:07.625435Z"
    }
   },
   "cell_type": "code",
   "source": "x<y",
   "id": "cbe4b81f867e7bfc",
   "outputs": [
    {
     "data": {
      "text/plain": [
       "tensor([[False,  True, False],\n",
       "        [False,  True, False]])"
      ]
     },
     "execution_count": 202,
     "metadata": {},
     "output_type": "execute_result"
    }
   ],
   "execution_count": 202
  },
  {
   "metadata": {
    "ExecuteTime": {
     "end_time": "2025-06-04T15:14:16.146086Z",
     "start_time": "2025-06-04T15:14:16.142063Z"
    }
   },
   "cell_type": "code",
   "source": "x==y",
   "id": "a527facdc2489198",
   "outputs": [
    {
     "data": {
      "text/plain": [
       "tensor([[False, False, False],\n",
       "        [False, False, False]])"
      ]
     },
     "execution_count": 203,
     "metadata": {},
     "output_type": "execute_result"
    }
   ],
   "execution_count": 203
  },
  {
   "metadata": {
    "ExecuteTime": {
     "end_time": "2025-06-04T15:14:24.355988Z",
     "start_time": "2025-06-04T15:14:24.352397Z"
    }
   },
   "cell_type": "code",
   "source": "x!=y",
   "id": "f1486b86fc31b6c5",
   "outputs": [
    {
     "data": {
      "text/plain": [
       "tensor([[True, True, True],\n",
       "        [True, True, True]])"
      ]
     },
     "execution_count": 204,
     "metadata": {},
     "output_type": "execute_result"
    }
   ],
   "execution_count": 204
  },
  {
   "metadata": {
    "ExecuteTime": {
     "end_time": "2025-06-04T15:14:34.121486Z",
     "start_time": "2025-06-04T15:14:34.117369Z"
    }
   },
   "cell_type": "code",
   "source": "x>=y",
   "id": "2765370a63d7515b",
   "outputs": [
    {
     "data": {
      "text/plain": [
       "tensor([[ True, False,  True],\n",
       "        [ True, False,  True]])"
      ]
     },
     "execution_count": 205,
     "metadata": {},
     "output_type": "execute_result"
    }
   ],
   "execution_count": 205
  },
  {
   "metadata": {
    "ExecuteTime": {
     "end_time": "2025-06-04T15:15:34.967967Z",
     "start_time": "2025-06-04T15:15:34.964582Z"
    }
   },
   "cell_type": "code",
   "source": "x<=y",
   "id": "c4a7cf5454d1a7a5",
   "outputs": [
    {
     "data": {
      "text/plain": [
       "tensor([[False,  True, False],\n",
       "        [False,  True, False]])"
      ]
     },
     "execution_count": 208,
     "metadata": {},
     "output_type": "execute_result"
    }
   ],
   "execution_count": 208
  },
  {
   "metadata": {
    "ExecuteTime": {
     "end_time": "2025-06-04T15:22:05.853988Z",
     "start_time": "2025-06-04T15:22:05.849728Z"
    }
   },
   "cell_type": "code",
   "source": [
    "# Special Funcs\n",
    "k = torch.randint(size=(3,3), low = -1, high =11)\n",
    "k"
   ],
   "id": "69524a09e49b86eb",
   "outputs": [
    {
     "data": {
      "text/plain": [
       "tensor([[ 7,  5, 10],\n",
       "        [ 2,  0,  1],\n",
       "        [ 5, -1,  9]])"
      ]
     },
     "execution_count": 240,
     "metadata": {},
     "output_type": "execute_result"
    }
   ],
   "execution_count": 240
  },
  {
   "metadata": {
    "ExecuteTime": {
     "end_time": "2025-06-04T15:22:08.078556Z",
     "start_time": "2025-06-04T15:22:08.072687Z"
    }
   },
   "cell_type": "code",
   "source": "torch.log(k)",
   "id": "15b85dfa3ac95f23",
   "outputs": [
    {
     "data": {
      "text/plain": [
       "tensor([[1.9459, 1.6094, 2.3026],\n",
       "        [0.6931,   -inf, 0.0000],\n",
       "        [1.6094,    nan, 2.1972]])"
      ]
     },
     "execution_count": 241,
     "metadata": {},
     "output_type": "execute_result"
    }
   ],
   "execution_count": 241
  },
  {
   "metadata": {
    "ExecuteTime": {
     "end_time": "2025-06-04T15:22:12.749806Z",
     "start_time": "2025-06-04T15:22:12.745153Z"
    }
   },
   "cell_type": "code",
   "source": "torch.exp(k)",
   "id": "1b355eeb791ba197",
   "outputs": [
    {
     "data": {
      "text/plain": [
       "tensor([[1.0966e+03, 1.4841e+02, 2.2026e+04],\n",
       "        [7.3891e+00, 1.0000e+00, 2.7183e+00],\n",
       "        [1.4841e+02, 3.6788e-01, 8.1031e+03]])"
      ]
     },
     "execution_count": 242,
     "metadata": {},
     "output_type": "execute_result"
    }
   ],
   "execution_count": 242
  },
  {
   "metadata": {
    "ExecuteTime": {
     "end_time": "2025-06-04T15:22:14.685298Z",
     "start_time": "2025-06-04T15:22:14.680986Z"
    }
   },
   "cell_type": "code",
   "source": "torch.sqrt(k)",
   "id": "9e8e1930762a8163",
   "outputs": [
    {
     "data": {
      "text/plain": [
       "tensor([[2.6458, 2.2361, 3.1623],\n",
       "        [1.4142, 0.0000, 1.0000],\n",
       "        [2.2361,    nan, 3.0000]])"
      ]
     },
     "execution_count": 243,
     "metadata": {},
     "output_type": "execute_result"
    }
   ],
   "execution_count": 243
  },
  {
   "metadata": {
    "ExecuteTime": {
     "end_time": "2025-06-04T15:22:17.027823Z",
     "start_time": "2025-06-04T15:22:17.023794Z"
    }
   },
   "cell_type": "code",
   "source": "torch.sigmoid(k)",
   "id": "db8bf6f59d157c4b",
   "outputs": [
    {
     "data": {
      "text/plain": [
       "tensor([[0.9991, 0.9933, 1.0000],\n",
       "        [0.8808, 0.5000, 0.7311],\n",
       "        [0.9933, 0.2689, 0.9999]])"
      ]
     },
     "execution_count": 244,
     "metadata": {},
     "output_type": "execute_result"
    }
   ],
   "execution_count": 244
  },
  {
   "metadata": {
    "ExecuteTime": {
     "end_time": "2025-06-04T15:22:19.069019Z",
     "start_time": "2025-06-04T15:22:19.064164Z"
    }
   },
   "cell_type": "code",
   "source": "torch.softmax(k.to(float), dim = 0) # Expects tensor dtype as float",
   "id": "fef0dc2d87098ff7",
   "outputs": [
    {
     "data": {
      "text/plain": [
       "tensor([[8.7560e-01, 9.9087e-01, 7.3099e-01],\n",
       "        [5.8998e-03, 6.6764e-03, 9.0212e-05],\n",
       "        [1.1850e-01, 2.4561e-03, 2.6892e-01]], dtype=torch.float64)"
      ]
     },
     "execution_count": 245,
     "metadata": {},
     "output_type": "execute_result"
    }
   ],
   "execution_count": 245
  },
  {
   "metadata": {
    "ExecuteTime": {
     "end_time": "2025-06-04T15:22:21.090945Z",
     "start_time": "2025-06-04T15:22:21.087267Z"
    }
   },
   "cell_type": "code",
   "source": "torch.relu(k)",
   "id": "58943bc2964776c5",
   "outputs": [
    {
     "data": {
      "text/plain": [
       "tensor([[ 7,  5, 10],\n",
       "        [ 2,  0,  1],\n",
       "        [ 5,  0,  9]])"
      ]
     },
     "execution_count": 246,
     "metadata": {},
     "output_type": "execute_result"
    }
   ],
   "execution_count": 246
  },
  {
   "metadata": {
    "ExecuteTime": {
     "end_time": "2025-06-04T15:25:42.600871Z",
     "start_time": "2025-06-04T15:25:42.597055Z"
    }
   },
   "cell_type": "code",
   "source": [
    "# Inplace Operators ('_' underscore defines inplace operators)\n",
    "print(x)\n",
    "print(y)\n",
    "print(x.add(y))"
   ],
   "id": "9e27ca2078de7a6e",
   "outputs": [
    {
     "name": "stdout",
     "output_type": "stream",
     "text": [
      "tensor([[0.5315, 0.1587, 0.6542],\n",
      "        [0.3278, 0.6532, 0.3958]])\n",
      "tensor([[-0.5687,  1.2580, -1.5890],\n",
      "        [-1.1208,  0.8423,  0.1744]])\n",
      "tensor([[-0.0372,  1.4167, -0.9348],\n",
      "        [-0.7930,  1.4955,  0.5702]])\n"
     ]
    }
   ],
   "execution_count": 250
  },
  {
   "metadata": {
    "ExecuteTime": {
     "end_time": "2025-06-04T15:25:46.924477Z",
     "start_time": "2025-06-04T15:25:46.918519Z"
    }
   },
   "cell_type": "code",
   "source": [
    "print(x)\n",
    "print(x.add_(y))\n",
    "print(x)"
   ],
   "id": "be0b314930166a39",
   "outputs": [
    {
     "name": "stdout",
     "output_type": "stream",
     "text": [
      "tensor([[0.5315, 0.1587, 0.6542],\n",
      "        [0.3278, 0.6532, 0.3958]])\n",
      "tensor([[-0.0372,  1.4167, -0.9348],\n",
      "        [-0.7930,  1.4955,  0.5702]])\n",
      "tensor([[-0.0372,  1.4167, -0.9348],\n",
      "        [-0.7930,  1.4955,  0.5702]])\n"
     ]
    }
   ],
   "execution_count": 251
  },
  {
   "metadata": {
    "ExecuteTime": {
     "end_time": "2025-06-04T15:27:00.199724Z",
     "start_time": "2025-06-04T15:27:00.195774Z"
    }
   },
   "cell_type": "code",
   "source": "print(k)",
   "id": "2f602dedbc5d162b",
   "outputs": [
    {
     "name": "stdout",
     "output_type": "stream",
     "text": [
      "tensor([[ 7,  5, 10],\n",
      "        [ 2,  0,  1],\n",
      "        [ 5, -1,  9]])\n"
     ]
    }
   ],
   "execution_count": 255
  },
  {
   "metadata": {
    "ExecuteTime": {
     "end_time": "2025-06-04T15:27:11.842712Z",
     "start_time": "2025-06-04T15:27:11.839350Z"
    }
   },
   "cell_type": "code",
   "source": "print(torch.relu(k))",
   "id": "f93b12678cef1976",
   "outputs": [
    {
     "name": "stdout",
     "output_type": "stream",
     "text": [
      "tensor([[ 7,  5, 10],\n",
      "        [ 2,  0,  1],\n",
      "        [ 5,  0,  9]])\n"
     ]
    }
   ],
   "execution_count": 256
  },
  {
   "metadata": {
    "ExecuteTime": {
     "end_time": "2025-06-05T07:07:36.262905Z",
     "start_time": "2025-06-05T07:07:36.258860Z"
    }
   },
   "cell_type": "code",
   "source": [
    "print(torch.relu_(k)) # Or do k.relu_()\n",
    "print(k)"
   ],
   "id": "d9c00e8823515e5d",
   "outputs": [
    {
     "name": "stdout",
     "output_type": "stream",
     "text": [
      "tensor([[ 7,  5, 10],\n",
      "        [ 2,  0,  1],\n",
      "        [ 5,  0,  9]])\n",
      "tensor([[ 7,  5, 10],\n",
      "        [ 2,  0,  1],\n",
      "        [ 5,  0,  9]])\n"
     ]
    }
   ],
   "execution_count": 258
  },
  {
   "metadata": {
    "ExecuteTime": {
     "end_time": "2025-06-12T07:40:52.290230Z",
     "start_time": "2025-06-12T07:40:52.285165Z"
    }
   },
   "cell_type": "code",
   "source": [
    "# copying a tensor\n",
    "\n",
    "x = torch.rand(2,3)\n",
    "print(x)\n",
    "y = x\n",
    "print(y)"
   ],
   "id": "b06f2640b293127d",
   "outputs": [
    {
     "name": "stdout",
     "output_type": "stream",
     "text": [
      "tensor([[0.6695, 0.3342, 0.5502],\n",
      "        [0.8727, 0.9242, 0.4092]])\n",
      "tensor([[0.6695, 0.3342, 0.5502],\n",
      "        [0.8727, 0.9242, 0.4092]])\n"
     ]
    }
   ],
   "execution_count": 26
  },
  {
   "metadata": {
    "ExecuteTime": {
     "end_time": "2025-06-05T07:08:28.866533Z",
     "start_time": "2025-06-05T07:08:28.860589Z"
    }
   },
   "cell_type": "code",
   "source": [
    "x[0][0] = 0\n",
    "print(x)\n",
    "print(y)"
   ],
   "id": "1b87575cdd7e1e8e",
   "outputs": [
    {
     "name": "stdout",
     "output_type": "stream",
     "text": [
      "tensor([[0.0000, 0.7583, 0.5907],\n",
      "        [0.3219, 0.7610, 0.7628]])\n",
      "tensor([[0.0000, 0.7583, 0.5907],\n",
      "        [0.3219, 0.7610, 0.7628]])\n"
     ]
    }
   ],
   "execution_count": 260
  },
  {
   "metadata": {
    "ExecuteTime": {
     "end_time": "2025-06-05T07:09:25.185318Z",
     "start_time": "2025-06-05T07:09:25.181263Z"
    }
   },
   "cell_type": "code",
   "source": "id(x) == id(y) # The memory they are pointing to is the same, so if we change one the other will get changed",
   "id": "b9b9a976a7505b6d",
   "outputs": [
    {
     "data": {
      "text/plain": [
       "True"
      ]
     },
     "execution_count": 262,
     "metadata": {},
     "output_type": "execute_result"
    }
   ],
   "execution_count": 262
  },
  {
   "metadata": {
    "ExecuteTime": {
     "end_time": "2025-06-05T07:09:38.842515Z",
     "start_time": "2025-06-05T07:09:38.838694Z"
    }
   },
   "cell_type": "code",
   "source": [
    "y[0][0] = 1\n",
    "print(x)\n",
    "print(y)"
   ],
   "id": "54f28d835e22160",
   "outputs": [
    {
     "name": "stdout",
     "output_type": "stream",
     "text": [
      "tensor([[1.0000, 0.7583, 0.5907],\n",
      "        [0.3219, 0.7610, 0.7628]])\n",
      "tensor([[1.0000, 0.7583, 0.5907],\n",
      "        [0.3219, 0.7610, 0.7628]])\n"
     ]
    }
   ],
   "execution_count": 263
  },
  {
   "metadata": {
    "ExecuteTime": {
     "end_time": "2025-06-05T07:11:23.962924Z",
     "start_time": "2025-06-05T07:11:23.959868Z"
    }
   },
   "cell_type": "code",
   "source": [
    "# Copying a tensor but both will be pointing to different locations\n",
    "\n",
    "a = torch.rand(2,3)\n",
    "b = a.clone()\n",
    "print(id(a))\n",
    "print(id(b))"
   ],
   "id": "2679ba18064fd0f1",
   "outputs": [
    {
     "name": "stdout",
     "output_type": "stream",
     "text": [
      "139604928582880\n",
      "139605631292400\n"
     ]
    }
   ],
   "execution_count": 265
  },
  {
   "metadata": {
    "ExecuteTime": {
     "end_time": "2025-06-05T07:15:07.288512Z",
     "start_time": "2025-06-05T07:15:07.284925Z"
    }
   },
   "cell_type": "code",
   "source": [
    "import copy\n",
    "a = torch.rand(2,3)\n",
    "b = copy.deepcopy(a)\n",
    "print(id(a))\n",
    "print(id(b))\n",
    "print(type(b))"
   ],
   "id": "96d33d02a454cae4",
   "outputs": [
    {
     "name": "stdout",
     "output_type": "stream",
     "text": [
      "139604926220704\n",
      "139609593727472\n",
      "<class 'torch.Tensor'>\n"
     ]
    }
   ],
   "execution_count": 271
  },
  {
   "metadata": {
    "ExecuteTime": {
     "end_time": "2025-06-05T07:26:37.850152Z",
     "start_time": "2025-06-05T07:26:29.223676Z"
    }
   },
   "cell_type": "code",
   "source": [
    "import time\n",
    "\n",
    "size = 10000\n",
    "\n",
    "matrix_cpu1 = torch.randn(size, size)\n",
    "matrix_cpu2 = torch.randn(size, size)\n",
    "\n",
    "start_time = time.time()\n",
    "result_cpu = torch.matmul(matrix_cpu1, matrix_cpu2)\n",
    "end_time = time.time()\n",
    "print(f'CPU time to multiply two 10000*10000 matrix is: {end_time - start_time}')\n",
    "\n",
    "matrix_gpu1 = torch.randn(size, size, device='cuda')\n",
    "matrix_gpu2 = torch.randn(size, size, device='cuda')\n",
    "\n",
    "start_time = time.time()\n",
    "result_gpu = torch.matmul(matrix_gpu1, matrix_gpu2)\n",
    "end_time = time.time()\n",
    "print(f'GPU time to multiply two 10000*10000 matrix is: {end_time - start_time}')"
   ],
   "id": "a9eb888954bd9d77",
   "outputs": [
    {
     "name": "stdout",
     "output_type": "stream",
     "text": [
      "CPU time to multiply two 10000*10000 matrix is: 6.964176893234253\n",
      "GPU time to multiply two 10000*10000 matrix is: 0.0798025131225586\n"
     ]
    }
   ],
   "execution_count": 273
  },
  {
   "metadata": {
    "ExecuteTime": {
     "end_time": "2025-06-05T07:31:53.656259Z",
     "start_time": "2025-06-05T07:31:53.651486Z"
    }
   },
   "cell_type": "code",
   "source": [
    "# Reshaping Tensors\n",
    "\n",
    "a = torch.ones(4,4)\n",
    "print(a)\n",
    "\n",
    "a = a.reshape(2,2,2,2)\n",
    "print(a)"
   ],
   "id": "bf64c4ef63c9fe0a",
   "outputs": [
    {
     "name": "stdout",
     "output_type": "stream",
     "text": [
      "tensor([[1., 1., 1., 1.],\n",
      "        [1., 1., 1., 1.],\n",
      "        [1., 1., 1., 1.],\n",
      "        [1., 1., 1., 1.]])\n",
      "tensor([[[[1., 1.],\n",
      "          [1., 1.]],\n",
      "\n",
      "         [[1., 1.],\n",
      "          [1., 1.]]],\n",
      "\n",
      "\n",
      "        [[[1., 1.],\n",
      "          [1., 1.]],\n",
      "\n",
      "         [[1., 1.],\n",
      "          [1., 1.]]]])\n"
     ]
    }
   ],
   "execution_count": 276
  },
  {
   "metadata": {
    "ExecuteTime": {
     "end_time": "2025-06-05T07:43:39.515985Z",
     "start_time": "2025-06-05T07:43:39.511813Z"
    }
   },
   "cell_type": "code",
   "source": "a.flatten()",
   "id": "d7e19fd1b3ffb5b8",
   "outputs": [
    {
     "data": {
      "text/plain": [
       "tensor([1., 1., 1., 1., 1., 1., 1., 1., 1., 1., 1., 1., 1., 1., 1., 1.])"
      ]
     },
     "execution_count": 277,
     "metadata": {},
     "output_type": "execute_result"
    }
   ],
   "execution_count": 277
  },
  {
   "metadata": {
    "ExecuteTime": {
     "end_time": "2025-06-05T07:45:17.359478Z",
     "start_time": "2025-06-05T07:45:17.355585Z"
    }
   },
   "cell_type": "code",
   "source": [
    "b = torch.randn(3,4,2)\n",
    "print(b)"
   ],
   "id": "598e14a4be99d267",
   "outputs": [
    {
     "name": "stdout",
     "output_type": "stream",
     "text": [
      "tensor([[[ 1.7058,  1.1128],\n",
      "         [-1.2113,  0.5597],\n",
      "         [-0.6295, -0.3746],\n",
      "         [ 1.3099,  1.1715]],\n",
      "\n",
      "        [[ 0.3737, -0.4780],\n",
      "         [-1.2095,  0.5958],\n",
      "         [ 0.3351,  0.9003],\n",
      "         [ 1.8559, -0.4290]],\n",
      "\n",
      "        [[-0.1474,  0.3337],\n",
      "         [ 0.0076,  2.3507],\n",
      "         [-1.7512, -0.0312],\n",
      "         [ 0.0649,  0.4850]]])\n"
     ]
    }
   ],
   "execution_count": 278
  },
  {
   "metadata": {
    "ExecuteTime": {
     "end_time": "2025-06-05T07:47:23.398066Z",
     "start_time": "2025-06-05T07:47:23.393349Z"
    }
   },
   "cell_type": "code",
   "source": "b.permute(2,0,1) # takes the indices of the shape",
   "id": "b5378d2c309cc596",
   "outputs": [
    {
     "data": {
      "text/plain": [
       "tensor([[[ 1.7058, -1.2113, -0.6295,  1.3099],\n",
       "         [ 0.3737, -1.2095,  0.3351,  1.8559],\n",
       "         [-0.1474,  0.0076, -1.7512,  0.0649]],\n",
       "\n",
       "        [[ 1.1128,  0.5597, -0.3746,  1.1715],\n",
       "         [-0.4780,  0.5958,  0.9003, -0.4290],\n",
       "         [ 0.3337,  2.3507, -0.0312,  0.4850]]])"
      ]
     },
     "execution_count": 283,
     "metadata": {},
     "output_type": "execute_result"
    }
   ],
   "execution_count": 283
  },
  {
   "metadata": {
    "ExecuteTime": {
     "end_time": "2025-06-05T07:47:00.563055Z",
     "start_time": "2025-06-05T07:47:00.559765Z"
    }
   },
   "cell_type": "code",
   "source": "b.permute(2,0,1).shape",
   "id": "689534d1aac21089",
   "outputs": [
    {
     "data": {
      "text/plain": [
       "torch.Size([2, 3, 4])"
      ]
     },
     "execution_count": 281,
     "metadata": {},
     "output_type": "execute_result"
    }
   ],
   "execution_count": 281
  },
  {
   "metadata": {
    "ExecuteTime": {
     "end_time": "2025-06-05T07:56:14.894619Z",
     "start_time": "2025-06-05T07:56:14.890160Z"
    }
   },
   "cell_type": "code",
   "source": [
    "a = torch.randn(226,226,3)\n",
    "a.unsqueeze(3).shape #Adds dimension to the existing shape at a particular position\n",
    "\n",
    "# unsqueeze is helpful in a scenario where if one single image is passed to a model, as a model takes images in batches\n",
    "# e.g. n*x*y*c where n is the batch number then in that case we can convert the single image of dim x*y*c into\n",
    "# a single batch like 1*x*y*c using unsqueeze"
   ],
   "id": "66b1201763f956d8",
   "outputs": [
    {
     "data": {
      "text/plain": [
       "torch.Size([226, 226, 3, 1])"
      ]
     },
     "execution_count": 296,
     "metadata": {},
     "output_type": "execute_result"
    }
   ],
   "execution_count": 296
  },
  {
   "metadata": {
    "ExecuteTime": {
     "end_time": "2025-06-05T08:04:20.138129Z",
     "start_time": "2025-06-05T08:04:20.135518Z"
    }
   },
   "cell_type": "code",
   "source": [
    "# Squeeze only removes the dimension if its size is 1.\n",
    "#\n",
    "# If tensor.shape[dim] != 1, it leaves the tensor unchanged.\n",
    "\n",
    "print(a.shape)\n",
    "print(a.squeeze(1).shape)"
   ],
   "id": "44c710f695d50713",
   "outputs": [
    {
     "name": "stdout",
     "output_type": "stream",
     "text": [
      "torch.Size([226, 226, 3])\n",
      "torch.Size([226, 226, 3])\n"
     ]
    }
   ],
   "execution_count": 303
  },
  {
   "metadata": {
    "ExecuteTime": {
     "end_time": "2025-06-05T08:06:10.246859Z",
     "start_time": "2025-06-05T08:06:10.243600Z"
    }
   },
   "cell_type": "code",
   "source": [
    "a = torch.rand(1,20)\n",
    "print(a.squeeze(0).shape)"
   ],
   "id": "4a1d63890813aa0",
   "outputs": [
    {
     "name": "stdout",
     "output_type": "stream",
     "text": [
      "torch.Size([20])\n"
     ]
    }
   ],
   "execution_count": 306
  },
  {
   "metadata": {
    "ExecuteTime": {
     "end_time": "2025-06-05T08:06:05.069490Z",
     "start_time": "2025-06-05T08:06:05.066822Z"
    }
   },
   "cell_type": "code",
   "source": [
    "#  To remove all dimensions of size 1:\n",
    "# a.squeeze().shape  # removes all 1-sized dims, if any\n",
    "\n",
    "a = torch.rand(1,20,1)\n",
    "print(a.squeeze().shape)"
   ],
   "id": "fb5d183733d44c3d",
   "outputs": [
    {
     "name": "stdout",
     "output_type": "stream",
     "text": [
      "torch.Size([20])\n"
     ]
    }
   ],
   "execution_count": 305
  },
  {
   "metadata": {
    "ExecuteTime": {
     "end_time": "2025-06-05T08:19:41.071875Z",
     "start_time": "2025-06-05T08:19:41.068421Z"
    }
   },
   "cell_type": "code",
   "source": "import numpy as np",
   "id": "b4eb1d817b330688",
   "outputs": [],
   "execution_count": 308
  },
  {
   "metadata": {
    "ExecuteTime": {
     "end_time": "2025-06-05T08:20:28.878542Z",
     "start_time": "2025-06-05T08:20:28.875278Z"
    }
   },
   "cell_type": "code",
   "source": [
    "a = torch.tensor([1,2,3,4])\n",
    "a.type()"
   ],
   "id": "c5eec69df7ba3a4e",
   "outputs": [
    {
     "data": {
      "text/plain": [
       "'torch.LongTensor'"
      ]
     },
     "execution_count": 311,
     "metadata": {},
     "output_type": "execute_result"
    }
   ],
   "execution_count": 311
  },
  {
   "metadata": {
    "ExecuteTime": {
     "end_time": "2025-06-05T08:20:53.539055Z",
     "start_time": "2025-06-05T08:20:53.535237Z"
    }
   },
   "cell_type": "code",
   "source": [
    "b = a.numpy()\n",
    "type(b)"
   ],
   "id": "c0f87be8e175a1e9",
   "outputs": [
    {
     "data": {
      "text/plain": [
       "numpy.ndarray"
      ]
     },
     "execution_count": 314,
     "metadata": {},
     "output_type": "execute_result"
    }
   ],
   "execution_count": 314
  },
  {
   "metadata": {
    "ExecuteTime": {
     "end_time": "2025-06-05T08:21:28.347915Z",
     "start_time": "2025-06-05T08:21:28.342942Z"
    }
   },
   "cell_type": "code",
   "source": [
    "c = torch.from_numpy(b)\n",
    "c.type()"
   ],
   "id": "c0d54a0314d7ef68",
   "outputs": [
    {
     "data": {
      "text/plain": [
       "'torch.LongTensor'"
      ]
     },
     "execution_count": 315,
     "metadata": {},
     "output_type": "execute_result"
    }
   ],
   "execution_count": 315
  },
  {
   "metadata": {},
   "cell_type": "code",
   "outputs": [],
   "execution_count": null,
   "source": [
    "\"\"\"Autograd - To calculate derivatives\n",
    "Autograd is a core component of PyTorch that provides automatic differentiation for tensor ops, enabling gradient\n",
    "computation using optimization algo like gradient descent.\"\"\""
   ],
   "id": "82b49474834b4a3e"
  },
  {
   "metadata": {
    "ExecuteTime": {
     "end_time": "2025-06-05T12:54:00.389679Z",
     "start_time": "2025-06-05T12:54:00.385282Z"
    }
   },
   "cell_type": "code",
   "source": [
    "import math\n",
    "\n",
    "x = torch.tensor(3.0, requires_grad=True)\n",
    "\n",
    "y = x**2\n",
    "\n",
    "print(x)\n",
    "print(y)"
   ],
   "id": "f4eb952409cb9540",
   "outputs": [
    {
     "name": "stdout",
     "output_type": "stream",
     "text": [
      "tensor(3., requires_grad=True)\n",
      "tensor(9., grad_fn=<PowBackward0>)\n"
     ]
    }
   ],
   "execution_count": 323
  },
  {
   "metadata": {
    "ExecuteTime": {
     "end_time": "2025-06-05T12:54:01.669540Z",
     "start_time": "2025-06-05T12:54:01.665704Z"
    }
   },
   "cell_type": "code",
   "source": [
    " y.backward() # Calculating Derivative\n",
    " x.grad # To see derivative"
   ],
   "id": "a66b1f6c87fc5053",
   "outputs": [
    {
     "data": {
      "text/plain": [
       "tensor(6.)"
      ]
     },
     "execution_count": 324,
     "metadata": {},
     "output_type": "execute_result"
    }
   ],
   "execution_count": 324
  },
  {
   "metadata": {
    "ExecuteTime": {
     "end_time": "2025-06-05T12:57:36.627751Z",
     "start_time": "2025-06-05T12:57:36.615329Z"
    }
   },
   "cell_type": "code",
   "source": [
    "x = torch.tensor(3.0, requires_grad=True)\n",
    "y = x**2\n",
    "z = torch.sin(y)\n",
    "\n",
    "print(x)\n",
    "print(y)\n",
    "print(z)"
   ],
   "id": "85966fcbdcbfa592",
   "outputs": [
    {
     "name": "stdout",
     "output_type": "stream",
     "text": [
      "tensor(3., requires_grad=True)\n",
      "tensor(9., grad_fn=<PowBackward0>)\n",
      "tensor(0.4121, grad_fn=<SinBackward0>)\n"
     ]
    }
   ],
   "execution_count": 326
  },
  {
   "metadata": {
    "ExecuteTime": {
     "end_time": "2025-06-05T12:57:44.786817Z",
     "start_time": "2025-06-05T12:57:44.778969Z"
    }
   },
   "cell_type": "code",
   "source": "z.backward()",
   "id": "42a044a993337759",
   "outputs": [],
   "execution_count": 327
  },
  {
   "metadata": {
    "ExecuteTime": {
     "end_time": "2025-06-05T12:58:14.849502Z",
     "start_time": "2025-06-05T12:58:14.845122Z"
    }
   },
   "cell_type": "code",
   "source": "x.grad",
   "id": "ce5c69eda577171",
   "outputs": [
    {
     "data": {
      "text/plain": [
       "tensor(-5.4668)"
      ]
     },
     "execution_count": 328,
     "metadata": {},
     "output_type": "execute_result"
    }
   ],
   "execution_count": 328
  },
  {
   "metadata": {
    "ExecuteTime": {
     "end_time": "2025-06-06T05:36:07.008769Z",
     "start_time": "2025-06-06T05:36:06.995015Z"
    }
   },
   "cell_type": "code",
   "source": [
    "x = torch.tensor(3.0, requires_grad=True)\n",
    "y = torch.pow(x, 2)\n",
    "z = torch.sin(y)\n",
    "\n",
    "print(x)\n",
    "print(y)\n",
    "print(z)"
   ],
   "id": "b0bb828309f75f4",
   "outputs": [
    {
     "name": "stdout",
     "output_type": "stream",
     "text": [
      "tensor(3., requires_grad=True)\n",
      "tensor(9., grad_fn=<PowBackward0>)\n",
      "tensor(0.4121, grad_fn=<SinBackward0>)\n"
     ]
    }
   ],
   "execution_count": 329
  },
  {
   "metadata": {
    "ExecuteTime": {
     "end_time": "2025-06-06T05:36:18.989766Z",
     "start_time": "2025-06-06T05:36:18.986476Z"
    }
   },
   "cell_type": "code",
   "source": "z.backward()",
   "id": "b27dcb9094829e4",
   "outputs": [],
   "execution_count": 330
  },
  {
   "metadata": {
    "ExecuteTime": {
     "end_time": "2025-06-06T05:36:24.928873Z",
     "start_time": "2025-06-06T05:36:24.923473Z"
    }
   },
   "cell_type": "code",
   "source": "x.grad",
   "id": "62d1c3bb81740ce2",
   "outputs": [
    {
     "data": {
      "text/plain": [
       "tensor(-5.4668)"
      ]
     },
     "execution_count": 331,
     "metadata": {},
     "output_type": "execute_result"
    }
   ],
   "execution_count": 331
  },
  {
   "metadata": {
    "ExecuteTime": {
     "end_time": "2025-06-06T05:43:42.449397Z",
     "start_time": "2025-06-06T05:43:42.440488Z"
    }
   },
   "cell_type": "code",
   "source": "y.grad",
   "id": "c8b933afc2f03263",
   "outputs": [
    {
     "name": "stderr",
     "output_type": "stream",
     "text": [
      "/tmp/ipykernel_92562/4112144004.py:1: UserWarning: The .grad attribute of a Tensor that is not a leaf Tensor is being accessed. Its .grad attribute won't be populated during autograd.backward(). If you indeed want the .grad field to be populated for a non-leaf Tensor, use .retain_grad() on the non-leaf Tensor. If you access the non-leaf Tensor by mistake, make sure you access the leaf Tensor instead. See github.com/pytorch/pytorch/pull/30531 for more informations. (Triggered internally at aten/src/ATen/core/TensorBody.h:489.)\n",
      "  y.grad\n"
     ]
    }
   ],
   "execution_count": 332
  },
  {
   "metadata": {
    "ExecuteTime": {
     "end_time": "2025-06-06T06:04:06.366254Z",
     "start_time": "2025-06-06T06:04:06.361931Z"
    }
   },
   "cell_type": "code",
   "source": [
    "inp = torch.eye(6, 5, requires_grad=True)\n",
    "print(inp)"
   ],
   "id": "652be6e8d4f25540",
   "outputs": [
    {
     "name": "stdout",
     "output_type": "stream",
     "text": [
      "tensor([[1., 0., 0., 0., 0.],\n",
      "        [0., 1., 0., 0., 0.],\n",
      "        [0., 0., 1., 0., 0.],\n",
      "        [0., 0., 0., 1., 0.],\n",
      "        [0., 0., 0., 0., 1.],\n",
      "        [0., 0., 0., 0., 0.]], requires_grad=True)\n"
     ]
    }
   ],
   "execution_count": 343
  },
  {
   "metadata": {
    "ExecuteTime": {
     "end_time": "2025-06-06T06:04:20.049374Z",
     "start_time": "2025-06-06T06:04:20.044304Z"
    }
   },
   "cell_type": "code",
   "source": [
    "test = torch.randn(5, 5)\n",
    "print(test)\n",
    "out = torch.matmul(inp, test)\n",
    "print(out)"
   ],
   "id": "f655ecf810dad2fd",
   "outputs": [
    {
     "name": "stdout",
     "output_type": "stream",
     "text": [
      "tensor([[ 0.0408,  0.2900,  0.0987,  0.4882,  0.5499],\n",
      "        [-1.7045, -2.6081,  1.4509, -0.0081,  1.9779],\n",
      "        [ 0.9386, -1.8636,  1.3139, -1.8229, -0.8084],\n",
      "        [ 0.6715, -0.8192,  0.1258,  1.0674, -0.1175],\n",
      "        [-0.7096, -0.4763, -1.4336,  0.2672,  0.1090]])\n",
      "tensor([[ 0.0408,  0.2900,  0.0987,  0.4882,  0.5499],\n",
      "        [-1.7045, -2.6081,  1.4509, -0.0081,  1.9779],\n",
      "        [ 0.9386, -1.8636,  1.3139, -1.8229, -0.8084],\n",
      "        [ 0.6715, -0.8192,  0.1258,  1.0674, -0.1175],\n",
      "        [-0.7096, -0.4763, -1.4336,  0.2672,  0.1090],\n",
      "        [ 0.0000,  0.0000,  0.0000,  0.0000,  0.0000]], grad_fn=<MmBackward0>)\n"
     ]
    }
   ],
   "execution_count": 344
  },
  {
   "metadata": {
    "ExecuteTime": {
     "end_time": "2025-06-06T06:01:47.884474Z",
     "start_time": "2025-06-06T06:01:47.878607Z"
    }
   },
   "cell_type": "code",
   "source": "test[-1][-1]==out[0][0]",
   "id": "36572741c7dd6d70",
   "outputs": [
    {
     "data": {
      "text/plain": [
       "tensor(False)"
      ]
     },
     "execution_count": 340,
     "metadata": {},
     "output_type": "execute_result"
    }
   ],
   "execution_count": 340
  },
  {
   "metadata": {},
   "cell_type": "markdown",
   "source": [
    "# Loss Function\n",
    "\n",
    "$L = -[y_{target}*\\ln(y_{pred}) + (1-y_{target})*\\ln(1-y_{pred})]$"
   ],
   "id": "abb157c449907a45"
  },
  {
   "metadata": {
    "ExecuteTime": {
     "end_time": "2025-06-09T14:23:41.755786Z",
     "start_time": "2025-06-09T14:23:37.828714Z"
    }
   },
   "cell_type": "code",
   "source": [
    "import torch\n",
    "\n",
    "# Inputs\n",
    "x = torch.tensor(6.7)\n",
    "y = torch.tensor(0.0)\n",
    "\n",
    "w = torch.tensor(1.0) # Weight\n",
    "b = torch.tensor(0.0) # bias"
   ],
   "id": "68e78a9dda07db19",
   "outputs": [],
   "execution_count": 1
  },
  {
   "metadata": {
    "ExecuteTime": {
     "end_time": "2025-06-09T14:31:00.325063Z",
     "start_time": "2025-06-09T14:31:00.322154Z"
    }
   },
   "cell_type": "code",
   "source": [
    "# Binary cross entropy loss for scalar\n",
    "def binary_cross_entropy_loss(prediction, target):\n",
    "    epsilon = 1e-8 # To prevent log(0)\n",
    "    prediction = torch.clamp(prediction, epsilon, 1-epsilon)\n",
    "    \"\"\"\" clamp(input, min=None, max=None, *, out=None) -> Tensor\n",
    "    Clamps all elements in :attr:`input` into the range min and max\"\"\"\n",
    "    return -(target*torch.log(prediction) + (1-target)*torch.log(1-prediction))"
   ],
   "id": "88b96d3d72c38282",
   "outputs": [],
   "execution_count": 5
  },
  {
   "metadata": {
    "ExecuteTime": {
     "end_time": "2025-06-09T14:32:00.485824Z",
     "start_time": "2025-06-09T14:32:00.482436Z"
    }
   },
   "cell_type": "code",
   "source": [
    "# Forward pass\n",
    "z = w*x +b # Linear part of weighted sum\n",
    "y_pred = torch.sigmoid(z)\n",
    "\n",
    "#compute bce loss\n",
    "loss = binary_cross_entropy_loss(y_pred, y)"
   ],
   "id": "be0e850f7401c6c4",
   "outputs": [],
   "execution_count": 7
  },
  {
   "metadata": {
    "ExecuteTime": {
     "end_time": "2025-06-09T14:32:08.268289Z",
     "start_time": "2025-06-09T14:32:08.258902Z"
    }
   },
   "cell_type": "code",
   "source": "loss",
   "id": "92ee46724cef2813",
   "outputs": [
    {
     "data": {
      "text/plain": [
       "tensor(6.7012)"
      ]
     },
     "execution_count": 8,
     "metadata": {},
     "output_type": "execute_result"
    }
   ],
   "execution_count": 8
  },
  {
   "metadata": {
    "ExecuteTime": {
     "end_time": "2025-06-09T14:37:56.935117Z",
     "start_time": "2025-06-09T14:37:56.931881Z"
    }
   },
   "cell_type": "code",
   "source": [
    "# Backpropagation\n",
    "# Derivatives:\n",
    "\n",
    "# 1. dL/d(y_pred): Loss with respect to the prediction (y_pred)\n",
    "dloss_dy_pred = (y_pred - y)/(y_pred*(1-y_pred))\n",
    "\n",
    "# 2. dy_pred/dz: Prediction (y_pred) with respect to z (sigmoid activation)\n",
    "\n",
    "dy_pred_dz = y_pred * (1 - y_pred)\n",
    "\n",
    "# 3. dz/dw and dz/db: z with respect to w and b\n",
    "dz_dw = x\n",
    "dz_db = 1 # bias contributes directly to z\n",
    "\n",
    "dL_dw = dloss_dy_pred * dy_pred_dz * dz_dw\n",
    "dL_db = dloss_dy_pred * dy_pred_dz * dz_db"
   ],
   "id": "dfb7d7e3f22a5295",
   "outputs": [],
   "execution_count": 10
  },
  {
   "metadata": {
    "ExecuteTime": {
     "end_time": "2025-06-09T14:38:15.714544Z",
     "start_time": "2025-06-09T14:38:15.710316Z"
    }
   },
   "cell_type": "code",
   "source": [
    "print(f\"Manual Gradient of loss wrt weight (dw): {dL_dw}\")\n",
    "print(f\"Manual Gradient of loss wrt bias (db): {dL_db}\")"
   ],
   "id": "794b04252768b5a6",
   "outputs": [
    {
     "name": "stdout",
     "output_type": "stream",
     "text": [
      "Manual Gradient of loss wrt weight (dw): 6.691762447357178\n",
      "Manual Gradient of loss wrt bias (db): 0.998770534992218\n"
     ]
    }
   ],
   "execution_count": 11
  },
  {
   "metadata": {
    "ExecuteTime": {
     "end_time": "2025-06-09T14:45:06.342305Z",
     "start_time": "2025-06-09T14:45:06.338392Z"
    }
   },
   "cell_type": "code",
   "source": [
    "# Now using autograd doing this same neural network\n",
    "\n",
    "\"\"\"\n",
    "We do not need to calculate derivative wrt x or y,\n",
    "so we do not need to use requires_grad while defining x or y\n",
    "\"\"\"\n",
    "x = torch.tensor(6.7)\n",
    "y = torch.tensor(0.0)\n",
    "\n",
    "w = torch.tensor(1.0, requires_grad=True) # Weight\n",
    "b = torch.tensor(0.0, requires_grad=True) # bias"
   ],
   "id": "8c7af85ee03d9c8c",
   "outputs": [],
   "execution_count": 30
  },
  {
   "metadata": {
    "ExecuteTime": {
     "end_time": "2025-06-09T14:45:07.375321Z",
     "start_time": "2025-06-09T14:45:07.371875Z"
    }
   },
   "cell_type": "code",
   "source": [
    "# Forward Propagation\n",
    "\n",
    "z = w*x +b\n",
    "z"
   ],
   "id": "91810a3a1e4f28d",
   "outputs": [
    {
     "data": {
      "text/plain": [
       "tensor(6.7000, grad_fn=<AddBackward0>)"
      ]
     },
     "execution_count": 31,
     "metadata": {},
     "output_type": "execute_result"
    }
   ],
   "execution_count": 31
  },
  {
   "metadata": {
    "ExecuteTime": {
     "end_time": "2025-06-09T14:45:08.255196Z",
     "start_time": "2025-06-09T14:45:08.251250Z"
    }
   },
   "cell_type": "code",
   "source": [
    "y_pred = torch.sigmoid(z)\n",
    "y_pred"
   ],
   "id": "b3ff73271f764fb3",
   "outputs": [
    {
     "data": {
      "text/plain": [
       "tensor(0.9988, grad_fn=<SigmoidBackward0>)"
      ]
     },
     "execution_count": 32,
     "metadata": {},
     "output_type": "execute_result"
    }
   ],
   "execution_count": 32
  },
  {
   "metadata": {
    "ExecuteTime": {
     "end_time": "2025-06-09T14:45:09.404011Z",
     "start_time": "2025-06-09T14:45:09.400580Z"
    }
   },
   "cell_type": "code",
   "source": [
    "loss = binary_cross_entropy_loss(y_pred,y)\n",
    "loss"
   ],
   "id": "f764e433617cb464",
   "outputs": [
    {
     "data": {
      "text/plain": [
       "tensor(6.7012, grad_fn=<NegBackward0>)"
      ]
     },
     "execution_count": 33,
     "metadata": {},
     "output_type": "execute_result"
    }
   ],
   "execution_count": 33
  },
  {
   "metadata": {
    "ExecuteTime": {
     "end_time": "2025-06-09T14:45:10.850354Z",
     "start_time": "2025-06-09T14:45:10.848178Z"
    }
   },
   "cell_type": "code",
   "source": [
    "# Backpropagation\n",
    "\n",
    "loss.backward()"
   ],
   "id": "bb4ae04a8c661919",
   "outputs": [],
   "execution_count": 34
  },
  {
   "metadata": {
    "ExecuteTime": {
     "end_time": "2025-06-09T14:45:12.748702Z",
     "start_time": "2025-06-09T14:45:12.746347Z"
    }
   },
   "cell_type": "code",
   "source": [
    "print(f\"Manual Gradient of loss wrt weight (dw): {w.grad}\")\n",
    "print(f\"Manual Gradient of loss wrt bias (db): {b.grad}\")"
   ],
   "id": "54bc42d72e917093",
   "outputs": [
    {
     "name": "stdout",
     "output_type": "stream",
     "text": [
      "Manual Gradient of loss wrt weight (dw): 6.6917619705200195\n",
      "Manual Gradient of loss wrt bias (db): 0.9987704753875732\n"
     ]
    }
   ],
   "execution_count": 36
  },
  {
   "metadata": {
    "ExecuteTime": {
     "end_time": "2025-06-09T14:49:32.978287Z",
     "start_time": "2025-06-09T14:49:32.972068Z"
    }
   },
   "cell_type": "code",
   "source": [
    "# We can also calculate gradient for vectors also\n",
    "## NB - RuntimeError: Only Tensors of floating point and complex dtype can require gradients\n",
    "\n",
    "x = torch.tensor([1.,2.,3.], requires_grad=True)\n",
    "y = (x**2).mean()\n",
    "\n",
    "y.backward() # Computes partial differentiation wrt vector\n",
    "x.grad"
   ],
   "id": "31e9cc64367a5e54",
   "outputs": [
    {
     "data": {
      "text/plain": [
       "tensor([0.6667, 1.3333, 2.0000])"
      ]
     },
     "execution_count": 42,
     "metadata": {},
     "output_type": "execute_result"
    }
   ],
   "execution_count": 42
  },
  {
   "metadata": {
    "ExecuteTime": {
     "end_time": "2025-06-09T14:54:49.080165Z",
     "start_time": "2025-06-09T14:54:49.077050Z"
    }
   },
   "cell_type": "code",
   "source": [
    "# Gradients accumulates, we have to clear grads\n",
    "\n",
    "x = torch.tensor(2.0, requires_grad=True)\n",
    "x"
   ],
   "id": "188184ba45c3a42",
   "outputs": [
    {
     "data": {
      "text/plain": [
       "tensor(2., requires_grad=True)"
      ]
     },
     "execution_count": 112,
     "metadata": {},
     "output_type": "execute_result"
    }
   ],
   "execution_count": 112
  },
  {
   "metadata": {
    "ExecuteTime": {
     "end_time": "2025-06-09T14:54:53.880536Z",
     "start_time": "2025-06-09T14:54:53.877101Z"
    }
   },
   "cell_type": "code",
   "source": [
    "# Forward pass\n",
    "y = (x**2)\n",
    "y"
   ],
   "id": "28ca6b9605594de6",
   "outputs": [
    {
     "data": {
      "text/plain": [
       "tensor(4., grad_fn=<PowBackward0>)"
      ]
     },
     "execution_count": 117,
     "metadata": {},
     "output_type": "execute_result"
    }
   ],
   "execution_count": 117
  },
  {
   "metadata": {
    "ExecuteTime": {
     "end_time": "2025-06-09T14:54:54.619493Z",
     "start_time": "2025-06-09T14:54:54.616969Z"
    }
   },
   "cell_type": "code",
   "source": "y.backward()",
   "id": "7a62623b49e92197",
   "outputs": [],
   "execution_count": 118
  },
  {
   "metadata": {
    "ExecuteTime": {
     "end_time": "2025-06-09T14:54:55.635047Z",
     "start_time": "2025-06-09T14:54:55.631823Z"
    }
   },
   "cell_type": "code",
   "source": "x.grad # The value of x.grad gets add during every pass",
   "id": "d330b01a5211f823",
   "outputs": [
    {
     "data": {
      "text/plain": [
       "tensor(4.)"
      ]
     },
     "execution_count": 119,
     "metadata": {},
     "output_type": "execute_result"
    }
   ],
   "execution_count": 119
  },
  {
   "metadata": {
    "ExecuteTime": {
     "end_time": "2025-06-09T14:54:56.697762Z",
     "start_time": "2025-06-09T14:54:56.693417Z"
    }
   },
   "cell_type": "code",
   "source": "x.grad.zero_() # After every epoch we clear gradients using this",
   "id": "368ab8857b24b740",
   "outputs": [
    {
     "data": {
      "text/plain": [
       "tensor(0.)"
      ]
     },
     "execution_count": 120,
     "metadata": {},
     "output_type": "execute_result"
    }
   ],
   "execution_count": 120
  },
  {
   "metadata": {
    "ExecuteTime": {
     "end_time": "2025-06-09T14:58:04.781535Z",
     "start_time": "2025-06-09T14:58:04.776951Z"
    }
   },
   "cell_type": "code",
   "source": [
    "# Also sometime we do not need to calculate derivatives eg in the time of predictions we do not need gradients\n",
    "# requires_grad takes unnecessary memory space in these situations, we clear it by disabling it\n",
    "# disable gradient tracking\n",
    "x = torch.tensor(2.0, requires_grad=True)\n",
    "x"
   ],
   "id": "71536904319b7b8d",
   "outputs": [
    {
     "data": {
      "text/plain": [
       "tensor(2., requires_grad=True)"
      ]
     },
     "execution_count": 121,
     "metadata": {},
     "output_type": "execute_result"
    }
   ],
   "execution_count": 121
  },
  {
   "metadata": {
    "ExecuteTime": {
     "end_time": "2025-06-09T14:58:14.075067Z",
     "start_time": "2025-06-09T14:58:14.069353Z"
    }
   },
   "cell_type": "code",
   "source": [
    "# Forward pass\n",
    "y = (x**2)\n",
    "y"
   ],
   "id": "efd9c60b204509e3",
   "outputs": [
    {
     "data": {
      "text/plain": [
       "tensor(4., grad_fn=<PowBackward0>)"
      ]
     },
     "execution_count": 122,
     "metadata": {},
     "output_type": "execute_result"
    }
   ],
   "execution_count": 122
  },
  {
   "metadata": {
    "ExecuteTime": {
     "end_time": "2025-06-09T14:58:42.476673Z",
     "start_time": "2025-06-09T14:58:42.472854Z"
    }
   },
   "cell_type": "code",
   "source": [
    "y.backward()\n",
    "x.grad"
   ],
   "id": "cbdbd955f8130586",
   "outputs": [
    {
     "data": {
      "text/plain": [
       "tensor(4.)"
      ]
     },
     "execution_count": 123,
     "metadata": {},
     "output_type": "execute_result"
    }
   ],
   "execution_count": 123
  },
  {
   "metadata": {},
   "cell_type": "markdown",
   "source": "##### Option 1: requires_grad_(False)",
   "id": "f2f68f85d82a5d0f"
  },
  {
   "metadata": {
    "ExecuteTime": {
     "end_time": "2025-06-09T15:02:14.818087Z",
     "start_time": "2025-06-09T15:02:14.811933Z"
    }
   },
   "cell_type": "code",
   "source": [
    "x = torch.tensor(2.0, requires_grad=True)\n",
    "x"
   ],
   "id": "bacfae24ade08b34",
   "outputs": [
    {
     "data": {
      "text/plain": [
       "tensor(2., requires_grad=True)"
      ]
     },
     "execution_count": 129,
     "metadata": {},
     "output_type": "execute_result"
    }
   ],
   "execution_count": 129
  },
  {
   "metadata": {
    "ExecuteTime": {
     "end_time": "2025-06-09T15:02:16.596940Z",
     "start_time": "2025-06-09T15:02:16.592884Z"
    }
   },
   "cell_type": "code",
   "source": "x.requires_grad_(False)",
   "id": "7a02ad6daa9c69fc",
   "outputs": [
    {
     "data": {
      "text/plain": [
       "tensor(2.)"
      ]
     },
     "execution_count": 130,
     "metadata": {},
     "output_type": "execute_result"
    }
   ],
   "execution_count": 130
  },
  {
   "metadata": {
    "ExecuteTime": {
     "end_time": "2025-06-09T15:02:18.135712Z",
     "start_time": "2025-06-09T15:02:18.132462Z"
    }
   },
   "cell_type": "code",
   "source": "y = x**2",
   "id": "8f596b666162728c",
   "outputs": [],
   "execution_count": 131
  },
  {
   "metadata": {
    "ExecuteTime": {
     "end_time": "2025-06-09T15:02:19.030375Z",
     "start_time": "2025-06-09T15:02:19.027827Z"
    }
   },
   "cell_type": "code",
   "source": [
    "# y.backward()\n",
    "# Output: RuntimeError: element 0 of tensors does not require grad and does not have a grad_fn"
   ],
   "id": "e75fb4be1895124b",
   "outputs": [],
   "execution_count": 132
  },
  {
   "metadata": {},
   "cell_type": "markdown",
   "source": "##### Option 2: detach()",
   "id": "2b34e0e9d1e8d95d"
  },
  {
   "metadata": {
    "ExecuteTime": {
     "end_time": "2025-06-09T15:03:26.776604Z",
     "start_time": "2025-06-09T15:03:26.769979Z"
    }
   },
   "cell_type": "code",
   "source": [
    "x = torch.tensor(2.0, requires_grad=True)\n",
    "x"
   ],
   "id": "5808bc08b18fbb6d",
   "outputs": [
    {
     "data": {
      "text/plain": [
       "tensor(2., requires_grad=True)"
      ]
     },
     "execution_count": 136,
     "metadata": {},
     "output_type": "execute_result"
    }
   ],
   "execution_count": 136
  },
  {
   "metadata": {
    "ExecuteTime": {
     "end_time": "2025-06-09T15:03:27.976170Z",
     "start_time": "2025-06-09T15:03:27.973013Z"
    }
   },
   "cell_type": "code",
   "source": [
    "z = x.detach()\n",
    "z"
   ],
   "id": "e30d294914ceb76f",
   "outputs": [
    {
     "data": {
      "text/plain": [
       "tensor(2.)"
      ]
     },
     "execution_count": 137,
     "metadata": {},
     "output_type": "execute_result"
    }
   ],
   "execution_count": 137
  },
  {
   "metadata": {
    "ExecuteTime": {
     "end_time": "2025-06-09T15:03:29.248503Z",
     "start_time": "2025-06-09T15:03:29.244546Z"
    }
   },
   "cell_type": "code",
   "source": [
    "y = x**2\n",
    "y1 = z**2\n",
    "print(y)\n",
    "print(y1)"
   ],
   "id": "642651ff25a237a9",
   "outputs": [
    {
     "name": "stdout",
     "output_type": "stream",
     "text": [
      "tensor(4., grad_fn=<PowBackward0>)\n",
      "tensor(4.)\n"
     ]
    }
   ],
   "execution_count": 138
  },
  {
   "metadata": {},
   "cell_type": "markdown",
   "source": "##### Option 3: torch.no_grad()",
   "id": "9e3ba6c54d134c00"
  },
  {
   "metadata": {
    "ExecuteTime": {
     "end_time": "2025-06-09T15:03:52.907719Z",
     "start_time": "2025-06-09T15:03:52.901365Z"
    }
   },
   "cell_type": "code",
   "source": [
    "x = torch.tensor(2.0, requires_grad=True)\n",
    "x"
   ],
   "id": "b914c01bdb81909f",
   "outputs": [
    {
     "data": {
      "text/plain": [
       "tensor(2., requires_grad=True)"
      ]
     },
     "execution_count": 139,
     "metadata": {},
     "output_type": "execute_result"
    }
   ],
   "execution_count": 139
  },
  {
   "metadata": {
    "ExecuteTime": {
     "end_time": "2025-06-09T15:04:07.027431Z",
     "start_time": "2025-06-09T15:04:07.021806Z"
    }
   },
   "cell_type": "code",
   "source": [
    "with torch.no_grad():\n",
    "    y = x**2\n",
    "y"
   ],
   "id": "387dfc465369f21e",
   "outputs": [
    {
     "data": {
      "text/plain": [
       "tensor(4.)"
      ]
     },
     "execution_count": 140,
     "metadata": {},
     "output_type": "execute_result"
    }
   ],
   "execution_count": 140
  },
  {
   "metadata": {
    "ExecuteTime": {
     "end_time": "2025-06-12T07:16:08.044245Z",
     "start_time": "2025-06-12T07:16:08.040696Z"
    }
   },
   "cell_type": "code",
   "source": [
    "# training pipeline\n",
    "\n",
    "import numpy as np\n",
    "import pandas as pd\n",
    "import torch\n",
    "from sklearn.model_selection import train_test_split\n",
    "from sklearn.preprocessing import StandardScaler, LabelEncoder"
   ],
   "id": "7f78c3856723c12f",
   "outputs": [],
   "execution_count": 24
  },
  {
   "metadata": {
    "ExecuteTime": {
     "end_time": "2025-06-12T07:16:10.052093Z",
     "start_time": "2025-06-12T07:16:09.237124Z"
    }
   },
   "cell_type": "code",
   "source": [
    "df = pd.read_csv('https://raw.githubusercontent.com/gscdit/Breast-Cancer-Detection/refs/heads/master/data.csv')\n",
    "df.head()"
   ],
   "id": "fb2017816e6fa300",
   "outputs": [
    {
     "data": {
      "text/plain": [
       "         id diagnosis  radius_mean  texture_mean  perimeter_mean  area_mean  \\\n",
       "0    842302         M        17.99         10.38          122.80     1001.0   \n",
       "1    842517         M        20.57         17.77          132.90     1326.0   \n",
       "2  84300903         M        19.69         21.25          130.00     1203.0   \n",
       "3  84348301         M        11.42         20.38           77.58      386.1   \n",
       "4  84358402         M        20.29         14.34          135.10     1297.0   \n",
       "\n",
       "   smoothness_mean  compactness_mean  concavity_mean  concave points_mean  \\\n",
       "0          0.11840           0.27760          0.3001              0.14710   \n",
       "1          0.08474           0.07864          0.0869              0.07017   \n",
       "2          0.10960           0.15990          0.1974              0.12790   \n",
       "3          0.14250           0.28390          0.2414              0.10520   \n",
       "4          0.10030           0.13280          0.1980              0.10430   \n",
       "\n",
       "   ...  texture_worst  perimeter_worst  area_worst  smoothness_worst  \\\n",
       "0  ...          17.33           184.60      2019.0            0.1622   \n",
       "1  ...          23.41           158.80      1956.0            0.1238   \n",
       "2  ...          25.53           152.50      1709.0            0.1444   \n",
       "3  ...          26.50            98.87       567.7            0.2098   \n",
       "4  ...          16.67           152.20      1575.0            0.1374   \n",
       "\n",
       "   compactness_worst  concavity_worst  concave points_worst  symmetry_worst  \\\n",
       "0             0.6656           0.7119                0.2654          0.4601   \n",
       "1             0.1866           0.2416                0.1860          0.2750   \n",
       "2             0.4245           0.4504                0.2430          0.3613   \n",
       "3             0.8663           0.6869                0.2575          0.6638   \n",
       "4             0.2050           0.4000                0.1625          0.2364   \n",
       "\n",
       "   fractal_dimension_worst  Unnamed: 32  \n",
       "0                  0.11890          NaN  \n",
       "1                  0.08902          NaN  \n",
       "2                  0.08758          NaN  \n",
       "3                  0.17300          NaN  \n",
       "4                  0.07678          NaN  \n",
       "\n",
       "[5 rows x 33 columns]"
      ],
      "text/html": [
       "<div>\n",
       "<style scoped>\n",
       "    .dataframe tbody tr th:only-of-type {\n",
       "        vertical-align: middle;\n",
       "    }\n",
       "\n",
       "    .dataframe tbody tr th {\n",
       "        vertical-align: top;\n",
       "    }\n",
       "\n",
       "    .dataframe thead th {\n",
       "        text-align: right;\n",
       "    }\n",
       "</style>\n",
       "<table border=\"1\" class=\"dataframe\">\n",
       "  <thead>\n",
       "    <tr style=\"text-align: right;\">\n",
       "      <th></th>\n",
       "      <th>id</th>\n",
       "      <th>diagnosis</th>\n",
       "      <th>radius_mean</th>\n",
       "      <th>texture_mean</th>\n",
       "      <th>perimeter_mean</th>\n",
       "      <th>area_mean</th>\n",
       "      <th>smoothness_mean</th>\n",
       "      <th>compactness_mean</th>\n",
       "      <th>concavity_mean</th>\n",
       "      <th>concave points_mean</th>\n",
       "      <th>...</th>\n",
       "      <th>texture_worst</th>\n",
       "      <th>perimeter_worst</th>\n",
       "      <th>area_worst</th>\n",
       "      <th>smoothness_worst</th>\n",
       "      <th>compactness_worst</th>\n",
       "      <th>concavity_worst</th>\n",
       "      <th>concave points_worst</th>\n",
       "      <th>symmetry_worst</th>\n",
       "      <th>fractal_dimension_worst</th>\n",
       "      <th>Unnamed: 32</th>\n",
       "    </tr>\n",
       "  </thead>\n",
       "  <tbody>\n",
       "    <tr>\n",
       "      <th>0</th>\n",
       "      <td>842302</td>\n",
       "      <td>M</td>\n",
       "      <td>17.99</td>\n",
       "      <td>10.38</td>\n",
       "      <td>122.80</td>\n",
       "      <td>1001.0</td>\n",
       "      <td>0.11840</td>\n",
       "      <td>0.27760</td>\n",
       "      <td>0.3001</td>\n",
       "      <td>0.14710</td>\n",
       "      <td>...</td>\n",
       "      <td>17.33</td>\n",
       "      <td>184.60</td>\n",
       "      <td>2019.0</td>\n",
       "      <td>0.1622</td>\n",
       "      <td>0.6656</td>\n",
       "      <td>0.7119</td>\n",
       "      <td>0.2654</td>\n",
       "      <td>0.4601</td>\n",
       "      <td>0.11890</td>\n",
       "      <td>NaN</td>\n",
       "    </tr>\n",
       "    <tr>\n",
       "      <th>1</th>\n",
       "      <td>842517</td>\n",
       "      <td>M</td>\n",
       "      <td>20.57</td>\n",
       "      <td>17.77</td>\n",
       "      <td>132.90</td>\n",
       "      <td>1326.0</td>\n",
       "      <td>0.08474</td>\n",
       "      <td>0.07864</td>\n",
       "      <td>0.0869</td>\n",
       "      <td>0.07017</td>\n",
       "      <td>...</td>\n",
       "      <td>23.41</td>\n",
       "      <td>158.80</td>\n",
       "      <td>1956.0</td>\n",
       "      <td>0.1238</td>\n",
       "      <td>0.1866</td>\n",
       "      <td>0.2416</td>\n",
       "      <td>0.1860</td>\n",
       "      <td>0.2750</td>\n",
       "      <td>0.08902</td>\n",
       "      <td>NaN</td>\n",
       "    </tr>\n",
       "    <tr>\n",
       "      <th>2</th>\n",
       "      <td>84300903</td>\n",
       "      <td>M</td>\n",
       "      <td>19.69</td>\n",
       "      <td>21.25</td>\n",
       "      <td>130.00</td>\n",
       "      <td>1203.0</td>\n",
       "      <td>0.10960</td>\n",
       "      <td>0.15990</td>\n",
       "      <td>0.1974</td>\n",
       "      <td>0.12790</td>\n",
       "      <td>...</td>\n",
       "      <td>25.53</td>\n",
       "      <td>152.50</td>\n",
       "      <td>1709.0</td>\n",
       "      <td>0.1444</td>\n",
       "      <td>0.4245</td>\n",
       "      <td>0.4504</td>\n",
       "      <td>0.2430</td>\n",
       "      <td>0.3613</td>\n",
       "      <td>0.08758</td>\n",
       "      <td>NaN</td>\n",
       "    </tr>\n",
       "    <tr>\n",
       "      <th>3</th>\n",
       "      <td>84348301</td>\n",
       "      <td>M</td>\n",
       "      <td>11.42</td>\n",
       "      <td>20.38</td>\n",
       "      <td>77.58</td>\n",
       "      <td>386.1</td>\n",
       "      <td>0.14250</td>\n",
       "      <td>0.28390</td>\n",
       "      <td>0.2414</td>\n",
       "      <td>0.10520</td>\n",
       "      <td>...</td>\n",
       "      <td>26.50</td>\n",
       "      <td>98.87</td>\n",
       "      <td>567.7</td>\n",
       "      <td>0.2098</td>\n",
       "      <td>0.8663</td>\n",
       "      <td>0.6869</td>\n",
       "      <td>0.2575</td>\n",
       "      <td>0.6638</td>\n",
       "      <td>0.17300</td>\n",
       "      <td>NaN</td>\n",
       "    </tr>\n",
       "    <tr>\n",
       "      <th>4</th>\n",
       "      <td>84358402</td>\n",
       "      <td>M</td>\n",
       "      <td>20.29</td>\n",
       "      <td>14.34</td>\n",
       "      <td>135.10</td>\n",
       "      <td>1297.0</td>\n",
       "      <td>0.10030</td>\n",
       "      <td>0.13280</td>\n",
       "      <td>0.1980</td>\n",
       "      <td>0.10430</td>\n",
       "      <td>...</td>\n",
       "      <td>16.67</td>\n",
       "      <td>152.20</td>\n",
       "      <td>1575.0</td>\n",
       "      <td>0.1374</td>\n",
       "      <td>0.2050</td>\n",
       "      <td>0.4000</td>\n",
       "      <td>0.1625</td>\n",
       "      <td>0.2364</td>\n",
       "      <td>0.07678</td>\n",
       "      <td>NaN</td>\n",
       "    </tr>\n",
       "  </tbody>\n",
       "</table>\n",
       "<p>5 rows × 33 columns</p>\n",
       "</div>"
      ]
     },
     "execution_count": 25,
     "metadata": {},
     "output_type": "execute_result"
    }
   ],
   "execution_count": 25
  },
  {
   "metadata": {
    "ExecuteTime": {
     "end_time": "2025-06-12T07:16:11.795874Z",
     "start_time": "2025-06-12T07:16:11.792265Z"
    }
   },
   "cell_type": "code",
   "source": "df.columns",
   "id": "ccef01515e7594a8",
   "outputs": [
    {
     "data": {
      "text/plain": [
       "Index(['id', 'diagnosis', 'radius_mean', 'texture_mean', 'perimeter_mean',\n",
       "       'area_mean', 'smoothness_mean', 'compactness_mean', 'concavity_mean',\n",
       "       'concave points_mean', 'symmetry_mean', 'fractal_dimension_mean',\n",
       "       'radius_se', 'texture_se', 'perimeter_se', 'area_se', 'smoothness_se',\n",
       "       'compactness_se', 'concavity_se', 'concave points_se', 'symmetry_se',\n",
       "       'fractal_dimension_se', 'radius_worst', 'texture_worst',\n",
       "       'perimeter_worst', 'area_worst', 'smoothness_worst',\n",
       "       'compactness_worst', 'concavity_worst', 'concave points_worst',\n",
       "       'symmetry_worst', 'fractal_dimension_worst', 'Unnamed: 32'],\n",
       "      dtype='object')"
      ]
     },
     "execution_count": 26,
     "metadata": {},
     "output_type": "execute_result"
    }
   ],
   "execution_count": 26
  },
  {
   "metadata": {
    "ExecuteTime": {
     "end_time": "2025-06-12T07:16:13.023337Z",
     "start_time": "2025-06-12T07:16:13.020371Z"
    }
   },
   "cell_type": "code",
   "source": "df.shape",
   "id": "1ae048b6d4800339",
   "outputs": [
    {
     "data": {
      "text/plain": [
       "(569, 33)"
      ]
     },
     "execution_count": 27,
     "metadata": {},
     "output_type": "execute_result"
    }
   ],
   "execution_count": 27
  },
  {
   "metadata": {
    "ExecuteTime": {
     "end_time": "2025-06-12T07:36:53.959041Z",
     "start_time": "2025-06-12T07:36:53.955591Z"
    }
   },
   "cell_type": "code",
   "source": [
    "# Remove unwanted columns\n",
    "\n",
    "df = df.drop(columns=['id','Unnamed: 32'])"
   ],
   "id": "e809ea51d163ddd8",
   "outputs": [],
   "execution_count": 13
  },
  {
   "metadata": {
    "ExecuteTime": {
     "end_time": "2025-06-12T07:16:15.831572Z",
     "start_time": "2025-06-12T07:16:15.827149Z"
    }
   },
   "cell_type": "code",
   "source": "df.columns",
   "id": "25b9d42aa30fc869",
   "outputs": [
    {
     "data": {
      "text/plain": [
       "Index(['diagnosis', 'radius_mean', 'texture_mean', 'perimeter_mean',\n",
       "       'area_mean', 'smoothness_mean', 'compactness_mean', 'concavity_mean',\n",
       "       'concave points_mean', 'symmetry_mean', 'fractal_dimension_mean',\n",
       "       'radius_se', 'texture_se', 'perimeter_se', 'area_se', 'smoothness_se',\n",
       "       'compactness_se', 'concavity_se', 'concave points_se', 'symmetry_se',\n",
       "       'fractal_dimension_se', 'radius_worst', 'texture_worst',\n",
       "       'perimeter_worst', 'area_worst', 'smoothness_worst',\n",
       "       'compactness_worst', 'concavity_worst', 'concave points_worst',\n",
       "       'symmetry_worst', 'fractal_dimension_worst'],\n",
       "      dtype='object')"
      ]
     },
     "execution_count": 29,
     "metadata": {},
     "output_type": "execute_result"
    }
   ],
   "execution_count": 29
  },
  {
   "metadata": {
    "ExecuteTime": {
     "end_time": "2025-06-12T07:16:17.283285Z",
     "start_time": "2025-06-12T07:16:17.280277Z"
    }
   },
   "cell_type": "code",
   "source": "df.shape",
   "id": "1295ae8df85f41a3",
   "outputs": [
    {
     "data": {
      "text/plain": [
       "(569, 31)"
      ]
     },
     "execution_count": 30,
     "metadata": {},
     "output_type": "execute_result"
    }
   ],
   "execution_count": 30
  },
  {
   "metadata": {
    "ExecuteTime": {
     "end_time": "2025-06-12T07:16:18.830258Z",
     "start_time": "2025-06-12T07:16:18.807286Z"
    }
   },
   "cell_type": "code",
   "source": "df.iloc[:,1:] # All rows, from 2nd columns",
   "id": "8ab0f6da4f421ea3",
   "outputs": [
    {
     "data": {
      "text/plain": [
       "     radius_mean  texture_mean  perimeter_mean  area_mean  smoothness_mean  \\\n",
       "0          17.99         10.38          122.80     1001.0          0.11840   \n",
       "1          20.57         17.77          132.90     1326.0          0.08474   \n",
       "2          19.69         21.25          130.00     1203.0          0.10960   \n",
       "3          11.42         20.38           77.58      386.1          0.14250   \n",
       "4          20.29         14.34          135.10     1297.0          0.10030   \n",
       "..           ...           ...             ...        ...              ...   \n",
       "564        21.56         22.39          142.00     1479.0          0.11100   \n",
       "565        20.13         28.25          131.20     1261.0          0.09780   \n",
       "566        16.60         28.08          108.30      858.1          0.08455   \n",
       "567        20.60         29.33          140.10     1265.0          0.11780   \n",
       "568         7.76         24.54           47.92      181.0          0.05263   \n",
       "\n",
       "     compactness_mean  concavity_mean  concave points_mean  symmetry_mean  \\\n",
       "0             0.27760         0.30010              0.14710         0.2419   \n",
       "1             0.07864         0.08690              0.07017         0.1812   \n",
       "2             0.15990         0.19740              0.12790         0.2069   \n",
       "3             0.28390         0.24140              0.10520         0.2597   \n",
       "4             0.13280         0.19800              0.10430         0.1809   \n",
       "..                ...             ...                  ...            ...   \n",
       "564           0.11590         0.24390              0.13890         0.1726   \n",
       "565           0.10340         0.14400              0.09791         0.1752   \n",
       "566           0.10230         0.09251              0.05302         0.1590   \n",
       "567           0.27700         0.35140              0.15200         0.2397   \n",
       "568           0.04362         0.00000              0.00000         0.1587   \n",
       "\n",
       "     fractal_dimension_mean  ...  radius_worst  texture_worst  \\\n",
       "0                   0.07871  ...        25.380          17.33   \n",
       "1                   0.05667  ...        24.990          23.41   \n",
       "2                   0.05999  ...        23.570          25.53   \n",
       "3                   0.09744  ...        14.910          26.50   \n",
       "4                   0.05883  ...        22.540          16.67   \n",
       "..                      ...  ...           ...            ...   \n",
       "564                 0.05623  ...        25.450          26.40   \n",
       "565                 0.05533  ...        23.690          38.25   \n",
       "566                 0.05648  ...        18.980          34.12   \n",
       "567                 0.07016  ...        25.740          39.42   \n",
       "568                 0.05884  ...         9.456          30.37   \n",
       "\n",
       "     perimeter_worst  area_worst  smoothness_worst  compactness_worst  \\\n",
       "0             184.60      2019.0           0.16220            0.66560   \n",
       "1             158.80      1956.0           0.12380            0.18660   \n",
       "2             152.50      1709.0           0.14440            0.42450   \n",
       "3              98.87       567.7           0.20980            0.86630   \n",
       "4             152.20      1575.0           0.13740            0.20500   \n",
       "..               ...         ...               ...                ...   \n",
       "564           166.10      2027.0           0.14100            0.21130   \n",
       "565           155.00      1731.0           0.11660            0.19220   \n",
       "566           126.70      1124.0           0.11390            0.30940   \n",
       "567           184.60      1821.0           0.16500            0.86810   \n",
       "568            59.16       268.6           0.08996            0.06444   \n",
       "\n",
       "     concavity_worst  concave points_worst  symmetry_worst  \\\n",
       "0             0.7119                0.2654          0.4601   \n",
       "1             0.2416                0.1860          0.2750   \n",
       "2             0.4504                0.2430          0.3613   \n",
       "3             0.6869                0.2575          0.6638   \n",
       "4             0.4000                0.1625          0.2364   \n",
       "..               ...                   ...             ...   \n",
       "564           0.4107                0.2216          0.2060   \n",
       "565           0.3215                0.1628          0.2572   \n",
       "566           0.3403                0.1418          0.2218   \n",
       "567           0.9387                0.2650          0.4087   \n",
       "568           0.0000                0.0000          0.2871   \n",
       "\n",
       "     fractal_dimension_worst  \n",
       "0                    0.11890  \n",
       "1                    0.08902  \n",
       "2                    0.08758  \n",
       "3                    0.17300  \n",
       "4                    0.07678  \n",
       "..                       ...  \n",
       "564                  0.07115  \n",
       "565                  0.06637  \n",
       "566                  0.07820  \n",
       "567                  0.12400  \n",
       "568                  0.07039  \n",
       "\n",
       "[569 rows x 30 columns]"
      ],
      "text/html": [
       "<div>\n",
       "<style scoped>\n",
       "    .dataframe tbody tr th:only-of-type {\n",
       "        vertical-align: middle;\n",
       "    }\n",
       "\n",
       "    .dataframe tbody tr th {\n",
       "        vertical-align: top;\n",
       "    }\n",
       "\n",
       "    .dataframe thead th {\n",
       "        text-align: right;\n",
       "    }\n",
       "</style>\n",
       "<table border=\"1\" class=\"dataframe\">\n",
       "  <thead>\n",
       "    <tr style=\"text-align: right;\">\n",
       "      <th></th>\n",
       "      <th>radius_mean</th>\n",
       "      <th>texture_mean</th>\n",
       "      <th>perimeter_mean</th>\n",
       "      <th>area_mean</th>\n",
       "      <th>smoothness_mean</th>\n",
       "      <th>compactness_mean</th>\n",
       "      <th>concavity_mean</th>\n",
       "      <th>concave points_mean</th>\n",
       "      <th>symmetry_mean</th>\n",
       "      <th>fractal_dimension_mean</th>\n",
       "      <th>...</th>\n",
       "      <th>radius_worst</th>\n",
       "      <th>texture_worst</th>\n",
       "      <th>perimeter_worst</th>\n",
       "      <th>area_worst</th>\n",
       "      <th>smoothness_worst</th>\n",
       "      <th>compactness_worst</th>\n",
       "      <th>concavity_worst</th>\n",
       "      <th>concave points_worst</th>\n",
       "      <th>symmetry_worst</th>\n",
       "      <th>fractal_dimension_worst</th>\n",
       "    </tr>\n",
       "  </thead>\n",
       "  <tbody>\n",
       "    <tr>\n",
       "      <th>0</th>\n",
       "      <td>17.99</td>\n",
       "      <td>10.38</td>\n",
       "      <td>122.80</td>\n",
       "      <td>1001.0</td>\n",
       "      <td>0.11840</td>\n",
       "      <td>0.27760</td>\n",
       "      <td>0.30010</td>\n",
       "      <td>0.14710</td>\n",
       "      <td>0.2419</td>\n",
       "      <td>0.07871</td>\n",
       "      <td>...</td>\n",
       "      <td>25.380</td>\n",
       "      <td>17.33</td>\n",
       "      <td>184.60</td>\n",
       "      <td>2019.0</td>\n",
       "      <td>0.16220</td>\n",
       "      <td>0.66560</td>\n",
       "      <td>0.7119</td>\n",
       "      <td>0.2654</td>\n",
       "      <td>0.4601</td>\n",
       "      <td>0.11890</td>\n",
       "    </tr>\n",
       "    <tr>\n",
       "      <th>1</th>\n",
       "      <td>20.57</td>\n",
       "      <td>17.77</td>\n",
       "      <td>132.90</td>\n",
       "      <td>1326.0</td>\n",
       "      <td>0.08474</td>\n",
       "      <td>0.07864</td>\n",
       "      <td>0.08690</td>\n",
       "      <td>0.07017</td>\n",
       "      <td>0.1812</td>\n",
       "      <td>0.05667</td>\n",
       "      <td>...</td>\n",
       "      <td>24.990</td>\n",
       "      <td>23.41</td>\n",
       "      <td>158.80</td>\n",
       "      <td>1956.0</td>\n",
       "      <td>0.12380</td>\n",
       "      <td>0.18660</td>\n",
       "      <td>0.2416</td>\n",
       "      <td>0.1860</td>\n",
       "      <td>0.2750</td>\n",
       "      <td>0.08902</td>\n",
       "    </tr>\n",
       "    <tr>\n",
       "      <th>2</th>\n",
       "      <td>19.69</td>\n",
       "      <td>21.25</td>\n",
       "      <td>130.00</td>\n",
       "      <td>1203.0</td>\n",
       "      <td>0.10960</td>\n",
       "      <td>0.15990</td>\n",
       "      <td>0.19740</td>\n",
       "      <td>0.12790</td>\n",
       "      <td>0.2069</td>\n",
       "      <td>0.05999</td>\n",
       "      <td>...</td>\n",
       "      <td>23.570</td>\n",
       "      <td>25.53</td>\n",
       "      <td>152.50</td>\n",
       "      <td>1709.0</td>\n",
       "      <td>0.14440</td>\n",
       "      <td>0.42450</td>\n",
       "      <td>0.4504</td>\n",
       "      <td>0.2430</td>\n",
       "      <td>0.3613</td>\n",
       "      <td>0.08758</td>\n",
       "    </tr>\n",
       "    <tr>\n",
       "      <th>3</th>\n",
       "      <td>11.42</td>\n",
       "      <td>20.38</td>\n",
       "      <td>77.58</td>\n",
       "      <td>386.1</td>\n",
       "      <td>0.14250</td>\n",
       "      <td>0.28390</td>\n",
       "      <td>0.24140</td>\n",
       "      <td>0.10520</td>\n",
       "      <td>0.2597</td>\n",
       "      <td>0.09744</td>\n",
       "      <td>...</td>\n",
       "      <td>14.910</td>\n",
       "      <td>26.50</td>\n",
       "      <td>98.87</td>\n",
       "      <td>567.7</td>\n",
       "      <td>0.20980</td>\n",
       "      <td>0.86630</td>\n",
       "      <td>0.6869</td>\n",
       "      <td>0.2575</td>\n",
       "      <td>0.6638</td>\n",
       "      <td>0.17300</td>\n",
       "    </tr>\n",
       "    <tr>\n",
       "      <th>4</th>\n",
       "      <td>20.29</td>\n",
       "      <td>14.34</td>\n",
       "      <td>135.10</td>\n",
       "      <td>1297.0</td>\n",
       "      <td>0.10030</td>\n",
       "      <td>0.13280</td>\n",
       "      <td>0.19800</td>\n",
       "      <td>0.10430</td>\n",
       "      <td>0.1809</td>\n",
       "      <td>0.05883</td>\n",
       "      <td>...</td>\n",
       "      <td>22.540</td>\n",
       "      <td>16.67</td>\n",
       "      <td>152.20</td>\n",
       "      <td>1575.0</td>\n",
       "      <td>0.13740</td>\n",
       "      <td>0.20500</td>\n",
       "      <td>0.4000</td>\n",
       "      <td>0.1625</td>\n",
       "      <td>0.2364</td>\n",
       "      <td>0.07678</td>\n",
       "    </tr>\n",
       "    <tr>\n",
       "      <th>...</th>\n",
       "      <td>...</td>\n",
       "      <td>...</td>\n",
       "      <td>...</td>\n",
       "      <td>...</td>\n",
       "      <td>...</td>\n",
       "      <td>...</td>\n",
       "      <td>...</td>\n",
       "      <td>...</td>\n",
       "      <td>...</td>\n",
       "      <td>...</td>\n",
       "      <td>...</td>\n",
       "      <td>...</td>\n",
       "      <td>...</td>\n",
       "      <td>...</td>\n",
       "      <td>...</td>\n",
       "      <td>...</td>\n",
       "      <td>...</td>\n",
       "      <td>...</td>\n",
       "      <td>...</td>\n",
       "      <td>...</td>\n",
       "      <td>...</td>\n",
       "    </tr>\n",
       "    <tr>\n",
       "      <th>564</th>\n",
       "      <td>21.56</td>\n",
       "      <td>22.39</td>\n",
       "      <td>142.00</td>\n",
       "      <td>1479.0</td>\n",
       "      <td>0.11100</td>\n",
       "      <td>0.11590</td>\n",
       "      <td>0.24390</td>\n",
       "      <td>0.13890</td>\n",
       "      <td>0.1726</td>\n",
       "      <td>0.05623</td>\n",
       "      <td>...</td>\n",
       "      <td>25.450</td>\n",
       "      <td>26.40</td>\n",
       "      <td>166.10</td>\n",
       "      <td>2027.0</td>\n",
       "      <td>0.14100</td>\n",
       "      <td>0.21130</td>\n",
       "      <td>0.4107</td>\n",
       "      <td>0.2216</td>\n",
       "      <td>0.2060</td>\n",
       "      <td>0.07115</td>\n",
       "    </tr>\n",
       "    <tr>\n",
       "      <th>565</th>\n",
       "      <td>20.13</td>\n",
       "      <td>28.25</td>\n",
       "      <td>131.20</td>\n",
       "      <td>1261.0</td>\n",
       "      <td>0.09780</td>\n",
       "      <td>0.10340</td>\n",
       "      <td>0.14400</td>\n",
       "      <td>0.09791</td>\n",
       "      <td>0.1752</td>\n",
       "      <td>0.05533</td>\n",
       "      <td>...</td>\n",
       "      <td>23.690</td>\n",
       "      <td>38.25</td>\n",
       "      <td>155.00</td>\n",
       "      <td>1731.0</td>\n",
       "      <td>0.11660</td>\n",
       "      <td>0.19220</td>\n",
       "      <td>0.3215</td>\n",
       "      <td>0.1628</td>\n",
       "      <td>0.2572</td>\n",
       "      <td>0.06637</td>\n",
       "    </tr>\n",
       "    <tr>\n",
       "      <th>566</th>\n",
       "      <td>16.60</td>\n",
       "      <td>28.08</td>\n",
       "      <td>108.30</td>\n",
       "      <td>858.1</td>\n",
       "      <td>0.08455</td>\n",
       "      <td>0.10230</td>\n",
       "      <td>0.09251</td>\n",
       "      <td>0.05302</td>\n",
       "      <td>0.1590</td>\n",
       "      <td>0.05648</td>\n",
       "      <td>...</td>\n",
       "      <td>18.980</td>\n",
       "      <td>34.12</td>\n",
       "      <td>126.70</td>\n",
       "      <td>1124.0</td>\n",
       "      <td>0.11390</td>\n",
       "      <td>0.30940</td>\n",
       "      <td>0.3403</td>\n",
       "      <td>0.1418</td>\n",
       "      <td>0.2218</td>\n",
       "      <td>0.07820</td>\n",
       "    </tr>\n",
       "    <tr>\n",
       "      <th>567</th>\n",
       "      <td>20.60</td>\n",
       "      <td>29.33</td>\n",
       "      <td>140.10</td>\n",
       "      <td>1265.0</td>\n",
       "      <td>0.11780</td>\n",
       "      <td>0.27700</td>\n",
       "      <td>0.35140</td>\n",
       "      <td>0.15200</td>\n",
       "      <td>0.2397</td>\n",
       "      <td>0.07016</td>\n",
       "      <td>...</td>\n",
       "      <td>25.740</td>\n",
       "      <td>39.42</td>\n",
       "      <td>184.60</td>\n",
       "      <td>1821.0</td>\n",
       "      <td>0.16500</td>\n",
       "      <td>0.86810</td>\n",
       "      <td>0.9387</td>\n",
       "      <td>0.2650</td>\n",
       "      <td>0.4087</td>\n",
       "      <td>0.12400</td>\n",
       "    </tr>\n",
       "    <tr>\n",
       "      <th>568</th>\n",
       "      <td>7.76</td>\n",
       "      <td>24.54</td>\n",
       "      <td>47.92</td>\n",
       "      <td>181.0</td>\n",
       "      <td>0.05263</td>\n",
       "      <td>0.04362</td>\n",
       "      <td>0.00000</td>\n",
       "      <td>0.00000</td>\n",
       "      <td>0.1587</td>\n",
       "      <td>0.05884</td>\n",
       "      <td>...</td>\n",
       "      <td>9.456</td>\n",
       "      <td>30.37</td>\n",
       "      <td>59.16</td>\n",
       "      <td>268.6</td>\n",
       "      <td>0.08996</td>\n",
       "      <td>0.06444</td>\n",
       "      <td>0.0000</td>\n",
       "      <td>0.0000</td>\n",
       "      <td>0.2871</td>\n",
       "      <td>0.07039</td>\n",
       "    </tr>\n",
       "  </tbody>\n",
       "</table>\n",
       "<p>569 rows × 30 columns</p>\n",
       "</div>"
      ]
     },
     "execution_count": 31,
     "metadata": {},
     "output_type": "execute_result"
    }
   ],
   "execution_count": 31
  },
  {
   "metadata": {
    "ExecuteTime": {
     "end_time": "2025-06-12T07:16:21.762996Z",
     "start_time": "2025-06-12T07:16:21.757437Z"
    }
   },
   "cell_type": "code",
   "source": "df.iloc[:,0] # All rows, only first column",
   "id": "f513cc1f07b945a2",
   "outputs": [
    {
     "data": {
      "text/plain": [
       "0      M\n",
       "1      M\n",
       "2      M\n",
       "3      M\n",
       "4      M\n",
       "      ..\n",
       "564    M\n",
       "565    M\n",
       "566    M\n",
       "567    M\n",
       "568    B\n",
       "Name: diagnosis, Length: 569, dtype: object"
      ]
     },
     "execution_count": 32,
     "metadata": {},
     "output_type": "execute_result"
    }
   ],
   "execution_count": 32
  },
  {
   "metadata": {
    "ExecuteTime": {
     "end_time": "2025-06-12T07:36:57.638733Z",
     "start_time": "2025-06-12T07:36:57.633996Z"
    }
   },
   "cell_type": "code",
   "source": "X_train, X_test, y_train, y_test = train_test_split(df.iloc[:,1:], df.iloc[:,0], test_size=0.2)",
   "id": "260dba5a714497ec",
   "outputs": [],
   "execution_count": 14
  },
  {
   "metadata": {
    "ExecuteTime": {
     "end_time": "2025-06-12T07:36:59.878Z",
     "start_time": "2025-06-12T07:36:59.872039Z"
    }
   },
   "cell_type": "code",
   "source": [
    "# Scaling\n",
    "\n",
    "scalar = StandardScaler()\n",
    "X_train = scalar.fit_transform(X_train)\n",
    "X_test = scalar.transform(X_test)"
   ],
   "id": "f744f3873fac777e",
   "outputs": [],
   "execution_count": 15
  },
  {
   "metadata": {
    "ExecuteTime": {
     "end_time": "2025-06-12T07:37:00.784163Z",
     "start_time": "2025-06-12T07:37:00.780994Z"
    }
   },
   "cell_type": "code",
   "source": [
    "# Label Encoding\n",
    "\n",
    "# The model might mis-interpret this encoding to be ordinal nature that is 1>0,\n",
    "# will try to use one-hot encoding here afterward - This is wrong;\n",
    "# label encoding is appropriate here as we have only two classes i.e. binary - it's just binary to the model\n",
    "# Models will learn to predict either 0 or 1.; No false ordering issue since there are only two options.\n",
    "# NB - Most PyTorch loss functions (like nn.BCEWithLogitsLoss or nn.CrossEntropyLoss) expect class labels as integers.\n",
    "\n",
    "encoder = LabelEncoder()\n",
    "y_train = encoder.fit_transform(y_train)\n",
    "y_test = encoder.transform(y_test)"
   ],
   "id": "a23d1f11f75b23f6",
   "outputs": [],
   "execution_count": 16
  },
  {
   "metadata": {
    "ExecuteTime": {
     "end_time": "2025-06-12T07:16:29.284524Z",
     "start_time": "2025-06-12T07:16:29.281121Z"
    }
   },
   "cell_type": "code",
   "source": "y_train",
   "id": "a4e59ea415471537",
   "outputs": [
    {
     "data": {
      "text/plain": [
       "array([0, 0, 0, 1, 1, 0, 0, 1, 1, 1, 0, 0, 0, 0, 0, 0, 1, 1, 0, 0, 0, 0,\n",
       "       1, 1, 0, 0, 1, 0, 1, 0, 0, 0, 0, 0, 1, 0, 0, 1, 1, 0, 1, 1, 0, 1,\n",
       "       1, 0, 1, 0, 0, 0, 1, 0, 1, 1, 0, 0, 0, 1, 0, 0, 0, 1, 1, 0, 0, 1,\n",
       "       0, 1, 1, 1, 0, 0, 0, 0, 1, 0, 0, 1, 0, 0, 0, 1, 1, 0, 0, 0, 1, 0,\n",
       "       0, 1, 0, 0, 1, 1, 0, 1, 0, 1, 1, 1, 1, 1, 0, 0, 0, 0, 1, 1, 0, 0,\n",
       "       1, 0, 0, 0, 0, 0, 1, 0, 0, 1, 0, 0, 1, 1, 1, 0, 1, 1, 0, 1, 0, 1,\n",
       "       1, 1, 1, 1, 0, 0, 1, 0, 0, 0, 1, 0, 1, 0, 1, 1, 1, 1, 1, 1, 0, 1,\n",
       "       0, 0, 0, 0, 0, 0, 1, 0, 0, 0, 0, 1, 1, 0, 0, 0, 1, 1, 0, 0, 0, 0,\n",
       "       0, 0, 0, 1, 0, 0, 0, 0, 1, 0, 0, 1, 0, 1, 0, 1, 1, 0, 0, 0, 0, 0,\n",
       "       0, 1, 1, 1, 0, 0, 0, 1, 0, 0, 1, 1, 0, 0, 1, 1, 0, 1, 1, 1, 0, 0,\n",
       "       1, 0, 0, 1, 0, 1, 0, 1, 0, 1, 0, 1, 1, 1, 0, 0, 0, 0, 1, 0, 1, 1,\n",
       "       0, 0, 0, 0, 0, 1, 0, 0, 0, 0, 0, 0, 0, 0, 0, 1, 0, 1, 1, 0, 0, 0,\n",
       "       0, 0, 0, 0, 0, 0, 0, 0, 1, 1, 1, 1, 0, 0, 0, 0, 1, 0, 0, 0, 0, 0,\n",
       "       0, 0, 1, 0, 0, 0, 1, 0, 0, 0, 1, 0, 0, 0, 0, 1, 0, 1, 0, 1, 0, 1,\n",
       "       1, 1, 0, 0, 1, 1, 1, 0, 1, 0, 1, 1, 0, 1, 0, 0, 0, 0, 0, 1, 0, 0,\n",
       "       1, 0, 0, 0, 0, 0, 1, 1, 0, 0, 0, 1, 0, 0, 0, 0, 0, 0, 0, 0, 0, 0,\n",
       "       0, 0, 1, 0, 0, 0, 0, 0, 0, 0, 0, 0, 1, 0, 0, 1, 0, 1, 0, 1, 0, 0,\n",
       "       0, 1, 0, 0, 0, 0, 0, 0, 0, 1, 1, 0, 1, 0, 0, 1, 1, 0, 0, 1, 0, 0,\n",
       "       1, 1, 0, 0, 0, 1, 0, 1, 0, 1, 0, 0, 0, 0, 0, 1, 0, 1, 1, 1, 0, 1,\n",
       "       1, 1, 1, 1, 0, 1, 1, 0, 0, 0, 0, 0, 0, 0, 1, 1, 0, 1, 0, 0, 1, 0,\n",
       "       0, 1, 0, 1, 1, 0, 0, 0, 0, 1, 0, 0, 0, 0, 1])"
      ]
     },
     "execution_count": 36,
     "metadata": {},
     "output_type": "execute_result"
    }
   ],
   "execution_count": 36
  },
  {
   "metadata": {
    "ExecuteTime": {
     "end_time": "2025-06-12T07:37:02.421987Z",
     "start_time": "2025-06-12T07:37:02.418366Z"
    }
   },
   "cell_type": "code",
   "source": [
    "# Converting all these numpy arrays to torch tensors\n",
    "X_train_tensor = torch.from_numpy(X_train)\n",
    "X_test_tensor = torch.from_numpy(X_test)\n",
    "y_train_tensor = torch.from_numpy(y_train)\n",
    "y_test_tensor = torch.from_numpy(y_test)"
   ],
   "id": "6737b611367b1f35",
   "outputs": [],
   "execution_count": 17
  },
  {
   "metadata": {
    "ExecuteTime": {
     "end_time": "2025-06-12T07:17:11.709132Z",
     "start_time": "2025-06-12T07:17:11.706227Z"
    }
   },
   "cell_type": "code",
   "source": [
    "print(X_train_tensor.shape)\n",
    "print(y_train_tensor.shape)"
   ],
   "id": "e3b51604761e8321",
   "outputs": [
    {
     "name": "stdout",
     "output_type": "stream",
     "text": [
      "torch.Size([455, 30])\n",
      "torch.Size([455])\n"
     ]
    }
   ],
   "execution_count": 45
  },
  {
   "metadata": {
    "ExecuteTime": {
     "end_time": "2025-06-12T07:17:09.050640Z",
     "start_time": "2025-06-12T07:17:09.046046Z"
    }
   },
   "cell_type": "code",
   "source": "X_train_tensor[0][0]",
   "id": "30a51de9a1e67e00",
   "outputs": [
    {
     "data": {
      "text/plain": [
       "tensor(-0.2907, dtype=torch.float64)"
      ]
     },
     "execution_count": 44,
     "metadata": {},
     "output_type": "execute_result"
    }
   ],
   "execution_count": 44
  },
  {
   "metadata": {
    "ExecuteTime": {
     "end_time": "2025-06-12T07:37:04.351932Z",
     "start_time": "2025-06-12T07:37:04.347661Z"
    }
   },
   "cell_type": "code",
   "source": [
    "# Defining the model using python OOP to implement training in pytorch\n",
    "# We will be using a single neuron here and it will take input directly from our training data\n",
    "# We have 30 features in our training dataset, so our simple NN here will have 30 weights\n",
    "# and one bias\n",
    "\n",
    "class MySimpleNN():\n",
    "    # defining a constructor\n",
    "    def __init__(self, X):\n",
    "        # Creating a weight matrix of size 30x1 (30 input feature); float64 because the training data has same dtype\n",
    "        self.weights = torch.rand(X.shape[1], 1, dtype = torch.float64, requires_grad=True)\n",
    "        # As we have only 1 neuron we require only 1 item\n",
    "        self.bias = torch.zeros(1, dtype = torch.float64, requires_grad=True)\n",
    "    def forward(self, X):\n",
    "        z = torch.matmul(X, self.weights) + self.bias\n",
    "        y_pred = torch.sigmoid(z)\n",
    "        return y_pred\n",
    "    # As we are working on a classification problem we will use bce loss\n",
    "    def loss(self, y_pred, y):\n",
    "        # Clamp predictions to avoid log(0)\n",
    "        epsilon  = 1e-7\n",
    "        y_pred = torch.clamp(y_pred, epsilon, 1-epsilon)\n",
    "        # calculating the mean to find the overall loss\n",
    "        loss = -(y*torch.log(y_pred) + (1-y)*torch.log(1-y_pred)).mean()\n",
    "        return loss\n",
    "\n"
   ],
   "id": "617354420265d793",
   "outputs": [],
   "execution_count": 18
  },
  {
   "metadata": {
    "ExecuteTime": {
     "end_time": "2025-06-12T07:17:15.028107Z",
     "start_time": "2025-06-12T07:17:15.025323Z"
    }
   },
   "cell_type": "code",
   "source": [
    "# defining params\n",
    "\n",
    "lr = 0.1\n",
    "epochs = 25"
   ],
   "id": "d888e4eb6c5990b7",
   "outputs": [],
   "execution_count": 47
  },
  {
   "metadata": {},
   "cell_type": "markdown",
   "source": [
    "The formula to calculate new weights is -\n",
    "\n",
    "$ W_{\\text{new}} = W_{\\text{old}} - lr \\cdot \\frac{\\partial L}{\\partial w} $\n",
    "\n",
    "The formula to calculate new bias is -\n",
    "\n",
    "$ b_{\\text{new}} = b_{\\text{old}} - lr \\cdot \\frac{\\partial L}{\\partial b} $\n",
    "\n"
   ],
   "id": "b70238700013475c"
  },
  {
   "metadata": {
    "ExecuteTime": {
     "end_time": "2025-06-12T07:37:07.442453Z",
     "start_time": "2025-06-12T07:37:07.257923Z"
    }
   },
   "cell_type": "code",
   "source": [
    "# Training pipeline\n",
    "\n",
    "# create model\n",
    "# to create a model we have to follow mainly four steps and these four steps will be in a loop of epoch times\n",
    "# 1. Forward Pass > 2. Calculate Loss > 3. Backpropagation(Differentiation takes place here)\n",
    "# > 4. Update params like weights and biases\n",
    "\n",
    "model = MySimpleNN(X_train_tensor)\n",
    "\n",
    "for epoch in range(epochs):\n",
    "    # Forward Pass (calculate wx+b and calculate sigmoid)\n",
    "    y_pred = model.forward(X_train_tensor)\n",
    "\n",
    "    # calculate loss\n",
    "    loss = model.loss(y_pred, y_train_tensor)\n",
    "\n",
    "    # backpropagation\n",
    "    loss.backward()\n",
    "\n",
    "    # update params\n",
    "    # In parameters requires grad is set to true; but in this operation we don't need to calculate the gradient\n",
    "    with torch.no_grad():\n",
    "        model.weights -= lr*model.weights.grad\n",
    "        model.bias -= lr*model.bias.grad\n",
    "\n",
    "    # And also there is the problem of gradient accumulation so we set the grad to zero in every epoch\n",
    "    model.weights.grad.zero_()\n",
    "    model.bias.grad.zero_()\n",
    "\n",
    "    # print loss in each epoch\n",
    "    # if epoch % 100 == 0:\n",
    "    print(f'Epoch: {epoch+1}, loss: {loss.item()}')\n",
    "\n"
   ],
   "id": "2c39473bb08d9d8",
   "outputs": [
    {
     "name": "stdout",
     "output_type": "stream",
     "text": [
      "Epoch: 1, loss: 3.585246835669709\n",
      "Epoch: 2, loss: 3.4578276501101866\n",
      "Epoch: 3, loss: 3.3232259285799928\n",
      "Epoch: 4, loss: 3.181332968282852\n",
      "Epoch: 5, loss: 3.0326339617928086\n",
      "Epoch: 6, loss: 2.883085881408115\n",
      "Epoch: 7, loss: 2.725680617912734\n",
      "Epoch: 8, loss: 2.5617561504072195\n",
      "Epoch: 9, loss: 2.39307602093775\n",
      "Epoch: 10, loss: 2.2171789374722457\n",
      "Epoch: 11, loss: 2.0404083581511467\n",
      "Epoch: 12, loss: 1.8657787026004717\n",
      "Epoch: 13, loss: 1.6878868563021214\n",
      "Epoch: 14, loss: 1.5185005404921599\n",
      "Epoch: 15, loss: 1.3564364693711584\n",
      "Epoch: 16, loss: 1.209421305083442\n",
      "Epoch: 17, loss: 1.0806665159063091\n",
      "Epoch: 18, loss: 0.9729479243981096\n",
      "Epoch: 19, loss: 0.88775896390252\n",
      "Epoch: 20, loss: 0.8245599382630946\n",
      "Epoch: 21, loss: 0.780648734076412\n",
      "Epoch: 22, loss: 0.7518682689684122\n",
      "Epoch: 23, loss: 0.7337553061639921\n",
      "Epoch: 24, loss: 0.7224936683403443\n",
      "Epoch: 25, loss: 0.7153304212971058\n"
     ]
    }
   ],
   "execution_count": 19
  },
  {
   "metadata": {
    "ExecuteTime": {
     "end_time": "2025-06-12T07:17:21.135912Z",
     "start_time": "2025-06-12T07:17:21.131625Z"
    }
   },
   "cell_type": "code",
   "source": "model.bias",
   "id": "3f438651a105d04a",
   "outputs": [
    {
     "data": {
      "text/plain": [
       "tensor([-0.1607], dtype=torch.float64, requires_grad=True)"
      ]
     },
     "execution_count": 49,
     "metadata": {},
     "output_type": "execute_result"
    }
   ],
   "execution_count": 49
  },
  {
   "metadata": {
    "ExecuteTime": {
     "end_time": "2025-06-12T07:17:22.283834Z",
     "start_time": "2025-06-12T07:17:22.281476Z"
    }
   },
   "cell_type": "code",
   "source": [
    "print(model.weights.shape)\n",
    "print(model.bias.shape)"
   ],
   "id": "aeb3a1a8f04f27f9",
   "outputs": [
    {
     "name": "stdout",
     "output_type": "stream",
     "text": [
      "torch.Size([30, 1])\n",
      "torch.Size([1])\n"
     ]
    }
   ],
   "execution_count": 50
  },
  {
   "metadata": {
    "ExecuteTime": {
     "end_time": "2025-06-10T15:08:56.633046Z",
     "start_time": "2025-06-10T15:08:56.628385Z"
    }
   },
   "cell_type": "code",
   "source": [
    "# Evaluation\n",
    "\n",
    "with torch.no_grad():\n",
    "    y_pred = model.forward(X_test_tensor)\n",
    "    # y_pred will have value b/w 0 and 1 but we will apply threshold to be able to compare it with original labels\n",
    "    y_pred = (y_pred > 0.9).float()\n",
    "    accuracy = (y_pred == y_test_tensor).float().mean()\n",
    "    print(f'Accuracy: {accuracy:.4f}')\n"
   ],
   "id": "48416148a1aeb804",
   "outputs": [
    {
     "name": "stdout",
     "output_type": "stream",
     "text": [
      "Accuracy: 0.6100\n"
     ]
    }
   ],
   "execution_count": 301
  },
  {
   "metadata": {},
   "cell_type": "code",
   "outputs": [],
   "execution_count": null,
   "source": [
    "# Now we will try to do some improvements\n",
    "# 1. Building the NN using torch.nn module\n",
    "# 2. Using built-inn activation fnc\n",
    "# 3. Using Built-in loss function\n",
    "# 4. Using built-in optimizer\n",
    "\n",
    "# Modules(layers) - nn.Linear(fully connected layers), nn.Conv2d, nn.LSTM(recurrent layer) etc\n",
    "# Activation Fnc - nn.ReLU, nn.Sigmoid, nn.Tanh\n",
    "# Loss Fnc - nn.CrossEntropy, nn.MSELoss, nn.NLLLoss\n",
    "# Container Modules - nn.Sequential - to stack layers in order\n",
    "# Regularization & Droupout - nn.Dropout, nn.BatchNorm2d help prevent overfitting"
   ],
   "id": "80c5b3b6984a7dc7"
  },
  {
   "metadata": {
    "ExecuteTime": {
     "end_time": "2025-06-11T14:45:46.697842Z",
     "start_time": "2025-06-11T14:45:46.694475Z"
    }
   },
   "cell_type": "code",
   "source": [
    "import torch\n",
    "import torch.nn as nn\n",
    "import numpy as np\n",
    "import pandas as pd"
   ],
   "id": "11fe56e983f20cdd",
   "outputs": [],
   "execution_count": 7
  },
  {
   "metadata": {
    "ExecuteTime": {
     "end_time": "2025-06-11T14:47:43.775219Z",
     "start_time": "2025-06-11T14:47:43.771403Z"
    }
   },
   "cell_type": "code",
   "source": [
    "# Creating the base class, which will have all the functionality of the neural network\n",
    "# The class will inherit from nn.Module to get its offerings\n",
    "\n",
    "class Model(nn.Module):\n",
    "    def __init__(self, num_features):\n",
    "        super().__init__() # Invoking the constructor of the parent class with the help of super keyword\n",
    "        # i.e. it is inheriting the properties of nn.module by this\n",
    "        # Now creating a single neuron\n",
    "        self.linear = nn.Linear(num_features, 1, bias=True)  # learns an additive bias (default)\n",
    "        self.sigmoid = nn.Sigmoid()\n",
    "\n",
    "    def forward(self, features):\n",
    "        out = self.linear(features) # calculating z = wx+b here\n",
    "        out = self.sigmoid(out)\n",
    "        return out"
   ],
   "id": "308b58340c5dc0f8",
   "outputs": [],
   "execution_count": 15
  },
  {
   "metadata": {
    "ExecuteTime": {
     "end_time": "2025-06-11T14:47:45.374642Z",
     "start_time": "2025-06-11T14:47:45.370200Z"
    }
   },
   "cell_type": "code",
   "source": [
    "# Creating fake dataset\n",
    "\n",
    "features = torch.rand(10,5)\n",
    "\n",
    "model = Model(features.shape[1]) # taking 5 as features\n",
    "\n",
    "# model.forward(features) # this also works\n",
    "\n",
    "# pytorch uses a magic function named __call__ to override nn.module class\n",
    "# and to invoke forward method whenever any class object is called ( recommended by pytorch)\n",
    "print(model(features))"
   ],
   "id": "6eab80becc498507",
   "outputs": [
    {
     "name": "stdout",
     "output_type": "stream",
     "text": [
      "tensor([[0.4806],\n",
      "        [0.5339],\n",
      "        [0.5571],\n",
      "        [0.5725],\n",
      "        [0.5802],\n",
      "        [0.5088],\n",
      "        [0.5061],\n",
      "        [0.5578],\n",
      "        [0.5813],\n",
      "        [0.5833]], grad_fn=<SigmoidBackward0>)\n"
     ]
    }
   ],
   "execution_count": 16
  },
  {
   "metadata": {
    "ExecuteTime": {
     "end_time": "2025-06-11T14:47:46.969034Z",
     "start_time": "2025-06-11T14:47:46.965195Z"
    }
   },
   "cell_type": "code",
   "source": [
    "# TO show model weight and bias\n",
    "\n",
    "print(model.linear.weight)\n",
    "print(model.linear.bias)"
   ],
   "id": "9ed05083ed8650ce",
   "outputs": [
    {
     "name": "stdout",
     "output_type": "stream",
     "text": [
      "Parameter containing:\n",
      "tensor([[ 0.0148, -0.3514,  0.2876,  0.3673, -0.3074]], requires_grad=True)\n",
      "Parameter containing:\n",
      "tensor([0.1544], requires_grad=True)\n"
     ]
    }
   ],
   "execution_count": 17
  },
  {
   "metadata": {
    "ExecuteTime": {
     "end_time": "2025-06-11T14:48:55.274144Z",
     "start_time": "2025-06-11T14:48:54.907828Z"
    }
   },
   "cell_type": "code",
   "source": [
    "from torchinfo import summary\n",
    "\n",
    "summary(model, input_size=(10,5))"
   ],
   "id": "2dff834b322eed90",
   "outputs": [
    {
     "data": {
      "text/plain": [
       "==========================================================================================\n",
       "Layer (type:depth-idx)                   Output Shape              Param #\n",
       "==========================================================================================\n",
       "Model                                    [10, 1]                   --\n",
       "├─Linear: 1-1                            [10, 1]                   6\n",
       "├─Sigmoid: 1-2                           [10, 1]                   --\n",
       "==========================================================================================\n",
       "Total params: 6\n",
       "Trainable params: 6\n",
       "Non-trainable params: 0\n",
       "Total mult-adds (M): 0.00\n",
       "==========================================================================================\n",
       "Input size (MB): 0.00\n",
       "Forward/backward pass size (MB): 0.00\n",
       "Params size (MB): 0.00\n",
       "Estimated Total Size (MB): 0.00\n",
       "=========================================================================================="
      ]
     },
     "execution_count": 19,
     "metadata": {},
     "output_type": "execute_result"
    }
   ],
   "execution_count": 19
  },
  {
   "metadata": {
    "ExecuteTime": {
     "end_time": "2025-06-11T15:19:53.905573Z",
     "start_time": "2025-06-11T15:19:53.902037Z"
    }
   },
   "cell_type": "code",
   "source": [
    "# Now lets introduce a hidden layer with 3 neurons\n",
    "\n",
    "import torch\n",
    "import torch.nn as nn\n",
    "\n",
    "class Model(nn.Module):\n",
    "    def __init__(self, num_features):\n",
    "        super().__init__()\n",
    "        # hidden layer  is taking 5 input features and giving output 3 weights\n",
    "        self.linear1 = nn.Linear(num_features, 3)\n",
    "        self.relu = nn.ReLU()\n",
    "        self.linear2 = nn.Linear(3,1)\n",
    "        self.sigmoid = nn.Sigmoid()\n",
    "\n",
    "    def forward(self, features):\n",
    "        out = self.linear1(features)\n",
    "        out = self.relu(out)\n",
    "        out = self.linear2(out)\n",
    "        out = self.sigmoid(out)\n",
    "        return out"
   ],
   "id": "21b8e5b2669815fb",
   "outputs": [],
   "execution_count": 11
  },
  {
   "metadata": {
    "ExecuteTime": {
     "end_time": "2025-06-11T15:19:55.266101Z",
     "start_time": "2025-06-11T15:19:55.262270Z"
    }
   },
   "cell_type": "code",
   "source": [
    "# Creating fake dataset\n",
    "\n",
    "features = torch.rand(10,5)\n",
    "\n",
    "model = Model(features.shape[1]) # taking 5 as features\n",
    "\n",
    "print(model(features))"
   ],
   "id": "6c1cd98324a75884",
   "outputs": [
    {
     "name": "stdout",
     "output_type": "stream",
     "text": [
      "tensor([[0.6300],\n",
      "        [0.6134],\n",
      "        [0.6206],\n",
      "        [0.6350],\n",
      "        [0.6231],\n",
      "        [0.6238],\n",
      "        [0.6339],\n",
      "        [0.6186],\n",
      "        [0.6282],\n",
      "        [0.6324]], grad_fn=<SigmoidBackward0>)\n"
     ]
    }
   ],
   "execution_count": 12
  },
  {
   "metadata": {
    "ExecuteTime": {
     "end_time": "2025-06-11T15:19:59.063269Z",
     "start_time": "2025-06-11T15:19:59.059387Z"
    }
   },
   "cell_type": "code",
   "source": [
    "# TO show model weight and bias\n",
    "\n",
    "print(model.linear1.weight)\n",
    "print(model.linear1.bias)"
   ],
   "id": "27e378e4f3d5850f",
   "outputs": [
    {
     "name": "stdout",
     "output_type": "stream",
     "text": [
      "Parameter containing:\n",
      "tensor([[-0.3283, -0.1675,  0.3919, -0.2267,  0.0105],\n",
      "        [ 0.1218, -0.1738, -0.2472,  0.2312, -0.4175],\n",
      "        [ 0.1530, -0.0580,  0.2358,  0.3247,  0.2032]], requires_grad=True)\n",
      "Parameter containing:\n",
      "tensor([0.1909, 0.2953, 0.4168], requires_grad=True)\n"
     ]
    }
   ],
   "execution_count": 13
  },
  {
   "metadata": {
    "ExecuteTime": {
     "end_time": "2025-06-11T15:20:00.195674Z",
     "start_time": "2025-06-11T15:20:00.190997Z"
    }
   },
   "cell_type": "code",
   "source": [
    "# TO show model weight and bias\n",
    "\n",
    "print(model.linear2.weight)\n",
    "print(model.linear2.bias)"
   ],
   "id": "b00697bc471c4d9d",
   "outputs": [
    {
     "name": "stdout",
     "output_type": "stream",
     "text": [
      "Parameter containing:\n",
      "tensor([[0.0430, 0.3181, 0.1576]], requires_grad=True)\n",
      "Parameter containing:\n",
      "tensor([0.3690], requires_grad=True)\n"
     ]
    }
   ],
   "execution_count": 14
  },
  {
   "metadata": {
    "ExecuteTime": {
     "end_time": "2025-06-11T15:20:02.006264Z",
     "start_time": "2025-06-11T15:20:01.991640Z"
    }
   },
   "cell_type": "code",
   "source": [
    "from torchinfo import summary\n",
    "\n",
    "summary(model, input_size=(10,5))"
   ],
   "id": "2b31ce9029327999",
   "outputs": [
    {
     "data": {
      "text/plain": [
       "==========================================================================================\n",
       "Layer (type:depth-idx)                   Output Shape              Param #\n",
       "==========================================================================================\n",
       "Model                                    [10, 1]                   --\n",
       "├─Linear: 1-1                            [10, 3]                   18\n",
       "├─ReLU: 1-2                              [10, 3]                   --\n",
       "├─Linear: 1-3                            [10, 1]                   4\n",
       "├─Sigmoid: 1-4                           [10, 1]                   --\n",
       "==========================================================================================\n",
       "Total params: 22\n",
       "Trainable params: 22\n",
       "Non-trainable params: 0\n",
       "Total mult-adds (M): 0.00\n",
       "==========================================================================================\n",
       "Input size (MB): 0.00\n",
       "Forward/backward pass size (MB): 0.00\n",
       "Params size (MB): 0.00\n",
       "Estimated Total Size (MB): 0.00\n",
       "=========================================================================================="
      ]
     },
     "execution_count": 15,
     "metadata": {},
     "output_type": "execute_result"
    }
   ],
   "execution_count": 15
  },
  {
   "metadata": {
    "ExecuteTime": {
     "end_time": "2025-06-11T15:25:47.438886Z",
     "start_time": "2025-06-11T15:25:47.434662Z"
    }
   },
   "cell_type": "code",
   "source": [
    "# Now we will use Sequential container\n",
    "\n",
    "# Now lets introduce a hidden layer with 3 neurons\n",
    "\n",
    "import torch\n",
    "import torch.nn as nn\n",
    "\n",
    "class Model(nn.Module):\n",
    "    def __init__(self, num_features):\n",
    "        super().__init__()\n",
    "        # hidden layer  is taking 5 input features and giving output 3 weights\n",
    "        # Sequential Container\n",
    "        self.network = nn.Sequential(\n",
    "            nn.Linear(num_features, 3),\n",
    "            nn.ReLU(),\n",
    "            nn.Linear(3,1),\n",
    "            nn.Sigmoid()\n",
    "        )\n",
    "\n",
    "    def forward(self, features):\n",
    "        out = self.network(features)\n",
    "        return out"
   ],
   "id": "f224f6531f69ad",
   "outputs": [],
   "execution_count": 16
  },
  {
   "metadata": {
    "ExecuteTime": {
     "end_time": "2025-06-11T15:25:56.090303Z",
     "start_time": "2025-06-11T15:25:56.084777Z"
    }
   },
   "cell_type": "code",
   "source": [
    "# Creating fake dataset\n",
    "\n",
    "features = torch.rand(10,5)\n",
    "\n",
    "model = Model(features.shape[1]) # taking 5 as features\n",
    "\n",
    "print(model(features))"
   ],
   "id": "7a4f22e3d02be79a",
   "outputs": [
    {
     "name": "stdout",
     "output_type": "stream",
     "text": [
      "tensor([[0.5364],\n",
      "        [0.5476],\n",
      "        [0.5191],\n",
      "        [0.5338],\n",
      "        [0.5244],\n",
      "        [0.5523],\n",
      "        [0.5364],\n",
      "        [0.5363],\n",
      "        [0.5294],\n",
      "        [0.5319]], grad_fn=<SigmoidBackward0>)\n"
     ]
    }
   ],
   "execution_count": 17
  },
  {
   "metadata": {
    "ExecuteTime": {
     "end_time": "2025-06-12T07:37:13.696771Z",
     "start_time": "2025-06-12T07:37:13.694207Z"
    }
   },
   "cell_type": "code",
   "source": [
    "# new training pipeline\n",
    "\n",
    "import numpy as np\n",
    "import pandas as pd\n",
    "import torch\n",
    "import torch.nn as nn\n",
    "from sklearn.model_selection import train_test_split\n",
    "from sklearn.preprocessing import StandardScaler, LabelEncoder"
   ],
   "id": "d8b902640fff498c",
   "outputs": [],
   "execution_count": 20
  },
  {
   "metadata": {
    "ExecuteTime": {
     "end_time": "2025-06-12T07:37:14.714673Z",
     "start_time": "2025-06-12T07:37:14.589881Z"
    }
   },
   "cell_type": "code",
   "source": [
    "df = pd.read_csv('https://raw.githubusercontent.com/gscdit/Breast-Cancer-Detection/refs/heads/master/data.csv')\n",
    "df.head()"
   ],
   "id": "c51709ff74fff337",
   "outputs": [
    {
     "data": {
      "text/plain": [
       "         id diagnosis  radius_mean  texture_mean  perimeter_mean  area_mean  \\\n",
       "0    842302         M        17.99         10.38          122.80     1001.0   \n",
       "1    842517         M        20.57         17.77          132.90     1326.0   \n",
       "2  84300903         M        19.69         21.25          130.00     1203.0   \n",
       "3  84348301         M        11.42         20.38           77.58      386.1   \n",
       "4  84358402         M        20.29         14.34          135.10     1297.0   \n",
       "\n",
       "   smoothness_mean  compactness_mean  concavity_mean  concave points_mean  \\\n",
       "0          0.11840           0.27760          0.3001              0.14710   \n",
       "1          0.08474           0.07864          0.0869              0.07017   \n",
       "2          0.10960           0.15990          0.1974              0.12790   \n",
       "3          0.14250           0.28390          0.2414              0.10520   \n",
       "4          0.10030           0.13280          0.1980              0.10430   \n",
       "\n",
       "   ...  texture_worst  perimeter_worst  area_worst  smoothness_worst  \\\n",
       "0  ...          17.33           184.60      2019.0            0.1622   \n",
       "1  ...          23.41           158.80      1956.0            0.1238   \n",
       "2  ...          25.53           152.50      1709.0            0.1444   \n",
       "3  ...          26.50            98.87       567.7            0.2098   \n",
       "4  ...          16.67           152.20      1575.0            0.1374   \n",
       "\n",
       "   compactness_worst  concavity_worst  concave points_worst  symmetry_worst  \\\n",
       "0             0.6656           0.7119                0.2654          0.4601   \n",
       "1             0.1866           0.2416                0.1860          0.2750   \n",
       "2             0.4245           0.4504                0.2430          0.3613   \n",
       "3             0.8663           0.6869                0.2575          0.6638   \n",
       "4             0.2050           0.4000                0.1625          0.2364   \n",
       "\n",
       "   fractal_dimension_worst  Unnamed: 32  \n",
       "0                  0.11890          NaN  \n",
       "1                  0.08902          NaN  \n",
       "2                  0.08758          NaN  \n",
       "3                  0.17300          NaN  \n",
       "4                  0.07678          NaN  \n",
       "\n",
       "[5 rows x 33 columns]"
      ],
      "text/html": [
       "<div>\n",
       "<style scoped>\n",
       "    .dataframe tbody tr th:only-of-type {\n",
       "        vertical-align: middle;\n",
       "    }\n",
       "\n",
       "    .dataframe tbody tr th {\n",
       "        vertical-align: top;\n",
       "    }\n",
       "\n",
       "    .dataframe thead th {\n",
       "        text-align: right;\n",
       "    }\n",
       "</style>\n",
       "<table border=\"1\" class=\"dataframe\">\n",
       "  <thead>\n",
       "    <tr style=\"text-align: right;\">\n",
       "      <th></th>\n",
       "      <th>id</th>\n",
       "      <th>diagnosis</th>\n",
       "      <th>radius_mean</th>\n",
       "      <th>texture_mean</th>\n",
       "      <th>perimeter_mean</th>\n",
       "      <th>area_mean</th>\n",
       "      <th>smoothness_mean</th>\n",
       "      <th>compactness_mean</th>\n",
       "      <th>concavity_mean</th>\n",
       "      <th>concave points_mean</th>\n",
       "      <th>...</th>\n",
       "      <th>texture_worst</th>\n",
       "      <th>perimeter_worst</th>\n",
       "      <th>area_worst</th>\n",
       "      <th>smoothness_worst</th>\n",
       "      <th>compactness_worst</th>\n",
       "      <th>concavity_worst</th>\n",
       "      <th>concave points_worst</th>\n",
       "      <th>symmetry_worst</th>\n",
       "      <th>fractal_dimension_worst</th>\n",
       "      <th>Unnamed: 32</th>\n",
       "    </tr>\n",
       "  </thead>\n",
       "  <tbody>\n",
       "    <tr>\n",
       "      <th>0</th>\n",
       "      <td>842302</td>\n",
       "      <td>M</td>\n",
       "      <td>17.99</td>\n",
       "      <td>10.38</td>\n",
       "      <td>122.80</td>\n",
       "      <td>1001.0</td>\n",
       "      <td>0.11840</td>\n",
       "      <td>0.27760</td>\n",
       "      <td>0.3001</td>\n",
       "      <td>0.14710</td>\n",
       "      <td>...</td>\n",
       "      <td>17.33</td>\n",
       "      <td>184.60</td>\n",
       "      <td>2019.0</td>\n",
       "      <td>0.1622</td>\n",
       "      <td>0.6656</td>\n",
       "      <td>0.7119</td>\n",
       "      <td>0.2654</td>\n",
       "      <td>0.4601</td>\n",
       "      <td>0.11890</td>\n",
       "      <td>NaN</td>\n",
       "    </tr>\n",
       "    <tr>\n",
       "      <th>1</th>\n",
       "      <td>842517</td>\n",
       "      <td>M</td>\n",
       "      <td>20.57</td>\n",
       "      <td>17.77</td>\n",
       "      <td>132.90</td>\n",
       "      <td>1326.0</td>\n",
       "      <td>0.08474</td>\n",
       "      <td>0.07864</td>\n",
       "      <td>0.0869</td>\n",
       "      <td>0.07017</td>\n",
       "      <td>...</td>\n",
       "      <td>23.41</td>\n",
       "      <td>158.80</td>\n",
       "      <td>1956.0</td>\n",
       "      <td>0.1238</td>\n",
       "      <td>0.1866</td>\n",
       "      <td>0.2416</td>\n",
       "      <td>0.1860</td>\n",
       "      <td>0.2750</td>\n",
       "      <td>0.08902</td>\n",
       "      <td>NaN</td>\n",
       "    </tr>\n",
       "    <tr>\n",
       "      <th>2</th>\n",
       "      <td>84300903</td>\n",
       "      <td>M</td>\n",
       "      <td>19.69</td>\n",
       "      <td>21.25</td>\n",
       "      <td>130.00</td>\n",
       "      <td>1203.0</td>\n",
       "      <td>0.10960</td>\n",
       "      <td>0.15990</td>\n",
       "      <td>0.1974</td>\n",
       "      <td>0.12790</td>\n",
       "      <td>...</td>\n",
       "      <td>25.53</td>\n",
       "      <td>152.50</td>\n",
       "      <td>1709.0</td>\n",
       "      <td>0.1444</td>\n",
       "      <td>0.4245</td>\n",
       "      <td>0.4504</td>\n",
       "      <td>0.2430</td>\n",
       "      <td>0.3613</td>\n",
       "      <td>0.08758</td>\n",
       "      <td>NaN</td>\n",
       "    </tr>\n",
       "    <tr>\n",
       "      <th>3</th>\n",
       "      <td>84348301</td>\n",
       "      <td>M</td>\n",
       "      <td>11.42</td>\n",
       "      <td>20.38</td>\n",
       "      <td>77.58</td>\n",
       "      <td>386.1</td>\n",
       "      <td>0.14250</td>\n",
       "      <td>0.28390</td>\n",
       "      <td>0.2414</td>\n",
       "      <td>0.10520</td>\n",
       "      <td>...</td>\n",
       "      <td>26.50</td>\n",
       "      <td>98.87</td>\n",
       "      <td>567.7</td>\n",
       "      <td>0.2098</td>\n",
       "      <td>0.8663</td>\n",
       "      <td>0.6869</td>\n",
       "      <td>0.2575</td>\n",
       "      <td>0.6638</td>\n",
       "      <td>0.17300</td>\n",
       "      <td>NaN</td>\n",
       "    </tr>\n",
       "    <tr>\n",
       "      <th>4</th>\n",
       "      <td>84358402</td>\n",
       "      <td>M</td>\n",
       "      <td>20.29</td>\n",
       "      <td>14.34</td>\n",
       "      <td>135.10</td>\n",
       "      <td>1297.0</td>\n",
       "      <td>0.10030</td>\n",
       "      <td>0.13280</td>\n",
       "      <td>0.1980</td>\n",
       "      <td>0.10430</td>\n",
       "      <td>...</td>\n",
       "      <td>16.67</td>\n",
       "      <td>152.20</td>\n",
       "      <td>1575.0</td>\n",
       "      <td>0.1374</td>\n",
       "      <td>0.2050</td>\n",
       "      <td>0.4000</td>\n",
       "      <td>0.1625</td>\n",
       "      <td>0.2364</td>\n",
       "      <td>0.07678</td>\n",
       "      <td>NaN</td>\n",
       "    </tr>\n",
       "  </tbody>\n",
       "</table>\n",
       "<p>5 rows × 33 columns</p>\n",
       "</div>"
      ]
     },
     "execution_count": 21,
     "metadata": {},
     "output_type": "execute_result"
    }
   ],
   "execution_count": 21
  },
  {
   "metadata": {
    "ExecuteTime": {
     "end_time": "2025-06-12T07:37:16.374259Z",
     "start_time": "2025-06-12T07:37:16.366783Z"
    }
   },
   "cell_type": "code",
   "source": [
    "# Remove unwanted columns\n",
    "\n",
    "df = df.drop(columns=['id','Unnamed: 32'])\n",
    "X_train, X_test, y_train, y_test = train_test_split(df.iloc[:,1:], df.iloc[:,0], test_size=0.2)\n",
    "\n",
    "# Scaling\n",
    "scalar = StandardScaler()\n",
    "X_train = scalar.fit_transform(X_train)\n",
    "X_test = scalar.transform(X_test)\n",
    "\n",
    "encoder = LabelEncoder()\n",
    "y_train = encoder.fit_transform(y_train)\n",
    "y_test = encoder.transform(y_test)\n",
    "\n",
    "X_train_tensor = torch.from_numpy(X_train.astype(np.float32))\n",
    "X_test_tensor = torch.from_numpy(X_test.astype(np.float32))\n",
    "y_train_tensor = torch.from_numpy(y_train.astype(np.float32))\n",
    "y_test_tensor = torch.from_numpy(y_test.astype(np.float32))"
   ],
   "id": "860339310e4ea750",
   "outputs": [],
   "execution_count": 22
  },
  {
   "metadata": {
    "ExecuteTime": {
     "end_time": "2025-06-12T07:37:18.467280Z",
     "start_time": "2025-06-12T07:37:18.463732Z"
    }
   },
   "cell_type": "code",
   "source": [
    "# Defining our refined model\n",
    "\n",
    "class Model(nn.Module):\n",
    "    def __init__(self, num_features):\n",
    "        super().__init__()\n",
    "        self.linear = nn.Linear(num_features, 1) # Uses single neuron\n",
    "        self.sigmoid = nn.Sigmoid()\n",
    "    def forward(self, features):\n",
    "        out = self.linear(features)\n",
    "        out = self.sigmoid(out)\n",
    "        return out\n",
    "    def loss(self, y_pred, y):\n",
    "        # Clamp predictions to avoid log(0)\n",
    "        epsilon  = 1e-7\n",
    "        y_pred = torch.clamp(y_pred, epsilon, 1-epsilon)\n",
    "        # calculating the mean to find the overall loss\n",
    "        loss = -(y*torch.log(y_pred) + (1-y)*torch.log(1-y_pred)).mean()\n",
    "        return loss\n"
   ],
   "id": "c09f60f06f766057",
   "outputs": [],
   "execution_count": 23
  },
  {
   "metadata": {
    "ExecuteTime": {
     "end_time": "2025-06-12T07:37:19.514351Z",
     "start_time": "2025-06-12T07:37:19.511571Z"
    }
   },
   "cell_type": "code",
   "source": [
    "# defining params\n",
    "\n",
    "lr = 0.1\n",
    "epochs = 25"
   ],
   "id": "a2e7ef5bf81412e6",
   "outputs": [],
   "execution_count": 24
  },
  {
   "metadata": {
    "ExecuteTime": {
     "end_time": "2025-06-12T07:37:21.001055Z",
     "start_time": "2025-06-12T07:37:20.983435Z"
    }
   },
   "cell_type": "code",
   "source": [
    "# creating model\n",
    "\n",
    "model = Model(X_train_tensor.shape[1])\n",
    "\n",
    "for epoch in range(epochs):\n",
    "    # Forward Pass (calculate wx+b and calculate sigmoid)\n",
    "    y_pred = model(X_train_tensor)\n",
    "\n",
    "    # calculate loss\n",
    "    loss = model.loss(y_pred, y_train_tensor)\n",
    "\n",
    "    # backpropagation\n",
    "    loss.backward()\n",
    "\n",
    "    # update params\n",
    "    # In parameters requires grad is set to true; but in this operation we don't need to calculate the gradient\n",
    "    with torch.no_grad():\n",
    "        model.linear.weight -= lr*model.linear.weight.grad\n",
    "        model.linear.bias -= lr*model.linear.bias.grad\n",
    "\n",
    "    # And also there is the problem of gradient accumulation so we set the grad to zero in every epoch\n",
    "    model.linear.weight.grad.zero_()\n",
    "    model.linear.bias.grad.zero_()\n",
    "\n",
    "    # print loss in each epoch\n",
    "    # if epoch % 100 == 0:\n",
    "    print(f'Epoch: {epoch+1}, loss: {loss.item()}')"
   ],
   "id": "dc522b70bf3a4246",
   "outputs": [
    {
     "name": "stdout",
     "output_type": "stream",
     "text": [
      "Epoch: 1, loss: 0.7710052132606506\n",
      "Epoch: 2, loss: 0.7393548488616943\n",
      "Epoch: 3, loss: 0.7207953333854675\n",
      "Epoch: 4, loss: 0.7100563645362854\n",
      "Epoch: 5, loss: 0.7035635113716125\n",
      "Epoch: 6, loss: 0.699272632598877\n",
      "Epoch: 7, loss: 0.6961230039596558\n",
      "Epoch: 8, loss: 0.6935887336730957\n",
      "Epoch: 9, loss: 0.6914131045341492\n",
      "Epoch: 10, loss: 0.689469575881958\n",
      "Epoch: 11, loss: 0.687694251537323\n",
      "Epoch: 12, loss: 0.6860530376434326\n",
      "Epoch: 13, loss: 0.6845256686210632\n",
      "Epoch: 14, loss: 0.6830992698669434\n",
      "Epoch: 15, loss: 0.6817643642425537\n",
      "Epoch: 16, loss: 0.6805136203765869\n",
      "Epoch: 17, loss: 0.6793403029441833\n",
      "Epoch: 18, loss: 0.6782388091087341\n",
      "Epoch: 19, loss: 0.6772041320800781\n",
      "Epoch: 20, loss: 0.6762315630912781\n",
      "Epoch: 21, loss: 0.6753167510032654\n",
      "Epoch: 22, loss: 0.6744558811187744\n",
      "Epoch: 23, loss: 0.6736451387405396\n",
      "Epoch: 24, loss: 0.6728813648223877\n",
      "Epoch: 25, loss: 0.6721612811088562\n"
     ]
    }
   ],
   "execution_count": 25
  },
  {
   "metadata": {
    "ExecuteTime": {
     "end_time": "2025-06-12T07:42:22.738005Z",
     "start_time": "2025-06-12T07:42:22.730876Z"
    }
   },
   "cell_type": "code",
   "source": [
    "with torch.no_grad():\n",
    "    y_pred = model(X_test_tensor)\n",
    "    # y_pred will have value b/w 0 and 1 but we will apply threshold to be able to compare it with original labels\n",
    "    y_pred = (y_pred > 0.9).float()\n",
    "    accuracy = (y_pred == y_test_tensor).float().mean()\n",
    "    print(f'Accuracy: {accuracy:.4f}')\n"
   ],
   "id": "b2fc43d0c6338d30",
   "outputs": [
    {
     "name": "stdout",
     "output_type": "stream",
     "text": [
      "Accuracy: 0.6053\n"
     ]
    }
   ],
   "execution_count": 27
  },
  {
   "metadata": {
    "ExecuteTime": {
     "end_time": "2025-06-12T07:42:59.102023Z",
     "start_time": "2025-06-12T07:42:59.097822Z"
    }
   },
   "cell_type": "code",
   "source": "model.linear.weight # As it had 30 inputs",
   "id": "a30eebaa059f2bc3",
   "outputs": [
    {
     "data": {
      "text/plain": [
       "Parameter containing:\n",
       "tensor([[ 0.0552, -0.0076,  0.1121,  0.0690,  0.0675, -0.0440, -0.0399, -0.0038,\n",
       "          0.1312,  0.0719,  0.0137, -0.1114,  0.1433, -0.1013, -0.0640,  0.1569,\n",
       "         -0.0865, -0.0476, -0.0257,  0.0218, -0.0604, -0.0003, -0.0237, -0.1216,\n",
       "         -0.0838,  0.0302,  0.0428, -0.0659, -0.1030, -0.0604]],\n",
       "       requires_grad=True)"
      ]
     },
     "execution_count": 28,
     "metadata": {},
     "output_type": "execute_result"
    }
   ],
   "execution_count": 28
  },
  {
   "metadata": {
    "ExecuteTime": {
     "end_time": "2025-06-12T07:43:08.375800Z",
     "start_time": "2025-06-12T07:43:08.371527Z"
    }
   },
   "cell_type": "code",
   "source": "model.linear.bias",
   "id": "d097dd082b13c320",
   "outputs": [
    {
     "data": {
      "text/plain": [
       "Parameter containing:\n",
       "tensor([-0.2634], requires_grad=True)"
      ]
     },
     "execution_count": 29,
     "metadata": {},
     "output_type": "execute_result"
    }
   ],
   "execution_count": 29
  },
  {
   "metadata": {
    "ExecuteTime": {
     "end_time": "2025-06-12T07:46:06.361577Z",
     "start_time": "2025-06-12T07:46:06.358023Z"
    }
   },
   "cell_type": "code",
   "source": [
    "# Now using built-in loss function\n",
    "# defining our refined model\n",
    "\n",
    "class Model(nn.Module):\n",
    "    def __init__(self, num_features):\n",
    "        super().__init__()\n",
    "        self.linear = nn.Linear(num_features, 1) # Uses single neuron\n",
    "        self.sigmoid = nn.Sigmoid()\n",
    "    def forward(self, features):\n",
    "        out = self.linear(features)\n",
    "        out = self.sigmoid(out)\n",
    "        return out"
   ],
   "id": "27597e364e747b6e",
   "outputs": [],
   "execution_count": 31
  },
  {
   "metadata": {
    "ExecuteTime": {
     "end_time": "2025-06-12T07:46:07.774707Z",
     "start_time": "2025-06-12T07:46:07.772418Z"
    }
   },
   "cell_type": "code",
   "source": [
    "# defining params\n",
    "\n",
    "lr = 0.1\n",
    "epochs = 25"
   ],
   "id": "c0742dbb61833c14",
   "outputs": [],
   "execution_count": 32
  },
  {
   "metadata": {
    "ExecuteTime": {
     "end_time": "2025-06-12T07:46:35.840708Z",
     "start_time": "2025-06-12T07:46:35.837140Z"
    }
   },
   "cell_type": "code",
   "source": "loss_fnc = nn.BCELoss() # this stores a callable fnc in loss_fnc variable",
   "id": "476ca715a0cb64f2",
   "outputs": [],
   "execution_count": 34
  },
  {
   "metadata": {
    "ExecuteTime": {
     "end_time": "2025-06-12T07:47:27.573067Z",
     "start_time": "2025-06-12T07:47:27.570097Z"
    }
   },
   "cell_type": "code",
   "source": "type(loss_fnc)",
   "id": "c06c9d073d4eea0d",
   "outputs": [
    {
     "data": {
      "text/plain": [
       "torch.nn.modules.loss.BCELoss"
      ]
     },
     "execution_count": 35,
     "metadata": {},
     "output_type": "execute_result"
    }
   ],
   "execution_count": 35
  },
  {
   "metadata": {
    "ExecuteTime": {
     "end_time": "2025-06-12T07:50:24.056916Z",
     "start_time": "2025-06-12T07:50:24.052980Z"
    }
   },
   "cell_type": "code",
   "source": [
    "print(y_pred.shape)\n",
    "print(y_train_tensor.shape)"
   ],
   "id": "4fff1a5f60a98138",
   "outputs": [
    {
     "name": "stdout",
     "output_type": "stream",
     "text": [
      "torch.Size([455, 1])\n",
      "torch.Size([455])\n"
     ]
    }
   ],
   "execution_count": 39
  },
  {
   "metadata": {
    "ExecuteTime": {
     "end_time": "2025-06-12T07:55:07.789314Z",
     "start_time": "2025-06-12T07:55:07.784055Z"
    }
   },
   "cell_type": "code",
   "source": [
    "print(y_train_tensor)\n",
    "print(y_train_tensor.shape)"
   ],
   "id": "44bd0b1666ddaf98",
   "outputs": [
    {
     "name": "stdout",
     "output_type": "stream",
     "text": [
      "tensor([0., 0., 0., 0., 0., 0., 1., 1., 0., 1., 1., 1., 0., 1., 0., 0., 0., 0.,\n",
      "        0., 1., 0., 1., 0., 1., 0., 1., 0., 1., 1., 1., 0., 0., 0., 0., 0., 0.,\n",
      "        0., 1., 0., 1., 0., 0., 0., 1., 1., 1., 1., 0., 1., 1., 1., 0., 0., 0.,\n",
      "        0., 1., 0., 0., 1., 0., 1., 0., 0., 1., 1., 0., 0., 0., 0., 0., 0., 1.,\n",
      "        0., 0., 0., 0., 0., 0., 1., 0., 1., 0., 1., 0., 1., 1., 0., 0., 0., 0.,\n",
      "        0., 0., 0., 1., 0., 0., 0., 1., 1., 1., 0., 1., 0., 1., 0., 0., 0., 1.,\n",
      "        1., 0., 1., 0., 0., 0., 1., 1., 1., 1., 0., 1., 0., 1., 0., 1., 0., 1.,\n",
      "        0., 0., 0., 0., 1., 0., 0., 0., 0., 0., 0., 0., 1., 0., 0., 0., 0., 1.,\n",
      "        1., 0., 0., 0., 1., 1., 0., 0., 1., 0., 1., 0., 1., 0., 0., 0., 0., 0.,\n",
      "        0., 0., 1., 1., 1., 0., 0., 0., 0., 0., 1., 0., 0., 0., 0., 1., 0., 0.,\n",
      "        1., 0., 0., 1., 1., 1., 1., 1., 1., 0., 0., 0., 1., 1., 0., 0., 0., 0.,\n",
      "        0., 0., 0., 0., 0., 0., 0., 0., 1., 0., 0., 0., 0., 1., 0., 0., 1., 0.,\n",
      "        0., 0., 0., 1., 1., 1., 0., 1., 0., 0., 1., 1., 0., 1., 1., 0., 1., 0.,\n",
      "        0., 0., 0., 1., 1., 1., 0., 0., 0., 0., 0., 1., 0., 0., 0., 0., 0., 0.,\n",
      "        0., 0., 0., 0., 1., 0., 1., 1., 1., 0., 0., 0., 0., 0., 1., 0., 0., 0.,\n",
      "        1., 1., 1., 0., 0., 1., 0., 0., 1., 1., 0., 0., 0., 0., 0., 0., 0., 1.,\n",
      "        0., 1., 0., 0., 0., 0., 0., 1., 1., 0., 1., 0., 1., 0., 1., 0., 0., 1.,\n",
      "        1., 0., 0., 1., 0., 0., 0., 0., 1., 1., 0., 1., 0., 0., 0., 0., 0., 1.,\n",
      "        0., 1., 1., 0., 0., 0., 0., 0., 1., 1., 1., 0., 0., 1., 0., 0., 0., 1.,\n",
      "        0., 1., 0., 0., 1., 0., 1., 1., 0., 0., 1., 0., 0., 0., 0., 0., 0., 0.,\n",
      "        0., 0., 0., 0., 1., 1., 1., 1., 1., 0., 0., 0., 0., 1., 1., 1., 1., 0.,\n",
      "        0., 0., 1., 0., 1., 0., 0., 0., 1., 0., 0., 0., 0., 1., 1., 0., 1., 0.,\n",
      "        0., 0., 0., 1., 0., 1., 1., 1., 1., 1., 1., 1., 1., 0., 1., 0., 0., 1.,\n",
      "        0., 1., 0., 1., 1., 0., 0., 0., 0., 0., 1., 0., 1., 0., 0., 0., 0., 1.,\n",
      "        0., 0., 1., 0., 1., 0., 0., 0., 0., 0., 1., 1., 0., 1., 1., 1., 1., 0.,\n",
      "        1., 0., 0., 0., 0.])\n",
      "torch.Size([455])\n"
     ]
    }
   ],
   "execution_count": 46
  },
  {
   "metadata": {
    "ExecuteTime": {
     "end_time": "2025-06-12T07:55:11.453408Z",
     "start_time": "2025-06-12T07:55:11.439321Z"
    }
   },
   "cell_type": "code",
   "source": [
    "print(y_train_tensor.reshape(-1,1))\n",
    "print(y_train_tensor.reshape(-1,1).shape)"
   ],
   "id": "da424e06416a7988",
   "outputs": [
    {
     "name": "stdout",
     "output_type": "stream",
     "text": [
      "tensor([[0.],\n",
      "        [0.],\n",
      "        [0.],\n",
      "        [0.],\n",
      "        [0.],\n",
      "        [0.],\n",
      "        [1.],\n",
      "        [1.],\n",
      "        [0.],\n",
      "        [1.],\n",
      "        [1.],\n",
      "        [1.],\n",
      "        [0.],\n",
      "        [1.],\n",
      "        [0.],\n",
      "        [0.],\n",
      "        [0.],\n",
      "        [0.],\n",
      "        [0.],\n",
      "        [1.],\n",
      "        [0.],\n",
      "        [1.],\n",
      "        [0.],\n",
      "        [1.],\n",
      "        [0.],\n",
      "        [1.],\n",
      "        [0.],\n",
      "        [1.],\n",
      "        [1.],\n",
      "        [1.],\n",
      "        [0.],\n",
      "        [0.],\n",
      "        [0.],\n",
      "        [0.],\n",
      "        [0.],\n",
      "        [0.],\n",
      "        [0.],\n",
      "        [1.],\n",
      "        [0.],\n",
      "        [1.],\n",
      "        [0.],\n",
      "        [0.],\n",
      "        [0.],\n",
      "        [1.],\n",
      "        [1.],\n",
      "        [1.],\n",
      "        [1.],\n",
      "        [0.],\n",
      "        [1.],\n",
      "        [1.],\n",
      "        [1.],\n",
      "        [0.],\n",
      "        [0.],\n",
      "        [0.],\n",
      "        [0.],\n",
      "        [1.],\n",
      "        [0.],\n",
      "        [0.],\n",
      "        [1.],\n",
      "        [0.],\n",
      "        [1.],\n",
      "        [0.],\n",
      "        [0.],\n",
      "        [1.],\n",
      "        [1.],\n",
      "        [0.],\n",
      "        [0.],\n",
      "        [0.],\n",
      "        [0.],\n",
      "        [0.],\n",
      "        [0.],\n",
      "        [1.],\n",
      "        [0.],\n",
      "        [0.],\n",
      "        [0.],\n",
      "        [0.],\n",
      "        [0.],\n",
      "        [0.],\n",
      "        [1.],\n",
      "        [0.],\n",
      "        [1.],\n",
      "        [0.],\n",
      "        [1.],\n",
      "        [0.],\n",
      "        [1.],\n",
      "        [1.],\n",
      "        [0.],\n",
      "        [0.],\n",
      "        [0.],\n",
      "        [0.],\n",
      "        [0.],\n",
      "        [0.],\n",
      "        [0.],\n",
      "        [1.],\n",
      "        [0.],\n",
      "        [0.],\n",
      "        [0.],\n",
      "        [1.],\n",
      "        [1.],\n",
      "        [1.],\n",
      "        [0.],\n",
      "        [1.],\n",
      "        [0.],\n",
      "        [1.],\n",
      "        [0.],\n",
      "        [0.],\n",
      "        [0.],\n",
      "        [1.],\n",
      "        [1.],\n",
      "        [0.],\n",
      "        [1.],\n",
      "        [0.],\n",
      "        [0.],\n",
      "        [0.],\n",
      "        [1.],\n",
      "        [1.],\n",
      "        [1.],\n",
      "        [1.],\n",
      "        [0.],\n",
      "        [1.],\n",
      "        [0.],\n",
      "        [1.],\n",
      "        [0.],\n",
      "        [1.],\n",
      "        [0.],\n",
      "        [1.],\n",
      "        [0.],\n",
      "        [0.],\n",
      "        [0.],\n",
      "        [0.],\n",
      "        [1.],\n",
      "        [0.],\n",
      "        [0.],\n",
      "        [0.],\n",
      "        [0.],\n",
      "        [0.],\n",
      "        [0.],\n",
      "        [0.],\n",
      "        [1.],\n",
      "        [0.],\n",
      "        [0.],\n",
      "        [0.],\n",
      "        [0.],\n",
      "        [1.],\n",
      "        [1.],\n",
      "        [0.],\n",
      "        [0.],\n",
      "        [0.],\n",
      "        [1.],\n",
      "        [1.],\n",
      "        [0.],\n",
      "        [0.],\n",
      "        [1.],\n",
      "        [0.],\n",
      "        [1.],\n",
      "        [0.],\n",
      "        [1.],\n",
      "        [0.],\n",
      "        [0.],\n",
      "        [0.],\n",
      "        [0.],\n",
      "        [0.],\n",
      "        [0.],\n",
      "        [0.],\n",
      "        [1.],\n",
      "        [1.],\n",
      "        [1.],\n",
      "        [0.],\n",
      "        [0.],\n",
      "        [0.],\n",
      "        [0.],\n",
      "        [0.],\n",
      "        [1.],\n",
      "        [0.],\n",
      "        [0.],\n",
      "        [0.],\n",
      "        [0.],\n",
      "        [1.],\n",
      "        [0.],\n",
      "        [0.],\n",
      "        [1.],\n",
      "        [0.],\n",
      "        [0.],\n",
      "        [1.],\n",
      "        [1.],\n",
      "        [1.],\n",
      "        [1.],\n",
      "        [1.],\n",
      "        [1.],\n",
      "        [0.],\n",
      "        [0.],\n",
      "        [0.],\n",
      "        [1.],\n",
      "        [1.],\n",
      "        [0.],\n",
      "        [0.],\n",
      "        [0.],\n",
      "        [0.],\n",
      "        [0.],\n",
      "        [0.],\n",
      "        [0.],\n",
      "        [0.],\n",
      "        [0.],\n",
      "        [0.],\n",
      "        [0.],\n",
      "        [0.],\n",
      "        [1.],\n",
      "        [0.],\n",
      "        [0.],\n",
      "        [0.],\n",
      "        [0.],\n",
      "        [1.],\n",
      "        [0.],\n",
      "        [0.],\n",
      "        [1.],\n",
      "        [0.],\n",
      "        [0.],\n",
      "        [0.],\n",
      "        [0.],\n",
      "        [1.],\n",
      "        [1.],\n",
      "        [1.],\n",
      "        [0.],\n",
      "        [1.],\n",
      "        [0.],\n",
      "        [0.],\n",
      "        [1.],\n",
      "        [1.],\n",
      "        [0.],\n",
      "        [1.],\n",
      "        [1.],\n",
      "        [0.],\n",
      "        [1.],\n",
      "        [0.],\n",
      "        [0.],\n",
      "        [0.],\n",
      "        [0.],\n",
      "        [1.],\n",
      "        [1.],\n",
      "        [1.],\n",
      "        [0.],\n",
      "        [0.],\n",
      "        [0.],\n",
      "        [0.],\n",
      "        [0.],\n",
      "        [1.],\n",
      "        [0.],\n",
      "        [0.],\n",
      "        [0.],\n",
      "        [0.],\n",
      "        [0.],\n",
      "        [0.],\n",
      "        [0.],\n",
      "        [0.],\n",
      "        [0.],\n",
      "        [0.],\n",
      "        [1.],\n",
      "        [0.],\n",
      "        [1.],\n",
      "        [1.],\n",
      "        [1.],\n",
      "        [0.],\n",
      "        [0.],\n",
      "        [0.],\n",
      "        [0.],\n",
      "        [0.],\n",
      "        [1.],\n",
      "        [0.],\n",
      "        [0.],\n",
      "        [0.],\n",
      "        [1.],\n",
      "        [1.],\n",
      "        [1.],\n",
      "        [0.],\n",
      "        [0.],\n",
      "        [1.],\n",
      "        [0.],\n",
      "        [0.],\n",
      "        [1.],\n",
      "        [1.],\n",
      "        [0.],\n",
      "        [0.],\n",
      "        [0.],\n",
      "        [0.],\n",
      "        [0.],\n",
      "        [0.],\n",
      "        [0.],\n",
      "        [1.],\n",
      "        [0.],\n",
      "        [1.],\n",
      "        [0.],\n",
      "        [0.],\n",
      "        [0.],\n",
      "        [0.],\n",
      "        [0.],\n",
      "        [1.],\n",
      "        [1.],\n",
      "        [0.],\n",
      "        [1.],\n",
      "        [0.],\n",
      "        [1.],\n",
      "        [0.],\n",
      "        [1.],\n",
      "        [0.],\n",
      "        [0.],\n",
      "        [1.],\n",
      "        [1.],\n",
      "        [0.],\n",
      "        [0.],\n",
      "        [1.],\n",
      "        [0.],\n",
      "        [0.],\n",
      "        [0.],\n",
      "        [0.],\n",
      "        [1.],\n",
      "        [1.],\n",
      "        [0.],\n",
      "        [1.],\n",
      "        [0.],\n",
      "        [0.],\n",
      "        [0.],\n",
      "        [0.],\n",
      "        [0.],\n",
      "        [1.],\n",
      "        [0.],\n",
      "        [1.],\n",
      "        [1.],\n",
      "        [0.],\n",
      "        [0.],\n",
      "        [0.],\n",
      "        [0.],\n",
      "        [0.],\n",
      "        [1.],\n",
      "        [1.],\n",
      "        [1.],\n",
      "        [0.],\n",
      "        [0.],\n",
      "        [1.],\n",
      "        [0.],\n",
      "        [0.],\n",
      "        [0.],\n",
      "        [1.],\n",
      "        [0.],\n",
      "        [1.],\n",
      "        [0.],\n",
      "        [0.],\n",
      "        [1.],\n",
      "        [0.],\n",
      "        [1.],\n",
      "        [1.],\n",
      "        [0.],\n",
      "        [0.],\n",
      "        [1.],\n",
      "        [0.],\n",
      "        [0.],\n",
      "        [0.],\n",
      "        [0.],\n",
      "        [0.],\n",
      "        [0.],\n",
      "        [0.],\n",
      "        [0.],\n",
      "        [0.],\n",
      "        [0.],\n",
      "        [0.],\n",
      "        [1.],\n",
      "        [1.],\n",
      "        [1.],\n",
      "        [1.],\n",
      "        [1.],\n",
      "        [0.],\n",
      "        [0.],\n",
      "        [0.],\n",
      "        [0.],\n",
      "        [1.],\n",
      "        [1.],\n",
      "        [1.],\n",
      "        [1.],\n",
      "        [0.],\n",
      "        [0.],\n",
      "        [0.],\n",
      "        [1.],\n",
      "        [0.],\n",
      "        [1.],\n",
      "        [0.],\n",
      "        [0.],\n",
      "        [0.],\n",
      "        [1.],\n",
      "        [0.],\n",
      "        [0.],\n",
      "        [0.],\n",
      "        [0.],\n",
      "        [1.],\n",
      "        [1.],\n",
      "        [0.],\n",
      "        [1.],\n",
      "        [0.],\n",
      "        [0.],\n",
      "        [0.],\n",
      "        [0.],\n",
      "        [1.],\n",
      "        [0.],\n",
      "        [1.],\n",
      "        [1.],\n",
      "        [1.],\n",
      "        [1.],\n",
      "        [1.],\n",
      "        [1.],\n",
      "        [1.],\n",
      "        [1.],\n",
      "        [0.],\n",
      "        [1.],\n",
      "        [0.],\n",
      "        [0.],\n",
      "        [1.],\n",
      "        [0.],\n",
      "        [1.],\n",
      "        [0.],\n",
      "        [1.],\n",
      "        [1.],\n",
      "        [0.],\n",
      "        [0.],\n",
      "        [0.],\n",
      "        [0.],\n",
      "        [0.],\n",
      "        [1.],\n",
      "        [0.],\n",
      "        [1.],\n",
      "        [0.],\n",
      "        [0.],\n",
      "        [0.],\n",
      "        [0.],\n",
      "        [1.],\n",
      "        [0.],\n",
      "        [0.],\n",
      "        [1.],\n",
      "        [0.],\n",
      "        [1.],\n",
      "        [0.],\n",
      "        [0.],\n",
      "        [0.],\n",
      "        [0.],\n",
      "        [0.],\n",
      "        [1.],\n",
      "        [1.],\n",
      "        [0.],\n",
      "        [1.],\n",
      "        [1.],\n",
      "        [1.],\n",
      "        [1.],\n",
      "        [0.],\n",
      "        [1.],\n",
      "        [0.],\n",
      "        [0.],\n",
      "        [0.],\n",
      "        [0.]])\n",
      "torch.Size([455, 1])\n"
     ]
    }
   ],
   "execution_count": 47
  },
  {
   "metadata": {
    "ExecuteTime": {
     "end_time": "2025-06-12T07:55:14.724216Z",
     "start_time": "2025-06-12T07:55:14.718675Z"
    }
   },
   "cell_type": "code",
   "source": [
    "print(y_train_tensor.view(-1,1))\n",
    "print(y_train_tensor.view(-1,1).shape)"
   ],
   "id": "2c67acfbf8c539db",
   "outputs": [
    {
     "name": "stdout",
     "output_type": "stream",
     "text": [
      "tensor([[0.],\n",
      "        [0.],\n",
      "        [0.],\n",
      "        [0.],\n",
      "        [0.],\n",
      "        [0.],\n",
      "        [1.],\n",
      "        [1.],\n",
      "        [0.],\n",
      "        [1.],\n",
      "        [1.],\n",
      "        [1.],\n",
      "        [0.],\n",
      "        [1.],\n",
      "        [0.],\n",
      "        [0.],\n",
      "        [0.],\n",
      "        [0.],\n",
      "        [0.],\n",
      "        [1.],\n",
      "        [0.],\n",
      "        [1.],\n",
      "        [0.],\n",
      "        [1.],\n",
      "        [0.],\n",
      "        [1.],\n",
      "        [0.],\n",
      "        [1.],\n",
      "        [1.],\n",
      "        [1.],\n",
      "        [0.],\n",
      "        [0.],\n",
      "        [0.],\n",
      "        [0.],\n",
      "        [0.],\n",
      "        [0.],\n",
      "        [0.],\n",
      "        [1.],\n",
      "        [0.],\n",
      "        [1.],\n",
      "        [0.],\n",
      "        [0.],\n",
      "        [0.],\n",
      "        [1.],\n",
      "        [1.],\n",
      "        [1.],\n",
      "        [1.],\n",
      "        [0.],\n",
      "        [1.],\n",
      "        [1.],\n",
      "        [1.],\n",
      "        [0.],\n",
      "        [0.],\n",
      "        [0.],\n",
      "        [0.],\n",
      "        [1.],\n",
      "        [0.],\n",
      "        [0.],\n",
      "        [1.],\n",
      "        [0.],\n",
      "        [1.],\n",
      "        [0.],\n",
      "        [0.],\n",
      "        [1.],\n",
      "        [1.],\n",
      "        [0.],\n",
      "        [0.],\n",
      "        [0.],\n",
      "        [0.],\n",
      "        [0.],\n",
      "        [0.],\n",
      "        [1.],\n",
      "        [0.],\n",
      "        [0.],\n",
      "        [0.],\n",
      "        [0.],\n",
      "        [0.],\n",
      "        [0.],\n",
      "        [1.],\n",
      "        [0.],\n",
      "        [1.],\n",
      "        [0.],\n",
      "        [1.],\n",
      "        [0.],\n",
      "        [1.],\n",
      "        [1.],\n",
      "        [0.],\n",
      "        [0.],\n",
      "        [0.],\n",
      "        [0.],\n",
      "        [0.],\n",
      "        [0.],\n",
      "        [0.],\n",
      "        [1.],\n",
      "        [0.],\n",
      "        [0.],\n",
      "        [0.],\n",
      "        [1.],\n",
      "        [1.],\n",
      "        [1.],\n",
      "        [0.],\n",
      "        [1.],\n",
      "        [0.],\n",
      "        [1.],\n",
      "        [0.],\n",
      "        [0.],\n",
      "        [0.],\n",
      "        [1.],\n",
      "        [1.],\n",
      "        [0.],\n",
      "        [1.],\n",
      "        [0.],\n",
      "        [0.],\n",
      "        [0.],\n",
      "        [1.],\n",
      "        [1.],\n",
      "        [1.],\n",
      "        [1.],\n",
      "        [0.],\n",
      "        [1.],\n",
      "        [0.],\n",
      "        [1.],\n",
      "        [0.],\n",
      "        [1.],\n",
      "        [0.],\n",
      "        [1.],\n",
      "        [0.],\n",
      "        [0.],\n",
      "        [0.],\n",
      "        [0.],\n",
      "        [1.],\n",
      "        [0.],\n",
      "        [0.],\n",
      "        [0.],\n",
      "        [0.],\n",
      "        [0.],\n",
      "        [0.],\n",
      "        [0.],\n",
      "        [1.],\n",
      "        [0.],\n",
      "        [0.],\n",
      "        [0.],\n",
      "        [0.],\n",
      "        [1.],\n",
      "        [1.],\n",
      "        [0.],\n",
      "        [0.],\n",
      "        [0.],\n",
      "        [1.],\n",
      "        [1.],\n",
      "        [0.],\n",
      "        [0.],\n",
      "        [1.],\n",
      "        [0.],\n",
      "        [1.],\n",
      "        [0.],\n",
      "        [1.],\n",
      "        [0.],\n",
      "        [0.],\n",
      "        [0.],\n",
      "        [0.],\n",
      "        [0.],\n",
      "        [0.],\n",
      "        [0.],\n",
      "        [1.],\n",
      "        [1.],\n",
      "        [1.],\n",
      "        [0.],\n",
      "        [0.],\n",
      "        [0.],\n",
      "        [0.],\n",
      "        [0.],\n",
      "        [1.],\n",
      "        [0.],\n",
      "        [0.],\n",
      "        [0.],\n",
      "        [0.],\n",
      "        [1.],\n",
      "        [0.],\n",
      "        [0.],\n",
      "        [1.],\n",
      "        [0.],\n",
      "        [0.],\n",
      "        [1.],\n",
      "        [1.],\n",
      "        [1.],\n",
      "        [1.],\n",
      "        [1.],\n",
      "        [1.],\n",
      "        [0.],\n",
      "        [0.],\n",
      "        [0.],\n",
      "        [1.],\n",
      "        [1.],\n",
      "        [0.],\n",
      "        [0.],\n",
      "        [0.],\n",
      "        [0.],\n",
      "        [0.],\n",
      "        [0.],\n",
      "        [0.],\n",
      "        [0.],\n",
      "        [0.],\n",
      "        [0.],\n",
      "        [0.],\n",
      "        [0.],\n",
      "        [1.],\n",
      "        [0.],\n",
      "        [0.],\n",
      "        [0.],\n",
      "        [0.],\n",
      "        [1.],\n",
      "        [0.],\n",
      "        [0.],\n",
      "        [1.],\n",
      "        [0.],\n",
      "        [0.],\n",
      "        [0.],\n",
      "        [0.],\n",
      "        [1.],\n",
      "        [1.],\n",
      "        [1.],\n",
      "        [0.],\n",
      "        [1.],\n",
      "        [0.],\n",
      "        [0.],\n",
      "        [1.],\n",
      "        [1.],\n",
      "        [0.],\n",
      "        [1.],\n",
      "        [1.],\n",
      "        [0.],\n",
      "        [1.],\n",
      "        [0.],\n",
      "        [0.],\n",
      "        [0.],\n",
      "        [0.],\n",
      "        [1.],\n",
      "        [1.],\n",
      "        [1.],\n",
      "        [0.],\n",
      "        [0.],\n",
      "        [0.],\n",
      "        [0.],\n",
      "        [0.],\n",
      "        [1.],\n",
      "        [0.],\n",
      "        [0.],\n",
      "        [0.],\n",
      "        [0.],\n",
      "        [0.],\n",
      "        [0.],\n",
      "        [0.],\n",
      "        [0.],\n",
      "        [0.],\n",
      "        [0.],\n",
      "        [1.],\n",
      "        [0.],\n",
      "        [1.],\n",
      "        [1.],\n",
      "        [1.],\n",
      "        [0.],\n",
      "        [0.],\n",
      "        [0.],\n",
      "        [0.],\n",
      "        [0.],\n",
      "        [1.],\n",
      "        [0.],\n",
      "        [0.],\n",
      "        [0.],\n",
      "        [1.],\n",
      "        [1.],\n",
      "        [1.],\n",
      "        [0.],\n",
      "        [0.],\n",
      "        [1.],\n",
      "        [0.],\n",
      "        [0.],\n",
      "        [1.],\n",
      "        [1.],\n",
      "        [0.],\n",
      "        [0.],\n",
      "        [0.],\n",
      "        [0.],\n",
      "        [0.],\n",
      "        [0.],\n",
      "        [0.],\n",
      "        [1.],\n",
      "        [0.],\n",
      "        [1.],\n",
      "        [0.],\n",
      "        [0.],\n",
      "        [0.],\n",
      "        [0.],\n",
      "        [0.],\n",
      "        [1.],\n",
      "        [1.],\n",
      "        [0.],\n",
      "        [1.],\n",
      "        [0.],\n",
      "        [1.],\n",
      "        [0.],\n",
      "        [1.],\n",
      "        [0.],\n",
      "        [0.],\n",
      "        [1.],\n",
      "        [1.],\n",
      "        [0.],\n",
      "        [0.],\n",
      "        [1.],\n",
      "        [0.],\n",
      "        [0.],\n",
      "        [0.],\n",
      "        [0.],\n",
      "        [1.],\n",
      "        [1.],\n",
      "        [0.],\n",
      "        [1.],\n",
      "        [0.],\n",
      "        [0.],\n",
      "        [0.],\n",
      "        [0.],\n",
      "        [0.],\n",
      "        [1.],\n",
      "        [0.],\n",
      "        [1.],\n",
      "        [1.],\n",
      "        [0.],\n",
      "        [0.],\n",
      "        [0.],\n",
      "        [0.],\n",
      "        [0.],\n",
      "        [1.],\n",
      "        [1.],\n",
      "        [1.],\n",
      "        [0.],\n",
      "        [0.],\n",
      "        [1.],\n",
      "        [0.],\n",
      "        [0.],\n",
      "        [0.],\n",
      "        [1.],\n",
      "        [0.],\n",
      "        [1.],\n",
      "        [0.],\n",
      "        [0.],\n",
      "        [1.],\n",
      "        [0.],\n",
      "        [1.],\n",
      "        [1.],\n",
      "        [0.],\n",
      "        [0.],\n",
      "        [1.],\n",
      "        [0.],\n",
      "        [0.],\n",
      "        [0.],\n",
      "        [0.],\n",
      "        [0.],\n",
      "        [0.],\n",
      "        [0.],\n",
      "        [0.],\n",
      "        [0.],\n",
      "        [0.],\n",
      "        [0.],\n",
      "        [1.],\n",
      "        [1.],\n",
      "        [1.],\n",
      "        [1.],\n",
      "        [1.],\n",
      "        [0.],\n",
      "        [0.],\n",
      "        [0.],\n",
      "        [0.],\n",
      "        [1.],\n",
      "        [1.],\n",
      "        [1.],\n",
      "        [1.],\n",
      "        [0.],\n",
      "        [0.],\n",
      "        [0.],\n",
      "        [1.],\n",
      "        [0.],\n",
      "        [1.],\n",
      "        [0.],\n",
      "        [0.],\n",
      "        [0.],\n",
      "        [1.],\n",
      "        [0.],\n",
      "        [0.],\n",
      "        [0.],\n",
      "        [0.],\n",
      "        [1.],\n",
      "        [1.],\n",
      "        [0.],\n",
      "        [1.],\n",
      "        [0.],\n",
      "        [0.],\n",
      "        [0.],\n",
      "        [0.],\n",
      "        [1.],\n",
      "        [0.],\n",
      "        [1.],\n",
      "        [1.],\n",
      "        [1.],\n",
      "        [1.],\n",
      "        [1.],\n",
      "        [1.],\n",
      "        [1.],\n",
      "        [1.],\n",
      "        [0.],\n",
      "        [1.],\n",
      "        [0.],\n",
      "        [0.],\n",
      "        [1.],\n",
      "        [0.],\n",
      "        [1.],\n",
      "        [0.],\n",
      "        [1.],\n",
      "        [1.],\n",
      "        [0.],\n",
      "        [0.],\n",
      "        [0.],\n",
      "        [0.],\n",
      "        [0.],\n",
      "        [1.],\n",
      "        [0.],\n",
      "        [1.],\n",
      "        [0.],\n",
      "        [0.],\n",
      "        [0.],\n",
      "        [0.],\n",
      "        [1.],\n",
      "        [0.],\n",
      "        [0.],\n",
      "        [1.],\n",
      "        [0.],\n",
      "        [1.],\n",
      "        [0.],\n",
      "        [0.],\n",
      "        [0.],\n",
      "        [0.],\n",
      "        [0.],\n",
      "        [1.],\n",
      "        [1.],\n",
      "        [0.],\n",
      "        [1.],\n",
      "        [1.],\n",
      "        [1.],\n",
      "        [1.],\n",
      "        [0.],\n",
      "        [1.],\n",
      "        [0.],\n",
      "        [0.],\n",
      "        [0.],\n",
      "        [0.]])\n",
      "torch.Size([455, 1])\n"
     ]
    }
   ],
   "execution_count": 48
  },
  {
   "metadata": {
    "ExecuteTime": {
     "end_time": "2025-06-12T07:59:41.407535Z",
     "start_time": "2025-06-12T07:59:41.394025Z"
    }
   },
   "cell_type": "code",
   "source": [
    "# creating model\n",
    "\n",
    "model = Model(X_train_tensor.shape[1])\n",
    "\n",
    "for epoch in range(epochs):\n",
    "    # Forward Pass (calculate wx+b and calculate sigmoid)\n",
    "    y_pred = model(X_train_tensor)\n",
    "\n",
    "    # updated calculate loss\n",
    "    \"\"\"using loss_fnc(y_pred, y_train_tensor) will throw the below error -\n",
    "    ValueError: Using a target size (torch.Size([455])) that is different to the input\n",
    "    size (torch.Size([455, 1])) is deprecated. Please ensure they have the same size.\n",
    "    We have to reshape y_train_tensor to the shape of y_pred i.e. [455, 1]\n",
    "    \"\"\"\n",
    "    # Using view for reshape is better for contiguous data\n",
    "    loss = loss_fnc(y_pred, y_train_tensor.view(-1,1))\n",
    "\n",
    "    # backpropagation\n",
    "    loss.backward()\n",
    "\n",
    "    # update params\n",
    "    # In parameters requires grad is set to true; but in this operation we don't need to calculate the gradient\n",
    "    with torch.no_grad():\n",
    "        model.linear.weight -= lr*model.linear.weight.grad\n",
    "        model.linear.bias -= lr*model.linear.bias.grad\n",
    "\n",
    "    # And also there is the problem of gradient accumulation so we set the grad to zero in every epoch\n",
    "    model.linear.weight.grad.zero_()\n",
    "    model.linear.bias.grad.zero_()\n",
    "\n",
    "    # print loss in each epoch\n",
    "    # if epoch % 100 == 0:\n",
    "    print(f'Epoch: {epoch+1}, loss: {loss.item()}')"
   ],
   "id": "723d2dcb80b2d7f",
   "outputs": [
    {
     "name": "stdout",
     "output_type": "stream",
     "text": [
      "Epoch: 1, loss: 0.502975583076477\n",
      "Epoch: 2, loss: 0.42804113030433655\n",
      "Epoch: 3, loss: 0.37938034534454346\n",
      "Epoch: 4, loss: 0.3446447551250458\n",
      "Epoch: 5, loss: 0.3182747960090637\n",
      "Epoch: 6, loss: 0.2973838150501251\n",
      "Epoch: 7, loss: 0.2803102135658264\n",
      "Epoch: 8, loss: 0.26602208614349365\n",
      "Epoch: 9, loss: 0.2538403570652008\n",
      "Epoch: 10, loss: 0.24329715967178345\n",
      "Epoch: 11, loss: 0.23405836522579193\n",
      "Epoch: 12, loss: 0.2258777618408203\n",
      "Epoch: 13, loss: 0.2185695618391037\n",
      "Epoch: 14, loss: 0.21199050545692444\n",
      "Epoch: 15, loss: 0.20602808892726898\n",
      "Epoch: 16, loss: 0.20059268176555634\n",
      "Epoch: 17, loss: 0.1956116259098053\n",
      "Epoch: 18, loss: 0.19102565944194794\n",
      "Epoch: 19, loss: 0.18678562343120575\n",
      "Epoch: 20, loss: 0.18285053968429565\n",
      "Epoch: 21, loss: 0.1791858673095703\n",
      "Epoch: 22, loss: 0.17576228082180023\n",
      "Epoch: 23, loss: 0.17255468666553497\n",
      "Epoch: 24, loss: 0.16954144835472107\n",
      "Epoch: 25, loss: 0.1667039543390274\n"
     ]
    }
   ],
   "execution_count": 49
  },
  {
   "metadata": {
    "ExecuteTime": {
     "end_time": "2025-06-12T08:00:26.218149Z",
     "start_time": "2025-06-12T08:00:26.212942Z"
    }
   },
   "cell_type": "code",
   "source": [
    "print(model.linear.weight) # As it had 30 inputs\n",
    "print(model.linear.bias) # As it had 30 inputs"
   ],
   "id": "3f6253697d2281aa",
   "outputs": [
    {
     "name": "stdout",
     "output_type": "stream",
     "text": [
      "Parameter containing:\n",
      "tensor([[ 3.8608e-01,  2.7941e-01,  1.5319e-01,  1.8461e-01,  2.4582e-04,\n",
      "          2.4296e-01,  9.1008e-02,  2.7261e-01, -2.5183e-02, -9.3347e-02,\n",
      "          3.3434e-01, -2.6651e-02,  1.6844e-01,  2.3591e-01, -8.0557e-03,\n",
      "          9.7119e-02, -1.8941e-01,  1.6798e-02, -1.2703e-01, -1.3956e-02,\n",
      "          1.9268e-01,  6.8745e-02,  4.8750e-02,  3.6882e-01,  1.3516e-01,\n",
      "          2.5265e-01,  2.8897e-01,  2.9663e-01,  1.3014e-01,  1.8046e-01]],\n",
      "       requires_grad=True)\n",
      "Parameter containing:\n",
      "tensor([-0.2700], requires_grad=True)\n"
     ]
    }
   ],
   "execution_count": 50
  },
  {
   "metadata": {
    "ExecuteTime": {
     "end_time": "2025-06-12T08:03:23.736317Z",
     "start_time": "2025-06-12T08:03:23.732164Z"
    }
   },
   "cell_type": "code",
   "source": [
    "with torch.no_grad():\n",
    "    y_pred = model(X_test_tensor)\n",
    "    y_pred = (y_pred > 0.5).float()\n",
    "    accu = (y_pred == y_test_tensor).float().mean()\n",
    "    print(f'Accuracy is: {accu:.4f}')\n"
   ],
   "id": "d7c1fb7c6d58cc46",
   "outputs": [
    {
     "name": "stdout",
     "output_type": "stream",
     "text": [
      "Accuracy is: 0.5332\n"
     ]
    }
   ],
   "execution_count": 56
  },
  {
   "metadata": {
    "ExecuteTime": {
     "end_time": "2025-06-12T11:20:52.191169Z",
     "start_time": "2025-06-12T11:20:52.186509Z"
    }
   },
   "cell_type": "code",
   "source": [
    "# Now we will be using torch.optim\n",
    "\n",
    "# It helps to update params of model during training\n",
    "# It handles weight updates efficiently, including additional features like learning rate scheduling and weight decay(regularization)\n",
    "# Adam, SGD, RMSProp, Momentum-based optimization etc.\n",
    "\n",
    "# models.parameters() retrieves an iterator over all the trainable params(weights and biases) in a model\n",
    "# These params are instances of torch.nn.Parameter and include weights and biases to compute gradient and update during training\n",
    "# https://www.comet.com/site/blog/7-optimization-methods-used-in-deep-learning/#:~:text=Momentum%2Dbased%20optimization%20takes%20steps,value%20of%20the%20objective%20function\n",
    "\n",
    "\n",
    "import torch\n",
    "import torch.nn as nn\n",
    "\n",
    "class Model(nn.Module):\n",
    "    def __init__(self, num_features):\n",
    "        super().__init__()\n",
    "        self.linear = nn.Linear(num_features, 1)\n",
    "        self.sigmoid = nn.Sigmoid()\n",
    "    def forward(self, features):\n",
    "        out = self.linear(features)\n",
    "        out = self.sigmoid(out)\n",
    "        return out\n"
   ],
   "id": "76089d2ac386e909",
   "outputs": [],
   "execution_count": 64
  },
  {
   "metadata": {
    "ExecuteTime": {
     "end_time": "2025-06-12T11:20:54.312944Z",
     "start_time": "2025-06-12T11:20:54.297086Z"
    }
   },
   "cell_type": "code",
   "source": [
    "lr = 0.1\n",
    "epochs = 25\n",
    "\n",
    "loss_fnc = nn.BCELoss()\n",
    "\n",
    "# creating model\n",
    "model = Model(X_train_tensor.shape[1])\n",
    "\n",
    "# define optimizer\n",
    "optimizer = torch.optim.SGD(model.parameters(), lr=lr)\n",
    "\n",
    "for epoch in range(epochs):\n",
    "    # Forward Pass (calculate wx+b and calculate sigmoid)\n",
    "    y_pred = model(X_train_tensor)\n",
    "\n",
    "    # updated calculate loss\n",
    "    \"\"\"using loss_fnc(y_pred, y_train_tensor) will throw the below error -\n",
    "    ValueError: Using a target size (torch.Size([455])) that is different to the input\n",
    "    size (torch.Size([455, 1])) is deprecated. Please ensure they have the same size.\n",
    "    We have to reshape y_train_tensor to the shape of y_pred i.e. [455, 1]\n",
    "    \"\"\"\n",
    "    # Using view for reshape is better for contiguous data\n",
    "    loss = loss_fnc(y_pred, y_train_tensor.view(-1,1))\n",
    "\n",
    "    # One Line of code to make the grad zero in every epoch through optimizer\n",
    "    # Also, good strategy is to clear gradient before backward pass\n",
    "    optimizer.zero_grad()\n",
    "\n",
    "    # backpropagation\n",
    "    loss.backward()\n",
    "\n",
    "    # optimizer step\n",
    "    optimizer.step()\n",
    "\n",
    "    # print loss in each epoch\n",
    "    # if epoch % 100 == 0:\n",
    "    print(f'Epoch: {epoch+1}, loss: {loss.item()}')"
   ],
   "id": "574d0b39f2945cd5",
   "outputs": [
    {
     "name": "stdout",
     "output_type": "stream",
     "text": [
      "Epoch: 1, loss: 0.6295826435089111\n",
      "Epoch: 2, loss: 0.4938165545463562\n",
      "Epoch: 3, loss: 0.4192256033420563\n",
      "Epoch: 4, loss: 0.3717206120491028\n",
      "Epoch: 5, loss: 0.3381211459636688\n",
      "Epoch: 6, loss: 0.3126978576183319\n",
      "Epoch: 7, loss: 0.292562335729599\n",
      "Epoch: 8, loss: 0.2760840058326721\n",
      "Epoch: 9, loss: 0.2622630298137665\n",
      "Epoch: 10, loss: 0.2504471242427826\n",
      "Epoch: 11, loss: 0.2401900589466095\n",
      "Epoch: 12, loss: 0.2311745434999466\n",
      "Epoch: 13, loss: 0.2231678068637848\n",
      "Epoch: 14, loss: 0.21599481999874115\n",
      "Epoch: 15, loss: 0.20952065289020538\n",
      "Epoch: 16, loss: 0.20363964140415192\n",
      "Epoch: 17, loss: 0.19826743006706238\n",
      "Epoch: 18, loss: 0.19333569705486298\n",
      "Epoch: 19, loss: 0.1887885481119156\n",
      "Epoch: 20, loss: 0.184579536318779\n",
      "Epoch: 21, loss: 0.18066973984241486\n",
      "Epoch: 22, loss: 0.17702627182006836\n",
      "Epoch: 23, loss: 0.1736210733652115\n",
      "Epoch: 24, loss: 0.1704300194978714\n",
      "Epoch: 25, loss: 0.1674322783946991\n"
     ]
    }
   ],
   "execution_count": 65
  },
  {
   "metadata": {
    "ExecuteTime": {
     "end_time": "2025-06-12T11:22:48.692584Z",
     "start_time": "2025-06-12T11:22:48.689275Z"
    }
   },
   "cell_type": "code",
   "source": [
    "with torch.no_grad():\n",
    "    y_pred = model(X_test_tensor)\n",
    "    y_pred = (y_pred > 0.9).float()\n",
    "    accu = (y_pred == y_test_tensor).float().mean()\n",
    "    print(f'Accuracy is: {accu:.4f}')\n"
   ],
   "id": "182be00dac895ec",
   "outputs": [
    {
     "name": "stdout",
     "output_type": "stream",
     "text": [
      "Accuracy is: 0.5628\n"
     ]
    }
   ],
   "execution_count": 66
  },
  {
   "metadata": {
    "ExecuteTime": {
     "end_time": "2025-06-14T07:38:57.303271Z",
     "start_time": "2025-06-14T07:38:57.299946Z"
    }
   },
   "cell_type": "code",
   "source": [
    "# so, our training pipeline build so far has a flaw i.e. we are using batch gradient descent when training the model.\n",
    "# i.e. we are using our whole dataset at a time when updating our parameters\n",
    "# we are using whole dataset in a single forward pass, calculating loss on the whole dataset and we are calculating gradients and\n",
    "# updating params based on it\n",
    "# batch gradient descent is considered inefficient because it is memory inefficient and\n",
    "# it doesn't have a good convergence\n",
    "# like the model is seeing the data but is not optimising it in step but at once making the optimization slow;\n",
    "# optimization steps should be frequent that's why we use sgd(update param after seeing every row-making it converge faster)\n",
    "\n",
    "# we will use mini batch gradient descent i.e. it will divide the batch into mini batches\n",
    "\n",
    "# there could be simple solution to this where we use the mini batch gradient descent by doing manual code(calculating grad every n step)\n",
    "# but this could cause problem such as - 1) No standard interface for data (creates problem for large datasets)\n",
    "# 2) No easy way to apply transformation\n",
    "# 3) Shuffling and sampling\n",
    "# 4) Batch management and parallelization\n",
    "\n",
    "# That's why to handle this problem pytorch gives two classes dataset and dataloaders\n",
    "# Dataset and Dataloader simplifies and decouples the process of loading the data and the process of using the data to training\n",
    "# The data lies in the memory; the datasets class knows where the data lies and loads the data from the memory;\n",
    "# The dataloader class handle how to create batches, shuffling and parallel loading\n",
    "# The dataset is an abstract class; its actually a blueprint; it is defined by -\n",
    "# 1) __init__ (a constructor here) - tells data how to load the data\n",
    "# 2) __len__ (method) - returns the total number of samples ( helps to compute the total number of batches)\n",
    "# 3) __getitem__(index) - returns the data and the label at the given index\n",
    "\n",
    "# Dataloader Control Flow -\n",
    "# 1) At the start of each epoch, the Dataloader(if shuffle=True) shuffles indices(using a sampler)\n",
    "# 2) It divides the indices into clunk of batch size\n",
    "# 3) from each index in the chunk, data samples are fetched from the Dataset object using it's getitem(index) method\n",
    "# 4) The samples are then collected and combined into a batch using collate function\n",
    "# 5) The batch is returned to the training loop\n",
    "\n",
    "# The DataLoader does not compute all batches ahead of time. It creates one batch at a time on-the-fly, feeds it to the training loop, and only then proceeds to create the next batch."
   ],
   "id": "d040cdb57a42c32b",
   "outputs": [],
   "execution_count": 2
  },
  {
   "metadata": {
    "ExecuteTime": {
     "end_time": "2025-06-15T15:45:24.361726Z",
     "start_time": "2025-06-15T15:45:20.006683Z"
    }
   },
   "cell_type": "code",
   "source": [
    "from sklearn.datasets import make_classification\n",
    "import torch"
   ],
   "id": "9b2daff972c75849",
   "outputs": [],
   "execution_count": 1
  },
  {
   "metadata": {
    "ExecuteTime": {
     "end_time": "2025-06-15T15:54:39.631210Z",
     "start_time": "2025-06-15T15:54:39.625287Z"
    }
   },
   "cell_type": "code",
   "source": [
    "# Create synthetic data\n",
    "X, y = make_classification(\n",
    "    n_samples=10,\n",
    "    n_features=2,\n",
    "    n_informative=2,\n",
    "    n_redundant=0,\n",
    "    n_classes=2,\n",
    "    random_state=42\n",
    ")"
   ],
   "id": "e25187191d61e421",
   "outputs": [],
   "execution_count": 34
  },
  {
   "metadata": {
    "ExecuteTime": {
     "end_time": "2025-06-15T15:54:40.737451Z",
     "start_time": "2025-06-15T15:54:40.732530Z"
    }
   },
   "cell_type": "code",
   "source": "X",
   "id": "85b81a1a17845826",
   "outputs": [
    {
     "data": {
      "text/plain": [
       "array([[ 1.06833894, -0.97007347],\n",
       "       [-1.14021544, -0.83879234],\n",
       "       [-2.8953973 ,  1.97686236],\n",
       "       [-0.72063436, -0.96059253],\n",
       "       [-1.96287438, -0.99225135],\n",
       "       [-0.9382051 , -0.54304815],\n",
       "       [ 1.72725924, -1.18582677],\n",
       "       [ 1.77736657,  1.51157598],\n",
       "       [ 1.89969252,  0.83444483],\n",
       "       [-0.58723065, -1.97171753]])"
      ]
     },
     "execution_count": 35,
     "metadata": {},
     "output_type": "execute_result"
    }
   ],
   "execution_count": 35
  },
  {
   "metadata": {
    "ExecuteTime": {
     "end_time": "2025-06-15T15:54:42.157036Z",
     "start_time": "2025-06-15T15:54:42.151953Z"
    }
   },
   "cell_type": "code",
   "source": "y",
   "id": "829a746552edc519",
   "outputs": [
    {
     "data": {
      "text/plain": [
       "array([1, 0, 0, 0, 0, 1, 1, 1, 1, 0])"
      ]
     },
     "execution_count": 36,
     "metadata": {},
     "output_type": "execute_result"
    }
   ],
   "execution_count": 36
  },
  {
   "metadata": {
    "ExecuteTime": {
     "end_time": "2025-06-15T15:54:43.583995Z",
     "start_time": "2025-06-15T15:54:43.579987Z"
    }
   },
   "cell_type": "code",
   "source": [
    "print(X.shape)\n",
    "print(y.shape)"
   ],
   "id": "d09455220a2df09f",
   "outputs": [
    {
     "name": "stdout",
     "output_type": "stream",
     "text": [
      "(10, 2)\n",
      "(10,)\n"
     ]
    }
   ],
   "execution_count": 37
  },
  {
   "metadata": {
    "ExecuteTime": {
     "end_time": "2025-06-15T15:54:44.846181Z",
     "start_time": "2025-06-15T15:54:44.842276Z"
    }
   },
   "cell_type": "code",
   "source": [
    "X = torch.tensor(X, dtype=torch.float32)\n",
    "y = torch.tensor(y, dtype=torch.long)"
   ],
   "id": "34c700f524cc58ea",
   "outputs": [],
   "execution_count": 38
  },
  {
   "metadata": {
    "ExecuteTime": {
     "end_time": "2025-06-15T15:54:45.733984Z",
     "start_time": "2025-06-15T15:54:45.729382Z"
    }
   },
   "cell_type": "code",
   "source": "from torch.utils.data import Dataset, DataLoader",
   "id": "54582f4b665d97af",
   "outputs": [],
   "execution_count": 39
  },
  {
   "metadata": {
    "ExecuteTime": {
     "end_time": "2025-06-15T15:54:47.001656Z",
     "start_time": "2025-06-15T15:54:46.997222Z"
    }
   },
   "cell_type": "code",
   "source": [
    "# we can add transformations in the getitem fnc eg\n",
    "# resizing, b/w, augmentation for image datasets\n",
    "# or lemmatization, stopword removal, convert to lower case etc\n",
    "\n",
    "class Customdataset(Dataset):\n",
    "    def __init__(self, features, labels):\n",
    "        self.features = features\n",
    "        self.labels = labels\n",
    "    def __len__(self):\n",
    "        return self.features.shape[0]\n",
    "    def __getitem__(self, index):\n",
    "        return self.features[index], self.labels[index]"
   ],
   "id": "7477bd8533ddf258",
   "outputs": [],
   "execution_count": 40
  },
  {
   "metadata": {
    "ExecuteTime": {
     "end_time": "2025-06-15T15:54:48.438066Z",
     "start_time": "2025-06-15T15:54:48.433196Z"
    }
   },
   "cell_type": "code",
   "source": "dataset = Customdataset(X,y)",
   "id": "8573b29072286447",
   "outputs": [],
   "execution_count": 41
  },
  {
   "metadata": {
    "ExecuteTime": {
     "end_time": "2025-06-15T15:46:07.985675Z",
     "start_time": "2025-06-15T15:46:07.980444Z"
    }
   },
   "cell_type": "code",
   "source": "len(dataset)",
   "id": "5650a4a53e1a84dd",
   "outputs": [
    {
     "data": {
      "text/plain": [
       "10"
      ]
     },
     "execution_count": 10,
     "metadata": {},
     "output_type": "execute_result"
    }
   ],
   "execution_count": 10
  },
  {
   "metadata": {
    "ExecuteTime": {
     "end_time": "2025-06-15T15:54:49.563457Z",
     "start_time": "2025-06-15T15:54:49.558227Z"
    }
   },
   "cell_type": "code",
   "source": "dataset[0]",
   "id": "69666342721422f0",
   "outputs": [
    {
     "data": {
      "text/plain": [
       "(tensor([ 1.0683, -0.9701]), tensor(1))"
      ]
     },
     "execution_count": 42,
     "metadata": {},
     "output_type": "execute_result"
    }
   ],
   "execution_count": 42
  },
  {
   "metadata": {
    "ExecuteTime": {
     "end_time": "2025-06-15T15:54:51.218330Z",
     "start_time": "2025-06-15T15:54:51.214196Z"
    }
   },
   "cell_type": "code",
   "source": [
    "# We can use parallelization to create batches in the dataloader class using \"workers\"\n",
    "# Also we can use different sampling strategy in PyTorch\n",
    "# like SequentialSampling or RandomSampling, or even Custom Sampling etc\n",
    "\n",
    "# Collate Function: The collate_fn in PyTorch's DataLoader is a function that specifies\n",
    "# how to combine a list of samples from a dataset into a single batch.\n",
    "# By default, the DataLoader uses a simple batch collation mechanism,\n",
    "# but collate_fn allows you to customize how the data should be processed and batched\n",
    "# the collate function also can be used to add padding in the dataset to match shape\n",
    "# of tensors such that they could be stacked\n",
    "\n",
    "dataloader = DataLoader(dataset, batch_size=2, shuffle=False) # dataloader is an iterable"
   ],
   "id": "125ccf1d9a60fd0c",
   "outputs": [],
   "execution_count": 43
  },
  {
   "metadata": {
    "ExecuteTime": {
     "end_time": "2025-06-15T15:54:54.508654Z",
     "start_time": "2025-06-15T15:54:54.499339Z"
    }
   },
   "cell_type": "code",
   "source": [
    "for batch_features, batch_labels in dataloader:\n",
    "    print(batch_features)\n",
    "    print(batch_labels)\n",
    "    print(\"-\"*40)"
   ],
   "id": "c7576532db93092f",
   "outputs": [
    {
     "name": "stdout",
     "output_type": "stream",
     "text": [
      "tensor([[ 1.0683, -0.9701],\n",
      "        [-1.1402, -0.8388]])\n",
      "tensor([1, 0])\n",
      "----------------------------------------\n",
      "tensor([[-2.8954,  1.9769],\n",
      "        [-0.7206, -0.9606]])\n",
      "tensor([0, 0])\n",
      "----------------------------------------\n",
      "tensor([[-1.9629, -0.9923],\n",
      "        [-0.9382, -0.5430]])\n",
      "tensor([0, 1])\n",
      "----------------------------------------\n",
      "tensor([[ 1.7273, -1.1858],\n",
      "        [ 1.7774,  1.5116]])\n",
      "tensor([1, 1])\n",
      "----------------------------------------\n",
      "tensor([[ 1.8997,  0.8344],\n",
      "        [-0.5872, -1.9717]])\n",
      "tensor([1, 0])\n",
      "----------------------------------------\n"
     ]
    }
   ],
   "execution_count": 44
  },
  {
   "metadata": {
    "ExecuteTime": {
     "end_time": "2025-06-16T10:28:29.799946Z",
     "start_time": "2025-06-16T10:28:25.664404Z"
    }
   },
   "cell_type": "code",
   "source": [
    "# Implementing mini batch gradient descent in our dataset\n",
    "\n",
    "import numpy as np\n",
    "import pandas as pd\n",
    "import torch\n",
    "from sklearn.model_selection import train_test_split\n",
    "from sklearn.preprocessing import StandardScaler, LabelEncoder"
   ],
   "id": "bee90582c0c05964",
   "outputs": [],
   "execution_count": 1
  },
  {
   "metadata": {
    "ExecuteTime": {
     "end_time": "2025-06-16T10:30:04.665160Z",
     "start_time": "2025-06-16T10:30:04.164395Z"
    }
   },
   "cell_type": "code",
   "source": [
    "df = pd.read_csv('https://raw.githubusercontent.com/gscdit/Breast-Cancer-Detection/refs/heads/master/data.csv')\n",
    "df.head()"
   ],
   "id": "2396a72f17d38379",
   "outputs": [
    {
     "data": {
      "text/plain": [
       "         id diagnosis  radius_mean  texture_mean  perimeter_mean  area_mean  \\\n",
       "0    842302         M        17.99         10.38          122.80     1001.0   \n",
       "1    842517         M        20.57         17.77          132.90     1326.0   \n",
       "2  84300903         M        19.69         21.25          130.00     1203.0   \n",
       "3  84348301         M        11.42         20.38           77.58      386.1   \n",
       "4  84358402         M        20.29         14.34          135.10     1297.0   \n",
       "\n",
       "   smoothness_mean  compactness_mean  concavity_mean  concave points_mean  \\\n",
       "0          0.11840           0.27760          0.3001              0.14710   \n",
       "1          0.08474           0.07864          0.0869              0.07017   \n",
       "2          0.10960           0.15990          0.1974              0.12790   \n",
       "3          0.14250           0.28390          0.2414              0.10520   \n",
       "4          0.10030           0.13280          0.1980              0.10430   \n",
       "\n",
       "   ...  texture_worst  perimeter_worst  area_worst  smoothness_worst  \\\n",
       "0  ...          17.33           184.60      2019.0            0.1622   \n",
       "1  ...          23.41           158.80      1956.0            0.1238   \n",
       "2  ...          25.53           152.50      1709.0            0.1444   \n",
       "3  ...          26.50            98.87       567.7            0.2098   \n",
       "4  ...          16.67           152.20      1575.0            0.1374   \n",
       "\n",
       "   compactness_worst  concavity_worst  concave points_worst  symmetry_worst  \\\n",
       "0             0.6656           0.7119                0.2654          0.4601   \n",
       "1             0.1866           0.2416                0.1860          0.2750   \n",
       "2             0.4245           0.4504                0.2430          0.3613   \n",
       "3             0.8663           0.6869                0.2575          0.6638   \n",
       "4             0.2050           0.4000                0.1625          0.2364   \n",
       "\n",
       "   fractal_dimension_worst  Unnamed: 32  \n",
       "0                  0.11890          NaN  \n",
       "1                  0.08902          NaN  \n",
       "2                  0.08758          NaN  \n",
       "3                  0.17300          NaN  \n",
       "4                  0.07678          NaN  \n",
       "\n",
       "[5 rows x 33 columns]"
      ],
      "text/html": [
       "<div>\n",
       "<style scoped>\n",
       "    .dataframe tbody tr th:only-of-type {\n",
       "        vertical-align: middle;\n",
       "    }\n",
       "\n",
       "    .dataframe tbody tr th {\n",
       "        vertical-align: top;\n",
       "    }\n",
       "\n",
       "    .dataframe thead th {\n",
       "        text-align: right;\n",
       "    }\n",
       "</style>\n",
       "<table border=\"1\" class=\"dataframe\">\n",
       "  <thead>\n",
       "    <tr style=\"text-align: right;\">\n",
       "      <th></th>\n",
       "      <th>id</th>\n",
       "      <th>diagnosis</th>\n",
       "      <th>radius_mean</th>\n",
       "      <th>texture_mean</th>\n",
       "      <th>perimeter_mean</th>\n",
       "      <th>area_mean</th>\n",
       "      <th>smoothness_mean</th>\n",
       "      <th>compactness_mean</th>\n",
       "      <th>concavity_mean</th>\n",
       "      <th>concave points_mean</th>\n",
       "      <th>...</th>\n",
       "      <th>texture_worst</th>\n",
       "      <th>perimeter_worst</th>\n",
       "      <th>area_worst</th>\n",
       "      <th>smoothness_worst</th>\n",
       "      <th>compactness_worst</th>\n",
       "      <th>concavity_worst</th>\n",
       "      <th>concave points_worst</th>\n",
       "      <th>symmetry_worst</th>\n",
       "      <th>fractal_dimension_worst</th>\n",
       "      <th>Unnamed: 32</th>\n",
       "    </tr>\n",
       "  </thead>\n",
       "  <tbody>\n",
       "    <tr>\n",
       "      <th>0</th>\n",
       "      <td>842302</td>\n",
       "      <td>M</td>\n",
       "      <td>17.99</td>\n",
       "      <td>10.38</td>\n",
       "      <td>122.80</td>\n",
       "      <td>1001.0</td>\n",
       "      <td>0.11840</td>\n",
       "      <td>0.27760</td>\n",
       "      <td>0.3001</td>\n",
       "      <td>0.14710</td>\n",
       "      <td>...</td>\n",
       "      <td>17.33</td>\n",
       "      <td>184.60</td>\n",
       "      <td>2019.0</td>\n",
       "      <td>0.1622</td>\n",
       "      <td>0.6656</td>\n",
       "      <td>0.7119</td>\n",
       "      <td>0.2654</td>\n",
       "      <td>0.4601</td>\n",
       "      <td>0.11890</td>\n",
       "      <td>NaN</td>\n",
       "    </tr>\n",
       "    <tr>\n",
       "      <th>1</th>\n",
       "      <td>842517</td>\n",
       "      <td>M</td>\n",
       "      <td>20.57</td>\n",
       "      <td>17.77</td>\n",
       "      <td>132.90</td>\n",
       "      <td>1326.0</td>\n",
       "      <td>0.08474</td>\n",
       "      <td>0.07864</td>\n",
       "      <td>0.0869</td>\n",
       "      <td>0.07017</td>\n",
       "      <td>...</td>\n",
       "      <td>23.41</td>\n",
       "      <td>158.80</td>\n",
       "      <td>1956.0</td>\n",
       "      <td>0.1238</td>\n",
       "      <td>0.1866</td>\n",
       "      <td>0.2416</td>\n",
       "      <td>0.1860</td>\n",
       "      <td>0.2750</td>\n",
       "      <td>0.08902</td>\n",
       "      <td>NaN</td>\n",
       "    </tr>\n",
       "    <tr>\n",
       "      <th>2</th>\n",
       "      <td>84300903</td>\n",
       "      <td>M</td>\n",
       "      <td>19.69</td>\n",
       "      <td>21.25</td>\n",
       "      <td>130.00</td>\n",
       "      <td>1203.0</td>\n",
       "      <td>0.10960</td>\n",
       "      <td>0.15990</td>\n",
       "      <td>0.1974</td>\n",
       "      <td>0.12790</td>\n",
       "      <td>...</td>\n",
       "      <td>25.53</td>\n",
       "      <td>152.50</td>\n",
       "      <td>1709.0</td>\n",
       "      <td>0.1444</td>\n",
       "      <td>0.4245</td>\n",
       "      <td>0.4504</td>\n",
       "      <td>0.2430</td>\n",
       "      <td>0.3613</td>\n",
       "      <td>0.08758</td>\n",
       "      <td>NaN</td>\n",
       "    </tr>\n",
       "    <tr>\n",
       "      <th>3</th>\n",
       "      <td>84348301</td>\n",
       "      <td>M</td>\n",
       "      <td>11.42</td>\n",
       "      <td>20.38</td>\n",
       "      <td>77.58</td>\n",
       "      <td>386.1</td>\n",
       "      <td>0.14250</td>\n",
       "      <td>0.28390</td>\n",
       "      <td>0.2414</td>\n",
       "      <td>0.10520</td>\n",
       "      <td>...</td>\n",
       "      <td>26.50</td>\n",
       "      <td>98.87</td>\n",
       "      <td>567.7</td>\n",
       "      <td>0.2098</td>\n",
       "      <td>0.8663</td>\n",
       "      <td>0.6869</td>\n",
       "      <td>0.2575</td>\n",
       "      <td>0.6638</td>\n",
       "      <td>0.17300</td>\n",
       "      <td>NaN</td>\n",
       "    </tr>\n",
       "    <tr>\n",
       "      <th>4</th>\n",
       "      <td>84358402</td>\n",
       "      <td>M</td>\n",
       "      <td>20.29</td>\n",
       "      <td>14.34</td>\n",
       "      <td>135.10</td>\n",
       "      <td>1297.0</td>\n",
       "      <td>0.10030</td>\n",
       "      <td>0.13280</td>\n",
       "      <td>0.1980</td>\n",
       "      <td>0.10430</td>\n",
       "      <td>...</td>\n",
       "      <td>16.67</td>\n",
       "      <td>152.20</td>\n",
       "      <td>1575.0</td>\n",
       "      <td>0.1374</td>\n",
       "      <td>0.2050</td>\n",
       "      <td>0.4000</td>\n",
       "      <td>0.1625</td>\n",
       "      <td>0.2364</td>\n",
       "      <td>0.07678</td>\n",
       "      <td>NaN</td>\n",
       "    </tr>\n",
       "  </tbody>\n",
       "</table>\n",
       "<p>5 rows × 33 columns</p>\n",
       "</div>"
      ]
     },
     "execution_count": 6,
     "metadata": {},
     "output_type": "execute_result"
    }
   ],
   "execution_count": 6
  },
  {
   "metadata": {
    "ExecuteTime": {
     "end_time": "2025-06-16T10:30:06.276632Z",
     "start_time": "2025-06-16T10:30:06.258862Z"
    }
   },
   "cell_type": "code",
   "source": [
    "# Remove unwanted columns\n",
    "\n",
    "df = df.drop(columns=['id','Unnamed: 32'])\n",
    "X_train, X_test, y_train, y_test = train_test_split(df.iloc[:,1:], df.iloc[:,0], test_size=0.2)\n",
    "\n",
    "# Scaling\n",
    "scalar = StandardScaler()\n",
    "X_train = scalar.fit_transform(X_train)\n",
    "X_test = scalar.transform(X_test)\n",
    "\n",
    "encoder = LabelEncoder()\n",
    "y_train = encoder.fit_transform(y_train)\n",
    "y_test = encoder.transform(y_test)\n",
    "\n",
    "X_train_tensor = torch.from_numpy(X_train.astype(np.float32))\n",
    "X_test_tensor = torch.from_numpy(X_test.astype(np.float32))\n",
    "y_train_tensor = torch.from_numpy(y_train.astype(np.float32))\n",
    "y_test_tensor = torch.from_numpy(y_test.astype(np.float32))"
   ],
   "id": "3acac31be2727b00",
   "outputs": [],
   "execution_count": 7
  },
  {
   "metadata": {
    "ExecuteTime": {
     "end_time": "2025-06-16T10:30:28.078239Z",
     "start_time": "2025-06-16T10:30:28.074174Z"
    }
   },
   "cell_type": "code",
   "source": [
    "# defining params\n",
    "\n",
    "lr = 0.1\n",
    "epochs = 25"
   ],
   "id": "e6cca3bb131380cc",
   "outputs": [],
   "execution_count": 8
  },
  {
   "metadata": {
    "ExecuteTime": {
     "end_time": "2025-06-16T10:35:29.746281Z",
     "start_time": "2025-06-16T10:35:29.742190Z"
    }
   },
   "cell_type": "code",
   "source": [
    "from torch.utils.data import Dataset, DataLoader\n",
    "\n",
    "class CustomDataset(Dataset):\n",
    "    def __init__(self, features, labels):\n",
    "        self.features = features\n",
    "        self.labels = labels\n",
    "    def __len__(self):\n",
    "        return len(self.features)\n",
    "    def __getitem__(self, idx):\n",
    "        return self.features[idx], self.labels[idx]"
   ],
   "id": "2bdfeb13ed20daec",
   "outputs": [],
   "execution_count": 10
  },
  {
   "metadata": {
    "ExecuteTime": {
     "end_time": "2025-06-16T10:35:30.975364Z",
     "start_time": "2025-06-16T10:35:30.972432Z"
    }
   },
   "cell_type": "code",
   "source": [
    "train_dataset = CustomDataset(X_train_tensor, y_train_tensor)\n",
    "test_dataset = CustomDataset(X_test_tensor, y_test_tensor)"
   ],
   "id": "f69f6328e8570cf9",
   "outputs": [],
   "execution_count": 11
  },
  {
   "metadata": {
    "ExecuteTime": {
     "end_time": "2025-06-16T10:37:08.343835Z",
     "start_time": "2025-06-16T10:37:08.340558Z"
    }
   },
   "cell_type": "code",
   "source": [
    "train_loader = DataLoader(train_dataset, batch_size=32, shuffle=True)\n",
    "test_loader = DataLoader(test_dataset, batch_size=32, shuffle=True)"
   ],
   "id": "459ae3d3c36954ee",
   "outputs": [],
   "execution_count": 15
  },
  {
   "metadata": {
    "ExecuteTime": {
     "end_time": "2025-06-16T10:39:58.673976Z",
     "start_time": "2025-06-16T10:39:58.669455Z"
    }
   },
   "cell_type": "code",
   "source": [
    "# Defining the model\n",
    "\n",
    "import torch.nn as nn\n",
    "\n",
    "class Model(nn.Module):\n",
    "    def __init__(self, num_features):\n",
    "        super().__init__()\n",
    "        self.linear = nn.Linear(num_features, 1)\n",
    "        self.sigmoid = nn.Sigmoid()\n",
    "    def forward(self, features):\n",
    "        out = self.linear(features)\n",
    "        return self.sigmoid(out)\n"
   ],
   "id": "309f8891e0cbd79c",
   "outputs": [],
   "execution_count": 16
  },
  {
   "metadata": {
    "ExecuteTime": {
     "end_time": "2025-06-16T10:41:25.878433Z",
     "start_time": "2025-06-16T10:41:22.580416Z"
    }
   },
   "cell_type": "code",
   "source": [
    "model = Model(X_train_tensor.shape[1])\n",
    "optimizer = torch.optim.SGD(model.parameters(), lr=lr)\n",
    "loss_fnc = nn.BCELoss()"
   ],
   "id": "5517418c833d5009",
   "outputs": [],
   "execution_count": 17
  },
  {
   "metadata": {
    "ExecuteTime": {
     "end_time": "2025-06-16T10:44:01.230977Z",
     "start_time": "2025-06-16T10:44:00.968430Z"
    }
   },
   "cell_type": "code",
   "source": [
    "# Training Pipeline\n",
    "\n",
    "for epoch in range(epochs):\n",
    "    for batch_features, batch_labels in train_loader:\n",
    "        y_pred = model(batch_features)\n",
    "        loss = loss_fnc(y_pred, batch_labels.view(-1,1))\n",
    "        optimizer.zero_grad()\n",
    "        loss.backward()\n",
    "        optimizer.step()\n",
    "    print(f'Epoch: {epoch +1}; Loss: {loss.item()}')"
   ],
   "id": "b1bf63602bad755b",
   "outputs": [
    {
     "name": "stdout",
     "output_type": "stream",
     "text": [
      "Epoch: 1; Loss: 0.20699556171894073\n",
      "Epoch: 2; Loss: 0.1118301972746849\n",
      "Epoch: 3; Loss: 0.04124685004353523\n",
      "Epoch: 4; Loss: 0.08356057107448578\n",
      "Epoch: 5; Loss: 0.19416038691997528\n",
      "Epoch: 6; Loss: 0.24464444816112518\n",
      "Epoch: 7; Loss: 0.07760419696569443\n",
      "Epoch: 8; Loss: 0.022640526294708252\n",
      "Epoch: 9; Loss: 0.15886230766773224\n",
      "Epoch: 10; Loss: 0.032993268221616745\n",
      "Epoch: 11; Loss: 0.19908329844474792\n",
      "Epoch: 12; Loss: 0.08610797673463821\n",
      "Epoch: 13; Loss: 0.05480613932013512\n",
      "Epoch: 14; Loss: 0.16784854233264923\n",
      "Epoch: 15; Loss: 0.13493098318576813\n",
      "Epoch: 16; Loss: 0.024807393550872803\n",
      "Epoch: 17; Loss: 0.04849928617477417\n",
      "Epoch: 18; Loss: 0.0037712904158979654\n",
      "Epoch: 19; Loss: 0.010698357596993446\n",
      "Epoch: 20; Loss: 0.35846811532974243\n",
      "Epoch: 21; Loss: 0.37119072675704956\n",
      "Epoch: 22; Loss: 0.11330819129943848\n",
      "Epoch: 23; Loss: 0.06803764402866364\n",
      "Epoch: 24; Loss: 0.030997639521956444\n",
      "Epoch: 25; Loss: 0.04944058880209923\n"
     ]
    }
   ],
   "execution_count": 18
  },
  {
   "metadata": {
    "ExecuteTime": {
     "end_time": "2025-06-16T10:54:12.086340Z",
     "start_time": "2025-06-16T10:54:12.081540Z"
    }
   },
   "cell_type": "code",
   "source": [
    "# Evaluation\n",
    "\n",
    "model.eval() # Set the model to evaluation mode\n",
    "\n",
    "accuracy_list = []\n",
    "\n",
    "with torch.no_grad():\n",
    "    for batch_features, batch_labels in test_loader:\n",
    "        # Forward pass\n",
    "        y_pred = model(batch_features)\n",
    "        y_pred = (y_pred > 0.8).float()\n",
    "        # Calculate accuracy for the current batch\n",
    "        batch_accuracy = (y_pred.view(-1) == batch_labels).float().mean().item()\n",
    "        print(batch_accuracy)\n",
    "        accuracy_list.append(batch_accuracy)\n",
    "\n",
    "# Calculate overall accuracy\n",
    "overall_accuracy = sum(accuracy_list) / len(accuracy_list)\n",
    "print(f'Accuracy: {overall_accuracy:.4f}')"
   ],
   "id": "807fbd3640bb3b29",
   "outputs": [
    {
     "name": "stdout",
     "output_type": "stream",
     "text": [
      "0.9375\n",
      "1.0\n",
      "0.9375\n",
      "0.9444444179534912\n",
      "Accuracy: 0.9549\n"
     ]
    }
   ],
   "execution_count": 21
  },
  {
   "metadata": {},
   "cell_type": "markdown",
   "source": [
    "### Building an ANN on fashion MNIST data\n",
    "#### The ANN will have an input layers with 784 nodes as there are 784 different features\n",
    "#### then we will have 2 hidden layers\n",
    "#### 1st hidden layer with 128 neurons (with relu)\n",
    "#### 2nd hidden layer with 64 neurons (with relu)\n",
    "#### output layer with 10 neurons as there are 10 classes (with softmax activation because of multi-class classification problem)\n",
    "\n",
    "##### Workflow: 1) Dataloader objects -> 2) Training loop -> 3) Evaluation"
   ],
   "id": "72c6e740884c69fc"
  },
  {
   "metadata": {
    "ExecuteTime": {
     "end_time": "2025-06-16T14:59:57.300879Z",
     "start_time": "2025-06-16T14:59:56.279385Z"
    }
   },
   "cell_type": "code",
   "source": [
    "import pandas as pd\n",
    "import numpy as np\n",
    "import matplotlib.pyplot as plt\n",
    "from sklearn.model_selection import train_test_split\n",
    "import torch\n",
    "import torch.nn as nn\n",
    "import torch.optim as optim\n",
    "from torch.utils.data import Dataset, DataLoader"
   ],
   "id": "34d1050d44b95629",
   "outputs": [],
   "execution_count": 23
  },
  {
   "metadata": {
    "ExecuteTime": {
     "end_time": "2025-06-16T15:00:11.796840Z",
     "start_time": "2025-06-16T15:00:11.783750Z"
    }
   },
   "cell_type": "code",
   "source": "torch.manual_seed(42)",
   "id": "f8f68857168335c3",
   "outputs": [
    {
     "data": {
      "text/plain": [
       "<torch._C.Generator at 0x7da91e81b8f0>"
      ]
     },
     "execution_count": 24,
     "metadata": {},
     "output_type": "execute_result"
    }
   ],
   "execution_count": 24
  },
  {
   "metadata": {
    "ExecuteTime": {
     "end_time": "2025-06-16T15:00:17.270574Z",
     "start_time": "2025-06-16T15:00:17.069486Z"
    }
   },
   "cell_type": "code",
   "source": [
    "df = pd.read_csv('/home/ml02/Downloads/PyTorch/fmnist_small.csv')\n",
    "df.head()\n",
    "\n",
    "# The dataset has 785 columns as the first column is the label and the rest 784 columns are flattened value of every pixel\n",
    "# of our 28x28 resolution image"
   ],
   "id": "39af9feff088fe4e",
   "outputs": [
    {
     "data": {
      "text/plain": [
       "   label  pixel1  pixel2  pixel3  pixel4  pixel5  pixel6  pixel7  pixel8  \\\n",
       "0      9       0       0       0       0       0       0       0       0   \n",
       "1      7       0       0       0       0       0       0       0       0   \n",
       "2      0       0       0       0       0       0       1       0       0   \n",
       "3      8       0       0       0       0       0       0       0       0   \n",
       "4      8       0       0       0       0       0       0       0       0   \n",
       "\n",
       "   pixel9  ...  pixel775  pixel776  pixel777  pixel778  pixel779  pixel780  \\\n",
       "0       0  ...         0         7         0        50       205       196   \n",
       "1       0  ...         0         0         0         0         0         0   \n",
       "2       0  ...       142       142       142        21         0         3   \n",
       "3       0  ...         0         0         0         0         0         0   \n",
       "4       0  ...       213       203       174       151       188        10   \n",
       "\n",
       "   pixel781  pixel782  pixel783  pixel784  \n",
       "0       213       165         0         0  \n",
       "1         0         0         0         0  \n",
       "2         0         0         0         0  \n",
       "3         0         0         0         0  \n",
       "4         0         0         0         0  \n",
       "\n",
       "[5 rows x 785 columns]"
      ],
      "text/html": [
       "<div>\n",
       "<style scoped>\n",
       "    .dataframe tbody tr th:only-of-type {\n",
       "        vertical-align: middle;\n",
       "    }\n",
       "\n",
       "    .dataframe tbody tr th {\n",
       "        vertical-align: top;\n",
       "    }\n",
       "\n",
       "    .dataframe thead th {\n",
       "        text-align: right;\n",
       "    }\n",
       "</style>\n",
       "<table border=\"1\" class=\"dataframe\">\n",
       "  <thead>\n",
       "    <tr style=\"text-align: right;\">\n",
       "      <th></th>\n",
       "      <th>label</th>\n",
       "      <th>pixel1</th>\n",
       "      <th>pixel2</th>\n",
       "      <th>pixel3</th>\n",
       "      <th>pixel4</th>\n",
       "      <th>pixel5</th>\n",
       "      <th>pixel6</th>\n",
       "      <th>pixel7</th>\n",
       "      <th>pixel8</th>\n",
       "      <th>pixel9</th>\n",
       "      <th>...</th>\n",
       "      <th>pixel775</th>\n",
       "      <th>pixel776</th>\n",
       "      <th>pixel777</th>\n",
       "      <th>pixel778</th>\n",
       "      <th>pixel779</th>\n",
       "      <th>pixel780</th>\n",
       "      <th>pixel781</th>\n",
       "      <th>pixel782</th>\n",
       "      <th>pixel783</th>\n",
       "      <th>pixel784</th>\n",
       "    </tr>\n",
       "  </thead>\n",
       "  <tbody>\n",
       "    <tr>\n",
       "      <th>0</th>\n",
       "      <td>9</td>\n",
       "      <td>0</td>\n",
       "      <td>0</td>\n",
       "      <td>0</td>\n",
       "      <td>0</td>\n",
       "      <td>0</td>\n",
       "      <td>0</td>\n",
       "      <td>0</td>\n",
       "      <td>0</td>\n",
       "      <td>0</td>\n",
       "      <td>...</td>\n",
       "      <td>0</td>\n",
       "      <td>7</td>\n",
       "      <td>0</td>\n",
       "      <td>50</td>\n",
       "      <td>205</td>\n",
       "      <td>196</td>\n",
       "      <td>213</td>\n",
       "      <td>165</td>\n",
       "      <td>0</td>\n",
       "      <td>0</td>\n",
       "    </tr>\n",
       "    <tr>\n",
       "      <th>1</th>\n",
       "      <td>7</td>\n",
       "      <td>0</td>\n",
       "      <td>0</td>\n",
       "      <td>0</td>\n",
       "      <td>0</td>\n",
       "      <td>0</td>\n",
       "      <td>0</td>\n",
       "      <td>0</td>\n",
       "      <td>0</td>\n",
       "      <td>0</td>\n",
       "      <td>...</td>\n",
       "      <td>0</td>\n",
       "      <td>0</td>\n",
       "      <td>0</td>\n",
       "      <td>0</td>\n",
       "      <td>0</td>\n",
       "      <td>0</td>\n",
       "      <td>0</td>\n",
       "      <td>0</td>\n",
       "      <td>0</td>\n",
       "      <td>0</td>\n",
       "    </tr>\n",
       "    <tr>\n",
       "      <th>2</th>\n",
       "      <td>0</td>\n",
       "      <td>0</td>\n",
       "      <td>0</td>\n",
       "      <td>0</td>\n",
       "      <td>0</td>\n",
       "      <td>0</td>\n",
       "      <td>1</td>\n",
       "      <td>0</td>\n",
       "      <td>0</td>\n",
       "      <td>0</td>\n",
       "      <td>...</td>\n",
       "      <td>142</td>\n",
       "      <td>142</td>\n",
       "      <td>142</td>\n",
       "      <td>21</td>\n",
       "      <td>0</td>\n",
       "      <td>3</td>\n",
       "      <td>0</td>\n",
       "      <td>0</td>\n",
       "      <td>0</td>\n",
       "      <td>0</td>\n",
       "    </tr>\n",
       "    <tr>\n",
       "      <th>3</th>\n",
       "      <td>8</td>\n",
       "      <td>0</td>\n",
       "      <td>0</td>\n",
       "      <td>0</td>\n",
       "      <td>0</td>\n",
       "      <td>0</td>\n",
       "      <td>0</td>\n",
       "      <td>0</td>\n",
       "      <td>0</td>\n",
       "      <td>0</td>\n",
       "      <td>...</td>\n",
       "      <td>0</td>\n",
       "      <td>0</td>\n",
       "      <td>0</td>\n",
       "      <td>0</td>\n",
       "      <td>0</td>\n",
       "      <td>0</td>\n",
       "      <td>0</td>\n",
       "      <td>0</td>\n",
       "      <td>0</td>\n",
       "      <td>0</td>\n",
       "    </tr>\n",
       "    <tr>\n",
       "      <th>4</th>\n",
       "      <td>8</td>\n",
       "      <td>0</td>\n",
       "      <td>0</td>\n",
       "      <td>0</td>\n",
       "      <td>0</td>\n",
       "      <td>0</td>\n",
       "      <td>0</td>\n",
       "      <td>0</td>\n",
       "      <td>0</td>\n",
       "      <td>0</td>\n",
       "      <td>...</td>\n",
       "      <td>213</td>\n",
       "      <td>203</td>\n",
       "      <td>174</td>\n",
       "      <td>151</td>\n",
       "      <td>188</td>\n",
       "      <td>10</td>\n",
       "      <td>0</td>\n",
       "      <td>0</td>\n",
       "      <td>0</td>\n",
       "      <td>0</td>\n",
       "    </tr>\n",
       "  </tbody>\n",
       "</table>\n",
       "<p>5 rows × 785 columns</p>\n",
       "</div>"
      ]
     },
     "execution_count": 25,
     "metadata": {},
     "output_type": "execute_result"
    }
   ],
   "execution_count": 25
  },
  {
   "metadata": {
    "ExecuteTime": {
     "end_time": "2025-06-16T15:11:54.835522Z",
     "start_time": "2025-06-16T15:11:53.715370Z"
    }
   },
   "cell_type": "code",
   "source": [
    "# Creating grid to visualize image\n",
    "\n",
    "fig, axes = plt.subplots(4,4, figsize=(10,10))\n",
    "fig.suptitle(\"First 16 images\", fontsize = 12)\n",
    "\n",
    "# Plotting\n",
    "for i,ax in enumerate(axes.flat):\n",
    "    img = df.iloc[i,1:].values.reshape(28,28) # reshaping to the original image size\n",
    "    ax.imshow(img) # Will display in grayscale\n",
    "    ax.axis('off') # Removes the axis\n",
    "    ax.set_title(f\"Label: {df.iloc[i,0]}\")\n",
    "plt.tight_layout(rect=[0,0,1,0.96])\n",
    "plt.show()"
   ],
   "id": "5b5a72428ea2041",
   "outputs": [
    {
     "data": {
      "text/plain": [
       "<Figure size 1000x1000 with 16 Axes>"
      ],
      "image/png": "[encoded data removed]"
     },
     "metadata": {},
     "output_type": "display_data"
    }
   ],
   "execution_count": 32
  },
  {
   "metadata": {
    "ExecuteTime": {
     "end_time": "2025-06-16T15:15:09.766025Z",
     "start_time": "2025-06-16T15:15:09.760613Z"
    }
   },
   "cell_type": "code",
   "source": [
    "# Train_test_split\n",
    "\n",
    "X = df.iloc[:,1:].values  # .values converts the pandas dataframe to numpy array\n",
    "y = df.iloc[:,0].values\n",
    "type(X)"
   ],
   "id": "6a97907d081c1e79",
   "outputs": [
    {
     "data": {
      "text/plain": [
       "numpy.ndarray"
      ]
     },
     "execution_count": 39,
     "metadata": {},
     "output_type": "execute_result"
    }
   ],
   "execution_count": 39
  },
  {
   "metadata": {
    "ExecuteTime": {
     "end_time": "2025-06-16T15:16:13.278936Z",
     "start_time": "2025-06-16T15:16:13.223524Z"
    }
   },
   "cell_type": "code",
   "source": "X_train, X_test, y_train, y_test = train_test_split(X, y, test_size=0.2, random_state=42)",
   "id": "cb0b79eb16ff3d85",
   "outputs": [],
   "execution_count": 41
  },
  {
   "metadata": {
    "ExecuteTime": {
     "end_time": "2025-06-16T15:17:12.414598Z",
     "start_time": "2025-06-16T15:17:12.394612Z"
    }
   },
   "cell_type": "code",
   "source": [
    "# Scaling the features\n",
    "X_train = X_train/255.0\n",
    "X_test = X_test/255.0"
   ],
   "id": "7be21fbad1e33173",
   "outputs": [],
   "execution_count": 42
  },
  {
   "metadata": {},
   "cell_type": "code",
   "outputs": [],
   "execution_count": null,
   "source": "",
   "id": "c06e32a2bb5f4ee0"
  }
 ],
 "metadata": {},
 "nbformat": 4,
 "nbformat_minor": 5
}
